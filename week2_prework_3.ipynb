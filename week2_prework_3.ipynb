{
  "nbformat": 4,
  "nbformat_minor": 0,
  "metadata": {
    "colab": {
      "name": "week2_prework_3.ipynb",
      "provenance": [],
      "collapsed_sections": []
    },
    "kernelspec": {
      "name": "python3",
      "display_name": "Python 3"
    }
  },
  "cells": [
    {
      "cell_type": "markdown",
      "metadata": {
        "id": "gFSHQXk_amfb",
        "colab_type": "text"
      },
      "source": [
        "#Week2 事前課題\n",
        "##課題３行列積のスクラッチ\n",
        "###【問題１】行列積の手計算\n",
        "3x3行列Aと同じく3x3行列Bの積ABを計算する\n",
        "\n",
        "\n",
        "$$\n",
        "\\boldsymbol{A} =\n",
        " \\left[\\begin{array}{c}\n",
        "            -1 & 2 & 3 \\\\\n",
        "             4 & -5 & 6 \\\\\n",
        "             7 & 8 & -9\n",
        "        \\end{array}\\right] \\quad  \\\n",
        "\\boldsymbol{B} = \n",
        " \\left[\\begin{array}{c}\n",
        "            0 & 2 & 1 \\\\\n",
        "            0 & 2 & -8 \\\\\n",
        "            2 & 9 & -1\n",
        "            \\end{array}\\right] \\quad\n",
        "$$\n",
        "$$\n",
        "\\begin{align} \\\\\n",
        "\\boldsymbol{A}\\boldsymbol{B_{11}} &= ( -1 \\cdot 0 )+( 2 \\cdot 0 )+( 3 \\cdot 2 )\\\\\n",
        "\\boldsymbol{A}\\boldsymbol{B_{12}} &=  (-1 \\cdot 2 )+( 2 \\cdot 2 )+( 3 \\cdot 9 )\\\\\n",
        "\\boldsymbol{A}\\boldsymbol{B_{13}} &= ( -1 \\cdot 1 )+( 2 \\cdot -8 )+( 3 \\cdot -1) \\\\\n",
        "\\boldsymbol{A}\\boldsymbol{B_{21}} &=  (4 \\cdot 0 )+( - 5 \\cdot 0 )+( 6 \\cdot 2 )\\\\\n",
        "\\boldsymbol{A}\\boldsymbol{B_{22}} &=  (4 \\cdot 2 )+( - 5 \\cdot 2 )+( 6 \\cdot 9 )\\\\\n",
        "\\boldsymbol{A}\\boldsymbol{B_{23}} &=  (4 \\cdot 1 )+( - 5 \\cdot -8 )+( 6 \\cdot -1 )\\\\\n",
        "\\boldsymbol{A}\\boldsymbol{B_{31}} &=  (7 \\cdot 0 )+( 8 \\cdot 0 )+( -9 \\cdot 2 )\\\\\n",
        "\\boldsymbol{A}\\boldsymbol{B_{32}} &=  (7 \\cdot 2 )+( 8 \\cdot 2 )+( -9 \\cdot 9 )\\\\\n",
        "\\boldsymbol{A}\\boldsymbol{B_{33}} &=  (7 \\cdot 1 )+( 8 \\cdot -8 )+( -9 \\cdot -1 )\\\\\n",
        "\\end{align} \\\\\n",
        "\\boldsymbol{A}\\boldsymbol{B} =  \\left[\\begin{array}{c}\n",
        "            6 & 29 & -20 \\\\\n",
        "            12 & 52 & 38 \\\\\n",
        "            -18 & -51 & -48 \\\\\n",
        "        \\end{array}\\right] \\quad  \\\n",
        "$$"
      ]
    },
    {
      "cell_type": "markdown",
      "metadata": {
        "id": "tT9qp4yHoXW2",
        "colab_type": "text"
      },
      "source": [
        "＃なお、ABとBAは結果が異なるので注意\n",
        "\n",
        "###【問題２】NumPyの関数による計算"
      ]
    },
    {
      "cell_type": "code",
      "metadata": {
        "id": "nJupVmgjpGS0",
        "colab_type": "code",
        "colab": {
          "base_uri": "https://localhost:8080/",
          "height": 68
        },
        "outputId": "7c83c8a6-0533-4905-f3e5-ea664cb06523"
      },
      "source": [
        "import numpy as np\n",
        "\n",
        "a_ndarray = np.array([[-1, 2, 3], [4, -5, 6], [7, 8, -9]])\n",
        "b_ndarray = np.array([[0, 2, 1], [0, 2, -8], [2, 9, -1]])\n",
        "\n",
        "print(np.dot(a_ndarray, b_ndarray))"
      ],
      "execution_count": 3,
      "outputs": [
        {
          "output_type": "stream",
          "text": [
            "[[  6  29 -20]\n",
            " [ 12  52  38]\n",
            " [-18 -51 -48]]\n"
          ],
          "name": "stdout"
        }
      ]
    },
    {
      "cell_type": "code",
      "metadata": {
        "id": "fb84HtgRpwV0",
        "colab_type": "code",
        "colab": {
          "base_uri": "https://localhost:8080/",
          "height": 68
        },
        "outputId": "268b1aa2-41fe-451c-b84c-0999dca64e8f"
      },
      "source": [
        "#行列積BAの場合\n",
        "print(np.dot(b_ndarray, a_ndarray))"
      ],
      "execution_count": 4,
      "outputs": [
        {
          "output_type": "stream",
          "text": [
            "[[ 15  -2   3]\n",
            " [-48 -74  84]\n",
            " [ 27 -49  69]]\n"
          ],
          "name": "stdout"
        }
      ]
    },
    {
      "cell_type": "markdown",
      "metadata": {
        "id": "XR2rp5Y_sLTe",
        "colab_type": "text"
      },
      "source": [
        "###【問題３】ある要素の計算を実装"
      ]
    },
    {
      "cell_type": "code",
      "metadata": {
        "id": "ITyEh7mfrIDN",
        "colab_type": "code",
        "colab": {
          "base_uri": "https://localhost:8080/",
          "height": 34
        },
        "outputId": "fcad53e7-0db7-47bb-b151-3fda34241bb4"
      },
      "source": [
        "\n",
        "val11 = 0\n",
        "for i in range(3):\n",
        "  val11 +=  a_ndarray[0, i] * b_ndarray[i, 0]\n",
        "\n",
        "print(val11)"
      ],
      "execution_count": 7,
      "outputs": [
        {
          "output_type": "stream",
          "text": [
            "6\n"
          ],
          "name": "stdout"
        }
      ]
    },
    {
      "cell_type": "markdown",
      "metadata": {
        "id": "IJyBxto0vVfM",
        "colab_type": "text"
      },
      "source": [
        "###【問題４】行列積を行う関数の作成"
      ]
    },
    {
      "cell_type": "code",
      "metadata": {
        "id": "h1QYu6zCuyM-",
        "colab_type": "code",
        "colab": {
          "base_uri": "https://localhost:8080/",
          "height": 68
        },
        "outputId": "c0095a44-913c-4b85-97e8-dd65427db14c"
      },
      "source": [
        "def dot_matrix_2dim(raw, col):\n",
        "  dimension2_product = np.array([]) #格納配列\n",
        "  \n",
        "  for i in range(3):\n",
        "    for k in range(3):\n",
        "      val1 = 0 #初期化\n",
        "      for j in range(3):\n",
        "        val1 += raw[i, j] * col[j, k]\n",
        "      dimension2_product = np.append(dimension2_product, val1)\n",
        "  \n",
        "  dimension2_product = dimension2_product.reshape(3, 3)\n",
        "\n",
        "  return dimension2_product\n",
        "\n",
        "print(dot_matrix_2dim(a_ndarray, b_ndarray))"
      ],
      "execution_count": 13,
      "outputs": [
        {
          "output_type": "stream",
          "text": [
            "[[  6.  29. -20.]\n",
            " [ 12.  52.  38.]\n",
            " [-18. -51. -48.]]\n"
          ],
          "name": "stdout"
        }
      ]
    },
    {
      "cell_type": "code",
      "metadata": {
        "id": "Ld2ovoqDzuQ9",
        "colab_type": "code",
        "colab": {}
      },
      "source": [
        ""
      ],
      "execution_count": 0,
      "outputs": []
    },
    {
      "cell_type": "markdown",
      "metadata": {
        "id": "MCG0ROVCXuah",
        "colab_type": "text"
      },
      "source": [
        "###【問題５】行列積関数の一般化"
      ]
    },
    {
      "cell_type": "code",
      "metadata": {
        "id": "PDYCx88kYDUD",
        "colab_type": "code",
        "colab": {
          "base_uri": "https://localhost:8080/",
          "height": 68
        },
        "outputId": "4dc1fcb0-8161-4b4d-890c-2a3f9dd24c74"
      },
      "source": [
        "def dot_matrix_2dim(raw, col):\n",
        "  dimension2_product = np.array([]) #格納配列\n",
        "  err_mess = \"sucsess\"\n",
        "\n",
        "  if raw.shape[1] != col.shape[0]: #判定\n",
        "    err_mess = \"列数と行数が一致しません\"\n",
        "    return print(err_mess)\n",
        "    \n",
        "  else:  \n",
        "    for i in range(raw.shape[0]):\n",
        "      for k in range(col.shape[1]):\n",
        "        val1 = 0 #初期化\n",
        "        for j in range(raw.shape[1]):\n",
        "          val1 += raw[i, j] * col[j, k]\n",
        "        dimension2_product = np.append(dimension2_product, val1)\n",
        "    dimension2_product = dimension2_product.reshape(raw.shape[0], col.shape[1])\n",
        "    return dimension2_product\n",
        "\n",
        "print(dot_matrix_2dim(a_ndarray, b_ndarray))"
      ],
      "execution_count": 28,
      "outputs": [
        {
          "output_type": "stream",
          "text": [
            "[[  6.  29. -20.]\n",
            " [ 12.  52.  38.]\n",
            " [-18. -51. -48.]]\n"
          ],
          "name": "stdout"
        }
      ]
    },
    {
      "cell_type": "code",
      "metadata": {
        "id": "YKFmrhseaVFH",
        "colab_type": "code",
        "colab": {
          "base_uri": "https://localhost:8080/",
          "height": 34
        },
        "outputId": "c0368d99-f2c7-4615-bd46-f43613a7a16d"
      },
      "source": [
        "\n",
        "#テスト\n",
        "d_ndarray = np.array([[-1, 2, 3], [4, -5, 6]])\n",
        "e_ndarray = np.array([[-9, 8, 7], [6, -5, 4]])\n",
        "\n",
        "dot_matrix_2dim(d_ndarray , e_ndarray)\n"
      ],
      "execution_count": 29,
      "outputs": [
        {
          "output_type": "stream",
          "text": [
            "列数と行数が一致しません\n"
          ],
          "name": "stdout"
        }
      ]
    },
    {
      "cell_type": "markdown",
      "metadata": {
        "id": "FO_Gc7p-eCmI",
        "colab_type": "text"
      },
      "source": [
        "【問題６】転置"
      ]
    },
    {
      "cell_type": "code",
      "metadata": {
        "id": "7YroCAUya1QN",
        "colab_type": "code",
        "colab": {
          "base_uri": "https://localhost:8080/",
          "height": 51
        },
        "outputId": "77ed9b5f-9003-432f-e391-1570e2dd2560"
      },
      "source": [
        "dot_matrix_2dim(d_ndarray , e_ndarray.T)"
      ],
      "execution_count": 30,
      "outputs": [
        {
          "output_type": "execute_result",
          "data": {
            "text/plain": [
              "array([[ 46.,  -4.],\n",
              "       [-34.,  73.]])"
            ]
          },
          "metadata": {
            "tags": []
          },
          "execution_count": 30
        }
      ]
    },
    {
      "cell_type": "code",
      "metadata": {
        "id": "D7ZfLsvceOTe",
        "colab_type": "code",
        "colab": {}
      },
      "source": [
        ""
      ],
      "execution_count": 0,
      "outputs": []
    }
  ]
}