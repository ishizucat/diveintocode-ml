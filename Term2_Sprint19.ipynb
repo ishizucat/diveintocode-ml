{
 "cells": [
  {
   "cell_type": "markdown",
   "metadata": {},
   "source": [
    "# Term2 Sprint19 セグメンテーション1\n",
    "\n",
    "本スプリントではコンピュータビジョンの代表的タスクであるセグメンテーションを学ぶ。\n",
    "\n",
    "公開されている実装を用いてKaggleコンペティションのデータでセグメンテーションを行う。\n",
    "\n",
    "KaggleのTGS Salt Identification Challengeのデータセットを使用し、U-NETのモデルを使用する。"
   ]
  },
  {
   "cell_type": "code",
   "execution_count": 0,
   "metadata": {
    "colab": {},
    "colab_type": "code",
    "id": "i-J0ktFqduBf"
   },
   "outputs": [],
   "source": [
    "#インストールパッケージ確認\n",
    "# import pkg_resources\n",
    "# for dist in pkg_resources.working_set:\n",
    "#   print(dist)"
   ]
  },
  {
   "cell_type": "code",
   "execution_count": 4,
   "metadata": {
    "colab": {
     "base_uri": "https://localhost:8080/",
     "height": 224
    },
    "colab_type": "code",
    "id": "4-ZhxZgIODRq",
    "outputId": "60ee83e1-8812-4990-9ae2-7d239a3362e1"
   },
   "outputs": [
    {
     "name": "stdout",
     "output_type": "stream",
     "text": [
      "Requirement already satisfied: kaggle in /usr/local/lib/python3.6/dist-packages (1.5.6)\n",
      "Requirement already satisfied: tqdm in /usr/local/lib/python3.6/dist-packages (from kaggle) (4.28.1)\n",
      "Requirement already satisfied: python-dateutil in /usr/local/lib/python3.6/dist-packages (from kaggle) (2.6.1)\n",
      "Requirement already satisfied: six>=1.10 in /usr/local/lib/python3.6/dist-packages (from kaggle) (1.12.0)\n",
      "Requirement already satisfied: urllib3<1.25,>=1.21.1 in /usr/local/lib/python3.6/dist-packages (from kaggle) (1.24.3)\n",
      "Requirement already satisfied: python-slugify in /usr/local/lib/python3.6/dist-packages (from kaggle) (4.0.0)\n",
      "Requirement already satisfied: requests in /usr/local/lib/python3.6/dist-packages (from kaggle) (2.21.0)\n",
      "Requirement already satisfied: certifi in /usr/local/lib/python3.6/dist-packages (from kaggle) (2019.11.28)\n",
      "Requirement already satisfied: text-unidecode>=1.3 in /usr/local/lib/python3.6/dist-packages (from python-slugify->kaggle) (1.3)\n",
      "Requirement already satisfied: idna<2.9,>=2.5 in /usr/local/lib/python3.6/dist-packages (from requests->kaggle) (2.8)\n",
      "Requirement already satisfied: chardet<3.1.0,>=3.0.2 in /usr/local/lib/python3.6/dist-packages (from requests->kaggle) (3.0.4)\n"
     ]
    }
   ],
   "source": [
    "!pip install kaggle"
   ]
  },
  {
   "cell_type": "code",
   "execution_count": 5,
   "metadata": {
    "colab": {
     "base_uri": "https://localhost:8080/",
     "height": 122
    },
    "colab_type": "code",
    "id": "1KT_h8uTONB6",
    "outputId": "e0c6d43c-cb2d-4f2d-ea9d-0d7eac5acc8c"
   },
   "outputs": [
    {
     "name": "stdout",
     "output_type": "stream",
     "text": [
      "Go to this URL in a browser: https://accounts.google.com/o/oauth2/auth?client_id=947318989803-6bn6qk8qdgf4n4g3pfee6491hc0brc4i.apps.googleusercontent.com&redirect_uri=urn%3aietf%3awg%3aoauth%3a2.0%3aoob&response_type=code&scope=email%20https%3a%2f%2fwww.googleapis.com%2fauth%2fdocs.test%20https%3a%2f%2fwww.googleapis.com%2fauth%2fdrive%20https%3a%2f%2fwww.googleapis.com%2fauth%2fdrive.photos.readonly%20https%3a%2f%2fwww.googleapis.com%2fauth%2fpeopleapi.readonly\n",
      "\n",
      "Enter your authorization code:\n",
      "··········\n",
      "Mounted at /content/drive/\n"
     ]
    }
   ],
   "source": [
    "from google.colab import drive\n",
    "drive.mount('/content/drive/')"
   ]
  },
  {
   "cell_type": "code",
   "execution_count": 0,
   "metadata": {
    "colab": {},
    "colab_type": "code",
    "id": "pUqAHgiOOQkh"
   },
   "outputs": [],
   "source": [
    "mkdir .kaggle"
   ]
  },
  {
   "cell_type": "code",
   "execution_count": 7,
   "metadata": {
    "colab": {
     "base_uri": "https://localhost:8080/",
     "height": 34
    },
    "colab_type": "code",
    "id": "LLijUdMrOYh8",
    "outputId": "c53b7e6f-3b59-4903-8c69-7e1a72adcc54"
   },
   "outputs": [
    {
     "name": "stdout",
     "output_type": "stream",
     "text": [
      "\u001b[0m\u001b[01;34m.\u001b[0m/  \u001b[01;34m..\u001b[0m/  \u001b[01;34m.config\u001b[0m/  \u001b[01;34mdrive\u001b[0m/  \u001b[01;34m.kaggle\u001b[0m/  \u001b[01;34msample_data\u001b[0m/\n"
     ]
    }
   ],
   "source": [
    "ls -a"
   ]
  },
  {
   "cell_type": "code",
   "execution_count": 0,
   "metadata": {
    "colab": {},
    "colab_type": "code",
    "id": "Ppwi4ZS_OvVY"
   },
   "outputs": [],
   "source": [
    "import json\n",
    "\n",
    "token = {\"username\":\"ishizucat\",\"key\":\"7ad9397c01d417573ba83f57a190fc46\"}\n",
    "with open('/content/.kaggle/kaggle.json', 'w') as file:\n",
    "    json.dump(token, file)"
   ]
  },
  {
   "cell_type": "code",
   "execution_count": 0,
   "metadata": {
    "colab": {},
    "colab_type": "code",
    "id": "kcOF2ug5Oa_2"
   },
   "outputs": [],
   "source": [
    "!chmod 600 /content/.kaggle/kaggle.json"
   ]
  },
  {
   "cell_type": "code",
   "execution_count": 0,
   "metadata": {
    "colab": {},
    "colab_type": "code",
    "id": "1PcPAEAJOpUS"
   },
   "outputs": [],
   "source": [
    "!cp /content/.kaggle/kaggle.json /root/.kaggle/kaggle.json"
   ]
  },
  {
   "cell_type": "code",
   "execution_count": 13,
   "metadata": {
    "colab": {
     "base_uri": "https://localhost:8080/",
     "height": 411
    },
    "colab_type": "code",
    "id": "KjVxg6lIO4-K",
    "outputId": "bdc7dc0b-3de4-4601-8845-e1a9bfcb84dd"
   },
   "outputs": [
    {
     "name": "stdout",
     "output_type": "stream",
     "text": [
      "Warning: Looks like you're using an outdated API Version, please consider updating (server 1.5.6 / client 1.5.4)\n",
      "Downloading test.zip to /content\n",
      " 95% 155M/163M [00:01<00:00, 68.9MB/s]\n",
      "100% 163M/163M [00:01<00:00, 91.6MB/s]\n",
      "Downloading train.zip to /content\n",
      " 87% 33.0M/37.9M [00:00<00:00, 27.1MB/s]\n",
      "100% 37.9M/37.9M [00:00<00:00, 64.5MB/s]\n",
      "Downloading depths.csv to /content\n",
      "  0% 0.00/322k [00:00<?, ?B/s]\n",
      "100% 322k/322k [00:00<00:00, 101MB/s]\n",
      "Downloading train.csv to /content\n",
      "  0% 0.00/922k [00:00<?, ?B/s]\n",
      "100% 922k/922k [00:00<00:00, 122MB/s]\n",
      "Downloading competition_data.zip to /content\n",
      " 98% 213M/217M [00:03<00:00, 56.3MB/s]\n",
      "100% 217M/217M [00:03<00:00, 68.1MB/s]\n",
      "Downloading sample_submission.csv to /content\n",
      "  0% 0.00/264k [00:00<?, ?B/s]\n",
      "100% 264k/264k [00:00<00:00, 84.8MB/s]\n",
      "Downloading flamingo.zip to /content\n",
      " 80% 33.0M/41.4M [00:00<00:00, 31.2MB/s]\n",
      "100% 41.4M/41.4M [00:00<00:00, 76.8MB/s]\n"
     ]
    }
   ],
   "source": [
    "!kaggle competitions download -c tgs-salt-identification-challenge"
   ]
  },
  {
   "cell_type": "code",
   "execution_count": 0,
   "metadata": {
    "colab": {},
    "colab_type": "code",
    "id": "0yvGFxC9PooW"
   },
   "outputs": [],
   "source": [
    "#!unzip /content/train.zip  -d salt"
   ]
  },
  {
   "cell_type": "code",
   "execution_count": 0,
   "metadata": {
    "colab": {},
    "colab_type": "code",
    "id": "iYQClhx0QLGN"
   },
   "outputs": [],
   "source": [
    "#!unzip /content/test.zip    -d test"
   ]
  },
  {
   "cell_type": "markdown",
   "metadata": {
    "colab_type": "text",
    "id": "wNJgn681QZSy"
   },
   "source": [
    "## U-Net を利用"
   ]
  },
  {
   "cell_type": "code",
   "execution_count": 19,
   "metadata": {
    "colab": {
     "base_uri": "https://localhost:8080/",
     "height": 102
    },
    "colab_type": "code",
    "id": "toxt6qh2Qc8D",
    "outputId": "2813ba41-c82b-4a92-c8d2-bba24f83bfad"
   },
   "outputs": [
    {
     "name": "stdout",
     "output_type": "stream",
     "text": [
      "Cloning into 'unet'...\n",
      "remote: Enumerating objects: 394, done.\u001b[K\n",
      "remote: Total 394 (delta 0), reused 0 (delta 0), pack-reused 394\n",
      "Receiving objects: 100% (394/394), 44.92 MiB | 23.73 MiB/s, done.\n",
      "Resolving deltas: 100% (79/79), done.\n"
     ]
    }
   ],
   "source": [
    "!git clone https://github.com/zhixuhao/unet.git"
   ]
  },
  {
   "cell_type": "code",
   "execution_count": 0,
   "metadata": {
    "colab": {},
    "colab_type": "code",
    "id": "4ykOoV8PQwet"
   },
   "outputs": [],
   "source": [
    "!mv salt/ unet/data/"
   ]
  },
  {
   "cell_type": "code",
   "execution_count": 0,
   "metadata": {
    "colab": {},
    "colab_type": "code",
    "id": "Qy0ExnuDYcXh"
   },
   "outputs": [],
   "source": [
    "mkdir unet/data/salt/train"
   ]
  },
  {
   "cell_type": "code",
   "execution_count": 0,
   "metadata": {
    "colab": {},
    "colab_type": "code",
    "id": "2qWjFaUuY3NQ"
   },
   "outputs": [],
   "source": [
    "!mv /content/unet/data/salt/images/ /content/unet/data/salt/train/image"
   ]
  },
  {
   "cell_type": "code",
   "execution_count": 0,
   "metadata": {
    "colab": {},
    "colab_type": "code",
    "id": "Dn3RezOmZMDH"
   },
   "outputs": [],
   "source": [
    "!mv /content/unet/data/salt/masks/ /content/unet/data/salt/train/label"
   ]
  },
  {
   "cell_type": "code",
   "execution_count": 0,
   "metadata": {
    "colab": {},
    "colab_type": "code",
    "id": "6C1l-_S8TgII"
   },
   "outputs": [],
   "source": [
    "!mv test unet/data/salt/"
   ]
  },
  {
   "cell_type": "code",
   "execution_count": 0,
   "metadata": {
    "colab": {},
    "colab_type": "code",
    "id": "QA_mKLGzbDr0"
   },
   "outputs": [],
   "source": [
    "!mv unet/data/salt/test/images unet/data/salt/test/image"
   ]
  },
  {
   "cell_type": "code",
   "execution_count": 26,
   "metadata": {
    "colab": {
     "base_uri": "https://localhost:8080/",
     "height": 187
    },
    "colab_type": "code",
    "id": "_igLjxYSdVch",
    "outputId": "8b218cd3-04f4-4e37-a473-5bcf78dfafa8"
   },
   "outputs": [
    {
     "data": {
      "text/plain": [
       "['781b5a8baf.png',\n",
       " '0f8905287c.png',\n",
       " '9ea14bcead.png',\n",
       " '8c139b7d3a.png',\n",
       " '9bef2899b0.png',\n",
       " '4087d80276.png',\n",
       " '85ff9eacfe.png',\n",
       " '15a7e201ca.png',\n",
       " 'ca86bc43a0.png',\n",
       " 'd3a1329a49.png']"
      ]
     },
     "execution_count": 26,
     "metadata": {
      "tags": []
     },
     "output_type": "execute_result"
    }
   ],
   "source": [
    "import numpy  as np\n",
    "import os\n",
    "import glob \n",
    "import re\n",
    "\n",
    "path = '/content/unet/data/salt/test/image/' \n",
    "flist = os.listdir(path)\n",
    "flist[:10]"
   ]
  },
  {
   "cell_type": "code",
   "execution_count": 27,
   "metadata": {
    "colab": {
     "base_uri": "https://localhost:8080/",
     "height": 34
    },
    "colab_type": "code",
    "id": "SIqfg_5XbhYo",
    "outputId": "a4eb789f-e4f1-41c5-db5b-a0d5c655554b"
   },
   "outputs": [
    {
     "data": {
      "text/plain": [
       "18000"
      ]
     },
     "execution_count": 27,
     "metadata": {
      "tags": []
     },
     "output_type": "execute_result"
    }
   ],
   "source": [
    "len(flist)"
   ]
  },
  {
   "cell_type": "code",
   "execution_count": 28,
   "metadata": {
    "colab": {
     "base_uri": "https://localhost:8080/",
     "height": 34
    },
    "colab_type": "code",
    "id": "_E8sZCsNR4eg",
    "outputId": "ac9feba3-7966-473e-f9d6-44ac9a2cc8c5"
   },
   "outputs": [
    {
     "name": "stdout",
     "output_type": "stream",
     "text": [
      "/content/unet/data/salt/test/image\n"
     ]
    }
   ],
   "source": [
    "cd /content/unet/data/salt/test/image/"
   ]
  },
  {
   "cell_type": "code",
   "execution_count": 0,
   "metadata": {
    "colab": {},
    "colab_type": "code",
    "id": "n_XtL4Wxd0cX"
   },
   "outputs": [],
   "source": [
    "#rename\n",
    "for i , name in enumerate(flist):\n",
    "    renamed = str(i)+\".jpg\"\n",
    "    os.rename(name, renamed)\n",
    "   "
   ]
  },
  {
   "cell_type": "code",
   "execution_count": 30,
   "metadata": {
    "colab": {
     "base_uri": "https://localhost:8080/",
     "height": 187
    },
    "colab_type": "code",
    "id": "PQQ-aYeSb05D",
    "outputId": "f84e3f05-fa40-417b-ce99-4664e42fc006"
   },
   "outputs": [
    {
     "data": {
      "text/plain": [
       "['0.jpg',\n",
       " '1.jpg',\n",
       " '10.jpg',\n",
       " '100.jpg',\n",
       " '1000.jpg',\n",
       " '10000.jpg',\n",
       " '10001.jpg',\n",
       " '10002.jpg',\n",
       " '10003.jpg',\n",
       " '10004.jpg']"
      ]
     },
     "execution_count": 30,
     "metadata": {
      "tags": []
     },
     "output_type": "execute_result"
    }
   ],
   "source": [
    "path = '/content/unet/data/salt/test/image/' \n",
    "flist_renamed = os.listdir(path)\n",
    "sorted(flist_renamed)[:10]"
   ]
  },
  {
   "cell_type": "code",
   "execution_count": 31,
   "metadata": {
    "colab": {
     "base_uri": "https://localhost:8080/",
     "height": 34
    },
    "colab_type": "code",
    "id": "a8HJT5ozdpp0",
    "outputId": "ef8fab2c-77da-468c-ccab-215e6aebf21a"
   },
   "outputs": [
    {
     "name": "stdout",
     "output_type": "stream",
     "text": [
      "/content/unet/data/salt/test\n"
     ]
    }
   ],
   "source": [
    "cd ../"
   ]
  },
  {
   "cell_type": "code",
   "execution_count": 0,
   "metadata": {
    "colab": {},
    "colab_type": "code",
    "id": "furb22LedsbF"
   },
   "outputs": [],
   "source": [
    "!mkdir results"
   ]
  },
  {
   "cell_type": "code",
   "execution_count": 33,
   "metadata": {
    "colab": {
     "base_uri": "https://localhost:8080/",
     "height": 34
    },
    "colab_type": "code",
    "id": "wLNA_a10VETY",
    "outputId": "8724d620-6605-443f-b720-db2a7b6edd18"
   },
   "outputs": [
    {
     "name": "stdout",
     "output_type": "stream",
     "text": [
      "/content/unet\n"
     ]
    }
   ],
   "source": [
    "cd /content/unet/"
   ]
  },
  {
   "cell_type": "code",
   "execution_count": 35,
   "metadata": {
    "colab": {
     "base_uri": "https://localhost:8080/",
     "height": 1000
    },
    "colab_type": "code",
    "id": "zMGmJg9rVF0i",
    "outputId": "bcbb15a8-2b3c-46be-e7be-73b1eac1eac7"
   },
   "outputs": [
    {
     "name": "stdout",
     "output_type": "stream",
     "text": [
      "Using TensorFlow backend.\n",
      "WARNING:tensorflow:From /usr/local/lib/python3.6/dist-packages/keras/backend/tensorflow_backend.py:66: The name tf.get_default_graph is deprecated. Please use tf.compat.v1.get_default_graph instead.\n",
      "\n",
      "WARNING:tensorflow:From /usr/local/lib/python3.6/dist-packages/keras/backend/tensorflow_backend.py:541: The name tf.placeholder is deprecated. Please use tf.compat.v1.placeholder instead.\n",
      "\n",
      "WARNING:tensorflow:From /usr/local/lib/python3.6/dist-packages/keras/backend/tensorflow_backend.py:4479: The name tf.truncated_normal is deprecated. Please use tf.random.truncated_normal instead.\n",
      "\n",
      "WARNING:tensorflow:From /usr/local/lib/python3.6/dist-packages/keras/backend/tensorflow_backend.py:4267: The name tf.nn.max_pool is deprecated. Please use tf.nn.max_pool2d instead.\n",
      "\n",
      "WARNING:tensorflow:From /usr/local/lib/python3.6/dist-packages/keras/backend/tensorflow_backend.py:148: The name tf.placeholder_with_default is deprecated. Please use tf.compat.v1.placeholder_with_default instead.\n",
      "\n",
      "WARNING:tensorflow:From /usr/local/lib/python3.6/dist-packages/keras/backend/tensorflow_backend.py:3733: calling dropout (from tensorflow.python.ops.nn_ops) with keep_prob is deprecated and will be removed in a future version.\n",
      "Instructions for updating:\n",
      "Please use `rate` instead of `keep_prob`. Rate should be set to `rate = 1 - keep_prob`.\n",
      "WARNING:tensorflow:From /usr/local/lib/python3.6/dist-packages/keras/backend/tensorflow_backend.py:2239: The name tf.image.resize_nearest_neighbor is deprecated. Please use tf.compat.v1.image.resize_nearest_neighbor instead.\n",
      "\n",
      "WARNING:tensorflow:From /usr/local/lib/python3.6/dist-packages/keras/backend/tensorflow_backend.py:4432: The name tf.random_uniform is deprecated. Please use tf.random.uniform instead.\n",
      "\n",
      "/content/unet/model.py:55: UserWarning: Update your `Model` call to the Keras 2 API: `Model(inputs=Tensor(\"in..., outputs=Tensor(\"co...)`\n",
      "  model = Model(input = inputs, output = conv10)\n",
      "WARNING:tensorflow:From /usr/local/lib/python3.6/dist-packages/keras/optimizers.py:793: The name tf.train.Optimizer is deprecated. Please use tf.compat.v1.train.Optimizer instead.\n",
      "\n",
      "WARNING:tensorflow:From /usr/local/lib/python3.6/dist-packages/keras/backend/tensorflow_backend.py:3657: The name tf.log is deprecated. Please use tf.math.log instead.\n",
      "\n",
      "WARNING:tensorflow:From /usr/local/lib/python3.6/dist-packages/tensorflow_core/python/ops/nn_impl.py:183: where (from tensorflow.python.ops.array_ops) is deprecated and will be removed in a future version.\n",
      "Instructions for updating:\n",
      "Use tf.where in 2.0, which has the same broadcast rule as np.where\n",
      "WARNING:tensorflow:From /usr/local/lib/python3.6/dist-packages/keras/backend/tensorflow_backend.py:1033: The name tf.assign_add is deprecated. Please use tf.compat.v1.assign_add instead.\n",
      "\n",
      "WARNING:tensorflow:From /usr/local/lib/python3.6/dist-packages/keras/backend/tensorflow_backend.py:1020: The name tf.assign is deprecated. Please use tf.compat.v1.assign instead.\n",
      "\n",
      "WARNING:tensorflow:From /usr/local/lib/python3.6/dist-packages/keras/backend/tensorflow_backend.py:3005: The name tf.Session is deprecated. Please use tf.compat.v1.Session instead.\n",
      "\n",
      "Epoch 1/2\n",
      "Found 4000 images belonging to 1 classes.\n",
      "Found 4000 images belonging to 1 classes.\n",
      "WARNING:tensorflow:From /usr/local/lib/python3.6/dist-packages/keras/backend/tensorflow_backend.py:190: The name tf.get_default_session is deprecated. Please use tf.compat.v1.get_default_session instead.\n",
      "\n",
      "WARNING:tensorflow:From /usr/local/lib/python3.6/dist-packages/keras/backend/tensorflow_backend.py:197: The name tf.ConfigProto is deprecated. Please use tf.compat.v1.ConfigProto instead.\n",
      "\n",
      "2019-12-30 05:56:10.421475: I tensorflow/core/platform/cpu_feature_guard.cc:142] Your CPU supports instructions that this TensorFlow binary was not compiled to use: AVX512F\n",
      "2019-12-30 05:56:10.431141: I tensorflow/core/platform/profile_utils/cpu_utils.cc:94] CPU Frequency: 2000134999 Hz\n",
      "2019-12-30 05:56:10.431391: I tensorflow/compiler/xla/service/service.cc:168] XLA service 0x2304bc0 initialized for platform Host (this does not guarantee that XLA will be used). Devices:\n",
      "2019-12-30 05:56:10.431422: I tensorflow/compiler/xla/service/service.cc:176]   StreamExecutor device (0): Host, Default Version\n",
      "2019-12-30 05:56:10.434417: I tensorflow/stream_executor/platform/default/dso_loader.cc:44] Successfully opened dynamic library libcuda.so.1\n",
      "2019-12-30 05:56:10.436810: E tensorflow/stream_executor/cuda/cuda_driver.cc:318] failed call to cuInit: CUDA_ERROR_NO_DEVICE: no CUDA-capable device is detected\n",
      "2019-12-30 05:56:10.436860: I tensorflow/stream_executor/cuda/cuda_diagnostics.cc:156] kernel driver does not appear to be running on this host (240c6eee3bbc): /proc/driver/nvidia/version does not exist\n",
      "WARNING:tensorflow:From /usr/local/lib/python3.6/dist-packages/keras/backend/tensorflow_backend.py:207: The name tf.global_variables is deprecated. Please use tf.compat.v1.global_variables instead.\n",
      "\n",
      "WARNING:tensorflow:From /usr/local/lib/python3.6/dist-packages/keras/backend/tensorflow_backend.py:216: The name tf.is_variable_initialized is deprecated. Please use tf.compat.v1.is_variable_initialized instead.\n",
      "\n",
      "WARNING:tensorflow:From /usr/local/lib/python3.6/dist-packages/keras/backend/tensorflow_backend.py:223: The name tf.variables_initializer is deprecated. Please use tf.compat.v1.variables_initializer instead.\n",
      "\n",
      "300/300 [==============================] - 3378s 11s/step - loss: 0.5929 - acc: 0.7421\n",
      "\n",
      "Epoch 00001: loss improved from inf to 0.59291, saving model to unet_salt.hdf5\n",
      "Epoch 2/2\n",
      "300/300 [==============================] - 3369s 11s/step - loss: 0.5787 - acc: 0.7460\n",
      "\n",
      "Epoch 00002: loss improved from 0.59291 to 0.57867, saving model to unet_salt.hdf5\n",
      "30/30 [==============================] - 41s 1s/step\n",
      "/usr/local/lib/python3.6/dist-packages/skimage/io/_io.py:141: UserWarning: data/salt/test/results/0_predict.jpg is a low contrast image\n",
      "  warn('%s is a low contrast image' % fname)\n",
      "WARNING:root:Lossy conversion from float32 to uint8. Range [0, 1]. Convert image to uint8 prior to saving to suppress this warning.\n",
      "/usr/local/lib/python3.6/dist-packages/skimage/io/_io.py:141: UserWarning: data/salt/test/results/1_predict.jpg is a low contrast image\n",
      "  warn('%s is a low contrast image' % fname)\n",
      "WARNING:root:Lossy conversion from float32 to uint8. Range [0, 1]. Convert image to uint8 prior to saving to suppress this warning.\n",
      "/usr/local/lib/python3.6/dist-packages/skimage/io/_io.py:141: UserWarning: data/salt/test/results/2_predict.jpg is a low contrast image\n",
      "  warn('%s is a low contrast image' % fname)\n",
      "WARNING:root:Lossy conversion from float32 to uint8. Range [0, 1]. Convert image to uint8 prior to saving to suppress this warning.\n",
      "/usr/local/lib/python3.6/dist-packages/skimage/io/_io.py:141: UserWarning: data/salt/test/results/3_predict.jpg is a low contrast image\n",
      "  warn('%s is a low contrast image' % fname)\n",
      "WARNING:root:Lossy conversion from float32 to uint8. Range [0, 1]. Convert image to uint8 prior to saving to suppress this warning.\n",
      "/usr/local/lib/python3.6/dist-packages/skimage/io/_io.py:141: UserWarning: data/salt/test/results/4_predict.jpg is a low contrast image\n",
      "  warn('%s is a low contrast image' % fname)\n",
      "WARNING:root:Lossy conversion from float32 to uint8. Range [0, 1]. Convert image to uint8 prior to saving to suppress this warning.\n",
      "/usr/local/lib/python3.6/dist-packages/skimage/io/_io.py:141: UserWarning: data/salt/test/results/5_predict.jpg is a low contrast image\n",
      "  warn('%s is a low contrast image' % fname)\n",
      "WARNING:root:Lossy conversion from float32 to uint8. Range [0, 1]. Convert image to uint8 prior to saving to suppress this warning.\n",
      "/usr/local/lib/python3.6/dist-packages/skimage/io/_io.py:141: UserWarning: data/salt/test/results/6_predict.jpg is a low contrast image\n",
      "  warn('%s is a low contrast image' % fname)\n",
      "WARNING:root:Lossy conversion from float32 to uint8. Range [0, 1]. Convert image to uint8 prior to saving to suppress this warning.\n",
      "/usr/local/lib/python3.6/dist-packages/skimage/io/_io.py:141: UserWarning: data/salt/test/results/7_predict.jpg is a low contrast image\n",
      "  warn('%s is a low contrast image' % fname)\n",
      "WARNING:root:Lossy conversion from float32 to uint8. Range [0, 1]. Convert image to uint8 prior to saving to suppress this warning.\n",
      "/usr/local/lib/python3.6/dist-packages/skimage/io/_io.py:141: UserWarning: data/salt/test/results/8_predict.jpg is a low contrast image\n",
      "  warn('%s is a low contrast image' % fname)\n",
      "WARNING:root:Lossy conversion from float32 to uint8. Range [0, 1]. Convert image to uint8 prior to saving to suppress this warning.\n",
      "/usr/local/lib/python3.6/dist-packages/skimage/io/_io.py:141: UserWarning: data/salt/test/results/9_predict.jpg is a low contrast image\n",
      "  warn('%s is a low contrast image' % fname)\n",
      "WARNING:root:Lossy conversion from float32 to uint8. Range [0, 1]. Convert image to uint8 prior to saving to suppress this warning.\n",
      "/usr/local/lib/python3.6/dist-packages/skimage/io/_io.py:141: UserWarning: data/salt/test/results/10_predict.jpg is a low contrast image\n",
      "  warn('%s is a low contrast image' % fname)\n",
      "WARNING:root:Lossy conversion from float32 to uint8. Range [0, 1]. Convert image to uint8 prior to saving to suppress this warning.\n",
      "/usr/local/lib/python3.6/dist-packages/skimage/io/_io.py:141: UserWarning: data/salt/test/results/11_predict.jpg is a low contrast image\n",
      "  warn('%s is a low contrast image' % fname)\n",
      "WARNING:root:Lossy conversion from float32 to uint8. Range [0, 1]. Convert image to uint8 prior to saving to suppress this warning.\n",
      "/usr/local/lib/python3.6/dist-packages/skimage/io/_io.py:141: UserWarning: data/salt/test/results/12_predict.jpg is a low contrast image\n",
      "  warn('%s is a low contrast image' % fname)\n",
      "WARNING:root:Lossy conversion from float32 to uint8. Range [0, 1]. Convert image to uint8 prior to saving to suppress this warning.\n",
      "/usr/local/lib/python3.6/dist-packages/skimage/io/_io.py:141: UserWarning: data/salt/test/results/13_predict.jpg is a low contrast image\n",
      "  warn('%s is a low contrast image' % fname)\n",
      "WARNING:root:Lossy conversion from float32 to uint8. Range [0, 1]. Convert image to uint8 prior to saving to suppress this warning.\n",
      "/usr/local/lib/python3.6/dist-packages/skimage/io/_io.py:141: UserWarning: data/salt/test/results/14_predict.jpg is a low contrast image\n",
      "  warn('%s is a low contrast image' % fname)\n",
      "WARNING:root:Lossy conversion from float32 to uint8. Range [0, 1]. Convert image to uint8 prior to saving to suppress this warning.\n",
      "/usr/local/lib/python3.6/dist-packages/skimage/io/_io.py:141: UserWarning: data/salt/test/results/15_predict.jpg is a low contrast image\n",
      "  warn('%s is a low contrast image' % fname)\n",
      "WARNING:root:Lossy conversion from float32 to uint8. Range [0, 1]. Convert image to uint8 prior to saving to suppress this warning.\n",
      "/usr/local/lib/python3.6/dist-packages/skimage/io/_io.py:141: UserWarning: data/salt/test/results/16_predict.jpg is a low contrast image\n",
      "  warn('%s is a low contrast image' % fname)\n",
      "WARNING:root:Lossy conversion from float32 to uint8. Range [0, 1]. Convert image to uint8 prior to saving to suppress this warning.\n",
      "/usr/local/lib/python3.6/dist-packages/skimage/io/_io.py:141: UserWarning: data/salt/test/results/17_predict.jpg is a low contrast image\n",
      "  warn('%s is a low contrast image' % fname)\n",
      "WARNING:root:Lossy conversion from float32 to uint8. Range [0, 1]. Convert image to uint8 prior to saving to suppress this warning.\n",
      "/usr/local/lib/python3.6/dist-packages/skimage/io/_io.py:141: UserWarning: data/salt/test/results/18_predict.jpg is a low contrast image\n",
      "  warn('%s is a low contrast image' % fname)\n",
      "WARNING:root:Lossy conversion from float32 to uint8. Range [0, 1]. Convert image to uint8 prior to saving to suppress this warning.\n",
      "/usr/local/lib/python3.6/dist-packages/skimage/io/_io.py:141: UserWarning: data/salt/test/results/19_predict.jpg is a low contrast image\n",
      "  warn('%s is a low contrast image' % fname)\n",
      "WARNING:root:Lossy conversion from float32 to uint8. Range [0, 1]. Convert image to uint8 prior to saving to suppress this warning.\n",
      "/usr/local/lib/python3.6/dist-packages/skimage/io/_io.py:141: UserWarning: data/salt/test/results/20_predict.jpg is a low contrast image\n",
      "  warn('%s is a low contrast image' % fname)\n",
      "WARNING:root:Lossy conversion from float32 to uint8. Range [0, 1]. Convert image to uint8 prior to saving to suppress this warning.\n",
      "/usr/local/lib/python3.6/dist-packages/skimage/io/_io.py:141: UserWarning: data/salt/test/results/21_predict.jpg is a low contrast image\n",
      "  warn('%s is a low contrast image' % fname)\n",
      "WARNING:root:Lossy conversion from float32 to uint8. Range [0, 1]. Convert image to uint8 prior to saving to suppress this warning.\n",
      "/usr/local/lib/python3.6/dist-packages/skimage/io/_io.py:141: UserWarning: data/salt/test/results/22_predict.jpg is a low contrast image\n",
      "  warn('%s is a low contrast image' % fname)\n",
      "WARNING:root:Lossy conversion from float32 to uint8. Range [0, 1]. Convert image to uint8 prior to saving to suppress this warning.\n",
      "/usr/local/lib/python3.6/dist-packages/skimage/io/_io.py:141: UserWarning: data/salt/test/results/23_predict.jpg is a low contrast image\n",
      "  warn('%s is a low contrast image' % fname)\n",
      "WARNING:root:Lossy conversion from float32 to uint8. Range [0, 1]. Convert image to uint8 prior to saving to suppress this warning.\n",
      "/usr/local/lib/python3.6/dist-packages/skimage/io/_io.py:141: UserWarning: data/salt/test/results/24_predict.jpg is a low contrast image\n",
      "  warn('%s is a low contrast image' % fname)\n",
      "WARNING:root:Lossy conversion from float32 to uint8. Range [0, 1]. Convert image to uint8 prior to saving to suppress this warning.\n",
      "/usr/local/lib/python3.6/dist-packages/skimage/io/_io.py:141: UserWarning: data/salt/test/results/25_predict.jpg is a low contrast image\n",
      "  warn('%s is a low contrast image' % fname)\n",
      "WARNING:root:Lossy conversion from float32 to uint8. Range [0, 1]. Convert image to uint8 prior to saving to suppress this warning.\n",
      "/usr/local/lib/python3.6/dist-packages/skimage/io/_io.py:141: UserWarning: data/salt/test/results/26_predict.jpg is a low contrast image\n",
      "  warn('%s is a low contrast image' % fname)\n",
      "WARNING:root:Lossy conversion from float32 to uint8. Range [0, 1]. Convert image to uint8 prior to saving to suppress this warning.\n",
      "/usr/local/lib/python3.6/dist-packages/skimage/io/_io.py:141: UserWarning: data/salt/test/results/27_predict.jpg is a low contrast image\n",
      "  warn('%s is a low contrast image' % fname)\n",
      "WARNING:root:Lossy conversion from float32 to uint8. Range [0, 1]. Convert image to uint8 prior to saving to suppress this warning.\n",
      "/usr/local/lib/python3.6/dist-packages/skimage/io/_io.py:141: UserWarning: data/salt/test/results/28_predict.jpg is a low contrast image\n",
      "  warn('%s is a low contrast image' % fname)\n",
      "WARNING:root:Lossy conversion from float32 to uint8. Range [0, 1]. Convert image to uint8 prior to saving to suppress this warning.\n",
      "/usr/local/lib/python3.6/dist-packages/skimage/io/_io.py:141: UserWarning: data/salt/test/results/29_predict.jpg is a low contrast image\n",
      "  warn('%s is a low contrast image' % fname)\n",
      "WARNING:root:Lossy conversion from float32 to uint8. Range [0, 1]. Convert image to uint8 prior to saving to suppress this warning.\n"
     ]
    }
   ],
   "source": [
    "!python main.py --epoch_num 2 -i 300 --testsize 100"
   ]
  },
  {
   "cell_type": "markdown",
   "metadata": {
    "colab_type": "text",
    "id": "ecYPFQYdzRD7"
   },
   "source": [
    "### 推定の結果\n",
    "\n",
    "https://github.com/ishizucat/diveintocode-ml/blob/master/images/Sprint19.jpg\n",
    "\n",
    "学習回数が少なかったためか、領域推定の結果は得られなかった。"
   ]
  },
  {
   "cell_type": "markdown",
   "metadata": {
    "colab_type": "text",
    "id": "ad7QKojAkdwI"
   },
   "source": [
    "## Kaggleサイトから情報\n",
    "\n",
    " - 塩が含まれた地層の密度は周りの岩石の密度より低い\n",
    " - 塩の地震速度は4.5km/秒で、周囲の岩よりも速い\n",
    " - 塩の層の中はあまり反射がない"
   ]
  },
  {
   "cell_type": "markdown",
   "metadata": {},
   "source": [
    "## コードリーディング\n",
    "\n",
    "- 論文読解のまとめ\n",
    "  - https://github.com/ishizucat/diveintocode-ml/blob/master/documents/Term19_Unet.pptx\n",
    "\n",
    "- 論文と実装の相違点\n",
    "  - 実装では畳み込みの際に padding=sameを指定しているので、推定画像の形状は変わらない。そのため、Overlap-tile strategy を施す必要がない。\n",
    "  - 実装のexpansive pathでは、kerasのupsampling2Dを使用している。\n",
    "  \n",
    "以上"
   ]
  },
  {
   "cell_type": "code",
   "execution_count": null,
   "metadata": {},
   "outputs": [],
   "source": []
  }
 ],
 "metadata": {
  "colab": {
   "collapsed_sections": [],
   "name": "segmentation_U-Net",
   "provenance": [],
   "toc_visible": true
  },
  "kernelspec": {
   "display_name": "Python 3",
   "language": "python",
   "name": "python3"
  },
  "language_info": {
   "codemirror_mode": {
    "name": "ipython",
    "version": 3
   },
   "file_extension": ".py",
   "mimetype": "text/x-python",
   "name": "python",
   "nbconvert_exporter": "python",
   "pygments_lexer": "ipython3",
   "version": "3.7.2"
  },
  "toc": {
   "base_numbering": 1,
   "nav_menu": {},
   "number_sections": true,
   "sideBar": true,
   "skip_h1_title": false,
   "title_cell": "Table of Contents",
   "title_sidebar": "Contents",
   "toc_cell": false,
   "toc_position": {},
   "toc_section_display": true,
   "toc_window_display": false
  },
  "varInspector": {
   "cols": {
    "lenName": 16,
    "lenType": 16,
    "lenVar": 40
   },
   "kernels_config": {
    "python": {
     "delete_cmd_postfix": "",
     "delete_cmd_prefix": "del ",
     "library": "var_list.py",
     "varRefreshCmd": "print(var_dic_list())"
    },
    "r": {
     "delete_cmd_postfix": ") ",
     "delete_cmd_prefix": "rm(",
     "library": "var_list.r",
     "varRefreshCmd": "cat(var_dic_list()) "
    }
   },
   "types_to_exclude": [
    "module",
    "function",
    "builtin_function_or_method",
    "instance",
    "_Feature"
   ],
   "window_display": false
  }
 },
 "nbformat": 4,
 "nbformat_minor": 1
}
