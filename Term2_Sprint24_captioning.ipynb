{
 "cells": [
  {
   "cell_type": "markdown",
   "metadata": {},
   "source": [
    "# Term2 Sprint23 イメージキャプショニング\n",
    "\n",
    "seq2seqの他の活用例としてイメージキャプショニングがあります。画像に対する説明の文章を推定するタスクです。これは画像を入力し、系列データを出力する Image to Sequence の手法によって行えます。\n",
    "\n",
    "イメージキャプショニングは学習に多くの時間がかかるため、ここでは学習済みの重みが公開されている実装を動かすことにします。Kerasには平易に扱える実装が公開されていないため、今回はPyTorchによる実装を扱います。\n",
    "\n",
    "pytorchのチュートリアルで公開されているコードは、最新のpytorchバージョンで動かないため、古いバージョンの環境で実行する必要がある。今回は、以下の環境で実行した。\n",
    "\n",
    "- pytorch: 0.4.1 py37_cuda0.0_cudnn0.0_1 (非GPUモデル)\n",
    "- torchvision: 0.2.1 py_2\n",
    "- python: 3.7.2  haf84260_0\n",
    "\n",
    "\n",
    "\n"
   ]
  },
  {
   "cell_type": "code",
   "execution_count": 1,
   "metadata": {},
   "outputs": [
    {
     "name": "stdout",
     "output_type": "stream",
     "text": [
      "0.4.1\n"
     ]
    }
   ],
   "source": [
    "import torch\n",
    "print(torch.__version__)"
   ]
  },
  {
   "cell_type": "code",
   "execution_count": 3,
   "metadata": {},
   "outputs": [
    {
     "name": "stdout",
     "output_type": "stream",
     "text": [
      "Cloning into 'coco'...\n",
      "remote: Enumerating objects: 965, done.\u001b[K\n",
      "remote: Total 965 (delta 0), reused 0 (delta 0), pack-reused 965\u001b[K\n",
      "Receiving objects: 100% (965/965), 11.69 MiB | 5.12 MiB/s, done.\n",
      "Resolving deltas: 100% (574/574), done.\n"
     ]
    }
   ],
   "source": [
    "!git clone https://github.com/pdollar/coco.git"
   ]
  },
  {
   "cell_type": "code",
   "execution_count": 4,
   "metadata": {},
   "outputs": [
    {
     "name": "stdout",
     "output_type": "stream",
     "text": [
      "/Users/ishizucat/git/diveintocode-ml/coco/PythonAPI\n"
     ]
    }
   ],
   "source": [
    "cd coco/PythonAPI/"
   ]
  },
  {
   "cell_type": "code",
   "execution_count": 5,
   "metadata": {},
   "outputs": [
    {
     "name": "stdout",
     "output_type": "stream",
     "text": [
      "python setup.py build_ext --inplace\n",
      "running build_ext\n",
      "cythoning pycocotools/_mask.pyx to pycocotools/_mask.c\n",
      "building 'pycocotools._mask' extension\n",
      "creating build\n",
      "creating build/common\n",
      "creating build/temp.macosx-10.7-x86_64-3.7\n",
      "creating build/temp.macosx-10.7-x86_64-3.7/pycocotools\n",
      "gcc -Wno-unused-result -Wsign-compare -Wunreachable-code -DNDEBUG -g -fwrapv -O3 -Wall -Wstrict-prototypes -I/Users/ishizucat/.pyenv/versions/anaconda3-5.3.1/envs/torchdown/include -arch x86_64 -I/Users/ishizucat/.pyenv/versions/anaconda3-5.3.1/envs/torchdown/include -arch x86_64 -I/Users/ishizucat/.pyenv/versions/anaconda3-5.3.1/envs/torchdown/lib/python3.7/site-packages/numpy/core/include -I../common -I/Users/ishizucat/.pyenv/versions/anaconda3-5.3.1/envs/torchdown/include/python3.7m -c ../common/maskApi.c -o build/temp.macosx-10.7-x86_64-3.7/../common/maskApi.o -Wno-cpp -Wno-unused-function -std=c99\n",
      "gcc -Wno-unused-result -Wsign-compare -Wunreachable-code -DNDEBUG -g -fwrapv -O3 -Wall -Wstrict-prototypes -I/Users/ishizucat/.pyenv/versions/anaconda3-5.3.1/envs/torchdown/include -arch x86_64 -I/Users/ishizucat/.pyenv/versions/anaconda3-5.3.1/envs/torchdown/include -arch x86_64 -I/Users/ishizucat/.pyenv/versions/anaconda3-5.3.1/envs/torchdown/lib/python3.7/site-packages/numpy/core/include -I../common -I/Users/ishizucat/.pyenv/versions/anaconda3-5.3.1/envs/torchdown/include/python3.7m -c pycocotools/_mask.c -o build/temp.macosx-10.7-x86_64-3.7/pycocotools/_mask.o -Wno-cpp -Wno-unused-function -std=c99\n",
      "creating build/lib.macosx-10.7-x86_64-3.7\n",
      "creating build/lib.macosx-10.7-x86_64-3.7/pycocotools\n",
      "gcc -bundle -undefined dynamic_lookup -L/Users/ishizucat/.pyenv/versions/anaconda3-5.3.1/envs/torchdown/lib -arch x86_64 -L/Users/ishizucat/.pyenv/versions/anaconda3-5.3.1/envs/torchdown/lib -arch x86_64 -arch x86_64 build/temp.macosx-10.7-x86_64-3.7/../common/maskApi.o build/temp.macosx-10.7-x86_64-3.7/pycocotools/_mask.o -o build/lib.macosx-10.7-x86_64-3.7/pycocotools/_mask.cpython-37m-darwin.so\n",
      "copying build/lib.macosx-10.7-x86_64-3.7/pycocotools/_mask.cpython-37m-darwin.so -> pycocotools\n",
      "rm -rf build\n"
     ]
    }
   ],
   "source": [
    "!make"
   ]
  },
  {
   "cell_type": "code",
   "execution_count": 6,
   "metadata": {},
   "outputs": [
    {
     "name": "stdout",
     "output_type": "stream",
     "text": [
      "running build\n",
      "running build_py\n",
      "creating build\n",
      "creating build/lib.macosx-10.7-x86_64-3.7\n",
      "creating build/lib.macosx-10.7-x86_64-3.7/pycocotools\n",
      "copying pycocotools/coco.py -> build/lib.macosx-10.7-x86_64-3.7/pycocotools\n",
      "copying pycocotools/mask.py -> build/lib.macosx-10.7-x86_64-3.7/pycocotools\n",
      "copying pycocotools/__init__.py -> build/lib.macosx-10.7-x86_64-3.7/pycocotools\n",
      "copying pycocotools/cocoeval.py -> build/lib.macosx-10.7-x86_64-3.7/pycocotools\n",
      "running build_ext\n",
      "skipping 'pycocotools/_mask.c' Cython extension (up-to-date)\n",
      "building 'pycocotools._mask' extension\n",
      "creating build/common\n",
      "creating build/temp.macosx-10.7-x86_64-3.7\n",
      "creating build/temp.macosx-10.7-x86_64-3.7/pycocotools\n",
      "gcc -Wno-unused-result -Wsign-compare -Wunreachable-code -DNDEBUG -g -fwrapv -O3 -Wall -Wstrict-prototypes -I/Users/ishizucat/.pyenv/versions/anaconda3-5.3.1/envs/torchdown/include -arch x86_64 -I/Users/ishizucat/.pyenv/versions/anaconda3-5.3.1/envs/torchdown/include -arch x86_64 -I/Users/ishizucat/.pyenv/versions/anaconda3-5.3.1/envs/torchdown/lib/python3.7/site-packages/numpy/core/include -I../common -I/Users/ishizucat/.pyenv/versions/anaconda3-5.3.1/envs/torchdown/include/python3.7m -c ../common/maskApi.c -o build/temp.macosx-10.7-x86_64-3.7/../common/maskApi.o -Wno-cpp -Wno-unused-function -std=c99\n",
      "gcc -Wno-unused-result -Wsign-compare -Wunreachable-code -DNDEBUG -g -fwrapv -O3 -Wall -Wstrict-prototypes -I/Users/ishizucat/.pyenv/versions/anaconda3-5.3.1/envs/torchdown/include -arch x86_64 -I/Users/ishizucat/.pyenv/versions/anaconda3-5.3.1/envs/torchdown/include -arch x86_64 -I/Users/ishizucat/.pyenv/versions/anaconda3-5.3.1/envs/torchdown/lib/python3.7/site-packages/numpy/core/include -I../common -I/Users/ishizucat/.pyenv/versions/anaconda3-5.3.1/envs/torchdown/include/python3.7m -c pycocotools/_mask.c -o build/temp.macosx-10.7-x86_64-3.7/pycocotools/_mask.o -Wno-cpp -Wno-unused-function -std=c99\n",
      "gcc -bundle -undefined dynamic_lookup -L/Users/ishizucat/.pyenv/versions/anaconda3-5.3.1/envs/torchdown/lib -arch x86_64 -L/Users/ishizucat/.pyenv/versions/anaconda3-5.3.1/envs/torchdown/lib -arch x86_64 -arch x86_64 build/temp.macosx-10.7-x86_64-3.7/../common/maskApi.o build/temp.macosx-10.7-x86_64-3.7/pycocotools/_mask.o -o build/lib.macosx-10.7-x86_64-3.7/pycocotools/_mask.cpython-37m-darwin.so\n"
     ]
    }
   ],
   "source": [
    "!python setup.py build"
   ]
  },
  {
   "cell_type": "code",
   "execution_count": 7,
   "metadata": {},
   "outputs": [
    {
     "name": "stdout",
     "output_type": "stream",
     "text": [
      "running install\n",
      "running bdist_egg\n",
      "running egg_info\n",
      "creating pycocotools.egg-info\n",
      "writing pycocotools.egg-info/PKG-INFO\n",
      "writing dependency_links to pycocotools.egg-info/dependency_links.txt\n",
      "writing requirements to pycocotools.egg-info/requires.txt\n",
      "writing top-level names to pycocotools.egg-info/top_level.txt\n",
      "writing manifest file 'pycocotools.egg-info/SOURCES.txt'\n",
      "reading manifest file 'pycocotools.egg-info/SOURCES.txt'\n",
      "writing manifest file 'pycocotools.egg-info/SOURCES.txt'\n",
      "installing library code to build/bdist.macosx-10.7-x86_64/egg\n",
      "running install_lib\n",
      "running build_py\n",
      "running build_ext\n",
      "skipping 'pycocotools/_mask.c' Cython extension (up-to-date)\n",
      "creating build/bdist.macosx-10.7-x86_64\n",
      "creating build/bdist.macosx-10.7-x86_64/egg\n",
      "creating build/bdist.macosx-10.7-x86_64/egg/pycocotools\n",
      "copying build/lib.macosx-10.7-x86_64-3.7/pycocotools/coco.py -> build/bdist.macosx-10.7-x86_64/egg/pycocotools\n",
      "copying build/lib.macosx-10.7-x86_64-3.7/pycocotools/mask.py -> build/bdist.macosx-10.7-x86_64/egg/pycocotools\n",
      "copying build/lib.macosx-10.7-x86_64-3.7/pycocotools/_mask.cpython-37m-darwin.so -> build/bdist.macosx-10.7-x86_64/egg/pycocotools\n",
      "copying build/lib.macosx-10.7-x86_64-3.7/pycocotools/__init__.py -> build/bdist.macosx-10.7-x86_64/egg/pycocotools\n",
      "copying build/lib.macosx-10.7-x86_64-3.7/pycocotools/cocoeval.py -> build/bdist.macosx-10.7-x86_64/egg/pycocotools\n",
      "byte-compiling build/bdist.macosx-10.7-x86_64/egg/pycocotools/coco.py to coco.cpython-37.pyc\n",
      "byte-compiling build/bdist.macosx-10.7-x86_64/egg/pycocotools/mask.py to mask.cpython-37.pyc\n",
      "byte-compiling build/bdist.macosx-10.7-x86_64/egg/pycocotools/__init__.py to __init__.cpython-37.pyc\n",
      "byte-compiling build/bdist.macosx-10.7-x86_64/egg/pycocotools/cocoeval.py to cocoeval.cpython-37.pyc\n",
      "creating stub loader for pycocotools/_mask.cpython-37m-darwin.so\n",
      "byte-compiling build/bdist.macosx-10.7-x86_64/egg/pycocotools/_mask.py to _mask.cpython-37.pyc\n",
      "creating build/bdist.macosx-10.7-x86_64/egg/EGG-INFO\n",
      "copying pycocotools.egg-info/PKG-INFO -> build/bdist.macosx-10.7-x86_64/egg/EGG-INFO\n",
      "copying pycocotools.egg-info/SOURCES.txt -> build/bdist.macosx-10.7-x86_64/egg/EGG-INFO\n",
      "copying pycocotools.egg-info/dependency_links.txt -> build/bdist.macosx-10.7-x86_64/egg/EGG-INFO\n",
      "copying pycocotools.egg-info/requires.txt -> build/bdist.macosx-10.7-x86_64/egg/EGG-INFO\n",
      "copying pycocotools.egg-info/top_level.txt -> build/bdist.macosx-10.7-x86_64/egg/EGG-INFO\n",
      "writing build/bdist.macosx-10.7-x86_64/egg/EGG-INFO/native_libs.txt\n",
      "zip_safe flag not set; analyzing archive contents...\n",
      "pycocotools.__pycache__._mask.cpython-37: module references __file__\n",
      "creating dist\n",
      "creating 'dist/pycocotools-2.0-py3.7-macosx-10.7-x86_64.egg' and adding 'build/bdist.macosx-10.7-x86_64/egg' to it\n",
      "removing 'build/bdist.macosx-10.7-x86_64/egg' (and everything under it)\n",
      "Processing pycocotools-2.0-py3.7-macosx-10.7-x86_64.egg\n",
      "creating /Users/ishizucat/.pyenv/versions/anaconda3-5.3.1/envs/torchdown/lib/python3.7/site-packages/pycocotools-2.0-py3.7-macosx-10.7-x86_64.egg\n",
      "Extracting pycocotools-2.0-py3.7-macosx-10.7-x86_64.egg to /Users/ishizucat/.pyenv/versions/anaconda3-5.3.1/envs/torchdown/lib/python3.7/site-packages\n",
      "Adding pycocotools 2.0 to easy-install.pth file\n",
      "\n",
      "Installed /Users/ishizucat/.pyenv/versions/anaconda3-5.3.1/envs/torchdown/lib/python3.7/site-packages/pycocotools-2.0-py3.7-macosx-10.7-x86_64.egg\n",
      "Processing dependencies for pycocotools==2.0\n",
      "Searching for matplotlib==2.2.3\n",
      "Best match: matplotlib 2.2.3\n",
      "Adding matplotlib 2.2.3 to easy-install.pth file\n",
      "\n",
      "Using /Users/ishizucat/.pyenv/versions/anaconda3-5.3.1/envs/torchdown/lib/python3.7/site-packages\n",
      "Searching for Cython==0.28.5\n",
      "Best match: Cython 0.28.5\n",
      "Adding Cython 0.28.5 to easy-install.pth file\n",
      "Installing cygdb script to /Users/ishizucat/.pyenv/versions/anaconda3-5.3.1/envs/torchdown/bin\n",
      "Installing cython script to /Users/ishizucat/.pyenv/versions/anaconda3-5.3.1/envs/torchdown/bin\n",
      "Installing cythonize script to /Users/ishizucat/.pyenv/versions/anaconda3-5.3.1/envs/torchdown/bin\n",
      "\n",
      "Using /Users/ishizucat/.pyenv/versions/anaconda3-5.3.1/envs/torchdown/lib/python3.7/site-packages\n",
      "Searching for setuptools==40.2.0\n",
      "Best match: setuptools 40.2.0\n",
      "Adding setuptools 40.2.0 to easy-install.pth file\n",
      "Installing easy_install script to /Users/ishizucat/.pyenv/versions/anaconda3-5.3.1/envs/torchdown/bin\n",
      "\n",
      "Using /Users/ishizucat/.pyenv/versions/anaconda3-5.3.1/envs/torchdown/lib/python3.7/site-packages\n",
      "Searching for kiwisolver==1.0.1\n",
      "Best match: kiwisolver 1.0.1\n",
      "Adding kiwisolver 1.0.1 to easy-install.pth file\n",
      "\n",
      "Using /Users/ishizucat/.pyenv/versions/anaconda3-5.3.1/envs/torchdown/lib/python3.7/site-packages\n",
      "Searching for six==1.11.0\n",
      "Best match: six 1.11.0\n",
      "Adding six 1.11.0 to easy-install.pth file\n",
      "\n",
      "Using /Users/ishizucat/.pyenv/versions/anaconda3-5.3.1/envs/torchdown/lib/python3.7/site-packages\n",
      "Searching for pytz==2018.5\n",
      "Best match: pytz 2018.5\n",
      "Adding pytz 2018.5 to easy-install.pth file\n",
      "\n",
      "Using /Users/ishizucat/.pyenv/versions/anaconda3-5.3.1/envs/torchdown/lib/python3.7/site-packages\n",
      "Searching for python-dateutil==2.7.3\n",
      "Best match: python-dateutil 2.7.3\n",
      "Adding python-dateutil 2.7.3 to easy-install.pth file\n",
      "\n",
      "Using /Users/ishizucat/.pyenv/versions/anaconda3-5.3.1/envs/torchdown/lib/python3.7/site-packages\n",
      "Searching for pyparsing==2.2.0\n",
      "Best match: pyparsing 2.2.0\n",
      "Adding pyparsing 2.2.0 to easy-install.pth file\n",
      "\n",
      "Using /Users/ishizucat/.pyenv/versions/anaconda3-5.3.1/envs/torchdown/lib/python3.7/site-packages\n",
      "Searching for cycler==0.10.0\n",
      "Best match: cycler 0.10.0\n",
      "Adding cycler 0.10.0 to easy-install.pth file\n",
      "\n",
      "Using /Users/ishizucat/.pyenv/versions/anaconda3-5.3.1/envs/torchdown/lib/python3.7/site-packages\n",
      "Searching for numpy==1.15.1\n",
      "Best match: numpy 1.15.1\n",
      "Adding numpy 1.15.1 to easy-install.pth file\n",
      "\n",
      "Using /Users/ishizucat/.pyenv/versions/anaconda3-5.3.1/envs/torchdown/lib/python3.7/site-packages\n",
      "Finished processing dependencies for pycocotools==2.0\n"
     ]
    }
   ],
   "source": [
    "!python setup.py install"
   ]
  },
  {
   "cell_type": "code",
   "execution_count": 8,
   "metadata": {},
   "outputs": [
    {
     "name": "stdout",
     "output_type": "stream",
     "text": [
      "/Users/ishizucat/git/diveintocode-ml\n"
     ]
    }
   ],
   "source": [
    "cd ../../"
   ]
  },
  {
   "cell_type": "code",
   "execution_count": 9,
   "metadata": {},
   "outputs": [
    {
     "name": "stdout",
     "output_type": "stream",
     "text": [
      "Cloning into 'pytorch-tutorial'...\n",
      "remote: Enumerating objects: 816, done.\u001b[K\n",
      "remote: Total 816 (delta 0), reused 0 (delta 0), pack-reused 816\u001b[K\n",
      "Receiving objects: 100% (816/816), 12.78 MiB | 2.92 MiB/s, done.\n",
      "Resolving deltas: 100% (432/432), done.\n"
     ]
    }
   ],
   "source": [
    "!git clone https://github.com/yunjey/pytorch-tutorial.git"
   ]
  },
  {
   "cell_type": "code",
   "execution_count": 10,
   "metadata": {},
   "outputs": [
    {
     "name": "stdout",
     "output_type": "stream",
     "text": [
      "/Users/ishizucat/git/diveintocode-ml/pytorch-tutorial/tutorials/03-advanced/image_captioning\n"
     ]
    }
   ],
   "source": [
    "cd pytorch-tutorial/tutorials/03-advanced/image_captioning/"
   ]
  },
  {
   "cell_type": "code",
   "execution_count": 11,
   "metadata": {},
   "outputs": [
    {
     "name": "stdout",
     "output_type": "stream",
     "text": [
      "Requirement already satisfied: matplotlib in /Users/ishizucat/.pyenv/versions/anaconda3-5.3.1/envs/torchdown/lib/python3.7/site-packages (from -r requirements.txt (line 1)) (2.2.3)\n",
      "Requirement already satisfied: nltk in /Users/ishizucat/.pyenv/versions/anaconda3-5.3.1/envs/torchdown/lib/python3.7/site-packages (from -r requirements.txt (line 2)) (3.3)\n",
      "Requirement already satisfied: numpy in /Users/ishizucat/.pyenv/versions/anaconda3-5.3.1/envs/torchdown/lib/python3.7/site-packages (from -r requirements.txt (line 3)) (1.15.1)\n",
      "Requirement already satisfied: Pillow in /Users/ishizucat/.pyenv/versions/anaconda3-5.3.1/envs/torchdown/lib/python3.7/site-packages (from -r requirements.txt (line 4)) (5.2.0)\n",
      "Collecting argparse\n",
      "  Downloading https://files.pythonhosted.org/packages/f2/94/3af39d34be01a24a6e65433d19e107099374224905f1e0cc6bbe1fd22a2f/argparse-1.4.0-py2.py3-none-any.whl\n",
      "Requirement already satisfied: cycler>=0.10 in /Users/ishizucat/.pyenv/versions/anaconda3-5.3.1/envs/torchdown/lib/python3.7/site-packages (from matplotlib->-r requirements.txt (line 1)) (0.10.0)\n",
      "Requirement already satisfied: pyparsing!=2.0.4,!=2.1.2,!=2.1.6,>=2.0.1 in /Users/ishizucat/.pyenv/versions/anaconda3-5.3.1/envs/torchdown/lib/python3.7/site-packages (from matplotlib->-r requirements.txt (line 1)) (2.2.0)\n",
      "Requirement already satisfied: python-dateutil>=2.1 in /Users/ishizucat/.pyenv/versions/anaconda3-5.3.1/envs/torchdown/lib/python3.7/site-packages (from matplotlib->-r requirements.txt (line 1)) (2.7.3)\n",
      "Requirement already satisfied: pytz in /Users/ishizucat/.pyenv/versions/anaconda3-5.3.1/envs/torchdown/lib/python3.7/site-packages (from matplotlib->-r requirements.txt (line 1)) (2018.5)\n",
      "Requirement already satisfied: six>=1.10 in /Users/ishizucat/.pyenv/versions/anaconda3-5.3.1/envs/torchdown/lib/python3.7/site-packages (from matplotlib->-r requirements.txt (line 1)) (1.11.0)\n",
      "Requirement already satisfied: kiwisolver>=1.0.1 in /Users/ishizucat/.pyenv/versions/anaconda3-5.3.1/envs/torchdown/lib/python3.7/site-packages (from matplotlib->-r requirements.txt (line 1)) (1.0.1)\n",
      "Requirement already satisfied: setuptools in /Users/ishizucat/.pyenv/versions/anaconda3-5.3.1/envs/torchdown/lib/python3.7/site-packages (from kiwisolver>=1.0.1->matplotlib->-r requirements.txt (line 1)) (40.2.0)\n",
      "Installing collected packages: argparse\n",
      "Successfully installed argparse-1.4.0\n"
     ]
    }
   ],
   "source": [
    "!pip install -r requirements.txt"
   ]
  },
  {
   "cell_type": "code",
   "execution_count": 12,
   "metadata": {},
   "outputs": [],
   "source": [
    "!chmod +x download.sh"
   ]
  },
  {
   "cell_type": "code",
   "execution_count": 13,
   "metadata": {},
   "outputs": [
    {
     "name": "stdout",
     "output_type": "stream",
     "text": [
      "0.4.1\n"
     ]
    }
   ],
   "source": [
    "print(torch.__version__)"
   ]
  },
  {
   "cell_type": "code",
   "execution_count": 15,
   "metadata": {},
   "outputs": [
    {
     "name": "stdout",
     "output_type": "stream",
     "text": [
      "Downloading: \"https://download.pytorch.org/models/resnet152-b121ed2d.pth\" to /Users/ishizucat/.torch/models/resnet152-b121ed2d.pth\n",
      "100%|███████████████████████| 241530880/241530880 [00:03<00:00, 73687941.57it/s]\n",
      "<start> a group of giraffes standing next to each other . <end>\n"
     ]
    }
   ],
   "source": [
    "!python sample.py --image='png/example.png'"
   ]
  },
  {
   "cell_type": "markdown",
   "metadata": {},
   "source": [
    "## オリジナルデータでキャプショニング"
   ]
  },
  {
   "cell_type": "code",
   "execution_count": 23,
   "metadata": {},
   "outputs": [
    {
     "name": "stdout",
     "output_type": "stream",
     "text": [
      "<start> a group of people riding horses on a dirt road . <end>\r\n"
     ]
    }
   ],
   "source": [
    "!python sample.py --image='png/example3.png'"
   ]
  },
  {
   "cell_type": "code",
   "execution_count": 24,
   "metadata": {},
   "outputs": [
    {
     "name": "stdout",
     "output_type": "stream",
     "text": [
      "<start> a table with a bunch of food on it <end>\r\n"
     ]
    }
   ],
   "source": [
    "!python sample.py --image='png/example4.png'"
   ]
  },
  {
   "cell_type": "code",
   "execution_count": 25,
   "metadata": {},
   "outputs": [
    {
     "name": "stdout",
     "output_type": "stream",
     "text": [
      "<start> a man sitting on a chair with a laptop on his lap . <end>\r\n"
     ]
    }
   ],
   "source": [
    "!python sample.py --image='png/example5.png'"
   ]
  },
  {
   "cell_type": "markdown",
   "metadata": {},
   "source": [
    "##Kerasで動かしたい場合はどうするかを調査"
   ]
  },
  {
   "cell_type": "markdown",
   "metadata": {},
   "source": [
    "以上"
   ]
  }
 ],
 "metadata": {
  "kernelspec": {
   "display_name": "Python 3",
   "language": "python",
   "name": "python3"
  },
  "language_info": {
   "codemirror_mode": {
    "name": "ipython",
    "version": 3
   },
   "file_extension": ".py",
   "mimetype": "text/x-python",
   "name": "python",
   "nbconvert_exporter": "python",
   "pygments_lexer": "ipython3",
   "version": "3.7.2"
  },
  "toc": {
   "base_numbering": 1,
   "nav_menu": {},
   "number_sections": true,
   "sideBar": true,
   "skip_h1_title": false,
   "title_cell": "Table of Contents",
   "title_sidebar": "Contents",
   "toc_cell": false,
   "toc_position": {},
   "toc_section_display": true,
   "toc_window_display": false
  },
  "varInspector": {
   "cols": {
    "lenName": 16,
    "lenType": 16,
    "lenVar": 40
   },
   "kernels_config": {
    "python": {
     "delete_cmd_postfix": "",
     "delete_cmd_prefix": "del ",
     "library": "var_list.py",
     "varRefreshCmd": "print(var_dic_list())"
    },
    "r": {
     "delete_cmd_postfix": ") ",
     "delete_cmd_prefix": "rm(",
     "library": "var_list.r",
     "varRefreshCmd": "cat(var_dic_list()) "
    }
   },
   "types_to_exclude": [
    "module",
    "function",
    "builtin_function_or_method",
    "instance",
    "_Feature"
   ],
   "window_display": false
  }
 },
 "nbformat": 4,
 "nbformat_minor": 2
}
