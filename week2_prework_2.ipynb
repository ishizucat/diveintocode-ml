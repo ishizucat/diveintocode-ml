{
  "nbformat": 4,
  "nbformat_minor": 0,
  "metadata": {
    "colab": {
      "name": "week2_prework_2.ipynb",
      "provenance": [],
      "collapsed_sections": []
    },
    "kernelspec": {
      "name": "python3",
      "display_name": "Python 3"
    }
  },
  "cells": [
    {
      "cell_type": "markdown",
      "metadata": {
        "id": "FW8v6mamZ1Un",
        "colab_type": "text"
      },
      "source": [
        "#Week2 事前課題\n",
        "##課題2 ダミーデータの作成\n",
        "###【問題１〜３】乱数の作成、散布図、ヒストグラム\n"
      ]
    },
    {
      "cell_type": "code",
      "metadata": {
        "id": "RUvCIGhbZuT1",
        "colab_type": "code",
        "colab": {
          "base_uri": "https://localhost:8080/",
          "height": 290
        },
        "outputId": "f1f7b1a9-8b5e-4719-d7ee-ab02692b1b4f"
      },
      "source": [
        "import numpy as np\n",
        "import matplotlib.pyplot as plt\n",
        "%matplotlib inline\n",
        " \n",
        "mu = [-3, 0] #平均\n",
        "sigma = [[1.0, 0.8], [0.8, 1.0]] #分散共分散行列\n",
        " \n",
        "#シード値の設定\n",
        "np.random.seed(0)\n",
        "\n",
        "# 2次元正規乱数を500個生成\n",
        "values = np.random.multivariate_normal(mu, sigma, 500)\n",
        "\n",
        "#散布図の描画 \n",
        "plt.scatter(values[:, 0], values[:, 1])\n",
        "plt.show()"
      ],
      "execution_count": 6,
      "outputs": [
        {
          "output_type": "display_data",
          "data": {
            "image/png": "[encoded data removed]",
            "text/plain": [
              "<Figure size 432x288 with 1 Axes>"
            ]
          },
          "metadata": {
            "tags": []
          }
        }
      ]
    },
    {
      "cell_type": "code",
      "metadata": {
        "id": "pYwecvjVsxCk",
        "colab_type": "code",
        "colab": {
          "base_uri": "https://localhost:8080/",
          "height": 304
        },
        "outputId": "c6207ef4-00db-4fd7-b6cd-b536182f057d"
      },
      "source": [
        "#ヒストグラムの作成\n",
        "plt.xlabel(\"x1\")\n",
        "plt.xlim(-6, 4)\n",
        "plt.hist(values[:, 0])\n",
        "plt.show()"
      ],
      "execution_count": 13,
      "outputs": [
        {
          "output_type": "display_data",
          "data": {
            "image/png": "[encoded data removed]",
            "text/plain": [
              "<Figure size 432x288 with 1 Axes>"
            ]
          },
          "metadata": {
            "tags": []
          }
        }
      ]
    },
    {
      "cell_type": "code",
      "metadata": {
        "id": "92cmMariwsaH",
        "colab_type": "code",
        "colab": {
          "base_uri": "https://localhost:8080/",
          "height": 290
        },
        "outputId": "2ca725a3-756d-41bb-bfc4-2601a97644c2"
      },
      "source": [
        "plt.xlabel(\"x2\")\n",
        "plt.xlim(-6, 4)\n",
        "plt.hist(values[:, 1])\n",
        "plt.show()"
      ],
      "execution_count": 12,
      "outputs": [
        {
          "output_type": "display_data",
          "data": {
            "image/png": "[encoded data removed]",
            "text/plain": [
              "<Figure size 432x288 with 1 Axes>"
            ]
          },
          "metadata": {
            "tags": []
          }
        }
      ]
    },
    {
      "cell_type": "markdown",
      "metadata": {
        "id": "PPfOzQISyvdZ",
        "colab_type": "text"
      },
      "source": [
        "###【問題４】データの追加"
      ]
    },
    {
      "cell_type": "code",
      "metadata": {
        "id": "5vzN6Fdlwz0J",
        "colab_type": "code",
        "colab": {
          "base_uri": "https://localhost:8080/",
          "height": 290
        },
        "outputId": "38f456d8-4952-4553-caed-42a8edba9b3d"
      },
      "source": [
        "mu = [0, -3] #平均\n",
        "sigma = [[1.0, 0.8], [0.8, 1.0]] #分散共分散行列\n",
        "values2 = np.random.multivariate_normal(mu, sigma, 500)\n",
        "\n",
        "#散布図の描画\n",
        "fig = plt.figure()\n",
        "ax = fig.add_subplot(1,1,1)\n",
        "ax.scatter(values[:, 0],values[:, 1], c='red', label='0')\n",
        "ax.scatter(values2[:, 0],values2[:, 1], c='blue', label='1')\n",
        "ax.legend(loc='upper right')\n",
        "fig.show()"
      ],
      "execution_count": 18,
      "outputs": [
        {
          "output_type": "display_data",
          "data": {
            "image/png": "[encoded data removed]",
            "text/plain": [
              "<Figure size 432x288 with 1 Axes>"
            ]
          },
          "metadata": {
            "tags": []
          }
        }
      ]
    },
    {
      "cell_type": "markdown",
      "metadata": {
        "id": "F6_dqeD01iOq",
        "colab_type": "text"
      },
      "source": [
        "###【問題５〜６】データの結合、ラベリング\n"
      ]
    },
    {
      "cell_type": "code",
      "metadata": {
        "id": "iB4zjs-X0FpQ",
        "colab_type": "code",
        "colab": {
          "base_uri": "https://localhost:8080/",
          "height": 110
        },
        "outputId": "31581829-85e5-4d7d-c5c5-2db8b4d8c999"
      },
      "source": [
        "#データの結合\n",
        "con_value = np.concatenate((values,values2))\n",
        "print(np.shape(con_value))\n",
        "\n",
        "#ラベリング用データの作成\n",
        "values_rabel = np.zeros(500)\n",
        "values2_rabel = np.ones(500)\n",
        "con_value_rabel = np.concatenate((values_rabel, values2_rabel)).reshape(1000, 1)\n",
        "print(np.shape(con_value_rabel))\n",
        "\n",
        "#ラベルデータをhstackを使用して結合\n",
        "con_value = np.hstack((con_value, con_value_rabel))\n",
        "print(np.shape(con_value))"
      ],
      "execution_count": 34,
      "outputs": [
        {
          "output_type": "stream",
          "text": [
            "(1000, 2)\n",
            "(1000, 1)\n",
            "(1000, 3)\n"
          ],
          "name": "stdout"
        }
      ]
    },
    {
      "cell_type": "code",
      "metadata": {
        "id": "iX-PZ4aW17fs",
        "colab_type": "code",
        "colab": {}
      },
      "source": [
        ""
      ],
      "execution_count": 0,
      "outputs": []
    }
  ]
}