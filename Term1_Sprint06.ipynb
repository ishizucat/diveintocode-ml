{
 "cells": [
  {
   "cell_type": "markdown",
   "metadata": {},
   "source": [
    "# Term1 Sprint６ 機械学習スクラッチ　決定木\n",
    "\n"
   ]
  },
  {
   "cell_type": "code",
   "execution_count": 1,
   "metadata": {
    "cell_style": "split"
   },
   "outputs": [],
   "source": [
    "#基本ライブラリ\n",
    "import pickle\n",
    "import numpy as np\n",
    "import matplotlib.pyplot as plt\n",
    "import pandas as pd\n",
    "import seaborn as sns\n",
    "%matplotlib inline"
   ]
  },
  {
   "cell_type": "code",
   "execution_count": 2,
   "metadata": {
    "cell_style": "split"
   },
   "outputs": [],
   "source": [
    "#scikit-learnライブラリ\n",
    "from sklearn.preprocessing import StandardScaler\n",
    "from sklearn import metrics\n",
    "from sklearn.model_selection import train_test_split\n",
    "\n",
    "#データセット\n",
    "from sklearn.datasets import load_iris"
   ]
  },
  {
   "cell_type": "code",
   "execution_count": 3,
   "metadata": {},
   "outputs": [],
   "source": [
    "#今回だけ\n",
    "import scipy.stats as stats   #scipy.stats.mode用"
   ]
  },
  {
   "cell_type": "markdown",
   "metadata": {},
   "source": [
    "## 【問題1】ジニ不純度を求める関数\n",
    "\n",
    "\n",
    "まずは空間を分割するための指標値、ジニ不純度を計算する関数を作成する。ノードtに対するジニ不純度I(t) は以下の数式で求まる。\n",
    "\n",
    "$$\n",
    "I(t) = 1- \\sum_{i=1}^K P^2(C_i | t) = 1 - \\sum_{i=1}^K(\\frac{N_{t,i}}{N_{t,all}})^2\n",
    "$$\n",
    "\n",
    "- t  : ノードのインデックス\n",
    "- i : クラスのインデックス\n",
    "- K : クラスの数\n",
    "- Ci : i番目のクラス\n",
    "- P(Ci|t) :　t番目のノードにおける\n",
    "- Ciの割合Nt,i : t番目のノードのi番目のクラスに属するサンプル数\n",
    "- Nt,all : t番目のノードのサンプルの総数\n",
    "\n",
    "まずは簡単な例を作り、手計算と関数の結果を比較する。\n",
    "\n",
    "例\n",
    " - クラス1:サンプル数15, クラス2:サンプル数15 → ジニ不純度0.500\n",
    " - クラス1:サンプル数15, クラス2:サンプル数15, クラス3:サンプル数15 → ジニ不純度0.667\n",
    " - クラス1:サンプル数18, クラス2:サンプル数12 → ジニ不純度0.480\n",
    " - クラス1:サンプル数30, クラス2:サンプル数0 → ジニ不純度0.000"
   ]
  },
  {
   "cell_type": "code",
   "execution_count": 4,
   "metadata": {},
   "outputs": [
    {
     "name": "stdout",
     "output_type": "stream",
     "text": [
      "サンプル数 100\n",
      "初期ジニ不純度＝ 0.48\n"
     ]
    }
   ],
   "source": [
    "#手計算\n",
    "male = np.zeros(40)\n",
    "female = np.ones(60)\n",
    "people = np.hstack([male, female])\n",
    "\n",
    "#サンプル数\n",
    "ip_nt_all = people.size\n",
    "\n",
    "#ジニ係数\n",
    "Ig0 = 1 - ((len(male)/ip_nt_all)**2 + (len(female)/ip_nt_all)**2)\n",
    "\n",
    "print(\"サンプル数\", ip_nt_all)\n",
    "print(\"初期ジニ不純度＝\", Ig0)\n"
   ]
  },
  {
   "cell_type": "code",
   "execution_count": 5,
   "metadata": {},
   "outputs": [
    {
     "name": "stdout",
     "output_type": "stream",
     "text": [
      "people_left [0. 0. 1. 1. 1. 0. 1. 0. 0. 1. 1. 1. 1. 0. 1. 1. 0. 1. 1. 0. 0. 0. 0. 0.\n",
      " 1. 1. 0. 1. 0. 0. 1. 0. 1. 0. 0. 1. 1. 0. 0. 1. 0. 1. 0. 0. 0. 0. 1. 1.\n",
      " 1. 1. 1. 1. 1. 1. 1. 1. 1. 1. 1. 1.]\n",
      "people_right [1. 1. 1. 0. 1. 0. 1. 0. 1. 1. 1. 0. 1. 1. 1. 0. 1. 1. 1. 0. 1. 0. 0. 0.\n",
      " 1. 1. 1. 0. 0. 0. 0. 1. 1. 0. 1. 1. 1. 0. 1. 1.]\n",
      "Ig(Dleft)= \n",
      " 0.48611111111111105\n",
      "Ig(Dright)= \n",
      " 0.46875\n"
     ]
    }
   ],
   "source": [
    "#手計算２\n",
    "np.random.seed(seed=32)\n",
    "\n",
    "people2 = np.random.permutation(people)   #人工的に閾値\n",
    "\n",
    "people_left = people2[:60]\n",
    "people_right = people2[60:]\n",
    "\n",
    "print(\"people_left\", people_left)\n",
    "print(\"people_right\", people_right)\n",
    "\n",
    "#各ノードサンプル数\n",
    "left_nt_all = people_left.size\n",
    "right_nt_all = people_right.size\n",
    "\n",
    "#左ジニ係数\n",
    "lg1_left = 1 - (\n",
    "    ((left_nt_all - np.count_nonzero(people_left)) / left_nt_all)**2\n",
    "                + (np.count_nonzero(people_left) / left_nt_all)**2\n",
    ")\n",
    "\n",
    "#右ジニ係数\n",
    "lg1_right = 1 - (\n",
    "    ((right_nt_all - np.count_nonzero(people_right)) / right_nt_all)**2\n",
    "                + (np.count_nonzero(people_right) / right_nt_all)**2)\n",
    "\n",
    "\n",
    "print(\"Ig(Dleft)= \\n\", lg1_left)\n",
    "print(\"Ig(Dright)= \\n\", lg1_right)\n"
   ]
  },
  {
   "cell_type": "code",
   "execution_count": 6,
   "metadata": {},
   "outputs": [
    {
     "data": {
      "text/plain": [
       "0.0008333333333333526"
      ]
     },
     "execution_count": 6,
     "metadata": {},
     "output_type": "execute_result"
    }
   ],
   "source": [
    "#情報利得\n",
    "Ig0 - (left_nt_all / ip_nt_all)*lg1_left - (right_nt_all / ip_nt_all)*lg1_right"
   ]
  },
  {
   "cell_type": "markdown",
   "metadata": {},
   "source": [
    "### gini_diversity_index()\n",
    "\n",
    "2クラス分類で考える\n"
   ]
  },
  {
   "cell_type": "code",
   "execution_count": 7,
   "metadata": {},
   "outputs": [],
   "source": [
    "def gini_diversity_index(X):\n",
    "    \"\"\"\n",
    "    ジニ不純度を計算する関数\n",
    "    \n",
    "    ----\n",
    "    input: １特徴量のデータ(１次元）\n",
    "    output：ジニ係数\n",
    "    \"\"\"\n",
    "    #ノードt内のサンプル数\n",
    "    nt_all = X.size\n",
    "    \n",
    "    #クラスリストの取得\n",
    "    class_list = np.unique(X)\n",
    "    \n",
    "    #クラス数の取得\n",
    "    class_num = class_list.size\n",
    "    \n",
    "    #シグマ内加算\n",
    "    sigma = 0\n",
    "    \n",
    "    #クラスiに属するサンプル\n",
    "    for i in range(class_num):\n",
    "        sigma += (np.sum(X == class_list[i]) / nt_all)**2\n",
    "    \n",
    "    gini = 1-sigma\n",
    "    \n",
    "    return gini"
   ]
  },
  {
   "cell_type": "code",
   "execution_count": 8,
   "metadata": {},
   "outputs": [
    {
     "data": {
      "text/plain": [
       "0.48"
      ]
     },
     "execution_count": 8,
     "metadata": {},
     "output_type": "execute_result"
    }
   ],
   "source": [
    "#手計算の結果と比較\n",
    "gini_diversity_index(people)\n"
   ]
  },
  {
   "cell_type": "markdown",
   "metadata": {},
   "source": [
    "## 【問題2】情報利得を求める関数\n",
    "\n",
    "情報利得：分割精度の指標値　（＝分割前の不純度 - 分割後の不純度）\n",
    "\n",
    "情報利得を計算する関数を作成する。先ほど作成したジニ不純度 I(t)を計算する関数を呼び出して使う。情報利得IGは以下の数式で求まる。\n",
    "\n",
    "$$\n",
    "IG(p) = I(p) - \\frac{N_{left,all}}{N_{p,all}}I(left) - \\frac{N_{right,all}}{N_{p,all}}I(right)\n",
    "$$\n",
    "\n",
    " - p : 親ノードを示すインデックス\n",
    "\n",
    " - left : 左側のノードを示すインデックス\n",
    "\n",
    " - right : 右側のノードを示すインデックス\n",
    " \n",
    "（ノードXの不純度）ー（ノードYの割合）＊（ノードY1の不純度）ー（ノードYの割合）＊（ノードY2の不純度）\n",
    "\n",
    "\n",
    "\n",
    "＜例＞\n",
    "\n",
    "左ノードクラス1:サンプル数10, 左ノードクラス2:サンプル数30, 右ノードクラス1:サンプル数20, 右ノードクラス2:サンプル数5 → 情報利得0.143\n"
   ]
  },
  {
   "cell_type": "markdown",
   "metadata": {},
   "source": [
    "### information_gain()"
   ]
  },
  {
   "cell_type": "code",
   "execution_count": 9,
   "metadata": {},
   "outputs": [],
   "source": [
    "def information_gain(ip, left_gini, right_gini, left_nt_all, right_nt_all):\n",
    "    \"\"\"\n",
    "    情報利得を計算する関数\n",
    "    \n",
    "    ----\n",
    "    <input>\n",
    "    ip : 親ノードのジニ係数\n",
    "    left_gini:左ノードのジニ係数\n",
    "    right_gini:右ノードのジニ係数\n",
    "    ip_nt_all：親ノードのサンプル数\n",
    "    left_nt_all：左ノードのサンプル数\n",
    "    right_nt_all：右ノードのサンプル数\n",
    "    \n",
    "    <output>\n",
    "    情報利得\n",
    "    \"\"\"\n",
    "    ip_nt_all = left_nt_all + right_nt_all\n",
    "\n",
    "    IG = ip - (left_nt_all / ip_nt_all)*left_gini - (right_nt_all / ip_nt_all)*right_gini\n",
    "\n",
    "    return IG"
   ]
  },
  {
   "cell_type": "code",
   "execution_count": 10,
   "metadata": {},
   "outputs": [
    {
     "data": {
      "text/plain": [
       "0.0008333333333333526"
      ]
     },
     "execution_count": 10,
     "metadata": {},
     "output_type": "execute_result"
    }
   ],
   "source": [
    "#関数の動作確認\n",
    "\n",
    "information_gain(Ig0, lg1_left, lg1_right, left_nt_all, right_nt_all)"
   ]
  },
  {
   "cell_type": "markdown",
   "metadata": {},
   "source": [
    "## 【問題3】深さ1の決定木分類器クラスの作成\n",
    "\n",
    "深さが1の決定機分類器のクラスを作成し、Sprint2で作成した分類のパイプラインに組み込む。深さ１とは、空間の分割を1回だけ行うことを指す。\n",
    "\n",
    "**決定木のアルゴリズム**\n",
    "\n",
    " ある特徴量の軸に対して、全てのパターンのしきい値を考え、それぞれの情報利得を計算していきます。各点の値をしきい値にする方法が一般的です。（ただし、実際にはしきい値の数は点の数よりひとつ少なくて良いことになります）分割の全候補の中で最も情報利得が大きくなるものをそのノードの分割方法として採用します。\n",
    "\n",
    " ジニ不純度が0になるノード、または指定された深さのノードは葉と呼ばれます。葉にはそれぞれ推定時にどのクラスに分類するかを記録しておきます。ジニ不純度が0でない場合は、多数決により分類するクラスを決定します。"
   ]
  },
  {
   "cell_type": "markdown",
   "metadata": {},
   "source": [
    "### 具体的な理解\n"
   ]
  },
  {
   "cell_type": "code",
   "execution_count": 11,
   "metadata": {},
   "outputs": [
    {
     "name": "stdout",
     "output_type": "stream",
     "text": [
      "[0. 0. 1. 1. 1. 0. 1. 0. 0. 1. 1. 1. 1. 0. 1. 1. 0. 1. 1. 0. 0. 0. 0. 0.\n",
      " 1. 1. 0. 1. 0. 0. 1. 0. 1. 0. 0. 1. 1. 0. 0. 1. 0. 1. 0. 0. 0. 0. 1. 1.\n",
      " 1. 1. 1. 1. 1. 1. 1. 1. 1. 1. 1. 1. 1. 1. 1. 0. 1. 0. 1. 0. 1. 1. 1. 0.\n",
      " 1. 1. 1. 0. 1. 1. 1. 0. 1. 0. 0. 0. 1. 1. 1. 0. 0. 0. 0. 1. 1. 0. 1. 1.\n",
      " 1. 0. 1. 1.]\n",
      "ジニ係数 0.48\n"
     ]
    }
   ],
   "source": [
    "#対象となるデータ\n",
    "print(people2)\n",
    "print(\"ジニ係数\", gini_diversity_index(people2))"
   ]
  },
  {
   "cell_type": "code",
   "execution_count": 12,
   "metadata": {},
   "outputs": [
    {
     "name": "stdout",
     "output_type": "stream",
     "text": [
      "0.0350724637681159\n"
     ]
    },
    {
     "data": {
      "text/plain": [
       "(0.0350724637681159, 45)"
      ]
     },
     "execution_count": 12,
     "metadata": {},
     "output_type": "execute_result"
    }
   ],
   "source": [
    "#親ノードの中で情報利得が最も大きい値を探す\n",
    "ip_gini = gini_diversity_index(people2)\n",
    "ip_nt_all = people2.size\n",
    "gain_list = []\n",
    "\n",
    "for i in range(people2.size-1):\n",
    "    left = people2[:i+1]\n",
    "    right = people2[i+1:]\n",
    "    gain_list.append(\n",
    "    information_gain(\n",
    "        ip_gini,\n",
    "        gini_diversity_index(left),\n",
    "        gini_diversity_index(right),\n",
    "        left.size, right.size)\n",
    "         )\n",
    "\n",
    "print(max(gain_list))\n",
    "max(zip(gain_list, range(len(gain_list))))"
   ]
  },
  {
   "cell_type": "markdown",
   "metadata": {},
   "source": [
    "４５番目の敷居が最も大きくなった"
   ]
  },
  {
   "cell_type": "markdown",
   "metadata": {},
   "source": [
    "### アイリスのデータで考えてみる"
   ]
  },
  {
   "cell_type": "code",
   "execution_count": 13,
   "metadata": {},
   "outputs": [
    {
     "data": {
      "text/html": [
       "<div>\n",
       "<style scoped>\n",
       "    .dataframe tbody tr th:only-of-type {\n",
       "        vertical-align: middle;\n",
       "    }\n",
       "\n",
       "    .dataframe tbody tr th {\n",
       "        vertical-align: top;\n",
       "    }\n",
       "\n",
       "    .dataframe thead th {\n",
       "        text-align: right;\n",
       "    }\n",
       "</style>\n",
       "<table border=\"1\" class=\"dataframe\">\n",
       "  <thead>\n",
       "    <tr style=\"text-align: right;\">\n",
       "      <th></th>\n",
       "      <th>sepal_length</th>\n",
       "      <th>sepal_width</th>\n",
       "      <th>petal_length</th>\n",
       "      <th>petal_width</th>\n",
       "      <th>Species</th>\n",
       "    </tr>\n",
       "  </thead>\n",
       "  <tbody>\n",
       "    <tr>\n",
       "      <th>50</th>\n",
       "      <td>7.0</td>\n",
       "      <td>3.2</td>\n",
       "      <td>4.7</td>\n",
       "      <td>1.4</td>\n",
       "      <td>1.0</td>\n",
       "    </tr>\n",
       "    <tr>\n",
       "      <th>51</th>\n",
       "      <td>6.4</td>\n",
       "      <td>3.2</td>\n",
       "      <td>4.5</td>\n",
       "      <td>1.5</td>\n",
       "      <td>1.0</td>\n",
       "    </tr>\n",
       "    <tr>\n",
       "      <th>52</th>\n",
       "      <td>6.9</td>\n",
       "      <td>3.1</td>\n",
       "      <td>4.9</td>\n",
       "      <td>1.5</td>\n",
       "      <td>1.0</td>\n",
       "    </tr>\n",
       "    <tr>\n",
       "      <th>53</th>\n",
       "      <td>5.5</td>\n",
       "      <td>2.3</td>\n",
       "      <td>4.0</td>\n",
       "      <td>1.3</td>\n",
       "      <td>1.0</td>\n",
       "    </tr>\n",
       "    <tr>\n",
       "      <th>54</th>\n",
       "      <td>6.5</td>\n",
       "      <td>2.8</td>\n",
       "      <td>4.6</td>\n",
       "      <td>1.5</td>\n",
       "      <td>1.0</td>\n",
       "    </tr>\n",
       "  </tbody>\n",
       "</table>\n",
       "</div>"
      ],
      "text/plain": [
       "    sepal_length  sepal_width  petal_length  petal_width  Species\n",
       "50           7.0          3.2           4.7          1.4      1.0\n",
       "51           6.4          3.2           4.5          1.5      1.0\n",
       "52           6.9          3.1           4.9          1.5      1.0\n",
       "53           5.5          2.3           4.0          1.3      1.0\n",
       "54           6.5          2.8           4.6          1.5      1.0"
      ]
     },
     "execution_count": 13,
     "metadata": {},
     "output_type": "execute_result"
    }
   ],
   "source": [
    "iris = load_iris()\n",
    "nd_Xy  = np.concatenate([iris.data, iris.target.reshape(150,1)], axis=1)\n",
    "\n",
    "df_0 = pd.DataFrame(nd_Xy, columns=[\"sepal_length\", \"sepal_width\", \"petal_length\", \"petal_width\", \"Species\"])\n",
    "df = df_0[df_0[\"Species\"].isin([1, 2])]\n",
    "\n",
    "df.head()"
   ]
  },
  {
   "cell_type": "code",
   "execution_count": 14,
   "metadata": {},
   "outputs": [
    {
     "data": {
      "image/png": "[encoded data removed]",
      "text/plain": [
       "<Figure size 432x288 with 1 Axes>"
      ]
     },
     "metadata": {
      "needs_background": "light"
     },
     "output_type": "display_data"
    }
   ],
   "source": [
    "df_1 = df.query(\"Species == 1\").iloc[:,[0,1,4]]   #sepal_lengthとsepal_widthのみ選択\n",
    "df_2 = df.query(\"Species == 2\").iloc[:,[0,1,4]]\n",
    "\n",
    "plt.xlabel(\"sepal_length\")\n",
    "plt.ylabel(\"sepal_width\")\n",
    "plt.scatter(df_1.sepal_length, df_1.sepal_width, label=\"1\")\n",
    "plt.scatter(df_2.sepal_length, df_2.sepal_width, label=\"2\")\n",
    "plt.legend()\n",
    "plt.show()"
   ]
  },
  {
   "cell_type": "code",
   "execution_count": 15,
   "metadata": {},
   "outputs": [
    {
     "data": {
      "text/plain": [
       "array([4.9, 5. , 5.1, 5.2, 5.4, 5.5, 5.6, 5.7, 5.8, 5.9, 6. , 6.1, 6.2,\n",
       "       6.3, 6.4, 6.5, 6.6, 6.7, 6.8, 6.9, 7. , 7.1, 7.2, 7.3, 7.4, 7.6,\n",
       "       7.7, 7.9])"
      ]
     },
     "execution_count": 15,
     "metadata": {},
     "output_type": "execute_result"
    }
   ],
   "source": [
    "#閾値のリスト\n",
    "np.unique(df.sepal_length.values)"
   ]
  },
  {
   "cell_type": "code",
   "execution_count": 16,
   "metadata": {
    "cell_style": "split"
   },
   "outputs": [
    {
     "name": "stdout",
     "output_type": "stream",
     "text": [
      "[[7.  1. ]\n",
      " [6.4 1. ]\n",
      " [6.9 1. ]\n",
      " [5.5 1. ]\n",
      " [6.5 1. ]\n",
      " [5.7 1. ]\n",
      " [6.3 1. ]\n",
      " [4.9 1. ]\n",
      " [6.6 1. ]\n",
      " [5.2 1. ]\n",
      " [5.  1. ]\n",
      " [5.9 1. ]\n",
      " [6.  1. ]\n",
      " [6.1 1. ]\n",
      " [5.6 1. ]\n",
      " [6.7 1. ]\n",
      " [5.6 1. ]\n",
      " [5.8 1. ]\n",
      " [6.2 1. ]\n",
      " [5.6 1. ]\n",
      " [5.9 1. ]\n",
      " [6.1 1. ]\n",
      " [6.3 1. ]\n",
      " [6.1 1. ]\n",
      " [6.4 1. ]\n",
      " [6.6 1. ]\n",
      " [6.8 1. ]\n",
      " [6.7 1. ]\n",
      " [6.  1. ]\n",
      " [5.7 1. ]\n",
      " [5.5 1. ]\n",
      " [5.5 1. ]\n",
      " [5.8 1. ]\n",
      " [6.  1. ]\n",
      " [5.4 1. ]\n",
      " [6.  1. ]\n",
      " [6.7 1. ]\n",
      " [6.3 1. ]\n",
      " [5.6 1. ]\n",
      " [5.5 1. ]\n",
      " [5.5 1. ]\n",
      " [6.1 1. ]\n",
      " [5.8 1. ]\n",
      " [5.  1. ]\n",
      " [5.6 1. ]\n",
      " [5.7 1. ]\n",
      " [5.7 1. ]\n",
      " [6.2 1. ]\n",
      " [5.1 1. ]\n",
      " [5.7 1. ]\n",
      " [6.3 2. ]\n",
      " [5.8 2. ]\n",
      " [7.1 2. ]\n",
      " [6.3 2. ]\n",
      " [6.5 2. ]\n",
      " [7.6 2. ]\n",
      " [4.9 2. ]\n",
      " [7.3 2. ]\n",
      " [6.7 2. ]\n",
      " [7.2 2. ]\n",
      " [6.5 2. ]\n",
      " [6.4 2. ]\n",
      " [6.8 2. ]\n",
      " [5.7 2. ]\n",
      " [5.8 2. ]\n",
      " [6.4 2. ]\n",
      " [6.5 2. ]\n",
      " [7.7 2. ]\n",
      " [7.7 2. ]\n",
      " [6.  2. ]\n",
      " [6.9 2. ]\n",
      " [5.6 2. ]\n",
      " [7.7 2. ]\n",
      " [6.3 2. ]\n",
      " [6.7 2. ]\n",
      " [7.2 2. ]\n",
      " [6.2 2. ]\n",
      " [6.1 2. ]\n",
      " [6.4 2. ]\n",
      " [7.2 2. ]\n",
      " [7.4 2. ]\n",
      " [7.9 2. ]\n",
      " [6.4 2. ]\n",
      " [6.3 2. ]\n",
      " [6.1 2. ]\n",
      " [7.7 2. ]\n",
      " [6.3 2. ]\n",
      " [6.4 2. ]\n",
      " [6.  2. ]\n",
      " [6.9 2. ]\n",
      " [6.7 2. ]\n",
      " [6.9 2. ]\n",
      " [5.8 2. ]\n",
      " [6.8 2. ]\n",
      " [6.7 2. ]\n",
      " [6.7 2. ]\n",
      " [6.3 2. ]\n",
      " [6.5 2. ]\n",
      " [6.2 2. ]\n",
      " [5.9 2. ]]\n"
     ]
    }
   ],
   "source": [
    "#sepal_lengthとターゲットのみのデータ\n",
    "df_3 = df.iloc[:,[0,4]] \n",
    "X = df_3.values\n",
    "print(X)"
   ]
  },
  {
   "cell_type": "code",
   "execution_count": 17,
   "metadata": {
    "cell_style": "split"
   },
   "outputs": [
    {
     "name": "stdout",
     "output_type": "stream",
     "text": [
      "[[4.9 2. ]\n",
      " [4.9 1. ]\n",
      " [5.  1. ]\n",
      " [5.  1. ]\n",
      " [5.1 1. ]\n",
      " [5.2 1. ]\n",
      " [5.4 1. ]\n",
      " [5.5 1. ]\n",
      " [5.5 1. ]\n",
      " [5.5 1. ]\n",
      " [5.5 1. ]\n",
      " [5.5 1. ]\n",
      " [5.6 1. ]\n",
      " [5.6 1. ]\n",
      " [5.6 1. ]\n",
      " [5.6 2. ]\n",
      " [5.6 1. ]\n",
      " [5.6 1. ]\n",
      " [5.7 1. ]\n",
      " [5.7 1. ]\n",
      " [5.7 1. ]\n",
      " [5.7 2. ]\n",
      " [5.7 1. ]\n",
      " [5.7 1. ]\n",
      " [5.8 1. ]\n",
      " [5.8 2. ]\n",
      " [5.8 2. ]\n",
      " [5.8 1. ]\n",
      " [5.8 2. ]\n",
      " [5.8 1. ]\n",
      " [5.9 2. ]\n",
      " [5.9 1. ]\n",
      " [5.9 1. ]\n",
      " [6.  2. ]\n",
      " [6.  1. ]\n",
      " [6.  2. ]\n",
      " [6.  1. ]\n",
      " [6.  1. ]\n",
      " [6.  1. ]\n",
      " [6.1 2. ]\n",
      " [6.1 2. ]\n",
      " [6.1 1. ]\n",
      " [6.1 1. ]\n",
      " [6.1 1. ]\n",
      " [6.1 1. ]\n",
      " [6.2 2. ]\n",
      " [6.2 1. ]\n",
      " [6.2 2. ]\n",
      " [6.2 1. ]\n",
      " [6.3 1. ]\n",
      " [6.3 2. ]\n",
      " [6.3 2. ]\n",
      " [6.3 2. ]\n",
      " [6.3 2. ]\n",
      " [6.3 1. ]\n",
      " [6.3 2. ]\n",
      " [6.3 1. ]\n",
      " [6.3 2. ]\n",
      " [6.4 2. ]\n",
      " [6.4 2. ]\n",
      " [6.4 2. ]\n",
      " [6.4 2. ]\n",
      " [6.4 2. ]\n",
      " [6.4 1. ]\n",
      " [6.4 1. ]\n",
      " [6.5 1. ]\n",
      " [6.5 2. ]\n",
      " [6.5 2. ]\n",
      " [6.5 2. ]\n",
      " [6.5 2. ]\n",
      " [6.6 1. ]\n",
      " [6.6 1. ]\n",
      " [6.7 2. ]\n",
      " [6.7 2. ]\n",
      " [6.7 2. ]\n",
      " [6.7 1. ]\n",
      " [6.7 2. ]\n",
      " [6.7 1. ]\n",
      " [6.7 1. ]\n",
      " [6.7 2. ]\n",
      " [6.8 1. ]\n",
      " [6.8 2. ]\n",
      " [6.8 2. ]\n",
      " [6.9 1. ]\n",
      " [6.9 2. ]\n",
      " [6.9 2. ]\n",
      " [6.9 2. ]\n",
      " [7.  1. ]\n",
      " [7.1 2. ]\n",
      " [7.2 2. ]\n",
      " [7.2 2. ]\n",
      " [7.2 2. ]\n",
      " [7.3 2. ]\n",
      " [7.4 2. ]\n",
      " [7.6 2. ]\n",
      " [7.7 2. ]\n",
      " [7.7 2. ]\n",
      " [7.7 2. ]\n",
      " [7.7 2. ]\n",
      " [7.9 2. ]]\n"
     ]
    }
   ],
   "source": [
    "#ソート\n",
    "X_sorted = X[np.argsort(X[:, 0])]\n",
    "print(X_sorted)\n"
   ]
  },
  {
   "cell_type": "code",
   "execution_count": 18,
   "metadata": {},
   "outputs": [
    {
     "name": "stdout",
     "output_type": "stream",
     "text": [
      "[2. 1. 1. 1. 1. 1. 1. 1. 1. 1. 1. 1. 1. 1. 1. 2. 1. 1. 1. 1. 1. 2. 1. 1.\n",
      " 1. 2. 2. 1. 2. 1. 2. 1. 1. 2. 1. 2. 1. 1. 1. 2. 2. 1. 1. 1. 1. 2. 1. 2.\n",
      " 1. 1. 2. 2. 2. 2. 1. 2. 1. 2. 2. 2. 2. 2. 2. 1. 1. 1. 2. 2. 2. 2. 1. 1.\n",
      " 2. 2. 2. 1. 2. 1. 1. 2. 1. 2. 2. 1. 2. 2. 2. 1. 2. 2. 2. 2. 2. 2. 2. 2.\n",
      " 2. 2. 2. 2.]\n"
     ]
    }
   ],
   "source": [
    "y_sorted = X_sorted[:,1]\n",
    "print(y_sorted)"
   ]
  },
  {
   "cell_type": "markdown",
   "metadata": {},
   "source": [
    "### ScratchDecesionTreeClassifier()"
   ]
  },
  {
   "cell_type": "code",
   "execution_count": 39,
   "metadata": {
    "code_folding": [
     108,
     136
    ]
   },
   "outputs": [],
   "source": [
    "class ScratchDecesionTreeClassifier():\n",
    "    \"\"\"\n",
    "    決定木のスクラッチ実装\n",
    "\n",
    "    Parameters\n",
    "    ----------\n",
    "    verbose : bool　学習過程を出力する場合はTrue\n",
    "\n",
    "    Attributes\n",
    "    ----------\n",
    "    self.threshold_ : 境界の閾値\n",
    "    \"\"\"\n",
    "\n",
    "    def __init__(self, verbose=False):\n",
    "        # ハイパーパラメータを属性として記録\n",
    "        self.verbose = verbose\n",
    "        self.threshold_ = []\n",
    "        \n",
    "        #空間のラベルを保持する\n",
    "        self.space_label = []\n",
    "        \n",
    "        \n",
    "    def fit(self, X, y, X_val=None, y_val=None):\n",
    "        \"\"\"\n",
    "        決定木を学習する。検証用データが入力された場合はそれに対する損失と精度もイテレーションごとに計算する。\n",
    "\n",
    "        Parameters\n",
    "        ----------\n",
    "        X : 次の形のndarray, shape (n_samples, n_features)　　　学習用データの特徴量\n",
    "        y : 次の形のndarray, shape (n_samples, )　　　　　            学習用データの正解値\n",
    "        X_val : 次の形のndarray, shape (n_samples, n_features)    検証用データの特徴量\n",
    "        y_val : 次の形のndarray, shape (n_samples, )　　　            検証用データの正解値\n",
    "        \"\"\"\n",
    "        #特徴量を取得\n",
    "        self.x_nums = X.shape[1]\n",
    "        \n",
    "        #Xとyを結合した行列を得る\n",
    "        Xy = np.concatenate([X,y], 1)\n",
    "        \n",
    "        #親ノードのジニ係数取得\n",
    "        ip_gini = self.gini_diversity_index(y)\n",
    "        \n",
    "        self.best_gain_by_x = []\n",
    "        \n",
    "        for i in range(self.x_nums):  #self.x_nums\n",
    "            gain_list = []                                          #特徴量ごとIGリスト初期化\n",
    "            Xy_sorted = Xy[np.argsort(Xy[:, i])]        #特徴量iの列でソート\n",
    "            y_sorted = Xy_sorted[:, -1]                    #ターゲットのみのデータを得る\n",
    "\n",
    "            for j in range(ip_nt_all-1): \n",
    "                left = y_sorted[: j+1]\n",
    "                right = y_sorted[j+1:]\n",
    "                gain_list.append(\n",
    "                self.information_gain(\n",
    "                    ip_gini,\n",
    "                    self.gini_diversity_index(left),\n",
    "                    self.gini_diversity_index(right),\n",
    "                    left.size,\n",
    "                    right.size)\n",
    "                     )    #append end\n",
    "            \n",
    "            #特徴量ごとベストIG(p)と閾値追加\n",
    "            best_igp = list(max(zip(gain_list, range(len(gain_list)))))      #[情報利得, インデックス]\n",
    "            best_igp.append(Xy_sorted[best_igp[1]][i])                      #[情報利得, インデックス, 閾値]\n",
    "            self.best_gain_by_x.append(best_igp)                               #bestIGpリストを追加\n",
    "        \n",
    "        #最もIGpが高かった特徴量とその閾値を取得\n",
    "        selected_index = np.argmax(np.array(self.best_gain_by_x)[:, 0], axis=0)\n",
    "        selected_threshold = self.best_gain_by_x[selected_index][2]\n",
    "        self.threshold_.append([selected_index, selected_threshold])\n",
    "        \n",
    "        #空間ラベル\n",
    "        #（閾値インデックス番号-1）が実際のラインとなることに注意\n",
    "        left = Xy[np.argsort(Xy[:, selected_index])][:self.best_gain_by_x[selected_index][1]-1]\n",
    "        right = Xy[np.argsort(Xy[:, selected_index])][self.best_gain_by_x[selected_index][1]-1:]\n",
    "        self.space_label = [int(stats.mode(left[:, 2])[0]), int(stats.mode(right[:, 2])[0])]\n",
    "\n",
    "\n",
    "        if self.verbose:\n",
    "            #verboseをTrueにした際は学習過程を出力\n",
    "            print()\n",
    "        pass\n",
    "\n",
    "\n",
    "    def predict(self, X):\n",
    "        \"\"\"\n",
    "        線形回帰を使い推定する。\n",
    "\n",
    "        Parameters\n",
    "        ----------\n",
    "        X : 次の形のndarray, shape (n_samples, n_features) サンプル\n",
    "\n",
    "        Returns\n",
    "        -------\n",
    "            次の形のndarray, shape (n_samples, 1)　線形回帰による推定結果\n",
    "        \"\"\"\n",
    "        #基準特徴量選択\n",
    "        x_num = self.threshold_[0][0]\n",
    "        selectedX = X[:, x_num]\n",
    "        \n",
    "        #推定値へ変換\n",
    "        f = lambda x: self.space_label[0] if x <= self.threshold_[0][1] else self.space_label[1]\n",
    "        vf = np.vectorize(f)\n",
    "        y_hat = vf(selectedX)\n",
    "\n",
    "        return y_hat\n",
    "\n",
    "    def gini_diversity_index(self, X):\n",
    "        \"\"\"\n",
    "        ジニ不純度を計算する関数\n",
    "\n",
    "        ----\n",
    "        input: １特徴量のデータ(１次元）\n",
    "        output：ジニ係数\n",
    "        \"\"\"\n",
    "        #ノードt内のサンプル数\n",
    "        nt_all = X.size\n",
    "\n",
    "        #クラスリストの取得\n",
    "        class_list = np.unique(X)\n",
    "\n",
    "        #クラス数の取得\n",
    "        class_num = class_list.size\n",
    "\n",
    "        #シグマ内加算\n",
    "        sigma = 0\n",
    "\n",
    "        #クラスiに属するサンプル\n",
    "        for i in range(class_num):\n",
    "            sigma += (np.sum(X == class_list[i]) / nt_all)**2\n",
    "\n",
    "        gini = 1-sigma\n",
    "\n",
    "        return gini\n",
    "    \n",
    "    def information_gain(self, ip, left_gini, right_gini, left_nt_all, right_nt_all):\n",
    "        \"\"\"\n",
    "        情報利得を計算する関数\n",
    "\n",
    "        ----\n",
    "        <input>\n",
    "        ip : 親ノードのジニ係数\n",
    "        left_gini:左ノードのジニ係数\n",
    "        right_gini:右ノードのジニ係数\n",
    "        left_nt_all：左ノードのサンプル数\n",
    "        right_nt_all：右ノードのサンプル数\n",
    "\n",
    "        <output>\n",
    "        情報利得\n",
    "        \"\"\"\n",
    "        ip_nt_all = left_nt_all + right_nt_all\n",
    "\n",
    "        IG = ip - (left_nt_all / ip_nt_all)*left_gini - (right_nt_all / ip_nt_all)*right_gini\n",
    "\n",
    "        return IG\n",
    "    "
   ]
  },
  {
   "cell_type": "code",
   "execution_count": 37,
   "metadata": {
    "code_folding": []
   },
   "outputs": [
    {
     "name": "stdout",
     "output_type": "stream",
     "text": [
      "left (48, 3)\n",
      "right (52, 3)\n",
      "閾値= [[0, 5.4]]\n"
     ]
    }
   ],
   "source": [
    "#テスト\n",
    "X = df.iloc[:,[0,1,4]].values \n",
    "\n",
    "testX = X[:,0:2]\n",
    "testy = X[:,-1].reshape(-1,1)\n",
    "\n",
    "DTC = ScratchDecesionTreeClassifier()\n",
    "DTC.fit(testX, testy)\n",
    "\n",
    "print(\"閾値=\", DTC.threshold_)"
   ]
  },
  {
   "cell_type": "code",
   "execution_count": 21,
   "metadata": {
    "code_folding": []
   },
   "outputs": [
    {
     "data": {
      "text/plain": [
       "[0.11519999999999997, 49, 6.3]"
      ]
     },
     "execution_count": 21,
     "metadata": {},
     "output_type": "execute_result"
    }
   ],
   "source": [
    "#最もIGpが高い特徴量の情報を取得\n",
    "DTC.best_gain_by_x[np.argmax(np.array(DTC.best_gain_by_x)[:, 0], axis=0)]"
   ]
  },
  {
   "cell_type": "markdown",
   "metadata": {},
   "source": [
    "## 【問題６】指標値の算出\n",
    "\n",
    "分かりやすいデータで指標値を算出する。"
   ]
  },
  {
   "cell_type": "code",
   "execution_count": 22,
   "metadata": {
    "code_folding": [
     0
    ]
   },
   "outputs": [
    {
     "data": {
      "image/png": "[encoded data removed]",
      "text/plain": [
       "<Figure size 432x288 with 1 Axes>"
      ]
     },
     "metadata": {
      "needs_background": "light"
     },
     "output_type": "display_data"
    }
   ],
   "source": [
    "#SetosaとVersicolour\n",
    "df = df_0[df_0[\"Species\"].isin([0, 1])]\n",
    "\n",
    "df_1 = df.query(\"Species == 0\").iloc[:,[0,1,4]]   #sepal_lengthとsepal_widthのみ選択\n",
    "df_2 = df.query(\"Species == 1\").iloc[:,[0,1,4]]\n",
    "\n",
    "plt.xlabel(\"sepal_length\")\n",
    "plt.ylabel(\"sepal_width\")\n",
    "plt.scatter(df_1.sepal_length, df_1.sepal_width, label=\"0\")\n",
    "plt.scatter(df_2.sepal_length, df_2.sepal_width, label=\"1\")\n",
    "plt.legend()\n",
    "plt.show()"
   ]
  },
  {
   "cell_type": "code",
   "execution_count": 23,
   "metadata": {
    "code_folding": []
   },
   "outputs": [
    {
     "name": "stdout",
     "output_type": "stream",
     "text": [
      "X_train (75, 2)\n",
      "X_test (25, 2)\n",
      "y_train (75, 1)\n",
      "y_test (25, 1)\n"
     ]
    }
   ],
   "source": [
    "#分割\n",
    "X = df.iloc[:,[0,1]].values    #sepal_lengthとsepal_widthのみ選択\n",
    "y = df[\"Species\"].values.reshape(-1,1)\n",
    "\n",
    "(X_train, X_test, y_train, y_test) = train_test_split(X, y, test_size=0.25, random_state=5,) #シードも設定しておく\n",
    "\n",
    "print(\"X_train\", np.shape(X_train))\n",
    "print(\"X_test\", np.shape(X_test))\n",
    "print(\"y_train\", np.shape(y_train))\n",
    "print(\"y_test\", np.shape(y_test))"
   ]
  },
  {
   "cell_type": "code",
   "execution_count": 24,
   "metadata": {
    "code_folding": []
   },
   "outputs": [
    {
     "name": "stdout",
     "output_type": "stream",
     "text": [
      "特徴量, 閾値＝ [[1, 3.0]]\n",
      "各特徴量スコア= [[0.2852045617464973, 30, 5.4], [0.28790617986407463, 37, 3.0]]\n",
      "空間ラベル [1, 0]\n"
     ]
    }
   ],
   "source": [
    "#学習\n",
    "DTC2 = ScratchDecesionTreeClassifier()\n",
    "DTC2.fit(X_train, y_train)\n",
    "\n",
    "print(\"特徴量, 閾値＝\", DTC2.threshold_)\n",
    "print(\"各特徴量スコア=\", DTC2.best_gain_by_x)\n",
    "print(\"空間ラベル\", DTC2.space_label)"
   ]
  },
  {
   "cell_type": "code",
   "execution_count": 25,
   "metadata": {
    "code_folding": [
     0
    ]
   },
   "outputs": [
    {
     "data": {
      "text/plain": [
       "array([1, 0, 0, 0, 1, 0, 0, 0, 0, 0, 1, 0, 0, 0, 1, 0, 0, 1, 1, 1, 1, 0,\n",
       "       0, 0, 0])"
      ]
     },
     "execution_count": 25,
     "metadata": {},
     "output_type": "execute_result"
    }
   ],
   "source": [
    "#予測\n",
    "y_pred = DTC2.predict(X_test)\n",
    "y_pred"
   ]
  },
  {
   "cell_type": "code",
   "execution_count": 26,
   "metadata": {
    "code_folding": [
     0
    ]
   },
   "outputs": [
    {
     "name": "stdout",
     "output_type": "stream",
     "text": [
      "スクラッチのスコア　\n",
      " [0.88, 0.875, 0.7777777777777778, 0.823529411764706]\n"
     ]
    }
   ],
   "source": [
    "#スコア\n",
    "original_list = [metrics.accuracy_score(y_test, y_pred),\n",
    "           metrics.precision_score(y_test, y_pred), \n",
    "           metrics.recall_score(y_test, y_pred),\n",
    "           metrics.f1_score(y_test, y_pred) ]\n",
    "\n",
    "#print(\"オフィシャル\", official_list)\n",
    "print(\"スクラッチのスコア　\\n\", original_list)"
   ]
  },
  {
   "cell_type": "code",
   "execution_count": 29,
   "metadata": {
    "code_folding": []
   },
   "outputs": [
    {
     "data": {
      "image/png": "[encoded data removed]",
      "text/plain": [
       "<Figure size 432x288 with 1 Axes>"
      ]
     },
     "metadata": {
      "needs_background": "light"
     },
     "output_type": "display_data"
    }
   ],
   "source": [
    "#Trainデータ可視化\n",
    "decision_region_1f(X_train, y_train, DTC2, xlabel=\"sepal_length\", ylabel=\"sepal_width\", title=\"1Feature 1division\")"
   ]
  },
  {
   "cell_type": "code",
   "execution_count": 30,
   "metadata": {},
   "outputs": [
    {
     "data": {
      "image/png": "[encoded data removed]",
      "text/plain": [
       "<Figure size 432x288 with 1 Axes>"
      ]
     },
     "metadata": {
      "needs_background": "light"
     },
     "output_type": "display_data"
    }
   ],
   "source": [
    "#Testデータ可視化\n",
    "decision_region_1f(X_test, y_test, DTC2, xlabel=\"sepal_length\", ylabel=\"sepal_width\", title=\"1Feature 1division\")"
   ]
  },
  {
   "cell_type": "markdown",
   "metadata": {},
   "source": [
    "## 【問題７】決定領域の可視化"
   ]
  },
  {
   "cell_type": "code",
   "execution_count": 32,
   "metadata": {
    "code_folding": []
   },
   "outputs": [],
   "source": [
    "#可視化関数\n",
    "\n",
    "from matplotlib.colors import ListedColormap\n",
    "import matplotlib.patches as mpatches\n",
    "\n",
    "def decision_region_1f(X, y, model, step=0.01, title='decision region',\n",
    "                    xlabel='xlabel', ylabel='ylabel', target_names=['versicolor', 'virginica']):\n",
    "    \"\"\"\n",
    "    2値分類を2次元の特徴量で学習したモデルの決定領域を描く。\n",
    "    背景の色が学習したモデルによる推定値から描画される。\n",
    "    散布図の点は訓練データまたは検証データである。\n",
    "\n",
    "    Parameters\n",
    "    ----------------\n",
    "    X : ndarray, shape(n_samples, 2)\n",
    "        特徴量\n",
    "    y : ndarray, shape(n_samples,)\n",
    "        ラベル\n",
    "    model : object\n",
    "        学習したモデルのインスンタスを入れる\n",
    "    step : float, (default : 0.1)\n",
    "        推定値を計算する間隔を設定する\n",
    "    title : str\n",
    "        グラフのタイトルの文章を与える\n",
    "    xlabel, ylabel : str\n",
    "        軸ラベルの文章を与える\n",
    "    target_names= : list of str\n",
    "        凡例の一覧を与える\n",
    "    \"\"\"\n",
    "    # setting\n",
    "    scatter_color = ['red', 'blue']\n",
    "    contourf_color = ['pink', 'skyblue']\n",
    "    n_class = 2\n",
    "    selected = model.threshold_[0][0]\n",
    "    target1 = model.space_label[0]\n",
    "    target2 = model.space_label[1]\n",
    "    Xy = np.concatenate([X,y],1)\n",
    "    df = pd.DataFrame(Xy, columns=[\"f1\",\"f2\",\"target\"])\n",
    "    df_1 = df[df['target'] == target1]\n",
    "    df_2 = df[df['target'] == target2]\n",
    "\n",
    "    # pred\n",
    "    mesh_f0, mesh_f1  = np.meshgrid(\n",
    "                                    np.arange(np.min(X[:,0])-0.5, np.max(X[:,0])+0.5, step), #特徴量１の最小値〜最大値生成\n",
    "                                    np.arange(np.min(X[:,1])-0.5, np.max(X[:,1])+0.5, step) #特徴量2の最小値〜最大値生成\n",
    "    )\n",
    "    mesh_list = [mesh_f0, mesh_f1]\n",
    "    mesh = np.c_[np.ravel(mesh_f0),np.ravel(mesh_f1)]  #メッシュの格子データを一次元化して横に結合\n",
    "    #print(mesh)\n",
    "    #print(mesh.shape)\n",
    "    f = lambda x: 1 if x >= model.threshold_[0][1] else 0\n",
    "    vf = np.vectorize(f)\n",
    "    z = vf(np.ravel(mesh_list[selected]))\n",
    "    \n",
    "    y_pred = z.reshape(mesh_f0.shape) #全ての格子点の予測値を取得\n",
    "\n",
    "    # plot\n",
    "    plt.title(title)\n",
    "    plt.xlabel(xlabel)\n",
    "    plt.ylabel(ylabel)\n",
    "    plt.contourf(mesh_f0, mesh_f1, y_pred, n_class-1, cmap=ListedColormap(contourf_color)) #面\n",
    "    plt.contour(mesh_f0, mesh_f1, y_pred, n_class-1, colors='y', linewidths=3, alpha=0.5) #線\n",
    "    \n",
    "    plt.scatter(df_1[\"f1\"], df_1[\"f2\"], s=80, color=scatter_color[0], label=target_names[0], marker='o')\n",
    "    plt.scatter(df_2[\"f1\"], df_2[\"f2\"], s=80, color=scatter_color[1], label=target_names[1], marker='o')\n",
    "    plt.show()"
   ]
  },
  {
   "cell_type": "code",
   "execution_count": 33,
   "metadata": {},
   "outputs": [
    {
     "data": {
      "image/png": "[encoded data removed]",
      "text/plain": [
       "<Figure size 432x288 with 1 Axes>"
      ]
     },
     "metadata": {
      "needs_background": "light"
     },
     "output_type": "display_data"
    }
   ],
   "source": [
    "#特徴量１つ、分割1回の場合\n",
    "\n",
    "vision = df.iloc[:,[0,1]].values\n",
    "decision_region_1f(vision, testy, DTC, xlabel=\"sepal_length\", ylabel=\"sepal_width\", title=\"1Feature 1division\")"
   ]
  },
  {
   "cell_type": "markdown",
   "metadata": {},
   "source": [
    "## 【問題4】深さ２の決定木分類器クラスの作成\n",
    "\n",
    "2020.1.20 現在　作りかけ"
   ]
  },
  {
   "cell_type": "code",
   "execution_count": 49,
   "metadata": {},
   "outputs": [],
   "source": [
    "class Branch():\n",
    "    \"\"\"\n",
    "    ブランチのクラス\n",
    "    \"\"\"\n",
    "    def __init__(self):\n",
    "        self.threshold_ = []\n",
    "        \n",
    "        #空間のラベルを保持する\n",
    "        self.space_label = []\n",
    "        pass\n",
    "    \n",
    "    def fit(self, Xy, label=None):\n",
    "        \n",
    "        X = Xy[:, 0:-2]\n",
    "        y = Xy[:, -1]\n",
    "        \n",
    "        #特徴量を取得\n",
    "        self.x_nums = X.shape[1]\n",
    "                \n",
    "        #親ノードのジニ係数取得\n",
    "        ip_gini = self.gini_diversity_index(y)\n",
    "        \n",
    "        self.best_gain_by_x = []\n",
    "        \n",
    "        for i in range(self.x_nums):  #self.x_nums\n",
    "            gain_list = []                                          #特徴量ごとIGリスト初期化\n",
    "            Xy_sorted = Xy[np.argsort(Xy[:, i])]        #特徴量iの列でソート\n",
    "            y_sorted = Xy_sorted[:, -1]                    #ターゲットのみのデータを得る\n",
    "\n",
    "            for j in range(ip_nt_all-1): \n",
    "                left = y_sorted[: j+1]\n",
    "                right = y_sorted[j+1:]\n",
    "                gain_list.append(\n",
    "                self.information_gain(\n",
    "                    ip_gini,\n",
    "                    self.gini_diversity_index(left),\n",
    "                    self.gini_diversity_index(right),\n",
    "                    left.size,\n",
    "                    right.size)\n",
    "                     )    #append end\n",
    "            \n",
    "            #特徴量ごとベストIG(p)と閾値追加\n",
    "            best_igp = list(max(zip(gain_list, range(len(gain_list)))))      #[情報利得, インデックス]\n",
    "            best_igp.append(Xy_sorted[best_igp[1]][i])                      #[情報利得, インデックス, 閾値]\n",
    "            self.best_gain_by_x.append(best_igp)                               #bestIGpリストを追加\n",
    "        \n",
    "        #最もIGpが高かった特徴量とその閾値を取得\n",
    "        selected_index = np.argmax(np.array(self.best_gain_by_x)[:, 0], axis=0)\n",
    "        selected_threshold = self.best_gain_by_x[selected_index][2]\n",
    "        self.threshold_.append([selected_index, selected_threshold])\n",
    "        \n",
    "        #空間ラベル\n",
    "        #（閾値インデックス番号-1）が実際のラインとなることに注意\n",
    "        left = Xy[np.argsort(Xy[:, selected_index])][:self.best_gain_by_x[selected_index][1]-1]\n",
    "        right = Xy[np.argsort(Xy[:, selected_index])][self.best_gain_by_x[selected_index][1]-1:]\n",
    "        print(\" \")\n",
    "        print(\"left\", left.shape)\n",
    "        print(\"right\", right.shape)\n",
    "        self.space_label = [int(stats.mode(left[:, 2])[0]), int(stats.mode(right[:, 2])[0])]\n",
    "        \n",
    "        return left, self.space_label[0], right, self.space_label[1]\n",
    "        \n",
    "    def gini_diversity_index(self, X):\n",
    "        \"\"\"\n",
    "        ジニ不純度を計算する関数\n",
    "\n",
    "        ----\n",
    "        input: １特徴量のデータ(１次元）\n",
    "        output：ジニ係数\n",
    "        \"\"\"\n",
    "        nt_all = X.size                         #ノードt内のサンプル数\n",
    "        class_list = np.unique(X)         #クラスリストの取得\n",
    "        sigma = 0                              #シグマ内加算\n",
    "\n",
    "        #クラスiに属するサンプル\n",
    "        for i in range(class_list.size):\n",
    "            sigma += (np.sum(X == class_list[i]) / nt_all)**2\n",
    "\n",
    "        return 1-sigma\n",
    "    \n",
    "    def information_gain(self, ip, left_gini, right_gini, left_nt_all, right_nt_all):\n",
    "        \"\"\"\n",
    "        情報利得を計算する関数\n",
    "\n",
    "        ----\n",
    "        <input>\n",
    "        ip : 親ノードのジニ係数\n",
    "        left_gini:左ノードのジニ係数\n",
    "        right_gini:右ノードのジニ係数\n",
    "        left_nt_all：左ノードのサンプル数\n",
    "        right_nt_all：右ノードのサンプル数\n",
    "\n",
    "        <output>\n",
    "        情報利得\n",
    "        \"\"\"\n",
    "        ip_nt_all = left_nt_all + right_nt_all\n",
    "\n",
    "        IG = ip - (left_nt_all / ip_nt_all)*left_gini - (right_nt_all / ip_nt_all)*right_gini\n",
    "\n",
    "        return IG\n",
    "    "
   ]
  },
  {
   "cell_type": "code",
   "execution_count": 54,
   "metadata": {},
   "outputs": [],
   "source": [
    "class ScratchDecesionTreeClassifier_2D():\n",
    "    \"\"\"\n",
    "    深さ２の決定木のスクラッチ実装\n",
    "\n",
    "    Parameters\n",
    "    ----------\n",
    "    verbose : bool　学習過程を出力する場合はTrue\n",
    "\n",
    "    Attributes\n",
    "    ----------\n",
    "    self.threshold_ : 境界の閾値\n",
    "    \"\"\"\n",
    "\n",
    "    def __init__(self, verbose=False):\n",
    "        # ハイパーパラメータを属性として記録\n",
    "        self.verbose = verbose\n",
    "        self.threshold_ = []\n",
    "        \n",
    "        #空間のラベルを保持する\n",
    "        self.space_label = []\n",
    "        \n",
    "        \n",
    "    def fit(self, X, y, X_val=None, y_val=None):\n",
    "        \"\"\"\n",
    "        決定木を学習する。検証用データが入力された場合はそれに対する損失と精度もイテレーションごとに計算する。\n",
    "\n",
    "        Parameters\n",
    "        ----------\n",
    "        X : 次の形のndarray, shape (n_samples, n_features)　　　学習用データの特徴量\n",
    "        y : 次の形のndarray, shape (n_samples, )　　　　　            学習用データの正解値\n",
    "        X_val : 次の形のndarray, shape (n_samples, n_features)    検証用データの特徴量\n",
    "        y_val : 次の形のndarray, shape (n_samples, )　　　            検証用データの正解値\n",
    "        \"\"\"\n",
    "        #インスタンス化\n",
    "        self.D1 = Branch()\n",
    "        self.D2_L = Branch()\n",
    "        self.D2_R = Branch()\n",
    "        \n",
    "        #Xとyを結合した行列を得る\n",
    "        Xy = np.concatenate([X,y], 1)\n",
    "\n",
    "        #Depth1\n",
    "        d2_left, left_label, d2_right, right_label = self.D1.fit(Xy)\n",
    "        \n",
    "        #Depth2\n",
    "        self.D2_L.fit(d2_left, label = left_label)\n",
    "        self.D2_R.fit(d2_right, label = right_label)\n",
    "        \n",
    "        if self.verbose:\n",
    "            #verboseをTrueにした際は学習過程を出力\n",
    "            print()\n",
    "        pass\n",
    "\n",
    "\n",
    "    def predict(self, X):\n",
    "        \"\"\"\n",
    "        線形回帰を使い推定する。\n",
    "\n",
    "        Parameters\n",
    "        ----------\n",
    "        X : 次の形のndarray, shape (n_samples, n_features) サンプル\n",
    "\n",
    "        Returns\n",
    "        -------\n",
    "            次の形のndarray, shape (n_samples, 1)　線形回帰による推定結果\n",
    "        \"\"\"\n",
    "        #基準特徴量選択\n",
    "        x_num = self.threshold_[0][0]\n",
    "        selectedX = X[:, x_num]\n",
    "        \n",
    "        #推定値へ変換\n",
    "        f = lambda x: self.space_label[0] if x <= self.threshold_[0][1] else self.space_label[1]\n",
    "        vf = np.vectorize(f)\n",
    "        y_hat = vf(selectedX)\n",
    "\n",
    "        return y_hat\n",
    "    "
   ]
  },
  {
   "cell_type": "code",
   "execution_count": 55,
   "metadata": {},
   "outputs": [
    {
     "name": "stdout",
     "output_type": "stream",
     "text": [
      " \n",
      "left (29, 3)\n",
      "right (46, 3)\n",
      " \n",
      "left (16, 3)\n",
      "right (13, 3)\n",
      " \n",
      "left (3, 3)\n",
      "right (43, 3)\n"
     ]
    }
   ],
   "source": [
    "#テスト\n",
    "X = df.iloc[:,[0,1,4]].values \n",
    "\n",
    "testX = X[:,0:2]\n",
    "testy = X[:,-1].reshape(-1,1)\n",
    "\n",
    "DTC2D = ScratchDecesionTreeClassifier_2D()\n",
    "DTC2D.fit(X_train, y_train)"
   ]
  },
  {
   "cell_type": "code",
   "execution_count": 59,
   "metadata": {},
   "outputs": [
    {
     "name": "stdout",
     "output_type": "stream",
     "text": [
      "[[0, 5.4]]\n",
      "[[0, 5.0]]\n",
      "[[0, 5.5]]\n"
     ]
    }
   ],
   "source": [
    "print(DTC2D.D1.threshold_)\n",
    "print(DTC2D.D2_L.threshold_)\n",
    "print(DTC2D.D2_R.threshold_)"
   ]
  },
  {
   "cell_type": "code",
   "execution_count": null,
   "metadata": {},
   "outputs": [],
   "source": [
    "decision_region_1f(X_train, y_train, DTC2D, xlabel=\"sepal_length\", ylabel=\"sepal_width\", title=\"1Feature 1division\")"
   ]
  }
 ],
 "metadata": {
  "kernelspec": {
   "display_name": "Python 3",
   "language": "python",
   "name": "python3"
  },
  "language_info": {
   "codemirror_mode": {
    "name": "ipython",
    "version": 3
   },
   "file_extension": ".py",
   "mimetype": "text/x-python",
   "name": "python",
   "nbconvert_exporter": "python",
   "pygments_lexer": "ipython3",
   "version": "3.7.2"
  },
  "toc": {
   "base_numbering": 1,
   "nav_menu": {},
   "number_sections": true,
   "sideBar": true,
   "skip_h1_title": false,
   "title_cell": "Table of Contents",
   "title_sidebar": "Contents",
   "toc_cell": false,
   "toc_position": {
    "height": "618px",
    "left": "29px",
    "top": "110px",
    "width": "219.390625px"
   },
   "toc_section_display": true,
   "toc_window_display": true
  },
  "varInspector": {
   "cols": {
    "lenName": 16,
    "lenType": 16,
    "lenVar": 40
   },
   "kernels_config": {
    "python": {
     "delete_cmd_postfix": "",
     "delete_cmd_prefix": "del ",
     "library": "var_list.py",
     "varRefreshCmd": "print(var_dic_list())"
    },
    "r": {
     "delete_cmd_postfix": ") ",
     "delete_cmd_prefix": "rm(",
     "library": "var_list.r",
     "varRefreshCmd": "cat(var_dic_list()) "
    }
   },
   "position": {
    "height": "379px",
    "left": "15px",
    "right": "20px",
    "top": "376px",
    "width": "186px"
   },
   "types_to_exclude": [
    "module",
    "function",
    "builtin_function_or_method",
    "instance",
    "_Feature"
   ],
   "window_display": false
  }
 },
 "nbformat": 4,
 "nbformat_minor": 2
}
