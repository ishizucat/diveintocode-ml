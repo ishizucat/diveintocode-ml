{
 "cells": [
  {
   "cell_type": "markdown",
   "metadata": {},
   "source": [
    "# 機械学習スクラッチ　線形回帰\n",
    "\n",
    "線形回帰のクラスをスクラッチで作成する。NumPyなど最低限のライブラリのみを使いアルゴリズムを実装する。\n"
   ]
  },
  {
   "cell_type": "code",
   "execution_count": 1,
   "metadata": {},
   "outputs": [],
   "source": [
    "#基本ライブラリ\n",
    "import numpy as np\n",
    "import matplotlib.pyplot as plt\n",
    "import pandas as pd\n",
    "import seaborn as sns\n",
    "%matplotlib inline"
   ]
  },
  {
   "cell_type": "markdown",
   "metadata": {},
   "source": [
    "## プログラムの具体的な理解\n",
    "\n",
    "クラスを作成する前に、クラスの中で実現したいことについて、具体的なデータで処理の流れを確認する。\n"
   ]
  },
  {
   "cell_type": "code",
   "execution_count": 2,
   "metadata": {},
   "outputs": [
    {
     "name": "stdout",
     "output_type": "stream",
     "text": [
      "シータ初期値= [0.85888927 0.85888927 0.85888927 0.85888927]\n",
      "theta.shape (4,)\n",
      "theta.T= [0.85888927 0.85888927 0.85888927 0.85888927]\n",
      "theta.T.shape= (4,)\n",
      "X [[ 1.  1.  2.  3.]\n",
      " [ 1.  4.  5.  6.]\n",
      " [ 1.  7.  8.  9.]\n",
      " [ 1. 10. 11. 12.]\n",
      " [ 1. 13. 14. 15.]]\n",
      "X.T [[ 1.  1.  1.  1.  1.]\n",
      " [ 1.  4.  7. 10. 13.]\n",
      " [ 2.  5.  8. 11. 14.]\n",
      " [ 3.  6.  9. 12. 15.]]\n",
      "----手動計算----\n",
      "h_0 = 6.012224871051278\n",
      "h_1 = 13.742228276688635\n",
      "h_2 = 21.472231682325994\n",
      "h_3 = 29.20223508796335\n",
      "h_4 = 36.93223849360071\n",
      "仮定関数 = [ 6.01222487 13.74222828 21.47223168 29.20223509 36.93223849]\n"
     ]
    },
    {
     "data": {
      "text/html": [
       "<div>\n",
       "<style scoped>\n",
       "    .dataframe tbody tr th:only-of-type {\n",
       "        vertical-align: middle;\n",
       "    }\n",
       "\n",
       "    .dataframe tbody tr th {\n",
       "        vertical-align: top;\n",
       "    }\n",
       "\n",
       "    .dataframe thead th {\n",
       "        text-align: right;\n",
       "    }\n",
       "</style>\n",
       "<table border=\"1\" class=\"dataframe\">\n",
       "  <thead>\n",
       "    <tr style=\"text-align: right;\">\n",
       "      <th></th>\n",
       "      <th>0</th>\n",
       "      <th>1</th>\n",
       "      <th>2</th>\n",
       "      <th>3</th>\n",
       "    </tr>\n",
       "  </thead>\n",
       "  <tbody>\n",
       "    <tr>\n",
       "      <th>0</th>\n",
       "      <td>1.0</td>\n",
       "      <td>1.0</td>\n",
       "      <td>2.0</td>\n",
       "      <td>3.0</td>\n",
       "    </tr>\n",
       "    <tr>\n",
       "      <th>1</th>\n",
       "      <td>1.0</td>\n",
       "      <td>4.0</td>\n",
       "      <td>5.0</td>\n",
       "      <td>6.0</td>\n",
       "    </tr>\n",
       "    <tr>\n",
       "      <th>2</th>\n",
       "      <td>1.0</td>\n",
       "      <td>7.0</td>\n",
       "      <td>8.0</td>\n",
       "      <td>9.0</td>\n",
       "    </tr>\n",
       "    <tr>\n",
       "      <th>3</th>\n",
       "      <td>1.0</td>\n",
       "      <td>10.0</td>\n",
       "      <td>11.0</td>\n",
       "      <td>12.0</td>\n",
       "    </tr>\n",
       "    <tr>\n",
       "      <th>4</th>\n",
       "      <td>1.0</td>\n",
       "      <td>13.0</td>\n",
       "      <td>14.0</td>\n",
       "      <td>15.0</td>\n",
       "    </tr>\n",
       "  </tbody>\n",
       "</table>\n",
       "</div>"
      ],
      "text/plain": [
       "     0     1     2     3\n",
       "0  1.0   1.0   2.0   3.0\n",
       "1  1.0   4.0   5.0   6.0\n",
       "2  1.0   7.0   8.0   9.0\n",
       "3  1.0  10.0  11.0  12.0\n",
       "4  1.0  13.0  14.0  15.0"
      ]
     },
     "execution_count": 2,
     "metadata": {},
     "output_type": "execute_result"
    }
   ],
   "source": [
    "#検証のためにシード値の設定\n",
    "np.random.seed(seed=32)\n",
    "\n",
    "#サンプルデータ\n",
    "X = np.array([[1,2,3], [4,5,6], [7,8,9], [10,11,12], [13,14,15]])\n",
    "\n",
    "#線形回帰を行う際に、wx0のバイアス項を新規にデータに加える\n",
    "bias = np.ones(X.shape[0]).reshape(X.shape[0],1)\n",
    "X = np.concatenate([bias, X], 1)\n",
    "\n",
    "#暫定のシータ値を生成する\n",
    "theta = np.full(X.shape[1], np.random.rand())\n",
    "print(\"シータ初期値=\", theta)\n",
    "print(\"theta.shape\", theta.shape)\n",
    "\n",
    "#暫定シータ値をもとに仮定値を生成する\n",
    "h = np.dot(theta, X.T)\n",
    "\n",
    "#ドット積なので、行列の形が合わないとエラーが出る\n",
    "#h2 = np.dot(theta.T, X)\n",
    "\n",
    "print(\"theta.T=\", theta.T)\n",
    "print(\"theta.T.shape=\", theta.T.shape)\n",
    "print(\"X\",X)\n",
    "print(\"X.T\",X.T)\n",
    "\n",
    "#ドット積の具体的な中身は以下\n",
    "print(\"----手動計算----\")\n",
    "print(\"h_0 =\",theta[0]*X[0,0]+theta[1]*X[0,1]+ theta[2]*X[0,2]+ theta[3]*X[0,3])\n",
    "print(\"h_1 =\",theta[0]*X[1,0]+theta[1]*X[1,1]+ theta[2]*X[1,2]+ theta[3]*X[1,3])\n",
    "print(\"h_2 =\",theta[0]*X[2,0]+theta[1]*X[2,1]+ theta[2]*X[2,2]+ theta[3]*X[2,3])\n",
    "print(\"h_3 =\",theta[0]*X[3,0]+theta[1]*X[3,1]+ theta[2]*X[3,2]+ theta[3]*X[3,3])\n",
    "print(\"h_4 =\",theta[0]*X[4,0]+theta[1]*X[4,1]+ theta[2]*X[4,2]+ theta[3]*X[4,3])\n",
    "\n",
    "print(\"仮定関数 =\", h)\n",
    "\n",
    "df = pd.DataFrame(X)\n",
    "df"
   ]
  },
  {
   "cell_type": "code",
   "execution_count": 3,
   "metadata": {},
   "outputs": [
    {
     "name": "stdout",
     "output_type": "stream",
     "text": [
      "各サンプルの差分： [  1.01222487 -11.25777172 -16.52776832 -21.79776491 -39.06776151]\n"
     ]
    }
   ],
   "source": [
    "#目的値\n",
    "y = np.array([5, 25, 38, 51, 76])\n",
    "\n",
    "#仮定値と目的値の差分を出す\n",
    "error = h-y\n",
    "\n",
    "print(\"各サンプルの差分：\", error)"
   ]
  },
  {
   "cell_type": "code",
   "execution_count": 4,
   "metadata": {},
   "outputs": [
    {
     "data": {
      "text/html": [
       "<div>\n",
       "<style scoped>\n",
       "    .dataframe tbody tr th:only-of-type {\n",
       "        vertical-align: middle;\n",
       "    }\n",
       "\n",
       "    .dataframe tbody tr th {\n",
       "        vertical-align: top;\n",
       "    }\n",
       "\n",
       "    .dataframe thead th {\n",
       "        text-align: right;\n",
       "    }\n",
       "</style>\n",
       "<table border=\"1\" class=\"dataframe\">\n",
       "  <thead>\n",
       "    <tr style=\"text-align: right;\">\n",
       "      <th></th>\n",
       "      <th>0</th>\n",
       "      <th>1</th>\n",
       "      <th>2</th>\n",
       "      <th>3</th>\n",
       "    </tr>\n",
       "  </thead>\n",
       "  <tbody>\n",
       "    <tr>\n",
       "      <th>0</th>\n",
       "      <td>1.012225</td>\n",
       "      <td>1.012225</td>\n",
       "      <td>2.024450</td>\n",
       "      <td>3.036675</td>\n",
       "    </tr>\n",
       "    <tr>\n",
       "      <th>1</th>\n",
       "      <td>-11.257772</td>\n",
       "      <td>-45.031087</td>\n",
       "      <td>-56.288859</td>\n",
       "      <td>-67.546630</td>\n",
       "    </tr>\n",
       "    <tr>\n",
       "      <th>2</th>\n",
       "      <td>-16.527768</td>\n",
       "      <td>-115.694378</td>\n",
       "      <td>-132.222147</td>\n",
       "      <td>-148.749915</td>\n",
       "    </tr>\n",
       "    <tr>\n",
       "      <th>3</th>\n",
       "      <td>-21.797765</td>\n",
       "      <td>-217.977649</td>\n",
       "      <td>-239.775414</td>\n",
       "      <td>-261.573179</td>\n",
       "    </tr>\n",
       "    <tr>\n",
       "      <th>4</th>\n",
       "      <td>-39.067762</td>\n",
       "      <td>-507.880900</td>\n",
       "      <td>-546.948661</td>\n",
       "      <td>-586.016423</td>\n",
       "    </tr>\n",
       "  </tbody>\n",
       "</table>\n",
       "</div>"
      ],
      "text/plain": [
       "           0           1           2           3\n",
       "0   1.012225    1.012225    2.024450    3.036675\n",
       "1 -11.257772  -45.031087  -56.288859  -67.546630\n",
       "2 -16.527768 -115.694378 -132.222147 -148.749915\n",
       "3 -21.797765 -217.977649 -239.775414 -261.573179\n",
       "4 -39.067762 -507.880900 -546.948661 -586.016423"
      ]
     },
     "execution_count": 4,
     "metadata": {},
     "output_type": "execute_result"
    }
   ],
   "source": [
    "#偏微分の中身１\n",
    "#各サンプルの差分を各特徴量にかけてあげる\n",
    "j0 = error*X[:,0]\n",
    "j1 = error*X[:,1]\n",
    "j2= error*X[:,2]\n",
    "j3 = error*X[:,3]\n",
    "\n",
    "#error.reshape(-1,1)*X  でも同じ処理\n",
    "\n",
    "nde = np.array([j0,j1,j2,j3])\n",
    "dfe = pd.DataFrame(nde.T)\n",
    "dfe"
   ]
  },
  {
   "cell_type": "code",
   "execution_count": 5,
   "metadata": {},
   "outputs": [
    {
     "name": "stdout",
     "output_type": "stream",
     "text": [
      "[  -87.63884159  -885.57178895  -973.21063054 -1060.84947213]\n",
      "[ -17.52776832 -177.11435779 -194.64212611 -212.16989443]\n",
      "[-0.17527768 -1.77114358 -1.94642126 -2.12169894]\n"
     ]
    }
   ],
   "source": [
    "#偏微分の中身２\n",
    "#特徴量ごとの誤差の平均を算出する\n",
    "theta_sabun = nde.sum(axis=1)\n",
    "print(theta_sabun)\n",
    "print(theta_sabun/5)\n",
    "print(theta_sabun/5*0.01)"
   ]
  },
  {
   "cell_type": "code",
   "execution_count": 6,
   "metadata": {},
   "outputs": [
    {
     "name": "stdout",
     "output_type": "stream",
     "text": [
      "今のシータ [0.85888927 0.85888927 0.85888927 0.85888927]\n",
      "シータの傾 [-0.17527768 -1.77114358 -1.94642126 -2.12169894]\n",
      "新しいシータ [1.03416695 2.63003285 2.80531053 2.98058821]\n"
     ]
    }
   ],
   "source": [
    "#偏微分で得られたシータの差分を引くと新しいシータができる\n",
    "print(\"今のシータ\", theta)\n",
    "print(\"シータの傾\", theta_sabun/5*0.01)\n",
    "print(\"新しいシータ\", theta - theta_sabun/5*0.01)\n",
    "\n",
    "#この処理を繰り返すことでシータを更新していく"
   ]
  },
  {
   "cell_type": "markdown",
   "metadata": {},
   "source": [
    "## 【問題1】仮定関数\n",
    "\n",
    "以下の数式で表される線形回帰の仮定関数を実装する。\n",
    "\n",
    "$$\n",
    "h_θ(x) = θ_0x_0 + θ_1x_1+ \\cdots + θ_jx_j + \\cdots  + θ_nx_n (X_0 = 1)\n",
    "$$\n",
    "\n",
    "- x : 特徴量ベクトル\n",
    "- θ: パラメータベクトル\n",
    "- n : 特徴量の数\n",
    "- xj : j番目の特徴量\n",
    "- θj : j番目のパラメータ（重み）\n",
    "\n",
    "特徴量の数nは任意の値に対応できる実装する。\n",
    "なお、ベクトル形式で表すと以下のようになります。\n",
    "\n",
    "$$\n",
    "h_θ(x) = θ^T \\cdot x\n",
    "$$"
   ]
  },
  {
   "cell_type": "markdown",
   "metadata": {},
   "source": [
    "_linear_hypothesisは、暫定のθの値に基づいて値を推測する関数である。\n",
    "この関数は、fitによって呼び出され、errorの算出、偏微分の処理と共に一連のシータ更新処理を担う"
   ]
  },
  {
   "cell_type": "code",
   "execution_count": 7,
   "metadata": {},
   "outputs": [],
   "source": [
    "def linear_hypothesis(X):\n",
    "    \"\"\"\n",
    "    線形の仮定関数を計算する\n",
    "\n",
    "    Parameters\n",
    "    ----------\n",
    "    X : 次の形のndarray, shape (n_samples, n_features)\n",
    "      学習データ\n",
    "\n",
    "    Returns\n",
    "    -------\n",
    "      次の形のndarray, shape (n_samples, 1)\n",
    "      線形の仮定関数による推定結果\n",
    "\n",
    "    \"\"\"\n",
    "    #バイアス項の生成（実際のクラス実装では関数の外に定義する）\n",
    "    bias = np.ones(X.shape[0]).reshape(X.shape[0],1)    \n",
    "    X = np.concatenate([bias, X], 1)  #結合\n",
    "    \n",
    "    #シータの初期化（実際のクラス実装では関数の外に定義する）\n",
    "    theta = np.full(X.shape[1], np.random.rand())  #初期化\n",
    "    \n",
    "    #この関数でやりたいのは以下の処理のみ\n",
    "    h = np.dot(theta, X.T)\n",
    "    \n",
    "    return h\n"
   ]
  },
  {
   "cell_type": "code",
   "execution_count": 8,
   "metadata": {
    "code_folding": [
     0
    ]
   },
   "outputs": [
    {
     "name": "stdout",
     "output_type": "stream",
     "text": [
      "0\n",
      "1\n",
      "[5.09271115 5.09271115]\n"
     ]
    }
   ],
   "source": [
    "#テスト用（このセルは無視する）\n",
    "\n",
    "X = np.array([[1], [4], [7], [10], [13]])\n",
    "y = np.array([15, 25, 38, 51, 76])\n",
    "\n",
    "num_iter = 0\n",
    "theta = 0\n",
    "\n",
    "def linear_hypothesis(X):\n",
    "    global num_iter\n",
    "    global theta\n",
    "    \"\"\"\n",
    "    線形の仮定関数を計算する\n",
    "\n",
    "    Parameters\n",
    "    ----------\n",
    "    X : 次の形のndarray, shape (n_samples, n_features)\n",
    "      学習データ\n",
    "\n",
    "    Returns\n",
    "    -------\n",
    "      次の形のndarray, shape (n_samples, 1)\n",
    "      線形の仮定関数による推定結果\n",
    "\n",
    "    \"\"\"\n",
    "    bias = np.ones(X.shape[0]).reshape(X.shape[0],1)    #バイアス項の生成\n",
    "    \n",
    "    x = np.concatenate([bias, X], 1)  #結合\n",
    "    \n",
    "    if num_iter ==0:\n",
    "        theta = np.full(x.shape[1], np.random.rand())  #初期化\n",
    "    \n",
    "    h = np.dot(theta, x.T)\n",
    "    \n",
    "    return h\n",
    "\n",
    "def gradient_descent(X, error=0):\n",
    "    global num_iter\n",
    "    global theta\n",
    "    \"\"\"\n",
    "    説明を記述\n",
    "    \"\"\"\n",
    "    #学習率\n",
    "    lr = 0.01\n",
    "    \n",
    "    #イテレーション\n",
    "    \n",
    "    \n",
    "    print(num_iter)\n",
    "\n",
    "    #基準点の計算\n",
    "    h = linear_hypothesis(X)   #初期値の取得\n",
    "    h_list =[]\n",
    "    \n",
    "    for i in range(5):\n",
    "        h_list.append((h[i]-y[i])**2)\n",
    "    J_1 = sum(h_list)/(5*2)\n",
    "    \n",
    "    #次点の計算（シータ足す\n",
    "    \n",
    "    num_iter += 1\n",
    "    theta += lr\n",
    "    h = linear_hypothesis(X)\n",
    "    h_list =[]\n",
    "    print(num_iter)\n",
    "    \n",
    "    for i in range(5):\n",
    "        h_list.append((h[i]-y[i])**2)\n",
    "    J_2 = sum(h_list)/(5*2)\n",
    "    \n",
    "    if J_1 < J_2:   #増減が右肩上がり\n",
    "        \n",
    "        while J_2 < J_1:   #次点が基点より小さいうち（次点が大きくなったら終わり）\n",
    "            J_1 = J_2    #次点を基準点にする\n",
    "            theta -= lr\n",
    "            h = linear_hypothesis(X)\n",
    "            h_list =[] \n",
    "            for i in range(5):\n",
    "                h_list.append((h[i]-y[i])**2)\n",
    "            J_2 = sum(h_list)/(5*2)\n",
    "            \n",
    "    elif J_1 > J_2:    #増減が右肩下がり\n",
    "        \n",
    "        while J_2 < J_1:   #次点が基点より小さいうち（次点が大きくなったら終わり）\n",
    "            J_1 = J_2    #次点を基準点にする\n",
    "            theta += lr\n",
    "            h = linear_hypothesis(X)\n",
    "            h_list =[] \n",
    "            for i in range(5):\n",
    "                h_list.append((h[i]-y[i])**2)\n",
    "            J_2 = sum(h_list)/(5*2)\n",
    "\n",
    "    return theta\n",
    "        \n",
    "\n",
    "print(gradient_descent(X))\n"
   ]
  },
  {
   "cell_type": "markdown",
   "metadata": {},
   "source": [
    "## 【問題2】最急降下法\n",
    "## 【問題3】推定\n",
    "\n",
    "最急降下法により学習させる実装を行う。以下の式で表されるパラメータの更新式のメソッド_gradient_descentを追加し、fitメソッドから呼び出すようにする。また、推定の仕組みをpredictメソッドに実装する。\n",
    "\n",
    "\n",
    "$$\n",
    "θ_{j} := θ_{j} - α\\frac{1}{m}\\sum_{i=1}^{m}[( h_θ(x^{(i)})-y^{(i)} ) x_j^{(i)}]\n",
    "$$\n",
    "\n",
    "- α : 学習率\n",
    "- i : サンプルのインデックス\n",
    "- j : 特徴量のインデックス\n"
   ]
  },
  {
   "cell_type": "code",
   "execution_count": 17,
   "metadata": {
    "code_folding": []
   },
   "outputs": [],
   "source": [
    "#完成したクラス\n",
    "class ScratchLinearRegression():\n",
    "    \"\"\"\n",
    "    線形回帰のスクラッチ実装\n",
    "\n",
    "    Parameters\n",
    "    ----------\n",
    "    num_iter : int\n",
    "      イテレーション数\n",
    "    lr : float\n",
    "      学習率\n",
    "    no_bias : bool\n",
    "      バイアス項を入れない場合はTrue\n",
    "    verbose : bool\n",
    "      学習過程を出力する場合はTrue\n",
    "\n",
    "    Attributes\n",
    "    ----------\n",
    "    self.coef_ : 次の形のndarray, shape (n_features,)\n",
    "      パラメータ\n",
    "    self.loss : 次の形のndarray, shape (self.iter,)\n",
    "      学習用データに対する損失の記録\n",
    "    self.val_loss : 次の形のndarray, shape (self.iter,)\n",
    "      検証用データに対する損失の記録\n",
    "\n",
    "    \"\"\"\n",
    "\n",
    "    def __init__(self, \n",
    "                 verbose=False,     #学習過程を出力する場合はTrue\n",
    "                 bias=0, \n",
    "                 bias_val = 0,\n",
    "                 num_iter=0,\n",
    "                 num_iter_val=0, \n",
    "                 lr=0.001\n",
    "                ):\n",
    "        \n",
    "        # ハイパーパラメータを属性として記録\n",
    "        self.iter = num_iter\n",
    "        self.iter_val = num_iter_val\n",
    "        self.lr = lr\n",
    "        self.bias = bias\n",
    "        self.bias_val = bias_val\n",
    "        self.verbose = verbose\n",
    "        \n",
    "        # 損失を記録する配列を用意\n",
    "        self.loss = np.zeros(self.iter)\n",
    "        self.val_loss = np.zeros(self.iter_val)\n",
    " \n",
    "        \n",
    "    def fit(self, X, y, X_val=None, y_val=None):\n",
    "        \"\"\"\n",
    "        線形回帰を学習する。検証用データが入力された場合はそれに対する損失と精度もイテレーションごとに計算する。\n",
    "\n",
    "        Parameters\n",
    "        ----------\n",
    "        X : 次の形のndarray, shape (n_samples, n_features)\n",
    "            学習用データの特徴量\n",
    "        y : 次の形のndarray, shape (n_samples, )\n",
    "            学習用データの正解値\n",
    "        X_val : 次の形のndarray, shape (n_samples, n_features)\n",
    "            検証用データの特徴量\n",
    "        y_val : 次の形のndarray, shape (n_samples, )\n",
    "            検証用データの正解値\n",
    "        \"\"\"\n",
    "        #バイアス項の生成\n",
    "        self.bias = np.ones(X.shape[0]).reshape(X.shape[0],1)\n",
    "        X = np.concatenate([self.bias, X], 1)\n",
    "        \n",
    "        #シータの初期値\n",
    "        self.coef_ = np.full(X.shape[1], np.random.rand())\n",
    "        #print(self.coef_)    #シータの初期値を確認\n",
    "        \n",
    "        for i in range(5000):\n",
    "            self.iter += 1\n",
    "            h = self._linear_hypothesis(X)    #仮定の生成\n",
    "            error = self._error_gen(h, y)    #errorの算出\n",
    "            #print(\"error=\", error)             #erroeの確認\n",
    "            self._gradient_descent(X, error)    #θの更新\n",
    "            \n",
    "            #損失関数の更新\n",
    "            self.loss = np.append(self.loss, np.sum(error**2)/(2*X.shape[0]))\n",
    "        \n",
    "        \n",
    "        #検証用\n",
    "        if X_val is not None and y_val is not None:\n",
    "            self.bias_val = np.ones(X_val.shape[0]).reshape(X_val.shape[0],1)\n",
    "            X_val = np.concatenate([self.bias_val, X_val], 1)\n",
    "            self.coef_val_ = np.full(X_val.shape[1], np.random.rand())\n",
    "            #print(self.coef_val_)    #シータの初期値を確認\n",
    "            \n",
    "            for i in range(5000):\n",
    "                self.iter_val += 1\n",
    "                h = self._linear_hypothesis_val(X_val)    #仮定の生成\n",
    "                error = self._error_gen(h, y_val)    #errorの算出\n",
    "                #print(\"error=\", error)             #erroeの確認\n",
    "                self._gradient_descent_val(X_val, error)    #θの更新\n",
    "                \n",
    "                #損失関数の更新\n",
    "                self.val_loss = np.append(self.val_loss, np.sum(error**2)/(2*X_val.shape[0]))\n",
    "            \n",
    "            \n",
    "        if self.verbose:\n",
    "            #verboseをTrueにした際は学習過程を出力\n",
    "            print(self.loss)\n",
    "            print(self.val_loss)\n",
    "        pass\n",
    "\n",
    "    def predict(self, X):\n",
    "        \"\"\"\n",
    "        線形回帰を使い推定する。\n",
    "\n",
    "        Parameters\n",
    "        ----------\n",
    "        X : 次の形のndarray, shape (n_samples, n_features)\n",
    "            サンプル\n",
    "\n",
    "        Returns\n",
    "        -------\n",
    "            次の形のndarray, shape (n_samples, 1)\n",
    "            線形回帰による推定結果\n",
    "        \"\"\"\n",
    "        #バイアス項の生成\n",
    "        \n",
    "        p_bias = np.ones(X.shape[0]).reshape(X.shape[0],1)\n",
    "        X = np.concatenate([p_bias, X], 1)\n",
    "        \n",
    "        #推定\n",
    "        p = np.dot(self.coef_, X.T)\n",
    "        \n",
    "        return p\n",
    "\n",
    "    def _linear_hypothesis(self, X):\n",
    "        \"\"\"\n",
    "        線形の仮定関数を計算する\n",
    "\n",
    "        Parameters\n",
    "        ----------\n",
    "        X : 次の形のndarray, shape (n_samples, n_features+bias)\n",
    "          学習データ\n",
    "\n",
    "        Returns\n",
    "        -------\n",
    "          次の形のndarray, shape (n_samples, 1)\n",
    "          線形の仮定関数による推定結果\n",
    "\n",
    "        \"\"\"\n",
    "        h = np.dot(self.coef_, X.T)\n",
    "        return h\n",
    "\n",
    "    def _linear_hypothesis_val(self, X):\n",
    "        \"\"\"\n",
    "        検証データ用の線形の仮定関数を計算する\n",
    "\n",
    "        Parameters\n",
    "        ----------\n",
    "        X : 次の形のndarray, shape (n_samples, n_features+bias)\n",
    "          学習データ\n",
    "\n",
    "        Returns\n",
    "        -------\n",
    "          次の形のndarray, shape (n_samples, 1)\n",
    "          線形の仮定関数による推定結果\n",
    "\n",
    "        \"\"\"\n",
    "        h = np.dot(self.coef_val_, X.T)\n",
    "        return h\n",
    "    \n",
    "    def _error_gen(self, h, y):\n",
    "        \"\"\"\n",
    "        目的値と仮定値の差分を算出する\n",
    "        \"\"\"\n",
    "        error = h - y\n",
    "        \n",
    "        return error\n",
    "\n",
    "    def _gradient_descent(self, X, error):\n",
    "        \"\"\"\n",
    "        誤差からθの差分を偏微分によって算出し、新しいθを生み出す\n",
    "        \n",
    "        Parameters\n",
    "        -----------------\n",
    "        X : 次の形のndarray, shape (n_samples, n_features+bias)\n",
    "          学習データ\n",
    "        error：目的値と仮定値の差分（ベクトル）\n",
    "        \n",
    "        Returns\n",
    "        -----------\n",
    "        θの更新なので、返り値はいらない\n",
    "        \"\"\"\n",
    "        error_calc = error.reshape(-1,1)*X   #偏微分\n",
    "        error_sum = error_calc.sum(axis=0)    #特徴量ごとに足す\n",
    "        self.coef_ = self.coef_ - (error_sum/X.shape[0])*self.lr\n",
    "\n",
    "    def _gradient_descent_val(self, X, error):\n",
    "        \"\"\"\n",
    "        検証用データについて、誤差からθの差分を偏微分によって算出し、新しいθを生み出す\n",
    "        コードの違いは「coef_val_」のみ\n",
    "        Parameters\n",
    "        -----------------\n",
    "        X : 次の形のndarray, shape (n_samples, n_features+bias)\n",
    "          学習データ\n",
    "        error：目的値と仮定値の差分（ベクトル）\n",
    "        \n",
    "        Returns\n",
    "        -----------\n",
    "        θの更新なので、返り値はいらない\n",
    "        \"\"\"\n",
    "        error_calc = error.reshape(-1,1)*X   #偏微分\n",
    "        error_sum = error_calc.sum(axis=0)    #特徴量ごとに足す\n",
    "        self.coef_val_ = self.coef_val_ - (error_sum/X.shape[0])*self.lr\n"
   ]
  },
  {
   "cell_type": "code",
   "execution_count": 11,
   "metadata": {},
   "outputs": [],
   "source": [
    "#テスト\n",
    "np.random.seed(seed=32)\n",
    "\n",
    "X = np.array([[1,2,3], [4,5,6], [7,8,9], [10,11,12], [13,14,15]])\n",
    "y = np.array([5, 25, 38, 51, 76])\n",
    "\n",
    "X_val = np.array([[1,2,3], [4,5,6], [7,8,9], [10,11,12], [13,14,15]])\n",
    "y_val = np.array([5, 25, 38, 51, 76])\n",
    "\n",
    "\n",
    "SLR = ScratchLinearRegression()\n",
    "SLR.fit(X, y, X_val, y_val)"
   ]
  },
  {
   "cell_type": "code",
   "execution_count": 12,
   "metadata": {},
   "outputs": [
    {
     "data": {
      "text/plain": [
       "array([ 5.6121535 , 22.33475177, 39.05735004, 55.77994832, 72.50254659])"
      ]
     },
     "execution_count": 12,
     "metadata": {},
     "output_type": "execute_result"
    }
   ],
   "source": [
    "#推定\n",
    "y_pred = SLR.predict(X)\n",
    "y_pred"
   ]
  },
  {
   "cell_type": "markdown",
   "metadata": {},
   "source": [
    "## 【問題4】平均二乗誤差\n",
    "\n",
    "線形回帰の指標値として用いられる平均二乗誤差（mean square error, MSE）の関数を作成する。\n",
    "\n",
    "$$\n",
    "L(θ) = \\frac{1}{m}\\sum_{i=1}^{m}(h_θ(x^{(i)})-y^{(i)})^2\n",
    "$$\n",
    "m : 入力されるデータの数\n",
    "hθ() : 仮定関数\n",
    "x(i) : i番目のサンプルの特徴量ベクトル\n",
    "y(i) : i番目のサンプルの正解値\n",
    "なお、最急降下法のための目的関数（損失関数）としては、これを2で割ったものを使用する。（問題5, 9）"
   ]
  },
  {
   "cell_type": "code",
   "execution_count": 11,
   "metadata": {},
   "outputs": [],
   "source": [
    "def MSE(y_pred, y):\n",
    "    \"\"\"\n",
    "    平均二乗誤差の計算\n",
    "\n",
    "    Parameters\n",
    "    ----------\n",
    "    y_pred : 次の形のndarray, shape (n_samples,)  推定した値\n",
    "    y : 次の形のndarray, shape (n_samples,)          正解値\n",
    "\n",
    "    Returns\n",
    "    ----------\n",
    "    mse : numpy.float  平均二乗誤差\n",
    "    \"\"\"\n",
    "    error_list = np.array([])    #リスト初期化\n",
    "    \n",
    "    #誤差を二乗したものをリストに追加\n",
    "    for p, l in zip(y_pred, y):\n",
    "        error_list = np.append(error_list, (p-y)**2)\n",
    "    \n",
    "    #リストの合計をサンプル数で割る\n",
    "    mse = error_list.sum()/y.shape[0]\n",
    "        \n",
    "    return mse"
   ]
  },
  {
   "cell_type": "code",
   "execution_count": 15,
   "metadata": {},
   "outputs": [
    {
     "data": {
      "text/plain": [
       "-17.52776831767401"
      ]
     },
     "execution_count": 15,
     "metadata": {},
     "output_type": "execute_result"
    }
   ],
   "source": [
    "MSE(y_pred, y)"
   ]
  },
  {
   "cell_type": "markdown",
   "metadata": {},
   "source": [
    "## 【問題5】目的関数\n",
    "\n",
    "以下の数式で表される線形回帰の 目的関数（損失関数） を実装する。そして、これをself.loss, self.val_lossに記録する。\n",
    "目的関数（損失関数）J(θ)は次の式。\n",
    "\n",
    "$$\n",
    "J(θ) = \\frac{1}{2m}\\sum_{i=1}^{m}(h_θ(x^{(i)})-y^{(i)})^2\n",
    "$$\n",
    "\n",
    "- m：入力されるデータの数\n",
    "- hθ()：仮定関数\n",
    "- x(i)：i番目のサンプルの特徴量ベクトル\n",
    "- y(i)：i番目のサンプルの正解値"
   ]
  },
  {
   "cell_type": "code",
   "execution_count": 17,
   "metadata": {},
   "outputs": [
    {
     "name": "stdout",
     "output_type": "stream",
     "text": [
      "---- loss ----\n",
      "[240.23616932 139.88462093  83.18493678  51.14773899  33.04438611\n",
      "  22.81339743  17.03015033  13.75979742  11.90918628  10.86070638\n",
      "  10.26541933   9.92618154   9.73161056   9.6187774    9.55212836\n",
      "   9.51157625   9.48577221   9.46830432   9.45554996   9.44546243\n",
      "   9.43688535   9.42916542   9.42193349   9.41498103   9.4081902\n",
      "   9.40149442   9.39485607   9.38825389   9.38167587   9.37511521\n",
      "   9.36856807   9.36203227   9.35550657   9.34899029   9.342483\n",
      "   9.33598449   9.32949462   9.3230133    9.31654048   9.31007614\n",
      "   9.30362024   9.29717278   9.29073372   9.28430307   9.27788081\n",
      "   9.27146692   9.2650614    9.25866423   9.25227541   9.24589492\n",
      "   9.23952275   9.23315889   9.22680333   9.22045606   9.21411707\n",
      "   9.20778634   9.20146387   9.19514965   9.18884366   9.1825459\n",
      "   9.17625635   9.169975     9.16370185   9.15743687   9.15118007\n",
      "   9.14493143   9.13869093   9.13245858   9.12623435   9.12001824\n",
      "   9.11381024   9.10761033   9.10141852   9.09523477   9.08905909\n",
      "   9.08289147   9.07673189   9.07058034   9.06443681   9.0583013\n",
      "   9.05217379   9.04605427   9.03994273   9.03383916   9.02774356\n",
      "   9.0216559    9.01557618   9.00950439   9.00344052   8.99738456\n",
      "   8.9913365    8.98529632   8.97926403   8.97323959   8.96722302\n",
      "   8.96121429   8.9552134    8.94922034   8.94323509   8.93725765]\n",
      "---- val_loss ----\n",
      "[625.66127422 357.4249137  205.87375129 120.24753525  71.86767779\n",
      "  44.53131606  29.08413719  20.35412654  15.41919308  12.62841032\n",
      "  11.04903583  10.15408767   9.64583095   9.35605105   9.18970987\n",
      "   9.09311266   9.0359229    9.00100101   8.97866346   8.96343923\n",
      "   8.95223728   8.94331123   8.93567442   8.92876938   8.92228116\n",
      "   8.9160318    8.90992078   8.90389126   8.89791117   8.89196235\n",
      "   8.88603455   8.88012198   8.87422135   8.86833081   8.8624493\n",
      "   8.85657623   8.85071125   8.84485416   8.83900484   8.83316324\n",
      "   8.8273293    8.82150299   8.81568429   8.80987319   8.80406967\n",
      "   8.79827372   8.79248534   8.7867045    8.78093121   8.77516544\n",
      "   8.7694072    8.76365646   8.75791322   8.75217748   8.74644921\n",
      "   8.74072842   8.73501509   8.7293092    8.72361076   8.71791976\n",
      "   8.71223617   8.70656      8.70089123   8.69522985   8.68957585\n",
      "   8.68392923   8.67828998   8.67265808   8.66703352   8.6614163\n",
      "   8.65580641   8.65020383   8.64460856   8.63902058   8.6334399\n",
      "   8.62786649   8.62230035   8.61674147   8.61118984   8.60564545\n",
      "   8.60010829   8.59457836   8.58905563   8.58354011   8.57803178\n",
      "   8.57253064   8.56703667   8.56154986   8.55607021   8.55059771\n",
      "   8.54513235   8.53967411   8.53422299   8.52877898   8.52334207\n",
      "   8.51791225   8.51248952   8.50707385   8.50166525   8.4962637 ]\n"
     ]
    }
   ],
   "source": [
    "#実装は1.4章を参照\n",
    "\"\"\"\n",
    "損失関数はベクトルではなく、単一の値として算出される。\n",
    "1回の学習ごとに値が一つ生み出される。\n",
    "サンプルごと誤差の平均を意味している\n",
    "\"\"\"\n",
    "print(\"---- loss ----\")\n",
    "print(SLR.loss[0:100])\n",
    "print(\"---- val_loss ----\")\n",
    "print(SLR.val_loss[0:100])"
   ]
  },
  {
   "cell_type": "markdown",
   "metadata": {},
   "source": [
    "## 【問題6】学習と推定\n",
    "\n",
    "機械学習スクラッチ入門のSprintで用意したHouse Pricesコンペティションのデータに対してスクラッチ実装の学習と推定を行う。\n",
    "scikit-learnによる実装と比べ、正しく動いているかを確認する。"
   ]
  },
  {
   "cell_type": "code",
   "execution_count": 4,
   "metadata": {},
   "outputs": [
    {
     "name": "stdout",
     "output_type": "stream",
     "text": [
      "<class 'pandas.core.frame.DataFrame'>\n",
      "Int64Index: 1460 entries, 1 to 1460\n",
      "Data columns (total 3 columns):\n",
      "SalePrice    1460 non-null int64\n",
      "GrLivArea    1460 non-null int64\n",
      "YearBuilt    1460 non-null int64\n",
      "dtypes: int64(3)\n",
      "memory usage: 45.6 KB\n"
     ]
    }
   ],
   "source": [
    "#データフレームにデータを格納\n",
    "df_0 = pd.read_csv('train.csv', index_col=0)\n",
    "df = df_0.loc[:,[\"SalePrice\", \"GrLivArea\", \"YearBuilt\"]]\n",
    "df.info()"
   ]
  },
  {
   "cell_type": "code",
   "execution_count": 39,
   "metadata": {},
   "outputs": [
    {
     "name": "stdout",
     "output_type": "stream",
     "text": [
      "X_train (1095, 2)\n",
      "X_test (365, 2)\n",
      "Y_train (1095,)\n",
      "Y_test (365,)\n"
     ]
    }
   ],
   "source": [
    "from sklearn.model_selection import train_test_split\n",
    "\n",
    "X = df.iloc[:,[1,2]].values\n",
    "y = df[\"SalePrice\"].values\n",
    "\n",
    "(X_train, X_test, y_train, y_test) = train_test_split(X, y, test_size=0.25, random_state=0,) #シードも設定しておく\n",
    "\n",
    "print(\"X_train\", np.shape(X_train))\n",
    "print(\"X_test\", np.shape(X_test))\n",
    "print(\"Y_train\", np.shape(y_train))\n",
    "print(\"Y_test\", np.shape(y_test))"
   ]
  },
  {
   "cell_type": "code",
   "execution_count": 47,
   "metadata": {},
   "outputs": [],
   "source": [
    "#正規化\n",
    "from sklearn.preprocessing import StandardScaler\n",
    "sc = StandardScaler()\n",
    "sc.fit(X_train)\n",
    "X_train = sc.transform(X_train)\n",
    "X_test = sc.transform(X_test)"
   ]
  },
  {
   "cell_type": "code",
   "execution_count": 48,
   "metadata": {},
   "outputs": [
    {
     "data": {
      "text/plain": [
       "11077651508808.572"
      ]
     },
     "execution_count": 48,
     "metadata": {},
     "output_type": "execute_result"
    }
   ],
   "source": [
    "#scilit-learnによる推定\n",
    "from sklearn.linear_model import LinearRegression\n",
    "reg = LinearRegression()\n",
    "reg.fit(X_train, y_train)\n",
    "y_train_pred = reg.predict(X_train) \n",
    "MSE(y_train_pred, y_train)"
   ]
  },
  {
   "cell_type": "code",
   "execution_count": 49,
   "metadata": {},
   "outputs": [
    {
     "data": {
      "text/plain": [
       "11055711566153.791"
      ]
     },
     "execution_count": 49,
     "metadata": {},
     "output_type": "execute_result"
    }
   ],
   "source": [
    "#スクラッチによる推定\n",
    "SLR = ScratchLinearRegression()\n",
    "SLR.fit(X_train, y_train, X_test, y_test)\n",
    "y_train_pred_SLR = SLR.predict(X_train) \n",
    "MSE(y_train_pred_SLR, y_train)"
   ]
  },
  {
   "cell_type": "markdown",
   "metadata": {},
   "source": [
    "## 【問題7】学習曲線のプロット\n",
    "\n",
    "学習曲線を表示する関数を作成し、実行する。グラフを見て損失が適切に下がっているかどうか確認する。\n",
    "線形回帰クラスの雛形ではself.loss, self.val_lossに損失を記録しておくようになっているため、入力にはこれを利用する。\n"
   ]
  },
  {
   "cell_type": "code",
   "execution_count": 50,
   "metadata": {},
   "outputs": [
    {
     "data": {
      "image/png": "[encoded data removed]",
      "text/plain": [
       "<Figure size 720x504 with 1 Axes>"
      ]
     },
     "metadata": {
      "needs_background": "light"
     },
     "output_type": "display_data"
    }
   ],
   "source": [
    "#関数の定義\n",
    "def plot_loss(loss, val_loss):\n",
    "    \"\"\"\n",
    "    self.loss, self.val_lossを受け取ってプロットする関数\n",
    "    \"\"\"\n",
    "    plt.figure(figsize=(10,7))\n",
    "    plt.title(\"model loss\")\n",
    "    plt.ylabel(\"loss\")\n",
    "    plt.xlabel(\"iter\")\n",
    "    plt.plot(loss, color=\"b\", linewidth=6, alpha=0.3, label=\"train loss\")\n",
    "    plt.plot(val_loss, color=\"r\", linewidth=6, alpha=0.3, label=\"val loss\")\n",
    "    plt.legend()\n",
    "    plt.show()\n",
    "\n",
    "loss = SLR.loss\n",
    "val_loss = SLR.val_loss\n",
    "plot_loss(loss, val_loss)"
   ]
  },
  {
   "cell_type": "markdown",
   "metadata": {},
   "source": [
    "## 【問題8】（アドバンス課題）バイアス項の除去\n",
    "\n",
    "バイアス項 θ0 を抜くと学習がどう変化するか検証する。\n",
    "\n",
    "また、線形回帰モデルにおけるバイアス項の役割の考察・調査を行う。\n"
   ]
  },
  {
   "cell_type": "code",
   "execution_count": 51,
   "metadata": {},
   "outputs": [],
   "source": [
    "#バイアス項を抜いたクラス\n",
    "class ScratchLinearRegression_withoutBias():\n",
    "    \"\"\"\n",
    "    線形回帰のスクラッチ実装（バイアス除去）\n",
    "\n",
    "    Parameters\n",
    "    ----------\n",
    "    num_iter   : int　   イテレーション数\n",
    "    lr              : float　学習率\n",
    "    no_bias     : bool　バイアス項を入れない場合はTrue\n",
    "    verbose    : bool　学習過程を出力する場合はTrue\n",
    "\n",
    "    Attributes\n",
    "    ----------\n",
    "    self.coef_ : 次の形のndarray, shape (n_features,)   パラメータ\n",
    "    self.loss : 次の形のndarray, shape (self.iter,)           学習用データに対する損失の記録\n",
    "    self.val_loss : 次の形のndarray, shape (self.iter,)     検証用データに対する損失の記録\n",
    "    \"\"\"\n",
    "\n",
    "    def __init__(self, \n",
    "                 verbose=False,     #学習過程を出力する場合はTrue\n",
    "                 bias=0, \n",
    "                 bias_val = 0,\n",
    "                 num_iter=5000,\n",
    "                 num_iter_val=5000 ,\n",
    "                 lr=0.001\n",
    "                ):\n",
    "        \n",
    "        # ハイパーパラメータを属性として記録\n",
    "        self.iter = num_iter\n",
    "        self.iter_val = num_iter_val\n",
    "        self.lr = lr\n",
    "        self.bias = bias\n",
    "        self.bias_val = bias_val\n",
    "        self.verbose = verbose\n",
    "        \n",
    "        # 損失を記録する配列を用意\n",
    "        self.loss = np.array([])\n",
    "        self.val_loss = np.array([])\n",
    " \n",
    "    def fit(self, X, y, X_val=None, y_val=None):\n",
    "        \"\"\"\n",
    "        線形回帰を学習する。検証用データが入力された場合はそれに対する損失と精度もイテレーションごとに計算する。\n",
    "\n",
    "        Parameters\n",
    "        ----------\n",
    "        X : 次の形のndarray, shape (n_samples, n_features)         学習用データの特徴量\n",
    "        y : 次の形のndarray, shape (n_samples, )                          学習用データの正解値\n",
    "        X_val : 次の形のndarray, shape (n_samples, n_features)    検証用データの特徴量\n",
    "        y_val : 次の形のndarray, shape (n_samples, )                    検証用データの正解値\n",
    "        \"\"\"\n",
    "        #バイアス項の生成\n",
    "        #self.bias = np.ones(X.shape[0]).reshape(X.shape[0],1)\n",
    "        #X = np.concatenate([self.bias, X], 1)\n",
    "        \n",
    "        #シータの初期値\n",
    "        self.coef_ = np.full(X.shape[1], np.random.rand())\n",
    "        \n",
    "        for i in range(self.iter):\n",
    "            h = self._linear_hypothesis(X)        #仮定の生成\n",
    "            error = self._error_gen(h, y)          #errorの算出\n",
    "            self._gradient_descent(X, error)    #θの更新\n",
    "            \n",
    "            #損失関数の更新\n",
    "            self.loss = np.append(self.loss, np.sum(error**2)/(2*X.shape[0]))\n",
    "        \n",
    "        \n",
    "        #検証用\n",
    "        if X_val is not None and y_val is not None:\n",
    "            #self.bias_val = np.ones(X_val.shape[0]).reshape(X_val.shape[0],1)\n",
    "            #X_val = np.concatenate([self.bias_val, X_val], 1)\n",
    "            self.coef_val_ = np.full(X_val.shape[1], np.random.rand())\n",
    "            \n",
    "            for i in range(self.iter):\n",
    "                h = self._linear_hypothesis_val(X_val)      #仮定の生成\n",
    "                error = self._error_gen(h, y_val)              #errorの算出\n",
    "                self._gradient_descent_val(X_val, error)   #θの更新\n",
    "                \n",
    "                #損失関数の更新\n",
    "                self.val_loss = np.append(self.val_loss, np.sum(error**2)/(2*X_val.shape[0]))\n",
    "            \n",
    "        if self.verbose:\n",
    "            print(self.loss)\n",
    "            print(self.val_loss)\n",
    "        pass\n",
    "\n",
    "    def predict(self, X):\n",
    "        \"\"\"\n",
    "        線形回帰を使い推定する。\n",
    "\n",
    "        Parameters\n",
    "        ----------\n",
    "        X : 次の形のndarray, shape (n_samples, n_features)  サンプル\n",
    "\n",
    "        Returns\n",
    "        -------\n",
    "            次の形のndarray, shape (n_samples, 1)  線形回帰による推定結果\n",
    "        \"\"\"\n",
    "        #バイアス項の生成\n",
    "        #p_bias = np.ones(X.shape[0]).reshape(X.shape[0],1)\n",
    "        #X = np.concatenate([p_bias, X], 1)\n",
    "        \n",
    "        #推定\n",
    "        p = np.dot(self.coef_, X.T)\n",
    "        \n",
    "        return p\n",
    "\n",
    "    def _linear_hypothesis(self, X):\n",
    "        \"\"\"\n",
    "        線形の仮定関数を計算する\n",
    "\n",
    "        Parameters\n",
    "        ----------\n",
    "        X : 次の形のndarray, shape (n_samples, n_features+bias)   学習データ\n",
    "\n",
    "        Returns\n",
    "        -------\n",
    "          次の形のndarray, shape (n_samples, 1)   線形の仮定関数による推定結果\n",
    "\n",
    "        \"\"\"\n",
    "        h = np.dot(self.coef_, X.T)\n",
    "        return h\n",
    "\n",
    "    def _linear_hypothesis_val(self, X):\n",
    "        \"\"\"\n",
    "        検証データ用の線形の仮定関数を計算する\n",
    "\n",
    "        Parameters\n",
    "        ----------\n",
    "        X : 次の形のndarray, shape (n_samples, n_features+bias)  学習データ\n",
    "\n",
    "        Returns\n",
    "        -------\n",
    "          次の形のndarray, shape (n_samples, 1)   線形の仮定関数による推定結果\n",
    "        \"\"\"\n",
    "        h = np.dot(self.coef_val_, X.T)\n",
    "        return h\n",
    "    \n",
    "    def _error_gen(self, h, y):\n",
    "        \"\"\"\n",
    "        目的値と仮定値の差分を算出する\n",
    "        \"\"\"\n",
    "        error = h - y\n",
    "        \n",
    "        return error\n",
    "\n",
    "    def _gradient_descent(self, X, error):\n",
    "        \"\"\"\n",
    "        誤差からθの差分を偏微分によって算出し、新しいθを生み出す\n",
    "        \n",
    "        Parameters\n",
    "        -----------------\n",
    "        X : 次の形のndarray, shape (n_samples, n_features+bias)   学習データ\n",
    "        error：目的値と仮定値の差分（ベクトル）\n",
    "        \n",
    "        Returns\n",
    "        -----------\n",
    "        θの更新なので、返り値はいらない\n",
    "        \"\"\"\n",
    "        error_calc = error.reshape(-1,1)*X                                   #偏微分\n",
    "        error_sum = error_calc.sum(axis=0)                                #特徴量ごとに足す\n",
    "        self.coef_ = self.coef_ - (error_sum/X.shape[0])*self.lr\n",
    "\n",
    "    def _gradient_descent_val(self, X, error):\n",
    "        \"\"\"\n",
    "        検証用データについて、誤差からθの差分を偏微分によって算出し、新しいθを生み出す\n",
    "        コードの違いは「coef_val_」のみ\n",
    "        Parameters\n",
    "        -----------------\n",
    "        X : 次の形のndarray, shape (n_samples, n_features+bias)\n",
    "          学習データ\n",
    "        error：目的値と仮定値の差分（ベクトル）\n",
    "        \n",
    "        Returns\n",
    "        -----------\n",
    "        θの更新なので、返り値はいらない\n",
    "        \"\"\"\n",
    "        error_calc = error.reshape(-1,1)*X   #偏微分\n",
    "        error_sum = error_calc.sum(axis=0)    #特徴量ごとに足す\n",
    "        self.coef_val_ = self.coef_val_ - (error_sum/X.shape[0])*self.lr\n",
    "\n"
   ]
  },
  {
   "cell_type": "code",
   "execution_count": 52,
   "metadata": {},
   "outputs": [
    {
     "data": {
      "text/plain": [
       "46821692052567.125"
      ]
     },
     "execution_count": 52,
     "metadata": {},
     "output_type": "execute_result"
    }
   ],
   "source": [
    "SLRnonB = ScratchLinearRegression_withoutBias()\n",
    "SLRnonB.fit(X_train, y_train, X_test, y_test)\n",
    "y_train_pred_SLRnonB = SLRnonB.predict(X_train) \n",
    "MSE(y_train_pred_SLRnonB, y_train)"
   ]
  },
  {
   "cell_type": "code",
   "execution_count": 53,
   "metadata": {},
   "outputs": [
    {
     "data": {
      "image/png": "[encoded data removed]",
      "text/plain": [
       "<Figure size 720x504 with 1 Axes>"
      ]
     },
     "metadata": {
      "needs_background": "light"
     },
     "output_type": "display_data"
    }
   ],
   "source": [
    "#関数の定義\n",
    "def plot_loss(loss, val_loss):\n",
    "    \"\"\"\n",
    "    self.loss, self.val_lossを受け取ってプロットする関数\n",
    "    \"\"\"\n",
    "    plt.figure(figsize=(10,7))\n",
    "    plt.title(\"model loss\")\n",
    "    plt.ylabel(\"loss\")\n",
    "    plt.xlabel(\"iter\")\n",
    "    plt.plot(loss, color=\"b\", linewidth=6, alpha=0.3, label=\"train loss\")\n",
    "    plt.plot(val_loss, color=\"r\", linewidth=6, alpha=0.3, label=\"val loss\")\n",
    "    plt.legend()\n",
    "    plt.show()\n",
    "\n",
    "loss = SLRnonB.loss\n",
    "val_loss = SLRnonB.val_loss\n",
    "plot_loss(loss, val_loss)"
   ]
  },
  {
   "cell_type": "markdown",
   "metadata": {},
   "source": [
    "### 【考察】\n",
    "- バイアス項を抜くとlossが下がらない（モデルの適合に限界が出る）"
   ]
  },
  {
   "cell_type": "markdown",
   "metadata": {},
   "source": [
    "## 【問題9】（アドバンス課題）特徴量の多次元化\n",
    "\n",
    "特徴量の二乗や三乗を入力に利用すると学習結果がどう変化するか検証する。"
   ]
  },
  {
   "cell_type": "code",
   "execution_count": 54,
   "metadata": {},
   "outputs": [
    {
     "name": "stdout",
     "output_type": "stream",
     "text": [
      "[[1710 2003]\n",
      " [1262 1976]\n",
      " [1786 2001]\n",
      " [1717 1915]\n",
      " [2198 2000]\n",
      " [1362 1993]\n",
      " [1694 2004]\n",
      " [2090 1973]\n",
      " [1774 1931]\n",
      " [1077 1939]]\n",
      "Squared:\n",
      " [[2924100 4012009]\n",
      " [1592644 3904576]\n",
      " [3189796 4004001]\n",
      " [2948089 3667225]\n",
      " [4831204 4000000]\n",
      " [1855044 3972049]\n",
      " [2869636 4016016]\n",
      " [4368100 3892729]\n",
      " [3147076 3728761]\n",
      " [1159929 3759721]]\n",
      "X_train (1095, 2)\n",
      "X_test (365, 2)\n",
      "Y_train (1095,)\n",
      "Y_test (365,)\n"
     ]
    }
   ],
   "source": [
    "X = df.iloc[:,[1,2]].values\n",
    "print(X[0:10])\n",
    "y = df[\"SalePrice\"].values\n",
    "\n",
    "X = X**2\n",
    "print(\"Squared:\\n\", X[0:10])\n",
    "(X_train, X_test, y_train, y_test) = train_test_split(X, y, test_size=0.25, random_state=0,) #シードも設定しておく\n",
    "\n",
    "print(\"X_train\", np.shape(X_train))\n",
    "print(\"X_test\", np.shape(X_test))\n",
    "print(\"Y_train\", np.shape(y_train))\n",
    "print(\"Y_test\", np.shape(y_test))"
   ]
  },
  {
   "cell_type": "code",
   "execution_count": 55,
   "metadata": {},
   "outputs": [
    {
     "name": "stderr",
     "output_type": "stream",
     "text": [
      "/Users/ishizucat/.pyenv/versions/anaconda3-5.3.1/envs/term3/lib/python3.7/site-packages/sklearn/utils/validation.py:475: DataConversionWarning: Data with input dtype int64 was converted to float64 by StandardScaler.\n",
      "  warnings.warn(msg, DataConversionWarning)\n",
      "/Users/ishizucat/.pyenv/versions/anaconda3-5.3.1/envs/term3/lib/python3.7/site-packages/sklearn/utils/validation.py:475: DataConversionWarning: Data with input dtype int64 was converted to float64 by StandardScaler.\n",
      "  warnings.warn(msg, DataConversionWarning)\n",
      "/Users/ishizucat/.pyenv/versions/anaconda3-5.3.1/envs/term3/lib/python3.7/site-packages/sklearn/utils/validation.py:475: DataConversionWarning: Data with input dtype int64 was converted to float64 by StandardScaler.\n",
      "  warnings.warn(msg, DataConversionWarning)\n"
     ]
    }
   ],
   "source": [
    "sc.fit(X_train)\n",
    "X_train = sc.transform(X_train)\n",
    "X_test = sc.transform(X_test)"
   ]
  },
  {
   "cell_type": "code",
   "execution_count": 56,
   "metadata": {},
   "outputs": [
    {
     "data": {
      "text/plain": [
       "11321806996515.262"
      ]
     },
     "execution_count": 56,
     "metadata": {},
     "output_type": "execute_result"
    }
   ],
   "source": [
    "#スクラッチによる推定\n",
    "SLR = ScratchLinearRegression()\n",
    "SLR.fit(X_train, y_train, X_test, y_test)\n",
    "y_train_pred_SLR = SLR.predict(X_train) \n",
    "MSE(y_train_pred_SLR, y_train)"
   ]
  },
  {
   "cell_type": "code",
   "execution_count": 57,
   "metadata": {},
   "outputs": [
    {
     "data": {
      "image/png": "[encoded data removed]",
      "text/plain": [
       "<Figure size 720x504 with 1 Axes>"
      ]
     },
     "metadata": {
      "needs_background": "light"
     },
     "output_type": "display_data"
    }
   ],
   "source": [
    "loss = SLR.loss\n",
    "val_loss = SLR.val_loss\n",
    "plot_loss(loss, val_loss)"
   ]
  },
  {
   "cell_type": "markdown",
   "metadata": {},
   "source": [
    "特徴量の二乗を利用すると、スコアが若干下がった（MSEが上がった）"
   ]
  },
  {
   "cell_type": "code",
   "execution_count": 59,
   "metadata": {},
   "outputs": [
    {
     "name": "stdout",
     "output_type": "stream",
     "text": [
      "[[1710 2003]\n",
      " [1262 1976]\n",
      " [1786 2001]\n",
      " [1717 1915]\n",
      " [2198 2000]\n",
      " [1362 1993]\n",
      " [1694 2004]\n",
      " [2090 1973]\n",
      " [1774 1931]\n",
      " [1077 1939]]\n",
      "Squared:\n",
      " [[ 5000211000  8036054027]\n",
      " [ 2009916728  7715442176]\n",
      " [ 5696975656  8012006001]\n",
      " [ 5061868813  7022735875]\n",
      " [10618986392  8000000000]\n",
      " [ 2526569928  7916293657]\n",
      " [ 4861163384  8048096064]\n",
      " [ 9129329000  7680354317]\n",
      " [ 5582912824  7200237491]\n",
      " [ 1249243533  7290099019]]\n"
     ]
    }
   ],
   "source": [
    "#３乗\n",
    "X = df.iloc[:,[1,2]].values\n",
    "print(X[0:10])\n",
    "y = df[\"SalePrice\"].values\n",
    "\n",
    "X = X**3\n",
    "print(\"Squared:\\n\", X[0:10])\n",
    "(X_train, X_test, y_train, y_test) = train_test_split(X, y, test_size=0.25, random_state=0,) #シードも設定しておく\n"
   ]
  },
  {
   "cell_type": "code",
   "execution_count": 60,
   "metadata": {},
   "outputs": [
    {
     "name": "stderr",
     "output_type": "stream",
     "text": [
      "/Users/ishizucat/.pyenv/versions/anaconda3-5.3.1/envs/term3/lib/python3.7/site-packages/sklearn/utils/validation.py:475: DataConversionWarning: Data with input dtype int64 was converted to float64 by StandardScaler.\n",
      "  warnings.warn(msg, DataConversionWarning)\n",
      "/Users/ishizucat/.pyenv/versions/anaconda3-5.3.1/envs/term3/lib/python3.7/site-packages/sklearn/utils/validation.py:475: DataConversionWarning: Data with input dtype int64 was converted to float64 by StandardScaler.\n",
      "  warnings.warn(msg, DataConversionWarning)\n",
      "/Users/ishizucat/.pyenv/versions/anaconda3-5.3.1/envs/term3/lib/python3.7/site-packages/sklearn/utils/validation.py:475: DataConversionWarning: Data with input dtype int64 was converted to float64 by StandardScaler.\n",
      "  warnings.warn(msg, DataConversionWarning)\n"
     ]
    }
   ],
   "source": [
    "sc.fit(X_train)\n",
    "X_train = sc.transform(X_train)\n",
    "X_test = sc.transform(X_test)"
   ]
  },
  {
   "cell_type": "code",
   "execution_count": 61,
   "metadata": {},
   "outputs": [
    {
     "data": {
      "text/plain": [
       "10857630235422.72"
      ]
     },
     "execution_count": 61,
     "metadata": {},
     "output_type": "execute_result"
    }
   ],
   "source": [
    "#スクラッチによる推定\n",
    "SLR = ScratchLinearRegression()\n",
    "SLR.fit(X_train, y_train, X_test, y_test)\n",
    "y_train_pred_SLR = SLR.predict(X_train) \n",
    "MSE(y_train_pred_SLR, y_train)"
   ]
  },
  {
   "cell_type": "code",
   "execution_count": 62,
   "metadata": {},
   "outputs": [
    {
     "data": {
      "image/png": "[encoded data removed]",
      "text/plain": [
       "<Figure size 720x504 with 1 Axes>"
      ]
     },
     "metadata": {
      "needs_background": "light"
     },
     "output_type": "display_data"
    }
   ],
   "source": [
    "loss = SLR.loss\n",
    "val_loss = SLR.val_loss\n",
    "plot_loss(loss, val_loss)"
   ]
  },
  {
   "cell_type": "markdown",
   "metadata": {},
   "source": [
    "### 結果\n",
    "\n",
    "**MSEスコア**\n",
    " - 一乗：11055711566153.791\n",
    " - 二乗：11321806996515.262\n",
    " - 三乗：10857630235422.72\n",
    " \n",
    " ３乗が一番スコアがよかった"
   ]
  },
  {
   "cell_type": "markdown",
   "metadata": {},
   "source": [
    "## 【問題10】（アドバンス課題）更新式の導出\n",
    "\n",
    "最急降下法の更新式は以下だった。この式が導出される過程を説明する。\n",
    "\n",
    "$$\n",
    "θ_{j} := θ_{j} - α\\frac{1}{m}\\sum_{i=1}^{m}[( h_θ(x^{(i)})-y^{(i)} ) x_j^{(i)}]\n",
    "$$\n"
   ]
  },
  {
   "cell_type": "markdown",
   "metadata": {},
   "source": [
    "目的関数E(θ)について、\n",
    "\n",
    "$$\n",
    "E(θ) = \\frac{1}{2m}\\sum_{i = 1}^{m}(y^{(i)} - h_θ(x^{(i)}))^2\n",
    "$$\n",
    "\n",
    "とすると、E(θ)＝u、h_θ(x) = v　とおいた時のパラメータの更新式は\n",
    "\n",
    "$$\n",
    "\\frac{\\partial u}{\\partial θ_j} = \\frac{\\partial u}{\\partial v}・\\frac{\\partial v}{\\partial θ_j}   \n",
    "$$\n",
    "\n",
    "となる。右辺をそれぞれ展開すると、\n",
    "\n",
    "$$\n",
    "\\begin{align}\n",
    "\\frac{\\partial u}{\\partial v} &= \\frac{\\partial }{\\partial v}(\\frac{1}{2m}\\sum_{i = 1}^{m}(y^{(i)} - v)^2) \\\\\n",
    "&= \\frac{1}{2m}\\sum_{i = 1}^{m}(\\frac{\\partial }{\\partial v}(y^{(i)} - v)^2) \\\\\n",
    "&= \\frac{1}{2m}\\sum_{i = 1}^{m}(\\frac{\\partial }{\\partial v}(y^{(i)2} - 2y^{(i)}v + v^2)) \\\\\n",
    "&= \\frac{1}{2m}\\sum_{i = 1}^{m}( - 2y^{(i)} + 2v) \\\\\n",
    "&= \\frac{1}{2m}\\sum_{i = 1}^{m}( 2v - 2y^{(i)}) \\\\\n",
    "&= \\frac{1}{m}\\sum_{i = 1}^{m}( v - y^{(i)})) \\\\\n",
    "&= \\frac{1}{m}\\sum_{i = 1}^{m}( h_θ(x^{(i)}) - y^{(i)})) \\\\\n",
    "\\frac{\\partial v}{\\partial θ_j} &= \\frac{\\partial}{\\partial θ_j}(θ^Tx)  \\\\\n",
    "&= \\frac{\\partial}{\\partial θ_j}(θ_0x_0 + θ_1x_1 + ・・・＋ θ_nx_n) \\\\\n",
    "&= x_j^{(i)}\n",
    "\\end{align}\n",
    "$$\n",
    "\n",
    "よって、\n",
    "\n",
    "$$\n",
    "\\frac{\\partial u}{\\partial v}・\\frac{\\partial v}{\\partial θ_j} = \\frac{1}{m}\\sum_{i = 1}^{m}( h_θ(x^{(i)}) - y^{(i)}))・x_j^{(i)}\n",
    "$$\n",
    "\n",
    "となり、これに学習率αをかけたものが勾配となる。"
   ]
  },
  {
   "cell_type": "markdown",
   "metadata": {},
   "source": [
    "## 【問題11】（アドバンス課題）局所最適解の問題\n",
    "\n",
    "最急降下法には一般的に局所最適解の問題がある。しかし、線形回帰では学習を続ければ必ず最適解を求めることができる。それはなぜか数式やグラフを用いて説明する。\n",
    "\n",
    "＜参考＞\n",
    "- https://analytics-notty.tech/derivation-of-least-squares-equation/\n",
    "- https://mathtrain.jp/convexconcave\n",
    "- https://teratail.com/questions/171186"
   ]
  },
  {
   "attachments": {
    "image.png": {
     "image/png": "[encoded data removed]"
    }
   },
   "cell_type": "markdown",
   "metadata": {},
   "source": [
    "目的関数である最小二乗法は、\n",
    "\n",
    "$$\n",
    "\\begin{align}\n",
    "&\\sum_{i=1}^{データ数}(y_i - (wx_i + b))^2 \\\\\n",
    "&=\\sum_{i=1}^{データ数}(x_i^2w^2 + 2x_i(b - y_i)w + (b - y_i)^2)\n",
    "\\end{align}\n",
    "$$\n",
    "\n",
    "と書け、横軸にwをとり、縦軸に誤差の二乗の合計を取ると、以下のようなグラフになる\n",
    "\n",
    "![image.png](attachment:image.png)\n",
    "\n",
    "w^2の前の係数xが二乗なので、必ず下に凸のグラフ(正の二次関数)になる。\n",
    "\n",
    "（厳密には、凸関数である証明を行うべきだが、省略する）\n",
    "\n",
    "上記は重回帰の場合であり、多項式回帰では次数が4次以上の場合は局所解が発生しうる。\n"
   ]
  },
  {
   "cell_type": "code",
   "execution_count": null,
   "metadata": {},
   "outputs": [],
   "source": []
  }
 ],
 "metadata": {
  "kernelspec": {
   "display_name": "Python 3",
   "language": "python",
   "name": "python3"
  },
  "language_info": {
   "codemirror_mode": {
    "name": "ipython",
    "version": 3
   },
   "file_extension": ".py",
   "mimetype": "text/x-python",
   "name": "python",
   "nbconvert_exporter": "python",
   "pygments_lexer": "ipython3",
   "version": "3.7.2"
  },
  "toc": {
   "base_numbering": 1,
   "nav_menu": {},
   "number_sections": true,
   "sideBar": true,
   "skip_h1_title": false,
   "title_cell": "Table of Contents",
   "title_sidebar": "Contents",
   "toc_cell": false,
   "toc_position": {
    "height": "calc(100% - 180px)",
    "left": "10px",
    "top": "150px",
    "width": "196.59375px"
   },
   "toc_section_display": true,
   "toc_window_display": true
  },
  "varInspector": {
   "cols": {
    "lenName": 16,
    "lenType": 16,
    "lenVar": 40
   },
   "kernels_config": {
    "python": {
     "delete_cmd_postfix": "",
     "delete_cmd_prefix": "del ",
     "library": "var_list.py",
     "varRefreshCmd": "print(var_dic_list())"
    },
    "r": {
     "delete_cmd_postfix": ") ",
     "delete_cmd_prefix": "rm(",
     "library": "var_list.r",
     "varRefreshCmd": "cat(var_dic_list()) "
    }
   },
   "types_to_exclude": [
    "module",
    "function",
    "builtin_function_or_method",
    "instance",
    "_Feature"
   ],
   "window_display": false
  }
 },
 "nbformat": 4,
 "nbformat_minor": 2
}
