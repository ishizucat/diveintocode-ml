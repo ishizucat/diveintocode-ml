{
 "cells": [
  {
   "cell_type": "markdown",
   "metadata": {},
   "source": [
    "# Week4 事前課題１\n",
    "## アヤメの分析\n",
    "\n",
    "### 【課題1】練習のために特徴量とカテゴリを選択\n",
    "***"
   ]
  },
  {
   "cell_type": "code",
   "execution_count": 22,
   "metadata": {},
   "outputs": [
    {
     "data": {
      "text/html": [
       "<div>\n",
       "<style scoped>\n",
       "    .dataframe tbody tr th:only-of-type {\n",
       "        vertical-align: middle;\n",
       "    }\n",
       "\n",
       "    .dataframe tbody tr th {\n",
       "        vertical-align: top;\n",
       "    }\n",
       "\n",
       "    .dataframe thead th {\n",
       "        text-align: right;\n",
       "    }\n",
       "</style>\n",
       "<table border=\"1\" class=\"dataframe\">\n",
       "  <thead>\n",
       "    <tr style=\"text-align: right;\">\n",
       "      <th></th>\n",
       "      <th>sepal_length</th>\n",
       "      <th>sepal_width</th>\n",
       "      <th>petal_length</th>\n",
       "      <th>petal_width</th>\n",
       "      <th>Species</th>\n",
       "    </tr>\n",
       "  </thead>\n",
       "  <tbody>\n",
       "    <tr>\n",
       "      <th>0</th>\n",
       "      <td>5.1</td>\n",
       "      <td>3.5</td>\n",
       "      <td>1.4</td>\n",
       "      <td>0.2</td>\n",
       "      <td>0</td>\n",
       "    </tr>\n",
       "    <tr>\n",
       "      <th>1</th>\n",
       "      <td>4.9</td>\n",
       "      <td>3.0</td>\n",
       "      <td>1.4</td>\n",
       "      <td>0.2</td>\n",
       "      <td>0</td>\n",
       "    </tr>\n",
       "    <tr>\n",
       "      <th>2</th>\n",
       "      <td>4.7</td>\n",
       "      <td>3.2</td>\n",
       "      <td>1.3</td>\n",
       "      <td>0.2</td>\n",
       "      <td>0</td>\n",
       "    </tr>\n",
       "    <tr>\n",
       "      <th>3</th>\n",
       "      <td>4.6</td>\n",
       "      <td>3.1</td>\n",
       "      <td>1.5</td>\n",
       "      <td>0.2</td>\n",
       "      <td>0</td>\n",
       "    </tr>\n",
       "    <tr>\n",
       "      <th>4</th>\n",
       "      <td>5.0</td>\n",
       "      <td>3.6</td>\n",
       "      <td>1.4</td>\n",
       "      <td>0.2</td>\n",
       "      <td>0</td>\n",
       "    </tr>\n",
       "  </tbody>\n",
       "</table>\n",
       "</div>"
      ],
      "text/plain": [
       "   sepal_length  sepal_width  petal_length  petal_width  Species\n",
       "0           5.1          3.5           1.4          0.2        0\n",
       "1           4.9          3.0           1.4          0.2        0\n",
       "2           4.7          3.2           1.3          0.2        0\n",
       "3           4.6          3.1           1.5          0.2        0\n",
       "4           5.0          3.6           1.4          0.2        0"
      ]
     },
     "execution_count": 22,
     "metadata": {},
     "output_type": "execute_result"
    }
   ],
   "source": [
    "#データセットをデータフレームに格納\n",
    "\n",
    "import pandas as pd\n",
    "import numpy as np\n",
    "import seaborn as sns\n",
    "import matplotlib.pyplot as plt\n",
    "%matplotlib inline\n",
    "\n",
    "from sklearn.datasets import load_iris\n",
    "iris = load_iris()\n",
    "\n",
    "data = pd.DataFrame(iris.data, columns=['sepal_length', 'sepal_width', 'petal_length', 'petal_width'])\n",
    "target = pd.DataFrame(iris.target, columns=['Species'])\n",
    "df_0 = pd.concat([data, target], axis=1)\n",
    "\n",
    "df_0.head()"
   ]
  },
  {
   "cell_type": "code",
   "execution_count": 23,
   "metadata": {},
   "outputs": [
    {
     "data": {
      "text/html": [
       "<div>\n",
       "<style scoped>\n",
       "    .dataframe tbody tr th:only-of-type {\n",
       "        vertical-align: middle;\n",
       "    }\n",
       "\n",
       "    .dataframe tbody tr th {\n",
       "        vertical-align: top;\n",
       "    }\n",
       "\n",
       "    .dataframe thead th {\n",
       "        text-align: right;\n",
       "    }\n",
       "</style>\n",
       "<table border=\"1\" class=\"dataframe\">\n",
       "  <thead>\n",
       "    <tr style=\"text-align: right;\">\n",
       "      <th></th>\n",
       "      <th>sepal_length</th>\n",
       "      <th>petal_length</th>\n",
       "      <th>Species</th>\n",
       "    </tr>\n",
       "  </thead>\n",
       "  <tbody>\n",
       "    <tr>\n",
       "      <th>0</th>\n",
       "      <td>7.0</td>\n",
       "      <td>4.7</td>\n",
       "      <td>1</td>\n",
       "    </tr>\n",
       "    <tr>\n",
       "      <th>1</th>\n",
       "      <td>6.4</td>\n",
       "      <td>4.5</td>\n",
       "      <td>1</td>\n",
       "    </tr>\n",
       "    <tr>\n",
       "      <th>2</th>\n",
       "      <td>6.9</td>\n",
       "      <td>4.9</td>\n",
       "      <td>1</td>\n",
       "    </tr>\n",
       "    <tr>\n",
       "      <th>3</th>\n",
       "      <td>5.5</td>\n",
       "      <td>4.0</td>\n",
       "      <td>1</td>\n",
       "    </tr>\n",
       "    <tr>\n",
       "      <th>4</th>\n",
       "      <td>6.5</td>\n",
       "      <td>4.6</td>\n",
       "      <td>1</td>\n",
       "    </tr>\n",
       "  </tbody>\n",
       "</table>\n",
       "</div>"
      ],
      "text/plain": [
       "   sepal_length  petal_length  Species\n",
       "0           7.0           4.7        1\n",
       "1           6.4           4.5        1\n",
       "2           6.9           4.9        1\n",
       "3           5.5           4.0        1\n",
       "4           6.5           4.6        1"
      ]
     },
     "execution_count": 23,
     "metadata": {},
     "output_type": "execute_result"
    }
   ],
   "source": [
    "#ターゲット：virgicolorとvirginica、特徴量：sepal_lengthとpetal_lengthを抜き出す\n",
    "\n",
    "df = df_0.query(\"not Species == 0\").iloc[:,[0,2,4]]\n",
    "df = df.reset_index(drop=True) \n",
    "df.head()"
   ]
  },
  {
   "cell_type": "markdown",
   "metadata": {},
   "source": [
    "### 【問題2】データの分析\n",
    "---"
   ]
  },
  {
   "cell_type": "code",
   "execution_count": 28,
   "metadata": {},
   "outputs": [
    {
     "data": {
      "text/plain": [
       "[]"
      ]
     },
     "execution_count": 28,
     "metadata": {},
     "output_type": "execute_result"
    },
    {
     "data": {
      "image/png": "[encoded data removed]",
      "text/plain": [
       "<Figure size 432x288 with 1 Axes>"
      ]
     },
     "metadata": {
      "needs_background": "light"
     },
     "output_type": "display_data"
    }
   ],
   "source": [
    "#散布図\n",
    "plt.title(\"scatter of sepal_length and petal_length\")\n",
    "plt.xlabel(\"sepal_length\")\n",
    "plt.ylabel(\"petal_length\")\n",
    "plt.scatter(df.query(\"Species == 1\")[\"sepal_length\"], df.query(\"Species == 1\")[\"petal_length\"], label=\"vergicolor\")\n",
    "plt.scatter(df.query(\"Species == 2\")[\"sepal_length\"], df.query(\"Species == 2\")[\"petal_length\"], label=\"virginica\")\n",
    "plt.legend()\n",
    "plt.plot()\n"
   ]
  },
  {
   "cell_type": "code",
   "execution_count": 37,
   "metadata": {},
   "outputs": [
    {
     "data": {
      "text/plain": [
       "[]"
      ]
     },
     "execution_count": 37,
     "metadata": {},
     "output_type": "execute_result"
    },
    {
     "data": {
      "image/png": "[encoded data removed]",
      "text/plain": [
       "<Figure size 576x216 with 2 Axes>"
      ]
     },
     "metadata": {
      "needs_background": "light"
     },
     "output_type": "display_data"
    }
   ],
   "source": [
    "#箱ひげ図\n",
    "plt.figure(figsize=(8, 3))\n",
    "plt.subplot(1,2,1)\n",
    "plt.title(\"sepal_length\")\n",
    "plt.xlabel(\"target\")\n",
    "plt.boxplot([df.query(\"Species == 1\")[\"sepal_length\"],df.query(\"Species == 2\")[\"sepal_length\"]])\n",
    "\n",
    "plt.subplot(1,2,2)\n",
    "plt.title(\"petal_length\")\n",
    "plt.xlabel(\"target\")\n",
    "plt.boxplot([df.query(\"Species == 1\")[\"petal_length\"],df.query(\"Species == 2\")[\"petal_length\"]])\n",
    "plt.plot()"
   ]
  },
  {
   "cell_type": "code",
   "execution_count": 39,
   "metadata": {},
   "outputs": [
    {
     "data": {
      "text/plain": [
       "[]"
      ]
     },
     "execution_count": 39,
     "metadata": {},
     "output_type": "execute_result"
    },
    {
     "data": {
      "image/png": "[encoded data removed]",
      "text/plain": [
       "<Figure size 576x216 with 2 Axes>"
      ]
     },
     "metadata": {
      "needs_background": "light"
     },
     "output_type": "display_data"
    }
   ],
   "source": [
    "#バイオリン図\n",
    "plt.figure(figsize=(8, 3))\n",
    "plt.subplot(1,2,1)\n",
    "plt.title(\"sepal_length\")\n",
    "plt.xlabel(\"target\")\n",
    "plt.violinplot([df.query(\"Species == 1\")[\"sepal_length\"],df.query(\"Species == 2\")[\"sepal_length\"]])\n",
    "\n",
    "plt.subplot(1,2,2)\n",
    "plt.title(\"petal_length\")\n",
    "plt.xlabel(\"target\")\n",
    "plt.violinplot([df.query(\"Species == 1\")[\"petal_length\"],df.query(\"Species == 2\")[\"petal_length\"]])\n",
    "plt.plot()"
   ]
  },
  {
   "cell_type": "markdown",
   "metadata": {},
   "source": [
    "### 【問題3】前処理・訓練用データと検証用データの分割\n",
    "---"
   ]
  },
  {
   "cell_type": "code",
   "execution_count": 90,
   "metadata": {},
   "outputs": [
    {
     "name": "stdout",
     "output_type": "stream",
     "text": [
      "X_train (75, 2)\n",
      "X_test (25, 2)\n",
      "Y_train (75,)\n",
      "Y_test (25,)\n"
     ]
    }
   ],
   "source": [
    "from sklearn.model_selection import train_test_split\n",
    "\n",
    "X = df.iloc[:,[0,1]].values\n",
    "y = df[\"Species\"].values\n",
    "\n",
    "(X_train, X_test, y_train, y_test) = train_test_split(X, y, test_size=0.25, random_state=0,) #シードも設定しておく\n",
    "\n",
    "print(\"X_train\", np.shape(X_train))\n",
    "print(\"X_test\", np.shape(X_test))\n",
    "print(\"Y_train\", np.shape(y_train))\n",
    "print(\"Y_test\", np.shape(y_test))"
   ]
  },
  {
   "cell_type": "markdown",
   "metadata": {},
   "source": [
    "### 【問題4】前処理・標準化\n",
    "---"
   ]
  },
  {
   "cell_type": "code",
   "execution_count": 60,
   "metadata": {},
   "outputs": [
    {
     "name": "stdout",
     "output_type": "stream",
     "text": [
      "相対的なスケーリング [0.66354469 0.82688169]\n",
      "平均値 [6.27466667 4.9       ]\n",
      "分散値 [0.44029156 0.68373333]\n",
      "サンプル数 75\n"
     ]
    }
   ],
   "source": [
    "from sklearn.preprocessing import StandardScaler\n",
    "\n",
    "#X_trainのパラメータを計算\n",
    "sc = StandardScaler()\n",
    "sc.fit(X_train)\n",
    "print(\"相対的なスケーリング\", sc.scale_)\n",
    "print(\"平均値\", sc.mean_)\n",
    "print(\"分散値\", sc.var_)\n",
    "print(\"サンプル数\", sc.n_samples_seen_)"
   ]
  },
  {
   "cell_type": "code",
   "execution_count": 66,
   "metadata": {},
   "outputs": [],
   "source": [
    "#X_trainのパラメータをもとにデータ計算\n",
    "\n",
    "X_train_sc = sc.transform(X_train)"
   ]
  },
  {
   "cell_type": "code",
   "execution_count": 67,
   "metadata": {},
   "outputs": [],
   "source": [
    "X_test_sc = sc.transform(X_test)  #X_trainのパラメータが適用されている？？"
   ]
  },
  {
   "cell_type": "markdown",
   "metadata": {},
   "source": [
    "### 【問題5】学習と推定\n",
    "---"
   ]
  },
  {
   "cell_type": "code",
   "execution_count": 83,
   "metadata": {},
   "outputs": [
    {
     "name": "stdout",
     "output_type": "stream",
     "text": [
      "1-nn [1 2 2 2 2 2 1 2 2 1 2 2 2 1 1 1 2 1 2 1 1 2 1 2 1]\n",
      "3-nn [1 2 1 2 2 2 1 2 2 2 2 2 2 1 1 1 2 1 2 1 1 2 1 2 1]\n",
      "5-nn [1 2 1 2 2 2 1 2 2 2 2 2 2 2 1 1 2 1 2 1 1 2 1 2 1]\n",
      "9-nn [1 2 1 2 2 2 1 2 2 2 2 2 2 1 1 1 2 1 2 1 1 2 1 2 1]\n"
     ]
    }
   ],
   "source": [
    "#k近傍法\n",
    "from sklearn.neighbors import KNeighborsClassifier\n",
    "\n",
    "knn = {}\n",
    "y_pred = {}\n",
    "\n",
    "for i in range (1, 10, 2):\n",
    "    knn[str(i)] = KNeighborsClassifier(n_neighbors=i)  #インスタンス生成\n",
    "    knn[str(i)].fit(X_train_sc, y_train)                            #モデル作成\n",
    "    y_pred[str(i)] = knn[str(i)].predict(X_test_sc)         #予測実行\n",
    "\n",
    "print(\"1-nn\", y_pred[\"1\"])\n",
    "print(\"3-nn\", y_pred[\"3\"])\n",
    "print(\"5-nn\", y_pred[\"5\"])\n",
    "print(\"9-nn\", y_pred[\"9\"])"
   ]
  },
  {
   "cell_type": "markdown",
   "metadata": {},
   "source": [
    "### 【問題6】評価\n",
    "---"
   ]
  },
  {
   "cell_type": "code",
   "execution_count": 114,
   "metadata": {},
   "outputs": [
    {
     "name": "stdout",
     "output_type": "stream",
     "text": [
      "1 -nn： 0.84\n",
      "3 -nn： 0.92\n",
      "5 -nn： 0.88\n",
      "7 -nn： 0.92\n",
      "9 -nn： 0.92\n"
     ]
    }
   ],
   "source": [
    "from sklearn import metrics\n",
    "\n",
    "#Accuracy（正解率）\n",
    "for i in knn:\n",
    "    print(i,\"-nn：\", metrics.accuracy_score(y_test, y_pred[i]))\n",
    "    \n",
    "knn_list = [metrics.accuracy_score(y_test, y_pred[\"5\"])]"
   ]
  },
  {
   "cell_type": "code",
   "execution_count": 115,
   "metadata": {},
   "outputs": [
    {
     "name": "stdout",
     "output_type": "stream",
     "text": [
      "1 -nn： 0.9090909090909091\n",
      "3 -nn： 1.0\n",
      "5 -nn： 1.0\n",
      "7 -nn： 1.0\n",
      "9 -nn： 1.0\n"
     ]
    }
   ],
   "source": [
    "#Precision（適合率）\n",
    "for i in knn:\n",
    "    print(i,\"-nn：\", metrics.precision_score(y_test, y_pred[i]))\n",
    "\n",
    "knn_list.append(metrics.precision_score(y_test, y_pred[\"5\"]))"
   ]
  },
  {
   "cell_type": "code",
   "execution_count": 116,
   "metadata": {},
   "outputs": [
    {
     "name": "stdout",
     "output_type": "stream",
     "text": [
      "1 -nn： 0.7692307692307693\n",
      "3 -nn： 0.8461538461538461\n",
      "5 -nn： 0.7692307692307693\n",
      "7 -nn： 0.8461538461538461\n",
      "9 -nn： 0.8461538461538461\n"
     ]
    }
   ],
   "source": [
    "#Recall（再現率）\n",
    "for i in knn:\n",
    "    print(i,\"-nn：\", metrics.recall_score(y_test, y_pred[i]))\n",
    "\n",
    "knn_list.append(metrics.recall_score(y_test, y_pred[\"5\"]))"
   ]
  },
  {
   "cell_type": "code",
   "execution_count": 117,
   "metadata": {},
   "outputs": [
    {
     "name": "stdout",
     "output_type": "stream",
     "text": [
      "1 -nn： 0.8333333333333333\n",
      "3 -nn： 0.9166666666666666\n",
      "5 -nn： 0.8695652173913044\n",
      "7 -nn： 0.9166666666666666\n",
      "9 -nn： 0.9166666666666666\n"
     ]
    }
   ],
   "source": [
    "#F値\n",
    "for i in knn:\n",
    "    print(i,\"-nn：\", metrics.f1_score(y_test, y_pred[i]))\n",
    "\n",
    "knn_list.append(metrics.f1_score(y_test, y_pred[\"5\"]))"
   ]
  },
  {
   "cell_type": "code",
   "execution_count": 89,
   "metadata": {},
   "outputs": [
    {
     "name": "stdout",
     "output_type": "stream",
     "text": [
      "1 -nn： [[10  3]\n",
      " [ 1 11]]\n",
      "3 -nn： [[11  2]\n",
      " [ 0 12]]\n",
      "5 -nn： [[10  3]\n",
      " [ 0 12]]\n",
      "7 -nn： [[11  2]\n",
      " [ 0 12]]\n",
      "9 -nn： [[11  2]\n",
      " [ 0 12]]\n"
     ]
    }
   ],
   "source": [
    "#混同行列（confusion matrix）\n",
    "for i in knn:\n",
    "    print(i,\"-nn：\", metrics.confusion_matrix(y_test, y_pred[i]))"
   ]
  },
  {
   "cell_type": "markdown",
   "metadata": {},
   "source": [
    "#### 各指標について\n",
    "\n",
    "二値分類（2クラス分類）においては実際のクラスと予測したクラスの組み合わせによって、結果を以下の4種類に分けることができる。\n",
    "\n",
    " - 真陽性（TP: True Positive）: 実際のクラスが陽性で予測も陽性（正解）\n",
    " - 真陰性（TN: True Negative）: 実際のクラスが陰性で予測も陰性（正解）\n",
    " - 偽陽性（FP: False Positive）: 実際のクラスは陰性で予測が陽性（不正解）\n",
    " - 偽陰性（FN: False Negative）: 実際のクラスは陽性で予測が陰性（不正解）\n",
    "\n",
    "これを行列にしたものが混同行列。\n",
    "\n",
    " - [[TN, FP][FN, TP]]\n",
    "\n",
    "４種類の指標値は、混同行列の値をもとに算出されている。\n",
    "\n",
    " - 正解率（accuracy）は、すべてのサンプルのうち正解したサンプルの割合。\n",
    " \n",
    " $$\n",
    "accuracy = \\frac{TP + TN}{TP + TN + FP + FN}\n",
    " $$\n",
    "\n",
    "- 適合率（precision）は、陽性と予測されたサンプルのうち正解したサンプルの割合。\n",
    "\n",
    "$$\n",
    " precision = \\frac{TP}{TP +  FP}\n",
    " $$\n",
    "\n",
    "- 再現率（recall）は実際に陽性のサンプルのうち正解したサンプルの割合。\n",
    "\n",
    "$$\n",
    " recall = \\frac{TP}{TP + FN}\n",
    "$$\n",
    "\n",
    "- F1値（F1-measure）は適合率と再現率の調和平均。\n",
    "\n",
    "$$\n",
    " F1 = \\frac{2 * TP}{2 * TP + FP + FN}\n",
    "$$"
   ]
  },
  {
   "cell_type": "markdown",
   "metadata": {},
   "source": [
    "### 【問題7】可視化\n",
    "---"
   ]
  },
  {
   "cell_type": "code",
   "execution_count": 91,
   "metadata": {},
   "outputs": [],
   "source": [
    "from matplotlib.colors import ListedColormap\n",
    "import matplotlib.patches as mpatches\n",
    "\n",
    "def decision_region(X, y, model, step=0.01, title='decision region', xlabel='xlabel', ylabel='ylabel', target_names=['versicolor', 'virginica']):\n",
    "    \"\"\"\n",
    "    2値分類を2次元の特徴量で学習したモデルの決定領域を描く。\n",
    "    背景の色が学習したモデルによる推定値から描画される。\n",
    "    散布図の点は訓練データまたは検証データである。\n",
    "\n",
    "    Parameters\n",
    "    ----------------\n",
    "    X : ndarray, shape(n_samples, 2)\n",
    "        特徴量\n",
    "    y : ndarray, shape(n_samples,)\n",
    "        ラベル\n",
    "    model : object\n",
    "        学習したモデルのインスンタスを入れる\n",
    "    step : float, (default : 0.1)\n",
    "        推定値を計算する間隔を設定する\n",
    "    title : str\n",
    "        グラフのタイトルの文章を与える\n",
    "    xlabel, ylabel : str\n",
    "        軸ラベルの文章を与える\n",
    "    target_names= : list of str\n",
    "        凡例の一覧を与える\n",
    "    \"\"\"\n",
    "    # setting\n",
    "    scatter_color = ['red', 'blue']\n",
    "    contourf_color = ['pink', 'skyblue']\n",
    "    n_class = 2\n",
    "\n",
    "    # pred\n",
    "    mesh_f0, mesh_f1  = np.meshgrid(np.arange(np.min(X[:,0])-0.5, np.max(X[:,0])+0.5, step), np.arange(np.min(X[:,1])-0.5, np.max(X[:,1])+0.5, step))\n",
    "    mesh = np.c_[np.ravel(mesh_f0),np.ravel(mesh_f1)]\n",
    "    y_pred = model.predict(mesh).reshape(mesh_f0.shape)\n",
    "\n",
    "    # plot\n",
    "    plt.title(title)\n",
    "    plt.xlabel(xlabel)\n",
    "    plt.ylabel(ylabel)\n",
    "    plt.contourf(mesh_f0, mesh_f1, y_pred, n_class-1, cmap=ListedColormap(contourf_color))\n",
    "    plt.contour(mesh_f0, mesh_f1, y_pred, n_class-1, colors='y', linewidths=3, alpha=0.5)\n",
    "    for i, target in enumerate(set(y)):\n",
    "        plt.scatter(X[y==target][:, 0], X[y==target][:, 1], s=80, color=scatter_color[i], label=target_names[i], marker='o')\n",
    "    patches = [mpatches.Patch(color=scatter_color[i], label=target_names[i]) for i in range(n_class)]\n",
    "    plt.legend(handles=patches)\n",
    "    plt.legend()\n",
    "    plt.show()"
   ]
  },
  {
   "cell_type": "code",
   "execution_count": 97,
   "metadata": {},
   "outputs": [
    {
     "data": {
      "image/png": "[encoded data removed]",
      "text/plain": [
       "<Figure size 432x288 with 1 Axes>"
      ]
     },
     "metadata": {
      "needs_background": "light"
     },
     "output_type": "display_data"
    }
   ],
   "source": [
    "#nn-5\n",
    "decision_region(X_train_sc, y_train, knn[\"5\"])"
   ]
  },
  {
   "cell_type": "code",
   "execution_count": 98,
   "metadata": {},
   "outputs": [
    {
     "data": {
      "image/png": "[encoded data removed]",
      "text/plain": [
       "<Figure size 432x288 with 1 Axes>"
      ]
     },
     "metadata": {
      "needs_background": "light"
     },
     "output_type": "display_data"
    }
   ],
   "source": [
    "#nn-1\n",
    "decision_region(X_train_sc, y_train, knn[\"1\"])"
   ]
  },
  {
   "cell_type": "code",
   "execution_count": 99,
   "metadata": {},
   "outputs": [
    {
     "data": {
      "image/png": "[encoded data removed]",
      "text/plain": [
       "<Figure size 432x288 with 1 Axes>"
      ]
     },
     "metadata": {
      "needs_background": "light"
     },
     "output_type": "display_data"
    }
   ],
   "source": [
    "#検証用データ\n",
    "decision_region(X_test_sc, y_test, knn[\"1\"])"
   ]
  },
  {
   "cell_type": "markdown",
   "metadata": {},
   "source": [
    "### 【問題8】他の手法の学習\n",
    "---\n"
   ]
  },
  {
   "cell_type": "code",
   "execution_count": 106,
   "metadata": {},
   "outputs": [
    {
     "name": "stdout",
     "output_type": "stream",
     "text": [
      "[1 2 1 2 2 2 1 2 2 2 2 2 2 1 1 1 2 1 2 1 1 2 1 2 1]\n"
     ]
    }
   ],
   "source": [
    "#ロジスティック回帰\n",
    "from sklearn.linear_model import LogisticRegression\n",
    "\n",
    "lr = LogisticRegression()\n",
    "lr.fit(X_train_sc, y_train)  #訓練\n",
    "\n",
    "Ir_pr = lr.predict(X_test_sc)   #予測\n",
    "print(Ir_pr)"
   ]
  },
  {
   "cell_type": "code",
   "execution_count": 105,
   "metadata": {},
   "outputs": [
    {
     "name": "stdout",
     "output_type": "stream",
     "text": [
      "0.92\n"
     ]
    }
   ],
   "source": [
    "print (lr.score(X_test_sc, y_test))"
   ]
  },
  {
   "cell_type": "code",
   "execution_count": 108,
   "metadata": {},
   "outputs": [
    {
     "data": {
      "text/plain": [
       "array([[11,  2],\n",
       "       [ 0, 12]])"
      ]
     },
     "execution_count": 108,
     "metadata": {},
     "output_type": "execute_result"
    }
   ],
   "source": [
    "#混合行列\n",
    "metrics.confusion_matrix(y_test, Ir_pr)"
   ]
  },
  {
   "cell_type": "code",
   "execution_count": 118,
   "metadata": {},
   "outputs": [
    {
     "data": {
      "text/plain": [
       "[0.92, 1.0, 0.8461538461538461, 0.9166666666666666]"
      ]
     },
     "execution_count": 118,
     "metadata": {},
     "output_type": "execute_result"
    }
   ],
   "source": [
    "#各指標値のリスト格納\n",
    "Ir_list = [metrics.accuracy_score(y_test, Ir_pr),\n",
    "           metrics.precision_score(y_test, Ir_pr), \n",
    "           metrics.recall_score(y_test, Ir_pr),\n",
    "           metrics.f1_score(y_test, Ir_pr) ]\n",
    "Ir_list"
   ]
  },
  {
   "cell_type": "code",
   "execution_count": 119,
   "metadata": {},
   "outputs": [
    {
     "name": "stdout",
     "output_type": "stream",
     "text": [
      "[1 2 1 2 2 2 1 2 2 2 2 2 2 1 1 1 2 1 2 1 1 2 1 2 1]\n"
     ]
    }
   ],
   "source": [
    "#SVM\n",
    "from sklearn.svm import SVC\n",
    "\n",
    "svc = SVC()\n",
    "svc.fit(X_train_sc, y_train)  #訓練\n",
    "svc_pr = svc.predict(X_test_sc)   #予測\n",
    "print(svc_pr)"
   ]
  },
  {
   "cell_type": "code",
   "execution_count": 120,
   "metadata": {},
   "outputs": [
    {
     "name": "stdout",
     "output_type": "stream",
     "text": [
      "0.92\n"
     ]
    }
   ],
   "source": [
    "print (svc.score(X_test_sc, y_test))"
   ]
  },
  {
   "cell_type": "code",
   "execution_count": 121,
   "metadata": {},
   "outputs": [
    {
     "data": {
      "text/plain": [
       "array([[11,  2],\n",
       "       [ 0, 12]])"
      ]
     },
     "execution_count": 121,
     "metadata": {},
     "output_type": "execute_result"
    }
   ],
   "source": [
    "metrics.confusion_matrix(y_test, svc_pr)"
   ]
  },
  {
   "cell_type": "code",
   "execution_count": 128,
   "metadata": {},
   "outputs": [
    {
     "data": {
      "text/plain": [
       "[0.92, 1.0, 0.8461538461538461, 0.9166666666666666]"
      ]
     },
     "execution_count": 128,
     "metadata": {},
     "output_type": "execute_result"
    }
   ],
   "source": [
    "#各指標値のリスト格納\n",
    "svc_list = [metrics.accuracy_score(y_test, svc_pr),\n",
    "           metrics.precision_score(y_test, svc_pr), \n",
    "           metrics.recall_score(y_test, svc_pr),\n",
    "           metrics.f1_score(y_test, svc_pr) ]\n",
    "svc_list"
   ]
  },
  {
   "cell_type": "code",
   "execution_count": 129,
   "metadata": {},
   "outputs": [
    {
     "name": "stdout",
     "output_type": "stream",
     "text": [
      "[1 2 1 2 2 2 1 2 2 2 2 2 2 1 2 1 2 1 2 1 1 2 1 2 1]\n"
     ]
    }
   ],
   "source": [
    "#決定木\n",
    "from sklearn.tree import DecisionTreeClassifier\n",
    "\n",
    "clf = DecisionTreeClassifier(random_state=0)\n",
    "clf.fit(X_train_sc, y_train)\n",
    "clf_pr = clf.predict(X_test_sc)\n",
    "print(clf_pr)"
   ]
  },
  {
   "cell_type": "code",
   "execution_count": 130,
   "metadata": {},
   "outputs": [
    {
     "name": "stdout",
     "output_type": "stream",
     "text": [
      "0.88\n"
     ]
    }
   ],
   "source": [
    "print(clf.score(X_test_sc, y_test))"
   ]
  },
  {
   "cell_type": "code",
   "execution_count": 131,
   "metadata": {},
   "outputs": [
    {
     "data": {
      "text/plain": [
       "array([[10,  3],\n",
       "       [ 0, 12]])"
      ]
     },
     "execution_count": 131,
     "metadata": {},
     "output_type": "execute_result"
    }
   ],
   "source": [
    "metrics.confusion_matrix(y_test, clf_pr)"
   ]
  },
  {
   "cell_type": "code",
   "execution_count": 127,
   "metadata": {},
   "outputs": [
    {
     "data": {
      "text/plain": [
       "[0.88, 1.0, 0.7692307692307693, 0.8695652173913044]"
      ]
     },
     "execution_count": 127,
     "metadata": {},
     "output_type": "execute_result"
    }
   ],
   "source": [
    "clf_list = [metrics.accuracy_score(y_test, clf_pr),\n",
    "           metrics.precision_score(y_test, clf_pr), \n",
    "           metrics.recall_score(y_test, clf_pr),\n",
    "           metrics.f1_score(y_test, clf_pr) ]\n",
    "clf_list"
   ]
  },
  {
   "cell_type": "code",
   "execution_count": 132,
   "metadata": {},
   "outputs": [
    {
     "name": "stdout",
     "output_type": "stream",
     "text": [
      "[2 2 1 2 2 2 1 2 2 2 2 2 2 1 1 1 2 1 2 1 1 2 1 2 1]\n"
     ]
    },
    {
     "name": "stderr",
     "output_type": "stream",
     "text": [
      "/Users/ishizucat/.pyenv/versions/anaconda3-5.3.1/lib/python3.7/site-packages/sklearn/ensemble/weight_boosting.py:29: DeprecationWarning: numpy.core.umath_tests is an internal NumPy module and should not be imported. It will be removed in a future NumPy release.\n",
      "  from numpy.core.umath_tests import inner1d\n"
     ]
    }
   ],
   "source": [
    "#ランダムフォレスト\n",
    "from sklearn.ensemble import RandomForestClassifier\n",
    "\n",
    "Rclf = RandomForestClassifier(random_state=0)\n",
    "Rclf.fit(X_train_sc, y_train)\n",
    "Rclf_pr = Rclf.predict(X_test_sc)\n",
    "print(Rclf_pr)\n"
   ]
  },
  {
   "cell_type": "code",
   "execution_count": 133,
   "metadata": {},
   "outputs": [
    {
     "name": "stdout",
     "output_type": "stream",
     "text": [
      "0.88\n"
     ]
    }
   ],
   "source": [
    "print(Rclf.score(X_test_sc, y_test))"
   ]
  },
  {
   "cell_type": "code",
   "execution_count": 134,
   "metadata": {},
   "outputs": [
    {
     "data": {
      "text/plain": [
       "array([[10,  3],\n",
       "       [ 0, 12]])"
      ]
     },
     "execution_count": 134,
     "metadata": {},
     "output_type": "execute_result"
    }
   ],
   "source": [
    "metrics.confusion_matrix(y_test, Rclf_pr)"
   ]
  },
  {
   "cell_type": "code",
   "execution_count": 135,
   "metadata": {},
   "outputs": [
    {
     "data": {
      "text/plain": [
       "[0.88, 1.0, 0.7692307692307693, 0.8695652173913044]"
      ]
     },
     "execution_count": 135,
     "metadata": {},
     "output_type": "execute_result"
    }
   ],
   "source": [
    "Rclf_list = [metrics.accuracy_score(y_test, Rclf_pr),\n",
    "           metrics.precision_score(y_test, Rclf_pr), \n",
    "           metrics.recall_score(y_test, Rclf_pr),\n",
    "           metrics.f1_score(y_test, Rclf_pr) ]\n",
    "Rclf_list"
   ]
  },
  {
   "cell_type": "code",
   "execution_count": 136,
   "metadata": {},
   "outputs": [],
   "source": [
    "score_dict = {\"knn\":knn_list, \"lr\": Ir_list, \"svc\": svc_list, \"clf\": clf_list, \"Rclf\": Rclf_list} "
   ]
  },
  {
   "cell_type": "code",
   "execution_count": 139,
   "metadata": {},
   "outputs": [
    {
     "data": {
      "text/html": [
       "<div>\n",
       "<style scoped>\n",
       "    .dataframe tbody tr th:only-of-type {\n",
       "        vertical-align: middle;\n",
       "    }\n",
       "\n",
       "    .dataframe tbody tr th {\n",
       "        vertical-align: top;\n",
       "    }\n",
       "\n",
       "    .dataframe thead th {\n",
       "        text-align: right;\n",
       "    }\n",
       "</style>\n",
       "<table border=\"1\" class=\"dataframe\">\n",
       "  <thead>\n",
       "    <tr style=\"text-align: right;\">\n",
       "      <th></th>\n",
       "      <th>knn</th>\n",
       "      <th>lr</th>\n",
       "      <th>svc</th>\n",
       "      <th>clf</th>\n",
       "      <th>Rclf</th>\n",
       "    </tr>\n",
       "  </thead>\n",
       "  <tbody>\n",
       "    <tr>\n",
       "      <th>accuracy</th>\n",
       "      <td>0.880000</td>\n",
       "      <td>0.920000</td>\n",
       "      <td>0.920000</td>\n",
       "      <td>0.880000</td>\n",
       "      <td>0.880000</td>\n",
       "    </tr>\n",
       "    <tr>\n",
       "      <th>precision</th>\n",
       "      <td>1.000000</td>\n",
       "      <td>1.000000</td>\n",
       "      <td>1.000000</td>\n",
       "      <td>1.000000</td>\n",
       "      <td>1.000000</td>\n",
       "    </tr>\n",
       "    <tr>\n",
       "      <th>recall</th>\n",
       "      <td>0.769231</td>\n",
       "      <td>0.846154</td>\n",
       "      <td>0.846154</td>\n",
       "      <td>0.769231</td>\n",
       "      <td>0.769231</td>\n",
       "    </tr>\n",
       "    <tr>\n",
       "      <th>F1</th>\n",
       "      <td>0.869565</td>\n",
       "      <td>0.916667</td>\n",
       "      <td>0.916667</td>\n",
       "      <td>0.869565</td>\n",
       "      <td>0.869565</td>\n",
       "    </tr>\n",
       "  </tbody>\n",
       "</table>\n",
       "</div>"
      ],
      "text/plain": [
       "                knn        lr       svc       clf      Rclf\n",
       "accuracy   0.880000  0.920000  0.920000  0.880000  0.880000\n",
       "precision  1.000000  1.000000  1.000000  1.000000  1.000000\n",
       "recall     0.769231  0.846154  0.846154  0.769231  0.769231\n",
       "F1         0.869565  0.916667  0.916667  0.869565  0.869565"
      ]
     },
     "execution_count": 139,
     "metadata": {},
     "output_type": "execute_result"
    }
   ],
   "source": [
    "#各指標の一覧\n",
    "pd.DataFrame(score_dict, index=[\"accuracy\", \"precision\", \"recall\", \"F1\"])"
   ]
  },
  {
   "cell_type": "code",
   "execution_count": 140,
   "metadata": {},
   "outputs": [
    {
     "data": {
      "image/png": "[encoded data removed]",
      "text/plain": [
       "<Figure size 432x288 with 1 Axes>"
      ]
     },
     "metadata": {
      "needs_background": "light"
     },
     "output_type": "display_data"
    }
   ],
   "source": [
    "#領域の比較\n",
    "#nn-5\n",
    "decision_region(X_train_sc, y_train, knn[\"5\"])"
   ]
  },
  {
   "cell_type": "code",
   "execution_count": 141,
   "metadata": {},
   "outputs": [
    {
     "data": {
      "image/png": "[encoded data removed]",
      "text/plain": [
       "<Figure size 432x288 with 1 Axes>"
      ]
     },
     "metadata": {
      "needs_background": "light"
     },
     "output_type": "display_data"
    }
   ],
   "source": [
    "#ロジスティック回帰\n",
    "decision_region(X_train_sc, y_train, lr )"
   ]
  },
  {
   "cell_type": "code",
   "execution_count": 142,
   "metadata": {},
   "outputs": [
    {
     "data": {
      "image/png": "[encoded data removed]",
      "text/plain": [
       "<Figure size 432x288 with 1 Axes>"
      ]
     },
     "metadata": {
      "needs_background": "light"
     },
     "output_type": "display_data"
    }
   ],
   "source": [
    "#SVM\n",
    "decision_region(X_train_sc, y_train, svc)"
   ]
  },
  {
   "cell_type": "code",
   "execution_count": 143,
   "metadata": {},
   "outputs": [
    {
     "data": {
      "image/png": "[encoded data removed]",
      "text/plain": [
       "<Figure size 432x288 with 1 Axes>"
      ]
     },
     "metadata": {
      "needs_background": "light"
     },
     "output_type": "display_data"
    }
   ],
   "source": [
    "#決定木\n",
    "decision_region(X_train_sc, y_train, clf)"
   ]
  },
  {
   "cell_type": "code",
   "execution_count": 144,
   "metadata": {},
   "outputs": [
    {
     "data": {
      "image/png": "[encoded data removed]",
      "text/plain": [
       "<Figure size 432x288 with 1 Axes>"
      ]
     },
     "metadata": {
      "needs_background": "light"
     },
     "output_type": "display_data"
    }
   ],
   "source": [
    "#ランダムフォレスト\n",
    "decision_region(X_train_sc, y_train, Rclf)"
   ]
  },
  {
   "cell_type": "markdown",
   "metadata": {},
   "source": [
    "#### 【考察】\n",
    "\n",
    "＜指標について＞\n",
    "\n",
    " - 正解率、再現率、F1はロジスティック回帰およびSVMの値が良い\n",
    " - 適合率はどの手法でも変わりない\n",
    " \n",
    " \n",
    " ＜決定領域について＞\n",
    " \n",
    " - K近傍法は曲線で領域を区切っている\n",
    " - ロジスティック回帰は直線で領域を区切っている\n",
    " - SVMは曲線で領域を区切っており、K近傍法よりもフィットが良いように見える\n",
    " - 決定木は縦横の直線で領域を区切っている\n",
    " - ランダムフォレストは横線を主体とした区切り方となっている"
   ]
  },
  {
   "cell_type": "code",
   "execution_count": null,
   "metadata": {},
   "outputs": [],
   "source": []
  }
 ],
 "metadata": {
  "kernelspec": {
   "display_name": "Python 3",
   "language": "python",
   "name": "python3"
  },
  "language_info": {
   "codemirror_mode": {
    "name": "ipython",
    "version": 3
   },
   "file_extension": ".py",
   "mimetype": "text/x-python",
   "name": "python",
   "nbconvert_exporter": "python",
   "pygments_lexer": "ipython3",
   "version": "3.7.2"
  },
  "toc": {
   "base_numbering": 1,
   "nav_menu": {},
   "number_sections": true,
   "sideBar": true,
   "skip_h1_title": false,
   "title_cell": "Table of Contents",
   "title_sidebar": "Contents",
   "toc_cell": false,
   "toc_position": {},
   "toc_section_display": true,
   "toc_window_display": false
  },
  "varInspector": {
   "cols": {
    "lenName": 16,
    "lenType": 16,
    "lenVar": 40
   },
   "kernels_config": {
    "python": {
     "delete_cmd_postfix": "",
     "delete_cmd_prefix": "del ",
     "library": "var_list.py",
     "varRefreshCmd": "print(var_dic_list())"
    },
    "r": {
     "delete_cmd_postfix": ") ",
     "delete_cmd_prefix": "rm(",
     "library": "var_list.r",
     "varRefreshCmd": "cat(var_dic_list()) "
    }
   },
   "types_to_exclude": [
    "module",
    "function",
    "builtin_function_or_method",
    "instance",
    "_Feature"
   ],
   "window_display": false
  }
 },
 "nbformat": 4,
 "nbformat_minor": 2
}
