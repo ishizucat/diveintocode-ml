{
 "cells": [
  {
   "cell_type": "markdown",
   "metadata": {},
   "source": [
    "# Sprint5 機械学習スクラッチ SVM\n",
    "\n",
    "SVM（サポートベクターマシン）をスクラッチする。SVMは分類と回帰の双方に使用できるが、今回は分類のみを扱う。\n",
    "\n",
    "また、カーネルは線形、マージンはハードマージンを扱う。\n",
    "\n"
   ]
  },
  {
   "cell_type": "code",
   "execution_count": 1,
   "metadata": {
    "cell_style": "split"
   },
   "outputs": [],
   "source": [
    "#基本ライブラリ\n",
    "import pickle\n",
    "import numpy as np\n",
    "import matplotlib.pyplot as plt\n",
    "import pandas as pd\n",
    "import seaborn as sns\n",
    "%matplotlib inline"
   ]
  },
  {
   "cell_type": "markdown",
   "metadata": {},
   "source": [
    "## 具体的な理解\n"
   ]
  },
  {
   "cell_type": "code",
   "execution_count": 36,
   "metadata": {},
   "outputs": [
    {
     "data": {
      "text/html": [
       "<div>\n",
       "<style scoped>\n",
       "    .dataframe tbody tr th:only-of-type {\n",
       "        vertical-align: middle;\n",
       "    }\n",
       "\n",
       "    .dataframe tbody tr th {\n",
       "        vertical-align: top;\n",
       "    }\n",
       "\n",
       "    .dataframe thead th {\n",
       "        text-align: right;\n",
       "    }\n",
       "</style>\n",
       "<table border=\"1\" class=\"dataframe\">\n",
       "  <thead>\n",
       "    <tr style=\"text-align: right;\">\n",
       "      <th></th>\n",
       "      <th>b</th>\n",
       "      <th>x1</th>\n",
       "      <th>x2</th>\n",
       "      <th>y</th>\n",
       "    </tr>\n",
       "  </thead>\n",
       "  <tbody>\n",
       "    <tr>\n",
       "      <th>0</th>\n",
       "      <td>1.0</td>\n",
       "      <td>1.0</td>\n",
       "      <td>1.0</td>\n",
       "      <td>1.0</td>\n",
       "    </tr>\n",
       "    <tr>\n",
       "      <th>1</th>\n",
       "      <td>1.0</td>\n",
       "      <td>5.0</td>\n",
       "      <td>4.0</td>\n",
       "      <td>-1.0</td>\n",
       "    </tr>\n",
       "    <tr>\n",
       "      <th>2</th>\n",
       "      <td>1.0</td>\n",
       "      <td>1.0</td>\n",
       "      <td>2.0</td>\n",
       "      <td>1.0</td>\n",
       "    </tr>\n",
       "    <tr>\n",
       "      <th>3</th>\n",
       "      <td>1.0</td>\n",
       "      <td>3.0</td>\n",
       "      <td>4.0</td>\n",
       "      <td>-1.0</td>\n",
       "    </tr>\n",
       "    <tr>\n",
       "      <th>4</th>\n",
       "      <td>1.0</td>\n",
       "      <td>2.0</td>\n",
       "      <td>1.0</td>\n",
       "      <td>1.0</td>\n",
       "    </tr>\n",
       "    <tr>\n",
       "      <th>5</th>\n",
       "      <td>1.0</td>\n",
       "      <td>2.0</td>\n",
       "      <td>2.0</td>\n",
       "      <td>1.0</td>\n",
       "    </tr>\n",
       "    <tr>\n",
       "      <th>6</th>\n",
       "      <td>1.0</td>\n",
       "      <td>4.0</td>\n",
       "      <td>3.0</td>\n",
       "      <td>-1.0</td>\n",
       "    </tr>\n",
       "    <tr>\n",
       "      <th>7</th>\n",
       "      <td>1.0</td>\n",
       "      <td>5.0</td>\n",
       "      <td>3.0</td>\n",
       "      <td>-1.0</td>\n",
       "    </tr>\n",
       "  </tbody>\n",
       "</table>\n",
       "</div>"
      ],
      "text/plain": [
       "     b   x1   x2    y\n",
       "0  1.0  1.0  1.0  1.0\n",
       "1  1.0  5.0  4.0 -1.0\n",
       "2  1.0  1.0  2.0  1.0\n",
       "3  1.0  3.0  4.0 -1.0\n",
       "4  1.0  2.0  1.0  1.0\n",
       "5  1.0  2.0  2.0  1.0\n",
       "6  1.0  4.0  3.0 -1.0\n",
       "7  1.0  5.0  3.0 -1.0"
      ]
     },
     "execution_count": 36,
     "metadata": {},
     "output_type": "execute_result"
    }
   ],
   "source": [
    "#サンプルデータ\n",
    "X = np.array([[1,1],[5,4], [1,2], [3,4], [2,1], [2,2], [4,3], [5,3]])\n",
    "y = np.array([1, -1, 1, -1, 1, 1, -1, -1])\n",
    "\n",
    "#ラグランジュ乗数を初期化\n",
    "lagrange = np.full(X.shape[0], 0.5)\n",
    "\n",
    "#バイアス項\n",
    "bias_term = np.ones(X.shape[0]).reshape(X.shape[0],1)\n",
    "X = np.concatenate([bias_term, X], 1)\n",
    "\n",
    "df = pd.DataFrame(np.concatenate([X, y.reshape(8,1)], 1), columns=[\"b\", \"x1\", \"x2\", \"y\"])\n",
    "df"
   ]
  },
  {
   "cell_type": "code",
   "execution_count": 37,
   "metadata": {},
   "outputs": [
    {
     "data": {
      "image/png": "[encoded data removed]",
      "text/plain": [
       "<Figure size 432x288 with 1 Axes>"
      ]
     },
     "metadata": {
      "needs_background": "light"
     },
     "output_type": "display_data"
    }
   ],
   "source": [
    "plt.scatter(df.x1, df.x2)\n",
    "for i, txt in enumerate(df.index.values):\n",
    "    plt.annotate(txt, (df.x1.values[i], df.x2.values[i]))\n",
    "plt.show()"
   ]
  },
  {
   "cell_type": "markdown",
   "metadata": {},
   "source": [
    "うまくいけば、「５、６、３」あたりがサポートベクターになる想定"
   ]
  },
  {
   "cell_type": "code",
   "execution_count": 38,
   "metadata": {},
   "outputs": [
    {
     "name": "stdout",
     "output_type": "stream",
     "text": [
      "x1.T, x2= 10.0\n",
      "x1, x2.T= 10.0\n"
     ]
    }
   ],
   "source": [
    "#カーネル関数\n",
    "x1 = X[0]\n",
    "x2 = X[1]\n",
    "k1 = np.dot(x1.T, x2) # 1x1 + 1x5 + 1x4\n",
    "k2 = np.dot(x1, x2.T) # 1x1 + 1x5 + 1x4\n",
    "print(\"x1.T, x2=\",k1)\n",
    "print(\"x1, x2.T=\",k2)"
   ]
  },
  {
   "cell_type": "markdown",
   "metadata": {},
   "source": [
    "1サンプルづつ処理するならば転置の順番は関係ない"
   ]
  },
  {
   "cell_type": "code",
   "execution_count": 48,
   "metadata": {},
   "outputs": [
    {
     "name": "stdout",
     "output_type": "stream",
     "text": [
      "[ 3. 10.  4.  8.  4.  5.  8.  9.]\n",
      "[10. 42. 14. 32. 15. 19. 33. 38.]\n",
      "[ 4. 14.  6. 12.  5.  7. 11. 12.]\n",
      "[ 8. 32. 12. 26. 11. 15. 25. 28.]\n",
      "[ 4. 15.  5. 11.  6.  7. 12. 14.]\n",
      "[ 5. 19.  7. 15.  7.  9. 15. 17.]\n",
      "[ 8. 33. 11. 25. 12. 15. 26. 30.]\n",
      "[ 9. 38. 12. 28. 14. 17. 30. 35.]\n"
     ]
    }
   ],
   "source": [
    "#x0のカーネル関数をfor文で作る\n",
    "for j in range(X.shape[0]):\n",
    "    x1_list = np.array([])\n",
    "    for i in range(X.shape[0]):\n",
    "        x1_list = np.append(x1_list, np.dot(X[j].T, X[i]))\n",
    "    print(x1_list)\n",
    "\n"
   ]
  },
  {
   "cell_type": "code",
   "execution_count": 45,
   "metadata": {},
   "outputs": [
    {
     "data": {
      "text/plain": [
       "array([[ 3., 10.,  4.,  8.,  4.,  5.,  8.,  9.],\n",
       "       [10., 42., 14., 32., 15., 19., 33., 38.],\n",
       "       [ 4., 14.,  6., 12.,  5.,  7., 11., 12.],\n",
       "       [ 8., 32., 12., 26., 11., 15., 25., 28.],\n",
       "       [ 4., 15.,  5., 11.,  6.,  7., 12., 14.],\n",
       "       [ 5., 19.,  7., 15.,  7.,  9., 15., 17.],\n",
       "       [ 8., 33., 11., 25., 12., 15., 26., 30.],\n",
       "       [ 9., 38., 12., 28., 14., 17., 30., 35.]])"
      ]
     },
     "execution_count": 45,
     "metadata": {},
     "output_type": "execute_result"
    }
   ],
   "source": [
    "#x0のカーネル関数をnumpyのbroadcastで作る\n",
    "np.dot(X, X.T)"
   ]
  },
  {
   "cell_type": "code",
   "execution_count": 6,
   "metadata": {},
   "outputs": [
    {
     "name": "stdout",
     "output_type": "stream",
     "text": [
      "y                     = [ 1 -1  1 -1  1  1 -1 -1]\n",
      "yj * k(xi, xj)      = [  3. -10.   4.  -8.   4.   5.  -8.  -9.]\n",
      "          \n",
      "λ * yj * k(xi, xj)= [ 1.5 -5.   2.  -4.   2.   2.5 -4.  -4.5]\n",
      "          \n",
      "さらにyiを掛ける= [ 1.5 -5.   2.  -4.   2.   2.5 -4.  -4.5]\n",
      "y0 =  1\n",
      "          \n",
      "シグマの中身を足す= -9.5\n"
     ]
    }
   ],
   "source": [
    "#シグマの中身\n",
    "yjk = y * x1_list\n",
    "sigma = lagrange * y * x1_list\n",
    "sigma2 = sigma * y[0]\n",
    "sum_sigma = np.sum(sigma2)\n",
    "\n",
    "print(\"y                     =\",y)\n",
    "print(\"yj * k(xi, xj)      =\", yjk)\n",
    "print(\"          \")\n",
    "print(\"λ * yj * k(xi, xj)=\", sigma)\n",
    "print(\"          \")\n",
    "print(\"さらにyiを掛ける=\", sigma2)\n",
    "print(\"y0 = \", y[0])\n",
    "print(\"          \")\n",
    "print(\"シグマの中身を足す=\", sum_sigma)"
   ]
  },
  {
   "cell_type": "code",
   "execution_count": 7,
   "metadata": {},
   "outputs": [
    {
     "name": "stdout",
     "output_type": "stream",
     "text": [
      "1- sum_sigma = 10.5\n",
      "学習率掛ける   ＝ 1.05\n",
      "old λ= 0.5\n",
      "new λ= 1.55\n"
     ]
    }
   ],
   "source": [
    "#ラムダの更新\n",
    "print(\"1- sum_sigma =\", 1- sum_sigma)\n",
    "print(\"学習率掛ける   ＝\", 0.1*(1- sum_sigma))\n",
    "print(\"old λ=\", lagrange[0])\n",
    "lagrange[0] = lagrange[0] + 0.1*(1- sum_sigma)\n",
    "print(\"new λ=\", lagrange[0])"
   ]
  },
  {
   "cell_type": "markdown",
   "metadata": {},
   "source": [
    "これを全てのλについて行う"
   ]
  },
  {
   "cell_type": "markdown",
   "metadata": {},
   "source": [
    "## 【問題1】SVM分類機のクラスを作成する\n",
    "\n",
    "SVM分類器のクラスを作成し、Sprint２で作成した分類のパイプラインに組み込む。"
   ]
  },
  {
   "cell_type": "code",
   "execution_count": 21,
   "metadata": {
    "code_folding": []
   },
   "outputs": [],
   "source": [
    "class ScratchSVMClassifier():\n",
    "    \"\"\"\n",
    "    SVMのスクラッチ実装\n",
    "\n",
    "    Parameters\n",
    "    ----------\n",
    "    num_iter : int　イテレーション数\n",
    "    lr : float　　　　学習率\n",
    "    no_bias : bool　バイアス項を入れない場合はTrue\n",
    "    verbose : bool  学習過程を出力する場合はTrue\n",
    "\n",
    "    Attributes\n",
    "    ----------\n",
    "    self.coef_ : 次の形のndarray, shape (n_features,)　パラメータ\n",
    "    self.loss : 次の形のndarray, shape (self.iter,)　      学習用データに対する損失の記録\n",
    "    self.val_loss : 次の形のndarray, shape (self.iter,)    検証用データに対する損失の記録\n",
    "    \"\"\"\n",
    "\n",
    "    def __init__(self,\n",
    "                 num_iter=10000,\n",
    "                 lr=0.001,\n",
    "                 bias=False,\n",
    "                 verbose=False,\n",
    "                 kernel=\"linear\",    #線形カーネル\n",
    "                 C=1e10,              #ハードマージン\n",
    "                 threshold=2e-5\n",
    "                ):\n",
    "        # ハイパーパラメータを属性として記録\n",
    "        self.iter = num_iter\n",
    "        self.lr = lr\n",
    "        self.bias = bias\n",
    "        self.verbose = verbose\n",
    "        self.kernel = kernel\n",
    "        self.threshold = threshold\n",
    "        #ラグランジュ乗数\n",
    "        self.lagrange = np.array([])\n",
    "        self.C = C\n",
    "        # 損失を記録する配列を用意\n",
    "        self.loss = np.zeros(self.iter)\n",
    "        self.val_loss = np.zeros(self.iter)\n",
    "\n",
    "    def fit(self, X, y, X_val=None, y_val=None):\n",
    "        \"\"\"\n",
    "        線形回帰を学習する。検証用データが入力された場合はそれに対する損失と精度もイテレーションごとに計算する。\n",
    "\n",
    "        Parameters\n",
    "        ----------\n",
    "        X : 次の形のndarray, shape (n_samples, n_features)        学習用データの特徴量\n",
    "        y : 次の形のndarray, shape (n_samples, )　　　　            学習用データの正解値\n",
    "        X_val : 次の形のndarray, shape (n_samples, n_features)   検証用データの特徴量\n",
    "        y_val : 次の形のndarray, shape (n_samples, )　　            検証用データの正解値\n",
    "        \"\"\"\n",
    "        #サンプル数取得\n",
    "        smpl_num = X.shape[0]\n",
    "        \n",
    "        #バイアス項の生成\n",
    "        if not self.bias:\n",
    "            bias_term = np.ones(smpl_num).reshape(smpl_num,1)\n",
    "            X = np.concatenate([bias_term, X], 1)\n",
    "        \n",
    "        #λの初期値\n",
    "        self.lagrange = np.full(smpl_num, np.random.rand())\n",
    "        #print(\"λ初期値=\", self.lagrange)\n",
    "        \n",
    "        #カーネル関数の生成\n",
    "        kX = self.kernel_funk(X)\n",
    "        #print(\"kX=\", kX)\n",
    "        \n",
    "        #確認用　λリスト\n",
    "        self.lagrange_list1 = np.array([])\n",
    "        self.lagrange_list2 = np.array([])\n",
    "        self.lagrange_list3 = np.array([])\n",
    "        self.lagrange_list4 = np.array([])\n",
    "        \n",
    "        #λ更新\n",
    "        for _ in range(self.iter):\n",
    "            #print(self.lagrange)\n",
    "            for i in range(smpl_num):\n",
    "                lagrange_tmp = np.copy(self.lagrange)    #更新前のλコピー\n",
    "                self.lagrange[i] += self.lr*(1 - np.sum((lagrange_tmp * y * kX[i])*y[i]))\n",
    "\n",
    "                #制約条件\n",
    "                if self.lagrange[i] < 0:\n",
    "                    self.lagrange[i] = 0    #λが０より小さい場合は０を代入\n",
    "                \n",
    "                    \n",
    "            self.lagrange_list1 = np.append(self.lagrange_list1, self.lagrange[0])\n",
    "            self.lagrange_list2 = np.append(self.lagrange_list2, self.lagrange[1])\n",
    "            self.lagrange_list3 = np.append(self.lagrange_list3, self.lagrange[2])\n",
    "            self.lagrange_list4 = np.append(self.lagrange_list4, self.lagrange[3])\n",
    "        \n",
    "        #サポートベクター\n",
    "        self.bector_index = []   #ndarrayで作るとスライスのリスト指定のところで面倒\n",
    "        for i in range(smpl_num):\n",
    "            if self.lagrange[i] > self.threshold:\n",
    "                self.bector_index.append(i)\n",
    "        \n",
    "        #推定に使用するベクトル\n",
    "        self.lagrange_s_ = self.lagrange[self.bector_index]\n",
    "        self.yn_ = y[self.bector_index]\n",
    "        self.sn_ = X[self.bector_index]\n",
    "        \n",
    "                \n",
    "        if self.verbose:\n",
    "            #verboseをTrueにした際は学習過程を出力\n",
    "            print()\n",
    "\n",
    "\n",
    "    def predict(self, X_test):\n",
    "        \"\"\"\n",
    "        線形回帰を使い推定する。\n",
    "\n",
    "        Parameters\n",
    "        ----------\n",
    "        X : 次の形のndarray, shape (n_samples, n_features)     サンプル\n",
    "\n",
    "        Returns\n",
    "        -------\n",
    "            次の形のndarray, shape (n_samples, 1)      線形回帰による推定結果\n",
    "        \"\"\"\n",
    "        #サンプル数取得\n",
    "        smpl_num = X_test.shape[0]\n",
    "        \n",
    "        #バイアス項の生成\n",
    "        if not self.bias:\n",
    "            bias_term = np.ones(smpl_num).reshape(smpl_num,1)\n",
    "            X_test = np.concatenate([bias_term, X_test], 1)\n",
    "        \n",
    "        #推定\n",
    "        self.y_hat_raw = np.sum(self.lagrange_s_*self.yn_*np.dot(X_test, self.sn_.T), axis=1)\n",
    "        \n",
    "        #推定値の変換\n",
    "        f = lambda x: 1 if x >= 0 else -1\n",
    "        vf = np.vectorize(f)\n",
    "        y_hat = vf(self.y_hat_raw)\n",
    "        \n",
    "        return y_hat\n",
    "    \n",
    "    def kernel_funk(self, X):\n",
    "        \"\"\"\n",
    "        カーネル関数。\n",
    "\n",
    "        Parameters\n",
    "        ----------\n",
    "        X : 次の形のndarray, shape (n_samples, n_features)\n",
    "            サンプル\n",
    "\n",
    "        Returns\n",
    "        -------\n",
    "            次の形のndarray, shape (n_samples, n_samples)\n",
    "            カーネル関数\n",
    "        \"\"\"\n",
    "        k = np.empty((0,X.shape[0]), float)       #カーネル関数雛形\n",
    "        \n",
    "        for i in range(X.shape[0]):                   #Xiイテレーション\n",
    "            temp = np.array([])                          #ドット積一時保持\n",
    "            \n",
    "            for j in range(X.shape[0]):              #Xjイテレーション\n",
    "                temp = np.append(temp, np.dot(X[i].T, X[j]))\n",
    "\n",
    "            k = np.append(k, temp.reshape(1, X.shape[0]), axis=0)\n",
    "        \n",
    "        return k\n"
   ]
  },
  {
   "cell_type": "code",
   "execution_count": 60,
   "metadata": {},
   "outputs": [
    {
     "name": "stdout",
     "output_type": "stream",
     "text": [
      "time : 1.214981770515442s\n"
     ]
    }
   ],
   "source": [
    "#テスト\n",
    "np.random.seed(seed=32)\n",
    "\n",
    "X = np.array([[1,1],[5,4], [1,2], [3,4], [2,1], [2,2], [4,3], [5,3]])\n",
    "y = np.array([1, -1, 1, -1, 1, 1, -1, -1])\n",
    "\n",
    "import time\n",
    "t0 = time.time()\n",
    "for _ in range(10):   #処理時間の平均をとる\n",
    "    SVM = ScratchSVMClassifier()\n",
    "    SVM.fit(X, y)\n",
    "t1 = time.time()\n",
    "print('time : {}s'.format((t1-t0)/10))"
   ]
  },
  {
   "cell_type": "code",
   "execution_count": 10,
   "metadata": {},
   "outputs": [
    {
     "data": {
      "image/png": "[encoded data removed]",
      "text/plain": [
       "<Figure size 432x288 with 1 Axes>"
      ]
     },
     "metadata": {
      "needs_background": "light"
     },
     "output_type": "display_data"
    }
   ],
   "source": [
    "plt.plot(SVM.lagrange_list1, label=\"λ0 ,y=1\")\n",
    "plt.plot(SVM.lagrange_list2, label=\"λ1 ,y=-1\")\n",
    "plt.plot(SVM.lagrange_list3, label=\"λ2 ,y=1\")\n",
    "plt.plot(SVM.lagrange_list4, label=\"λ3 ,y=-1\")\n",
    "plt.legend()\n",
    "plt.show()"
   ]
  },
  {
   "cell_type": "markdown",
   "metadata": {},
   "source": [
    "### 推定"
   ]
  },
  {
   "cell_type": "code",
   "execution_count": 11,
   "metadata": {
    "cell_style": "split"
   },
   "outputs": [
    {
     "name": "stdout",
     "output_type": "stream",
     "text": [
      "λ= [0.         0.         0.47836707 1.80395599 0.50409447 5.36212712\n",
      " 1.83057182 0.        ]\n",
      " \n",
      "サポートベクターのindex= [2, 3, 4, 5, 6]\n",
      " \n",
      "λ_n [0.47836707 1.80395599 0.50409447 5.36212712 1.83057182]\n",
      " \n",
      "y_n= [ 1 -1  1  1 -1]\n",
      " \n",
      "s_n= [[1. 1. 2.]\n",
      " [1. 3. 4.]\n",
      " [1. 2. 1.]\n",
      " [1. 2. 2.]\n",
      " [1. 4. 3.]]\n"
     ]
    }
   ],
   "source": [
    "#fitした変数の中身を確認してみる\n",
    "print(\"λ=\", SVM.lagrange)\n",
    "print(\" \")\n",
    "print(\"サポートベクターのindex=\", SVM.bector_index)\n",
    "print(\" \")\n",
    "print(\"λ_n\", SVM.lagrange_s_)\n",
    "print(\" \")\n",
    "print(\"y_n=\", SVM.yn_)\n",
    "print(\" \")\n",
    "print(\"s_n=\", SVM.sn_)\n"
   ]
  },
  {
   "cell_type": "code",
   "execution_count": 12,
   "metadata": {
    "cell_style": "split"
   },
   "outputs": [
    {
     "data": {
      "image/png": "[encoded data removed]",
      "text/plain": [
       "<Figure size 432x288 with 1 Axes>"
      ]
     },
     "metadata": {
      "needs_background": "light"
     },
     "output_type": "display_data"
    }
   ],
   "source": [
    "plt.scatter(df.x1, df.x2)\n",
    "for i, txt in enumerate(df.index.values):\n",
    "    plt.annotate(txt, (df.x1.values[i], df.x2.values[i]))\n",
    "plt.show()"
   ]
  },
  {
   "cell_type": "markdown",
   "metadata": {},
   "source": [
    "サポートベクターのindexが 「2, 3, 4, 5, 6」と推定されたので、図と比べてもまあまあの結果となった。"
   ]
  },
  {
   "cell_type": "code",
   "execution_count": 13,
   "metadata": {},
   "outputs": [
    {
     "name": "stdout",
     "output_type": "stream",
     "text": [
      "[[ 5.5 11.5  5.5  7.  11.5]\n",
      " [13.  29.  13.  17.  29. ]\n",
      " [ 9.  21.  11.  13.  23. ]]\n",
      "  \n",
      "[[  5.5 -11.5   5.5   7.  -11.5]\n",
      " [ 13.  -29.   13.   17.  -29. ]\n",
      " [  9.  -21.   11.   13.  -23. ]]\n",
      "  \n",
      "[[  2.63101886 -20.74549388   2.77251956  37.53488981 -21.05157593]\n",
      " [  6.21877186 -52.31472369   6.55322805  91.15616098 -53.08658277]\n",
      " [  4.3053036  -37.88307578   5.54503912  69.70765251 -42.10315185]]\n",
      "  \n",
      "推定値= [ 1.14135843 -1.47314557 -0.4282324 ]\n"
     ]
    }
   ],
   "source": [
    "#推定の処理の流れを確認してみる\n",
    "\n",
    "#テストデータ\n",
    "X_test = np.array([[1,1.5, 1.5],[1,4, 4],[1,4,2]])\n",
    "y_test = np.array([1,-1,-1])\n",
    "\n",
    "print(np.dot(X_test, SVM.sn_.T))\n",
    "print(\"  \")\n",
    "print(SVM.yn_*np.dot(X_test, SVM.sn_.T))\n",
    "print(\"  \")\n",
    "print(SVM.lagrange_s_*SVM.yn_*np.dot(X_test, SVM.sn_.T))\n",
    "print(\"  \")\n",
    "print(\"推定値=\", np.sum(SVM.lagrange_s_*SVM.yn_*np.dot(X_test, SVM.sn_.T), axis=1))\n"
   ]
  },
  {
   "cell_type": "code",
   "execution_count": 14,
   "metadata": {},
   "outputs": [
    {
     "name": "stdout",
     "output_type": "stream",
     "text": [
      "[ 1 -1 -1]\n"
     ]
    }
   ],
   "source": [
    "#Scratchクラスのメソッドで動作確認\n",
    "X_test = np.array([[1.5, 1.5],[4, 4],[4,2]])\n",
    "\n",
    "y_pred = SVM.predict(X_test)\n",
    "print(y_pred)"
   ]
  },
  {
   "cell_type": "markdown",
   "metadata": {},
   "source": [
    "手計算と同じ結果が予測された！！"
   ]
  },
  {
   "cell_type": "markdown",
   "metadata": {},
   "source": [
    "### 更新式でforを使わないバージョンのクラス"
   ]
  },
  {
   "cell_type": "code",
   "execution_count": 68,
   "metadata": {
    "code_folding": [
     78
    ]
   },
   "outputs": [],
   "source": [
    "class ScratchSVMClassifier2():\n",
    "    \"\"\"\n",
    "    SVMのスクラッチ実装　更新式をよりシンプルにしたバージョン\n",
    "\n",
    "    Parameters\n",
    "    ----------\n",
    "    num_iter : int　　イテレーション数\n",
    "    lr : float　　　      学習率\n",
    "    no_bias : bool      バイアス項を入れない場合はTrue\n",
    "    verbose : bool     学習過程を出力する場合はTrue\n",
    "\n",
    "    Attributes\n",
    "    ----------\n",
    "    self.coef_ : ndarray, shape (n_features,)  パラメータ\n",
    "    self.loss : ndarray, shape (self.iter,) 　     学習用データに対する損失の記録\n",
    "    self.val_loss : ndarray, shape (self.iter,)    検証用データに対する損失の記録\n",
    "    \"\"\"\n",
    "\n",
    "    def __init__(self,\n",
    "                 num_iter=10000,\n",
    "                 lr=0.001,\n",
    "                 bias=False,\n",
    "                 verbose=False,\n",
    "                 kernel=\"linear\",    #線形カーネル\n",
    "                 C=1e10,              #ハードマージン\n",
    "                 threshold=2e-5\n",
    "                ):\n",
    "        # ハイパーパラメータを属性として記録\n",
    "        self.iter = num_iter\n",
    "        self.lr = lr\n",
    "        self.bias = bias\n",
    "        self.verbose = verbose\n",
    "        self.kernel = kernel\n",
    "        self.threshold = threshold\n",
    "        #ラグランジュ乗数\n",
    "        self.lagrange = np.array([])\n",
    "        self.C = C\n",
    "        # 損失を記録する配列を用意\n",
    "        self.loss = np.zeros(self.iter)\n",
    "        self.val_loss = np.zeros(self.iter)\n",
    "\n",
    "    def fit(self, X, y, X_val=None, y_val=None):\n",
    "        \"\"\"\n",
    "        線形回帰を学習する。検証用データが入力された場合はそれに対する損失と精度もイテレーションごとに計算する。\n",
    "\n",
    "        Parameters\n",
    "        ----------\n",
    "        X : ndarray, shape (n_samples, n_features)           学習用データの特徴量\n",
    "        y : ndarray, shape (n_samples, )　　　　　            学習用データの正解値\n",
    "        X_val : ndarray, shape (n_samples, n_features)     検証用データの特徴量\n",
    "        y_val : ndarray, shape (n_samples, )　　　            検証用データの正解値\n",
    "        \"\"\"\n",
    "        #サンプル数取得\n",
    "        smpl_num = X.shape[0]\n",
    "        \n",
    "        #バイアス項の生成\n",
    "        if not self.bias:\n",
    "            bias_term = np.ones(smpl_num).reshape(smpl_num,1)\n",
    "            X = np.concatenate([bias_term, X], 1)\n",
    "        \n",
    "        #λの初期値\n",
    "        self.lagrange = np.full(smpl_num, np.random.rand())\n",
    "        #print(\"λ初期値=\", self.lagrange)\n",
    "        \n",
    "        #カーネル関数の生成\n",
    "        kX = self.kernel_funk(X)\n",
    "        \n",
    "        \"\"\"テスト用\n",
    "            print(\"y=\", y)\n",
    "            print(\"y.reshape=\", y.reshape(-1,1))\n",
    "            print(\"kX=\", kX)\n",
    "            print(\"   \")\n",
    "            print(\"y* kX\", y*kX)\n",
    "            print(\"   \")\n",
    "            print(\"lagrange*y*kX\", self.lagrange*y*kX)\n",
    "            print(\"   \")\n",
    "            print(y.reshape(-1,1)*self.lagrange*y*kX)\n",
    "            print(\"   \")\n",
    "            print(\"sum\", np.sum(y.reshape(-1,1)*self.lagrange*y*kX, axis=1))\n",
    "            print(\"   \")\n",
    "            print(\"1-sum\", 1- np.sum(y.reshape(-1,1)*self.lagrange*y*kX, axis=1))\n",
    "            print(\"   \")\n",
    "            print(\"lr\", self.lr*(1- np.sum(y.reshape(-1,1)*self.lagrange*y*kX, axis=1)))\n",
    "            print(\"   \")\n",
    "            print(\"λnow\", self.lagrange)\n",
    "            print(\"   \")\n",
    "            print(\"λnew\", self.lagrange - self.lr*(1- np.sum(y.reshape(-1,1)*self.lagrange*y*kX, axis=1)))\n",
    "        \"\"\"\n",
    "        \n",
    "        #確認用　λリスト\n",
    "        self.lagrange_list1 = np.array([])\n",
    "        self.lagrange_list2 = np.array([])\n",
    "        self.lagrange_list3 = np.array([])\n",
    "        self.lagrange_list4 = np.array([])\n",
    "        \n",
    "        #λ更新\n",
    "        for _ in range(self.iter):\n",
    "            self.lagrange += self.lr*(1- np.sum(y.reshape(-1,1)*self.lagrange*y*kX, axis=1))\n",
    "            self.lagrange = np.where(self.lagrange < 0, 0, self.lagrange)\n",
    "\n",
    "            self.lagrange_list1 = np.append(self.lagrange_list1, self.lagrange[0])\n",
    "            self.lagrange_list2 = np.append(self.lagrange_list2, self.lagrange[1])\n",
    "            self.lagrange_list3 = np.append(self.lagrange_list3, self.lagrange[2])\n",
    "            self.lagrange_list4 = np.append(self.lagrange_list4, self.lagrange[3])\n",
    "        \n",
    "        #サポートベクター\n",
    "        self.bector_index = np.where(self.lagrange > self.threshold)\n",
    "        \n",
    "        self.lagrange_s_ = self.lagrange[self.bector_index]\n",
    "        self.yn_ = y[self.bector_index]\n",
    "        self.sn_ = X[self.bector_index]\n",
    "        \n",
    "        if self.verbose:\n",
    "            #verboseをTrueにした際は学習過程を出力\n",
    "            print()\n",
    "        pass\n",
    "\n",
    "\n",
    "    def predict(self, X):\n",
    "        \"\"\"\n",
    "        線形回帰を使い推定する。\n",
    "\n",
    "        Parameters\n",
    "        ----------\n",
    "        X : ndarray, shape (n_samples, n_features)  サンプル\n",
    "\n",
    "        Returns\n",
    "        -------\n",
    "            ndarray, shape (n_samples, 1)   線形回帰による推定結果\n",
    "        \"\"\"\n",
    "        #サンプル数取得\n",
    "        smpl_num = X_test.shape[0]\n",
    "        \n",
    "        #バイアス項の生成\n",
    "        if not self.bias:\n",
    "            bias_term = np.ones(smpl_num).reshape(smpl_num,1)\n",
    "            X_test = np.concatenate([bias_term, X_test], 1)\n",
    "        \n",
    "        #推定\n",
    "        self.y_hat_raw = np.sum(self.lagrange_s_*self.yn_*np.dot(X_test, self.sn_.T), axis=1)\n",
    "        \n",
    "        #推定値の変換\n",
    "        f = lambda x: 1 if x >= 0 else -1\n",
    "        vf = np.vectorize(f)\n",
    "        y_hat = vf(self.y_hat_raw)\n",
    "        \n",
    "        return y_hat\n",
    "    \n",
    "    def kernel_funk(self, X):\n",
    "        \"\"\"\n",
    "        カーネル関数。\n",
    "\n",
    "        Parameters\n",
    "        ----------\n",
    "        X : 次の形のndarray, shape (n_samples, n_features)\n",
    "            サンプル\n",
    "\n",
    "        Returns\n",
    "        -------\n",
    "            次の形のndarray, shape (n_samples, n_samples)　カーネル関数\n",
    "        \"\"\"\n",
    "\n",
    "        return np.dot(X, X.T)\n",
    "\n"
   ]
  },
  {
   "cell_type": "code",
   "execution_count": 69,
   "metadata": {
    "code_folding": []
   },
   "outputs": [
    {
     "name": "stdout",
     "output_type": "stream",
     "text": [
      "time : 0.5288608789443969s\n"
     ]
    }
   ],
   "source": [
    "#テスト\n",
    "np.random.seed(seed=32)\n",
    "\n",
    "X = np.array([[1,1],[5,4], [1,2], [3,4], [2,1], [2,2], [4,3], [5,3]])\n",
    "y = np.array([1, -1, 1, -1, 1, 1, -1, -1])\n",
    "\n",
    "import time\n",
    "t0 = time.time()\n",
    "for _ in range(10):\n",
    "    SVM2 = ScratchSVMClassifier2()\n",
    "    SVM2.fit(X, y)\n",
    "t1 = time.time()\n",
    "print('time : {}s'.format((t1-t0)/10))"
   ]
  },
  {
   "cell_type": "code",
   "execution_count": 20,
   "metadata": {},
   "outputs": [
    {
     "data": {
      "image/png": "[encoded data removed]",
      "text/plain": [
       "<Figure size 432x288 with 1 Axes>"
      ]
     },
     "metadata": {
      "needs_background": "light"
     },
     "output_type": "display_data"
    }
   ],
   "source": [
    "plt.plot(SVM2.lagrange_list1, label=\"λ0 ,y=1\")\n",
    "plt.plot(SVM2.lagrange_list2, label=\"λ1 ,y=-1\")\n",
    "plt.plot(SVM2.lagrange_list3, label=\"λ2 ,y=1\")\n",
    "plt.plot(SVM2.lagrange_list4, label=\"λ3 ,y=-1\")\n",
    "plt.legend()\n",
    "plt.show()"
   ]
  },
  {
   "cell_type": "markdown",
   "metadata": {},
   "source": [
    "## 【問題3〜4】指標値の算出、決定領域の可視化"
   ]
  },
  {
   "cell_type": "markdown",
   "metadata": {},
   "source": [
    "### Irisデータセットでの検証"
   ]
  },
  {
   "cell_type": "code",
   "execution_count": 13,
   "metadata": {},
   "outputs": [
    {
     "data": {
      "text/html": [
       "<div>\n",
       "<style scoped>\n",
       "    .dataframe tbody tr th:only-of-type {\n",
       "        vertical-align: middle;\n",
       "    }\n",
       "\n",
       "    .dataframe tbody tr th {\n",
       "        vertical-align: top;\n",
       "    }\n",
       "\n",
       "    .dataframe thead th {\n",
       "        text-align: right;\n",
       "    }\n",
       "</style>\n",
       "<table border=\"1\" class=\"dataframe\">\n",
       "  <thead>\n",
       "    <tr style=\"text-align: right;\">\n",
       "      <th></th>\n",
       "      <th>sepal_length</th>\n",
       "      <th>sepal_width</th>\n",
       "      <th>petal_length</th>\n",
       "      <th>petal_width</th>\n",
       "      <th>Species</th>\n",
       "    </tr>\n",
       "  </thead>\n",
       "  <tbody>\n",
       "    <tr>\n",
       "      <th>50</th>\n",
       "      <td>7.0</td>\n",
       "      <td>3.2</td>\n",
       "      <td>4.7</td>\n",
       "      <td>1.4</td>\n",
       "      <td>1.0</td>\n",
       "    </tr>\n",
       "    <tr>\n",
       "      <th>51</th>\n",
       "      <td>6.4</td>\n",
       "      <td>3.2</td>\n",
       "      <td>4.5</td>\n",
       "      <td>1.5</td>\n",
       "      <td>1.0</td>\n",
       "    </tr>\n",
       "    <tr>\n",
       "      <th>52</th>\n",
       "      <td>6.9</td>\n",
       "      <td>3.1</td>\n",
       "      <td>4.9</td>\n",
       "      <td>1.5</td>\n",
       "      <td>1.0</td>\n",
       "    </tr>\n",
       "    <tr>\n",
       "      <th>53</th>\n",
       "      <td>5.5</td>\n",
       "      <td>2.3</td>\n",
       "      <td>4.0</td>\n",
       "      <td>1.3</td>\n",
       "      <td>1.0</td>\n",
       "    </tr>\n",
       "    <tr>\n",
       "      <th>54</th>\n",
       "      <td>6.5</td>\n",
       "      <td>2.8</td>\n",
       "      <td>4.6</td>\n",
       "      <td>1.5</td>\n",
       "      <td>1.0</td>\n",
       "    </tr>\n",
       "  </tbody>\n",
       "</table>\n",
       "</div>"
      ],
      "text/plain": [
       "    sepal_length  sepal_width  petal_length  petal_width  Species\n",
       "50           7.0          3.2           4.7          1.4      1.0\n",
       "51           6.4          3.2           4.5          1.5      1.0\n",
       "52           6.9          3.1           4.9          1.5      1.0\n",
       "53           5.5          2.3           4.0          1.3      1.0\n",
       "54           6.5          2.8           4.6          1.5      1.0"
      ]
     },
     "execution_count": 13,
     "metadata": {},
     "output_type": "execute_result"
    }
   ],
   "source": [
    "#Irisデータセット\n",
    "from sklearn.datasets import load_iris\n",
    "iris = load_iris()\n",
    "nd_Xy  = np.concatenate([iris.data, iris.target.reshape(150,1)], axis=1)\n",
    "\n",
    "df_0 = pd.DataFrame(nd_Xy, columns=[\"sepal_length\", \"sepal_width\", \"petal_length\", \"petal_width\", \"Species\"])\n",
    "df = df_0[df_0[\"Species\"].isin([1, 2])]\n",
    "\n",
    "df.head()"
   ]
  },
  {
   "cell_type": "code",
   "execution_count": 14,
   "metadata": {},
   "outputs": [
    {
     "name": "stdout",
     "output_type": "stream",
     "text": [
      "X_train (75, 2)\n",
      "X_test (25, 2)\n",
      "Y_train (75,)\n",
      "Y_test (25,)\n"
     ]
    }
   ],
   "source": [
    "#データセット分割\n",
    "from sklearn.model_selection import train_test_split\n",
    "\n",
    "X = df.iloc[:,[0,1]].values    #sepal_lengthとsepal_widthのみ選択\n",
    "y = df[\"Species\"].replace([1,2], [1,-1]).values\n",
    "\n",
    "(X_train, X_test, y_train, y_test) = train_test_split(X, y, test_size=0.25, random_state=5,) #シードも設定しておく\n",
    "\n",
    "print(\"X_train\", np.shape(X_train))\n",
    "print(\"X_test\", np.shape(X_test))\n",
    "print(\"Y_train\", np.shape(y_train))\n",
    "print(\"Y_test\", np.shape(y_test))"
   ]
  },
  {
   "cell_type": "code",
   "execution_count": 249,
   "metadata": {},
   "outputs": [],
   "source": [
    "#標準化処理\n",
    "from sklearn.preprocessing import StandardScaler\n",
    "\n",
    "sc = StandardScaler()\n",
    "sc.fit(X_train)\n",
    "X_train = sc.transform(X_train)\n",
    "X_test = sc.transform(X_test)"
   ]
  },
  {
   "cell_type": "code",
   "execution_count": 27,
   "metadata": {},
   "outputs": [],
   "source": [
    "#スクラッチで検証\n",
    "svc = ScratchSVMClassifier(threshold=0.2)\n",
    "svc.fit(X_train , y_train)\n",
    "y_pred = svc.predict(X_test)"
   ]
  },
  {
   "cell_type": "code",
   "execution_count": 28,
   "metadata": {},
   "outputs": [
    {
     "name": "stdout",
     "output_type": "stream",
     "text": [
      "[-1  1  1  1 -1 -1  1  1  1  1 -1 -1 -1  1 -1  1  1 -1  1  1 -1  1 -1  1\n",
      " -1]\n"
     ]
    }
   ],
   "source": [
    "print(y_pred)"
   ]
  },
  {
   "cell_type": "code",
   "execution_count": 29,
   "metadata": {},
   "outputs": [
    {
     "name": "stdout",
     "output_type": "stream",
     "text": [
      "スクラッチのスコア　 [0.76, 0.8571428571428571, 0.75, 0.7999999999999999]\n"
     ]
    }
   ],
   "source": [
    "#スコア\n",
    "from sklearn import metrics\n",
    "\n",
    "original_list = [metrics.accuracy_score(y_test, y_pred),\n",
    "           metrics.precision_score(y_test, y_pred), \n",
    "           metrics.recall_score(y_test, y_pred),\n",
    "           metrics.f1_score(y_test, y_pred) ]\n",
    "\n",
    "#print(\"オフィシャル\", official_list)\n",
    "print(\"スクラッチのスコア　\", original_list)"
   ]
  },
  {
   "cell_type": "code",
   "execution_count": 55,
   "metadata": {
    "code_folding": []
   },
   "outputs": [],
   "source": [
    "#可視化\n",
    "from matplotlib.colors import ListedColormap\n",
    "import matplotlib.patches as mpatches\n",
    "\n",
    "def decision_region(X, y, model, X_val, y_val, step=0.01,\n",
    "                    title='decision region',\n",
    "                    xlabel='xlabel', ylabel='ylabel',\n",
    "                    target_names=['versicolor', 'virginica']):\n",
    "    \"\"\"\n",
    "    2値分類を2次元の特徴量で学習したモデルの決定領域を描く。\n",
    "    背景の色が学習したモデルによる推定値から描画される。\n",
    "    散布図の点は訓練データまたは検証データである。\n",
    "\n",
    "    Parameters\n",
    "    ----------------\n",
    "    X : ndarray, shape(n_samples, 2)\n",
    "        特徴量\n",
    "    y : ndarray, shape(n_samples,)\n",
    "        ラベル\n",
    "    model : object\n",
    "        学習したモデルのインスンタスを入れる\n",
    "    step : float, (default : 0.1)\n",
    "        推定値を計算する間隔を設定する\n",
    "    title : str\n",
    "        グラフのタイトルの文章を与える\n",
    "    xlabel, ylabel : str\n",
    "        軸ラベルの文章を与える\n",
    "    target_names= : list of str\n",
    "        凡例の一覧を与える\n",
    "    \"\"\"\n",
    "    # setting\n",
    "    scatter_color = ['red', 'blue',]\n",
    "    contourf_color = ['pink', 'skyblue']\n",
    "    n_class = 2\n",
    "\n",
    "    # pred\n",
    "    mesh_f0, mesh_f1  = np.meshgrid(\n",
    "        np.arange(np.min(X[:,0])-0.5, np.max(X[:,0])+0.5, step),\n",
    "        np.arange(np.min(X[:,1])-0.5, np.max(X[:,1])+0.5, step)\n",
    "    )\n",
    "    mesh = np.c_[np.ravel(mesh_f0),np.ravel(mesh_f1)]\n",
    "    y_pred = model.predict(mesh).reshape(mesh_f0.shape)\n",
    "    \n",
    "    #サポート表示用\n",
    "    support = np.concatenate([model.sn_, model.yn_.reshape(-1,1)], 1)\n",
    "    support_df = pd.DataFrame(support, columns=[\"b\", \"target1\", \"target2\", \"y_train\"])\n",
    "    df_y = support_df[support_df[\"y_train\"] == 1]\n",
    "    df_my = support_df.query(\"y_train == -1\")\n",
    "\n",
    "    # plot\n",
    "    plt.figure(figsize=(12,8))\n",
    "    plt.title(title)\n",
    "    plt.xlabel(xlabel)\n",
    "    plt.ylabel(ylabel)\n",
    "    plt.contourf(mesh_f0, mesh_f1, y_pred, n_class-1, cmap=ListedColormap(contourf_color))\n",
    "    plt.contour(mesh_f0, mesh_f1, y_pred, n_class-1, colors='y', linewidths=3, alpha=0.5)\n",
    "    for i, target in enumerate(set(y)):\n",
    "        plt.scatter(\n",
    "            X[y==target][:, 0],\n",
    "            X[y==target][:, 1],\n",
    "            s=80,\n",
    "            color=scatter_color[i],\n",
    "            label=target_names[i],\n",
    "            marker='o')\n",
    "    for i, target in enumerate(set(y_val)):\n",
    "        plt.scatter(\n",
    "            X_val[y_val==target][:, 0],\n",
    "            X_val[y_val==target][:, 1],\n",
    "            s=80,\n",
    "            color=scatter_color[i],\n",
    "            label=target_names[i],\n",
    "            marker=',',\n",
    "            alpha=0.3\n",
    "        )\n",
    "    plt.scatter(\n",
    "        df_y[\"target1\"],\n",
    "        df_y[\"target2\"],\n",
    "        s=80,\n",
    "        color='moccasin',\n",
    "        label = \"supports(1)\",\n",
    "        marker=','\n",
    "    )\n",
    "    plt.scatter(\n",
    "        df_my[\"target1\"],\n",
    "        df_my[\"target2\"],\n",
    "        s=80,\n",
    "        color='#ffff33',\n",
    "        label = \"supports(-1)\",\n",
    "        marker=','\n",
    "    )\n",
    "    patches = [mpatches.Patch(color=scatter_color[i], label=target_names[i]) for i in range(n_class)]\n",
    "    plt.legend(handles=patches)\n",
    "    plt.legend()\n",
    "    plt.show()"
   ]
  },
  {
   "cell_type": "code",
   "execution_count": 41,
   "metadata": {},
   "outputs": [
    {
     "data": {
      "image/png": "[encoded data removed]",
      "text/plain": [
       "<Figure size 864x576 with 1 Axes>"
      ]
     },
     "metadata": {
      "needs_background": "light"
     },
     "output_type": "display_data"
    }
   ],
   "source": [
    "decision_region(X_test, y_test, svc, X_train, y_train, xlabel=\"sepal_length\", ylabel=\"sepal_width\")"
   ]
  },
  {
   "cell_type": "markdown",
   "metadata": {},
   "source": [
    "### シンプルデータセットでの検証"
   ]
  },
  {
   "cell_type": "code",
   "execution_count": 42,
   "metadata": {},
   "outputs": [],
   "source": [
    "#シンプルデータセット\n",
    "np.random.seed(seed=0)\n",
    "n_samples = 500\n",
    "f0 = [-1, 2]\n",
    "f1 = [2, -1]\n",
    "cov = [[1.0,0.8], [0.8, 1.0]]\n",
    "\n",
    "f0 = np.random.multivariate_normal(f0, cov, int(n_samples/2))\n",
    "f1 = np.random.multivariate_normal(f1, cov, int(n_samples/2))\n",
    "\n",
    "X = np.concatenate((f0, f1))\n",
    "y = np.concatenate((np.ones((int(n_samples/2))), np.ones((int(n_samples/2))) *(-1))).astype(np.int)\n",
    "\n",
    "random_index = np.random.permutation(np.arange(n_samples))\n",
    "X = X[random_index]\n",
    "y = y[random_index]"
   ]
  },
  {
   "cell_type": "code",
   "execution_count": 45,
   "metadata": {},
   "outputs": [
    {
     "name": "stdout",
     "output_type": "stream",
     "text": [
      "X_train (375, 2)\n",
      "X_test (125, 2)\n",
      "Y_train (375,)\n",
      "Y_test (125,)\n"
     ]
    }
   ],
   "source": [
    "#分割\n",
    "(X_train, X_test, y_train, y_test) = train_test_split(X, y, test_size=0.25, random_state=5,) #シードも設定しておく\n",
    "\n",
    "print(\"X_train\", np.shape(X_train))\n",
    "print(\"X_test\", np.shape(X_test))\n",
    "print(\"Y_train\", np.shape(y_train))\n",
    "print(\"Y_test\", np.shape(y_test))"
   ]
  },
  {
   "cell_type": "code",
   "execution_count": 46,
   "metadata": {},
   "outputs": [],
   "source": [
    "#標準化処理\n",
    "from sklearn.preprocessing import StandardScaler\n",
    "\n",
    "sc = StandardScaler()\n",
    "sc.fit(X_train)\n",
    "X_train = sc.transform(X_train)\n",
    "X_test = sc.transform(X_test)"
   ]
  },
  {
   "cell_type": "code",
   "execution_count": 49,
   "metadata": {},
   "outputs": [],
   "source": [
    "#スクラッチで検証\n",
    "svc = ScratchSVMClassifier(threshold=0.00001)\n",
    "svc.fit(X_train , y_train)\n",
    "y_pred = svc.predict(X_test)"
   ]
  },
  {
   "cell_type": "code",
   "execution_count": 56,
   "metadata": {},
   "outputs": [
    {
     "data": {
      "image/png": "[encoded data removed]",
      "text/plain": [
       "<Figure size 864x576 with 1 Axes>"
      ]
     },
     "metadata": {
      "needs_background": "light"
     },
     "output_type": "display_data"
    }
   ],
   "source": [
    "decision_region(X_test, y_test, svc, X_train, y_train, xlabel=\"f0\", ylabel=\"f1\")"
   ]
  },
  {
   "cell_type": "markdown",
   "metadata": {},
   "source": [
    "## 【問題２】多項式カーネル関数の作成\n",
    "\n",
    "問題１では、線形カーネルを使用したが、多項式カーネルにも切り替えられるようにする。\n",
    "\n",
    "「線形カーネルの式」\n",
    "$$\n",
    "k(x_i,x_j) = x_i^Tx_j\n",
    "$$\n",
    "\n",
    "「多項式カーネルの式」\n",
    "$$\n",
    "k(x_i, x_j) = \\gamma (x_i^Tx_j + \\theta_0)^d\n",
    "$$\n",
    "\n",
    "γ、θ０、dはハイパーパラメータ\n",
    "\n",
    "線形カーネルは、γ＝１、θ０＝０、d＝１の場合の多項式カーネルと等しいと言える"
   ]
  },
  {
   "cell_type": "code",
   "execution_count": 72,
   "metadata": {},
   "outputs": [],
   "source": [
    "class ScratchSVMClassifier3():\n",
    "    \"\"\"\n",
    "    SVMのスクラッチ実装　更新式をよりシンプルにしたバージョン\n",
    "\n",
    "    Parameters\n",
    "    ----------\n",
    "    num_iter : int　　イテレーション数\n",
    "    lr : float　　　      学習率\n",
    "    no_bias : bool      バイアス項を入れない場合はTrue\n",
    "    verbose : bool     学習過程を出力する場合はTrue\n",
    "\n",
    "    Attributes\n",
    "    ----------\n",
    "    self.coef_ : ndarray, shape (n_features,)  パラメータ\n",
    "    self.loss : ndarray, shape (self.iter,) 　     学習用データに対する損失の記録\n",
    "    self.val_loss : ndarray, shape (self.iter,)    検証用データに対する損失の記録\n",
    "    \"\"\"\n",
    "\n",
    "    def __init__(self,\n",
    "                 num_iter=10000,\n",
    "                 lr=0.001,\n",
    "                 bias=False,\n",
    "                 verbose=False,\n",
    "                 kernel=\"linear\",    #線形カーネル\n",
    "                 C=1e10,              #ハードマージン\n",
    "                 threshold=2e-5,\n",
    "                 polypalam = 0 \n",
    "                ):\n",
    "        # ハイパーパラメータを属性として記録\n",
    "        self.iter = num_iter\n",
    "        self.lr = lr\n",
    "        self.bias = bias\n",
    "        self.verbose = verbose\n",
    "        self.kernel = kernel\n",
    "        self.threshold = threshold\n",
    "        self.polypalam = polypalam\n",
    "        #ラグランジュ乗数\n",
    "        self.lagrange = np.array([])\n",
    "        self.C = C\n",
    "        # 損失を記録する配列を用意\n",
    "        self.loss = np.zeros(self.iter)\n",
    "        self.val_loss = np.zeros(self.iter)\n",
    "\n",
    "    def fit(self, X, y, X_val=None, y_val=None):\n",
    "        \"\"\"\n",
    "        線形回帰を学習する。検証用データが入力された場合はそれに対する損失と精度もイテレーションごとに計算する。\n",
    "\n",
    "        Parameters\n",
    "        ----------\n",
    "        X : ndarray, shape (n_samples, n_features)           学習用データの特徴量\n",
    "        y : ndarray, shape (n_samples, )　　　　　            学習用データの正解値\n",
    "        X_val : ndarray, shape (n_samples, n_features)     検証用データの特徴量\n",
    "        y_val : ndarray, shape (n_samples, )　　　            検証用データの正解値\n",
    "        \"\"\"\n",
    "        #サンプル数取得\n",
    "        smpl_num = X.shape[0]\n",
    "        \n",
    "        #バイアス項の生成\n",
    "        if not self.bias:\n",
    "            bias_term = np.ones(smpl_num).reshape(smpl_num,1)\n",
    "            X = np.concatenate([bias_term, X], 1)\n",
    "        \n",
    "        #λの初期値\n",
    "        self.lagrange = np.full(smpl_num, np.random.rand())\n",
    "        #print(\"λ初期値=\", self.lagrange)\n",
    "        \n",
    "        #カーネル関数の生成\n",
    "        kX = self.kernel_funk(X)\n",
    "        \n",
    "        #λ更新\n",
    "        for _ in range(self.iter):\n",
    "            self.lagrange += self.lr*(1- np.sum(y.reshape(-1,1)*self.lagrange*y*kX, axis=1))\n",
    "            self.lagrange = np.where(self.lagrange < 0, 0, self.lagrange)\n",
    "        \n",
    "        #サポートベクター\n",
    "        self.bector_index = np.where(self.lagrange > self.threshold)\n",
    "        \n",
    "        self.lagrange_s_ = self.lagrange[self.bector_index]\n",
    "        self.yn_ = y[self.bector_index]\n",
    "        self.sn_ = X[self.bector_index]\n",
    "        \n",
    "        if self.verbose:\n",
    "            #verboseをTrueにした際は学習過程を出力\n",
    "            print()\n",
    "        pass\n",
    "\n",
    "\n",
    "    def predict(self, X):\n",
    "        \"\"\"\n",
    "        線形回帰を使い推定する。\n",
    "\n",
    "        Parameters\n",
    "        ----------\n",
    "        X : ndarray, shape (n_samples, n_features)  サンプル\n",
    "\n",
    "        Returns\n",
    "        -------\n",
    "            ndarray, shape (n_samples, 1)   線形回帰による推定結果\n",
    "        \"\"\"\n",
    "        #サンプル数取得\n",
    "        smpl_num = X_test.shape[0]\n",
    "        \n",
    "        #バイアス項の生成\n",
    "        if not self.bias:\n",
    "            bias_term = np.ones(smpl_num).reshape(smpl_num,1)\n",
    "            X_test = np.concatenate([bias_term, X_test], 1)\n",
    "        \n",
    "        #推定\n",
    "        self.y_hat_raw = np.sum(self.lagrange_s_*self.yn_*np.dot(X_test, self.sn_.T), axis=1)\n",
    "        \n",
    "        #推定値の変換\n",
    "        f = lambda x: 1 if x >= 0 else -1\n",
    "        vf = np.vectorize(f)\n",
    "        y_hat = vf(self.y_hat_raw)\n",
    "        \n",
    "        return y_hat\n",
    "    \n",
    "    def kernel_funk(self, X):\n",
    "        \"\"\"\n",
    "        カーネル関数。\n",
    "\n",
    "        Parameters\n",
    "        ----------\n",
    "        X : 次の形のndarray, shape (n_samples, n_features)\n",
    "            サンプル\n",
    "        self.polypalam: (gamma, theta, d)\n",
    "\n",
    "        Returns\n",
    "        -------\n",
    "            次の形のndarray, shape (n_samples, n_samples)　カーネル関数\n",
    "        \"\"\"\n",
    "        if self.kernel == \"linear\":\n",
    "            k = np.dot(X, X.T)\n",
    "        elif self.kernel == \"poly\":\n",
    "            k = self.polypalam[0](np.dot(X, X.T) + self.polypalam[1])**self.polypalam[2]\n",
    "\n",
    "        return k\n"
   ]
  },
  {
   "cell_type": "markdown",
   "metadata": {},
   "source": [
    "## 【問題５】時間の計測\n",
    "\n",
    "SVMの学習には時間がかかるため、効率的な実装が望まれる。事前学習期間に行なったように、時間を計測して改善していく。特に \n",
    "λ の更新部分は繰り返し処理が多いため、効率的なコードを目指す。"
   ]
  },
  {
   "cell_type": "code",
   "execution_count": null,
   "metadata": {},
   "outputs": [],
   "source": [
    "#雛形\n",
    "\n",
    "import time\n",
    "t0 = time.time()\n",
    "# 何らかの処理\n",
    "t1 = time.time()\n",
    "print('time : {}s'.format(t1-t0))"
   ]
  },
  {
   "cell_type": "markdown",
   "metadata": {},
   "source": [
    "### 改善の記録\n",
    "\n",
    "1.2章で主にfor文を使用してコーディングを行なった。\n",
    "\n",
    "テストデータは\n",
    "\n",
    "X = np.array([[1,1],[5,4], [1,2], [3,4], [2,1], [2,2], [4,3], [5,3]])\n",
    "\n",
    "y = np.array([1, -1, 1, -1, 1, 1, -1, -1])\n",
    "\n",
    "と、最小の構成で、イテレーションの回数は1万回だが、その際のfitの時間は\n",
    "\n",
    "- 1.214981770515442s\n",
    "\n",
    "となった。上記をベースに、1.2.2章にてfor文を使わないコードに改良。以下、計測時間の記録。\n",
    "\n",
    "**version1**\n",
    "\n",
    "ラグランジュ最急降下の箇所にてfor文除去\n",
    "\n",
    "- 0.5931880474090576s\n",
    "\n",
    "ラグランジュ値の０未満を０で置換する処理をnp.whereで置き換え\n",
    "\n",
    "- 0.4944364070892334s\n",
    "\n",
    "カーネル関数の中のfor文を除去\n",
    "\n",
    "- 0.5061451911926269s   =>ちょっと上がってしまった\n",
    "\n",
    "サポートベクターのインデックスを取得するところでnp.whereに置き換え\n",
    "\n",
    "- 0.5055828332901001s\n",
    "\n",
    "\n",
    "大きなデータで試してないので、なんとも言えないが、当初のコードと比べるとかなり軽くなった。"
   ]
  },
  {
   "cell_type": "code",
   "execution_count": null,
   "metadata": {},
   "outputs": [],
   "source": []
  }
 ],
 "metadata": {
  "kernelspec": {
   "display_name": "Python 3",
   "language": "python",
   "name": "python3"
  },
  "language_info": {
   "codemirror_mode": {
    "name": "ipython",
    "version": 3
   },
   "file_extension": ".py",
   "mimetype": "text/x-python",
   "name": "python",
   "nbconvert_exporter": "python",
   "pygments_lexer": "ipython3",
   "version": "3.7.2"
  },
  "toc": {
   "base_numbering": 1,
   "nav_menu": {},
   "number_sections": true,
   "sideBar": true,
   "skip_h1_title": false,
   "title_cell": "Table of Contents",
   "title_sidebar": "Contents",
   "toc_cell": false,
   "toc_position": {
    "height": "calc(100% - 180px)",
    "left": "10px",
    "top": "150px",
    "width": "234.59375px"
   },
   "toc_section_display": true,
   "toc_window_display": true
  },
  "varInspector": {
   "cols": {
    "lenName": 16,
    "lenType": 16,
    "lenVar": 40
   },
   "kernels_config": {
    "python": {
     "delete_cmd_postfix": "",
     "delete_cmd_prefix": "del ",
     "library": "var_list.py",
     "varRefreshCmd": "print(var_dic_list())"
    },
    "r": {
     "delete_cmd_postfix": ") ",
     "delete_cmd_prefix": "rm(",
     "library": "var_list.r",
     "varRefreshCmd": "cat(var_dic_list()) "
    }
   },
   "position": {
    "height": "334px",
    "left": "7px",
    "right": "20px",
    "top": "456px",
    "width": "255px"
   },
   "types_to_exclude": [
    "module",
    "function",
    "builtin_function_or_method",
    "instance",
    "_Feature"
   ],
   "window_display": false
  }
 },
 "nbformat": 4,
 "nbformat_minor": 2
}
