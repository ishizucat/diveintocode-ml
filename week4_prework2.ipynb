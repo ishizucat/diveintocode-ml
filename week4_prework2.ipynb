{
 "cells": [
  {
   "cell_type": "markdown",
   "metadata": {},
   "source": [
    "# Week4 事前課題２\n",
    "## 住宅価格の予想\n",
    "### 【問題1】練習のために特徴量の選択\n",
    "---"
   ]
  },
  {
   "cell_type": "code",
   "execution_count": 1,
   "metadata": {},
   "outputs": [
    {
     "data": {
      "text/html": [
       "<div>\n",
       "<style scoped>\n",
       "    .dataframe tbody tr th:only-of-type {\n",
       "        vertical-align: middle;\n",
       "    }\n",
       "\n",
       "    .dataframe tbody tr th {\n",
       "        vertical-align: top;\n",
       "    }\n",
       "\n",
       "    .dataframe thead th {\n",
       "        text-align: right;\n",
       "    }\n",
       "</style>\n",
       "<table border=\"1\" class=\"dataframe\">\n",
       "  <thead>\n",
       "    <tr style=\"text-align: right;\">\n",
       "      <th></th>\n",
       "      <th>MSSubClass</th>\n",
       "      <th>MSZoning</th>\n",
       "      <th>LotFrontage</th>\n",
       "      <th>LotArea</th>\n",
       "      <th>Street</th>\n",
       "      <th>Alley</th>\n",
       "      <th>LotShape</th>\n",
       "      <th>LandContour</th>\n",
       "      <th>Utilities</th>\n",
       "      <th>LotConfig</th>\n",
       "      <th>LandSlope</th>\n",
       "      <th>Neighborhood</th>\n",
       "      <th>Condition1</th>\n",
       "      <th>Condition2</th>\n",
       "      <th>BldgType</th>\n",
       "      <th>HouseStyle</th>\n",
       "      <th>OverallQual</th>\n",
       "      <th>OverallCond</th>\n",
       "      <th>YearBuilt</th>\n",
       "      <th>YearRemodAdd</th>\n",
       "      <th>RoofStyle</th>\n",
       "      <th>RoofMatl</th>\n",
       "      <th>Exterior1st</th>\n",
       "      <th>Exterior2nd</th>\n",
       "      <th>MasVnrType</th>\n",
       "      <th>MasVnrArea</th>\n",
       "      <th>ExterQual</th>\n",
       "      <th>ExterCond</th>\n",
       "      <th>Foundation</th>\n",
       "      <th>BsmtQual</th>\n",
       "      <th>BsmtCond</th>\n",
       "      <th>BsmtExposure</th>\n",
       "      <th>BsmtFinType1</th>\n",
       "      <th>BsmtFinSF1</th>\n",
       "      <th>BsmtFinType2</th>\n",
       "      <th>BsmtFinSF2</th>\n",
       "      <th>BsmtUnfSF</th>\n",
       "      <th>TotalBsmtSF</th>\n",
       "      <th>Heating</th>\n",
       "      <th>HeatingQC</th>\n",
       "      <th>CentralAir</th>\n",
       "      <th>Electrical</th>\n",
       "      <th>1stFlrSF</th>\n",
       "      <th>2ndFlrSF</th>\n",
       "      <th>LowQualFinSF</th>\n",
       "      <th>GrLivArea</th>\n",
       "      <th>BsmtFullBath</th>\n",
       "      <th>BsmtHalfBath</th>\n",
       "      <th>FullBath</th>\n",
       "      <th>HalfBath</th>\n",
       "      <th>BedroomAbvGr</th>\n",
       "      <th>KitchenAbvGr</th>\n",
       "      <th>KitchenQual</th>\n",
       "      <th>TotRmsAbvGrd</th>\n",
       "      <th>Functional</th>\n",
       "      <th>Fireplaces</th>\n",
       "      <th>FireplaceQu</th>\n",
       "      <th>GarageType</th>\n",
       "      <th>GarageYrBlt</th>\n",
       "      <th>GarageFinish</th>\n",
       "      <th>GarageCars</th>\n",
       "      <th>GarageArea</th>\n",
       "      <th>GarageQual</th>\n",
       "      <th>GarageCond</th>\n",
       "      <th>PavedDrive</th>\n",
       "      <th>WoodDeckSF</th>\n",
       "      <th>OpenPorchSF</th>\n",
       "      <th>EnclosedPorch</th>\n",
       "      <th>3SsnPorch</th>\n",
       "      <th>ScreenPorch</th>\n",
       "      <th>PoolArea</th>\n",
       "      <th>PoolQC</th>\n",
       "      <th>Fence</th>\n",
       "      <th>MiscFeature</th>\n",
       "      <th>MiscVal</th>\n",
       "      <th>MoSold</th>\n",
       "      <th>YrSold</th>\n",
       "      <th>SaleType</th>\n",
       "      <th>SaleCondition</th>\n",
       "      <th>SalePrice</th>\n",
       "    </tr>\n",
       "    <tr>\n",
       "      <th>Id</th>\n",
       "      <th></th>\n",
       "      <th></th>\n",
       "      <th></th>\n",
       "      <th></th>\n",
       "      <th></th>\n",
       "      <th></th>\n",
       "      <th></th>\n",
       "      <th></th>\n",
       "      <th></th>\n",
       "      <th></th>\n",
       "      <th></th>\n",
       "      <th></th>\n",
       "      <th></th>\n",
       "      <th></th>\n",
       "      <th></th>\n",
       "      <th></th>\n",
       "      <th></th>\n",
       "      <th></th>\n",
       "      <th></th>\n",
       "      <th></th>\n",
       "      <th></th>\n",
       "      <th></th>\n",
       "      <th></th>\n",
       "      <th></th>\n",
       "      <th></th>\n",
       "      <th></th>\n",
       "      <th></th>\n",
       "      <th></th>\n",
       "      <th></th>\n",
       "      <th></th>\n",
       "      <th></th>\n",
       "      <th></th>\n",
       "      <th></th>\n",
       "      <th></th>\n",
       "      <th></th>\n",
       "      <th></th>\n",
       "      <th></th>\n",
       "      <th></th>\n",
       "      <th></th>\n",
       "      <th></th>\n",
       "      <th></th>\n",
       "      <th></th>\n",
       "      <th></th>\n",
       "      <th></th>\n",
       "      <th></th>\n",
       "      <th></th>\n",
       "      <th></th>\n",
       "      <th></th>\n",
       "      <th></th>\n",
       "      <th></th>\n",
       "      <th></th>\n",
       "      <th></th>\n",
       "      <th></th>\n",
       "      <th></th>\n",
       "      <th></th>\n",
       "      <th></th>\n",
       "      <th></th>\n",
       "      <th></th>\n",
       "      <th></th>\n",
       "      <th></th>\n",
       "      <th></th>\n",
       "      <th></th>\n",
       "      <th></th>\n",
       "      <th></th>\n",
       "      <th></th>\n",
       "      <th></th>\n",
       "      <th></th>\n",
       "      <th></th>\n",
       "      <th></th>\n",
       "      <th></th>\n",
       "      <th></th>\n",
       "      <th></th>\n",
       "      <th></th>\n",
       "      <th></th>\n",
       "      <th></th>\n",
       "      <th></th>\n",
       "      <th></th>\n",
       "      <th></th>\n",
       "      <th></th>\n",
       "      <th></th>\n",
       "    </tr>\n",
       "  </thead>\n",
       "  <tbody>\n",
       "    <tr>\n",
       "      <th>1</th>\n",
       "      <td>60</td>\n",
       "      <td>RL</td>\n",
       "      <td>65.0</td>\n",
       "      <td>8450</td>\n",
       "      <td>Pave</td>\n",
       "      <td>NaN</td>\n",
       "      <td>Reg</td>\n",
       "      <td>Lvl</td>\n",
       "      <td>AllPub</td>\n",
       "      <td>Inside</td>\n",
       "      <td>Gtl</td>\n",
       "      <td>CollgCr</td>\n",
       "      <td>Norm</td>\n",
       "      <td>Norm</td>\n",
       "      <td>1Fam</td>\n",
       "      <td>2Story</td>\n",
       "      <td>7</td>\n",
       "      <td>5</td>\n",
       "      <td>2003</td>\n",
       "      <td>2003</td>\n",
       "      <td>Gable</td>\n",
       "      <td>CompShg</td>\n",
       "      <td>VinylSd</td>\n",
       "      <td>VinylSd</td>\n",
       "      <td>BrkFace</td>\n",
       "      <td>196.0</td>\n",
       "      <td>Gd</td>\n",
       "      <td>TA</td>\n",
       "      <td>PConc</td>\n",
       "      <td>Gd</td>\n",
       "      <td>TA</td>\n",
       "      <td>No</td>\n",
       "      <td>GLQ</td>\n",
       "      <td>706</td>\n",
       "      <td>Unf</td>\n",
       "      <td>0</td>\n",
       "      <td>150</td>\n",
       "      <td>856</td>\n",
       "      <td>GasA</td>\n",
       "      <td>Ex</td>\n",
       "      <td>Y</td>\n",
       "      <td>SBrkr</td>\n",
       "      <td>856</td>\n",
       "      <td>854</td>\n",
       "      <td>0</td>\n",
       "      <td>1710</td>\n",
       "      <td>1</td>\n",
       "      <td>0</td>\n",
       "      <td>2</td>\n",
       "      <td>1</td>\n",
       "      <td>3</td>\n",
       "      <td>1</td>\n",
       "      <td>Gd</td>\n",
       "      <td>8</td>\n",
       "      <td>Typ</td>\n",
       "      <td>0</td>\n",
       "      <td>NaN</td>\n",
       "      <td>Attchd</td>\n",
       "      <td>2003.0</td>\n",
       "      <td>RFn</td>\n",
       "      <td>2</td>\n",
       "      <td>548</td>\n",
       "      <td>TA</td>\n",
       "      <td>TA</td>\n",
       "      <td>Y</td>\n",
       "      <td>0</td>\n",
       "      <td>61</td>\n",
       "      <td>0</td>\n",
       "      <td>0</td>\n",
       "      <td>0</td>\n",
       "      <td>0</td>\n",
       "      <td>NaN</td>\n",
       "      <td>NaN</td>\n",
       "      <td>NaN</td>\n",
       "      <td>0</td>\n",
       "      <td>2</td>\n",
       "      <td>2008</td>\n",
       "      <td>WD</td>\n",
       "      <td>Normal</td>\n",
       "      <td>208500</td>\n",
       "    </tr>\n",
       "    <tr>\n",
       "      <th>2</th>\n",
       "      <td>20</td>\n",
       "      <td>RL</td>\n",
       "      <td>80.0</td>\n",
       "      <td>9600</td>\n",
       "      <td>Pave</td>\n",
       "      <td>NaN</td>\n",
       "      <td>Reg</td>\n",
       "      <td>Lvl</td>\n",
       "      <td>AllPub</td>\n",
       "      <td>FR2</td>\n",
       "      <td>Gtl</td>\n",
       "      <td>Veenker</td>\n",
       "      <td>Feedr</td>\n",
       "      <td>Norm</td>\n",
       "      <td>1Fam</td>\n",
       "      <td>1Story</td>\n",
       "      <td>6</td>\n",
       "      <td>8</td>\n",
       "      <td>1976</td>\n",
       "      <td>1976</td>\n",
       "      <td>Gable</td>\n",
       "      <td>CompShg</td>\n",
       "      <td>MetalSd</td>\n",
       "      <td>MetalSd</td>\n",
       "      <td>None</td>\n",
       "      <td>0.0</td>\n",
       "      <td>TA</td>\n",
       "      <td>TA</td>\n",
       "      <td>CBlock</td>\n",
       "      <td>Gd</td>\n",
       "      <td>TA</td>\n",
       "      <td>Gd</td>\n",
       "      <td>ALQ</td>\n",
       "      <td>978</td>\n",
       "      <td>Unf</td>\n",
       "      <td>0</td>\n",
       "      <td>284</td>\n",
       "      <td>1262</td>\n",
       "      <td>GasA</td>\n",
       "      <td>Ex</td>\n",
       "      <td>Y</td>\n",
       "      <td>SBrkr</td>\n",
       "      <td>1262</td>\n",
       "      <td>0</td>\n",
       "      <td>0</td>\n",
       "      <td>1262</td>\n",
       "      <td>0</td>\n",
       "      <td>1</td>\n",
       "      <td>2</td>\n",
       "      <td>0</td>\n",
       "      <td>3</td>\n",
       "      <td>1</td>\n",
       "      <td>TA</td>\n",
       "      <td>6</td>\n",
       "      <td>Typ</td>\n",
       "      <td>1</td>\n",
       "      <td>TA</td>\n",
       "      <td>Attchd</td>\n",
       "      <td>1976.0</td>\n",
       "      <td>RFn</td>\n",
       "      <td>2</td>\n",
       "      <td>460</td>\n",
       "      <td>TA</td>\n",
       "      <td>TA</td>\n",
       "      <td>Y</td>\n",
       "      <td>298</td>\n",
       "      <td>0</td>\n",
       "      <td>0</td>\n",
       "      <td>0</td>\n",
       "      <td>0</td>\n",
       "      <td>0</td>\n",
       "      <td>NaN</td>\n",
       "      <td>NaN</td>\n",
       "      <td>NaN</td>\n",
       "      <td>0</td>\n",
       "      <td>5</td>\n",
       "      <td>2007</td>\n",
       "      <td>WD</td>\n",
       "      <td>Normal</td>\n",
       "      <td>181500</td>\n",
       "    </tr>\n",
       "    <tr>\n",
       "      <th>3</th>\n",
       "      <td>60</td>\n",
       "      <td>RL</td>\n",
       "      <td>68.0</td>\n",
       "      <td>11250</td>\n",
       "      <td>Pave</td>\n",
       "      <td>NaN</td>\n",
       "      <td>IR1</td>\n",
       "      <td>Lvl</td>\n",
       "      <td>AllPub</td>\n",
       "      <td>Inside</td>\n",
       "      <td>Gtl</td>\n",
       "      <td>CollgCr</td>\n",
       "      <td>Norm</td>\n",
       "      <td>Norm</td>\n",
       "      <td>1Fam</td>\n",
       "      <td>2Story</td>\n",
       "      <td>7</td>\n",
       "      <td>5</td>\n",
       "      <td>2001</td>\n",
       "      <td>2002</td>\n",
       "      <td>Gable</td>\n",
       "      <td>CompShg</td>\n",
       "      <td>VinylSd</td>\n",
       "      <td>VinylSd</td>\n",
       "      <td>BrkFace</td>\n",
       "      <td>162.0</td>\n",
       "      <td>Gd</td>\n",
       "      <td>TA</td>\n",
       "      <td>PConc</td>\n",
       "      <td>Gd</td>\n",
       "      <td>TA</td>\n",
       "      <td>Mn</td>\n",
       "      <td>GLQ</td>\n",
       "      <td>486</td>\n",
       "      <td>Unf</td>\n",
       "      <td>0</td>\n",
       "      <td>434</td>\n",
       "      <td>920</td>\n",
       "      <td>GasA</td>\n",
       "      <td>Ex</td>\n",
       "      <td>Y</td>\n",
       "      <td>SBrkr</td>\n",
       "      <td>920</td>\n",
       "      <td>866</td>\n",
       "      <td>0</td>\n",
       "      <td>1786</td>\n",
       "      <td>1</td>\n",
       "      <td>0</td>\n",
       "      <td>2</td>\n",
       "      <td>1</td>\n",
       "      <td>3</td>\n",
       "      <td>1</td>\n",
       "      <td>Gd</td>\n",
       "      <td>6</td>\n",
       "      <td>Typ</td>\n",
       "      <td>1</td>\n",
       "      <td>TA</td>\n",
       "      <td>Attchd</td>\n",
       "      <td>2001.0</td>\n",
       "      <td>RFn</td>\n",
       "      <td>2</td>\n",
       "      <td>608</td>\n",
       "      <td>TA</td>\n",
       "      <td>TA</td>\n",
       "      <td>Y</td>\n",
       "      <td>0</td>\n",
       "      <td>42</td>\n",
       "      <td>0</td>\n",
       "      <td>0</td>\n",
       "      <td>0</td>\n",
       "      <td>0</td>\n",
       "      <td>NaN</td>\n",
       "      <td>NaN</td>\n",
       "      <td>NaN</td>\n",
       "      <td>0</td>\n",
       "      <td>9</td>\n",
       "      <td>2008</td>\n",
       "      <td>WD</td>\n",
       "      <td>Normal</td>\n",
       "      <td>223500</td>\n",
       "    </tr>\n",
       "    <tr>\n",
       "      <th>4</th>\n",
       "      <td>70</td>\n",
       "      <td>RL</td>\n",
       "      <td>60.0</td>\n",
       "      <td>9550</td>\n",
       "      <td>Pave</td>\n",
       "      <td>NaN</td>\n",
       "      <td>IR1</td>\n",
       "      <td>Lvl</td>\n",
       "      <td>AllPub</td>\n",
       "      <td>Corner</td>\n",
       "      <td>Gtl</td>\n",
       "      <td>Crawfor</td>\n",
       "      <td>Norm</td>\n",
       "      <td>Norm</td>\n",
       "      <td>1Fam</td>\n",
       "      <td>2Story</td>\n",
       "      <td>7</td>\n",
       "      <td>5</td>\n",
       "      <td>1915</td>\n",
       "      <td>1970</td>\n",
       "      <td>Gable</td>\n",
       "      <td>CompShg</td>\n",
       "      <td>Wd Sdng</td>\n",
       "      <td>Wd Shng</td>\n",
       "      <td>None</td>\n",
       "      <td>0.0</td>\n",
       "      <td>TA</td>\n",
       "      <td>TA</td>\n",
       "      <td>BrkTil</td>\n",
       "      <td>TA</td>\n",
       "      <td>Gd</td>\n",
       "      <td>No</td>\n",
       "      <td>ALQ</td>\n",
       "      <td>216</td>\n",
       "      <td>Unf</td>\n",
       "      <td>0</td>\n",
       "      <td>540</td>\n",
       "      <td>756</td>\n",
       "      <td>GasA</td>\n",
       "      <td>Gd</td>\n",
       "      <td>Y</td>\n",
       "      <td>SBrkr</td>\n",
       "      <td>961</td>\n",
       "      <td>756</td>\n",
       "      <td>0</td>\n",
       "      <td>1717</td>\n",
       "      <td>1</td>\n",
       "      <td>0</td>\n",
       "      <td>1</td>\n",
       "      <td>0</td>\n",
       "      <td>3</td>\n",
       "      <td>1</td>\n",
       "      <td>Gd</td>\n",
       "      <td>7</td>\n",
       "      <td>Typ</td>\n",
       "      <td>1</td>\n",
       "      <td>Gd</td>\n",
       "      <td>Detchd</td>\n",
       "      <td>1998.0</td>\n",
       "      <td>Unf</td>\n",
       "      <td>3</td>\n",
       "      <td>642</td>\n",
       "      <td>TA</td>\n",
       "      <td>TA</td>\n",
       "      <td>Y</td>\n",
       "      <td>0</td>\n",
       "      <td>35</td>\n",
       "      <td>272</td>\n",
       "      <td>0</td>\n",
       "      <td>0</td>\n",
       "      <td>0</td>\n",
       "      <td>NaN</td>\n",
       "      <td>NaN</td>\n",
       "      <td>NaN</td>\n",
       "      <td>0</td>\n",
       "      <td>2</td>\n",
       "      <td>2006</td>\n",
       "      <td>WD</td>\n",
       "      <td>Abnorml</td>\n",
       "      <td>140000</td>\n",
       "    </tr>\n",
       "    <tr>\n",
       "      <th>5</th>\n",
       "      <td>60</td>\n",
       "      <td>RL</td>\n",
       "      <td>84.0</td>\n",
       "      <td>14260</td>\n",
       "      <td>Pave</td>\n",
       "      <td>NaN</td>\n",
       "      <td>IR1</td>\n",
       "      <td>Lvl</td>\n",
       "      <td>AllPub</td>\n",
       "      <td>FR2</td>\n",
       "      <td>Gtl</td>\n",
       "      <td>NoRidge</td>\n",
       "      <td>Norm</td>\n",
       "      <td>Norm</td>\n",
       "      <td>1Fam</td>\n",
       "      <td>2Story</td>\n",
       "      <td>8</td>\n",
       "      <td>5</td>\n",
       "      <td>2000</td>\n",
       "      <td>2000</td>\n",
       "      <td>Gable</td>\n",
       "      <td>CompShg</td>\n",
       "      <td>VinylSd</td>\n",
       "      <td>VinylSd</td>\n",
       "      <td>BrkFace</td>\n",
       "      <td>350.0</td>\n",
       "      <td>Gd</td>\n",
       "      <td>TA</td>\n",
       "      <td>PConc</td>\n",
       "      <td>Gd</td>\n",
       "      <td>TA</td>\n",
       "      <td>Av</td>\n",
       "      <td>GLQ</td>\n",
       "      <td>655</td>\n",
       "      <td>Unf</td>\n",
       "      <td>0</td>\n",
       "      <td>490</td>\n",
       "      <td>1145</td>\n",
       "      <td>GasA</td>\n",
       "      <td>Ex</td>\n",
       "      <td>Y</td>\n",
       "      <td>SBrkr</td>\n",
       "      <td>1145</td>\n",
       "      <td>1053</td>\n",
       "      <td>0</td>\n",
       "      <td>2198</td>\n",
       "      <td>1</td>\n",
       "      <td>0</td>\n",
       "      <td>2</td>\n",
       "      <td>1</td>\n",
       "      <td>4</td>\n",
       "      <td>1</td>\n",
       "      <td>Gd</td>\n",
       "      <td>9</td>\n",
       "      <td>Typ</td>\n",
       "      <td>1</td>\n",
       "      <td>TA</td>\n",
       "      <td>Attchd</td>\n",
       "      <td>2000.0</td>\n",
       "      <td>RFn</td>\n",
       "      <td>3</td>\n",
       "      <td>836</td>\n",
       "      <td>TA</td>\n",
       "      <td>TA</td>\n",
       "      <td>Y</td>\n",
       "      <td>192</td>\n",
       "      <td>84</td>\n",
       "      <td>0</td>\n",
       "      <td>0</td>\n",
       "      <td>0</td>\n",
       "      <td>0</td>\n",
       "      <td>NaN</td>\n",
       "      <td>NaN</td>\n",
       "      <td>NaN</td>\n",
       "      <td>0</td>\n",
       "      <td>12</td>\n",
       "      <td>2008</td>\n",
       "      <td>WD</td>\n",
       "      <td>Normal</td>\n",
       "      <td>250000</td>\n",
       "    </tr>\n",
       "  </tbody>\n",
       "</table>\n",
       "</div>"
      ],
      "text/plain": [
       "    MSSubClass MSZoning  LotFrontage  LotArea Street Alley LotShape  \\\n",
       "Id                                                                    \n",
       "1           60       RL         65.0     8450   Pave   NaN      Reg   \n",
       "2           20       RL         80.0     9600   Pave   NaN      Reg   \n",
       "3           60       RL         68.0    11250   Pave   NaN      IR1   \n",
       "4           70       RL         60.0     9550   Pave   NaN      IR1   \n",
       "5           60       RL         84.0    14260   Pave   NaN      IR1   \n",
       "\n",
       "   LandContour Utilities LotConfig LandSlope Neighborhood Condition1  \\\n",
       "Id                                                                     \n",
       "1          Lvl    AllPub    Inside       Gtl      CollgCr       Norm   \n",
       "2          Lvl    AllPub       FR2       Gtl      Veenker      Feedr   \n",
       "3          Lvl    AllPub    Inside       Gtl      CollgCr       Norm   \n",
       "4          Lvl    AllPub    Corner       Gtl      Crawfor       Norm   \n",
       "5          Lvl    AllPub       FR2       Gtl      NoRidge       Norm   \n",
       "\n",
       "   Condition2 BldgType HouseStyle  OverallQual  OverallCond  YearBuilt  \\\n",
       "Id                                                                       \n",
       "1        Norm     1Fam     2Story            7            5       2003   \n",
       "2        Norm     1Fam     1Story            6            8       1976   \n",
       "3        Norm     1Fam     2Story            7            5       2001   \n",
       "4        Norm     1Fam     2Story            7            5       1915   \n",
       "5        Norm     1Fam     2Story            8            5       2000   \n",
       "\n",
       "    YearRemodAdd RoofStyle RoofMatl Exterior1st Exterior2nd MasVnrType  \\\n",
       "Id                                                                       \n",
       "1           2003     Gable  CompShg     VinylSd     VinylSd    BrkFace   \n",
       "2           1976     Gable  CompShg     MetalSd     MetalSd       None   \n",
       "3           2002     Gable  CompShg     VinylSd     VinylSd    BrkFace   \n",
       "4           1970     Gable  CompShg     Wd Sdng     Wd Shng       None   \n",
       "5           2000     Gable  CompShg     VinylSd     VinylSd    BrkFace   \n",
       "\n",
       "    MasVnrArea ExterQual ExterCond Foundation BsmtQual BsmtCond BsmtExposure  \\\n",
       "Id                                                                             \n",
       "1        196.0        Gd        TA      PConc       Gd       TA           No   \n",
       "2          0.0        TA        TA     CBlock       Gd       TA           Gd   \n",
       "3        162.0        Gd        TA      PConc       Gd       TA           Mn   \n",
       "4          0.0        TA        TA     BrkTil       TA       Gd           No   \n",
       "5        350.0        Gd        TA      PConc       Gd       TA           Av   \n",
       "\n",
       "   BsmtFinType1  BsmtFinSF1 BsmtFinType2  BsmtFinSF2  BsmtUnfSF  TotalBsmtSF  \\\n",
       "Id                                                                             \n",
       "1           GLQ         706          Unf           0        150          856   \n",
       "2           ALQ         978          Unf           0        284         1262   \n",
       "3           GLQ         486          Unf           0        434          920   \n",
       "4           ALQ         216          Unf           0        540          756   \n",
       "5           GLQ         655          Unf           0        490         1145   \n",
       "\n",
       "   Heating HeatingQC CentralAir Electrical  1stFlrSF  2ndFlrSF  LowQualFinSF  \\\n",
       "Id                                                                             \n",
       "1     GasA        Ex          Y      SBrkr       856       854             0   \n",
       "2     GasA        Ex          Y      SBrkr      1262         0             0   \n",
       "3     GasA        Ex          Y      SBrkr       920       866             0   \n",
       "4     GasA        Gd          Y      SBrkr       961       756             0   \n",
       "5     GasA        Ex          Y      SBrkr      1145      1053             0   \n",
       "\n",
       "    GrLivArea  BsmtFullBath  BsmtHalfBath  FullBath  HalfBath  BedroomAbvGr  \\\n",
       "Id                                                                            \n",
       "1        1710             1             0         2         1             3   \n",
       "2        1262             0             1         2         0             3   \n",
       "3        1786             1             0         2         1             3   \n",
       "4        1717             1             0         1         0             3   \n",
       "5        2198             1             0         2         1             4   \n",
       "\n",
       "    KitchenAbvGr KitchenQual  TotRmsAbvGrd Functional  Fireplaces FireplaceQu  \\\n",
       "Id                                                                              \n",
       "1              1          Gd             8        Typ           0         NaN   \n",
       "2              1          TA             6        Typ           1          TA   \n",
       "3              1          Gd             6        Typ           1          TA   \n",
       "4              1          Gd             7        Typ           1          Gd   \n",
       "5              1          Gd             9        Typ           1          TA   \n",
       "\n",
       "   GarageType  GarageYrBlt GarageFinish  GarageCars  GarageArea GarageQual  \\\n",
       "Id                                                                           \n",
       "1      Attchd       2003.0          RFn           2         548         TA   \n",
       "2      Attchd       1976.0          RFn           2         460         TA   \n",
       "3      Attchd       2001.0          RFn           2         608         TA   \n",
       "4      Detchd       1998.0          Unf           3         642         TA   \n",
       "5      Attchd       2000.0          RFn           3         836         TA   \n",
       "\n",
       "   GarageCond PavedDrive  WoodDeckSF  OpenPorchSF  EnclosedPorch  3SsnPorch  \\\n",
       "Id                                                                            \n",
       "1          TA          Y           0           61              0          0   \n",
       "2          TA          Y         298            0              0          0   \n",
       "3          TA          Y           0           42              0          0   \n",
       "4          TA          Y           0           35            272          0   \n",
       "5          TA          Y         192           84              0          0   \n",
       "\n",
       "    ScreenPorch  PoolArea PoolQC Fence MiscFeature  MiscVal  MoSold  YrSold  \\\n",
       "Id                                                                            \n",
       "1             0         0    NaN   NaN         NaN        0       2    2008   \n",
       "2             0         0    NaN   NaN         NaN        0       5    2007   \n",
       "3             0         0    NaN   NaN         NaN        0       9    2008   \n",
       "4             0         0    NaN   NaN         NaN        0       2    2006   \n",
       "5             0         0    NaN   NaN         NaN        0      12    2008   \n",
       "\n",
       "   SaleType SaleCondition  SalePrice  \n",
       "Id                                    \n",
       "1        WD        Normal     208500  \n",
       "2        WD        Normal     181500  \n",
       "3        WD        Normal     223500  \n",
       "4        WD       Abnorml     140000  \n",
       "5        WD        Normal     250000  "
      ]
     },
     "execution_count": 1,
     "metadata": {},
     "output_type": "execute_result"
    }
   ],
   "source": [
    "import pandas as pd\n",
    "import numpy as np\n",
    "from pandas import Series, DataFrame\n",
    "import seaborn as sns\n",
    "import matplotlib.pyplot as plt\n",
    "%matplotlib inline\n",
    "\n",
    "pd.set_option('display.max_columns', 100)\n",
    "\n",
    "#データフレームにデータを格納\n",
    "df_0 = pd.read_csv('train.csv', index_col=0)\n",
    "df = df_0.loc[:,[\"SalePrice\", \"GrLivArea\", \"YearBuilt\"]]\n",
    "df_0.head()"
   ]
  },
  {
   "cell_type": "markdown",
   "metadata": {},
   "source": [
    "### 【問題2】線形回帰による推定と評価\n",
    "---"
   ]
  },
  {
   "cell_type": "code",
   "execution_count": 2,
   "metadata": {},
   "outputs": [
    {
     "data": {
      "text/html": [
       "<div>\n",
       "<style scoped>\n",
       "    .dataframe tbody tr th:only-of-type {\n",
       "        vertical-align: middle;\n",
       "    }\n",
       "\n",
       "    .dataframe tbody tr th {\n",
       "        vertical-align: top;\n",
       "    }\n",
       "\n",
       "    .dataframe thead th {\n",
       "        text-align: right;\n",
       "    }\n",
       "</style>\n",
       "<table border=\"1\" class=\"dataframe\">\n",
       "  <thead>\n",
       "    <tr style=\"text-align: right;\">\n",
       "      <th></th>\n",
       "      <th>SalePrice</th>\n",
       "      <th>GrLivArea</th>\n",
       "      <th>YearBuilt</th>\n",
       "    </tr>\n",
       "  </thead>\n",
       "  <tbody>\n",
       "    <tr>\n",
       "      <th>count</th>\n",
       "      <td>1460.000000</td>\n",
       "      <td>1460.000000</td>\n",
       "      <td>1460.000000</td>\n",
       "    </tr>\n",
       "    <tr>\n",
       "      <th>mean</th>\n",
       "      <td>180921.195890</td>\n",
       "      <td>1515.463699</td>\n",
       "      <td>1971.267808</td>\n",
       "    </tr>\n",
       "    <tr>\n",
       "      <th>std</th>\n",
       "      <td>79442.502883</td>\n",
       "      <td>525.480383</td>\n",
       "      <td>30.202904</td>\n",
       "    </tr>\n",
       "    <tr>\n",
       "      <th>min</th>\n",
       "      <td>34900.000000</td>\n",
       "      <td>334.000000</td>\n",
       "      <td>1872.000000</td>\n",
       "    </tr>\n",
       "    <tr>\n",
       "      <th>25%</th>\n",
       "      <td>129975.000000</td>\n",
       "      <td>1129.500000</td>\n",
       "      <td>1954.000000</td>\n",
       "    </tr>\n",
       "    <tr>\n",
       "      <th>50%</th>\n",
       "      <td>163000.000000</td>\n",
       "      <td>1464.000000</td>\n",
       "      <td>1973.000000</td>\n",
       "    </tr>\n",
       "    <tr>\n",
       "      <th>75%</th>\n",
       "      <td>214000.000000</td>\n",
       "      <td>1776.750000</td>\n",
       "      <td>2000.000000</td>\n",
       "    </tr>\n",
       "    <tr>\n",
       "      <th>max</th>\n",
       "      <td>755000.000000</td>\n",
       "      <td>5642.000000</td>\n",
       "      <td>2010.000000</td>\n",
       "    </tr>\n",
       "  </tbody>\n",
       "</table>\n",
       "</div>"
      ],
      "text/plain": [
       "           SalePrice    GrLivArea    YearBuilt\n",
       "count    1460.000000  1460.000000  1460.000000\n",
       "mean   180921.195890  1515.463699  1971.267808\n",
       "std     79442.502883   525.480383    30.202904\n",
       "min     34900.000000   334.000000  1872.000000\n",
       "25%    129975.000000  1129.500000  1954.000000\n",
       "50%    163000.000000  1464.000000  1973.000000\n",
       "75%    214000.000000  1776.750000  2000.000000\n",
       "max    755000.000000  5642.000000  2010.000000"
      ]
     },
     "execution_count": 2,
     "metadata": {},
     "output_type": "execute_result"
    }
   ],
   "source": [
    "df.describe()"
   ]
  },
  {
   "cell_type": "code",
   "execution_count": 3,
   "metadata": {},
   "outputs": [
    {
     "data": {
      "image/png": "[encoded data removed]",
      "text/plain": [
       "<Figure size 432x288 with 1 Axes>"
      ]
     },
     "metadata": {
      "needs_background": "light"
     },
     "output_type": "display_data"
    },
    {
     "data": {
      "image/png": "[encoded data removed]",
      "text/plain": [
       "<Figure size 432x288 with 1 Axes>"
      ]
     },
     "metadata": {
      "needs_background": "light"
     },
     "output_type": "display_data"
    }
   ],
   "source": [
    "#ヒストグラム\n",
    "plt.title(\"Above grade (ground) living area square feet\")\n",
    "plt.hist(df.GrLivArea, bins=50)\n",
    "plt.show()\n",
    "\n",
    "plt.title(\"Original construction date\")\n",
    "plt.hist(df.YearBuilt, bins=50)\n",
    "plt.show()"
   ]
  },
  {
   "cell_type": "code",
   "execution_count": 4,
   "metadata": {},
   "outputs": [
    {
     "data": {
      "image/png": "[encoded data removed]",
      "text/plain": [
       "<Figure size 432x288 with 1 Axes>"
      ]
     },
     "metadata": {
      "needs_background": "light"
     },
     "output_type": "display_data"
    },
    {
     "data": {
      "image/png": "[encoded data removed]",
      "text/plain": [
       "<Figure size 432x288 with 1 Axes>"
      ]
     },
     "metadata": {
      "needs_background": "light"
     },
     "output_type": "display_data"
    }
   ],
   "source": [
    "#対数変換後\n",
    "plt.title(\"Above grade (ground) living area square feet\")\n",
    "plt.hist(np.log(df.GrLivArea.values), bins=50)\n",
    "plt.show()\n",
    "\n",
    "plt.title(\"Original construction date\")\n",
    "plt.hist(np.log(df.YearBuilt.values), bins=50)\n",
    "plt.show()"
   ]
  },
  {
   "cell_type": "code",
   "execution_count": 20,
   "metadata": {},
   "outputs": [
    {
     "data": {
      "text/html": [
       "<div>\n",
       "<style scoped>\n",
       "    .dataframe tbody tr th:only-of-type {\n",
       "        vertical-align: middle;\n",
       "    }\n",
       "\n",
       "    .dataframe tbody tr th {\n",
       "        vertical-align: top;\n",
       "    }\n",
       "\n",
       "    .dataframe thead th {\n",
       "        text-align: right;\n",
       "    }\n",
       "</style>\n",
       "<table border=\"1\" class=\"dataframe\">\n",
       "  <thead>\n",
       "    <tr style=\"text-align: right;\">\n",
       "      <th></th>\n",
       "      <th>SalePrice</th>\n",
       "      <th>GrLivArea</th>\n",
       "      <th>YearBuilt</th>\n",
       "    </tr>\n",
       "  </thead>\n",
       "  <tbody>\n",
       "    <tr>\n",
       "      <th>SalePrice</th>\n",
       "      <td>1.000000</td>\n",
       "      <td>0.708624</td>\n",
       "      <td>0.522897</td>\n",
       "    </tr>\n",
       "    <tr>\n",
       "      <th>GrLivArea</th>\n",
       "      <td>0.708624</td>\n",
       "      <td>1.000000</td>\n",
       "      <td>0.199010</td>\n",
       "    </tr>\n",
       "    <tr>\n",
       "      <th>YearBuilt</th>\n",
       "      <td>0.522897</td>\n",
       "      <td>0.199010</td>\n",
       "      <td>1.000000</td>\n",
       "    </tr>\n",
       "  </tbody>\n",
       "</table>\n",
       "</div>"
      ],
      "text/plain": [
       "           SalePrice  GrLivArea  YearBuilt\n",
       "SalePrice   1.000000   0.708624   0.522897\n",
       "GrLivArea   0.708624   1.000000   0.199010\n",
       "YearBuilt   0.522897   0.199010   1.000000"
      ]
     },
     "execution_count": 20,
     "metadata": {},
     "output_type": "execute_result"
    }
   ],
   "source": [
    "#相関行列\n",
    "df.corr()"
   ]
  },
  {
   "cell_type": "code",
   "execution_count": 21,
   "metadata": {},
   "outputs": [
    {
     "data": {
      "text/plain": [
       "[]"
      ]
     },
     "execution_count": 21,
     "metadata": {},
     "output_type": "execute_result"
    },
    {
     "data": {
      "image/png": "[encoded data removed]",
      "text/plain": [
       "<Figure size 432x288 with 1 Axes>"
      ]
     },
     "metadata": {
      "needs_background": "light"
     },
     "output_type": "display_data"
    }
   ],
   "source": [
    "#散布図\n",
    "plt.scatter(df.GrLivArea, df.SalePrice,)\n",
    "plt.plot()\n"
   ]
  },
  {
   "cell_type": "code",
   "execution_count": 22,
   "metadata": {},
   "outputs": [
    {
     "data": {
      "text/plain": [
       "[]"
      ]
     },
     "execution_count": 22,
     "metadata": {},
     "output_type": "execute_result"
    },
    {
     "data": {
      "image/png": "[encoded data removed]",
      "text/plain": [
       "<Figure size 432x288 with 1 Axes>"
      ]
     },
     "metadata": {
      "needs_background": "light"
     },
     "output_type": "display_data"
    }
   ],
   "source": [
    "plt.scatter(df.YearBuilt, df.SalePrice)\n",
    "plt.plot()"
   ]
  },
  {
   "cell_type": "markdown",
   "metadata": {},
   "source": [
    "#### 【データの外観】\n",
    "- 欠損値は無し\n",
    "- ターゲットとの相関は２特徴量共にある程度ある\n",
    "- 特徴量同士の相関は低い\n",
    "\n",
    "#### 前処理・標準化\n"
   ]
  },
  {
   "cell_type": "code",
   "execution_count": 5,
   "metadata": {},
   "outputs": [
    {
     "name": "stdout",
     "output_type": "stream",
     "text": [
      "X_train (1095, 2)\n",
      "X_test (365, 2)\n",
      "Y_train (1095,)\n",
      "Y_test (365,)\n"
     ]
    }
   ],
   "source": [
    "from sklearn.model_selection import train_test_split\n",
    "\n",
    "X = df.iloc[:,[1,2]].values\n",
    "y = df[\"SalePrice\"].values\n",
    "\n",
    "(X_train, X_test, y_train, y_test) = train_test_split(X, y, test_size=0.25, random_state=0,) #シードも設定しておく\n",
    "\n",
    "print(\"X_train\", np.shape(X_train))\n",
    "print(\"X_test\", np.shape(X_test))\n",
    "print(\"Y_train\", np.shape(y_train))\n",
    "print(\"Y_test\", np.shape(y_test))"
   ]
  },
  {
   "cell_type": "code",
   "execution_count": 7,
   "metadata": {},
   "outputs": [],
   "source": [
    "#from sklearn.preprocessing import StandardScaler\n",
    "\n",
    "#X_trainのパラメータを計算\n",
    "#sc = StandardScaler()\n",
    "#sc.fit(X_train)\n",
    "#print(\"相対的なスケーリング\", sc.scale_)\n",
    "#print(\"平均値\", sc.mean_)\n",
    "#print(\"分散値\", sc.var_)\n",
    "#print(\"サンプル数\", sc.n_samples_seen_)"
   ]
  },
  {
   "cell_type": "code",
   "execution_count": 6,
   "metadata": {},
   "outputs": [],
   "source": [
    "#対数変換のみやる\n",
    "X_train_sc = np.log(X_train)\n",
    "X_test_sc = np.log(X_test)"
   ]
  },
  {
   "cell_type": "markdown",
   "metadata": {},
   "source": [
    "### 【問題２】線形回帰による推定と評価\n",
    "---\n"
   ]
  },
  {
   "cell_type": "code",
   "execution_count": 9,
   "metadata": {},
   "outputs": [
    {
     "name": "stdout",
     "output_type": "stream",
     "text": [
      "coefficient =  145162.87560905804\n",
      "intercept =  -15688277.086604863\n"
     ]
    }
   ],
   "source": [
    "#線形回帰による推定\n",
    "\n",
    "from sklearn.linear_model import LinearRegression\n",
    "reg = LinearRegression()\n",
    "reg.fit(X_train_sc, y_train)\n",
    "\n",
    "print('coefficient = ', reg.coef_[0]) # 説明変数の係数を出力\n",
    "print('intercept = ', reg.intercept_) # 切片を出力"
   ]
  },
  {
   "cell_type": "code",
   "execution_count": 10,
   "metadata": {},
   "outputs": [
    {
     "name": "stdout",
     "output_type": "stream",
     "text": [
      "MSE train data:  2299965422.2012014\n",
      "MSE test data :  2707945724.1496553\n"
     ]
    }
   ],
   "source": [
    "#平均二乗誤差による評価\n",
    "\n",
    "from sklearn.metrics import mean_squared_error\n",
    "\n",
    "y_train_pred = reg.predict(X_train_sc) # 学習データに対する目的変数を予測\n",
    "y_pred = reg.predict(X_test_sc)   # 検証データに対する目的変数を予測\n",
    "\n",
    "print('MSE train data: ', mean_squared_error(y_train, y_train_pred)) # 学習データを用いたときの平均二乗誤差を出力\n",
    "print('MSE test data : ', mean_squared_error(y_test, y_pred))         # 検証データを用いたときの平均二乗誤差を出力\n",
    "\n",
    "reg_list = [mean_squared_error(y_train, y_train_pred), \n",
    "           mean_squared_error(y_test, y_pred),\n",
    "           mean_squared_error(y_train, y_train_pred) / mean_squared_error(y_test, y_pred)]"
   ]
  },
  {
   "cell_type": "markdown",
   "metadata": {},
   "source": [
    "学習データ、検証データそれぞれを用いたときの平均二乗誤差を比較すると、検証データを用いたときの誤差の方が大きいことがわかる。このことから、構築した線形モデルは学習データにフィットしすぎている（過学習）ことが示唆される。\n",
    "\n",
    "### 【問題3】手法の比較\n",
    "---"
   ]
  },
  {
   "cell_type": "code",
   "execution_count": 11,
   "metadata": {},
   "outputs": [
    {
     "name": "stdout",
     "output_type": "stream",
     "text": [
      "MSE train data:  6540718821.74812\n",
      "MSE test data :  6962359707.7352085\n"
     ]
    }
   ],
   "source": [
    "#SVR\n",
    "from sklearn.svm import SVR\n",
    "\n",
    "svr = SVR()\n",
    "svr.fit(X_train, y_train)\n",
    "\n",
    "y_train_pred = svr.predict(X_train_sc) # 学習データに対する目的変数を予測\n",
    "y_pred = svr.predict(X_test_sc)   # 検証データに対する目的変数を予測\n",
    "\n",
    "print('MSE train data: ', mean_squared_error(y_train, y_train_pred)) # 学習データを用いたときの平均二乗誤差を出力\n",
    "print('MSE test data : ', mean_squared_error(y_test, y_pred))         # 検証データを用いたときの平均二乗誤差を出力\n",
    "\n",
    "svr_list = [mean_squared_error(y_train, y_train_pred), \n",
    "           mean_squared_error(y_test, y_pred),\n",
    "           mean_squared_error(y_train, y_train_pred)/ mean_squared_error(y_test, y_pred)]"
   ]
  },
  {
   "cell_type": "code",
   "execution_count": 12,
   "metadata": {},
   "outputs": [
    {
     "name": "stdout",
     "output_type": "stream",
     "text": [
      "MSE train data:  20784764525.080364\n",
      "MSE test data :  21360603228.424656\n"
     ]
    }
   ],
   "source": [
    "#DecisionTreeRegressor\n",
    "from sklearn.tree import DecisionTreeRegressor\n",
    "\n",
    "dtr = DecisionTreeRegressor()\n",
    "dtr.fit(X_train, y_train)\n",
    "\n",
    "y_train_pred = dtr.predict(X_train_sc) # 学習データに対する目的変数を予測\n",
    "y_pred = dtr.predict(X_test_sc)   # 検証データに対する目的変数を予測\n",
    "\n",
    "print('MSE train data: ', mean_squared_error(y_train, y_train_pred)) # 学習データを用いたときの平均二乗誤差を出力\n",
    "print('MSE test data : ', mean_squared_error(y_test, y_pred))         # 検証データを用いたときの平均二乗誤差を出力\n",
    "\n",
    "dtr_list = [mean_squared_error(y_train, y_train_pred), \n",
    "           mean_squared_error(y_test, y_pred),\n",
    "           mean_squared_error(y_train, y_train_pred) / mean_squared_error(y_test, y_pred)]"
   ]
  },
  {
   "cell_type": "code",
   "execution_count": 13,
   "metadata": {},
   "outputs": [
    {
     "name": "stdout",
     "output_type": "stream",
     "text": [
      "MSE train data:  23461343077.212055\n",
      "MSE test data :  24053154869.19123\n"
     ]
    },
    {
     "name": "stderr",
     "output_type": "stream",
     "text": [
      "/Users/ishizucat/.pyenv/versions/anaconda3-5.3.1/envs/term3/lib/python3.7/site-packages/sklearn/ensemble/weight_boosting.py:29: DeprecationWarning: numpy.core.umath_tests is an internal NumPy module and should not be imported. It will be removed in a future NumPy release.\n",
      "  from numpy.core.umath_tests import inner1d\n"
     ]
    }
   ],
   "source": [
    "#RandomForestRegressor\n",
    "from sklearn.ensemble import RandomForestRegressor\n",
    "\n",
    "rfr = RandomForestRegressor()\n",
    "rfr.fit(X_train, y_train)\n",
    "\n",
    "y_train_pred = rfr.predict(X_train_sc) # 学習データに対する目的変数を予測\n",
    "y_pred = rfr.predict(X_test_sc)   # 検証データに対する目的変数を予測\n",
    "\n",
    "print('MSE train data: ', mean_squared_error(y_train, y_train_pred)) # 学習データを用いたときの平均二乗誤差を出力\n",
    "print('MSE test data : ', mean_squared_error(y_test, y_pred))         # 検証データを用いたときの平均二乗誤差を出力\n",
    "\n",
    "rfr_list = [mean_squared_error(y_train, y_train_pred), \n",
    "           mean_squared_error(y_test, y_pred),\n",
    "           mean_squared_error(y_train, y_train_pred) / mean_squared_error(y_test, y_pred)]"
   ]
  },
  {
   "cell_type": "code",
   "execution_count": 14,
   "metadata": {},
   "outputs": [
    {
     "data": {
      "text/html": [
       "<div>\n",
       "<style scoped>\n",
       "    .dataframe tbody tr th:only-of-type {\n",
       "        vertical-align: middle;\n",
       "    }\n",
       "\n",
       "    .dataframe tbody tr th {\n",
       "        vertical-align: top;\n",
       "    }\n",
       "\n",
       "    .dataframe thead th {\n",
       "        text-align: right;\n",
       "    }\n",
       "</style>\n",
       "<table border=\"1\" class=\"dataframe\">\n",
       "  <thead>\n",
       "    <tr style=\"text-align: right;\">\n",
       "      <th></th>\n",
       "      <th>LinearRegression</th>\n",
       "      <th>SVR</th>\n",
       "      <th>DecisionTreeRegressor</th>\n",
       "      <th>RandomForestRegressor</th>\n",
       "    </tr>\n",
       "  </thead>\n",
       "  <tbody>\n",
       "    <tr>\n",
       "      <th>MSE train data</th>\n",
       "      <td>2.299965e+09</td>\n",
       "      <td>6.540719e+09</td>\n",
       "      <td>2.078476e+10</td>\n",
       "      <td>2.346134e+10</td>\n",
       "    </tr>\n",
       "    <tr>\n",
       "      <th>MSE test data</th>\n",
       "      <td>2.707946e+09</td>\n",
       "      <td>6.962360e+09</td>\n",
       "      <td>2.136060e+10</td>\n",
       "      <td>2.405315e+10</td>\n",
       "    </tr>\n",
       "    <tr>\n",
       "      <th>MSE train / MSE test</th>\n",
       "      <td>8.493396e-01</td>\n",
       "      <td>9.394399e-01</td>\n",
       "      <td>9.730420e-01</td>\n",
       "      <td>9.753957e-01</td>\n",
       "    </tr>\n",
       "  </tbody>\n",
       "</table>\n",
       "</div>"
      ],
      "text/plain": [
       "                      LinearRegression           SVR  DecisionTreeRegressor  \\\n",
       "MSE train data            2.299965e+09  6.540719e+09           2.078476e+10   \n",
       "MSE test data             2.707946e+09  6.962360e+09           2.136060e+10   \n",
       "MSE train / MSE test      8.493396e-01  9.394399e-01           9.730420e-01   \n",
       "\n",
       "                      RandomForestRegressor  \n",
       "MSE train data                 2.346134e+10  \n",
       "MSE test data                  2.405315e+10  \n",
       "MSE train / MSE test           9.753957e-01  "
      ]
     },
     "execution_count": 14,
     "metadata": {},
     "output_type": "execute_result"
    }
   ],
   "source": [
    "score_dict = {\"LinearRegression\":reg_list, \"SVR\": svr_list, \"DecisionTreeRegressor\": dtr_list, \"RandomForestRegressor\": rfr_list,}\n",
    "pd.DataFrame(score_dict, index=[\"MSE train data\", \"MSE test data\", \"MSE train / MSE test\"])"
   ]
  },
  {
   "cell_type": "markdown",
   "metadata": {},
   "source": [
    "#### 指標の考察\n",
    "\n",
    "- 平均二乗誤差の差を見ると、SVRが最も差が大きく、線形回帰が最も差が小さいことがわかる。\n",
    "- どの手法に関しても過学習である\n",
    "\n",
    "\n",
    "#### 可視化\n",
    "\n",
    "特徴量が複数だと可視化できないので、GrLivAreaのみで回帰を可視化してみる。"
   ]
  },
  {
   "cell_type": "code",
   "execution_count": 16,
   "metadata": {},
   "outputs": [],
   "source": [
    "X1 = df.iloc[:,[1]].values\n",
    "y = df[\"SalePrice\"].values\n",
    "\n",
    "(X1_train, X1_test, y_train, y_test) = train_test_split(X1, y, test_size=0.25, random_state=0,) #シードも設定しておく\n",
    "\n",
    "#sc1 = StandardScaler()\n",
    "#sc1.fit(X1_train)\n",
    "X1_train_sc = np.log(X1_train)\n",
    "X1_test_sc = np.log(X1_test)"
   ]
  },
  {
   "cell_type": "code",
   "execution_count": 18,
   "metadata": {},
   "outputs": [
    {
     "name": "stdout",
     "output_type": "stream",
     "text": [
      "coefficient =  165849.78201494433\n",
      "intercept =  -1025357.6986526868\n"
     ]
    },
    {
     "data": {
      "image/png": "[encoded data removed]",
      "text/plain": [
       "<Figure size 432x288 with 1 Axes>"
      ]
     },
     "metadata": {
      "needs_background": "light"
     },
     "output_type": "display_data"
    }
   ],
   "source": [
    "reg1 = LinearRegression()\n",
    "reg1.fit(X1_train_sc, y_train)\n",
    "\n",
    "print('coefficient = ', reg1.coef_[0]) # 説明変数の係数を出力\n",
    "print('intercept = ', reg1.intercept_) # 切片を出力\n",
    "\n",
    "plt.scatter(np.log(X1), y)\n",
    "plt.plot(np.log(X1), reg1.predict(np.log(X1)), color=\"r\")\n",
    "plt.show()"
   ]
  },
  {
   "cell_type": "code",
   "execution_count": 21,
   "metadata": {},
   "outputs": [
    {
     "name": "stdout",
     "output_type": "stream",
     "text": [
      "MSE train data:  6528648461.484828\n",
      "MSE test data :  6950542862.129185\n"
     ]
    },
    {
     "data": {
      "image/png": "[encoded data removed]",
      "text/plain": [
       "<Figure size 432x288 with 1 Axes>"
      ]
     },
     "metadata": {
      "needs_background": "light"
     },
     "output_type": "display_data"
    }
   ],
   "source": [
    "#SVR\n",
    "svr1 = SVR()\n",
    "svr1.fit(X1_train_sc, y_train)\n",
    "\n",
    "y1_train_pred = svr1.predict(X1_train_sc) # 学習データに対する目的変数を予測\n",
    "y1_pred = svr1.predict(X1_test_sc)   # 検証データに対する目的変数を予測\n",
    "\n",
    "print('MSE train data: ', mean_squared_error(y_train, y1_train_pred)) # 学習データを用いたときの平均二乗誤差を出力\n",
    "print('MSE test data : ', mean_squared_error(y_test, y1_pred))         # 検証データを用いたときの平均二乗誤差を出力\n",
    "\n",
    "#作図\n",
    "plt.scatter(np.log(X1), y)\n",
    "plt.plot(np.log(X1), svr1.predict(np.log(X1)), color=\"r\")\n",
    "plt.show()"
   ]
  },
  {
   "cell_type": "code",
   "execution_count": 25,
   "metadata": {},
   "outputs": [
    {
     "name": "stdout",
     "output_type": "stream",
     "text": [
      "MSE train data:  26211606925.62831\n",
      "MSE test data :  26818586066.232876\n"
     ]
    },
    {
     "data": {
      "image/png": "[encoded data removed]",
      "text/plain": [
       "<Figure size 1008x432 with 1 Axes>"
      ]
     },
     "metadata": {
      "needs_background": "light"
     },
     "output_type": "display_data"
    }
   ],
   "source": [
    "#DecisionTreeRegressor\n",
    "dtr1 = DecisionTreeRegressor()\n",
    "dtr1.fit(X1_train, y_train)\n",
    "\n",
    "y1_train_pred = dtr1.predict(X1_train_sc) # 学習データに対する目的変数を予測\n",
    "y1_pred = dtr1.predict(X1_test_sc)   # 検証データに対する目的変数を予測\n",
    "\n",
    "print('MSE train data: ', mean_squared_error(y_train, y1_train_pred)) # 学習データを用いたときの平均二乗誤差を出力\n",
    "print('MSE test data : ', mean_squared_error(y_test, y1_pred))         # 検証データを用いたときの平均二乗誤差を出力\n",
    "\n",
    "#作図\n",
    "\n",
    "\n",
    "plt.figure(figsize=(14,6))\n",
    "sort_idx = X1.flatten().argsort()\n",
    "\n",
    "plt.scatter(X1[sort_idx], y[sort_idx])\n",
    "plt.plot(X1[sort_idx], dtr1.predict(X1[sort_idx]), color=\"r\")\n",
    "plt.show()\n"
   ]
  },
  {
   "cell_type": "code",
   "execution_count": 26,
   "metadata": {},
   "outputs": [
    {
     "name": "stdout",
     "output_type": "stream",
     "text": [
      "MSE train data:  24493571305.46393\n",
      "MSE test data :  4150338868.7294536\n"
     ]
    },
    {
     "data": {
      "image/png": "[encoded data removed]",
      "text/plain": [
       "<Figure size 1008x432 with 1 Axes>"
      ]
     },
     "metadata": {
      "needs_background": "light"
     },
     "output_type": "display_data"
    }
   ],
   "source": [
    "#RandomForestRegressor\n",
    "rfr1 = RandomForestRegressor()\n",
    "rfr1.fit(X1_train, y_train)\n",
    "\n",
    "y1_train_pred = rfr1.predict(X1_train_sc) # 学習データに対する目的変数を予測\n",
    "y1_pred = rfr1.predict(X1_test)   # 検証データに対する目的変数を予測\n",
    "\n",
    "print('MSE train data: ', mean_squared_error(y_train, y1_train_pred)) # 学習データを用いたときの平均二乗誤差を出力\n",
    "print('MSE test data : ', mean_squared_error(y_test, y1_pred))         # 検証データを用いたときの平均二乗誤差を出力\n",
    "\n",
    "plt.figure(figsize=(14,6))\n",
    "sort_idx = X1.flatten().argsort()\n",
    "\n",
    "plt.scatter(X1[sort_idx], y[sort_idx])\n",
    "plt.plot(X1[sort_idx], rfr1.predict(X1[sort_idx]), color=\"r\")\n",
    "plt.show()"
   ]
  },
  {
   "cell_type": "markdown",
   "metadata": {},
   "source": [
    "【可視化の考察】\n",
    "\n",
    "- 線形回帰学習データに対してモデルとしての直線を描いている\n",
    "- 決定木とランダムフォレストは学習データに対して過度にフィッティングしており、グラフが複雑な形となっている\n",
    "\n",
    "- 今回、特徴量は１種類で行なっているので可視化が可能となっているが、実務的には多数の変数を扱うので、図示は難しい。MSEの値を判断基準としてモデルを改良していく。\n",
    "\n",
    "- 決定木やランダムフォレストに関しては、学習データを変えてモデルを複数作成し、それらの平均を取ることで精度を上げていくやり方がある。"
   ]
  },
  {
   "cell_type": "code",
   "execution_count": null,
   "metadata": {},
   "outputs": [],
   "source": []
  }
 ],
 "metadata": {
  "kernelspec": {
   "display_name": "Python 3",
   "language": "python",
   "name": "python3"
  },
  "language_info": {
   "codemirror_mode": {
    "name": "ipython",
    "version": 3
   },
   "file_extension": ".py",
   "mimetype": "text/x-python",
   "name": "python",
   "nbconvert_exporter": "python",
   "pygments_lexer": "ipython3",
   "version": "3.7.2"
  },
  "toc": {
   "base_numbering": 1,
   "nav_menu": {},
   "number_sections": true,
   "sideBar": true,
   "skip_h1_title": false,
   "title_cell": "Table of Contents",
   "title_sidebar": "Contents",
   "toc_cell": false,
   "toc_position": {},
   "toc_section_display": true,
   "toc_window_display": true
  },
  "varInspector": {
   "cols": {
    "lenName": 16,
    "lenType": 16,
    "lenVar": 40
   },
   "kernels_config": {
    "python": {
     "delete_cmd_postfix": "",
     "delete_cmd_prefix": "del ",
     "library": "var_list.py",
     "varRefreshCmd": "print(var_dic_list())"
    },
    "r": {
     "delete_cmd_postfix": ") ",
     "delete_cmd_prefix": "rm(",
     "library": "var_list.r",
     "varRefreshCmd": "cat(var_dic_list()) "
    }
   },
   "types_to_exclude": [
    "module",
    "function",
    "builtin_function_or_method",
    "instance",
    "_Feature"
   ],
   "window_display": false
  }
 },
 "nbformat": 4,
 "nbformat_minor": 2
}
