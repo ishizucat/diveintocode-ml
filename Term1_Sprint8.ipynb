{
 "cells": [
  {
   "cell_type": "markdown",
   "metadata": {},
   "source": [
    "# Term1 Sprint アンサンブル学習　\n"
   ]
  },
  {
   "cell_type": "code",
   "execution_count": 1,
   "metadata": {
    "cell_style": "split"
   },
   "outputs": [],
   "source": [
    "#基本ライブラリ\n",
    "import pickle\n",
    "import numpy as np\n",
    "import matplotlib.pyplot as plt\n",
    "import pandas as pd\n",
    "import seaborn as sns\n",
    "%matplotlib inline"
   ]
  },
  {
   "cell_type": "code",
   "execution_count": 2,
   "metadata": {
    "cell_style": "split"
   },
   "outputs": [],
   "source": [
    "#scikit-learnライブラリ\n",
    "from sklearn.preprocessing import StandardScaler\n",
    "from sklearn import metrics\n",
    "from sklearn.model_selection import train_test_split\n",
    "\n",
    "#データセット\n",
    "#from sklearn.datasets import load_iris"
   ]
  },
  {
   "cell_type": "code",
   "execution_count": 32,
   "metadata": {},
   "outputs": [],
   "source": [
    "#今回用\n",
    "from tqdm import tqdm_notebook as tqdm\n",
    "import time"
   ]
  },
  {
   "cell_type": "markdown",
   "metadata": {},
   "source": [
    "### データセット\n",
    "\n",
    "https://www.kaggle.com/c/house-prices-advanced-regression-techniques/data\n",
    "\n",
    "この中のtrain.csvをダウンロードし、目的変数としてSalePrice、説明変数として、GrLivAreaとYearBuiltを使う。"
   ]
  },
  {
   "cell_type": "code",
   "execution_count": 3,
   "metadata": {},
   "outputs": [
    {
     "data": {
      "text/html": [
       "<div>\n",
       "<style scoped>\n",
       "    .dataframe tbody tr th:only-of-type {\n",
       "        vertical-align: middle;\n",
       "    }\n",
       "\n",
       "    .dataframe tbody tr th {\n",
       "        vertical-align: top;\n",
       "    }\n",
       "\n",
       "    .dataframe thead th {\n",
       "        text-align: right;\n",
       "    }\n",
       "</style>\n",
       "<table border=\"1\" class=\"dataframe\">\n",
       "  <thead>\n",
       "    <tr style=\"text-align: right;\">\n",
       "      <th></th>\n",
       "      <th>MSSubClass</th>\n",
       "      <th>MSZoning</th>\n",
       "      <th>LotFrontage</th>\n",
       "      <th>LotArea</th>\n",
       "      <th>Street</th>\n",
       "      <th>Alley</th>\n",
       "      <th>LotShape</th>\n",
       "      <th>LandContour</th>\n",
       "      <th>Utilities</th>\n",
       "      <th>LotConfig</th>\n",
       "      <th>...</th>\n",
       "      <th>PoolArea</th>\n",
       "      <th>PoolQC</th>\n",
       "      <th>Fence</th>\n",
       "      <th>MiscFeature</th>\n",
       "      <th>MiscVal</th>\n",
       "      <th>MoSold</th>\n",
       "      <th>YrSold</th>\n",
       "      <th>SaleType</th>\n",
       "      <th>SaleCondition</th>\n",
       "      <th>SalePrice</th>\n",
       "    </tr>\n",
       "    <tr>\n",
       "      <th>Id</th>\n",
       "      <th></th>\n",
       "      <th></th>\n",
       "      <th></th>\n",
       "      <th></th>\n",
       "      <th></th>\n",
       "      <th></th>\n",
       "      <th></th>\n",
       "      <th></th>\n",
       "      <th></th>\n",
       "      <th></th>\n",
       "      <th></th>\n",
       "      <th></th>\n",
       "      <th></th>\n",
       "      <th></th>\n",
       "      <th></th>\n",
       "      <th></th>\n",
       "      <th></th>\n",
       "      <th></th>\n",
       "      <th></th>\n",
       "      <th></th>\n",
       "      <th></th>\n",
       "    </tr>\n",
       "  </thead>\n",
       "  <tbody>\n",
       "    <tr>\n",
       "      <th>1</th>\n",
       "      <td>60</td>\n",
       "      <td>RL</td>\n",
       "      <td>65.0</td>\n",
       "      <td>8450</td>\n",
       "      <td>Pave</td>\n",
       "      <td>NaN</td>\n",
       "      <td>Reg</td>\n",
       "      <td>Lvl</td>\n",
       "      <td>AllPub</td>\n",
       "      <td>Inside</td>\n",
       "      <td>...</td>\n",
       "      <td>0</td>\n",
       "      <td>NaN</td>\n",
       "      <td>NaN</td>\n",
       "      <td>NaN</td>\n",
       "      <td>0</td>\n",
       "      <td>2</td>\n",
       "      <td>2008</td>\n",
       "      <td>WD</td>\n",
       "      <td>Normal</td>\n",
       "      <td>208500</td>\n",
       "    </tr>\n",
       "    <tr>\n",
       "      <th>2</th>\n",
       "      <td>20</td>\n",
       "      <td>RL</td>\n",
       "      <td>80.0</td>\n",
       "      <td>9600</td>\n",
       "      <td>Pave</td>\n",
       "      <td>NaN</td>\n",
       "      <td>Reg</td>\n",
       "      <td>Lvl</td>\n",
       "      <td>AllPub</td>\n",
       "      <td>FR2</td>\n",
       "      <td>...</td>\n",
       "      <td>0</td>\n",
       "      <td>NaN</td>\n",
       "      <td>NaN</td>\n",
       "      <td>NaN</td>\n",
       "      <td>0</td>\n",
       "      <td>5</td>\n",
       "      <td>2007</td>\n",
       "      <td>WD</td>\n",
       "      <td>Normal</td>\n",
       "      <td>181500</td>\n",
       "    </tr>\n",
       "    <tr>\n",
       "      <th>3</th>\n",
       "      <td>60</td>\n",
       "      <td>RL</td>\n",
       "      <td>68.0</td>\n",
       "      <td>11250</td>\n",
       "      <td>Pave</td>\n",
       "      <td>NaN</td>\n",
       "      <td>IR1</td>\n",
       "      <td>Lvl</td>\n",
       "      <td>AllPub</td>\n",
       "      <td>Inside</td>\n",
       "      <td>...</td>\n",
       "      <td>0</td>\n",
       "      <td>NaN</td>\n",
       "      <td>NaN</td>\n",
       "      <td>NaN</td>\n",
       "      <td>0</td>\n",
       "      <td>9</td>\n",
       "      <td>2008</td>\n",
       "      <td>WD</td>\n",
       "      <td>Normal</td>\n",
       "      <td>223500</td>\n",
       "    </tr>\n",
       "    <tr>\n",
       "      <th>4</th>\n",
       "      <td>70</td>\n",
       "      <td>RL</td>\n",
       "      <td>60.0</td>\n",
       "      <td>9550</td>\n",
       "      <td>Pave</td>\n",
       "      <td>NaN</td>\n",
       "      <td>IR1</td>\n",
       "      <td>Lvl</td>\n",
       "      <td>AllPub</td>\n",
       "      <td>Corner</td>\n",
       "      <td>...</td>\n",
       "      <td>0</td>\n",
       "      <td>NaN</td>\n",
       "      <td>NaN</td>\n",
       "      <td>NaN</td>\n",
       "      <td>0</td>\n",
       "      <td>2</td>\n",
       "      <td>2006</td>\n",
       "      <td>WD</td>\n",
       "      <td>Abnorml</td>\n",
       "      <td>140000</td>\n",
       "    </tr>\n",
       "    <tr>\n",
       "      <th>5</th>\n",
       "      <td>60</td>\n",
       "      <td>RL</td>\n",
       "      <td>84.0</td>\n",
       "      <td>14260</td>\n",
       "      <td>Pave</td>\n",
       "      <td>NaN</td>\n",
       "      <td>IR1</td>\n",
       "      <td>Lvl</td>\n",
       "      <td>AllPub</td>\n",
       "      <td>FR2</td>\n",
       "      <td>...</td>\n",
       "      <td>0</td>\n",
       "      <td>NaN</td>\n",
       "      <td>NaN</td>\n",
       "      <td>NaN</td>\n",
       "      <td>0</td>\n",
       "      <td>12</td>\n",
       "      <td>2008</td>\n",
       "      <td>WD</td>\n",
       "      <td>Normal</td>\n",
       "      <td>250000</td>\n",
       "    </tr>\n",
       "  </tbody>\n",
       "</table>\n",
       "<p>5 rows × 80 columns</p>\n",
       "</div>"
      ],
      "text/plain": [
       "    MSSubClass MSZoning  LotFrontage  LotArea Street Alley LotShape  \\\n",
       "Id                                                                    \n",
       "1           60       RL         65.0     8450   Pave   NaN      Reg   \n",
       "2           20       RL         80.0     9600   Pave   NaN      Reg   \n",
       "3           60       RL         68.0    11250   Pave   NaN      IR1   \n",
       "4           70       RL         60.0     9550   Pave   NaN      IR1   \n",
       "5           60       RL         84.0    14260   Pave   NaN      IR1   \n",
       "\n",
       "   LandContour Utilities LotConfig    ...     PoolArea PoolQC Fence  \\\n",
       "Id                                    ...                             \n",
       "1          Lvl    AllPub    Inside    ...            0    NaN   NaN   \n",
       "2          Lvl    AllPub       FR2    ...            0    NaN   NaN   \n",
       "3          Lvl    AllPub    Inside    ...            0    NaN   NaN   \n",
       "4          Lvl    AllPub    Corner    ...            0    NaN   NaN   \n",
       "5          Lvl    AllPub       FR2    ...            0    NaN   NaN   \n",
       "\n",
       "   MiscFeature MiscVal MoSold  YrSold  SaleType  SaleCondition  SalePrice  \n",
       "Id                                                                         \n",
       "1          NaN       0      2    2008        WD         Normal     208500  \n",
       "2          NaN       0      5    2007        WD         Normal     181500  \n",
       "3          NaN       0      9    2008        WD         Normal     223500  \n",
       "4          NaN       0      2    2006        WD        Abnorml     140000  \n",
       "5          NaN       0     12    2008        WD         Normal     250000  \n",
       "\n",
       "[5 rows x 80 columns]"
      ]
     },
     "execution_count": 3,
     "metadata": {},
     "output_type": "execute_result"
    }
   ],
   "source": [
    "df_0 = pd.read_csv('../HousePrice_train.csv', index_col=0)\n",
    "df_0.head()"
   ]
  },
  {
   "cell_type": "code",
   "execution_count": 4,
   "metadata": {},
   "outputs": [
    {
     "data": {
      "text/html": [
       "<div>\n",
       "<style scoped>\n",
       "    .dataframe tbody tr th:only-of-type {\n",
       "        vertical-align: middle;\n",
       "    }\n",
       "\n",
       "    .dataframe tbody tr th {\n",
       "        vertical-align: top;\n",
       "    }\n",
       "\n",
       "    .dataframe thead th {\n",
       "        text-align: right;\n",
       "    }\n",
       "</style>\n",
       "<table border=\"1\" class=\"dataframe\">\n",
       "  <thead>\n",
       "    <tr style=\"text-align: right;\">\n",
       "      <th></th>\n",
       "      <th>GrLivArea</th>\n",
       "      <th>YearBuilt</th>\n",
       "      <th>SalePrice</th>\n",
       "    </tr>\n",
       "    <tr>\n",
       "      <th>Id</th>\n",
       "      <th></th>\n",
       "      <th></th>\n",
       "      <th></th>\n",
       "    </tr>\n",
       "  </thead>\n",
       "  <tbody>\n",
       "    <tr>\n",
       "      <th>1</th>\n",
       "      <td>1710</td>\n",
       "      <td>2003</td>\n",
       "      <td>208500</td>\n",
       "    </tr>\n",
       "    <tr>\n",
       "      <th>2</th>\n",
       "      <td>1262</td>\n",
       "      <td>1976</td>\n",
       "      <td>181500</td>\n",
       "    </tr>\n",
       "    <tr>\n",
       "      <th>3</th>\n",
       "      <td>1786</td>\n",
       "      <td>2001</td>\n",
       "      <td>223500</td>\n",
       "    </tr>\n",
       "    <tr>\n",
       "      <th>4</th>\n",
       "      <td>1717</td>\n",
       "      <td>1915</td>\n",
       "      <td>140000</td>\n",
       "    </tr>\n",
       "    <tr>\n",
       "      <th>5</th>\n",
       "      <td>2198</td>\n",
       "      <td>2000</td>\n",
       "      <td>250000</td>\n",
       "    </tr>\n",
       "  </tbody>\n",
       "</table>\n",
       "</div>"
      ],
      "text/plain": [
       "    GrLivArea  YearBuilt  SalePrice\n",
       "Id                                 \n",
       "1        1710       2003     208500\n",
       "2        1262       1976     181500\n",
       "3        1786       2001     223500\n",
       "4        1717       1915     140000\n",
       "5        2198       2000     250000"
      ]
     },
     "execution_count": 4,
     "metadata": {},
     "output_type": "execute_result"
    }
   ],
   "source": [
    "df = df_0.loc[:, [\"GrLivArea\",\"YearBuilt\",\"SalePrice\"]]\n",
    "df.head()"
   ]
  },
  {
   "cell_type": "code",
   "execution_count": 309,
   "metadata": {},
   "outputs": [
    {
     "name": "stdout",
     "output_type": "stream",
     "text": [
      "X_train (1168, 2)\n",
      "X_test (292, 2)\n",
      "Y_train (1168,)\n",
      "Y_test (292,)\n"
     ]
    }
   ],
   "source": [
    "#分割\n",
    "X = df.iloc[:,[0,1]].values\n",
    "y = df[\"SalePrice\"].values\n",
    "\n",
    "(X_train, X_test, y_train, y_test) = train_test_split(X, y, test_size=0.2, random_state=5,) #シードも設定しておく\n",
    "\n",
    "print(\"X_train\", np.shape(X_train))\n",
    "print(\"X_test\", np.shape(X_test))\n",
    "print(\"Y_train\", np.shape(y_train))\n",
    "print(\"Y_test\", np.shape(y_test))"
   ]
  },
  {
   "cell_type": "markdown",
   "metadata": {},
   "source": [
    "## 【問題１】ブレンディングのスクラッチ実装\n",
    "\n",
    "### ノーマルスコア"
   ]
  },
  {
   "cell_type": "code",
   "execution_count": 253,
   "metadata": {},
   "outputs": [
    {
     "name": "stdout",
     "output_type": "stream",
     "text": [
      "1791178375.2870069\n"
     ]
    }
   ],
   "source": [
    "#線形回帰モデル\n",
    "from sklearn.linear_model import LinearRegression\n",
    "\n",
    "reg = LinearRegression().fit(X_train, y_train)\n",
    "y_pred = reg.predict(X_test)\n",
    "\n",
    "print(metrics.mean_squared_error(y_test, y_pred))"
   ]
  },
  {
   "cell_type": "markdown",
   "metadata": {},
   "source": [
    "### ブレンド関数"
   ]
  },
  {
   "cell_type": "code",
   "execution_count": 86,
   "metadata": {},
   "outputs": [],
   "source": [
    "def model_blending(X_train, y_train, x_test, *args):\n",
    "    \"\"\"\n",
    "    ブレンディングを実行する関数\n",
    "    \n",
    "    ----\n",
    "    *args：任意数のモデルをインスタンス化した状態で渡す\n",
    "    \"\"\"\n",
    "    y_pred = np.empty((x_test.shape[0],1))\n",
    "    \n",
    "    for model in args:\n",
    "        clf = model.fit(X_train, y_train)\n",
    "        y_pred = np.concatenate([y_pred, clf.predict(x_test).reshape(-1,1)], 1)\n",
    "    \n",
    "    y_pred = y_pred[:, 1:]\n",
    "    \n",
    "    return y_pred.mean(axis=1)"
   ]
  },
  {
   "cell_type": "markdown",
   "metadata": {},
   "source": [
    "### ブレンド１"
   ]
  },
  {
   "cell_type": "code",
   "execution_count": 31,
   "metadata": {},
   "outputs": [
    {
     "name": "stdout",
     "output_type": "stream",
     "text": [
      "1879793616.127132\n"
     ]
    }
   ],
   "source": [
    "#LinearRegression + SVR\n",
    "from sklearn.svm import SVR\n",
    "svr1 = SVR(kernel=\"linear\", C=5, epsilon=0.5)   #パラメータは適当\n",
    "\n",
    "y_pred2 = model_blending(X_train, y_train, X_test, LinearRegression(), svr1 )\n",
    "\n",
    "print(metrics.mean_squared_error(y_test, y_pred2))"
   ]
  },
  {
   "cell_type": "markdown",
   "metadata": {},
   "source": [
    "MSEがむしろ上がってしまったので、SVRのパラメーターをグリッドサーチで最適化してみる"
   ]
  },
  {
   "cell_type": "code",
   "execution_count": 37,
   "metadata": {},
   "outputs": [
    {
     "data": {
      "application/vnd.jupyter.widget-view+json": {
       "model_id": "07cc87c1667d44de9ef248ddf1cb8cfa",
       "version_major": 2,
       "version_minor": 0
      },
      "text/plain": [
       "HBox(children=(IntProgress(value=0), HTML(value='')))"
      ]
     },
     "metadata": {},
     "output_type": "display_data"
    }
   ],
   "source": [
    "from sklearn.model_selection import GridSearchCV\n",
    "\n",
    "params_cnt = 5\n",
    "params = {\"C\": np.logspace(0, 1, params_cnt), \"epsilon\":np.logspace(-1, 1, params_cnt)}\n",
    "gridsearch = GridSearchCV(SVR(kernel=\"linear\"), params, cv=5, scoring=\"r2\", return_train_score=True)\n",
    "\n",
    "for _ in tqdm(range(100)):\n",
    "    gridsearch.fit(X_train, y_train)\n"
   ]
  },
  {
   "cell_type": "code",
   "execution_count": 38,
   "metadata": {},
   "outputs": [
    {
     "name": "stdout",
     "output_type": "stream",
     "text": [
      "Best parameters: {'C': 10.0, 'epsilon': 0.1}\n",
      "Best cross-validation: 0.6101533758499665\n"
     ]
    }
   ],
   "source": [
    "print('Best parameters: {}'.format(gridsearch.best_params_))\n",
    "print('Best cross-validation: {}'.format(gridsearch.best_score_))"
   ]
  },
  {
   "cell_type": "markdown",
   "metadata": {},
   "source": [
    "### ブレンド２"
   ]
  },
  {
   "cell_type": "code",
   "execution_count": 39,
   "metadata": {},
   "outputs": [
    {
     "name": "stdout",
     "output_type": "stream",
     "text": [
      "1879153606.0976024\n"
     ]
    }
   ],
   "source": [
    "svr2 = SVR(kernel=\"linear\", C=10, epsilon=0.1)  \n",
    "\n",
    "y_pred3 = model_blending(X_train, y_train, X_test, LinearRegression(), svr2 )\n",
    "\n",
    "print(metrics.mean_squared_error(y_test, y_pred3))"
   ]
  },
  {
   "cell_type": "markdown",
   "metadata": {},
   "source": [
    "少し下がったが、まだ最初より高い"
   ]
  },
  {
   "cell_type": "markdown",
   "metadata": {},
   "source": [
    "### ブレンド３\n"
   ]
  },
  {
   "cell_type": "code",
   "execution_count": 87,
   "metadata": {},
   "outputs": [
    {
     "name": "stdout",
     "output_type": "stream",
     "text": [
      "1826201953.024476\n"
     ]
    }
   ],
   "source": [
    "#線形回帰＋決定木\n",
    "from sklearn.tree import DecisionTreeRegressor\n",
    "\n",
    "y_pred4 = model_blending(X_train, y_train, X_test, LinearRegression(), DecisionTreeClassifier() )\n",
    "\n",
    "print(metrics.mean_squared_error(y_test, y_pred4))"
   ]
  },
  {
   "cell_type": "code",
   "execution_count": 71,
   "metadata": {},
   "outputs": [
    {
     "name": "stdout",
     "output_type": "stream",
     "text": [
      "1433153261.2902632\n"
     ]
    }
   ],
   "source": [
    "#線形回帰＋ランダムフォレスト\n",
    "from sklearn.ensemble import RandomForestRegressor\n",
    "\n",
    "y_pred5 = model_blending(X_train, y_train, X_test, LinearRegression(), RandomForestRegressor() )\n",
    "\n",
    "print(metrics.mean_squared_error(y_test, y_pred5))"
   ]
  },
  {
   "cell_type": "markdown",
   "metadata": {},
   "source": [
    "だいぶスコアが良くなった！\n",
    "ブレンドはモデルに左右される部分が大きそう。"
   ]
  },
  {
   "cell_type": "markdown",
   "metadata": {},
   "source": [
    "### ブレンド関数（改）\n",
    "\n",
    "モデルごとに重み付けができるように関数を改良する"
   ]
  },
  {
   "cell_type": "code",
   "execution_count": 88,
   "metadata": {},
   "outputs": [],
   "source": [
    "def model_blending(X_train, y_train, x_test, bias, *args):\n",
    "    \"\"\"\n",
    "    ブレンディングを実行する関数\n",
    "    \n",
    "    ----\n",
    "    bias：モデルの重みを足してモデル数になるようにリストで渡す　例：[1.2, 0.8]\n",
    "    *args：任意数のモデルをインスタンス化した状態で渡す\n",
    "    \"\"\"\n",
    "    if bias is None:\n",
    "        bias_val = np.ones(len(args))\n",
    "    else:\n",
    "        bias_val = bias\n",
    "    \n",
    "    y_pred = np.empty((x_test.shape[0],1))\n",
    "    \n",
    "    for model in args:\n",
    "        clf = model.fit(X_train, y_train)\n",
    "        y_pred = np.concatenate([y_pred, clf.predict(x_test).reshape(-1,1)], 1)\n",
    "    \n",
    "    y_pred = y_pred[:, 1:]\n",
    "    \n",
    "    for i in range(len(bias)):\n",
    "        y_pred[:, i] * bias_val[i]\n",
    "    \n",
    "    return y_pred.mean(axis=1)"
   ]
  },
  {
   "cell_type": "markdown",
   "metadata": {},
   "source": [
    "### ブレンド４"
   ]
  },
  {
   "cell_type": "code",
   "execution_count": 74,
   "metadata": {},
   "outputs": [
    {
     "name": "stdout",
     "output_type": "stream",
     "text": [
      "1424498166.0505464\n"
     ]
    }
   ],
   "source": [
    "y_pred6 = model_blending(X_train, y_train, X_test, [0.8, 1.2], LinearRegression(), RandomForestRegressor() )\n",
    "\n",
    "print(metrics.mean_squared_error(y_test, y_pred6))"
   ]
  },
  {
   "cell_type": "markdown",
   "metadata": {},
   "source": [
    "ランダムフォレストの重みを増やしたことで、さらにMSEが下がった！"
   ]
  },
  {
   "cell_type": "markdown",
   "metadata": {},
   "source": [
    "### ブレンド５"
   ]
  },
  {
   "cell_type": "code",
   "execution_count": 75,
   "metadata": {},
   "outputs": [
    {
     "name": "stdout",
     "output_type": "stream",
     "text": [
      "1638163885.9933097\n"
     ]
    }
   ],
   "source": [
    "#線形回帰＋ランダムフォレスト回帰＋SVR\n",
    "y_pred7 = model_blending(X_train, y_train, X_test, [1, 1.3, 0.7], \n",
    "                         LinearRegression(), RandomForestRegressor(), DecisionTreeClassifier() )\n",
    "\n",
    "print(metrics.mean_squared_error(y_test, y_pred7))"
   ]
  },
  {
   "cell_type": "code",
   "execution_count": 76,
   "metadata": {},
   "outputs": [
    {
     "data": {
      "application/vnd.jupyter.widget-view+json": {
       "model_id": "5d8ee10b02ed44118e9e44ec92d7f246",
       "version_major": 2,
       "version_minor": 0
      },
      "text/plain": [
       "HBox(children=(IntProgress(value=0), HTML(value='')))"
      ]
     },
     "metadata": {},
     "output_type": "display_data"
    }
   ],
   "source": [
    "#ランダムフォレストをグリッドサーチしてみる\n",
    "\n",
    "params_cnt = 5\n",
    "params = {\"n_estimators\": [3, 10, 100, 1000]}\n",
    "gridsearch = GridSearchCV(RandomForestRegressor(), params, cv=5, scoring=\"r2\", return_train_score=True)\n",
    "\n",
    "for _ in tqdm(range(100)):\n",
    "    gridsearch.fit(X_train, y_train)\n",
    "\n"
   ]
  },
  {
   "cell_type": "code",
   "execution_count": 79,
   "metadata": {},
   "outputs": [
    {
     "name": "stdout",
     "output_type": "stream",
     "text": [
      "Best parameters: {'n_estimators': 100}\n",
      "Best cross-validation: 0.6662649481197642\n"
     ]
    }
   ],
   "source": [
    "print('Best parameters: {}'.format(gridsearch.best_params_))\n",
    "print('Best cross-validation: {}'.format(gridsearch.best_score_))"
   ]
  },
  {
   "cell_type": "code",
   "execution_count": 80,
   "metadata": {},
   "outputs": [
    {
     "name": "stdout",
     "output_type": "stream",
     "text": [
      "1388878710.524175\n"
     ]
    }
   ],
   "source": [
    "#線形回帰＋ランダムフォレスト回帰＋SVR\n",
    "y_pred8 = model_blending(X_train, y_train, X_test, [0.8, 1.2], \n",
    "                         LinearRegression(), RandomForestRegressor(n_estimators=100))\n",
    "\n",
    "print(metrics.mean_squared_error(y_test, y_pred8))"
   ]
  },
  {
   "cell_type": "markdown",
   "metadata": {},
   "source": [
    "最終的にかなりMSEが下がった！"
   ]
  },
  {
   "cell_type": "markdown",
   "metadata": {},
   "source": [
    "## 【問題２】バギングのスクラッチ実装\n",
    "\n",
    "**＜バギングとは＞**\n",
    "バギングは入力データの選び方を多様化する方法。学習データから重複を許した上でランダムに抜き出すことで、N種類のサブセット（ ブートストラップサンプル ）を作り出す。それらによってモデルをN個学習し、推定結果の平均をとる。ブレンディングと異なり、それぞれの重み付けを変えることはない。\n",
    "\n",
    "scikit-learnのtrain_test_splitを、shuffleパラメータをTrueにして使うことで、ランダムにデータを分割することができる。これによりブートストラップサンプルが手に入る。推定結果の平均をとる部分はブースティングと同様の実装になる。"
   ]
  },
  {
   "cell_type": "code",
   "execution_count": 89,
   "metadata": {},
   "outputs": [
    {
     "name": "stdout",
     "output_type": "stream",
     "text": [
      "2835391289.0536532\n"
     ]
    }
   ],
   "source": [
    "#回帰木でのノーマル結果\n",
    "from sklearn.tree import DecisionTreeRegressor\n",
    "\n",
    "DTR = DecisionTreeRegressor()\n",
    "DTR.fit(X_train, y_train)\n",
    "y_pred = DTR.predict(X_test)\n",
    "\n",
    "print(metrics.mean_squared_error(y_test, y_pred))"
   ]
  },
  {
   "cell_type": "code",
   "execution_count": 90,
   "metadata": {},
   "outputs": [],
   "source": [
    "def Bagging(X, y, X_test, model, cnt=2, split=0.2):\n",
    "    \"\"\"\n",
    "    バギングを行う関数\n",
    "    \n",
    "    ----\n",
    "    X: スプリット前のデータ\n",
    "    y：スプリット前のラベル\n",
    "    model：インスタンス化したモデル\n",
    "    cnt：データセットのシャッフルを行う回数\n",
    "    \"\"\"\n",
    "    y_pred = np.empty((X_test.shape[0],1))\n",
    "    \n",
    "    for i in range(cnt):\n",
    "        (X_train_sub, _, y_train_sub, _) = train_test_split(X, y, test_size=split, shuffle=True)            \n",
    "\n",
    "        model.fit(X_train_sub, y_train_sub)\n",
    "        y_pred = np.concatenate([y_pred, model.predict(X_test).reshape(-1,1)], 1)\n",
    "    \n",
    "    y_pred = y_pred[:, 1:]\n",
    "    \n",
    "    return y_pred.mean(axis=1)\n",
    "              "
   ]
  },
  {
   "cell_type": "code",
   "execution_count": 91,
   "metadata": {},
   "outputs": [
    {
     "name": "stdout",
     "output_type": "stream",
     "text": [
      "1701507594.0470054\n"
     ]
    }
   ],
   "source": [
    "y_pred_b = Bagging(X_train, y_train, X_test, DecisionTreeRegressor(), cnt=5)\n",
    "\n",
    "print(metrics.mean_squared_error(y_test, y_pred_b))"
   ]
  },
  {
   "cell_type": "markdown",
   "metadata": {},
   "source": [
    "バギングを行っただけでかなりMSEが下がってくれた。\n",
    "これは効果大！"
   ]
  },
  {
   "cell_type": "markdown",
   "metadata": {},
   "source": [
    "## 【問題３】スタッキングのスクラッチ実装\n",
    "\n",
    "データの分割（バリデーション）は３として実装する。"
   ]
  },
  {
   "cell_type": "code",
   "execution_count": 304,
   "metadata": {
    "code_folding": [
     0
    ]
   },
   "outputs": [],
   "source": [
    "def scratch_stacking(X, y, test, model, kfold=3):\n",
    "    \"\"\"\n",
    "    スタッキングの関数\n",
    "    ----\n",
    "    model：モデル数×ステージの二次元配列として渡す\n",
    "    kfold：バリデーションの分割数\n",
    "    \n",
    "    \"\"\"\n",
    "    stage = len(model)                                #ステージ数取得\n",
    "    model_num = [len(v) for v in model]     #各ステージごとモデル数取得\n",
    "    spl_num = X.shape[0]\n",
    "    f_num = X.shape[1]\n",
    "    Xy = np.concatenate([X,y.reshape(-1,1)], 1)\n",
    "    \n",
    "    \"\"\"^^^^^^^^^^^^^^^^^^^^^^^^^^^^^^^^^^^^^^^^^^^^^^^^^^^^^^^^\n",
    "    Stage1\n",
    "    \"\"\"\n",
    "    #バリデーション\n",
    "    shuffled_index = np.random.permutation(np.arange(spl_num))\n",
    "    shuffled_y = Xy[shuffled_index][:, -1]\n",
    "    div = 0\n",
    "    dived_data = {}\n",
    "    for i in range(kfold):\n",
    "        if i == kfold-1:\n",
    "            dived_data[i] = Xy[shuffled_index[div: ]]                                      #最後の分割は端数を含める\n",
    "        else:\n",
    "            dived_data[i] = Xy[shuffled_index[div: div+int(spl_num / kfold)]]\n",
    "            div += int(spl_num / kfold)\n",
    "    \n",
    "    #箱初期化\n",
    "    y_pred_all = np.empty(spl_num)                  #学習フェーズ用\n",
    "    test_y_pred_all = np.empty(test.shape[0])   #推論フェーズ・最終用\n",
    "    test_y_pred = np.empty(test.shape[0])       #推論フェーズ・各モデル用\n",
    "    \n",
    "    for i in range(model_num[0]):\n",
    "        m = model[0][i]\n",
    "        y_pred = np.array([])                              #kごとに予測を足してサンプル数分のyを作る\n",
    "        print(str(model[0][i])[:3])\n",
    "        \n",
    "        for j in range(kfold):\n",
    "            \n",
    "            \"\"\"各KごとにX/y_train, X/y_testの初期化\n",
    "            \"\"\"\n",
    "            X_test = dived_data[j][:, :f_num]\n",
    "            y_test = dived_data[j][:, -1]\n",
    "            lest = list(set(dived_data.keys())^set([j]))\n",
    "            for k, L in enumerate(lest):\n",
    "                if k == 0:\n",
    "                    X_train = dived_data[L][:, :f_num]\n",
    "                    y_train = dived_data[L][:, -1]\n",
    "                else:\n",
    "                    X_train = np.vstack((X_train, dived_data[L][:, :f_num]))\n",
    "                    y_train = np.append(y_train, dived_data[L][:, -1])\n",
    "            \n",
    "            \"\"\"Fit and Predict\n",
    "            \"\"\"\n",
    "            m.fit(X_train, y_train)\n",
    "            y_pred = np.append(y_pred, m.predict(X_test))\n",
    "            \n",
    "            #推論フェーズ用に予測を保存\n",
    "            test_y_pred = np.vstack((test_y_pred, m.predict(test)))\n",
    "        \n",
    "        \"\"\"予測の整形\n",
    "        \"\"\"\n",
    "        #学習フェーズ\n",
    "        y_pred_all = np.vstack((y_pred_all, y_pred))\n",
    "        print(\"モデル{}のブレンドデータとyのMSE\".format(i))\n",
    "        print(metrics.mean_squared_error(shuffled_y, y_pred))\n",
    "        print(\"----------\")\n",
    "        \n",
    "        #推論フェーズ\n",
    "        test_y_pred_mean = test_y_pred.T[:, 1:].mean(axis=1)\n",
    "        test_y_pred_all = np.vstack((test_y_pred_all, test_y_pred_mean))\n",
    "    \n",
    "    next_input = y_pred_all.T[:, 1:]\n",
    "    test_input = test_y_pred_all.T[:, 1:]\n",
    "    \n",
    "    \"\"\"^^^^^^^^^^^^^^^^^^^^^^^^^^^^^^^^^^^^^^^^^^^^^^^^^^^^^^^^^^^^^^^^\n",
    "    Stage2\n",
    "    \"\"\"\n",
    "    m2 = model[1][0]\n",
    "    m2.fit(next_input, shuffled_y)\n",
    "    \n",
    "    \"\"\"\n",
    "    Predict Stage2\n",
    "    \"\"\"\n",
    "    last_pred = m2.predict(test_input)\n",
    "\n",
    "    \n",
    "    return last_pred\n",
    "    "
   ]
  },
  {
   "cell_type": "code",
   "execution_count": 305,
   "metadata": {},
   "outputs": [
    {
     "name": "stdout",
     "output_type": "stream",
     "text": [
      "SVR\n",
      "モデル0のブレンドデータとyのMSE\n",
      "5832144278.490742\n",
      "----------\n",
      "Ran\n",
      "モデル1のブレンドデータとyのMSE\n",
      "2041963805.4805775\n",
      "----------\n",
      "Dec\n",
      "モデル2のブレンドデータとyのMSE\n",
      "3228049330.1617675\n",
      "----------\n",
      "Lin\n",
      "モデル3のブレンドデータとyのMSE\n",
      "2315542431.8034\n",
      "----------\n"
     ]
    }
   ],
   "source": [
    "#検証\n",
    "m_lr = LinearRegression()\n",
    "m_svr = SVR(kernel=\"linear\", C=10, epsilon=0.1)\n",
    "m_dtr = DecisionTreeRegressor()\n",
    "m_rfr = RandomForestRegressor(n_estimators=100)\n",
    "\n",
    "stackmodel = [\n",
    "              [m_svr, m_rfr, m_dtr, m_lr],   #Stage1\n",
    "              [m_lr]]                      #Stage2\n",
    "\n",
    "final_pred = scratch_stacking(X_train, y_train, X_test, stackmodel)"
   ]
  },
  {
   "cell_type": "code",
   "execution_count": 300,
   "metadata": {},
   "outputs": [
    {
     "name": "stdout",
     "output_type": "stream",
     "text": [
      "1552098550.2119095\n"
     ]
    }
   ],
   "source": [
    "print(metrics.mean_squared_error(y_test, final_pred))"
   ]
  },
  {
   "attachments": {
    "image.png": {
     "image/png": "[encoded data removed]"
    }
   },
   "cell_type": "markdown",
   "metadata": {},
   "source": [
    "### 比較結果（K=3、非正規化）\n",
    "![image.png](attachment:image.png)"
   ]
  },
  {
   "cell_type": "markdown",
   "metadata": {},
   "source": [
    "### 関数の改良（Stage3対応）"
   ]
  },
  {
   "cell_type": "code",
   "execution_count": 306,
   "metadata": {
    "code_folding": [
     0
    ]
   },
   "outputs": [],
   "source": [
    "class Multi_Stacking():\n",
    "    \n",
    "    def __init__(self, ):\n",
    "        # ハイパーパラメータを属性として記録\n",
    "        self.internal_score_ = []\n",
    "\n",
    "    def fit_predict(self, X, y, test, model, k_num): \n",
    "        stage = len(model)    #ステージ数取得\n",
    "        \n",
    "        Xs = X\n",
    "        ys = y\n",
    "        tests = test\n",
    "        for i in range(2):\n",
    "            Xs, ys, tests = self.stacking(Xs, ys, tests, model[i], kfold=k_num[i])\n",
    "        \n",
    "        m3 = model[2][0]\n",
    "        m3.fit(Xs, ys)\n",
    "        \n",
    "        last_pred = m3.predict(tests)\n",
    "        \n",
    "        return last_pred\n",
    "        \n",
    "        \n",
    "    def stacking(self, X, y, test, model, kfold=3):\n",
    "        \"\"\"\n",
    "        スタッキングの関数\n",
    "        ----\n",
    "        model：モデル数×ステージの二次元配列として渡す\n",
    "        kfold：バリデーションの分割数\n",
    "\n",
    "        \"\"\"\n",
    "        model_num = len(model)     #各ステージごとモデル数取得\n",
    "        spl_num = X.shape[0]\n",
    "        f_num = X.shape[1]\n",
    "        Xy = np.concatenate([X,y.reshape(-1,1)], 1)\n",
    "\n",
    "        \"\"\"^^^^^^^^^^^^^^^^^^^^^^^^^^^^^^^^^^^^^^^^^^^^^^^^^^^^^^^^\n",
    "        Stage1\n",
    "        \"\"\"\n",
    "        #バリデーション\n",
    "        shuffled_index = np.random.permutation(np.arange(spl_num))\n",
    "        shuffled_y = Xy[shuffled_index][:, -1]\n",
    "        div = 0\n",
    "        dived_data = {}\n",
    "        for i in range(kfold):\n",
    "            if i == kfold-1:\n",
    "                dived_data[i] = Xy[shuffled_index[div: ]]                                      #最後の分割は端数を含める\n",
    "            else:\n",
    "                dived_data[i] = Xy[shuffled_index[div: div+int(spl_num / kfold)]]\n",
    "                div += int(spl_num / kfold)\n",
    "\n",
    "        #箱初期化\n",
    "        y_pred_all = np.empty(spl_num)                  #学習フェーズ用\n",
    "        test_y_pred_all = np.empty(test.shape[0])   #推論フェーズ・最終用\n",
    "        test_y_pred = np.empty(test.shape[0])       #推論フェーズ・各モデル用\n",
    "\n",
    "        for i in range(model_num):\n",
    "            m = model[i]\n",
    "            y_pred = np.array([])                              #kごとに予測を足してサンプル数分のyを作る\n",
    "\n",
    "            for j in range(kfold):\n",
    "\n",
    "                \"\"\"各KごとにX/y_train, X/y_testの初期化\n",
    "                \"\"\"\n",
    "                X_test = dived_data[j][:, :f_num]\n",
    "                y_test = dived_data[j][:, -1]\n",
    "                lest = list(set(dived_data.keys())^set([j]))\n",
    "                for k, L in enumerate(lest):\n",
    "                    if k == 0:\n",
    "                        X_train = dived_data[L][:, :f_num]\n",
    "                        y_train = dived_data[L][:, -1]\n",
    "                    else:\n",
    "                        X_train = np.vstack((X_train, dived_data[L][:, :f_num]))\n",
    "                        y_train = np.append(y_train, dived_data[L][:, -1])\n",
    "\n",
    "                \"\"\"Fit and Predict\n",
    "                \"\"\"\n",
    "                m.fit(X_train, y_train)\n",
    "                y_pred = np.append(y_pred, m.predict(X_test))\n",
    "\n",
    "                #推論フェーズ用に予測を保存\n",
    "                test_y_pred = np.vstack((test_y_pred, m.predict(test)))\n",
    "\n",
    "            \"\"\"予測の整形\n",
    "            \"\"\"\n",
    "            #学習フェーズ\n",
    "            y_pred_all = np.vstack((y_pred_all, y_pred))\n",
    "            self.internal_score_.append([str(model[i])[:3], \n",
    "                                         metrics.mean_squared_error(shuffled_y, y_pred)])\n",
    "\n",
    "            #推論フェーズ\n",
    "            test_y_pred_mean = test_y_pred.T[:, 1:].mean(axis=1)\n",
    "            test_y_pred_all = np.vstack((test_y_pred_all, test_y_pred_mean))\n",
    "\n",
    "        next_input = y_pred_all.T[:, 1:]\n",
    "        test_input = test_y_pred_all.T[:, 1:]\n",
    "\n",
    "        return next_input, shuffled_y, test_input\n",
    "    \n",
    "    "
   ]
  },
  {
   "cell_type": "markdown",
   "metadata": {},
   "source": [
    "### 3ステージのテスト\n",
    "\n",
    "- Stage1：線形回帰＋SVR＋回帰木＋ランダムフォレスト　K=4\n",
    "- Stage2：SVR+回帰木＋ランダムフォレスト　K=3\n",
    "- Stage3：線形回帰"
   ]
  },
  {
   "cell_type": "code",
   "execution_count": 314,
   "metadata": {},
   "outputs": [
    {
     "name": "stdout",
     "output_type": "stream",
     "text": [
      "1818653550.3318226\n"
     ]
    }
   ],
   "source": [
    "num_k = [4,3,1]\n",
    "stackmodel = [\n",
    "              [m_svr, m_rfr, m_dtr, m_lr],   #Stage1\n",
    "              [m_rfr, m_dtr, m_svr],                        #Stage2\n",
    "              [m_lr]]                                  #Stage3                   \n",
    "\n",
    "\n",
    "ms = Multi_Stacking()\n",
    "final = ms.fit_predict(X_train, y_train, X_test, stackmodel, num_k)\n",
    "print(metrics.mean_squared_error(y_test, final))"
   ]
  },
  {
   "cell_type": "markdown",
   "metadata": {},
   "source": [
    "同じモデルを重ねて利用しているからか、あまり効果は上がらなかった。\n",
    "\n",
    "以上"
   ]
  }
 ],
 "metadata": {
  "kernelspec": {
   "display_name": "Python 3",
   "language": "python",
   "name": "python3"
  },
  "language_info": {
   "codemirror_mode": {
    "name": "ipython",
    "version": 3
   },
   "file_extension": ".py",
   "mimetype": "text/x-python",
   "name": "python",
   "nbconvert_exporter": "python",
   "pygments_lexer": "ipython3",
   "version": "3.7.2"
  },
  "toc": {
   "base_numbering": 1,
   "nav_menu": {},
   "number_sections": true,
   "sideBar": true,
   "skip_h1_title": false,
   "title_cell": "Table of Contents",
   "title_sidebar": "Contents",
   "toc_cell": false,
   "toc_position": {
    "height": "calc(100% - 180px)",
    "left": "10px",
    "top": "150px",
    "width": "234.59375px"
   },
   "toc_section_display": true,
   "toc_window_display": true
  },
  "varInspector": {
   "cols": {
    "lenName": 16,
    "lenType": 16,
    "lenVar": 40
   },
   "kernels_config": {
    "python": {
     "delete_cmd_postfix": "",
     "delete_cmd_prefix": "del ",
     "library": "var_list.py",
     "varRefreshCmd": "print(var_dic_list())"
    },
    "r": {
     "delete_cmd_postfix": ") ",
     "delete_cmd_prefix": "rm(",
     "library": "var_list.r",
     "varRefreshCmd": "cat(var_dic_list()) "
    }
   },
   "position": {
    "height": "252px",
    "left": "803px",
    "right": "20px",
    "top": "120px",
    "width": "330px"
   },
   "types_to_exclude": [
    "module",
    "function",
    "builtin_function_or_method",
    "instance",
    "_Feature"
   ],
   "window_display": false
  }
 },
 "nbformat": 4,
 "nbformat_minor": 2
}
