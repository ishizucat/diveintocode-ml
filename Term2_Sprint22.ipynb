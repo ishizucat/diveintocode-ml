{
 "cells": [
  {
   "cell_type": "markdown",
   "metadata": {},
   "source": [
    "# Sprint22 リカレントニューラルネットワーク\n",
    "\n",
    "スクラッチを通してリカレントニューラルネットワークの基礎を理解する\n",
    "\n",
    "## Simple RNN フォワードプロパゲーション\n",
    "\n",
    "SimpleRNNのクラスSimpleRNNを作成する。\n",
    "\n",
    "$$\n",
    "a_t = x_t \\dot W_x + h_{t_1} \\cdot W_h + B \\\\\n",
    "h_t = tanh(a_t)\n",
    "$$\n",
    "\n",
    "at  : 時刻tの活性化関数を通す前の状態 (batch_size, n_nodes)\n",
    "ht : 時刻tの状態・出力 (batch_size, n_nodes)\n",
    "xt : 時刻tの入力 (batch_size, n_features)\n",
    "Wx : 入力に対する重み (n_features, n_nodes)\n",
    "ht−1 : 時刻t-1の状態（前の時刻から伝わる順伝播） (batch_size, n_nodes)\n",
    "Wh : 状態に対する重み。 (n_nodes, n_nodes)\n",
    "B : バイアス項 (n_nodes,)"
   ]
  },
  {
   "cell_type": "code",
   "execution_count": 4,
   "metadata": {},
   "outputs": [],
   "source": [
    "#基本ライブラリ\n",
    "import time\n",
    "import pickle\n",
    "import numpy as np\n",
    "import matplotlib.pyplot as plt\n",
    "import pandas as pd\n",
    "import seaborn as sns\n",
    "%matplotlib inline"
   ]
  },
  {
   "cell_type": "code",
   "execution_count": 3,
   "metadata": {},
   "outputs": [
    {
     "name": "stdout",
     "output_type": "stream",
     "text": [
      "x\n",
      " [[[0.01 0.02]\n",
      "  [0.02 0.03]\n",
      "  [0.03 0.04]]]\n",
      "w_x\n",
      " [[0.01 0.03 0.05 0.07]\n",
      " [0.03 0.05 0.07 0.08]]\n",
      "w_h\n",
      " [[0.01 0.03 0.05 0.07]\n",
      " [0.02 0.04 0.06 0.08]\n",
      " [0.03 0.05 0.07 0.08]\n",
      " [0.04 0.06 0.08 0.1 ]]\n"
     ]
    }
   ],
   "source": [
    "x = np.array([[[1, 2], [2, 3], [3, 4]]])/100 # (batch_size, n_sequences, n_features)\n",
    "w_x = np.array([[1, 3, 5, 7], [3, 5, 7, 8]])/100 # (n_features, n_nodes)\n",
    "w_h = np.array([[1, 3, 5, 7], [2, 4, 6, 8], [3, 5, 7, 8], [4, 6, 8, 10]])/100 # (n_nodes, n_nodes)\n",
    "batch_size = x.shape[0] # 1\n",
    "n_sequences = x.shape[1] # 3\n",
    "n_features = x.shape[2] # 2\n",
    "n_nodes = w_x.shape[1] # 4\n",
    "h = np.zeros((batch_size, n_nodes)) # (batch_size, n_nodes)\n",
    "b = np.array([1, 1, 1, 1]) # (n_nodes,)\n",
    "\n",
    "print(\"x\\n\", x)\n",
    "print(\"w_x\\n\", w_x)\n",
    "print(\"w_h\\n\", w_h)"
   ]
  },
  {
   "cell_type": "code",
   "execution_count": 185,
   "metadata": {},
   "outputs": [],
   "source": [
    "class SimpleRNN():\n",
    "    def __init__(self, recurrents=3, alpha=1, num_itr=10):\n",
    "        self.recurrents = recurrents\n",
    "        self.alpha = alpha\n",
    "        self.num_itr = num_itr\n",
    "        \n",
    "    def fit(self, X, y):\n",
    "        #初期化\n",
    "        self.w_x = np.array([[1, 3, 5, 7], [3, 5, 7, 8]])/100 # (n_features, n_nodes)\n",
    "        self.w_a = np.array([[1, 3, 5, 7], [2, 4, 6, 8], [3, 5, 7, 8], [4, 6, 8, 10]])/100 # (n_nodes, n_nodes)\n",
    "        self.batch_size = X.shape[0] # 1\n",
    "        n_sequences = X.shape[1] # 3\n",
    "        n_features = X.shape[2] # 2\n",
    "        n_nodes = self.w_x.shape[1] # 4\n",
    "        self.h = np.zeros(( 4, n_nodes)) # (batch_size, n_nodes)\n",
    "        self.bias = np.array([1.0, 1.0, 1.0, 1.0])\n",
    "        self.y_hat = np.empty((4,4))\n",
    "        \n",
    "        for _ in range(self.num_itr):\n",
    "            \n",
    "            #forward\n",
    "            for i in range(n_sequences):\n",
    "                h = np.tanh(np.dot(X[0,i].T, self.w_x) + np.dot(self.h[i], self.w_a) + self.bias)\n",
    "                self.y_hat[i] = self.softmax(h)\n",
    "                self.h[i+1] = h\n",
    "                     \n",
    "            #backward\n",
    "            count = 0\n",
    "            for i in reversed(range(n_sequences)):\n",
    "                if i == 2:\n",
    "                    LH = self.y_hat[i] - y\n",
    "                    HA = LH * (1 - np.tanh(self.h[i])*np.tanh(self.h[i]))\n",
    "                    LB = np.copy(HA)\n",
    "                    LWx = np.dot(X[0, i].reshape(-1,1), HA.reshape(1, -1))\n",
    "                    LWh = np.dot(self.h[i].reshape(-1,1), HA.reshape(1, -1))\n",
    "                    LH_next = np.dot(HA, self.w_a.T)\n",
    "                    LX = np.dot(HA.reshape(-1, 1), X[0,-1].reshape(1,-1))\n",
    "                else:\n",
    "                    LH = (self.y_hat[i] - y) + LH_next\n",
    "                    HA = LH * (1 - np.tanh(self.h[i])*np.tanh(self.h[i]))\n",
    "                    LB *= HA\n",
    "                    LWx *= np.dot(X[0, i].reshape(-1,1), HA.reshape(1, -1))\n",
    "                    LWh *= np.dot(self.h[i].reshape(-1,1), HA.reshape(1, -1))\n",
    "                    LH_next = np.dot(HA, self.w_a.T)\n",
    "                    LX *= np.dot(HA.reshape(-1, 1), X[0,-1].reshape(1,-1))                \n",
    "            self.LWx = LWx\n",
    "            self.LWh = LWh\n",
    "            self.LB = LB\n",
    "            self.LX = LX\n",
    "\n",
    "\n",
    "            #更新\n",
    "            self.w_x -= self.alpha*self.LWx\n",
    "            self.w_a -= self.alpha*self.LWh\n",
    "            self.bias -= self.alpha*self.LB\n",
    "            \n",
    "\n",
    "        return self.y_hat\n",
    "            \n",
    "            \n",
    "    # ソフトマックス関数\n",
    "    def softmax(self, a):\n",
    "        # 一番大きい値を取得\n",
    "        c = np.max(a)\n",
    "        # 各要素から一番大きな値を引く（オーバーフロー対策）\n",
    "        exp_a = np.exp(a - c)\n",
    "        sum_exp_a = np.sum(exp_a)\n",
    "        # 要素の値/全体の要素の合計\n",
    "        y = exp_a / sum_exp_a\n",
    "\n",
    "        return y\n",
    "\n",
    "        "
   ]
  },
  {
   "cell_type": "code",
   "execution_count": 186,
   "metadata": {},
   "outputs": [
    {
     "name": "stdout",
     "output_type": "stream",
     "text": [
      " \n",
      "[[0.24991093 0.24997366 0.25003683 0.25007858]\n",
      " [0.24247109 0.24785809 0.25283146 0.25683935]\n",
      " [0.24201507 0.24775671 0.2530165  0.25721173]\n",
      " [0.04       0.06       0.08       0.1       ]]\n",
      " \n",
      "[[0.         0.         0.         0.        ]\n",
      " [0.76188792 0.76213887 0.76239156 0.76255851]\n",
      " [0.79220896 0.81418283 0.83404957 0.84977726]\n",
      " [0.79494223 0.81838947 0.83939692 0.85584181]]\n"
     ]
    }
   ],
   "source": [
    "#test\n",
    "y = np.array([0.24, 0.24, 0.26, 0.26])\n",
    "\n",
    "SRNN = SimpleRNN()\n",
    "result = SRNN.fit(x, y)\n",
    "print(\" \")\n",
    "print(result)\n",
    "print(\" \")\n",
    "print(SRNN.h)"
   ]
  },
  {
   "cell_type": "markdown",
   "metadata": {},
   "source": [
    "## バックプロパゲーションの実装\n",
    "\n",
    "$$\n",
    "W'_x = W_x - \\alpha \\frac{\\partial L}{\\partial W_x} \\\\\n",
    "W'_h = W_h - \\alpha \\frac{\\partial L}{\\partial W_h} \\\\\n",
    "B' = B - \\alpha \\frac{\\partial L}{\\partial B}\n",
    "$$\n",
    "\n",
    "勾配を求めるためのバックプロパゲーションの数式が以下\n",
    "\n",
    "$$\n",
    "\\frac{\\partial h_t}{\\partial a_t} = \\frac{\\partial L}{\\partial h_t} \\times (1 - tanh^2(a_t))  \\\\\n",
    "\\frac{\\partial L}{\\partial B} = \\frac{\\partial h_t}{\\partial a_t} \\\\\n",
    "\\frac{\\partial L}{\\partial W_x} = x_t^T \\cdot \\frac{\\partial h_t}{\\partial a_t} \\\\\n",
    "\\frac{\\partial L}{\\partial W_h} = h_{t-1}^T \\cdot \\frac{\\partial h_t}{\\partial a_t}\n",
    "$$\n",
    "\n",
    "各時間にて生み出された勾配は、１つに掛け合わされる。\n",
    "\n",
    "L/h_t は前の時刻からの状態の誤差と出力の誤差の合計。hは順伝播時に出力と次の層に伝わる状態双方に使われているからである。\n",
    "\n",
    "前の時刻や層に流す誤差の数式は以下。\n",
    "\n",
    "$$\n",
    "\\frac{\\partial L}{\\partial h_{t-1}} = \\frac{\\partial h_t}{\\partial a_t} \\cdot W_h^T \\\\\n",
    "\\frac{\\partial L}{\\partial X_t} =  \\frac{\\partial h_t}{\\partial a_t} \\cdot W_x^T  \\\\\n",
    "\\frac{\\partial L}{\\partial h_{next}} = \\frac{\\partial L}{\\partial h_{t-1}} + (yhat - y)\n",
    "$$"
   ]
  },
  {
   "cell_type": "code",
   "execution_count": 172,
   "metadata": {},
   "outputs": [
    {
     "name": "stdout",
     "output_type": "stream",
     "text": [
      "[-0.2  -0.18 -0.18 -0.16]\n"
     ]
    }
   ],
   "source": [
    "#バックワード\n",
    "y = np.array([0.24, 0.24, 0.26, 0.26]) #適当に決める\n",
    "LH = result[-1] - y\n",
    "print(LH)"
   ]
  },
  {
   "cell_type": "code",
   "execution_count": 173,
   "metadata": {},
   "outputs": [
    {
     "data": {
      "text/plain": [
       "array([[0.        , 0.        , 0.        , 0.        ],\n",
       "       [0.64218764, 0.64233507, 0.64248348, 0.64258151],\n",
       "       [0.65965859, 0.67189125, 0.68264445, 0.69095309],\n",
       "       [0.66119969, 0.67419234, 0.6854895 , 0.69410906]])"
      ]
     },
     "execution_count": 173,
     "metadata": {},
     "output_type": "execute_result"
    }
   ],
   "source": [
    "np.tanh(SRNN.h)"
   ]
  },
  {
   "cell_type": "code",
   "execution_count": 174,
   "metadata": {},
   "outputs": [
    {
     "name": "stdout",
     "output_type": "stream",
     "text": [
      "[-0.11256299 -0.09818364 -0.09541875 -0.08291402]\n",
      "(4,)\n"
     ]
    }
   ],
   "source": [
    "HA = LH * (1 - np.tanh(SRNN.h[-1])*np.tanh(SRNN.h[-1]))\n",
    "print(HA)\n",
    "print(HA.shape)"
   ]
  },
  {
   "cell_type": "code",
   "execution_count": 177,
   "metadata": {},
   "outputs": [
    {
     "name": "stdout",
     "output_type": "stream",
     "text": [
      "[[-0.00337689 -0.00294551 -0.00286256 -0.00248742]\n",
      " [-0.00450252 -0.00392735 -0.00381675 -0.00331656]]\n"
     ]
    }
   ],
   "source": [
    "LWx = np.dot(x[0, 2].reshape(-1,1), HA.reshape(1, -1))\n",
    "print(LWx)"
   ]
  },
  {
   "cell_type": "code",
   "execution_count": 180,
   "metadata": {},
   "outputs": [
    {
     "name": "stdout",
     "output_type": "stream",
     "text": [
      "[[-0.08917341 -0.07778196 -0.07559159 -0.06568523]\n",
      " [-0.09164686 -0.07993944 -0.0776883  -0.06750717]\n",
      " [-0.09388312 -0.08189003 -0.07958396 -0.0691544 ]\n",
      " [-0.09565347 -0.08343423 -0.08108468 -0.07045845]]\n"
     ]
    }
   ],
   "source": [
    "LWh =  np.dot(SRNN.h[2].reshape(-1,1), HA.reshape(1, -1))\n",
    "print(LWh)"
   ]
  },
  {
   "cell_type": "code",
   "execution_count": 181,
   "metadata": {},
   "outputs": [
    {
     "name": "stdout",
     "output_type": "stream",
     "text": [
      "[-0.01464606 -0.01853685 -0.02159851 -0.02631844]\n"
     ]
    }
   ],
   "source": [
    "LH_1 = np.dot(HA, SRNN.w_a.T)\n",
    "print(LH_1)"
   ]
  },
  {
   "cell_type": "code",
   "execution_count": 184,
   "metadata": {},
   "outputs": [
    {
     "name": "stdout",
     "output_type": "stream",
     "text": [
      "[[-0.00337689 -0.00450252]\n",
      " [-0.00294551 -0.00392735]\n",
      " [-0.00286256 -0.00381675]\n",
      " [-0.00248742 -0.00331656]]\n"
     ]
    }
   ],
   "source": [
    "LX = np.dot(HA.reshape(-1, 1), x[0,-1].reshape(1,-1))\n",
    "print(LX)"
   ]
  },
  {
   "cell_type": "markdown",
   "metadata": {},
   "source": [
    "以上"
   ]
  },
  {
   "cell_type": "code",
   "execution_count": null,
   "metadata": {},
   "outputs": [],
   "source": []
  }
 ],
 "metadata": {
  "kernelspec": {
   "display_name": "Python 3",
   "language": "python",
   "name": "python3"
  },
  "language_info": {
   "codemirror_mode": {
    "name": "ipython",
    "version": 3
   },
   "file_extension": ".py",
   "mimetype": "text/x-python",
   "name": "python",
   "nbconvert_exporter": "python",
   "pygments_lexer": "ipython3",
   "version": "3.7.2"
  },
  "toc": {
   "base_numbering": 1,
   "nav_menu": {},
   "number_sections": true,
   "sideBar": true,
   "skip_h1_title": false,
   "title_cell": "Table of Contents",
   "title_sidebar": "Contents",
   "toc_cell": false,
   "toc_position": {},
   "toc_section_display": true,
   "toc_window_display": false
  },
  "varInspector": {
   "cols": {
    "lenName": 16,
    "lenType": 16,
    "lenVar": 40
   },
   "kernels_config": {
    "python": {
     "delete_cmd_postfix": "",
     "delete_cmd_prefix": "del ",
     "library": "var_list.py",
     "varRefreshCmd": "print(var_dic_list())"
    },
    "r": {
     "delete_cmd_postfix": ") ",
     "delete_cmd_prefix": "rm(",
     "library": "var_list.r",
     "varRefreshCmd": "cat(var_dic_list()) "
    }
   },
   "types_to_exclude": [
    "module",
    "function",
    "builtin_function_or_method",
    "instance",
    "_Feature"
   ],
   "window_display": false
  }
 },
 "nbformat": 4,
 "nbformat_minor": 2
}
