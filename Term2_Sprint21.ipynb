{
  "nbformat": 4,
  "nbformat_minor": 0,
  "metadata": {
    "kernelspec": {
      "name": "python3",
      "display_name": "Python 3"
    },
    "language_info": {
      "codemirror_mode": {
        "name": "ipython",
        "version": 3
      },
      "file_extension": ".py",
      "mimetype": "text/x-python",
      "name": "python",
      "nbconvert_exporter": "python",
      "pygments_lexer": "ipython3",
      "version": "3.7.2"
    },
    "toc": {
      "base_numbering": 1,
      "nav_menu": {},
      "number_sections": true,
      "sideBar": true,
      "skip_h1_title": false,
      "title_cell": "Table of Contents",
      "title_sidebar": "Contents",
      "toc_cell": false,
      "toc_position": {},
      "toc_section_display": true,
      "toc_window_display": false
    },
    "varInspector": {
      "cols": {
        "lenName": 16,
        "lenType": 16,
        "lenVar": 40
      },
      "kernels_config": {
        "python": {
          "delete_cmd_postfix": "",
          "delete_cmd_prefix": "del ",
          "library": "var_list.py",
          "varRefreshCmd": "print(var_dic_list())"
        },
        "r": {
          "delete_cmd_postfix": ") ",
          "delete_cmd_prefix": "rm(",
          "library": "var_list.r",
          "varRefreshCmd": "cat(var_dic_list()) "
        }
      },
      "types_to_exclude": [
        "module",
        "function",
        "builtin_function_or_method",
        "instance",
        "_Feature"
      ],
      "window_display": false
    },
    "colab": {
      "name": "Term2_Sprint21.ipynb",
      "provenance": [],
      "collapsed_sections": [],
      "toc_visible": true,
      "machine_shape": "hm"
    },
    "accelerator": "GPU"
  },
  "cells": [
    {
      "cell_type": "markdown",
      "metadata": {
        "id": "N4xoSYB5BCp3",
        "colab_type": "text"
      },
      "source": [
        "# Sprint21 自然言語処理入門\n",
        "\n",
        "- 自然言語処理の一連の流れを学ぶ\n",
        "- 自然言語のベクトル化の方法を学ぶ\n",
        "\n",
        "## 自然言語のベクトル化\n",
        "\n",
        "自然言語処理（NLP, Natural Language Processing） とは人間が普段使っている 自然言語 をコンピュータに処理させる技術のことです。ここではその中でも、機械学習の入力として自然言語を用いることを考えていきます。\n",
        "多くの機械学習手法は 数値データ（量的変数） の入力を前提にしていますので、自然言語の テキストデータ を数値データに変換する必要があります。これを 自然言語のベクトル化 と呼びます。ベクトル化の際にテキストデータの特徴をうまく捉えられるよう、様々な手法が考えられてきていますので、このSprintではそれらを学びます。\n",
        "\n",
        "### 非構造化データ\n",
        "データの分類として、表に数値がまとめられたようなコンピュータが扱いやすい形を 構造化データ 、人間が扱いやすい画像・動画・テキスト・音声などを 非構造化データ と呼ぶことがあります。自然言語のベクトル化は、非構造化データを構造化データに変換する工程と言えます。同じ非構造化データでも、画像に対してはディープラーニングを用いる場合この変換作業はあまり必要がありませんでしたが、テキストにおいてはこれをどう行うかが重要です。\n",
        "\n",
        "### 自然言語処理により何ができるか\n",
        "機械学習の入力や出力に自然言語のテキストを用いることで様々なことができます。入力も出力もテキストである例としては 機械翻訳 があげられ、実用化されています。入力は画像で出力がテキストである 画像キャプション生成 やその逆の文章からの画像生成も研究が進んでいます。\n",
        "しかし、出力をテキストや画像のような非構造化データとすることは難易度が高いです。比較的簡単にできることとしては、入力をテキスト、出力をカテゴリーとする テキスト分類 です。\n",
        "アヤメやタイタニック、手書き数字のような定番の存在として、IMDB映画レビューデータセット の感情分析があります。レビューの文書が映画に対して肯定的か否定的かを2値分類します。文書ごとの肯定・否定はラベルが与えられています。このSprintではこれを使っていきます。\n",
        "\n",
        "## IMDB映画レビューデータセットの準備\n"
      ]
    },
    {
      "cell_type": "code",
      "metadata": {
        "id": "gbsCEjn9BCp6",
        "colab_type": "code",
        "colab": {},
        "outputId": "2a53026a-1c05-483f-8883-f3ce04b8591c"
      },
      "source": [
        "pwd"
      ],
      "execution_count": 0,
      "outputs": [
        {
          "output_type": "execute_result",
          "data": {
            "text/plain": [
              "'/Users/ishizucat/git/diveintocode-ml'"
            ]
          },
          "metadata": {
            "tags": []
          },
          "execution_count": 1
        }
      ]
    },
    {
      "cell_type": "code",
      "metadata": {
        "id": "mpgj5RyNBCqG",
        "colab_type": "code",
        "colab": {
          "base_uri": "https://localhost:8080/",
          "height": 1000
        },
        "outputId": "3644730f-5b76-4a34-b5d8-0a2151d7e106"
      },
      "source": [
        "# IMDBをカレントフォルダにダウンロード\n",
        "!wget http://ai.stanford.edu/~amaas/data/sentiment/aclImdb_v1.tar.gz\n",
        "# 解凍\n",
        "!tar zxf aclImdb_v1.tar.gz\n",
        "# aclImdb/train/unsupはラベル無しのため削除\n",
        "!rm -rf aclImdb/train/unsup\n",
        "# IMDBデータセットの説明を表示\n",
        "!cat aclImdb/README"
      ],
      "execution_count": 1,
      "outputs": [
        {
          "output_type": "stream",
          "text": [
            "--2019-12-26 12:08:09--  http://ai.stanford.edu/~amaas/data/sentiment/aclImdb_v1.tar.gz\n",
            "Resolving ai.stanford.edu (ai.stanford.edu)... 171.64.68.10\n",
            "Connecting to ai.stanford.edu (ai.stanford.edu)|171.64.68.10|:80... connected.\n",
            "HTTP request sent, awaiting response... 200 OK\n",
            "Length: 84125825 (80M) [application/x-gzip]\n",
            "Saving to: ‘aclImdb_v1.tar.gz’\n",
            "\n",
            "aclImdb_v1.tar.gz   100%[===================>]  80.23M  69.5MB/s    in 1.2s    \n",
            "\n",
            "2019-12-26 12:08:10 (69.5 MB/s) - ‘aclImdb_v1.tar.gz’ saved [84125825/84125825]\n",
            "\n",
            "Large Movie Review Dataset v1.0\n",
            "\n",
            "Overview\n",
            "\n",
            "This dataset contains movie reviews along with their associated binary\n",
            "sentiment polarity labels. It is intended to serve as a benchmark for\n",
            "sentiment classification. This document outlines how the dataset was\n",
            "gathered, and how to use the files provided. \n",
            "\n",
            "Dataset \n",
            "\n",
            "The core dataset contains 50,000 reviews split evenly into 25k train\n",
            "and 25k test sets. The overall distribution of labels is balanced (25k\n",
            "pos and 25k neg). We also include an additional 50,000 unlabeled\n",
            "documents for unsupervised learning. \n",
            "\n",
            "In the entire collection, no more than 30 reviews are allowed for any\n",
            "given movie because reviews for the same movie tend to have correlated\n",
            "ratings. Further, the train and test sets contain a disjoint set of\n",
            "movies, so no significant performance is obtained by memorizing\n",
            "movie-unique terms and their associated with observed labels.  In the\n",
            "labeled train/test sets, a negative review has a score <= 4 out of 10,\n",
            "and a positive review has a score >= 7 out of 10. Thus reviews with\n",
            "more neutral ratings are not included in the train/test sets. In the\n",
            "unsupervised set, reviews of any rating are included and there are an\n",
            "even number of reviews > 5 and <= 5.\n",
            "\n",
            "Files\n",
            "\n",
            "There are two top-level directories [train/, test/] corresponding to\n",
            "the training and test sets. Each contains [pos/, neg/] directories for\n",
            "the reviews with binary labels positive and negative. Within these\n",
            "directories, reviews are stored in text files named following the\n",
            "convention [[id]_[rating].txt] where [id] is a unique id and [rating] is\n",
            "the star rating for that review on a 1-10 scale. For example, the file\n",
            "[test/pos/200_8.txt] is the text for a positive-labeled test set\n",
            "example with unique id 200 and star rating 8/10 from IMDb. The\n",
            "[train/unsup/] directory has 0 for all ratings because the ratings are\n",
            "omitted for this portion of the dataset.\n",
            "\n",
            "We also include the IMDb URLs for each review in a separate\n",
            "[urls_[pos, neg, unsup].txt] file. A review with unique id 200 will\n",
            "have its URL on line 200 of this file. Due the ever-changing IMDb, we\n",
            "are unable to link directly to the review, but only to the movie's\n",
            "review page.\n",
            "\n",
            "In addition to the review text files, we include already-tokenized bag\n",
            "of words (BoW) features that were used in our experiments. These \n",
            "are stored in .feat files in the train/test directories. Each .feat\n",
            "file is in LIBSVM format, an ascii sparse-vector format for labeled\n",
            "data.  The feature indices in these files start from 0, and the text\n",
            "tokens corresponding to a feature index is found in [imdb.vocab]. So a\n",
            "line with 0:7 in a .feat file means the first word in [imdb.vocab]\n",
            "(the) appears 7 times in that review.\n",
            "\n",
            "LIBSVM page for details on .feat file format:\n",
            "http://www.csie.ntu.edu.tw/~cjlin/libsvm/\n",
            "\n",
            "We also include [imdbEr.txt] which contains the expected rating for\n",
            "each token in [imdb.vocab] as computed by (Potts, 2011). The expected\n",
            "rating is a good way to get a sense for the average polarity of a word\n",
            "in the dataset.\n",
            "\n",
            "Citing the dataset\n",
            "\n",
            "When using this dataset please cite our ACL 2011 paper which\n",
            "introduces it. This paper also contains classification results which\n",
            "you may want to compare against.\n",
            "\n",
            "\n",
            "@InProceedings{maas-EtAl:2011:ACL-HLT2011,\n",
            "  author    = {Maas, Andrew L.  and  Daly, Raymond E.  and  Pham, Peter T.  and  Huang, Dan  and  Ng, Andrew Y.  and  Potts, Christopher},\n",
            "  title     = {Learning Word Vectors for Sentiment Analysis},\n",
            "  booktitle = {Proceedings of the 49th Annual Meeting of the Association for Computational Linguistics: Human Language Technologies},\n",
            "  month     = {June},\n",
            "  year      = {2011},\n",
            "  address   = {Portland, Oregon, USA},\n",
            "  publisher = {Association for Computational Linguistics},\n",
            "  pages     = {142--150},\n",
            "  url       = {http://www.aclweb.org/anthology/P11-1015}\n",
            "}\n",
            "\n",
            "References\n",
            "\n",
            "Potts, Christopher. 2011. On the negativity of negation. In Nan Li and\n",
            "David Lutz, eds., Proceedings of Semantics and Linguistic Theory 20,\n",
            "636-659.\n",
            "\n",
            "Contact\n",
            "\n",
            "For questions/comments/corrections please contact Andrew Maas\n",
            "amaas@cs.stanford.edu\n"
          ],
          "name": "stdout"
        }
      ]
    },
    {
      "cell_type": "code",
      "metadata": {
        "id": "Lgxamba_BCqP",
        "colab_type": "code",
        "colab": {
          "base_uri": "https://localhost:8080/",
          "height": 34
        },
        "outputId": "308c6582-ff0c-4f61-abc6-1f93dffe7609"
      },
      "source": [
        "from sklearn.datasets import load_files\n",
        "\n",
        "train_review = load_files('./aclImdb/train/', encoding='utf-8')\n",
        "x_train, y_train = train_review.data, train_review.target\n",
        "\n",
        "test_review = load_files('./aclImdb/test/', encoding='utf-8')\n",
        "x_test, y_test = test_review.data, test_review.target\n",
        "\n",
        "# ラベルの0,1と意味の対応の表示\n",
        "print(train_review.target_names)"
      ],
      "execution_count": 2,
      "outputs": [
        {
          "output_type": "stream",
          "text": [
            "['neg', 'pos']\n"
          ],
          "name": "stdout"
        }
      ]
    },
    {
      "cell_type": "code",
      "metadata": {
        "id": "7nCI0V6BBRPM",
        "colab_type": "code",
        "colab": {
          "base_uri": "https://localhost:8080/",
          "height": 54
        },
        "outputId": "7bed42cf-2c4b-488b-ce66-405f0cf7b9b6"
      },
      "source": [
        "print(\"x : {}\".format(x_train[0]))"
      ],
      "execution_count": 3,
      "outputs": [
        {
          "output_type": "stream",
          "text": [
            "x : Zero Day leads you to think, even re-think why two boys/young men would do what they did - commit mutual suicide via slaughtering their classmates. It captures what must be beyond a bizarre mode of being for two humans who have decided to withdraw from common civility in order to define their own/mutual world via coupled destruction.<br /><br />It is not a perfect movie but given what money/time the filmmaker and actors had - it is a remarkable product. In terms of explaining the motives and actions of the two young suicide/murderers it is better than 'Elephant' - in terms of being a film that gets under our 'rationalistic' skin it is a far, far better film than almost anything you are likely to see. <br /><br />Flawed but honest with a terrible honesty.\n"
          ],
          "name": "stdout"
        }
      ]
    },
    {
      "cell_type": "markdown",
      "metadata": {
        "id": "WF02EXqEHfxA",
        "colab_type": "text"
      },
      "source": [
        "## BoW(Bag of Words)\n",
        "単純ながら効果的な方法として BoW (Bag of Words) があります。これは、サンプルごとに単語などの 登場回数 を数えたものをベクトルとする方法です。単語をカテゴリとして捉え one-hot表現 していることになります。"
      ]
    },
    {
      "cell_type": "code",
      "metadata": {
        "id": "DSVzyHiPHXVq",
        "colab_type": "code",
        "colab": {}
      },
      "source": [
        "# 例\n",
        "mini_dataset = \\\n",
        "  [\"This movie is very good.\",\n",
        "  \"This film is a good\",\n",
        "  \"Very bad. Very, very bad.\"]"
      ],
      "execution_count": 0,
      "outputs": []
    },
    {
      "cell_type": "code",
      "metadata": {
        "id": "6dYMdD05HwZ-",
        "colab_type": "code",
        "colab": {
          "base_uri": "https://localhost:8080/",
          "height": 142
        },
        "outputId": "60f8fbc7-d550-454f-b35c-109195db94e0"
      },
      "source": [
        "#BoWを適用させる\n",
        "import pandas as pd\n",
        "from sklearn.feature_extraction.text import CountVectorizer\n",
        "\n",
        "vectorizer = CountVectorizer(token_pattern=r'(?u)\\b\\w+\\b')\n",
        "bow = (vectorizer.fit_transform(mini_dataset)).toarray()\n",
        "\n",
        "# DataFrameにまとめる\n",
        "df = pd.DataFrame(bow, columns=vectorizer.get_feature_names())\n",
        "display(df)"
      ],
      "execution_count": 5,
      "outputs": [
        {
          "output_type": "display_data",
          "data": {
            "text/html": [
              "<div>\n",
              "<style scoped>\n",
              "    .dataframe tbody tr th:only-of-type {\n",
              "        vertical-align: middle;\n",
              "    }\n",
              "\n",
              "    .dataframe tbody tr th {\n",
              "        vertical-align: top;\n",
              "    }\n",
              "\n",
              "    .dataframe thead th {\n",
              "        text-align: right;\n",
              "    }\n",
              "</style>\n",
              "<table border=\"1\" class=\"dataframe\">\n",
              "  <thead>\n",
              "    <tr style=\"text-align: right;\">\n",
              "      <th></th>\n",
              "      <th>a</th>\n",
              "      <th>bad</th>\n",
              "      <th>film</th>\n",
              "      <th>good</th>\n",
              "      <th>is</th>\n",
              "      <th>movie</th>\n",
              "      <th>this</th>\n",
              "      <th>very</th>\n",
              "    </tr>\n",
              "  </thead>\n",
              "  <tbody>\n",
              "    <tr>\n",
              "      <th>0</th>\n",
              "      <td>0</td>\n",
              "      <td>0</td>\n",
              "      <td>0</td>\n",
              "      <td>1</td>\n",
              "      <td>1</td>\n",
              "      <td>1</td>\n",
              "      <td>1</td>\n",
              "      <td>1</td>\n",
              "    </tr>\n",
              "    <tr>\n",
              "      <th>1</th>\n",
              "      <td>1</td>\n",
              "      <td>0</td>\n",
              "      <td>1</td>\n",
              "      <td>1</td>\n",
              "      <td>1</td>\n",
              "      <td>0</td>\n",
              "      <td>1</td>\n",
              "      <td>0</td>\n",
              "    </tr>\n",
              "    <tr>\n",
              "      <th>2</th>\n",
              "      <td>0</td>\n",
              "      <td>2</td>\n",
              "      <td>0</td>\n",
              "      <td>0</td>\n",
              "      <td>0</td>\n",
              "      <td>0</td>\n",
              "      <td>0</td>\n",
              "      <td>3</td>\n",
              "    </tr>\n",
              "  </tbody>\n",
              "</table>\n",
              "</div>"
            ],
            "text/plain": [
              "   a  bad  film  good  is  movie  this  very\n",
              "0  0    0     0     1   1      1     1     1\n",
              "1  1    0     1     1   1      0     1     0\n",
              "2  0    2     0     0   0      0     0     3"
            ]
          },
          "metadata": {
            "tags": []
          }
        }
      ]
    },
    {
      "cell_type": "markdown",
      "metadata": {
        "id": "i7A6MoOlIKN_",
        "colab_type": "text"
      },
      "source": [
        "例にあげた3文の中で登場する8種類の単語が列名になり、0,1,2番目のサンプルでそれらが何回登場しているかを示しています。2番目のサンプル「Very bad. Very, very bad.」ではbadが2回、veryが3回登場しています。列名になっている言葉はデータセットが持つ 語彙 と呼びます。\n",
        "テキストはBoWにより各サンプルが語彙数の次元を持つ特徴量となり、機械学習モデルへ入力できるようになります。この時使用したテキスト全体のことを コーパス と呼びます。語彙はコーパスに含まれる言葉よって決まり、それを特徴量としてモデルの学習を行います。そのため、**テスト用データではじめて登場する語彙はベクトル化される際に無視されます**。\n",
        "\n",
        "### 前処理\n",
        "CountVectorizerクラスでは大文字は小文字に揃えるという 前処理 が自動的に行われています。こういった前処理は自然言語処理において大切で、不要な記号などの消去（テキストクリーニング）や表記揺れの統一といったことを別途行うことが一般的です。\n",
        "語形が「see」「saw」「seen」のように変化する単語に対して語幹に揃える ステミング と呼ばれる処理を行うこともあります。\n",
        "\n",
        "### トークン\n",
        "BoWは厳密には単語を数えているのではなく、 トークン（token） として定めた固まりを数えます。\n",
        "何をトークンとするかはCountVectorizerでは引数token_patternで 正規表現 の記法により指定されます。デフォルトはr'(?u)\\b\\w\\w+\\b'ですが、上の例ではr'(?u)\\b\\w+\\b'としています。\n",
        "デフォルトでは空白・句読点・スラッシュなどに囲まれた2文字以上の文字を1つのトークンとして抜き出すようになっているため、「a」や「I」などがカウントされません。英語では1文字の単語は文章の特徴をあまり表さないため、除外されることもあります。しかし、上の例では1文字の単語もトークンとして抜き出すように引数を指定しています。\n",
        "\n",
        "### 形態素解析\n",
        "英語などの多くの言語では空白という分かりやすい基準でトークン化が行えますが、日本語ではそれが行えません。\n",
        "日本語では名詞や助詞、動詞のように異なる 品詞 で分けられる単位で 分かち書き することになります。例えば「私はプログラミングを学びます」という日本語の文は「私/は/プログラミング/を/学び/ます」という風になります。\n",
        "これには MeCab や Janome のような形態素解析ツールを用います。Pythonから利用することも可能です。MeCabをウェブ上で簡単に利用できる\n",
        "\n",
        "「Web茶まめ」というサービスも国立国語研究所が提供しています。\n",
        "自然言語では新しい言葉も日々生まれますので、それにどれだけ対応できるかも大切です。MeCab用の毎週更新される辞書として mecab-ipadic-NEologd がオープンソースで存在しています。\n",
        "\n",
        "https://github.com/neologd/mecab-ipadic-neologd/blob/master/README.ja.md\n",
        "\n",
        "## n-gram\n",
        "上のBoWの例では1つの単語（トークン）毎の登場回数を数えましたが、これでは語順は全く考慮されていません。\n",
        "考慮するために、隣あう単語同士をまとめて扱う n-gram という考え方を適用することがあります。2つの単語をまとめる場合は 2-gram (bigram) と呼び、次のようになります。"
      ]
    },
    {
      "cell_type": "code",
      "metadata": {
        "id": "sxjLTFYhII3r",
        "colab_type": "code",
        "colab": {
          "base_uri": "https://localhost:8080/",
          "height": 196
        },
        "outputId": "33394749-c884-4c30-f573-33f47e1566f0"
      },
      "source": [
        "# ngram_rangeで利用するn-gramの範囲を指定する\n",
        "vectorizer = CountVectorizer(ngram_range=(2, 2), token_pattern=r'(?u)\\b\\w+\\b')\n",
        "bow_train = (vectorizer.fit_transform(mini_dataset)).toarray()\n",
        "print(vectorizer.get_feature_names())\n",
        "df = pd.DataFrame(bow_train, columns=vectorizer.get_feature_names())\n",
        "display(df)"
      ],
      "execution_count": 6,
      "outputs": [
        {
          "output_type": "stream",
          "text": [
            "['a good', 'bad very', 'film is', 'is a', 'is very', 'movie is', 'this film', 'this movie', 'very bad', 'very good', 'very very']\n"
          ],
          "name": "stdout"
        },
        {
          "output_type": "display_data",
          "data": {
            "text/html": [
              "<div>\n",
              "<style scoped>\n",
              "    .dataframe tbody tr th:only-of-type {\n",
              "        vertical-align: middle;\n",
              "    }\n",
              "\n",
              "    .dataframe tbody tr th {\n",
              "        vertical-align: top;\n",
              "    }\n",
              "\n",
              "    .dataframe thead th {\n",
              "        text-align: right;\n",
              "    }\n",
              "</style>\n",
              "<table border=\"1\" class=\"dataframe\">\n",
              "  <thead>\n",
              "    <tr style=\"text-align: right;\">\n",
              "      <th></th>\n",
              "      <th>a good</th>\n",
              "      <th>bad very</th>\n",
              "      <th>film is</th>\n",
              "      <th>is a</th>\n",
              "      <th>is very</th>\n",
              "      <th>movie is</th>\n",
              "      <th>this film</th>\n",
              "      <th>this movie</th>\n",
              "      <th>very bad</th>\n",
              "      <th>very good</th>\n",
              "      <th>very very</th>\n",
              "    </tr>\n",
              "  </thead>\n",
              "  <tbody>\n",
              "    <tr>\n",
              "      <th>0</th>\n",
              "      <td>0</td>\n",
              "      <td>0</td>\n",
              "      <td>0</td>\n",
              "      <td>0</td>\n",
              "      <td>1</td>\n",
              "      <td>1</td>\n",
              "      <td>0</td>\n",
              "      <td>1</td>\n",
              "      <td>0</td>\n",
              "      <td>1</td>\n",
              "      <td>0</td>\n",
              "    </tr>\n",
              "    <tr>\n",
              "      <th>1</th>\n",
              "      <td>1</td>\n",
              "      <td>0</td>\n",
              "      <td>1</td>\n",
              "      <td>1</td>\n",
              "      <td>0</td>\n",
              "      <td>0</td>\n",
              "      <td>1</td>\n",
              "      <td>0</td>\n",
              "      <td>0</td>\n",
              "      <td>0</td>\n",
              "      <td>0</td>\n",
              "    </tr>\n",
              "    <tr>\n",
              "      <th>2</th>\n",
              "      <td>0</td>\n",
              "      <td>1</td>\n",
              "      <td>0</td>\n",
              "      <td>0</td>\n",
              "      <td>0</td>\n",
              "      <td>0</td>\n",
              "      <td>0</td>\n",
              "      <td>0</td>\n",
              "      <td>2</td>\n",
              "      <td>0</td>\n",
              "      <td>1</td>\n",
              "    </tr>\n",
              "  </tbody>\n",
              "</table>\n",
              "</div>"
            ],
            "text/plain": [
              "   a good  bad very  film is  is a  ...  this movie  very bad  very good  very very\n",
              "0       0         0        0     0  ...           1         0          1          0\n",
              "1       1         0        1     1  ...           0         0          0          0\n",
              "2       0         1        0     0  ...           0         2          0          1\n",
              "\n",
              "[3 rows x 11 columns]"
            ]
          },
          "metadata": {
            "tags": []
          }
        }
      ]
    },
    {
      "cell_type": "markdown",
      "metadata": {
        "id": "IVl8qnVNKCDD",
        "colab_type": "text"
      },
      "source": [
        "2-gramにより「very good」と「very bad」が区別して数えられています。\n",
        "単語をまとめない場合は 1-gram (unigram) と呼びます。3つまとめる3-gram(trigram)など任意の数を考えることができます。1-gramと2-gramを組み合わせてBoWを行うといったこともあります。"
      ]
    },
    {
      "cell_type": "markdown",
      "metadata": {
        "id": "3IXCPKYnKbCE",
        "colab_type": "text"
      },
      "source": [
        "## BoWのスクラッチ実装\n",
        "\n",
        ">This movie is SOOOO funny!!!\n",
        ">What a movie! I never\n",
        ">best movie ever!!!!! this movie\n",
        "\n",
        "上記の3文を1-gramと2-gramで計算する。"
      ]
    },
    {
      "cell_type": "code",
      "metadata": {
        "id": "tFQcXOrvJ5Y7",
        "colab_type": "code",
        "colab": {}
      },
      "source": [
        "import re\n",
        "import numpy as np\n",
        "\n",
        "mini_dataset = \\\n",
        "  [\"This movie is very good.\",\n",
        "  \"This film is a good\",\n",
        "  \"Very bad. Very, very bad.\"]"
      ],
      "execution_count": 0,
      "outputs": []
    },
    {
      "cell_type": "code",
      "metadata": {
        "id": "GMlv1WoQZ8jA",
        "colab_type": "code",
        "colab": {}
      },
      "source": [
        "class BoW_1_gram():\n",
        "  def __init__(self, token_pattern=r'(?u)\\b\\w+\\b'):\n",
        "    self.token_pattern = token_pattern\n",
        "  \n",
        "  def fit(self, sentence):\n",
        "    \"\"\"\n",
        "    文を引数として受け取り、コーパスをndarray型で返す\n",
        "    \"\"\"\n",
        "    sentence_num = len(sentence)\n",
        "    \n",
        "    #正規表現で分割\n",
        "    splits = []\n",
        "    for s in sentence:\n",
        "      splits.append(re.findall(self.token_pattern, s))\n",
        "    \n",
        "    #小文字化\n",
        "    lower = []\n",
        "    for l in splits:\n",
        "      lower.append([str.lower() for str in l])\n",
        "\n",
        "    #flattenして重複排除\n",
        "    labels = list(set(sum(lower, [])))\n",
        "\n",
        "    copus = np.empty((sentence_num,len(labels)))\n",
        "    for i ,label in enumerate(labels):\n",
        "      for row, value in enumerate(lower):\n",
        "        copus[row, i] =  value.count(label)\n",
        "    \n",
        "    self.labels = labels\n",
        "\n",
        "    return copus\n",
        "\n"
      ],
      "execution_count": 0,
      "outputs": []
    },
    {
      "cell_type": "code",
      "metadata": {
        "id": "1pSWoMKActaF",
        "colab_type": "code",
        "colab": {
          "base_uri": "https://localhost:8080/",
          "height": 85
        },
        "outputId": "6f292fb4-9b7a-4172-a792-22ec567da4e8"
      },
      "source": [
        "gram = BoW_1_gram()\n",
        "result = gram.fit(mini_dataset)\n",
        "\n",
        "print(gram.labels)\n",
        "print(result)"
      ],
      "execution_count": 9,
      "outputs": [
        {
          "output_type": "stream",
          "text": [
            "['film', 'good', 'movie', 'very', 'bad', 'this', 'a', 'is']\n",
            "[[0. 1. 1. 1. 0. 1. 0. 1.]\n",
            " [1. 1. 0. 0. 0. 1. 1. 1.]\n",
            " [0. 0. 0. 3. 2. 0. 0. 0.]]\n"
          ],
          "name": "stdout"
        }
      ]
    },
    {
      "cell_type": "code",
      "metadata": {
        "id": "fz1j7lXntyBh",
        "colab_type": "code",
        "colab": {}
      },
      "source": [
        "class BoW_2_gram(BoW_1_gram):\n",
        "    def fit(self, sentence):\n",
        "      \"\"\"\n",
        "      文を引数として受け取り、コーパスをndarray型で返す\n",
        "      \"\"\"\n",
        "      sentence_num = len(sentence)\n",
        "      \n",
        "      #正規表現で分割\n",
        "      splits = []\n",
        "      for s in sentence:\n",
        "        splits.append(re.findall(self.token_pattern, s))\n",
        "      \n",
        "      #小文字化\n",
        "      lower = []\n",
        "      for l in splits:\n",
        "        lower.append([str.lower() for str in l])\n",
        "      \n",
        "      #2文字取得\n",
        "      two_words = []\n",
        "      for s in lower:\n",
        "        temp = []\n",
        "        for i in range(len(s)-1):\n",
        "          temp.append(s[i]+\" \"+s[i+1])\n",
        "        two_words.append(temp)\n",
        "\n",
        "      #flattenして重複排除\n",
        "      labels = list(set(sum(two_words, [])))\n",
        "\n",
        "      copus = np.empty((sentence_num,len(labels)))\n",
        "      for i ,label in enumerate(labels):\n",
        "        for row, value in enumerate(two_words):\n",
        "          copus[row, i] =  value.count(label)\n",
        "      \n",
        "      self.labels = labels\n",
        "\n",
        "      return copus\n"
      ],
      "execution_count": 0,
      "outputs": []
    },
    {
      "cell_type": "code",
      "metadata": {
        "id": "IeBbNWH5c-AW",
        "colab_type": "code",
        "colab": {
          "base_uri": "https://localhost:8080/",
          "height": 105
        },
        "outputId": "947cb7a3-488b-4d7f-90c5-41b8d39bad3a"
      },
      "source": [
        "gram2 = BoW_2_gram()\n",
        "result2 = gram2.fit(mini_dataset)\n",
        "\n",
        "print(gram2.labels)\n",
        "print(result2)"
      ],
      "execution_count": 11,
      "outputs": [
        {
          "output_type": "stream",
          "text": [
            "['is a', 'very bad', 'this movie', 'very good', 'is very', 'movie is', 'a good', 'bad very', 'very very', 'this film', 'film is']\n",
            "[[0. 0. 1. 1. 1. 1. 0. 0. 0. 0. 0.]\n",
            " [1. 0. 0. 0. 0. 0. 1. 0. 0. 1. 1.]\n",
            " [0. 2. 0. 0. 0. 0. 0. 1. 1. 0. 0.]]\n"
          ],
          "name": "stdout"
        }
      ]
    },
    {
      "cell_type": "code",
      "metadata": {
        "id": "NWb1jRDyHD-9",
        "colab_type": "code",
        "colab": {}
      },
      "source": [
        "test_dataset = [\n",
        "                \"This movie is SOOOO funny!!!\", \n",
        "                \"What a movie! I never\", \n",
        "                \"best movie ever!!!!! this movie\"\n",
        "]"
      ],
      "execution_count": 0,
      "outputs": []
    },
    {
      "cell_type": "code",
      "metadata": {
        "id": "wvYSlI3-Hvmc",
        "colab_type": "code",
        "colab": {
          "base_uri": "https://localhost:8080/",
          "height": 85
        },
        "outputId": "f0188b94-3aa8-45ef-e0b3-395f0e2a8303"
      },
      "source": [
        "gram_test = BoW_1_gram()\n",
        "result3 = gram_test.fit(test_dataset)\n",
        "print(gram_test.labels)\n",
        "print(result3)\n"
      ],
      "execution_count": 14,
      "outputs": [
        {
          "output_type": "stream",
          "text": [
            "['soooo', 'funny', 'movie', 'what', 'never', 'this', 'a', 'best', 'i', 'is', 'ever']\n",
            "[[1. 1. 1. 0. 0. 1. 0. 0. 0. 1. 0.]\n",
            " [0. 0. 1. 1. 1. 0. 1. 0. 1. 0. 0.]\n",
            " [0. 0. 2. 0. 0. 1. 0. 1. 0. 0. 1.]]\n"
          ],
          "name": "stdout"
        }
      ]
    },
    {
      "cell_type": "code",
      "metadata": {
        "id": "GEyW-ucUIS92",
        "colab_type": "code",
        "colab": {
          "base_uri": "https://localhost:8080/",
          "height": 105
        },
        "outputId": "61009d58-6fe8-4b8c-ce6b-41d8f3d66efd"
      },
      "source": [
        "gram2_test = BoW_2_gram()\n",
        "result4 = gram2_test.fit(test_dataset)\n",
        "print(gram2_test.labels)\n",
        "print(result4)"
      ],
      "execution_count": 15,
      "outputs": [
        {
          "output_type": "stream",
          "text": [
            "['is soooo', 'best movie', 'this movie', 'what a', 'i never', 'movie is', 'movie i', 'movie ever', 'soooo funny', 'ever this', 'a movie']\n",
            "[[1. 0. 1. 0. 0. 1. 0. 0. 1. 0. 0.]\n",
            " [0. 0. 0. 1. 1. 0. 1. 0. 0. 0. 1.]\n",
            " [0. 1. 1. 0. 0. 0. 0. 1. 0. 1. 0.]]\n"
          ],
          "name": "stdout"
        }
      ]
    },
    {
      "cell_type": "markdown",
      "metadata": {
        "id": "ummsUjHAyycG",
        "colab_type": "text"
      },
      "source": [
        "## TF-IDF\n",
        "\n",
        "BoWの発展的手法として TF-IDF もよく使われます。これは Term Frequency (TF) と Inverse Document Frequency (IDF) という2つの指標の組み合わせです。\n",
        "\n",
        "**Term Frequency**:\n",
        "$$\n",
        "tf(t, d) = \\frac{n_{t,d}}{\\sum_{s \\in d}n_{s, d}}\n",
        "$$\n",
        "\n",
        "右辺分子：サンプルd内のトークンtの出現回数（＝BoW）\n",
        "\n",
        "右辺分母：サンプルdの全トークンの出現回数の和\n",
        "\n",
        "**Inverse Document Frequency**:\n",
        "$$\n",
        "idf(t) = log \\frac{N}{df(t)}\n",
        "$$\n",
        "\n",
        "N：サンプル数\n",
        "\n",
        "df(t)：トークンtが出現するサンプル数\n",
        "\n",
        "**TF-IDF**:\n",
        "$$\n",
        "tfidf(t, d) = tf(t, d) \\times idf(t)\n",
        "$$\n",
        "\n",
        "### IDF\n",
        "IDFはそのトークンがデータセット内で珍しいほど値が大きくなる指標です。\n",
        "サンプル数 NをIMDB映画レビューデータセットの訓練用データに合わせ25000として、トークンが出現するサンプル数 df(t) を変化させたグラフを確認してみると、次のようになります。"
      ]
    },
    {
      "cell_type": "code",
      "metadata": {
        "id": "tA1zAB3kqbgb",
        "colab_type": "code",
        "colab": {
          "base_uri": "https://localhost:8080/",
          "height": 295
        },
        "outputId": "aed32764-ed8c-4379-ab72-64adc6767930"
      },
      "source": [
        "import numpy as np\n",
        "import matplotlib.pyplot as plt\n",
        "% matplotlib inline\n",
        "\n",
        "n_samples = 25000\n",
        "idf = np.log(n_samples/np.arange(1,n_samples))\n",
        "plt.title(\"IDF\")\n",
        "plt.xlabel(\"df(t)\")\n",
        "plt.ylabel(\"IDF\")\n",
        "plt.plot(idf)\n",
        "plt.show()"
      ],
      "execution_count": 16,
      "outputs": [
        {
          "output_type": "display_data",
          "data": {
            "image/png": "[encoded data removed]",
            "text/plain": [
              "<Figure size 432x288 with 1 Axes>"
            ]
          },
          "metadata": {
            "tags": []
          }
        }
      ]
    },
    {
      "cell_type": "markdown",
      "metadata": {
        "id": "-NrYED-K4VpA",
        "colab_type": "text"
      },
      "source": [
        "TF-IDFではこの数を出現回数に掛け合わせるので、珍しいトークンの登場に重み付けを行なっていることになります。\n",
        "\n",
        "\n",
        "### ストップワード\n",
        "あまりにも頻繁に登場するトークンは、値を小さくするだけでなく、取り除くという前処理を加えることもあります。取り除くもののことを ストップワード と呼びます。既存のストップワード一覧を利用したり、しきい値によって求めたりします。\n",
        "scikit-learnのCountVectorizerでは引数stop_wordsにリストで指定することで処理を行なってくれます。"
      ]
    },
    {
      "cell_type": "code",
      "metadata": {
        "id": "W8GXt2JMzUKE",
        "colab_type": "code",
        "colab": {
          "base_uri": "https://localhost:8080/",
          "height": 142
        },
        "outputId": "1962bcd8-228b-4022-b54d-15353c0a1512"
      },
      "source": [
        "vectorizer = CountVectorizer(stop_words=[\"is\"], token_pattern=r'\\b\\w+\\b')\n",
        "bow_train = (vectorizer.fit_transform(mini_dataset)).toarray()\n",
        "df = pd.DataFrame(bow_train, columns=vectorizer.get_feature_names())\n",
        "display(df)"
      ],
      "execution_count": 17,
      "outputs": [
        {
          "output_type": "display_data",
          "data": {
            "text/html": [
              "<div>\n",
              "<style scoped>\n",
              "    .dataframe tbody tr th:only-of-type {\n",
              "        vertical-align: middle;\n",
              "    }\n",
              "\n",
              "    .dataframe tbody tr th {\n",
              "        vertical-align: top;\n",
              "    }\n",
              "\n",
              "    .dataframe thead th {\n",
              "        text-align: right;\n",
              "    }\n",
              "</style>\n",
              "<table border=\"1\" class=\"dataframe\">\n",
              "  <thead>\n",
              "    <tr style=\"text-align: right;\">\n",
              "      <th></th>\n",
              "      <th>a</th>\n",
              "      <th>bad</th>\n",
              "      <th>film</th>\n",
              "      <th>good</th>\n",
              "      <th>movie</th>\n",
              "      <th>this</th>\n",
              "      <th>very</th>\n",
              "    </tr>\n",
              "  </thead>\n",
              "  <tbody>\n",
              "    <tr>\n",
              "      <th>0</th>\n",
              "      <td>0</td>\n",
              "      <td>0</td>\n",
              "      <td>0</td>\n",
              "      <td>1</td>\n",
              "      <td>1</td>\n",
              "      <td>1</td>\n",
              "      <td>1</td>\n",
              "    </tr>\n",
              "    <tr>\n",
              "      <th>1</th>\n",
              "      <td>1</td>\n",
              "      <td>0</td>\n",
              "      <td>1</td>\n",
              "      <td>1</td>\n",
              "      <td>0</td>\n",
              "      <td>1</td>\n",
              "      <td>0</td>\n",
              "    </tr>\n",
              "    <tr>\n",
              "      <th>2</th>\n",
              "      <td>0</td>\n",
              "      <td>2</td>\n",
              "      <td>0</td>\n",
              "      <td>0</td>\n",
              "      <td>0</td>\n",
              "      <td>0</td>\n",
              "      <td>3</td>\n",
              "    </tr>\n",
              "  </tbody>\n",
              "</table>\n",
              "</div>"
            ],
            "text/plain": [
              "   a  bad  film  good  movie  this  very\n",
              "0  0    0     0     1      1     1     1\n",
              "1  1    0     1     1      0     1     0\n",
              "2  0    2     0     0      0     0     3"
            ]
          },
          "metadata": {
            "tags": []
          }
        }
      ]
    },
    {
      "cell_type": "markdown",
      "metadata": {
        "id": "pfs-mLKy4pKW",
        "colab_type": "text"
      },
      "source": [
        "代表的な既存のストップワード一覧としては、NLTK という自然言語処理のライブラリのものがあげられます。あるデータセットにおいては特別重要な意味を持つ単語が一覧に含まれている可能性もあるため、使用する際は中身を確認することが望ましいです"
      ]
    },
    {
      "cell_type": "code",
      "metadata": {
        "id": "RQ25kupe4j1r",
        "colab_type": "code",
        "colab": {
          "base_uri": "https://localhost:8080/",
          "height": 88
        },
        "outputId": "34c39e99-694e-4630-df4b-5a6cc8762eb5"
      },
      "source": [
        "# はじめて使う場合はストップワードをダウンロード\n",
        "import nltk\n",
        "stop_words = nltk.download('stopwords')\n",
        "\n",
        "from nltk.corpus import stopwords\n",
        "nltk_stop_words = stopwords.words('english')\n",
        "print(\"stop word : {}\".format(nltk_stop_words)) # 'i', 'me', 'my', ..."
      ],
      "execution_count": 18,
      "outputs": [
        {
          "output_type": "stream",
          "text": [
            "[nltk_data] Downloading package stopwords to /root/nltk_data...\n",
            "[nltk_data]   Unzipping corpora/stopwords.zip.\n",
            "stop word : ['i', 'me', 'my', 'myself', 'we', 'our', 'ours', 'ourselves', 'you', \"you're\", \"you've\", \"you'll\", \"you'd\", 'your', 'yours', 'yourself', 'yourselves', 'he', 'him', 'his', 'himself', 'she', \"she's\", 'her', 'hers', 'herself', 'it', \"it's\", 'its', 'itself', 'they', 'them', 'their', 'theirs', 'themselves', 'what', 'which', 'who', 'whom', 'this', 'that', \"that'll\", 'these', 'those', 'am', 'is', 'are', 'was', 'were', 'be', 'been', 'being', 'have', 'has', 'had', 'having', 'do', 'does', 'did', 'doing', 'a', 'an', 'the', 'and', 'but', 'if', 'or', 'because', 'as', 'until', 'while', 'of', 'at', 'by', 'for', 'with', 'about', 'against', 'between', 'into', 'through', 'during', 'before', 'after', 'above', 'below', 'to', 'from', 'up', 'down', 'in', 'out', 'on', 'off', 'over', 'under', 'again', 'further', 'then', 'once', 'here', 'there', 'when', 'where', 'why', 'how', 'all', 'any', 'both', 'each', 'few', 'more', 'most', 'other', 'some', 'such', 'no', 'nor', 'not', 'only', 'own', 'same', 'so', 'than', 'too', 'very', 's', 't', 'can', 'will', 'just', 'don', \"don't\", 'should', \"should've\", 'now', 'd', 'll', 'm', 'o', 're', 've', 'y', 'ain', 'aren', \"aren't\", 'couldn', \"couldn't\", 'didn', \"didn't\", 'doesn', \"doesn't\", 'hadn', \"hadn't\", 'hasn', \"hasn't\", 'haven', \"haven't\", 'isn', \"isn't\", 'ma', 'mightn', \"mightn't\", 'mustn', \"mustn't\", 'needn', \"needn't\", 'shan', \"shan't\", 'shouldn', \"shouldn't\", 'wasn', \"wasn't\", 'weren', \"weren't\", 'won', \"won't\", 'wouldn', \"wouldn't\"]\n"
          ],
          "name": "stdout"
        }
      ]
    },
    {
      "cell_type": "markdown",
      "metadata": {
        "id": "iI67oiCC44wx",
        "colab_type": "text"
      },
      "source": [
        "逆に、登場回数が特に少ないトークンも取り除くことが多いです。全てのトークンを用いるとベクトルの次元数が著しく大きくなってしまい計算コストが高まるためです。\n",
        "scikit-learnのCountVectorizerでは引数max_featuresに最大の語彙数を指定することで処理を行なってくれます。以下の例では出現数が多い順に5個でベクトル化しています。"
      ]
    },
    {
      "cell_type": "code",
      "metadata": {
        "id": "oxYEHDTm4w_z",
        "colab_type": "code",
        "colab": {
          "base_uri": "https://localhost:8080/",
          "height": 142
        },
        "outputId": "2e5877b3-2166-4acc-d124-2794d28f40e6"
      },
      "source": [
        "vectorizer = CountVectorizer(token_pattern=r'\\b\\w+\\b', max_features = 5)\n",
        "bow_train = (vectorizer.fit_transform(mini_dataset)).toarray()\n",
        "df = pd.DataFrame(bow_train, columns=vectorizer.get_feature_names())\n",
        "display(df)"
      ],
      "execution_count": 19,
      "outputs": [
        {
          "output_type": "display_data",
          "data": {
            "text/html": [
              "<div>\n",
              "<style scoped>\n",
              "    .dataframe tbody tr th:only-of-type {\n",
              "        vertical-align: middle;\n",
              "    }\n",
              "\n",
              "    .dataframe tbody tr th {\n",
              "        vertical-align: top;\n",
              "    }\n",
              "\n",
              "    .dataframe thead th {\n",
              "        text-align: right;\n",
              "    }\n",
              "</style>\n",
              "<table border=\"1\" class=\"dataframe\">\n",
              "  <thead>\n",
              "    <tr style=\"text-align: right;\">\n",
              "      <th></th>\n",
              "      <th>bad</th>\n",
              "      <th>good</th>\n",
              "      <th>is</th>\n",
              "      <th>this</th>\n",
              "      <th>very</th>\n",
              "    </tr>\n",
              "  </thead>\n",
              "  <tbody>\n",
              "    <tr>\n",
              "      <th>0</th>\n",
              "      <td>0</td>\n",
              "      <td>1</td>\n",
              "      <td>1</td>\n",
              "      <td>1</td>\n",
              "      <td>1</td>\n",
              "    </tr>\n",
              "    <tr>\n",
              "      <th>1</th>\n",
              "      <td>0</td>\n",
              "      <td>1</td>\n",
              "      <td>1</td>\n",
              "      <td>1</td>\n",
              "      <td>0</td>\n",
              "    </tr>\n",
              "    <tr>\n",
              "      <th>2</th>\n",
              "      <td>2</td>\n",
              "      <td>0</td>\n",
              "      <td>0</td>\n",
              "      <td>0</td>\n",
              "      <td>3</td>\n",
              "    </tr>\n",
              "  </tbody>\n",
              "</table>\n",
              "</div>"
            ],
            "text/plain": [
              "   bad  good  is  this  very\n",
              "0    0     1   1     1     1\n",
              "1    0     1   1     1     0\n",
              "2    2     0   0     0     3"
            ]
          },
          "metadata": {
            "tags": []
          }
        }
      ]
    },
    {
      "cell_type": "markdown",
      "metadata": {
        "id": "jXBW5KYb5Lg1",
        "colab_type": "text"
      },
      "source": [
        "## TF-IDFの計算\n",
        "\n",
        "IMDB映画レビューデータセットをTF-IDFによりベクトル化してください。NLTKのストップワードを利用し、最大の語彙数は5000程度に設定してください。テキストクリーニングやステミングなどの前処理はこの問題では要求しません。\n",
        "TF-IDFの計算にはscikit-learnの以下のどちらかのクラスを使用してください。\n",
        "\n",
        "sklearn.feature_extraction.text.TfidfVectorizer — scikit-learn 0.21.3 documentation\n",
        "\n",
        "sklearn.feature_extraction.text.TfidfTransformer — scikit-learn 0.21.3 documentation\n",
        "\n",
        "なお、scikit-learnでは標準的な式とは異なる式が採用されています。\n",
        "また、デフォルトではnorm=\"l2\"の引数が設定されており、各サンプルにL2正規化が行われます。norm=Noneとすることで正規化は行われなくなります。\n",
        "\n",
        "**Term Frequency**\n",
        "$$\n",
        "tf(t, d) = n_{t,d}\n",
        "$$\n",
        "\n",
        "右辺：サンプルd内のトークンtの出現回数\n",
        "scikit-learnのTFは分母がなくなりBoWと同じ計算になる。\n",
        "\n",
        "**Inverse Document Frequency**:\n",
        "\n",
        "$$\n",
        "idf(t) = log \\frac{1+N}{1+ df(t)}+1\n",
        "$$\n",
        "\n",
        "N：サンプル数\n",
        "df(t)：トークンtが出現するサンプル数\n"
      ]
    },
    {
      "cell_type": "code",
      "metadata": {
        "id": "hvzYDxP55Gkq",
        "colab_type": "code",
        "colab": {
          "base_uri": "https://localhost:8080/",
          "height": 34
        },
        "outputId": "698537a1-3ddd-4231-d789-fc0c6cd6e0b3"
      },
      "source": [
        "len(x_train)"
      ],
      "execution_count": 20,
      "outputs": [
        {
          "output_type": "execute_result",
          "data": {
            "text/plain": [
              "25000"
            ]
          },
          "metadata": {
            "tags": []
          },
          "execution_count": 20
        }
      ]
    },
    {
      "cell_type": "code",
      "metadata": {
        "id": "bdKjHrX86uTT",
        "colab_type": "code",
        "colab": {
          "base_uri": "https://localhost:8080/",
          "height": 51
        },
        "outputId": "5acf3a98-9d7a-4415-bab0-a90eff02b4af"
      },
      "source": [
        "vectorizer = CountVectorizer(stop_words=nltk_stop_words, token_pattern=r'\\b\\w+\\b', max_features = 5000)\n",
        "bow_train = (vectorizer.fit_transform(x_train)).toarray()\n",
        "\n",
        "print(type(bow_train))\n",
        "print(bow_train.shape)"
      ],
      "execution_count": 21,
      "outputs": [
        {
          "output_type": "stream",
          "text": [
            "<class 'numpy.ndarray'>\n",
            "(25000, 5000)\n"
          ],
          "name": "stdout"
        }
      ]
    },
    {
      "cell_type": "code",
      "metadata": {
        "id": "_VZu30XW8MS3",
        "colab_type": "code",
        "colab": {
          "base_uri": "https://localhost:8080/",
          "height": 102
        },
        "outputId": "874c0e4b-995e-4f3f-b123-d6d68cdd2a0f"
      },
      "source": [
        "bow_train[0][100:200]"
      ],
      "execution_count": 22,
      "outputs": [
        {
          "output_type": "execute_result",
          "data": {
            "text/plain": [
              "array([0, 0, 0, 0, 0, 0, 0, 0, 0, 0, 0, 0, 0, 0, 0, 0, 0, 0, 0, 0, 0, 1,\n",
              "       0, 0, 1, 0, 0, 0, 0, 0, 0, 0, 0, 0, 0, 0, 0, 0, 0, 0, 0, 0, 0, 0,\n",
              "       0, 0, 0, 0, 0, 0, 0, 0, 0, 0, 0, 0, 0, 0, 0, 0, 0, 0, 0, 0, 0, 0,\n",
              "       0, 0, 0, 0, 0, 0, 0, 0, 0, 0, 0, 0, 0, 0, 0, 0, 0, 0, 0, 0, 0, 0,\n",
              "       0, 0, 0, 0, 0, 0, 0, 0, 0, 0, 0, 0])"
            ]
          },
          "metadata": {
            "tags": []
          },
          "execution_count": 22
        }
      ]
    },
    {
      "cell_type": "code",
      "metadata": {
        "id": "yeXdhiRX8cf1",
        "colab_type": "code",
        "colab": {
          "base_uri": "https://localhost:8080/",
          "height": 34
        },
        "outputId": "88868c8b-d5d6-44ca-b0bd-48da941f49f8"
      },
      "source": [
        "bow_mean = np.mean(bow_train, axis=1)\n",
        "bow_mean[0:6]"
      ],
      "execution_count": 23,
      "outputs": [
        {
          "output_type": "execute_result",
          "data": {
            "text/plain": [
              "array([0.0128, 0.0158, 0.0072, 0.0144, 0.0244, 0.0062])"
            ]
          },
          "metadata": {
            "tags": []
          },
          "execution_count": 23
        }
      ]
    },
    {
      "cell_type": "markdown",
      "metadata": {
        "id": "LEnw9qmW6Ruw",
        "colab_type": "text"
      },
      "source": [
        "## TF-IDFを用いた学習\n",
        "問題2で求めたベクトルを用いてIMDB映画レビューデータセットの学習・推定を行なってください。モデルは2値分類が行える任意のものを利用してください。\n",
        "ここでは精度の高さは求めませんが、最大の語彙数やストップワード、n-gramの数を変化させて影響を検証してみてください。"
      ]
    },
    {
      "cell_type": "code",
      "metadata": {
        "id": "ftuqxNXQ8LPA",
        "colab_type": "code",
        "colab": {
          "base_uri": "https://localhost:8080/",
          "height": 34
        },
        "outputId": "57294ae2-e85a-402c-a7e7-bbe7c73b28e6"
      },
      "source": [
        "y_train[0:10]"
      ],
      "execution_count": 24,
      "outputs": [
        {
          "output_type": "execute_result",
          "data": {
            "text/plain": [
              "array([1, 0, 1, 0, 0, 1, 1, 0, 0, 1])"
            ]
          },
          "metadata": {
            "tags": []
          },
          "execution_count": 24
        }
      ]
    },
    {
      "cell_type": "markdown",
      "metadata": {
        "id": "72Frn9QOGCJn",
        "colab_type": "text"
      },
      "source": [
        "### NNモデルで学習(BoW)"
      ]
    },
    {
      "cell_type": "code",
      "metadata": {
        "id": "WUElEDJ26a9t",
        "colab_type": "code",
        "colab": {
          "base_uri": "https://localhost:8080/",
          "height": 114
        },
        "outputId": "54be84fe-6368-4ec1-f835-c0a740c94e84"
      },
      "source": [
        "from __future__ import absolute_import, division, print_function, unicode_literals\n",
        "\n",
        "# TensorFlow と tf.keras のインポート\n",
        "import tensorflow as tf\n",
        "from tensorflow import keras\n",
        "import keras.backend as K\n",
        "\n",
        "print(tf.__version__)"
      ],
      "execution_count": 25,
      "outputs": [
        {
          "output_type": "display_data",
          "data": {
            "text/html": [
              "<p style=\"color: red;\">\n",
              "The default version of TensorFlow in Colab will soon switch to TensorFlow 2.x.<br>\n",
              "We recommend you <a href=\"https://www.tensorflow.org/guide/migrate\" target=\"_blank\">upgrade</a> now \n",
              "or ensure your notebook will continue to use TensorFlow 1.x via the <code>%tensorflow_version 1.x</code> magic:\n",
              "<a href=\"https://colab.research.google.com/notebooks/tensorflow_version.ipynb\" target=\"_blank\">more info</a>.</p>\n"
            ],
            "text/plain": [
              "<IPython.core.display.HTML object>"
            ]
          },
          "metadata": {
            "tags": []
          }
        },
        {
          "output_type": "stream",
          "text": [
            "1.15.0\n"
          ],
          "name": "stdout"
        },
        {
          "output_type": "stream",
          "text": [
            "Using TensorFlow backend.\n"
          ],
          "name": "stderr"
        }
      ]
    },
    {
      "cell_type": "code",
      "metadata": {
        "id": "jErq-MbmBVcE",
        "colab_type": "code",
        "colab": {}
      },
      "source": [
        "#!pip install tensorflow==2.0.0"
      ],
      "execution_count": 0,
      "outputs": []
    },
    {
      "cell_type": "code",
      "metadata": {
        "id": "Ij3vkMu4-D0e",
        "colab_type": "code",
        "colab": {
          "base_uri": "https://localhost:8080/",
          "height": 428
        },
        "outputId": "3297c64a-ac5b-4d0b-c057-b4fd8f02ca72"
      },
      "source": [
        "model = keras.Sequential([\n",
        "    keras.layers.Dense(10000, activation='relu', input_shape=(5000,)),\n",
        "    keras.layers.Dense(6000, activation='relu'),\n",
        "    keras.layers.Dense(3000, activation='relu'),\n",
        "    keras.layers.Dense(1000, activation='relu'),\n",
        "    keras.layers.Dense(100, activation='relu'),\n",
        "    keras.layers.Dense(2, activation='softmax')\n",
        "])\n",
        "model.summary()"
      ],
      "execution_count": 26,
      "outputs": [
        {
          "output_type": "stream",
          "text": [
            "WARNING:tensorflow:From /usr/local/lib/python3.6/dist-packages/tensorflow_core/python/ops/resource_variable_ops.py:1630: calling BaseResourceVariable.__init__ (from tensorflow.python.ops.resource_variable_ops) with constraint is deprecated and will be removed in a future version.\n",
            "Instructions for updating:\n",
            "If using Keras pass *_constraint arguments to layers.\n",
            "Model: \"sequential\"\n",
            "_________________________________________________________________\n",
            "Layer (type)                 Output Shape              Param #   \n",
            "=================================================================\n",
            "dense (Dense)                (None, 10000)             50010000  \n",
            "_________________________________________________________________\n",
            "dense_1 (Dense)              (None, 6000)              60006000  \n",
            "_________________________________________________________________\n",
            "dense_2 (Dense)              (None, 3000)              18003000  \n",
            "_________________________________________________________________\n",
            "dense_3 (Dense)              (None, 1000)              3001000   \n",
            "_________________________________________________________________\n",
            "dense_4 (Dense)              (None, 100)               100100    \n",
            "_________________________________________________________________\n",
            "dense_5 (Dense)              (None, 2)                 202       \n",
            "=================================================================\n",
            "Total params: 131,120,302\n",
            "Trainable params: 131,120,302\n",
            "Non-trainable params: 0\n",
            "_________________________________________________________________\n"
          ],
          "name": "stdout"
        }
      ]
    },
    {
      "cell_type": "code",
      "metadata": {
        "id": "swNruTNAAN1y",
        "colab_type": "code",
        "colab": {}
      },
      "source": [
        "model.compile(optimizer='adam', \n",
        "              loss='sparse_categorical_crossentropy',\n",
        "              metrics=['accuracy'])"
      ],
      "execution_count": 0,
      "outputs": []
    },
    {
      "cell_type": "code",
      "metadata": {
        "id": "9mIY6WFeAiAm",
        "colab_type": "code",
        "colab": {
          "base_uri": "https://localhost:8080/",
          "height": 173
        },
        "outputId": "8f476192-9211-46de-c2b5-3bac74d9f312"
      },
      "source": [
        "model.fit(bow_train, y_train, epochs=3)"
      ],
      "execution_count": 28,
      "outputs": [
        {
          "output_type": "stream",
          "text": [
            "Train on 25000 samples\n",
            "Epoch 1/3\n",
            "25000/25000 [==============================] - 16s 623us/sample - loss: 0.3647 - acc: 0.8516\n",
            "Epoch 2/3\n",
            "25000/25000 [==============================] - 14s 568us/sample - loss: 0.1864 - acc: 0.9322\n",
            "Epoch 3/3\n",
            "25000/25000 [==============================] - 14s 563us/sample - loss: 0.0496 - acc: 0.9843\n"
          ],
          "name": "stdout"
        },
        {
          "output_type": "execute_result",
          "data": {
            "text/plain": [
              "<tensorflow.python.keras.callbacks.History at 0x7fc29a5fea58>"
            ]
          },
          "metadata": {
            "tags": []
          },
          "execution_count": 28
        }
      ]
    },
    {
      "cell_type": "markdown",
      "metadata": {
        "id": "D6cmw-xWF4bo",
        "colab_type": "text"
      },
      "source": [
        "### 評価"
      ]
    },
    {
      "cell_type": "code",
      "metadata": {
        "id": "Tr_3SszhFsyb",
        "colab_type": "code",
        "colab": {
          "base_uri": "https://localhost:8080/",
          "height": 51
        },
        "outputId": "3352e9e8-72ec-49ef-ea4c-b17a817cb80d"
      },
      "source": [
        "print(type(y_test))\n",
        "print(y_test[0:10])"
      ],
      "execution_count": 30,
      "outputs": [
        {
          "output_type": "stream",
          "text": [
            "<class 'numpy.ndarray'>\n",
            "[1 0 1 0 0 1 1 0 0 1]\n"
          ],
          "name": "stdout"
        }
      ]
    },
    {
      "cell_type": "code",
      "metadata": {
        "id": "I2A75E5QLPq2",
        "colab_type": "code",
        "colab": {}
      },
      "source": [
        "vectorizer2 = CountVectorizer(stop_words=nltk_stop_words, token_pattern=r'\\b\\w+\\b', max_features = 5000)\n",
        "bow_test = (vectorizer2.fit_transform(x_test)).toarray()\n"
      ],
      "execution_count": 0,
      "outputs": []
    },
    {
      "cell_type": "code",
      "metadata": {
        "id": "dfC1nzo0FCyP",
        "colab_type": "code",
        "colab": {
          "base_uri": "https://localhost:8080/",
          "height": 34
        },
        "outputId": "88d8e88b-f41e-4a8b-82bf-c30e48adaff3"
      },
      "source": [
        "loss, accuracy = model.evaluate(bow_test, y_test, verbose=0)\n",
        "print(accuracy)"
      ],
      "execution_count": 33,
      "outputs": [
        {
          "output_type": "stream",
          "text": [
            "0.5012\n"
          ],
          "name": "stdout"
        }
      ]
    },
    {
      "cell_type": "code",
      "metadata": {
        "id": "hpgp67c5L2ZT",
        "colab_type": "code",
        "colab": {
          "base_uri": "https://localhost:8080/",
          "height": 34
        },
        "outputId": "d6dc50e6-d50e-4467-b966-b64b6bb483c6"
      },
      "source": [
        "#テストと同じインスタンスでベクトライズ\n",
        "bow_test_same = (vectorizer.transform(x_test)).toarray()\n",
        "loss2, accuracy2 = model.evaluate(bow_test_same, y_test, verbose=0)\n",
        "print(accuracy2)"
      ],
      "execution_count": 31,
      "outputs": [
        {
          "output_type": "stream",
          "text": [
            "0.86008\n"
          ],
          "name": "stdout"
        }
      ]
    },
    {
      "cell_type": "code",
      "metadata": {
        "id": "bMSIlrEUHS_4",
        "colab_type": "code",
        "colab": {}
      },
      "source": [
        "#predictions = model.predict(test_images)"
      ],
      "execution_count": 0,
      "outputs": []
    },
    {
      "cell_type": "markdown",
      "metadata": {
        "id": "Xv_DjGHIPVIB",
        "colab_type": "text"
      },
      "source": [
        "### NNモデル（TF-IDF）"
      ]
    },
    {
      "cell_type": "code",
      "metadata": {
        "id": "9h52dWv1Pad-",
        "colab_type": "code",
        "colab": {
          "base_uri": "https://localhost:8080/",
          "height": 136
        },
        "outputId": "39a80eca-9dfa-49b9-ce15-158a795ce9fa"
      },
      "source": [
        "from sklearn.feature_extraction.text import TfidfVectorizer\n",
        "\n",
        "vectorizer_tf = TfidfVectorizer(stop_words=nltk_stop_words, token_pattern=r'\\b\\w+\\b', max_features = 5000)\n",
        "bow_train_tf = (vectorizer_tf.fit_transform(x_train)).toarray()\n",
        "test_tf = (vectorizer_tf.transform(x_test)).toarray()\n",
        "\n",
        "print(bow_train_tf[0:100])"
      ],
      "execution_count": 34,
      "outputs": [
        {
          "output_type": "stream",
          "text": [
            "[[0.         0.         0.         ... 0.         0.         0.        ]\n",
            " [0.         0.         0.         ... 0.         0.         0.        ]\n",
            " [0.         0.         0.         ... 0.         0.         0.        ]\n",
            " ...\n",
            " [0.         0.         0.         ... 0.         0.         0.        ]\n",
            " [0.         0.         0.         ... 0.         0.         0.        ]\n",
            " [0.14273931 0.         0.         ... 0.         0.         0.        ]]\n"
          ],
          "name": "stdout"
        }
      ]
    },
    {
      "cell_type": "code",
      "metadata": {
        "id": "cm53qWJiP-3O",
        "colab_type": "code",
        "colab": {
          "base_uri": "https://localhost:8080/",
          "height": 173
        },
        "outputId": "0a81151b-a66e-4740-fd0d-5652ea3b03aa"
      },
      "source": [
        "#K.clear_session()\n",
        "\n",
        "model2 = keras.Sequential([\n",
        "    keras.layers.Dense(10000, activation='relu', input_shape=(5000,)),\n",
        "    keras.layers.Dense(6000, activation='relu'),\n",
        "    keras.layers.Dense(3000, activation='relu'),\n",
        "    keras.layers.Dense(1000, activation='relu'),\n",
        "    keras.layers.Dense(100, activation='relu'),\n",
        "    keras.layers.Dense(2, activation='softmax')\n",
        "])\n",
        "\n",
        "model2.compile(optimizer='adam', \n",
        "              loss='sparse_categorical_crossentropy',\n",
        "              metrics=['accuracy'])\n",
        "\n",
        "model2.fit(bow_train_tf, y_train, epochs=3)\n"
      ],
      "execution_count": 35,
      "outputs": [
        {
          "output_type": "stream",
          "text": [
            "Train on 25000 samples\n",
            "Epoch 1/3\n",
            "25000/25000 [==============================] - 14s 548us/sample - loss: 0.3332 - acc: 0.8573\n",
            "Epoch 2/3\n",
            "25000/25000 [==============================] - 14s 544us/sample - loss: 0.1709 - acc: 0.9338\n",
            "Epoch 3/3\n",
            "25000/25000 [==============================] - 14s 543us/sample - loss: 0.0318 - acc: 0.9904\n"
          ],
          "name": "stdout"
        },
        {
          "output_type": "execute_result",
          "data": {
            "text/plain": [
              "<tensorflow.python.keras.callbacks.History at 0x7fc1ecdc3ac8>"
            ]
          },
          "metadata": {
            "tags": []
          },
          "execution_count": 35
        }
      ]
    },
    {
      "cell_type": "code",
      "metadata": {
        "id": "3PhJroaaVP0C",
        "colab_type": "code",
        "colab": {
          "base_uri": "https://localhost:8080/",
          "height": 34
        },
        "outputId": "0ddd6613-aacd-4426-fa83-b35a08343622"
      },
      "source": [
        "loss, accuracy = model2.evaluate(test_tf, y_test, verbose=0)\n",
        "print(accuracy)"
      ],
      "execution_count": 36,
      "outputs": [
        {
          "output_type": "stream",
          "text": [
            "0.86092\n"
          ],
          "name": "stdout"
        }
      ]
    },
    {
      "cell_type": "markdown",
      "metadata": {
        "id": "FuuH-9ohVwsV",
        "colab_type": "text"
      },
      "source": [
        "TF-IDFを使用した方が、lossの下りも良く、スコアも僅かに上がる"
      ]
    },
    {
      "cell_type": "markdown",
      "metadata": {
        "id": "ZTPNRjFqC3HH",
        "colab_type": "text"
      },
      "source": [
        "### ランダムフォレスト\n"
      ]
    },
    {
      "cell_type": "code",
      "metadata": {
        "id": "weox2KXOApFw",
        "colab_type": "code",
        "colab": {}
      },
      "source": [
        "from sklearn.metrics import confusion_matrix\n",
        "from sklearn.ensemble import RandomForestClassifier\n",
        "from sklearn.ensemble import GradientBoostingClassifier\n",
        "from sklearn.metrics import accuracy_score\n",
        "from sklearn.model_selection import GridSearchCV\n",
        "from sklearn.metrics import make_scorer"
      ],
      "execution_count": 0,
      "outputs": []
    },
    {
      "cell_type": "code",
      "metadata": {
        "id": "hrkgY7n5DIy2",
        "colab_type": "code",
        "colab": {
          "base_uri": "https://localhost:8080/",
          "height": 190
        },
        "outputId": "aa992b41-a527-4baf-fd39-a24df872f991"
      },
      "source": [
        "forest = RandomForestClassifier(min_samples_leaf=3, random_state=0)\n",
        "forest.fit(bow_train_tf, y_train)"
      ],
      "execution_count": 38,
      "outputs": [
        {
          "output_type": "stream",
          "text": [
            "/usr/local/lib/python3.6/dist-packages/sklearn/ensemble/forest.py:245: FutureWarning: The default value of n_estimators will change from 10 in version 0.20 to 100 in 0.22.\n",
            "  \"10 in version 0.20 to 100 in 0.22.\", FutureWarning)\n"
          ],
          "name": "stderr"
        },
        {
          "output_type": "execute_result",
          "data": {
            "text/plain": [
              "RandomForestClassifier(bootstrap=True, class_weight=None, criterion='gini',\n",
              "                       max_depth=None, max_features='auto', max_leaf_nodes=None,\n",
              "                       min_impurity_decrease=0.0, min_impurity_split=None,\n",
              "                       min_samples_leaf=3, min_samples_split=2,\n",
              "                       min_weight_fraction_leaf=0.0, n_estimators=10,\n",
              "                       n_jobs=None, oob_score=False, random_state=0, verbose=0,\n",
              "                       warm_start=False)"
            ]
          },
          "metadata": {
            "tags": []
          },
          "execution_count": 38
        }
      ]
    },
    {
      "cell_type": "code",
      "metadata": {
        "id": "NRlrO2pyDQNz",
        "colab_type": "code",
        "colab": {
          "base_uri": "https://localhost:8080/",
          "height": 34
        },
        "outputId": "a6a848a9-5592-4efb-e9dd-6c441bc09c31"
      },
      "source": [
        "y_pred = forest.predict(test_tf)\n",
        "accuracy_score(y_test, y_pred)"
      ],
      "execution_count": 42,
      "outputs": [
        {
          "output_type": "execute_result",
          "data": {
            "text/plain": [
              "0.80028"
            ]
          },
          "metadata": {
            "tags": []
          },
          "execution_count": 42
        }
      ]
    },
    {
      "cell_type": "markdown",
      "metadata": {
        "id": "55_PA7QfMsei",
        "colab_type": "text"
      },
      "source": [
        "### 語彙数の拡張"
      ]
    },
    {
      "cell_type": "code",
      "metadata": {
        "id": "qS_rLT22Hit9",
        "colab_type": "code",
        "colab": {}
      },
      "source": [
        "vectorizer_tf = TfidfVectorizer(stop_words=nltk_stop_words, token_pattern=r'\\b\\w+\\b', max_features = 7000)\n",
        "bow_train_tf = (vectorizer_tf.fit_transform(x_train)).toarray()\n",
        "test_tf = (vectorizer_tf.transform(x_test)).toarray()"
      ],
      "execution_count": 0,
      "outputs": []
    },
    {
      "cell_type": "code",
      "metadata": {
        "id": "TgwNf8O2Oo0d",
        "colab_type": "code",
        "colab": {
          "base_uri": "https://localhost:8080/",
          "height": 173
        },
        "outputId": "11880eb0-a345-4799-d174-3db7e54b4b89"
      },
      "source": [
        "model3 = keras.Sequential([\n",
        "    keras.layers.Dense(10000, activation='relu', input_shape=(7000,)),\n",
        "    keras.layers.Dense(6000, activation='relu'),\n",
        "    keras.layers.Dense(3000, activation='relu'),\n",
        "    keras.layers.Dense(1000, activation='relu'),\n",
        "    keras.layers.Dense(100, activation='relu'),\n",
        "    keras.layers.Dense(2, activation='softmax')\n",
        "])\n",
        "\n",
        "model3.compile(optimizer='adam', \n",
        "              loss='sparse_categorical_crossentropy',\n",
        "              metrics=['accuracy'])\n",
        "\n",
        "model3.fit(bow_train_tf, y_train, epochs=3)"
      ],
      "execution_count": 47,
      "outputs": [
        {
          "output_type": "stream",
          "text": [
            "Train on 25000 samples\n",
            "Epoch 1/3\n",
            "25000/25000 [==============================] - 15s 617us/sample - loss: 0.3325 - acc: 0.8555\n",
            "Epoch 2/3\n",
            "25000/25000 [==============================] - 15s 616us/sample - loss: 0.1473 - acc: 0.9454\n",
            "Epoch 3/3\n",
            "25000/25000 [==============================] - 15s 616us/sample - loss: 0.0245 - acc: 0.9932\n"
          ],
          "name": "stdout"
        },
        {
          "output_type": "execute_result",
          "data": {
            "text/plain": [
              "<tensorflow.python.keras.callbacks.History at 0x7fc1ed1e5780>"
            ]
          },
          "metadata": {
            "tags": []
          },
          "execution_count": 47
        }
      ]
    },
    {
      "cell_type": "code",
      "metadata": {
        "id": "Wo8hLHA5O6-2",
        "colab_type": "code",
        "colab": {
          "base_uri": "https://localhost:8080/",
          "height": 34
        },
        "outputId": "396d53d6-6d9d-48fb-8249-f1bf2031ab87"
      },
      "source": [
        "loss, accuracy = model3.evaluate(test_tf, y_test, verbose=0)\n",
        "print(accuracy)"
      ],
      "execution_count": 50,
      "outputs": [
        {
          "output_type": "stream",
          "text": [
            "0.85208\n"
          ],
          "name": "stdout"
        }
      ]
    },
    {
      "cell_type": "markdown",
      "metadata": {
        "id": "OKtIe-T6HjWB",
        "colab_type": "text"
      },
      "source": [
        "## TF-IDFのスクラッチ実装\n",
        "\n",
        "以下の3文のTF-IDFを求められるプログラムをscikit-learnを使わずに作成してください。標準的な式と、scikit-learnの採用している式の2種類を作成してください。正規化は不要です。\n",
        "\n",
        ">This movie is SOOOO funny!!!\n",
        ">What a movie! I never\n",
        ">best movie ever!!!!! this movie"
      ]
    },
    {
      "cell_type": "code",
      "metadata": {
        "id": "1kZjJvk0HzYB",
        "colab_type": "code",
        "colab": {}
      },
      "source": [
        "#標準\n",
        "class TFIDF_1_gram():\n",
        "  def __init__(self, token_pattern=r'(?u)\\b\\w+\\b'):\n",
        "    self.token_pattern = token_pattern\n",
        "  \n",
        "  def fit(self, sentence):\n",
        "    \"\"\"\n",
        "    文を引数として受け取り、コーパスをndarray型で返す\n",
        "    \"\"\"\n",
        "    sentence_num = len(sentence)\n",
        "    \n",
        "    #正規表現で分割\n",
        "    splits = []\n",
        "    for s in sentence:\n",
        "      splits.append(re.findall(self.token_pattern, s))\n",
        "    \n",
        "    #小文字化\n",
        "    lower = []\n",
        "    for l in splits:\n",
        "      lower.append([str.lower() for str in l])\n",
        "\n",
        "    #flattenして重複排除\n",
        "    labels = list(set(sum(lower, [])))\n",
        "\n",
        "    copus = np.empty((sentence_num,len(labels)))\n",
        "    for i ,label in enumerate(labels):\n",
        "      for row, value in enumerate(lower):\n",
        "        copus[row, i] =  value.count(label)\n",
        "    \n",
        "    self.labels = labels\n",
        "    self.copus = copus\n",
        "\n",
        "    #tf計算\n",
        "    self.tf = np.zeros(copus.shape)\n",
        "    for i, c in enumerate(list(copus)):\n",
        "      for j, value in enumerate(c):\n",
        "        self.tf[i, j] = value/sum(c)\n",
        "  \n",
        "    #idf計算(全てのサンプルででくる語のidfはゼロになる)\n",
        "    self.idf = np.log(sentence_num / np.count_nonzero(copus>0, axis=0))\n",
        "    \n",
        "    #tfidf計算\n",
        "    self.tfidf = self.tf * self.idf\n",
        "\n",
        "    return copus * self.tfidf\n"
      ],
      "execution_count": 0,
      "outputs": []
    },
    {
      "cell_type": "code",
      "metadata": {
        "id": "OWunFWPSTFdz",
        "colab_type": "code",
        "colab": {
          "base_uri": "https://localhost:8080/",
          "height": 442
        },
        "outputId": "8cd2e614-d5c0-4955-f674-25d1887bbc2f"
      },
      "source": [
        "tfidf = TFIDF_1_gram()\n",
        "result = tfidf.fit(test_dataset)\n",
        "\n",
        "print(\"copus\\n\", tfidf.copus)\n",
        "print(\"tf\\n\",tfidf.tf)\n",
        "print(\"idf\\n\",tfidf.idf)\n",
        "print(\"tfidf\\n\", tfidf.tfidf )\n",
        "print(\"result\\n\" ,result)"
      ],
      "execution_count": 72,
      "outputs": [
        {
          "output_type": "stream",
          "text": [
            "copus\n",
            " [[1. 1. 1. 0. 0. 1. 0. 0. 0. 1. 0.]\n",
            " [0. 0. 1. 1. 1. 0. 1. 0. 1. 0. 0.]\n",
            " [0. 0. 2. 0. 0. 1. 0. 1. 0. 0. 1.]]\n",
            "tf\n",
            " [[0.2 0.2 0.2 0.  0.  0.2 0.  0.  0.  0.2 0. ]\n",
            " [0.  0.  0.2 0.2 0.2 0.  0.2 0.  0.2 0.  0. ]\n",
            " [0.  0.  0.4 0.  0.  0.2 0.  0.2 0.  0.  0.2]]\n",
            "idf\n",
            " [1.09861229 1.09861229 0.         1.09861229 1.09861229 0.40546511\n",
            " 1.09861229 1.09861229 1.09861229 1.09861229 1.09861229]\n",
            "tfidf\n",
            " [[0.21972246 0.21972246 0.         0.         0.         0.08109302\n",
            "  0.         0.         0.         0.21972246 0.        ]\n",
            " [0.         0.         0.         0.21972246 0.21972246 0.\n",
            "  0.21972246 0.         0.21972246 0.         0.        ]\n",
            " [0.         0.         0.         0.         0.         0.08109302\n",
            "  0.         0.21972246 0.         0.         0.21972246]]\n",
            "result\n",
            " [[0.21972246 0.21972246 0.         0.         0.         0.08109302\n",
            "  0.         0.         0.         0.21972246 0.        ]\n",
            " [0.         0.         0.         0.21972246 0.21972246 0.\n",
            "  0.21972246 0.         0.21972246 0.         0.        ]\n",
            " [0.         0.         0.         0.         0.         0.08109302\n",
            "  0.         0.21972246 0.         0.         0.21972246]]\n"
          ],
          "name": "stdout"
        }
      ]
    },
    {
      "cell_type": "code",
      "metadata": {
        "id": "mhQnpTsFbHPD",
        "colab_type": "code",
        "colab": {}
      },
      "source": [
        "#sklearn\n",
        "class TFIDF_1_gram_SK():\n",
        "  def __init__(self, token_pattern=r'(?u)\\b\\w+\\b'):\n",
        "    self.token_pattern = token_pattern\n",
        "  \n",
        "  def fit(self, sentence):\n",
        "    \"\"\"\n",
        "    文を引数として受け取り、コーパスをndarray型で返す\n",
        "    \"\"\"\n",
        "    sentence_num = len(sentence)\n",
        "    \n",
        "    #正規表現で分割\n",
        "    splits = []\n",
        "    for s in sentence:\n",
        "      splits.append(re.findall(self.token_pattern, s))\n",
        "    \n",
        "    #小文字化\n",
        "    lower = []\n",
        "    for l in splits:\n",
        "      lower.append([str.lower() for str in l])\n",
        "\n",
        "    #flattenして重複排除\n",
        "    labels = list(set(sum(lower, [])))\n",
        "\n",
        "    copus = np.empty((sentence_num,len(labels)))\n",
        "    for i ,label in enumerate(labels):\n",
        "      for row, value in enumerate(lower):\n",
        "        copus[row, i] =  value.count(label)\n",
        "    \n",
        "    self.labels = labels\n",
        "    self.copus = copus\n",
        "\n",
        "    #tf計算\n",
        "    self.tf = copus\n",
        "  \n",
        "    #idf計算(全てのサンプルででくる語のidfはゼロになる)\n",
        "    self.idf = np.log(sentence_num + 1 / np.count_nonzero(copus>0, axis=0) + 1) + 1\n",
        "    \n",
        "    #tfidf計算\n",
        "    self.tfidf = self.tf * self.idf\n",
        "\n",
        "    return copus * self.tfidf\n"
      ],
      "execution_count": 0,
      "outputs": []
    },
    {
      "cell_type": "code",
      "metadata": {
        "id": "WFvyeOHdbHpd",
        "colab_type": "code",
        "colab": {
          "base_uri": "https://localhost:8080/",
          "height": 442
        },
        "outputId": "dfb8d984-8e07-4b7d-8b23-d17242126824"
      },
      "source": [
        "tfidf2 = TFIDF_1_gram_SK()\n",
        "result2 = tfidf2.fit(test_dataset)\n",
        "\n",
        "print(\"copus\\n\", tfidf2.copus)\n",
        "print(\"tf\\n\",tfidf2.tf)\n",
        "print(\"idf\\n\",tfidf2.idf)\n",
        "print(\"tfidf\\n\", tfidf2.tfidf )\n",
        "print(\"result\\n\" ,result2)"
      ],
      "execution_count": 75,
      "outputs": [
        {
          "output_type": "stream",
          "text": [
            "copus\n",
            " [[1. 1. 1. 0. 0. 1. 0. 0. 0. 1. 0.]\n",
            " [0. 0. 1. 1. 1. 0. 1. 0. 1. 0. 0.]\n",
            " [0. 0. 2. 0. 0. 1. 0. 1. 0. 0. 1.]]\n",
            "tf\n",
            " [[1. 1. 1. 0. 0. 1. 0. 0. 0. 1. 0.]\n",
            " [0. 0. 1. 1. 1. 0. 1. 0. 1. 0. 0.]\n",
            " [0. 0. 2. 0. 0. 1. 0. 1. 0. 0. 1.]]\n",
            "idf\n",
            " [2.60943791 2.60943791 2.46633707 2.60943791 2.60943791 2.5040774\n",
            " 2.60943791 2.60943791 2.60943791 2.60943791 2.60943791]\n",
            "tfidf\n",
            " [[2.60943791 2.60943791 2.46633707 0.         0.         2.5040774\n",
            "  0.         0.         0.         2.60943791 0.        ]\n",
            " [0.         0.         2.46633707 2.60943791 2.60943791 0.\n",
            "  2.60943791 0.         2.60943791 0.         0.        ]\n",
            " [0.         0.         4.93267414 0.         0.         2.5040774\n",
            "  0.         2.60943791 0.         0.         2.60943791]]\n",
            "result\n",
            " [[2.60943791 2.60943791 2.46633707 0.         0.         2.5040774\n",
            "  0.         0.         0.         2.60943791 0.        ]\n",
            " [0.         0.         2.46633707 2.60943791 2.60943791 0.\n",
            "  2.60943791 0.         2.60943791 0.         0.        ]\n",
            " [0.         0.         9.86534828 0.         0.         2.5040774\n",
            "  0.         2.60943791 0.         0.         2.60943791]]\n"
          ],
          "name": "stdout"
        }
      ]
    },
    {
      "cell_type": "markdown",
      "metadata": {
        "id": "fPGyZ3hgH2Mj",
        "colab_type": "text"
      },
      "source": [
        "## Word2Vec\n",
        "\n",
        "ニューラルネットワークを用いてベクトル化を行う手法が Word2Vec です。\n",
        "BoWやTF-IDFはone-hot表現であったため、得られるベクトルの次元は語彙数分になります。そのため、語彙数を増やしにくいという問題があります。一方で、Word2Vecでは単語を任意の次元のベクトルに変換します。これをを Word Embedding（単語埋め込み） や 分散表現 と呼びます。変換操作を「ベクトル空間に埋め込む」と言うことが多いです。\n",
        "Word2VecにはCBoWとSkip-gramという2種類の仕組みがあるため順番に見ていきます。\n",
        "\n",
        "### CBoW\n",
        "CBoW (Continuous Bag-of-Words) によるWord2Vecではある単語とある単語の間に来る単語を推定できるように全結合層2層のニューラルネットワークを学習します。\n",
        "単語はコーパスの語彙数次元のone-hot表現を行なっておきます。そのため、入力と出力の次元は語彙数と同じになります。一方で、中間のノード数をWord2Vecにより得たい任意の次元数とします。これにより全結合層の重みは「得たい次元のノード数×語彙数」になります。このネットワークにより学習を行なった後、出力側の重みを取り出すことで、各語彙を表すベクトルを手に入れることができます。\n",
        "間の単語の推定を行なっているため、同じ箇所で代替可能な言葉は似たベクトルになるというメリットもあります。これはBoWやTF-IDFでは得られない情報です。\n",
        "あるテキストは「そのテキストの長さ（単語数）×Word2Vecで得た分散表現の次元数」の配列になりますが、各入力の配列を揃える必要があるモデルに入力するためには、短いテキストは空白を表す単語を加える パディング を行なったり、長いテキストは単語を消したりします。テキストを 固定長 にすると呼びます。\n",
        "\n",
        "### ウィンドウサイズ\n",
        "入力する単語は推定する前後1つずつだけでなく、複数個とする場合もあります。前後いくつを見るかの大きさを ウィンドウサイズ と呼びます。\n",
        "\n",
        "### Skip-gram\n",
        "CBoWとは逆にある単語の前後の単語を推定できるように全結合層2層のニューラルネットワークを学習する方法が Skip-gram です。学習を行なった後は入力側の重みを取り出し各語彙を表すベクトルとします。現在一般的に使われているのはCBoWよりもSki-gramです。\n",
        "\n",
        "### 利用方法\n",
        "Pythonでは Gensim ライブラリを用いて扱うことができます。\n",
        "\n",
        "BoWの例と同じ文章で学習してみます。CountVectorizerと異なり前処理を自動的に行なってはくれないため、単語（トークン）はリストで分割しておきます。また、大文字は小文字に揃え、記号は取り除きます。\n",
        "デフォルトのパラメータではCBoWで計算されます。また、ウィンドウサイズはwindow=5に設定されています。"
      ]
    },
    {
      "cell_type": "code",
      "metadata": {
        "id": "YB2VXh9oIX65",
        "colab_type": "code",
        "colab": {
          "base_uri": "https://localhost:8080/",
          "height": 496
        },
        "outputId": "96eaf648-ade3-4022-cb29-97c93ffa4d25"
      },
      "source": [
        "from gensim.models import Word2Vec\n",
        "sentences = [['this', 'movie', 'is', 'very', 'good'], ['this', 'film', 'is', 'a', 'good'], ['very', 'bad', 'very', 'very', 'bad']]\n",
        "model = Word2Vec(min_count=1, size=10) # 次元数を10に設定\n",
        "model.build_vocab(sentences) # 準備\n",
        "model.train(sentences, total_examples=model.corpus_count, epochs=model.iter) # 学習\n",
        "\n",
        "print(\"語彙の一覧 : {}\".format(model.wv.vocab.keys()))\n",
        "\n",
        "for vocab in model.wv.vocab.keys():\n",
        "  print(\"{}のベクトル : \\n{}\".format(vocab, model.wv[vocab]))"
      ],
      "execution_count": 43,
      "outputs": [
        {
          "output_type": "stream",
          "text": [
            "語彙の一覧 : dict_keys(['this', 'movie', 'is', 'very', 'good', 'film', 'a', 'bad'])\n",
            "thisのベクトル : \n",
            "[ 0.01795698  0.04172218 -0.03767501 -0.04909642 -0.01867134 -0.00712042\n",
            " -0.010474   -0.00248487  0.03245787  0.03857093]\n",
            "movieのベクトル : \n",
            "[ 0.04752344 -0.01833504 -0.01513881 -0.04806001 -0.04319812 -0.00622897\n",
            " -0.04903476  0.04649692 -0.02367005 -0.03593722]\n",
            "isのベクトル : \n",
            "[ 0.01928867 -0.02066448 -0.00976995 -0.0380975  -0.02265531 -0.02379769\n",
            "  0.0433068   0.04787834  0.01377938 -0.01005228]\n",
            "veryのベクトル : \n",
            "[-0.03718518  0.04875721  0.04777813  0.00479865 -0.03925756 -0.00115634\n",
            " -0.01945332 -0.02443043  0.02813334  0.01325598]\n",
            "goodのベクトル : \n",
            "[-0.00848096 -0.00217346 -0.03574776  0.01322574  0.01547036  0.02618757\n",
            " -0.04991275  0.04657286  0.03166565 -0.0419063 ]\n",
            "filmのベクトル : \n",
            "[ 0.0223077   0.02202422  0.00360745  0.0383586   0.02772094 -0.03273236\n",
            "  0.02378568  0.04497525 -0.00348082  0.04326513]\n",
            "aのベクトル : \n",
            "[-0.01477658 -0.02204899  0.04341664  0.02027947 -0.04292048 -0.00846119\n",
            " -0.01385887  0.01768121  0.03944354  0.02085468]\n",
            "badのベクトル : \n",
            "[-0.01280661  0.00902451  0.00509386  0.03616788 -0.01645052  0.03495818\n",
            " -0.00350731 -0.02465878  0.04130167 -0.04355351]\n"
          ],
          "name": "stdout"
        },
        {
          "output_type": "stream",
          "text": [
            "/usr/local/lib/python3.6/dist-packages/ipykernel_launcher.py:5: DeprecationWarning: Call to deprecated `iter` (Attribute will be removed in 4.0.0, use self.epochs instead).\n",
            "  \"\"\"\n"
          ],
          "name": "stderr"
        }
      ]
    },
    {
      "cell_type": "markdown",
      "metadata": {
        "id": "FiLEql3CIZkO",
        "colab_type": "text"
      },
      "source": [
        "### 単語の距離\n",
        "\n",
        "ベクトル間で計算を行うことで、ある単語に似たベクトルを持つ単語を見つけることができます。例えばgoodに似たベクトルの単語を3つ探します。"
      ]
    },
    {
      "cell_type": "code",
      "metadata": {
        "id": "VNBA-rP3IfsA",
        "colab_type": "code",
        "colab": {
          "base_uri": "https://localhost:8080/",
          "height": 122
        },
        "outputId": "08f7784b-5723-4a57-cd93-34e8abd2df6c"
      },
      "source": [
        "model.wv.most_similar(positive=\"good\", topn=3)"
      ],
      "execution_count": 44,
      "outputs": [
        {
          "output_type": "stream",
          "text": [
            "/usr/local/lib/python3.6/dist-packages/gensim/matutils.py:737: FutureWarning: Conversion of the second argument of issubdtype from `int` to `np.signedinteger` is deprecated. In future, it will be treated as `np.int64 == np.dtype(int).type`.\n",
            "  if np.issubdtype(vec.dtype, np.int):\n"
          ],
          "name": "stderr"
        },
        {
          "output_type": "execute_result",
          "data": {
            "text/plain": [
              "[('bad', 0.3777308166027069),\n",
              " ('movie', 0.35398927330970764),\n",
              " ('a', -0.012381471693515778)]"
            ]
          },
          "metadata": {
            "tags": []
          },
          "execution_count": 44
        }
      ]
    },
    {
      "cell_type": "markdown",
      "metadata": {
        "id": "29eNKl4xIjOj",
        "colab_type": "text"
      },
      "source": [
        "今の例では3文しか学習していませんので効果を発揮しませんが、大きなコーパスで学習することで、並列関係のものが近くに来たりなど面白い結果が得られます。\n",
        "\n",
        "### 可視化\n",
        "2次元に圧縮することで単語ごとの位置関係を可視化することができます。以下はt-SNEを用いた例です。"
      ]
    },
    {
      "cell_type": "code",
      "metadata": {
        "id": "WvmOClMmIqks",
        "colab_type": "code",
        "colab": {
          "base_uri": "https://localhost:8080/",
          "height": 360
        },
        "outputId": "908007e3-6561-4aff-e981-66036c571060"
      },
      "source": [
        "from sklearn.manifold import TSNE\n",
        "import matplotlib.pyplot as plt\n",
        "\n",
        "vocabs = model.wv.vocab.keys()\n",
        "\n",
        "tsne_model = TSNE(perplexity=40, n_components=2, init=\"pca\", n_iter=5000, random_state=23)\n",
        "vectors_tsne = tsne_model.fit_transform(model[vocabs])\n",
        "\n",
        "fig, ax = plt.subplots(figsize=(5,5))\n",
        "ax.scatter(vectors_tsne[:, 0], vectors_tsne[:, 1])\n",
        "for i, word in enumerate(list(vocabs)):\n",
        "    plt.annotate(word, xy=(vectors_tsne[i, 0], vectors_tsne[i, 1]))\n",
        "ax.set_yticklabels([])\n",
        "ax.set_xticklabels([])\n",
        "plt.show()"
      ],
      "execution_count": 45,
      "outputs": [
        {
          "output_type": "stream",
          "text": [
            "/usr/local/lib/python3.6/dist-packages/ipykernel_launcher.py:7: DeprecationWarning: Call to deprecated `__getitem__` (Method will be removed in 4.0.0, use self.wv.__getitem__() instead).\n",
            "  import sys\n"
          ],
          "name": "stderr"
        },
        {
          "output_type": "display_data",
          "data": {
            "image/png": "[encoded data removed]",
            "text/plain": [
              "<Figure size 360x360 with 1 Axes>"
            ]
          },
          "metadata": {
            "tags": []
          }
        }
      ]
    },
    {
      "cell_type": "markdown",
      "metadata": {
        "id": "vjGRUn53IvA-",
        "colab_type": "text"
      },
      "source": [
        "## IMDB映画レビューデータセットの分散表現\n",
        "\n",
        "IMDB映画レビューデータセットの訓練データをコーパスとしてWord2Vecを学習させ分散表現を獲得しましょう。\n",
        "\n",
        "## コーパスの前処理\n",
        "\n",
        "コーパスの前処理として、特殊文字（!など）やURLの除去、大文字の小文字化といったことを行なってください。また、単語（トークン）はリストで分割してください。"
      ]
    },
    {
      "cell_type": "code",
      "metadata": {
        "id": "SJofiNh_I-Jd",
        "colab_type": "code",
        "colab": {
          "base_uri": "https://localhost:8080/",
          "height": 34
        },
        "outputId": "c752db56-1bc2-467b-eb52-bfe354cf4694"
      },
      "source": [
        "#正規表現で分割\n",
        "splits = []\n",
        "for s in x_test:\n",
        "  splits.append(re.findall(r'(?u)\\b\\w+\\b', s))\n",
        "\n",
        "#小文字化\n",
        "lower = []\n",
        "for l in splits:\n",
        "  lower.append([str.lower() for str in l])\n",
        "\n",
        "print(len(lower))"
      ],
      "execution_count": 78,
      "outputs": [
        {
          "output_type": "stream",
          "text": [
            "25000\n"
          ],
          "name": "stdout"
        }
      ]
    },
    {
      "cell_type": "markdown",
      "metadata": {
        "id": "gN4b_KTVI_AJ",
        "colab_type": "text"
      },
      "source": [
        "## Word2Vecの学習"
      ]
    },
    {
      "cell_type": "code",
      "metadata": {
        "id": "yC6k0LfcJC7i",
        "colab_type": "code",
        "colab": {
          "base_uri": "https://localhost:8080/",
          "height": 88
        },
        "outputId": "a01840be-1e10-4bf6-fbcd-2b4b9510a317"
      },
      "source": [
        "model = Word2Vec(min_count=1, size=10) # 次元数を10に設定\n",
        "model.build_vocab(lower) # 準備\n",
        "model.train(lower, total_examples=model.corpus_count, epochs=model.iter) # 学習\n"
      ],
      "execution_count": 79,
      "outputs": [
        {
          "output_type": "stream",
          "text": [
            "/usr/local/lib/python3.6/dist-packages/ipykernel_launcher.py:3: DeprecationWarning: Call to deprecated `iter` (Attribute will be removed in 4.0.0, use self.epochs instead).\n",
            "  This is separate from the ipykernel package so we can avoid doing imports until\n"
          ],
          "name": "stderr"
        },
        {
          "output_type": "execute_result",
          "data": {
            "text/plain": [
              "(22101957, 29600110)"
            ]
          },
          "metadata": {
            "tags": []
          },
          "execution_count": 79
        }
      ]
    },
    {
      "cell_type": "markdown",
      "metadata": {
        "id": "jcUuzBRTJElq",
        "colab_type": "text"
      },
      "source": [
        "## ベクトルの可視化\n",
        "\n",
        "得られたベクトルをt-SNEにより可視化してください。また、いくつかの単語を選びwv.most_similarを用いて似ている単語を調べてください"
      ]
    },
    {
      "cell_type": "code",
      "metadata": {
        "id": "64PTEpFxJLEH",
        "colab_type": "code",
        "colab": {
          "base_uri": "https://localhost:8080/",
          "height": 741
        },
        "outputId": "5c0097bb-30ce-4bb4-fdc4-54c3d108671b"
      },
      "source": [
        "vocabs = model.wv.vocab.keys()\n",
        "\n",
        "tsne_model = TSNE(perplexity=40, n_components=2, init=\"pca\", n_iter=5000, random_state=23)\n",
        "vectors_tsne = tsne_model.fit_transform(model[vocabs])\n",
        "\n",
        "fig, ax = plt.subplots(figsize=(12,12))\n",
        "ax.scatter(vectors_tsne[:, 0], vectors_tsne[:, 1])\n",
        "for i, word in enumerate(list(vocabs)):\n",
        "    plt.annotate(word, xy=(vectors_tsne[i, 0], vectors_tsne[i, 1]))\n",
        "ax.set_yticklabels([])\n",
        "ax.set_xticklabels([])\n",
        "plt.show()"
      ],
      "execution_count": 80,
      "outputs": [
        {
          "output_type": "stream",
          "text": [
            "/usr/local/lib/python3.6/dist-packages/ipykernel_launcher.py:4: DeprecationWarning: Call to deprecated `__getitem__` (Method will be removed in 4.0.0, use self.wv.__getitem__() instead).\n",
            "  after removing the cwd from sys.path.\n"
          ],
          "name": "stderr"
        },
        {
          "output_type": "display_data",
          "data": {
            "image/png": "[encoded data removed]",
            "text/plain": [
              "<Figure size 864x864 with 1 Axes>"
            ]
          },
          "metadata": {
            "tags": []
          }
        }
      ]
    },
    {
      "cell_type": "code",
      "metadata": {
        "id": "-JTccWtngWxY",
        "colab_type": "code",
        "colab": {
          "base_uri": "https://localhost:8080/",
          "height": 122
        },
        "outputId": "46e0a1f9-0cfb-4508-c36e-b73605f9a2a5"
      },
      "source": [
        "model.wv.most_similar(positive=\"good\", topn=3)"
      ],
      "execution_count": 81,
      "outputs": [
        {
          "output_type": "stream",
          "text": [
            "/usr/local/lib/python3.6/dist-packages/gensim/matutils.py:737: FutureWarning: Conversion of the second argument of issubdtype from `int` to `np.signedinteger` is deprecated. In future, it will be treated as `np.int64 == np.dtype(int).type`.\n",
            "  if np.issubdtype(vec.dtype, np.int):\n"
          ],
          "name": "stderr"
        },
        {
          "output_type": "execute_result",
          "data": {
            "text/plain": [
              "[('bad', 0.9462733268737793),\n",
              " ('terrible', 0.9271427392959595),\n",
              " ('mildly', 0.925158679485321)]"
            ]
          },
          "metadata": {
            "tags": []
          },
          "execution_count": 81
        }
      ]
    },
    {
      "cell_type": "code",
      "metadata": {
        "id": "h9q8GRAVp37H",
        "colab_type": "code",
        "colab": {
          "base_uri": "https://localhost:8080/",
          "height": 130
        },
        "outputId": "02b1a18d-0006-4c67-bdb8-2098a19b3de5"
      },
      "source": [
        "model.wv.most_similar(positive=\"sad\"\", topn=5)"
      ],
      "execution_count": 82,
      "outputs": [
        {
          "output_type": "error",
          "ename": "SyntaxError",
          "evalue": "ignored",
          "traceback": [
            "\u001b[0;36m  File \u001b[0;32m\"<ipython-input-82-e22722c1dc0e>\"\u001b[0;36m, line \u001b[0;32m1\u001b[0m\n\u001b[0;31m    model.wv.most_similar(positive=\"sad\"\", topn=5)\u001b[0m\n\u001b[0m                                                  ^\u001b[0m\n\u001b[0;31mSyntaxError\u001b[0m\u001b[0;31m:\u001b[0m EOL while scanning string literal\n"
          ]
        }
      ]
    },
    {
      "cell_type": "code",
      "metadata": {
        "id": "O8CC-KK7qBzJ",
        "colab_type": "code",
        "colab": {}
      },
      "source": [
        "model.wv.most_similar(positive=\"love\", topn=7)"
      ],
      "execution_count": 0,
      "outputs": []
    },
    {
      "cell_type": "markdown",
      "metadata": {
        "id": "FdsvfEStJM0c",
        "colab_type": "text"
      },
      "source": [
        "### 学習済みベクトル\n",
        "\n",
        "巨大なコーパスで学習して得たベクトルも公開されているため、自分で学習をせずに利用することもできます。オリジナルのWord2Vecの他に同じ作者の発展系である FastText やスタンフォード大の GloVe があり、それぞれ公開されています"
      ]
    },
    {
      "cell_type": "markdown",
      "metadata": {
        "id": "J7VeH3BAJXc4",
        "colab_type": "text"
      },
      "source": [
        "## Word2Vecを用いた映画レビューの分類\n",
        "問題6で学習して得たベクトルや公開されている学習済みベクトルを用いてIMDB映画レビューデータセットの感情分類の学習・推定を行なってください。"
      ]
    }
  ]
}