{
 "cells": [
  {
   "cell_type": "markdown",
   "metadata": {},
   "source": [
    "# 深層学習スクラッチ　ディープニューラルネットワーク\n",
    "\n",
    "前回は3層のニューラルネットワークを作成したが、今回はこれを任意の層数に拡張しやすいものに書き換えていく。その上で、活性化関数や初期値、最適化手法について発展的なものを扱えるようにしていく。\n",
    "このようなスクラッチを行うことで、今後各種フレームワークを利用していくにあたり、内部の動きが想像できることを目指す。"
   ]
  },
  {
   "cell_type": "code",
   "execution_count": 1,
   "metadata": {
    "cell_style": "split"
   },
   "outputs": [],
   "source": [
    "#基本ライブラリ\n",
    "import time\n",
    "import pickle\n",
    "import numpy as np\n",
    "import matplotlib.pyplot as plt\n",
    "import pandas as pd\n",
    "import seaborn as sns\n",
    "%matplotlib inline"
   ]
  },
  {
   "cell_type": "code",
   "execution_count": 2,
   "metadata": {
    "cell_style": "split"
   },
   "outputs": [],
   "source": [
    "#scikit-learnライブラリ\n",
    "from sklearn.preprocessing import StandardScaler\n",
    "from sklearn import metrics\n",
    "from sklearn.model_selection import train_test_split\n",
    "\n",
    "#データセット\n",
    "#from sklearn.datasets import load_iris"
   ]
  },
  {
   "cell_type": "code",
   "execution_count": 37,
   "metadata": {},
   "outputs": [
    {
     "name": "stderr",
     "output_type": "stream",
     "text": [
      "Using TensorFlow backend.\n"
     ]
    },
    {
     "name": "stdout",
     "output_type": "stream",
     "text": [
      "(48000, 784)\n",
      "(12000, 784)\n",
      "(48000, 10)\n",
      "(12000, 10)\n"
     ]
    }
   ],
   "source": [
    "#MNISTデータセット\n",
    "from keras.datasets import mnist\n",
    "(X_train, y_train), (X_test, y_test) = mnist.load_data()\n",
    "\n",
    "#平滑化\n",
    "X_train_f = X_train.reshape(-1, 784)\n",
    "X_test_f = X_test.reshape(-1, 784)\n",
    "\n",
    "#前処理\n",
    "X_train_ff = X_train_f.astype(np.float)\n",
    "X_test_ff = X_test_f.astype(np.float)\n",
    "X_train_ff /= 255\n",
    "X_test_ff /= 255\n",
    "\n",
    "from sklearn.preprocessing import OneHotEncoder\n",
    "enc = OneHotEncoder(handle_unknown='ignore', sparse=False)\n",
    "y_train_one_hot = enc.fit_transform(y_train[:, np.newaxis])\n",
    "y_test_one_hot = enc.transform(y_test[:, np.newaxis])\n",
    "\n",
    "Xt_train, Xt_val, yt_train, yt_val = train_test_split(X_train_ff, y_train_one_hot, test_size=0.2)\n",
    "print(Xt_train.shape) # (48000, 784)\n",
    "print(Xt_val.shape) # (12000, 784)\n",
    "print(yt_train.shape)\n",
    "print(yt_val.shape)"
   ]
  },
  {
   "cell_type": "code",
   "execution_count": 38,
   "metadata": {
    "code_folding": [
     0
    ]
   },
   "outputs": [],
   "source": [
    "class GetMiniBatch:\n",
    "    \"\"\"\n",
    "    ミニバッチを取得するイテレータ\n",
    "\n",
    "    Parameters\n",
    "    ----------\n",
    "    X : 次の形のndarray, shape (n_samples, n_features)\n",
    "      訓練用データ\n",
    "    y : 次の形のndarray, shape (n_samples, 1)\n",
    "      正解値\n",
    "    batch_size : int\n",
    "      バッチサイズ\n",
    "    seed : int\n",
    "      NumPyの乱数のシード\n",
    "    \"\"\"\n",
    "    def __init__(self, X, y, batch_size = 20, seed=0):\n",
    "        self.batch_size = batch_size\n",
    "        np.random.seed(seed)\n",
    "        shuffle_index = np.random.permutation(np.arange(X.shape[0]))\n",
    "        self._X = X[shuffle_index]\n",
    "        self._y = y[shuffle_index]\n",
    "        self._stop = np.ceil(X.shape[0]/self.batch_size).astype(np.int)\n",
    "\n",
    "    def __len__(self):\n",
    "        return self._stop\n",
    "\n",
    "    def __getitem__(self,item):\n",
    "        p0 = item*self.batch_size\n",
    "        p1 = item*self.batch_size + self.batch_size\n",
    "        return self._X[p0:p1], self._y[p0:p1]        \n",
    "\n",
    "    def __iter__(self):\n",
    "        self._counter = 0\n",
    "        return self\n",
    "\n",
    "    def __next__(self):\n",
    "        if self._counter >= self._stop:\n",
    "            raise StopIteration()\n",
    "        p0 = self._counter*self.batch_size\n",
    "        p1 = self._counter*self.batch_size + self.batch_size\n",
    "        self._counter += 1\n",
    "        return self._X[p0:p1], self._y[p0:p1]"
   ]
  },
  {
   "cell_type": "markdown",
   "metadata": {},
   "source": [
    "クラスにまとめて行くことで、構成を変更しやすい実装にしていく。\n",
    "\n",
    "手を加える箇所\n",
    "- 層の数\n",
    "- 層の種類（今後畳み込み層など他のタイプの層が登場する）\n",
    "- 活性化関数の種類\n",
    "- 重みやバイアスの初期化方法\n",
    "- 最適化手法\n",
    "\n",
    "そのために、全結合層、各種活性化関数、重みやバイアスの初期化、最適化手法それぞれのクラスを作成する。"
   ]
  },
  {
   "cell_type": "markdown",
   "metadata": {},
   "source": [
    "## SimpleInitializer"
   ]
  },
  {
   "cell_type": "code",
   "execution_count": 97,
   "metadata": {
    "code_folding": []
   },
   "outputs": [],
   "source": [
    "class SimpleInitializer:\n",
    "    \"\"\"\n",
    "    ガウス分布によるシンプルな初期化\n",
    "    Parameters\n",
    "    ----------\n",
    "    sigma : float\n",
    "      ガウス分布の標準偏差\n",
    "    \"\"\"\n",
    "    def __init__(self, sigma=0.01):\n",
    "        self.sigma = sigma\n",
    "        \n",
    "    def W(self, n_nodes1, n_nodes2):\n",
    "        \"\"\"\n",
    "        重みの初期化\n",
    "        Parameters\n",
    "        ----------\n",
    "        n_nodes1 : int\n",
    "          前の層のノード数\n",
    "        n_nodes2 : int\n",
    "          後の層のノード数\n",
    "\n",
    "        Returns\n",
    "        ----------\n",
    "        W :\n",
    "        \"\"\"\n",
    "        W = self.sigma * np.random.randn(n_nodes1, n_nodes2)\n",
    "\n",
    "        return W\n",
    "    \n",
    "    def B(self, n_nodes2):\n",
    "        \"\"\"\n",
    "        バイアスの初期化\n",
    "        Parameters\n",
    "        ----------\n",
    "        n_nodes2 : int\n",
    "          後の層のノード数\n",
    "\n",
    "        Returns\n",
    "        ----------\n",
    "        B :\n",
    "        \"\"\"\n",
    "        B = self.sigma * np.random.randn(1, n_nodes2) \n",
    "        \n",
    "        return B"
   ]
  },
  {
   "cell_type": "code",
   "execution_count": 40,
   "metadata": {},
   "outputs": [
    {
     "name": "stdout",
     "output_type": "stream",
     "text": [
      "[[ 0.0144204  -0.01064334  0.0087505  -0.00613603 -0.00827022 -0.00010613\n",
      "   0.0115088  -0.0073537   0.00166714  0.00399145]\n",
      " [-0.01184034 -0.01065672 -0.00433525  0.0056092   0.01542739  0.01040955\n",
      "  -0.00089129 -0.00911276  0.02147142  0.00482934]\n",
      " [-0.00200098  0.01196082 -0.01251828 -0.00322636 -0.01297762 -0.00748901\n",
      "   0.01322684 -0.00830531 -0.01028293 -0.02016885]\n",
      " [ 0.01252299 -0.00230588  0.00670878 -0.01400269  0.00396101 -0.00236878\n",
      "   0.02688426 -0.02588258  0.00667455  0.00998452]]\n",
      "[[-0.00310297 -0.00543957  0.00536146  0.00122429 -0.0246055  -0.00251121\n",
      "   0.02051422 -0.00242131 -0.00165961  0.02034751]]\n"
     ]
    }
   ],
   "source": [
    "# テスト\n",
    "initializer = SimpleInitializer(sigma= 0.01)\n",
    "print(initializer.W(4, 10))\n",
    "print(initializer.B(10))"
   ]
  },
  {
   "cell_type": "markdown",
   "metadata": {},
   "source": [
    "## 最適化クラス(SGD)"
   ]
  },
  {
   "cell_type": "code",
   "execution_count": 138,
   "metadata": {},
   "outputs": [],
   "source": [
    "class SGD:\n",
    "    \"\"\"\n",
    "    確率的勾配降下法\n",
    "    Parameters\n",
    "    ----------\n",
    "    lr : 学習率\n",
    "    \"\"\"\n",
    "    def __init__(self, lr=0.01):\n",
    "        self.lr = lr\n",
    "        \n",
    "    def update(self, layer):\n",
    "        \"\"\"\n",
    "        ある層の重みやバイアスの更新\n",
    "        Parameters\n",
    "        ----------\n",
    "        layer : 更新前の層のインスタンス\n",
    "        \"\"\"\n",
    "        layer.W -= self.lr*layer.LW\n",
    "        layer.B -= self.lr*layer.LB\n"
   ]
  },
  {
   "cell_type": "markdown",
   "metadata": {},
   "source": [
    "## 活性化関数（tanh）"
   ]
  },
  {
   "cell_type": "code",
   "execution_count": 42,
   "metadata": {},
   "outputs": [],
   "source": [
    "class Tanh():\n",
    "    \"\"\"\n",
    "    ハイパボリックタンジェント関数\n",
    "    \"\"\"\n",
    "    def forward(self, X):\n",
    "        return np.tanh(X)\n",
    "    \n",
    "    def backward(self, LZ, A):\n",
    "        return LZ * (1-np.tanh(A)**2) \n",
    "    "
   ]
  },
  {
   "cell_type": "markdown",
   "metadata": {},
   "source": [
    "## 活性化関数(softmax)"
   ]
  },
  {
   "cell_type": "code",
   "execution_count": 43,
   "metadata": {},
   "outputs": [],
   "source": [
    "class Softmax():\n",
    "    \"\"\"\n",
    "    ソフトマックス関数\n",
    "    \"\"\"\n",
    "    def forward(self, X):\n",
    "        c = np.max(X, axis=1)\n",
    "        exp_x = np.exp(X - c.reshape(-1,1))   #オーバーフロー対策\n",
    "        sum_exp_x = np.sum(exp_x, axis=1)\n",
    "        y = exp_x / sum_exp_x.reshape(-1,1)\n",
    "\n",
    "        return y\n",
    "    \n",
    "    def backward(self, X):\n",
    "        print(\"Softmax backward isn't made yet\")\n",
    "        pass\n",
    "    "
   ]
  },
  {
   "cell_type": "markdown",
   "metadata": {},
   "source": [
    "## 全結合層クラス(FC)"
   ]
  },
  {
   "cell_type": "code",
   "execution_count": 133,
   "metadata": {},
   "outputs": [],
   "source": [
    "class FC:\n",
    "    \"\"\"\n",
    "    ノード数n_nodes1からn_nodes2への全結合層\n",
    "    Parameters\n",
    "    ----------\n",
    "    n_nodes1 : int\n",
    "      前の層のノード数\n",
    "    n_nodes2 : int\n",
    "      後の層のノード数\n",
    "    initializer : 初期化方法のインスタンス\n",
    "    optimizer : 最適化手法のインスタンス\n",
    "    \"\"\"\n",
    "    \n",
    "    def __init__(self, n_nodes1, n_nodes2, initializer, optimizer, def_name=None):\n",
    "        self.optimizer = optimizer\n",
    "        # 初期化\n",
    "        # initializerのメソッドを使い、self.Wとself.Bを初期化する\n",
    "        self.W =  initializer.W(n_nodes1, n_nodes2) \n",
    "        self.B = initializer.B(n_nodes2) \n",
    "  \n",
    "    \n",
    "    def forward(self, X):\n",
    "        \"\"\"\n",
    "        フォワード\n",
    "        Parameters\n",
    "        ----------\n",
    "        X : 次の形のndarray, shape (batch_size, n_nodes1)\n",
    "            入力\n",
    "        Returns\n",
    "        ----------\n",
    "        A : 次の形のndarray, shape (batch_size, n_nodes2)\n",
    "            出力\n",
    "        \"\"\"        \n",
    "        XW = np.dot(X, self.W)\n",
    "        self.A = XW + self.B\n",
    "        \n",
    "        return self.A\n",
    "    \n",
    "    def backward(self, dA, Z, FC_num):\n",
    "        \"\"\"\n",
    "        バックワード\n",
    "        Parameters\n",
    "        ----------\n",
    "        dA : 次の形のndarray, shape (batch_size, n_nodes2)\n",
    "            後ろから流れてきた勾配\n",
    "        Returns\n",
    "        ----------\n",
    "        dZ : 次の形のndarray, shape (batch_size, n_nodes1)\n",
    "            前に流す勾配\n",
    "        \"\"\"\n",
    "        if FC_num == 0:\n",
    "            self.LB = np.sum(dA, axis=0)\n",
    "            self.LW = np.dot(Z.T, self.LA)\n",
    "            dZ = np.dot(self.LA, self.W.T)\n",
    "        else:\n",
    "            self.LB = np.sum(dA, axis=0)\n",
    "            self.LW = np.dot(Z.T, self.LA)\n",
    "            dZ = np.dot(self.LA, self.W.T)\n",
    "        \n",
    "        # 更新\n",
    "        self = self.optimizer.update(self)\n",
    "        #FC2 = FC2.optimizer.updata(FC2)\n",
    "        #FC2 = SGD().update(FC2)\n",
    "        \n",
    "        return dZ\n"
   ]
  },
  {
   "cell_type": "markdown",
   "metadata": {},
   "source": [
    "## ベーシック機能NN\n",
    "\n",
    "ここまで作成した機能を組み込んだNNのクラスを作成。\n",
    "\n",
    "まずは、動くか試してみる。"
   ]
  },
  {
   "cell_type": "code",
   "execution_count": 64,
   "metadata": {},
   "outputs": [
    {
     "name": "stdout",
     "output_type": "stream",
     "text": [
      "784 400\n",
      "400 200\n",
      "200 10\n",
      "0 >10 >20 >30 >40 >\n"
     ]
    },
    {
     "data": {
      "text/plain": [
       "[<matplotlib.lines.Line2D at 0x1a5b54e4a8>]"
      ]
     },
     "execution_count": 64,
     "metadata": {},
     "output_type": "execute_result"
    },
    {
     "data": {
      "image/png": "[encoded data removed]",
      "text/plain": [
       "<Figure size 432x288 with 1 Axes>"
      ]
     },
     "metadata": {
      "needs_background": "light"
     },
     "output_type": "display_data"
    }
   ],
   "source": [
    "ac_list = [Tanh(), Tanh(), Softmax()]\n",
    "nodes_num_list = [400, 200, 10]\n",
    "\n",
    "SDNN = ScratchDeepNeuralNetrowkClassifier(nodes_num_list, ac_list, itr=50, b_size=20, lr=0.00001, network=3)\n",
    "SDNN.fit(Xt_train, yt_train)\n",
    "plt.plot(SDNN.L)"
   ]
  },
  {
   "cell_type": "markdown",
   "metadata": {},
   "source": [
    "### フレームテスト\n",
    "\n",
    "発展的なコードを実装していない状態で、ノード数、ネットワーク層を色々試してみる"
   ]
  },
  {
   "cell_type": "code",
   "execution_count": 65,
   "metadata": {},
   "outputs": [
    {
     "name": "stdout",
     "output_type": "stream",
     "text": [
      "784 400\n",
      "400 200\n",
      "200 100\n",
      "100 10\n",
      "0 >10 >20 >30 >40 >\n"
     ]
    },
    {
     "data": {
      "text/plain": [
       "[<matplotlib.lines.Line2D at 0x1a5b4bd3c8>]"
      ]
     },
     "execution_count": 65,
     "metadata": {},
     "output_type": "execute_result"
    },
    {
     "data": {
      "image/png": "[encoded data removed]",
      "text/plain": [
       "<Figure size 432x288 with 1 Axes>"
      ]
     },
     "metadata": {
      "needs_background": "light"
     },
     "output_type": "display_data"
    }
   ],
   "source": [
    "ac_list = [Tanh(),Tanh(), Tanh(), Softmax()]\n",
    "nodes_num_list = [400, 200, 100, 10]\n",
    "\n",
    "SDNN = ScratchDeepNeuralNetrowkClassifier(nodes_num_list, ac_list, itr=50, b_size=20, lr=0.00001, network=4)\n",
    "SDNN.fit(Xt_train, yt_train)\n",
    "plt.plot(SDNN.L)"
   ]
  },
  {
   "cell_type": "markdown",
   "metadata": {},
   "source": [
    "層を深くしたら収束が浅くなった"
   ]
  },
  {
   "cell_type": "code",
   "execution_count": 69,
   "metadata": {},
   "outputs": [
    {
     "name": "stdout",
     "output_type": "stream",
     "text": [
      "784 200\n",
      "200 300\n",
      "300 100\n",
      "100 10\n",
      "0 >10 >20 >30 >40 >\n"
     ]
    },
    {
     "data": {
      "text/plain": [
       "[<matplotlib.lines.Line2D at 0x1a98d56780>]"
      ]
     },
     "execution_count": 69,
     "metadata": {},
     "output_type": "execute_result"
    },
    {
     "data": {
      "image/png": "[encoded data removed]",
      "text/plain": [
       "<Figure size 432x288 with 1 Axes>"
      ]
     },
     "metadata": {
      "needs_background": "light"
     },
     "output_type": "display_data"
    }
   ],
   "source": [
    "ac_list = [Tanh(),Tanh(), Tanh(), Softmax()]\n",
    "nodes_num_list = [200, 300, 100, 10]\n",
    "\n",
    "SDNN3 = ScratchDeepNeuralNetrowkClassifier(nodes_num_list, ac_list, itr=50, b_size=20, lr=0.00001)\n",
    "SDNN3.fit(Xt_train, yt_train)\n",
    "plt.plot(SDNN3.L)"
   ]
  },
  {
   "cell_type": "code",
   "execution_count": 70,
   "metadata": {},
   "outputs": [
    {
     "name": "stdout",
     "output_type": "stream",
     "text": [
      "784 600\n",
      "600 10\n",
      "0 >"
     ]
    },
    {
     "name": "stderr",
     "output_type": "stream",
     "text": [
      "/Users/ishizucat/.pyenv/versions/anaconda3-5.3.1/envs/term2/lib/python3.7/site-packages/ipykernel_launcher.py:99: RuntimeWarning: invalid value encountered in log\n"
     ]
    },
    {
     "name": "stdout",
     "output_type": "stream",
     "text": [
      "10 >20 >30 >40 >\n"
     ]
    },
    {
     "data": {
      "text/plain": [
       "[<matplotlib.lines.Line2D at 0x1a98f6d6d8>]"
      ]
     },
     "execution_count": 70,
     "metadata": {},
     "output_type": "execute_result"
    },
    {
     "data": {
      "image/png": "[encoded data removed]",
      "text/plain": [
       "<Figure size 432x288 with 1 Axes>"
      ]
     },
     "metadata": {
      "needs_background": "light"
     },
     "output_type": "display_data"
    }
   ],
   "source": [
    "ac_list = [Tanh(),Tanh(), Tanh(), Softmax()]\n",
    "nodes_num_list = [600, 10]\n",
    "\n",
    "SDNN4 = ScratchDeepNeuralNetrowkClassifier(nodes_num_list, ac_list, itr=50, b_size=20, lr=0.00001)\n",
    "SDNN4.fit(Xt_train, yt_train)\n",
    "plt.plot(SDNN4.L)"
   ]
  },
  {
   "cell_type": "code",
   "execution_count": 71,
   "metadata": {},
   "outputs": [
    {
     "name": "stdout",
     "output_type": "stream",
     "text": [
      "784 300\n",
      "300 200\n",
      "200 10\n",
      "0 >"
     ]
    },
    {
     "name": "stderr",
     "output_type": "stream",
     "text": [
      "/Users/ishizucat/.pyenv/versions/anaconda3-5.3.1/envs/term2/lib/python3.7/site-packages/ipykernel_launcher.py:99: RuntimeWarning: invalid value encountered in log\n"
     ]
    },
    {
     "name": "stdout",
     "output_type": "stream",
     "text": [
      "10 >20 >30 >40 >\n"
     ]
    },
    {
     "data": {
      "text/plain": [
       "[<matplotlib.lines.Line2D at 0x1a997addd8>]"
      ]
     },
     "execution_count": 71,
     "metadata": {},
     "output_type": "execute_result"
    },
    {
     "data": {
      "image/png": "[encoded data removed]",
      "text/plain": [
       "<Figure size 432x288 with 1 Axes>"
      ]
     },
     "metadata": {
      "needs_background": "light"
     },
     "output_type": "display_data"
    }
   ],
   "source": [
    "ac_list = [Tanh(),Tanh(), Tanh(), Softmax()]\n",
    "nodes_num_list = [300, 200, 10]\n",
    "\n",
    "SDNN4 = ScratchDeepNeuralNetrowkClassifier(nodes_num_list, ac_list, itr=50, b_size=20, lr=0.00001)\n",
    "SDNN4.fit(Xt_train, yt_train)\n",
    "plt.plot(SDNN4.L)"
   ]
  },
  {
   "cell_type": "markdown",
   "metadata": {},
   "source": [
    "## ReLUクラス"
   ]
  },
  {
   "cell_type": "code",
   "execution_count": 80,
   "metadata": {},
   "outputs": [],
   "source": [
    "class relu():\n",
    "    def __init__(self):\n",
    "        self.mask = None\n",
    "\n",
    "    def forward(self, X):\n",
    "        self.mask = (X <= 0)\n",
    "        return np.maximum(0, X)\n",
    "    \n",
    "    def backward(self, LZ, A):\n",
    "        LZ[self.mask] = 0\n",
    "        dx = LZ\n",
    "        return dx \n",
    "    "
   ]
  },
  {
   "cell_type": "code",
   "execution_count": 83,
   "metadata": {
    "scrolled": true
   },
   "outputs": [
    {
     "name": "stdout",
     "output_type": "stream",
     "text": [
      "0 >10 >20 >30 >40 >\n"
     ]
    },
    {
     "data": {
      "text/plain": [
       "[<matplotlib.lines.Line2D at 0x1a99aa9668>]"
      ]
     },
     "execution_count": 83,
     "metadata": {},
     "output_type": "execute_result"
    },
    {
     "data": {
      "image/png": "[encoded data removed]",
      "text/plain": [
       "<Figure size 432x288 with 1 Axes>"
      ]
     },
     "metadata": {
      "needs_background": "light"
     },
     "output_type": "display_data"
    }
   ],
   "source": [
    "ac_list = [Tanh(), relu(), Softmax()]\n",
    "nodes_num_list = [400, 200, 10]\n",
    "\n",
    "SDNN5 = ScratchDeepNeuralNetrowkClassifier(nodes_num_list, ac_list, itr=50, b_size=20, lr=0.00001)\n",
    "SDNN5.fit(Xt_train, yt_train)\n",
    "plt.plot(SDNN5.L)"
   ]
  },
  {
   "cell_type": "markdown",
   "metadata": {},
   "source": [
    "## 重みの初期値\n",
    "\n",
    "ここまでは重みやバイアスの初期値は単純にガウス分布で、標準偏差をハイパーパラメータとして扱ってきました。しかし、どのような値にすると良いかが知られています。シグモイド関数やハイパボリックタンジェント関数のときは Xavierの初期値 （またはGlorotの初期値）、ReLUのときは Heの初期値 が使われます。"
   ]
  },
  {
   "cell_type": "code",
   "execution_count": 96,
   "metadata": {
    "code_folding": [
     0
    ]
   },
   "outputs": [],
   "source": [
    "#ザビエル\n",
    "class XavierInitializer():\n",
    "    def __init__(self, sigma=0.01):\n",
    "        self.sigma = sigma\n",
    "        \n",
    "    def W(self, n_nodes1, n_nodes2):\n",
    "        \"\"\"\n",
    "        重みの初期化\n",
    "        Parameters\n",
    "        ----------\n",
    "        n_nodes1 : int\n",
    "          前の層のノード数\n",
    "        n_nodes2 : int\n",
    "          後の層のノード数\n",
    "\n",
    "        Returns\n",
    "        ----------\n",
    "        W :\n",
    "        \"\"\"\n",
    "        xavier = 1 / np.sqrt(n_nodes1)\n",
    "        W = xavier * np.random.randn(n_nodes1, n_nodes2)\n",
    "\n",
    "        return W\n",
    "    \n",
    "    def B(self, n_nodes2):\n",
    "        \"\"\"\n",
    "        バイアスの初期化\n",
    "        Parameters\n",
    "        ----------\n",
    "        n_nodes2 : int\n",
    "          後の層のノード数\n",
    "\n",
    "        Returns\n",
    "        ----------\n",
    "        B :\n",
    "        \"\"\"\n",
    "        B = self.sigma * np.random.randn(1, n_nodes2) \n",
    "        \n",
    "        return B\n",
    "    "
   ]
  },
  {
   "cell_type": "code",
   "execution_count": 95,
   "metadata": {
    "code_folding": [
     0
    ]
   },
   "outputs": [],
   "source": [
    "#フー\n",
    "class HeInitializer():\n",
    "    def __init__(self, sigma=0.01):\n",
    "        self.sigma = sigma\n",
    "        \n",
    "    def W(self, n_nodes1, n_nodes2):\n",
    "        \"\"\"\n",
    "        重みの初期化\n",
    "        Parameters\n",
    "        ----------\n",
    "        n_nodes1 : int\n",
    "          前の層のノード数\n",
    "        n_nodes2 : int\n",
    "          後の層のノード数\n",
    "\n",
    "        Returns\n",
    "        ----------\n",
    "        W :\n",
    "        \"\"\"\n",
    "        he = np.sqrt( 2 / n_nodes1 )\n",
    "        W = he * np.random.randn(n_nodes1, n_nodes2)\n",
    "\n",
    "        return W\n",
    "    \n",
    "    def B(self, n_nodes2):\n",
    "        \"\"\"\n",
    "        バイアスの初期化\n",
    "        Parameters\n",
    "        ----------\n",
    "        n_nodes2 : int\n",
    "          後の層のノード数\n",
    "\n",
    "        Returns\n",
    "        ----------\n",
    "        B :\n",
    "        \"\"\"\n",
    "        B = self.sigma * np.random.randn(1, n_nodes2) \n",
    "        \n",
    "        return B\n",
    "    "
   ]
  },
  {
   "cell_type": "code",
   "execution_count": 93,
   "metadata": {},
   "outputs": [
    {
     "name": "stdout",
     "output_type": "stream",
     "text": [
      "W: [[ 0.00502002  0.0117276   0.00043664  0.00214072 -0.00619503 -0.00259374\n",
      "  -0.0005748   0.00947799 -0.004734   -0.00541664]]\n",
      "B [[ 0.00060538  0.00903403  0.0153589   0.00400693 -0.00851994 -0.01081967\n",
      "  -0.00891728 -0.01011246  0.01018512  0.0167732 ]]\n",
      "---ザビエル---\n",
      "W [[ 0.33595667  1.31940785  0.71254246 -0.13721672  0.31466831  0.5377002\n",
      "  -0.82483885 -0.7683189   0.5154214  -1.32243879]]\n",
      "B [[-0.01172533 -0.01282403  0.00188044  0.00827985 -0.01104098  0.00331046\n",
      "   0.01487708  0.00786173 -0.01969454 -0.0133744 ]]\n",
      "---フー---\n",
      "W [[ 0.36779938 -1.38050675  0.91072062 -1.40109133 -0.95127392 -0.12895084\n",
      "   0.79245413 -0.31860527  0.35389375 -0.78164445]]\n",
      "B [[ 0.00481675  0.02138701 -0.01325092  0.00357229  0.00467962 -0.00340808\n",
      "  -0.00465429 -0.00319009 -0.0005411   0.00758203]]\n"
     ]
    }
   ],
   "source": [
    "# シンプル\n",
    "initializer = SimpleInitializer(sigma= 0.01)\n",
    "print(\"W:\", initializer.W(1, 10))\n",
    "print(\"B\", initializer.B(10))\n",
    "print(\"---ザビエル---\")\n",
    "# ザビエル\n",
    "initializer = XavierInitializer(sigma= 0.01)\n",
    "print(\"W\", initializer.W(1, 10))\n",
    "print(\"B\", initializer.B(10))\n",
    "print(\"---フー---\")\n",
    "# ザビエル\n",
    "initializer = HeInitializer(sigma= 0.01)\n",
    "print(\"W\", initializer.W(1, 10))\n",
    "print(\"B\", initializer.B(10))"
   ]
  },
  {
   "cell_type": "code",
   "execution_count": 103,
   "metadata": {},
   "outputs": [
    {
     "name": "stdout",
     "output_type": "stream",
     "text": [
      "0 >10 >20 >30 >40 >\n"
     ]
    },
    {
     "data": {
      "text/plain": [
       "[<matplotlib.lines.Line2D at 0x1a98c5c3c8>]"
      ]
     },
     "execution_count": 103,
     "metadata": {},
     "output_type": "execute_result"
    },
    {
     "data": {
      "image/png": "[encoded data removed]",
      "text/plain": [
       "<Figure size 432x288 with 1 Axes>"
      ]
     },
     "metadata": {
      "needs_background": "light"
     },
     "output_type": "display_data"
    }
   ],
   "source": [
    "initialize_list = [XavierInitializer(), HeInitializer(), XavierInitializer()]\n",
    "ac_list = [Tanh(), relu(), Softmax()]\n",
    "nodes_num_list = [400, 200, 10]\n",
    "\n",
    "SDNN6 = ScratchDeepNeuralNetrowkClassifier(nodes_num_list, ac_list, initialize_list, itr=50, b_size=20, lr=0.00001)\n",
    "SDNN6.fit(Xt_train, yt_train)\n",
    "plt.plot(SDNN6.L)\n"
   ]
  },
  {
   "cell_type": "markdown",
   "metadata": {},
   "source": [
    "## 最適化手法(AdaGrad)"
   ]
  },
  {
   "cell_type": "code",
   "execution_count": 226,
   "metadata": {},
   "outputs": [],
   "source": [
    "#平均値\n",
    "class AdaGrad():\n",
    "    def __init__(self, lr=0.01):\n",
    "        self.lr = lr\n",
    "        self.hw = 0\n",
    "        self.hb = 0\n",
    "        self.hw_mean=[]\n",
    "        self.hb_mean=[]\n",
    "        \n",
    "    def update(self, layer):\n",
    "        \"\"\"\n",
    "        ある層の重みやバイアスの更新\n",
    "        Parameters\n",
    "        ----------\n",
    "        layer : 更新前の層のインスタンス\n",
    "        \"\"\"\n",
    "        self.hw += (np.mean(layer.LW, axis=0))**2 \n",
    "        self.hb +=  (layer.LB)**2\n",
    "        self.hw_mean.append(np.mean(self.hw))\n",
    "        self.hb_mean.append(np.mean(self.hb))\n",
    "        \n",
    "        layer.W -= self.lr / np.sqrt(self.hw + 1e-7) * np.mean(layer.LW, axis=0)\n",
    "        layer.B -= self.lr / np.sqrt(self.hb + 1e-7) * layer.LB"
   ]
  },
  {
   "cell_type": "code",
   "execution_count": 234,
   "metadata": {},
   "outputs": [],
   "source": [
    "class AdaGrad2():\n",
    "    def __init__(self, lr=0.01):\n",
    "        self.lr = lr\n",
    "        self.hw = 0\n",
    "        self.hb = 0\n",
    "        self.hw_mean=[]\n",
    "        self.hb_mean=[]\n",
    "        \n",
    "    def update(self, layer):\n",
    "        \"\"\"\n",
    "        ある層の重みやバイアスの更新\n",
    "        Parameters\n",
    "        ----------\n",
    "        layer : 更新前の層のインスタンス\n",
    "        \"\"\"\n",
    "        self.hw += (layer.LW)**2 \n",
    "        self.hb +=  (layer.LB)**2\n",
    "        self.hw_mean.append(np.mean(self.hw))\n",
    "        self.hb_mean.append(np.mean(self.hb))\n",
    "        \n",
    "        layer.W -= self.lr / np.sqrt(self.hw + 1e-7) * layer.LW\n",
    "        layer.B -= self.lr / np.sqrt(self.hb + 1e-7) * layer.LB"
   ]
  },
  {
   "cell_type": "markdown",
   "metadata": {},
   "source": [
    "### 動作テスト"
   ]
  },
  {
   "cell_type": "code",
   "execution_count": 1,
   "metadata": {},
   "outputs": [],
   "source": [
    "initialize_list = [XavierInitializer(), HeInitializer(), XavierInitializer()]\n",
    "opt_list = [AdaGrad(),AdaGrad(),AdaGrad()]\n",
    "ac_list = [Tanh(), relu(), Softmax()]\n",
    "nodes_num_list = [400, 200, 10]\n",
    "\n",
    "SDNN7 = ScratchDeepNeuralNetrowkClassifier(\n",
    "    nodes_num_list, ac_list, initialize_list, opt_list, itr=4, b_size=1000, lr=0.00001)\n",
    "SDNN7.fit(Xt_train, yt_train)\n",
    "plt.plot(SDNN7.L)"
   ]
  },
  {
   "cell_type": "markdown",
   "metadata": {},
   "source": [
    "#### Hの増加グラフ"
   ]
  },
  {
   "cell_type": "code",
   "execution_count": 154,
   "metadata": {},
   "outputs": [
    {
     "data": {
      "text/plain": [
       "[<matplotlib.lines.Line2D at 0x1a72631eb8>]"
      ]
     },
     "execution_count": 154,
     "metadata": {},
     "output_type": "execute_result"
    },
    {
     "data": {
      "image/png": "[encoded data removed]",
      "text/plain": [
       "<Figure size 432x288 with 1 Axes>"
      ]
     },
     "metadata": {
      "needs_background": "light"
     },
     "output_type": "display_data"
    }
   ],
   "source": [
    "plt.plot(SDNN7.opt_list[0].h_mean)"
   ]
  },
  {
   "cell_type": "code",
   "execution_count": 155,
   "metadata": {},
   "outputs": [
    {
     "data": {
      "text/plain": [
       "[<matplotlib.lines.Line2D at 0x1a7363c908>]"
      ]
     },
     "execution_count": 155,
     "metadata": {},
     "output_type": "execute_result"
    },
    {
     "data": {
      "image/png": "[encoded data removed]",
      "text/plain": [
       "<Figure size 432x288 with 1 Axes>"
      ]
     },
     "metadata": {
      "needs_background": "light"
     },
     "output_type": "display_data"
    }
   ],
   "source": [
    "plt.plot(SDNN7.opt_list[1].h_mean)"
   ]
  },
  {
   "cell_type": "code",
   "execution_count": 156,
   "metadata": {},
   "outputs": [
    {
     "data": {
      "text/plain": [
       "[<matplotlib.lines.Line2D at 0x1a7369b160>]"
      ]
     },
     "execution_count": 156,
     "metadata": {},
     "output_type": "execute_result"
    },
    {
     "data": {
      "image/png": "[encoded data removed]",
      "text/plain": [
       "<Figure size 432x288 with 1 Axes>"
      ]
     },
     "metadata": {
      "needs_background": "light"
     },
     "output_type": "display_data"
    }
   ],
   "source": [
    "plt.plot(SDNN7.opt_list[2].h_mean)"
   ]
  },
  {
   "cell_type": "markdown",
   "metadata": {},
   "source": [
    "### Hの効果を試してみる"
   ]
  },
  {
   "cell_type": "code",
   "execution_count": 160,
   "metadata": {},
   "outputs": [
    {
     "name": "stdout",
     "output_type": "stream",
     "text": [
      "0 >10 >20 >30 >40 >\n"
     ]
    },
    {
     "data": {
      "text/plain": [
       "[<matplotlib.lines.Line2D at 0x1a73867908>]"
      ]
     },
     "execution_count": 160,
     "metadata": {},
     "output_type": "execute_result"
    },
    {
     "data": {
      "image/png": "[encoded data removed]",
      "text/plain": [
       "<Figure size 432x288 with 1 Axes>"
      ]
     },
     "metadata": {
      "needs_background": "light"
     },
     "output_type": "display_data"
    }
   ],
   "source": [
    "initialize_list = [XavierInitializer(), HeInitializer(), XavierInitializer()]\n",
    "opt_list = [AdaGrad(),AdaGrad(),AdaGrad()]\n",
    "ac_list = [Tanh(), relu(), Softmax()]\n",
    "nodes_num_list = [400, 200, 10]\n",
    "\n",
    "SDNN8 = ScratchDeepNeuralNetrowkClassifier(\n",
    "    nodes_num_list, ac_list, initialize_list, opt_list, itr=50, b_size=1000, lr=0.00001)\n",
    "SDNN8.fit(Xt_train, yt_train)\n",
    "plt.plot(SDNN8.L)"
   ]
  },
  {
   "cell_type": "code",
   "execution_count": 162,
   "metadata": {},
   "outputs": [
    {
     "name": "stdout",
     "output_type": "stream",
     "text": [
      "0 >10 >20 >30 >40 >\n"
     ]
    },
    {
     "data": {
      "text/plain": [
       "[<matplotlib.lines.Line2D at 0x1a8583df28>]"
      ]
     },
     "execution_count": 162,
     "metadata": {},
     "output_type": "execute_result"
    },
    {
     "data": {
      "image/png": "[encoded data removed]",
      "text/plain": [
       "<Figure size 432x288 with 1 Axes>"
      ]
     },
     "metadata": {
      "needs_background": "light"
     },
     "output_type": "display_data"
    }
   ],
   "source": [
    "initialize_list = [XavierInitializer(), HeInitializer(), XavierInitializer()]\n",
    "opt_list = [AdaGrad(),AdaGrad(),AdaGrad()]\n",
    "ac_list = [Tanh(), relu(), Softmax()]\n",
    "nodes_num_list = [400, 200, 10]\n",
    "\n",
    "SDNN9 = ScratchDeepNeuralNetrowkClassifier(\n",
    "    nodes_num_list, ac_list, initialize_list, opt_list, itr=50, b_size=1000, lr=0.01)\n",
    "SDNN9.fit(Xt_train, yt_train)\n",
    "plt.plot(SDNN9.L)"
   ]
  },
  {
   "cell_type": "markdown",
   "metadata": {},
   "source": [
    "AdaGradを採用すると、学習率を高くしても、収束してくれるようになる。\n",
    "\n",
    "つまり、切れ込みが鋭くなり、エポックが少なくても収束してくれる。"
   ]
  },
  {
   "cell_type": "code",
   "execution_count": 171,
   "metadata": {},
   "outputs": [
    {
     "name": "stdout",
     "output_type": "stream",
     "text": [
      "0 >10 >20 >30 >40 >\n"
     ]
    },
    {
     "data": {
      "text/plain": [
       "[<matplotlib.lines.Line2D at 0x1a877efb38>]"
      ]
     },
     "execution_count": 171,
     "metadata": {},
     "output_type": "execute_result"
    },
    {
     "data": {
      "image/png": "[encoded data removed]",
      "text/plain": [
       "<Figure size 432x288 with 1 Axes>"
      ]
     },
     "metadata": {
      "needs_background": "light"
     },
     "output_type": "display_data"
    }
   ],
   "source": [
    "nodes_num_list = [400, 200, 10]\n",
    "ac_list = [Tanh(), relu(), Softmax()]\n",
    "initialize_list = [XavierInitializer(), HeInitializer(), XavierInitializer()]\n",
    "opt_list = [SGD(),SGD(),SGD()]\n",
    "\n",
    "SDNN10 = ScratchDeepNeuralNetrowkClassifier(\n",
    "    nodes_num_list, ac_list, initialize_list, opt_list, itr=50, b_size=100, lr=0.00001)\n",
    "SDNN10.fit(Xt_train, yt_train)\n",
    "plt.plot(SDNN10.L)"
   ]
  },
  {
   "cell_type": "markdown",
   "metadata": {},
   "source": [
    "## 完成版クラス"
   ]
  },
  {
   "cell_type": "code",
   "execution_count": 175,
   "metadata": {
    "code_folding": []
   },
   "outputs": [],
   "source": [
    "class ScratchDeepNeuralNetrowkClassifier():\n",
    "    \"\"\"\n",
    "    多層ニューラルネットワーク分類器\n",
    "\n",
    "    Parameters\n",
    "    ----------\n",
    "\n",
    "    Attributes\n",
    "    ----------\n",
    "    \"\"\"\n",
    "\n",
    "    def __init__(self, nodes_num_list, ac_list, initialize_list, opt_list,\n",
    "                 itr=1000, verbose=True, lr=0.00001, sigma=0.01, b_size=20):\n",
    "        self.verbose = verbose\n",
    "        self.itr = itr\n",
    "        self.lr = lr                                     #学習率\n",
    "        self.sigma = sigma                       #ガウス分布の標準偏差\n",
    "        self.b_size = b_size\n",
    "        self.L = []\n",
    "        self.FC = {}                                  #各レイヤー格納辞書\n",
    "        self.network = len(nodes_num_list)\n",
    "        self.n_nodes = {i: nodes_num_list[i] for i in range(self.network)}\n",
    "        self.activation = {i: ac_list[i] for i in range(self.network)}\n",
    "        self.initialize_list = initialize_list\n",
    "        for i in range(len(self.initialize_list)):\n",
    "            self.initialize_list[i].sigma = self.sigma\n",
    "        self.opt_list = opt_list\n",
    "        for i in range(len(self.opt_list)):\n",
    "            self.opt_list[i].lr = self.lr\n",
    "\n",
    "    def fit(self, X, y, X_val=None, y_val=None):\n",
    "        \"\"\"\n",
    "        ニューラルネットワーク分類器を学習する。\n",
    "\n",
    "        Parameters\n",
    "        ----------\n",
    "        X : 次の形のndarray, shape (n_samples, n_features)\n",
    "            訓練用データの特徴量\n",
    "        y : 次の形のndarray, shape (n_samples, )\n",
    "            訓練用データの正解値\n",
    "        X_val : 次の形のndarray, shape (n_samples, n_features)\n",
    "            検証用データの特徴量\n",
    "        y_val : 次の形のndarray, shape (n_samples, )\n",
    "            検証用データの正解値\n",
    "        \"\"\"\n",
    "        #各レイヤーインスタンス化 \n",
    "        Z, LZ = [],[]\n",
    "        for i in range(self.network):\n",
    "            if i == 0:\n",
    "                self.FC[i] = FC(X.shape[1], self.n_nodes[i], self.initialize_list[i], self.opt_list[i])\n",
    "            else:\n",
    "                self.FC[i] = FC(self.n_nodes[i-1], self.n_nodes[i], self.initialize_list[i], self.opt_list[i])\n",
    "            Z.append(np.array([]))\n",
    "            LZ.append(np.array([]))\n",
    "        \n",
    "        #エポック\n",
    "        itr_count = 0\n",
    "        for _ in range(self.itr):\n",
    "            if itr_count%10 == 0:\n",
    "                print(itr_count,\">\", end=\"\")\n",
    "            Lbatch = np.array([])\n",
    "            \n",
    "            get_mini_batch = GetMiniBatch(X, y, batch_size=self.b_size)\n",
    "            for mini_X_train, mini_y_train in get_mini_batch:\n",
    "            \n",
    "                \"\"\"フォワード\n",
    "                \"\"\"\n",
    "                for i in range(self.network):\n",
    "                    if i == 0:\n",
    "                        A = self.FC[i].forward(mini_X_train)\n",
    "                        Z[i] = self.activation[i].forward(A)\n",
    "                    else:\n",
    "                        A = self.FC[i].forward(Z[i-1])\n",
    "                        Z[i] = self.activation[i].forward(A)\n",
    "\n",
    "                \"\"\"バックプロパゲーション\n",
    "                \"\"\"\n",
    "                for i in range(self.network)[::-1]:\n",
    "                    if i == self.network-1:  #出力層\n",
    "                        self.FC[i].LA = Z[i] - mini_y_train\n",
    "                        LZ[i] = self.FC[i].backward(self.FC[i].LA, Z[i-1], i)\n",
    "                    elif i == 0:  #入力層\n",
    "                        self.FC[i].LA = self.activation[i].backward(LZ[i+1], self.FC[i].A)\n",
    "                        LZ[i] = self.FC[i].backward(self.FC[i].LA, mini_X_train, i)\n",
    "                    else:  #隠れ層\n",
    "                        self.FC[i].LA = self.activation[i].backward(LZ[i+1], self.FC[i].A)\n",
    "                        LZ[i] = self.FC[i].backward(self.FC[i].LA, Z[i-1], i)\n",
    "\n",
    "                \"\"\"損失関数\n",
    "                \"\"\"\n",
    "                Ltmp = 0\n",
    "                for i in range(self.b_size):\n",
    "                    Ltmp += np.sum(mini_y_train[i] * np.log(Z[-1][i]))\n",
    "                Lbatch = np.append(Lbatch, (Ltmp/ self.b_size) * -1)\n",
    "                \n",
    "            self.L.append(Lbatch.mean())    \n",
    "            itr_count += 1\n",
    "            #print(\"---end of epoc---\")\n",
    "\n",
    "        if self.verbose:\n",
    "            #verboseをTrueにした際は学習過程などを出力する\n",
    "            print()\n",
    "        pass\n",
    "\n",
    "    def predict(self, Xt):\n",
    "        \"\"\"\n",
    "        ニューラルネットワーク分類器を使い推定する。\n",
    "\n",
    "        Parameters\n",
    "        ----------\n",
    "        X : 次の形のndarray, shape (n_samples, n_features)\n",
    "            サンプル\n",
    "\n",
    "        Returns\n",
    "        -------\n",
    "            次の形のndarray, shape (n_samples, 1)\n",
    "            推定結果\n",
    "        \"\"\"\n",
    "        pZ = []\n",
    "        for i in range(self.network):\n",
    "            pZ.append(np.array([]))        \n",
    "\n",
    "        for i in range(self.network):\n",
    "            if i == 0:\n",
    "                A = self.FC[i].forward(Xt)\n",
    "                pZ[i] = self.activation[i].forward(A)\n",
    "            else:\n",
    "                A = self.FC[i].forward(pZ[i-1])\n",
    "                pZ[i] = self.activation[i].forward(A)\n",
    "                    \n",
    "        return pZ[-1]\n"
   ]
  },
  {
   "cell_type": "markdown",
   "metadata": {},
   "source": [
    "## 推定"
   ]
  },
  {
   "cell_type": "markdown",
   "metadata": {},
   "source": [
    "### パターンA"
   ]
  },
  {
   "cell_type": "code",
   "execution_count": 177,
   "metadata": {},
   "outputs": [
    {
     "name": "stdout",
     "output_type": "stream",
     "text": [
      "0 >10 >20 >30 >40 >\n"
     ]
    },
    {
     "data": {
      "text/plain": [
       "[<matplotlib.lines.Line2D at 0x1a86ea3240>]"
      ]
     },
     "execution_count": 177,
     "metadata": {},
     "output_type": "execute_result"
    },
    {
     "data": {
      "image/png": "[encoded data removed]",
      "text/plain": [
       "<Figure size 432x288 with 1 Axes>"
      ]
     },
     "metadata": {
      "needs_background": "light"
     },
     "output_type": "display_data"
    }
   ],
   "source": [
    "#イニシャライザーを機能させてみた\n",
    "nodes_num_list = [400, 200, 10]\n",
    "ac_list = [Tanh(), relu(), Softmax()]\n",
    "initialize_list = [XavierInitializer(), HeInitializer(), XavierInitializer()]\n",
    "opt_list = [SGD(),SGD(),SGD()]\n",
    "\n",
    "SDNN10 = ScratchDeepNeuralNetrowkClassifier(\n",
    "    nodes_num_list, ac_list, initialize_list, opt_list, itr=50, b_size=100, lr=0.00001)\n",
    "SDNN10.fit(Xt_train, yt_train)\n",
    "plt.plot(SDNN10.L)"
   ]
  },
  {
   "cell_type": "code",
   "execution_count": 178,
   "metadata": {},
   "outputs": [
    {
     "name": "stdout",
     "output_type": "stream",
     "text": [
      "(12000, 10)\n"
     ]
    }
   ],
   "source": [
    "y_pred_raw = SDNN10.predict(Xt_val)\n",
    "print(y_pred_raw.shape)"
   ]
  },
  {
   "cell_type": "code",
   "execution_count": 179,
   "metadata": {},
   "outputs": [
    {
     "name": "stdout",
     "output_type": "stream",
     "text": [
      "(12000,)\n",
      "[4. 4. 7. 6. 6.]\n"
     ]
    }
   ],
   "source": [
    "y_pred = np.array([])\n",
    "for i in y_pred_raw:\n",
    "    y_pred = np.append(y_pred, np.argmax(i))\n",
    "\n",
    "print(y_pred.shape)\n",
    "print(y_pred[0:5])"
   ]
  },
  {
   "cell_type": "code",
   "execution_count": 180,
   "metadata": {},
   "outputs": [
    {
     "name": "stdout",
     "output_type": "stream",
     "text": [
      "(12000,)\n"
     ]
    },
    {
     "data": {
      "text/plain": [
       "0.9170833333333334"
      ]
     },
     "execution_count": 180,
     "metadata": {},
     "output_type": "execute_result"
    }
   ],
   "source": [
    "yt_val_ = np.array([])\n",
    "for i in yt_val:\n",
    "    yt_val_ = np.append(yt_val_, np.argmax(i))\n",
    "print(yt_val_.shape)\n",
    "metrics.accuracy_score(yt_val_, y_pred)"
   ]
  },
  {
   "cell_type": "markdown",
   "metadata": {},
   "source": [
    "### パターンB"
   ]
  },
  {
   "cell_type": "code",
   "execution_count": 181,
   "metadata": {},
   "outputs": [
    {
     "name": "stdout",
     "output_type": "stream",
     "text": [
      "0 >10 >\n"
     ]
    },
    {
     "data": {
      "text/plain": [
       "[<matplotlib.lines.Line2D at 0x1a87922c88>]"
      ]
     },
     "execution_count": 181,
     "metadata": {},
     "output_type": "execute_result"
    },
    {
     "data": {
      "image/png": "[encoded data removed]",
      "text/plain": [
       "<Figure size 432x288 with 1 Axes>"
      ]
     },
     "metadata": {
      "needs_background": "light"
     },
     "output_type": "display_data"
    }
   ],
   "source": [
    "#学習率を上げて、エポックを短くしてみた\n",
    "nodes_num_list = [400, 200, 10]\n",
    "ac_list =               [Tanh(), relu(), Softmax()]\n",
    "initialize_list =       [XavierInitializer(), HeInitializer(), XavierInitializer()]\n",
    "opt_list =              [SGD(), SGD(), SGD()]\n",
    "\n",
    "SDNN10 = ScratchDeepNeuralNetrowkClassifier(\n",
    "    nodes_num_list, ac_list, initialize_list, opt_list, itr=20, b_size=100, lr=0.001)\n",
    "SDNN10.fit(Xt_train, yt_train)\n",
    "plt.plot(SDNN10.L)"
   ]
  },
  {
   "cell_type": "code",
   "execution_count": 182,
   "metadata": {},
   "outputs": [
    {
     "data": {
      "text/plain": [
       "0.97625"
      ]
     },
     "execution_count": 182,
     "metadata": {},
     "output_type": "execute_result"
    }
   ],
   "source": [
    "y_pred_raw = SDNN10.predict(Xt_val)\n",
    "y_pred = np.array([])\n",
    "for i in y_pred_raw:\n",
    "    y_pred = np.append(y_pred, np.argmax(i))\n",
    "metrics.accuracy_score(yt_val_, y_pred)"
   ]
  },
  {
   "cell_type": "markdown",
   "metadata": {},
   "source": [
    "### パターンC"
   ]
  },
  {
   "cell_type": "code",
   "execution_count": 190,
   "metadata": {},
   "outputs": [
    {
     "name": "stdout",
     "output_type": "stream",
     "text": [
      "0 >\n"
     ]
    },
    {
     "data": {
      "text/plain": [
       "[<matplotlib.lines.Line2D at 0x1a9091b860>]"
      ]
     },
     "execution_count": 190,
     "metadata": {},
     "output_type": "execute_result"
    },
    {
     "data": {
      "image/png": "[encoded data removed]",
      "text/plain": [
       "<Figure size 432x288 with 1 Axes>"
      ]
     },
     "metadata": {
      "needs_background": "light"
     },
     "output_type": "display_data"
    }
   ],
   "source": [
    "#最適化をAdaGradに変えて、さらに学習率を上げる\n",
    "nodes_num_list = [400, 200, 10]\n",
    "ac_list =               [Tanh(), relu(), Softmax()]\n",
    "initialize_list =       [XavierInitializer(), HeInitializer(), XavierInitializer()]\n",
    "opt_list =              [AdaGrad(), AdaGrad(), AdaGrad()]\n",
    "\n",
    "SDNN11 = ScratchDeepNeuralNetrowkClassifier(\n",
    "    nodes_num_list, ac_list, initialize_list, opt_list, itr=10, b_size=50, lr=0.05)\n",
    "SDNN11.fit(Xt_train, yt_train)\n",
    "plt.plot(SDNN11.L)"
   ]
  },
  {
   "cell_type": "markdown",
   "metadata": {},
   "source": [
    "### パターンD"
   ]
  },
  {
   "cell_type": "code",
   "execution_count": 198,
   "metadata": {},
   "outputs": [
    {
     "name": "stdout",
     "output_type": "stream",
     "text": [
      "0 >10 >20 >\n"
     ]
    },
    {
     "data": {
      "text/plain": [
       "[<matplotlib.lines.Line2D at 0x1a8a696320>]"
      ]
     },
     "execution_count": 198,
     "metadata": {},
     "output_type": "execute_result"
    },
    {
     "data": {
      "image/png": "[encoded data removed]",
      "text/plain": [
       "<Figure size 432x288 with 1 Axes>"
      ]
     },
     "metadata": {
      "needs_background": "light"
     },
     "output_type": "display_data"
    }
   ],
   "source": [
    "#隠れ層を３層にしてみる\n",
    "nodes_num_list = [100, 400, 200, 10]\n",
    "ac_list =               [relu(), Tanh(), relu(), Softmax()]\n",
    "initialize_list =       [HeInitializer(), XavierInitializer(), HeInitializer(), XavierInitializer()]\n",
    "opt_list =              [SGD(), SGD(), AdaGrad(), AdaGrad()]\n",
    "\n",
    "SDNN12 = ScratchDeepNeuralNetrowkClassifier(\n",
    "    nodes_num_list, ac_list, initialize_list, opt_list, itr=30, b_size=1000, lr=0.0001)\n",
    "SDNN12.fit(Xt_train, yt_train)\n",
    "plt.plot(SDNN12.L)"
   ]
  },
  {
   "cell_type": "code",
   "execution_count": 201,
   "metadata": {
    "code_folding": [
     0
    ]
   },
   "outputs": [
    {
     "data": {
      "text/plain": [
       "0.9388333333333333"
      ]
     },
     "execution_count": 201,
     "metadata": {},
     "output_type": "execute_result"
    }
   ],
   "source": [
    "#スコア\n",
    "y_pred_raw = SDNN12.predict(Xt_val)\n",
    "y_pred = np.array([])\n",
    "for i in y_pred_raw:\n",
    "    y_pred = np.append(y_pred, np.argmax(i))\n",
    "metrics.accuracy_score(yt_val_, y_pred)"
   ]
  },
  {
   "cell_type": "markdown",
   "metadata": {},
   "source": [
    "### パターンE"
   ]
  },
  {
   "cell_type": "code",
   "execution_count": 200,
   "metadata": {},
   "outputs": [
    {
     "name": "stdout",
     "output_type": "stream",
     "text": [
      "0 >10 >20 >\n"
     ]
    },
    {
     "data": {
      "text/plain": [
       "[<matplotlib.lines.Line2D at 0x1a76279ef0>]"
      ]
     },
     "execution_count": 200,
     "metadata": {},
     "output_type": "execute_result"
    },
    {
     "data": {
      "image/png": "[encoded data removed]",
      "text/plain": [
       "<Figure size 432x288 with 1 Axes>"
      ]
     },
     "metadata": {
      "needs_background": "light"
     },
     "output_type": "display_data"
    }
   ],
   "source": [
    "#隠れ層を４層にしてみる\n",
    "nodes_num_list = [100, 400, 200, 100, 10]\n",
    "ac_list =               [relu(), Tanh(), relu(), relu(), Softmax()]\n",
    "initialize_list =       [HeInitializer(), XavierInitializer(), HeInitializer(), HeInitializer(), XavierInitializer()]\n",
    "opt_list =              [SGD(), SGD(), AdaGrad(), SGD(), AdaGrad()]\n",
    "\n",
    "SDNN13 = ScratchDeepNeuralNetrowkClassifier(\n",
    "    nodes_num_list, ac_list, initialize_list, opt_list, itr=30, b_size=1000, lr=0.0001)\n",
    "SDNN13.fit(Xt_train, yt_train)\n",
    "plt.plot(SDNN13.L)"
   ]
  },
  {
   "cell_type": "code",
   "execution_count": 202,
   "metadata": {
    "code_folding": []
   },
   "outputs": [
    {
     "data": {
      "text/plain": [
       "0.9601666666666666"
      ]
     },
     "execution_count": 202,
     "metadata": {},
     "output_type": "execute_result"
    }
   ],
   "source": [
    "#スコア\n",
    "y_pred_raw = SDNN13.predict(Xt_val)\n",
    "y_pred = np.array([])\n",
    "for i in y_pred_raw:\n",
    "    y_pred = np.append(y_pred, np.argmax(i))\n",
    "metrics.accuracy_score(yt_val_, y_pred)"
   ]
  },
  {
   "cell_type": "markdown",
   "metadata": {},
   "source": [
    "### パターンF"
   ]
  },
  {
   "cell_type": "code",
   "execution_count": 203,
   "metadata": {},
   "outputs": [
    {
     "name": "stdout",
     "output_type": "stream",
     "text": [
      "0 >10 >20 >\n"
     ]
    },
    {
     "data": {
      "text/plain": [
       "[<matplotlib.lines.Line2D at 0x1a77c2cf98>]"
      ]
     },
     "execution_count": 203,
     "metadata": {},
     "output_type": "execute_result"
    },
    {
     "data": {
      "image/png": "[encoded data removed]",
      "text/plain": [
       "<Figure size 432x288 with 1 Axes>"
      ]
     },
     "metadata": {
      "needs_background": "light"
     },
     "output_type": "display_data"
    }
   ],
   "source": [
    "#隠れ層４層で全てLelu、SGDにしてみる\n",
    "nodes_num_list = [100, 400, 200, 100, 10]\n",
    "ac_list =               [relu(), relu(), relu(), relu(), Softmax()]\n",
    "initialize_list =       [HeInitializer(), HeInitializer(), HeInitializer(), HeInitializer(), XavierInitializer()]\n",
    "opt_list =              [SGD(), SGD(), SGD(), SGD(), SGD()]\n",
    "\n",
    "SDNN13 = ScratchDeepNeuralNetrowkClassifier(\n",
    "    nodes_num_list, ac_list, initialize_list, opt_list, itr=30, b_size=1000, lr=0.0001)\n",
    "SDNN13.fit(Xt_train, yt_train)\n",
    "plt.plot(SDNN13.L)"
   ]
  },
  {
   "cell_type": "code",
   "execution_count": 204,
   "metadata": {},
   "outputs": [
    {
     "data": {
      "text/plain": [
       "0.9719166666666667"
      ]
     },
     "execution_count": 204,
     "metadata": {},
     "output_type": "execute_result"
    }
   ],
   "source": [
    "#スコア\n",
    "y_pred_raw = SDNN13.predict(Xt_val)\n",
    "y_pred = np.array([])\n",
    "for i in y_pred_raw:\n",
    "    y_pred = np.append(y_pred, np.argmax(i))\n",
    "metrics.accuracy_score(yt_val_, y_pred)"
   ]
  },
  {
   "cell_type": "markdown",
   "metadata": {},
   "source": [
    "### パターンG"
   ]
  },
  {
   "cell_type": "code",
   "execution_count": 231,
   "metadata": {},
   "outputs": [
    {
     "name": "stdout",
     "output_type": "stream",
     "text": [
      "0 >10 >\n"
     ]
    },
    {
     "data": {
      "text/plain": [
       "[<matplotlib.lines.Line2D at 0x1b86465978>]"
      ]
     },
     "execution_count": 231,
     "metadata": {},
     "output_type": "execute_result"
    },
    {
     "data": {
      "image/png": "[encoded data removed]",
      "text/plain": [
       "<Figure size 432x288 with 1 Axes>"
      ]
     },
     "metadata": {
      "needs_background": "light"
     },
     "output_type": "display_data"
    }
   ],
   "source": [
    "#隠れ層４層で全てLelu、AdaGradにしてみる\n",
    "nodes_num_list = [100, 400, 200, 100, 10]\n",
    "ac_list =               [relu(), relu(), relu(), relu(), Softmax()]\n",
    "initialize_list =       [HeInitializer(), HeInitializer(), HeInitializer(),  HeInitializer(), XavierInitializer()]\n",
    "opt_list =              [AdaGrad(), AdaGrad(), AdaGrad(), AdaGrad(), AdaGrad()]\n",
    "\n",
    "SDNN14 = ScratchDeepNeuralNetrowkClassifier(\n",
    "    nodes_num_list, ac_list, initialize_list, opt_list, itr=20, b_size=100, lr=0.01)\n",
    "SDNN14.fit(Xt_train, yt_train)\n",
    "plt.plot(SDNN14.L)"
   ]
  },
  {
   "cell_type": "code",
   "execution_count": 235,
   "metadata": {},
   "outputs": [
    {
     "name": "stdout",
     "output_type": "stream",
     "text": [
      "0 >10 >\n"
     ]
    },
    {
     "data": {
      "text/plain": [
       "[<matplotlib.lines.Line2D at 0x1b86d44630>]"
      ]
     },
     "execution_count": 235,
     "metadata": {},
     "output_type": "execute_result"
    },
    {
     "data": {
      "image/png": "[encoded data removed]",
      "text/plain": [
       "<Figure size 432x288 with 1 Axes>"
      ]
     },
     "metadata": {
      "needs_background": "light"
     },
     "output_type": "display_data"
    }
   ],
   "source": [
    "#AdaGradを平均取らないコードに変える\n",
    "nodes_num_list = [100, 400, 200, 100, 10]\n",
    "ac_list =               [relu(), relu(), relu(), relu(), Softmax()]\n",
    "initialize_list =       [HeInitializer(), HeInitializer(), HeInitializer(),  HeInitializer(), XavierInitializer()]\n",
    "opt_list =              [AdaGrad2(), AdaGrad2(), AdaGrad2(), AdaGrad2(), AdaGrad2()]\n",
    "\n",
    "SDNN15 = ScratchDeepNeuralNetrowkClassifier(\n",
    "    nodes_num_list, ac_list, initialize_list, opt_list, itr=20, b_size=100, lr=0.01)\n",
    "SDNN15.fit(Xt_train, yt_train)\n",
    "plt.plot(SDNN15.L)"
   ]
  },
  {
   "cell_type": "code",
   "execution_count": 236,
   "metadata": {},
   "outputs": [
    {
     "data": {
      "text/plain": [
       "0.975"
      ]
     },
     "execution_count": 236,
     "metadata": {},
     "output_type": "execute_result"
    }
   ],
   "source": [
    "#スコア\n",
    "y_pred_raw = SDNN15.predict(Xt_val)\n",
    "y_pred = np.array([])\n",
    "for i in y_pred_raw:\n",
    "    y_pred = np.append(y_pred, np.argmax(i))\n",
    "metrics.accuracy_score(yt_val_, y_pred)"
   ]
  },
  {
   "cell_type": "code",
   "execution_count": null,
   "metadata": {},
   "outputs": [],
   "source": []
  }
 ],
 "metadata": {
  "kernelspec": {
   "display_name": "Python 3",
   "language": "python",
   "name": "python3"
  },
  "language_info": {
   "codemirror_mode": {
    "name": "ipython",
    "version": 3
   },
   "file_extension": ".py",
   "mimetype": "text/x-python",
   "name": "python",
   "nbconvert_exporter": "python",
   "pygments_lexer": "ipython3",
   "version": "3.7.2"
  },
  "toc": {
   "base_numbering": 1,
   "nav_menu": {},
   "number_sections": true,
   "sideBar": true,
   "skip_h1_title": false,
   "title_cell": "Table of Contents",
   "title_sidebar": "Contents",
   "toc_cell": false,
   "toc_position": {
    "height": "calc(100% - 180px)",
    "left": "10px",
    "top": "150px",
    "width": "256px"
   },
   "toc_section_display": true,
   "toc_window_display": true
  },
  "varInspector": {
   "cols": {
    "lenName": 16,
    "lenType": 16,
    "lenVar": 40
   },
   "kernels_config": {
    "python": {
     "delete_cmd_postfix": "",
     "delete_cmd_prefix": "del ",
     "library": "var_list.py",
     "varRefreshCmd": "print(var_dic_list())"
    },
    "r": {
     "delete_cmd_postfix": ") ",
     "delete_cmd_prefix": "rm(",
     "library": "var_list.r",
     "varRefreshCmd": "cat(var_dic_list()) "
    }
   },
   "types_to_exclude": [
    "module",
    "function",
    "builtin_function_or_method",
    "instance",
    "_Feature"
   ],
   "window_display": false
  }
 },
 "nbformat": 4,
 "nbformat_minor": 2
}
