{
 "cells": [
  {
   "cell_type": "markdown",
   "metadata": {},
   "source": [
    "# Term2 深層学習スクラッチ　ニューラルネットワーク\n",
    "\n"
   ]
  },
  {
   "cell_type": "code",
   "execution_count": 106,
   "metadata": {
    "cell_style": "split"
   },
   "outputs": [],
   "source": [
    "#基本ライブラリ\n",
    "import time\n",
    "import pickle\n",
    "import numpy as np\n",
    "import matplotlib.pyplot as plt\n",
    "import pandas as pd\n",
    "import seaborn as sns\n",
    "%matplotlib inline"
   ]
  },
  {
   "cell_type": "code",
   "execution_count": 2,
   "metadata": {
    "cell_style": "split"
   },
   "outputs": [],
   "source": [
    "#scikit-learnライブラリ\n",
    "from sklearn.preprocessing import StandardScaler\n",
    "from sklearn import metrics\n",
    "from sklearn.model_selection import train_test_split\n",
    "\n",
    "#データセット\n",
    "#from sklearn.datasets import load_iris"
   ]
  },
  {
   "cell_type": "markdown",
   "metadata": {},
   "source": [
    "## MNISTデータセット"
   ]
  },
  {
   "cell_type": "code",
   "execution_count": 3,
   "metadata": {},
   "outputs": [
    {
     "name": "stderr",
     "output_type": "stream",
     "text": [
      "Using TensorFlow backend.\n"
     ]
    },
    {
     "name": "stdout",
     "output_type": "stream",
     "text": [
      "Downloading data from https://s3.amazonaws.com/img-datasets/mnist.npz\n",
      "11493376/11490434 [==============================] - 10s 1us/step\n"
     ]
    }
   ],
   "source": [
    "from keras.datasets import mnist\n",
    "(X_train, y_train), (X_test, y_test) = mnist.load_data()"
   ]
  },
  {
   "cell_type": "markdown",
   "metadata": {},
   "source": [
    "### データセットの確認"
   ]
  },
  {
   "cell_type": "code",
   "execution_count": 7,
   "metadata": {},
   "outputs": [
    {
     "name": "stdout",
     "output_type": "stream",
     "text": [
      "(60000, 28, 28)\n",
      "(10000, 28, 28)\n",
      "(60000,)\n",
      "(10000,)\n",
      "uint8\n",
      "(28, 28)\n",
      "[[  0   0   0   0   0   0   0   0   0   0   0   0   0   0   0   0   0   0\n",
      "    0   0   0   0   0   0   0   0   0   0]\n",
      " [  0   0   0   0   0   0   0   0   0   0   0   0   0   0   0   0   0   0\n",
      "    0   0   0   0   0   0   0   0   0   0]\n",
      " [  0   0   0   0   0   0   0   0   0   0   0   0   0   0   0   0   0   0\n",
      "    0   0   0   0   0   0   0   0   0   0]\n",
      " [  0   0   0   0   0   0   0   0   0   0   0   0   0   0   0   0   0   0\n",
      "    0   0   0   0   0   0   0   0   0   0]\n",
      " [  0   0   0   0   0   0   0   0   0   0   0   0   0   0   0   0   0   0\n",
      "    0   0   0   0   0   0   0   0   0   0]\n",
      " [  0   0   0   0   0   0   0   0   0   0   0   0   3  18  18  18 126 136\n",
      "  175  26 166 255 247 127   0   0   0   0]\n",
      " [  0   0   0   0   0   0   0   0  30  36  94 154 170 253 253 253 253 253\n",
      "  225 172 253 242 195  64   0   0   0   0]\n",
      " [  0   0   0   0   0   0   0  49 238 253 253 253 253 253 253 253 253 251\n",
      "   93  82  82  56  39   0   0   0   0   0]\n",
      " [  0   0   0   0   0   0   0  18 219 253 253 253 253 253 198 182 247 241\n",
      "    0   0   0   0   0   0   0   0   0   0]\n",
      " [  0   0   0   0   0   0   0   0  80 156 107 253 253 205  11   0  43 154\n",
      "    0   0   0   0   0   0   0   0   0   0]\n",
      " [  0   0   0   0   0   0   0   0   0  14   1 154 253  90   0   0   0   0\n",
      "    0   0   0   0   0   0   0   0   0   0]\n",
      " [  0   0   0   0   0   0   0   0   0   0   0 139 253 190   2   0   0   0\n",
      "    0   0   0   0   0   0   0   0   0   0]\n",
      " [  0   0   0   0   0   0   0   0   0   0   0  11 190 253  70   0   0   0\n",
      "    0   0   0   0   0   0   0   0   0   0]\n",
      " [  0   0   0   0   0   0   0   0   0   0   0   0  35 241 225 160 108   1\n",
      "    0   0   0   0   0   0   0   0   0   0]\n",
      " [  0   0   0   0   0   0   0   0   0   0   0   0   0  81 240 253 253 119\n",
      "   25   0   0   0   0   0   0   0   0   0]\n",
      " [  0   0   0   0   0   0   0   0   0   0   0   0   0   0  45 186 253 253\n",
      "  150  27   0   0   0   0   0   0   0   0]\n",
      " [  0   0   0   0   0   0   0   0   0   0   0   0   0   0   0  16  93 252\n",
      "  253 187   0   0   0   0   0   0   0   0]\n",
      " [  0   0   0   0   0   0   0   0   0   0   0   0   0   0   0   0   0 249\n",
      "  253 249  64   0   0   0   0   0   0   0]\n",
      " [  0   0   0   0   0   0   0   0   0   0   0   0   0   0  46 130 183 253\n",
      "  253 207   2   0   0   0   0   0   0   0]\n",
      " [  0   0   0   0   0   0   0   0   0   0   0   0  39 148 229 253 253 253\n",
      "  250 182   0   0   0   0   0   0   0   0]\n",
      " [  0   0   0   0   0   0   0   0   0   0  24 114 221 253 253 253 253 201\n",
      "   78   0   0   0   0   0   0   0   0   0]\n",
      " [  0   0   0   0   0   0   0   0  23  66 213 253 253 253 253 198  81   2\n",
      "    0   0   0   0   0   0   0   0   0   0]\n",
      " [  0   0   0   0   0   0  18 171 219 253 253 253 253 195  80   9   0   0\n",
      "    0   0   0   0   0   0   0   0   0   0]\n",
      " [  0   0   0   0  55 172 226 253 253 253 253 244 133  11   0   0   0   0\n",
      "    0   0   0   0   0   0   0   0   0   0]\n",
      " [  0   0   0   0 136 253 253 253 212 135 132  16   0   0   0   0   0   0\n",
      "    0   0   0   0   0   0   0   0   0   0]\n",
      " [  0   0   0   0   0   0   0   0   0   0   0   0   0   0   0   0   0   0\n",
      "    0   0   0   0   0   0   0   0   0   0]\n",
      " [  0   0   0   0   0   0   0   0   0   0   0   0   0   0   0   0   0   0\n",
      "    0   0   0   0   0   0   0   0   0   0]\n",
      " [  0   0   0   0   0   0   0   0   0   0   0   0   0   0   0   0   0   0\n",
      "    0   0   0   0   0   0   0   0   0   0]]\n",
      "5\n"
     ]
    }
   ],
   "source": [
    "print(X_train.shape)\n",
    "print(X_test.shape)\n",
    "print(y_train.shape)\n",
    "print(y_test.shape)\n",
    "print(X_train[0].dtype)\n",
    "print(X_train[0].shape)\n",
    "print(X_train[0])\n",
    "print(y_train[0])"
   ]
  },
  {
   "cell_type": "markdown",
   "metadata": {},
   "source": [
    "### 平滑化\n",
    "\n",
    "(1, 28, 28)の各画像を、(1, 784)に変換する。これまで学んできた機械学習手法や、今回扱う全結合層のみのニューラルネットワークではこの形で扱う。全てのピクセルが一列になっていることを、 平滑化（flatten） してあるという風に表現する"
   ]
  },
  {
   "cell_type": "code",
   "execution_count": 8,
   "metadata": {},
   "outputs": [],
   "source": [
    "X_train_f = X_train.reshape(-1, 784)\n",
    "X_test_f = X_test.reshape(-1, 784)"
   ]
  },
  {
   "cell_type": "code",
   "execution_count": 9,
   "metadata": {},
   "outputs": [
    {
     "name": "stdout",
     "output_type": "stream",
     "text": [
      "(60000, 784)\n",
      "(10000, 784)\n",
      "uint8\n",
      "(784,)\n",
      "[  0   0   0   0   0   0   0   0   0   0   0   0   0   0   0   0   0   0\n",
      "   0   0   0   0   0   0   0   0   0   0   0   0   0   0   0   0   0   0\n",
      "   0   0   0   0   0   0   0   0   0   0   0   0   0   0   0   0   0   0\n",
      "   0   0   0   0   0   0   0   0   0   0   0   0   0   0   0   0   0   0\n",
      "   0   0   0   0   0   0   0   0   0   0   0   0   0   0   0   0   0   0\n",
      "   0   0   0   0   0   0   0   0   0   0   0   0   0   0   0   0   0   0\n",
      "   0   0   0   0   0   0   0   0   0   0   0   0   0   0   0   0   0   0\n",
      "   0   0   0   0   0   0   0   0   0   0   0   0   0   0   0   0   0   0\n",
      "   0   0   0   0   0   0   0   0   3  18  18  18 126 136 175  26 166 255\n",
      " 247 127   0   0   0   0   0   0   0   0   0   0   0   0  30  36  94 154\n",
      " 170 253 253 253 253 253 225 172 253 242 195  64   0   0   0   0   0   0\n",
      "   0   0   0   0   0  49 238 253 253 253 253 253 253 253 253 251  93  82\n",
      "  82  56  39   0   0   0   0   0   0   0   0   0   0   0   0  18 219 253\n",
      " 253 253 253 253 198 182 247 241   0   0   0   0   0   0   0   0   0   0\n",
      "   0   0   0   0   0   0   0   0  80 156 107 253 253 205  11   0  43 154\n",
      "   0   0   0   0   0   0   0   0   0   0   0   0   0   0   0   0   0   0\n",
      "   0  14   1 154 253  90   0   0   0   0   0   0   0   0   0   0   0   0\n",
      "   0   0   0   0   0   0   0   0   0   0   0   0   0 139 253 190   2   0\n",
      "   0   0   0   0   0   0   0   0   0   0   0   0   0   0   0   0   0   0\n",
      "   0   0   0   0   0  11 190 253  70   0   0   0   0   0   0   0   0   0\n",
      "   0   0   0   0   0   0   0   0   0   0   0   0   0   0   0   0  35 241\n",
      " 225 160 108   1   0   0   0   0   0   0   0   0   0   0   0   0   0   0\n",
      "   0   0   0   0   0   0   0   0   0  81 240 253 253 119  25   0   0   0\n",
      "   0   0   0   0   0   0   0   0   0   0   0   0   0   0   0   0   0   0\n",
      "   0   0  45 186 253 253 150  27   0   0   0   0   0   0   0   0   0   0\n",
      "   0   0   0   0   0   0   0   0   0   0   0   0   0  16  93 252 253 187\n",
      "   0   0   0   0   0   0   0   0   0   0   0   0   0   0   0   0   0   0\n",
      "   0   0   0   0   0   0   0 249 253 249  64   0   0   0   0   0   0   0\n",
      "   0   0   0   0   0   0   0   0   0   0   0   0   0   0  46 130 183 253\n",
      " 253 207   2   0   0   0   0   0   0   0   0   0   0   0   0   0   0   0\n",
      "   0   0   0   0  39 148 229 253 253 253 250 182   0   0   0   0   0   0\n",
      "   0   0   0   0   0   0   0   0   0   0   0   0  24 114 221 253 253 253\n",
      " 253 201  78   0   0   0   0   0   0   0   0   0   0   0   0   0   0   0\n",
      "   0   0  23  66 213 253 253 253 253 198  81   2   0   0   0   0   0   0\n",
      "   0   0   0   0   0   0   0   0   0   0  18 171 219 253 253 253 253 195\n",
      "  80   9   0   0   0   0   0   0   0   0   0   0   0   0   0   0   0   0\n",
      "  55 172 226 253 253 253 253 244 133  11   0   0   0   0   0   0   0   0\n",
      "   0   0   0   0   0   0   0   0   0   0 136 253 253 253 212 135 132  16\n",
      "   0   0   0   0   0   0   0   0   0   0   0   0   0   0   0   0   0   0\n",
      "   0   0   0   0   0   0   0   0   0   0   0   0   0   0   0   0   0   0\n",
      "   0   0   0   0   0   0   0   0   0   0   0   0   0   0   0   0   0   0\n",
      "   0   0   0   0   0   0   0   0   0   0   0   0   0   0   0   0   0   0\n",
      "   0   0   0   0   0   0   0   0   0   0   0   0   0   0   0   0   0   0\n",
      "   0   0   0   0   0   0   0   0   0   0]\n"
     ]
    }
   ],
   "source": [
    "print(X_train_f.shape)\n",
    "print(X_test_f.shape)\n",
    "print(X_train_f[0].dtype)\n",
    "print(X_train_f[0].shape)\n",
    "print(X_train_f[0])\n"
   ]
  },
  {
   "cell_type": "code",
   "execution_count": 10,
   "metadata": {},
   "outputs": [
    {
     "name": "stdout",
     "output_type": "stream",
     "text": [
      "27525\n",
      "27525\n"
     ]
    }
   ],
   "source": [
    "print(X_train[0].sum())\n",
    "print(X_train_f[0].sum())"
   ]
  },
  {
   "cell_type": "markdown",
   "metadata": {},
   "source": [
    "### 画像データの可視化"
   ]
  },
  {
   "cell_type": "code",
   "execution_count": 11,
   "metadata": {},
   "outputs": [
    {
     "data": {
      "image/png": "[encoded data removed]",
      "text/plain": [
       "<Figure size 432x288 with 1 Axes>"
      ]
     },
     "metadata": {
      "needs_background": "light"
     },
     "output_type": "display_data"
    }
   ],
   "source": [
    "index = 0\n",
    "image = X_train_f[index].reshape(28,28)\n",
    "# X_train[index]: (784,)\n",
    "# image: (28, 28)\n",
    "plt.imshow(image, 'gray')\n",
    "plt.title('label : {}'.format(y_train[index]))\n",
    "plt.show()"
   ]
  },
  {
   "cell_type": "markdown",
   "metadata": {},
   "source": [
    "### 前処理\n",
    "\n",
    "画像は0から255のuint8型（unsigned int）で表されるが、機械学習をする上では0から1のfloat型で扱うことになる。"
   ]
  },
  {
   "cell_type": "code",
   "execution_count": 12,
   "metadata": {},
   "outputs": [
    {
     "name": "stdout",
     "output_type": "stream",
     "text": [
      "1.0\n",
      "0.0\n",
      "(60000, 784)\n",
      "(784,)\n",
      "float64\n",
      "[0.         0.         0.         0.         0.         0.\n",
      " 0.         0.         0.         0.         0.         0.\n",
      " 0.         0.         0.         0.         0.         0.\n",
      " 0.         0.         0.         0.         0.         0.\n",
      " 0.         0.         0.         0.         0.         0.\n",
      " 0.         0.         0.         0.         0.         0.\n",
      " 0.         0.         0.         0.         0.         0.\n",
      " 0.         0.         0.         0.         0.         0.\n",
      " 0.         0.         0.         0.         0.         0.\n",
      " 0.         0.         0.         0.         0.         0.\n",
      " 0.         0.         0.         0.         0.         0.\n",
      " 0.         0.         0.         0.         0.         0.\n",
      " 0.         0.         0.         0.         0.         0.\n",
      " 0.         0.         0.         0.         0.         0.\n",
      " 0.         0.         0.         0.         0.         0.\n",
      " 0.         0.         0.         0.         0.         0.\n",
      " 0.         0.         0.         0.         0.         0.\n",
      " 0.         0.         0.         0.         0.         0.\n",
      " 0.         0.         0.         0.         0.         0.\n",
      " 0.         0.         0.         0.         0.         0.\n",
      " 0.         0.         0.         0.         0.         0.\n",
      " 0.         0.         0.         0.         0.         0.\n",
      " 0.         0.         0.         0.         0.         0.\n",
      " 0.         0.         0.         0.         0.         0.\n",
      " 0.         0.         0.         0.         0.         0.\n",
      " 0.         0.         0.01176471 0.07058824 0.07058824 0.07058824\n",
      " 0.49411765 0.53333333 0.68627451 0.10196078 0.65098039 1.\n",
      " 0.96862745 0.49803922 0.         0.         0.         0.\n",
      " 0.         0.         0.         0.         0.         0.\n",
      " 0.         0.         0.11764706 0.14117647 0.36862745 0.60392157\n",
      " 0.66666667 0.99215686 0.99215686 0.99215686 0.99215686 0.99215686\n",
      " 0.88235294 0.6745098  0.99215686 0.94901961 0.76470588 0.25098039\n",
      " 0.         0.         0.         0.         0.         0.\n",
      " 0.         0.         0.         0.         0.         0.19215686\n",
      " 0.93333333 0.99215686 0.99215686 0.99215686 0.99215686 0.99215686\n",
      " 0.99215686 0.99215686 0.99215686 0.98431373 0.36470588 0.32156863\n",
      " 0.32156863 0.21960784 0.15294118 0.         0.         0.\n",
      " 0.         0.         0.         0.         0.         0.\n",
      " 0.         0.         0.         0.07058824 0.85882353 0.99215686\n",
      " 0.99215686 0.99215686 0.99215686 0.99215686 0.77647059 0.71372549\n",
      " 0.96862745 0.94509804 0.         0.         0.         0.\n",
      " 0.         0.         0.         0.         0.         0.\n",
      " 0.         0.         0.         0.         0.         0.\n",
      " 0.         0.         0.31372549 0.61176471 0.41960784 0.99215686\n",
      " 0.99215686 0.80392157 0.04313725 0.         0.16862745 0.60392157\n",
      " 0.         0.         0.         0.         0.         0.\n",
      " 0.         0.         0.         0.         0.         0.\n",
      " 0.         0.         0.         0.         0.         0.\n",
      " 0.         0.05490196 0.00392157 0.60392157 0.99215686 0.35294118\n",
      " 0.         0.         0.         0.         0.         0.\n",
      " 0.         0.         0.         0.         0.         0.\n",
      " 0.         0.         0.         0.         0.         0.\n",
      " 0.         0.         0.         0.         0.         0.\n",
      " 0.         0.54509804 0.99215686 0.74509804 0.00784314 0.\n",
      " 0.         0.         0.         0.         0.         0.\n",
      " 0.         0.         0.         0.         0.         0.\n",
      " 0.         0.         0.         0.         0.         0.\n",
      " 0.         0.         0.         0.         0.         0.04313725\n",
      " 0.74509804 0.99215686 0.2745098  0.         0.         0.\n",
      " 0.         0.         0.         0.         0.         0.\n",
      " 0.         0.         0.         0.         0.         0.\n",
      " 0.         0.         0.         0.         0.         0.\n",
      " 0.         0.         0.         0.         0.1372549  0.94509804\n",
      " 0.88235294 0.62745098 0.42352941 0.00392157 0.         0.\n",
      " 0.         0.         0.         0.         0.         0.\n",
      " 0.         0.         0.         0.         0.         0.\n",
      " 0.         0.         0.         0.         0.         0.\n",
      " 0.         0.         0.         0.31764706 0.94117647 0.99215686\n",
      " 0.99215686 0.46666667 0.09803922 0.         0.         0.\n",
      " 0.         0.         0.         0.         0.         0.\n",
      " 0.         0.         0.         0.         0.         0.\n",
      " 0.         0.         0.         0.         0.         0.\n",
      " 0.         0.         0.17647059 0.72941176 0.99215686 0.99215686\n",
      " 0.58823529 0.10588235 0.         0.         0.         0.\n",
      " 0.         0.         0.         0.         0.         0.\n",
      " 0.         0.         0.         0.         0.         0.\n",
      " 0.         0.         0.         0.         0.         0.\n",
      " 0.         0.0627451  0.36470588 0.98823529 0.99215686 0.73333333\n",
      " 0.         0.         0.         0.         0.         0.\n",
      " 0.         0.         0.         0.         0.         0.\n",
      " 0.         0.         0.         0.         0.         0.\n",
      " 0.         0.         0.         0.         0.         0.\n",
      " 0.         0.97647059 0.99215686 0.97647059 0.25098039 0.\n",
      " 0.         0.         0.         0.         0.         0.\n",
      " 0.         0.         0.         0.         0.         0.\n",
      " 0.         0.         0.         0.         0.         0.\n",
      " 0.         0.         0.18039216 0.50980392 0.71764706 0.99215686\n",
      " 0.99215686 0.81176471 0.00784314 0.         0.         0.\n",
      " 0.         0.         0.         0.         0.         0.\n",
      " 0.         0.         0.         0.         0.         0.\n",
      " 0.         0.         0.         0.         0.15294118 0.58039216\n",
      " 0.89803922 0.99215686 0.99215686 0.99215686 0.98039216 0.71372549\n",
      " 0.         0.         0.         0.         0.         0.\n",
      " 0.         0.         0.         0.         0.         0.\n",
      " 0.         0.         0.         0.         0.         0.\n",
      " 0.09411765 0.44705882 0.86666667 0.99215686 0.99215686 0.99215686\n",
      " 0.99215686 0.78823529 0.30588235 0.         0.         0.\n",
      " 0.         0.         0.         0.         0.         0.\n",
      " 0.         0.         0.         0.         0.         0.\n",
      " 0.         0.         0.09019608 0.25882353 0.83529412 0.99215686\n",
      " 0.99215686 0.99215686 0.99215686 0.77647059 0.31764706 0.00784314\n",
      " 0.         0.         0.         0.         0.         0.\n",
      " 0.         0.         0.         0.         0.         0.\n",
      " 0.         0.         0.         0.         0.07058824 0.67058824\n",
      " 0.85882353 0.99215686 0.99215686 0.99215686 0.99215686 0.76470588\n",
      " 0.31372549 0.03529412 0.         0.         0.         0.\n",
      " 0.         0.         0.         0.         0.         0.\n",
      " 0.         0.         0.         0.         0.         0.\n",
      " 0.21568627 0.6745098  0.88627451 0.99215686 0.99215686 0.99215686\n",
      " 0.99215686 0.95686275 0.52156863 0.04313725 0.         0.\n",
      " 0.         0.         0.         0.         0.         0.\n",
      " 0.         0.         0.         0.         0.         0.\n",
      " 0.         0.         0.         0.         0.53333333 0.99215686\n",
      " 0.99215686 0.99215686 0.83137255 0.52941176 0.51764706 0.0627451\n",
      " 0.         0.         0.         0.         0.         0.\n",
      " 0.         0.         0.         0.         0.         0.\n",
      " 0.         0.         0.         0.         0.         0.\n",
      " 0.         0.         0.         0.         0.         0.\n",
      " 0.         0.         0.         0.         0.         0.\n",
      " 0.         0.         0.         0.         0.         0.\n",
      " 0.         0.         0.         0.         0.         0.\n",
      " 0.         0.         0.         0.         0.         0.\n",
      " 0.         0.         0.         0.         0.         0.\n",
      " 0.         0.         0.         0.         0.         0.\n",
      " 0.         0.         0.         0.         0.         0.\n",
      " 0.         0.         0.         0.         0.         0.\n",
      " 0.         0.         0.         0.         0.         0.\n",
      " 0.         0.         0.         0.         0.         0.\n",
      " 0.         0.         0.         0.         0.         0.\n",
      " 0.         0.         0.         0.         0.         0.\n",
      " 0.         0.         0.         0.        ]\n"
     ]
    }
   ],
   "source": [
    "X_train_ff = X_train_f.astype(np.float)\n",
    "X_test_ff = X_test_f.astype(np.float)\n",
    "X_train_ff /= 255\n",
    "X_test_ff /= 255\n",
    "print(X_train_ff.max()) # 1.0\n",
    "print(X_train_ff.min()) # 0.0\n",
    "print(X_train_ff.shape)\n",
    "print(X_train_ff[0].shape)\n",
    "print(X_train_ff[0].dtype)\n",
    "print(X_train_ff[0]) # 0.0"
   ]
  },
  {
   "cell_type": "markdown",
   "metadata": {},
   "source": [
    "また、正解ラベルは0から9の整数ですが、ニューラルネットワークで多クラス分類を行う際には one-hot表現 に変換します。scikit-learnのOneHotEncoderを使用したコードが以下です。このone-hot表現による値はそのラベルである確率を示していることになるため、float型で扱います。"
   ]
  },
  {
   "cell_type": "code",
   "execution_count": 13,
   "metadata": {},
   "outputs": [
    {
     "name": "stdout",
     "output_type": "stream",
     "text": [
      "(60000,)\n",
      "(60000, 10)\n",
      "float64\n",
      "[0. 0. 0. 0. 0. 1. 0. 0. 0. 0.]\n"
     ]
    }
   ],
   "source": [
    "from sklearn.preprocessing import OneHotEncoder\n",
    "\n",
    "enc = OneHotEncoder(handle_unknown='ignore', sparse=False)\n",
    "y_train_one_hot = enc.fit_transform(y_train[:, np.newaxis])\n",
    "y_test_one_hot = enc.transform(y_test[:, np.newaxis])\n",
    "print(y_train.shape) # (60000,)\n",
    "print(y_train_one_hot.shape) # (60000, 10)\n",
    "print(y_train_one_hot.dtype) # float64\n",
    "print(y_train_one_hot[0])"
   ]
  },
  {
   "cell_type": "code",
   "execution_count": 99,
   "metadata": {},
   "outputs": [
    {
     "name": "stdout",
     "output_type": "stream",
     "text": [
      "(48000, 784)\n",
      "(12000, 784)\n",
      "(48000, 10)\n",
      "(12000, 10)\n"
     ]
    }
   ],
   "source": [
    "# 訓練用データと検証用データの分割\n",
    "\n",
    "Xt_train, Xt_val, yt_train, yt_val = train_test_split(X_train_ff, y_train_one_hot, test_size=0.2)\n",
    "print(Xt_train.shape) # (48000, 784)\n",
    "print(Xt_val.shape) # (12000, 784)\n",
    "print(yt_train.shape)\n",
    "print(yt_val.shape)"
   ]
  },
  {
   "cell_type": "markdown",
   "metadata": {},
   "source": [
    "## スクラッチ\n",
    "\n",
    "多クラス分類を行う3層のニューラルネットワークを作成する。層の数などは固定した上でニューラルネットワークの基本を学ぶ。"
   ]
  },
  {
   "cell_type": "code",
   "execution_count": 131,
   "metadata": {
    "code_folding": [
     0
    ]
   },
   "outputs": [],
   "source": [
    "class GetMiniBatch:\n",
    "    \"\"\"\n",
    "    ミニバッチを取得するイテレータ\n",
    "\n",
    "    Parameters\n",
    "    ----------\n",
    "    X : 次の形のndarray, shape (n_samples, n_features)\n",
    "      訓練用データ\n",
    "    y : 次の形のndarray, shape (n_samples, 1)\n",
    "      正解値\n",
    "    batch_size : int\n",
    "      バッチサイズ\n",
    "    seed : int\n",
    "      NumPyの乱数のシード\n",
    "    \"\"\"\n",
    "    def __init__(self, X, y, batch_size = 20, seed=0):\n",
    "        self.batch_size = batch_size\n",
    "        np.random.seed(seed)\n",
    "        shuffle_index = np.random.permutation(np.arange(X.shape[0]))\n",
    "        self._X = X[shuffle_index]\n",
    "        self._y = y[shuffle_index]\n",
    "        self._stop = np.ceil(X.shape[0]/self.batch_size).astype(np.int)\n",
    "\n",
    "    def __len__(self):\n",
    "        return self._stop\n",
    "\n",
    "    def __getitem__(self,item):\n",
    "        p0 = item*self.batch_size\n",
    "        p1 = item*self.batch_size + self.batch_size\n",
    "        return self._X[p0:p1], self._y[p0:p1]        \n",
    "\n",
    "    def __iter__(self):\n",
    "        self._counter = 0\n",
    "        return self\n",
    "\n",
    "    def __next__(self):\n",
    "        if self._counter >= self._stop:\n",
    "            raise StopIteration()\n",
    "        p0 = self._counter*self.batch_size\n",
    "        p1 = self._counter*self.batch_size + self.batch_size\n",
    "        self._counter += 1\n",
    "        return self._X[p0:p1], self._y[p0:p1]"
   ]
  },
  {
   "cell_type": "code",
   "execution_count": 17,
   "metadata": {
    "code_folding": []
   },
   "outputs": [
    {
     "name": "stdout",
     "output_type": "stream",
     "text": [
      "5\n",
      "(array([], shape=(0, 2), dtype=int64), array([], dtype=int64))\n",
      "[[ 52  53]\n",
      " [172 173]\n",
      " [  4   5]\n",
      " [110 111]\n",
      " [150 151]\n",
      " [186 187]\n",
      " [ 32  33]\n",
      " [146 147]\n",
      " [108 109]\n",
      " [190 191]\n",
      " [106 107]\n",
      " [184 185]\n",
      " [156 157]\n",
      " [ 26  27]\n",
      " [ 14  15]\n",
      " [ 60  61]\n",
      " [ 44  45]\n",
      " [ 48  49]\n",
      " [ 66  67]\n",
      " [ 16  17]]\n",
      "[26 86  2 55 75 93 16 73 54 95 53 92 78 13  7 30 22 24 33  8]\n",
      "----\n",
      "[[ 86  87]\n",
      " [124 125]\n",
      " [  6   7]\n",
      " [142 143]\n",
      " [ 90  91]\n",
      " [ 96  97]\n",
      " [ 12  13]\n",
      " [198 199]\n",
      " [164 165]\n",
      " [152 153]\n",
      " [120 121]\n",
      " [160 161]\n",
      " [180 181]\n",
      " [136 137]\n",
      " [102 103]\n",
      " [ 54  55]\n",
      " [ 36  37]\n",
      " [112 113]\n",
      " [126 127]\n",
      " [148 149]]\n",
      "[43 62  3 71 45 48  6 99 82 76 60 80 90 68 51 27 18 56 63 74]\n",
      "----\n",
      "[[  2   3]\n",
      " [122 123]\n",
      " [ 84  85]\n",
      " [ 82  83]\n",
      " [  8   9]\n",
      " [ 30  31]\n",
      " [ 34  35]\n",
      " [ 80  81]\n",
      " [ 76  77]\n",
      " [ 10  11]\n",
      " [182 183]\n",
      " [118 119]\n",
      " [  0   1]\n",
      " [ 68  69]\n",
      " [ 56  57]\n",
      " [100 101]\n",
      " [ 22  23]\n",
      " [ 70  71]\n",
      " [ 46  47]\n",
      " [104 105]]\n",
      "[ 1 61 42 41  4 15 17 40 38  5 91 59  0 34 28 50 11 35 23 52]\n",
      "----\n",
      "[[ 20  21]\n",
      " [ 62  63]\n",
      " [132 133]\n",
      " [114 115]\n",
      " [158 159]\n",
      " [170 171]\n",
      " [ 64  65]\n",
      " [168 169]\n",
      " [ 28  29]\n",
      " [178 179]\n",
      " [ 38  39]\n",
      " [ 58  59]\n",
      " [ 98  99]\n",
      " [194 195]\n",
      " [196 197]\n",
      " [138 139]\n",
      " [ 40  41]\n",
      " [188 189]\n",
      " [144 145]\n",
      " [154 155]]\n",
      "[10 31 66 57 79 85 32 84 14 89 19 29 49 97 98 69 20 94 72 77]\n",
      "----\n",
      "[[ 50  51]\n",
      " [ 74  75]\n",
      " [162 163]\n",
      " [ 92  93]\n",
      " [ 78  79]\n",
      " [130 131]\n",
      " [116 117]\n",
      " [ 24  25]\n",
      " [176 177]\n",
      " [140 141]\n",
      " [174 175]\n",
      " [ 72  73]\n",
      " [ 42  43]\n",
      " [166 167]\n",
      " [ 18  19]\n",
      " [192 193]\n",
      " [134 135]\n",
      " [128 129]\n",
      " [ 94  95]\n",
      " [ 88  89]]\n",
      "[25 37 81 46 39 65 58 12 88 70 87 36 21 83  9 96 67 64 47 44]\n",
      "----\n"
     ]
    }
   ],
   "source": [
    "#GetMiniBatchの挙動確認\n",
    "\n",
    "batchX = np.arange(200).reshape(100,2)\n",
    "batchy = np.arange(100)\n",
    "\n",
    "get_mini_batch = GetMiniBatch(batchX, batchy, batch_size=20)\n",
    "\n",
    "print(len(get_mini_batch))\n",
    "print(get_mini_batch[5])\n",
    "for mini_X_train, mini_y_train in get_mini_batch:\n",
    "    print(mini_X_train)\n",
    "    print(mini_y_train)\n",
    "    print(\"----\")\n",
    "    "
   ]
  },
  {
   "cell_type": "markdown",
   "metadata": {},
   "source": [
    "## 【問題1】重みの初期値を決めるコードの作成"
   ]
  },
  {
   "cell_type": "markdown",
   "metadata": {},
   "source": [
    "ニューラルネットワークの各層の重みの初期値を決めるコードを作成する。\n",
    "\n",
    "今回はガウス分布による単純な初期化を行う。バイアスに関しても同様。"
   ]
  },
  {
   "cell_type": "code",
   "execution_count": 100,
   "metadata": {},
   "outputs": [
    {
     "name": "stdout",
     "output_type": "stream",
     "text": [
      "(784, 400)\n"
     ]
    }
   ],
   "source": [
    "#重み\n",
    "n_features = 784\n",
    "n_nodes1 = 400\n",
    "sigma = 0.01 # ガウス分布の標準偏差\n",
    "W1 = sigma * np.random.randn(n_features, n_nodes1) #（n行、m列）でガウス分布を作る\n",
    "print(W1.shape)"
   ]
  },
  {
   "cell_type": "markdown",
   "metadata": {},
   "source": [
    "## 【問題２】フォワードプロパゲーションの実装\n",
    "\n",
    "三層のニューラルネットワークの フォワードプロパゲーション を作成する。\n",
    "\n",
    " - batch_size = 20 # バッチサイズ\n",
    " - n_features = 784 # 特徴量の数\n",
    " - n_nodes1 = 400 # 1層目のノード数\n",
    " - n_nodes2 = 200 # 2層目のノード数\n",
    " - n_output = 10 # 出力のクラス数（3層目のノード数）"
   ]
  },
  {
   "cell_type": "code",
   "execution_count": 101,
   "metadata": {},
   "outputs": [
    {
     "name": "stdout",
     "output_type": "stream",
     "text": [
      "(48000, 400)\n",
      "(48000, 400)\n",
      "(48000, 400)\n"
     ]
    }
   ],
   "source": [
    "#１層目\n",
    "\n",
    "#バイアス\n",
    "n_features = 1\n",
    "n_nodes1 = 400\n",
    "sigma = 0.01 # ガウス分布の標準偏差\n",
    "B1 = sigma * np.random.randn(n_features, n_nodes1) #（n行、m列）でガウス分布を作る\n",
    "\n",
    "#XW　＝48,000×400の行列を作る\n",
    "XW1 = np.dot(Xt_train, W1)\n",
    "\n",
    "print(XW1.shape)  #(48000, 400)\n",
    "\n",
    "A1 = XW1+B1\n",
    "\n",
    "print(A1.shape)\n",
    "\n",
    "Z1 = np.tanh(A1)\n",
    "\n",
    "print(Z1.shape)"
   ]
  },
  {
   "cell_type": "code",
   "execution_count": 102,
   "metadata": {},
   "outputs": [
    {
     "name": "stdout",
     "output_type": "stream",
     "text": [
      "(400, 200)\n",
      "(1, 200)\n",
      "(48000, 200)\n",
      "(48000, 200)\n",
      "(48000, 200)\n"
     ]
    }
   ],
   "source": [
    "#２層目\n",
    "n_features = 400\n",
    "n_nodes1 = 200\n",
    "sigma = 0.01 # ガウス分布の標準偏差\n",
    "W2 = sigma * np.random.randn(n_features, n_nodes1) #（n行、m列）でガウス分布を作る\n",
    "print(W2.shape)\n",
    "\n",
    "#バイアス\n",
    "n_features = 1\n",
    "n_nodes1 = 200\n",
    "sigma = 0.01 # ガウス分布の標準偏差\n",
    "B2 = sigma * np.random.randn(n_features, n_nodes1) #（n行、m列）でガウス分布を作る\n",
    "print(B2.shape)\n",
    "\n",
    "#XW　＝48,000×200の行列を作る\n",
    "XW2 = np.dot(Z1, W2)\n",
    "\n",
    "print(XW2.shape)  #(48000, 200)\n",
    "\n",
    "A2 = XW2+B2\n",
    "\n",
    "print(A2.shape)\n",
    "\n",
    "Z2 = np.tanh(A2)\n",
    "\n",
    "print(Z2.shape)"
   ]
  },
  {
   "cell_type": "code",
   "execution_count": 103,
   "metadata": {},
   "outputs": [
    {
     "name": "stdout",
     "output_type": "stream",
     "text": [
      "(200, 10)\n",
      "(1, 10)\n",
      "(48000, 10)\n",
      "(48000, 10)\n",
      "[[ 0.01054267  0.00341498 -0.0050945   0.00669015 -0.00870259 -0.01668949\n",
      "  -0.0052405  -0.0033567   0.01122728 -0.00370415]\n",
      " [ 0.00981697 -0.0002208  -0.00797909  0.00452491 -0.00637638 -0.01886499\n",
      "  -0.00438994 -0.00722951  0.01047466 -0.00509268]\n",
      " [ 0.01372428  0.00339735 -0.00229557  0.00523355 -0.00623614 -0.01954447\n",
      "  -0.00521691  0.00049775  0.01041798 -0.00168178]\n",
      " [ 0.01631471 -0.00054073 -0.00472279  0.00511936 -0.00912207 -0.01553657\n",
      "  -0.00606728 -0.00238634  0.01425504 -0.00340129]\n",
      " [ 0.01243866 -0.00185094 -0.00737169  0.00224301 -0.00853756 -0.01776796\n",
      "  -0.00719863 -0.00689325  0.01098478 -0.00292011]]\n"
     ]
    }
   ],
   "source": [
    "#３層目\n",
    "n_features = 200\n",
    "n_nodes1 = 10\n",
    "sigma = 0.01 # ガウス分布の標準偏差\n",
    "W3 = sigma * np.random.randn(n_features, n_nodes1) #（n行、m列）でガウス分布を作る\n",
    "print(W3.shape)\n",
    "\n",
    "#バイアス\n",
    "n_features = 1\n",
    "n_nodes1 = 10\n",
    "sigma = 0.01 # ガウス分布の標準偏差\n",
    "B3 = sigma * np.random.randn(n_features, n_nodes1) #（n行、m列）でガウス分布を作る\n",
    "print(B3.shape)\n",
    "\n",
    "#XW　＝48,000×200の行列を作る\n",
    "XW3 = np.dot(Z2, W3)\n",
    "\n",
    "print(XW3.shape)  #(48000, 200)\n",
    "\n",
    "A3 = XW3+B3\n",
    "\n",
    "print(A3.shape)\n",
    "print(A3[0:5])"
   ]
  },
  {
   "cell_type": "code",
   "execution_count": 104,
   "metadata": {},
   "outputs": [],
   "source": [
    "b_size = 48000\n",
    "Z3 = np.zeros((b_size, 10), dtype=float)\n",
    "Z3_2 = np.zeros((b_size, 10), dtype=float)"
   ]
  },
  {
   "cell_type": "code",
   "execution_count": 112,
   "metadata": {},
   "outputs": [
    {
     "name": "stdout",
     "output_type": "stream",
     "text": [
      "(48000, 10)\n",
      "[[0.10116658 0.10044806 0.09959692 0.10077758 0.09923821 0.09844877\n",
      "  0.09958238 0.09977015 0.10123586 0.09973549]\n",
      " [0.10123908 0.10022795 0.09945336 0.10070473 0.09961288 0.09837659\n",
      "  0.09981095 0.09952793 0.10130568 0.09974084]\n",
      " [0.10139516 0.10035344 0.09978376 0.10053788 0.09939133 0.09807736\n",
      "  0.09949269 0.10006288 0.10106047 0.09984503]]\n",
      "1.0\n",
      "2.5055668354034424 秒\n",
      "--numpyのブロードキャスト利用--\n",
      "[[0.10116658 0.10044806 0.09959692 0.10077758 0.09923821 0.09844877\n",
      "  0.09958238 0.09977015 0.10123586 0.09973549]\n",
      " [0.10123908 0.10022795 0.09945336 0.10070473 0.09961288 0.09837659\n",
      "  0.09981095 0.09952793 0.10130568 0.09974084]\n",
      " [0.10139516 0.10035344 0.09978376 0.10053788 0.09939133 0.09807736\n",
      "  0.09949269 0.10006288 0.10106047 0.09984503]]\n",
      "0.26923274993896484 秒\n",
      "1.0\n"
     ]
    }
   ],
   "source": [
    "#ソフトマックス関数\n",
    "start = time.time()\n",
    "for i in range(b_size):\n",
    "    for j in range(10):\n",
    "        Z3[i][j] = np.exp(A3[i][j]) / np.exp(A3[i]).sum()\n",
    "\n",
    "end = time.time()\n",
    "start2 = time.time()\n",
    "for k in range(b_size):\n",
    "    Z3_2[k] = np.exp(A3[k]) / np.exp(A3[k]).sum()\n",
    "end2 = time.time()\n",
    "\n",
    "\n",
    "print(Z3.shape)\n",
    "print(Z3[0:3])\n",
    "print(Z3[0].sum())  #クラス方向にSUMして１になるか確認\n",
    "print(end-start, \"秒\")\n",
    "print(\"--numpyのブロードキャスト利用--\")\n",
    "print(Z3_2[0:3])\n",
    "print(end2-start2, \"秒\")\n",
    "print(Z3_2[0].sum())"
   ]
  },
  {
   "cell_type": "markdown",
   "metadata": {},
   "source": [
    "## 【問題３】交差エントロピー誤差の実装\n",
    "\n",
    "目的関数（損失関数）を作成します。\n",
    "多クラス分類の目的関数である交差エントロピー誤差 L は次の数式です。\n",
    "\n",
    "$$\n",
    "L = -\\frac{1}{n_b}\\sum_{j}^{n_b}\\sum_{k}^{n_c}y_{jk}log(z3_{jk})\n",
    "$$\n"
   ]
  },
  {
   "cell_type": "code",
   "execution_count": 145,
   "metadata": {},
   "outputs": [
    {
     "name": "stdout",
     "output_type": "stream",
     "text": [
      " \n",
      "[0.10116658 0.10044806 0.09959692 0.10077758 0.09923821 0.09844877\n",
      " 0.09958238 0.09977015 0.10123586 0.09973549]\n",
      "[-2.29098685 -2.29811454 -2.30662402 -2.29483937 -2.31023212 -2.31821901\n",
      " -2.30677002 -2.30488622 -2.29030224 -2.30523367]\n",
      "[0. 0. 0. 0. 1. 0. 0. 0. 0. 0.]\n",
      "[-0.         -0.         -0.         -0.         -2.31023212 -0.\n",
      " -0.         -0.         -0.         -0.        ]\n",
      "-2.3102321151757637\n",
      " \n",
      "[0.10123908 0.10022795 0.09945336 0.10070473 0.09961288 0.09837659\n",
      " 0.09981095 0.09952793 0.10130568 0.09974084]\n",
      "[-2.29027044 -2.30030821 -2.30806649 -2.2955625  -2.30646379 -2.3189524\n",
      " -2.30447735 -2.30731692 -2.28961275 -2.30518009]\n",
      "[0. 0. 0. 1. 0. 0. 0. 0. 0. 0.]\n",
      "[-0.        -0.        -0.        -2.2955625 -0.        -0.\n",
      " -0.        -0.        -0.        -0.       ]\n",
      "-2.2955624971623845\n",
      " \n",
      "[0.10139516 0.10035344 0.09978376 0.10053788 0.09939133 0.09807736\n",
      " 0.09949269 0.10006288 0.10106047 0.09984503]\n",
      "[-2.28872996 -2.29905689 -2.3047498  -2.29722068 -2.30869038 -2.3219987\n",
      " -2.30767114 -2.30195649 -2.29203626 -2.30413602]\n",
      "[0. 1. 0. 0. 0. 0. 0. 0. 0. 0.]\n",
      "[-0.         -2.29905689 -0.         -0.         -0.         -0.\n",
      " -0.         -0.         -0.         -0.        ]\n",
      "-2.2990568869114236\n",
      " \n",
      "[0.1017022  0.10000233 0.09958499 0.10056996 0.09914785 0.0985139\n",
      " 0.09945119 0.09981794 0.10149295 0.09971668]\n",
      "[-2.28570631 -2.30256176 -2.30674381 -2.29690167 -2.31114309 -2.31755759\n",
      " -2.3080883  -2.30440736 -2.28776598 -2.30542231]\n",
      "[0. 0. 0. 0. 0. 1. 0. 0. 0. 0.]\n",
      "[-0.         -0.         -0.         -0.         -0.         -2.31755759\n",
      " -0.         -0.         -0.         -0.        ]\n",
      "-2.3175575909019055\n",
      " \n",
      "[0.10152023 0.10007986 0.09952887 0.10049042 0.0994129  0.0984995\n",
      " 0.09954609 0.0995765  0.10137274 0.09997291]\n",
      "[-2.28749722 -2.30178682 -2.30730757 -2.29769287 -2.30847344 -2.31770384\n",
      " -2.30713451 -2.30682913 -2.28895111 -2.302856  ]\n",
      "[0. 0. 0. 0. 0. 0. 0. 0. 0. 1.]\n",
      "[-0.       -0.       -0.       -0.       -0.       -0.       -0.\n",
      " -0.       -0.       -2.302856]\n",
      "-2.3028559954775054\n",
      " \n",
      "[0.10131791 0.10008318 0.09966417 0.10046861 0.09942496 0.09844252\n",
      " 0.09964639 0.09996627 0.1014187  0.0995673 ]\n",
      "[-2.2894921  -2.30175369 -2.30594907 -2.29790989 -2.30835213 -2.31828249\n",
      " -2.30612746 -2.30292242 -2.2884978  -2.30692148]\n",
      "[0. 1. 0. 0. 0. 0. 0. 0. 0. 0.]\n",
      "[-0.         -2.30175369 -0.         -0.         -0.         -0.\n",
      " -0.         -0.         -0.         -0.        ]\n",
      "-2.301753685673871\n",
      " \n",
      "[0.10142099 0.10003748 0.0996072  0.10059424 0.0995321  0.09824997\n",
      " 0.09951233 0.09986341 0.1013732  0.09980908]\n",
      "[-2.2884752  -2.30221032 -2.30652085 -2.29666027 -2.30727505 -2.32024037\n",
      " -2.30747375 -2.30395193 -2.28894649 -2.30449614]\n",
      "[0. 0. 0. 0. 1. 0. 0. 0. 0. 0.]\n",
      "[-0.         -0.         -0.         -0.         -2.30727505 -0.\n",
      " -0.         -0.         -0.         -0.        ]\n",
      "-2.3072750521987944\n",
      " \n",
      "[0.10154902 0.1002802  0.09963299 0.10035954 0.09940716 0.09841177\n",
      " 0.09937512 0.09979204 0.10164965 0.09954251]\n",
      "[-2.28721362 -2.29978704 -2.30626197 -2.29899612 -2.3085311  -2.31859487\n",
      " -2.3088535  -2.3046669  -2.28622319 -2.30717046]\n",
      "[0. 0. 0. 1. 0. 0. 0. 0. 0. 0.]\n",
      "[-0.         -0.         -0.         -2.29899612 -0.         -0.\n",
      " -0.         -0.         -0.         -0.        ]\n",
      "-2.298996121082396\n",
      " \n",
      "[0.1016605  0.10025269 0.09940991 0.10057056 0.09905173 0.09858915\n",
      " 0.0991937  0.10008893 0.10151492 0.09966791]\n",
      "[-2.28611648 -2.30006139 -2.30850346 -2.29689573 -2.31211301 -2.31679405\n",
      " -2.31068081 -2.30169617 -2.28754951 -2.30591147]\n",
      "[0. 0. 1. 0. 0. 0. 0. 0. 0. 0.]\n",
      "[-0.         -0.         -2.30850346 -0.         -0.         -0.\n",
      " -0.         -0.         -0.         -0.        ]\n",
      "-2.308503457923418\n",
      " \n",
      "[0.10136103 0.10011644 0.09976549 0.1003433  0.09945303 0.0983827\n",
      " 0.0997269  0.09986038 0.101312   0.09967874]\n",
      "[-2.2890666  -2.30142138 -2.30493297 -2.29915799 -2.30806982 -2.31889032\n",
      " -2.30531982 -2.3039823  -2.28955039 -2.30580287]\n",
      "[0. 0. 0. 0. 0. 1. 0. 0. 0. 0.]\n",
      "[-0.         -0.         -0.         -0.         -0.         -2.31889032\n",
      " -0.         -0.         -0.         -0.        ]\n",
      "-2.318890323877317\n",
      "-23.060683726384777\n",
      "2.3060683726384776\n"
     ]
    }
   ],
   "source": [
    "L = 0\n",
    "for i in range(10):\n",
    "    print(\" \")\n",
    "    print(Z3[i])\n",
    "    print(np.log(Z3[i]))\n",
    "    print(yt_train[i])\n",
    "    print((yt_train[i] * np.log(Z3[i])))\n",
    "    print(np.sum(yt_train[i] * np.log(Z3[i])))\n",
    "    L += np.sum(yt_train[i] * np.log(Z3[i]))\n",
    "print(L)\n",
    "print((L/ 10) * -1)"
   ]
  },
  {
   "cell_type": "code",
   "execution_count": 150,
   "metadata": {},
   "outputs": [
    {
     "name": "stdout",
     "output_type": "stream",
     "text": [
      "-0.01005033585350145\n",
      "-0.020202707317519466\n",
      "-0.6931471805599453\n",
      "-2.3025850929940455\n"
     ]
    }
   ],
   "source": [
    "print(np.log(0.99))\n",
    "print(np.log(0.98))\n",
    "print(np.log(0.5))\n",
    "print(np.log(0.1))"
   ]
  },
  {
   "cell_type": "markdown",
   "metadata": {},
   "source": [
    "## 【問題４】バックプロパゲーションの実装\n",
    "\n",
    "三層のニューラルネットワークのバックプロパゲーションを作成する。\n",
    "\n",
    "確率的勾配降下法を行う部分となる。"
   ]
  },
  {
   "cell_type": "code",
   "execution_count": 61,
   "metadata": {},
   "outputs": [
    {
     "name": "stdout",
     "output_type": "stream",
     "text": [
      "(48000, 10)\n",
      "[  72.10366942 -518.99380391   95.60847069 -232.03296456  134.59996971\n",
      "  516.02232218   82.06692734 -252.23335561  120.55702736  -17.69826262]\n",
      "(200, 10)\n",
      "(48000, 200)\n"
     ]
    }
   ],
   "source": [
    "#３層目\n",
    "\n",
    "# L/A3\n",
    "LA3 = Z3 - yt_train\n",
    "print(LA3.shape)\n",
    "\n",
    "#L/B3\n",
    "LB3 = np.zeros((Z3.shape[1],),dtype=float)\n",
    "for i in range(b_size):\n",
    "    LB3 = LB3 + (Z3[i] - yt_train[i])\n",
    "print(LB3)\n",
    "\n",
    "LW3 = np.dot(Z2.T, LA3)\n",
    "print(LW3.shape)\n",
    "\n",
    "LZ2 = np.dot(LA3, W3.T)\n",
    "print(LZ2.shape)"
   ]
  },
  {
   "cell_type": "code",
   "execution_count": 69,
   "metadata": {
    "scrolled": true
   },
   "outputs": [
    {
     "name": "stdout",
     "output_type": "stream",
     "text": [
      "(48000, 200)\n",
      "(200,)\n",
      "(400, 200)\n",
      "(48000, 400)\n"
     ]
    }
   ],
   "source": [
    "#２層目\n",
    "\n",
    "LA2 = LZ2 * (1-np.tanh(A2)**2) #(48000, 200)*(48000, 200)\n",
    "print(LA2.shape)\n",
    "\n",
    "LB2 = np.zeros((Z2.shape[1],),dtype=float)\n",
    "for i in range(b_size):\n",
    "    LB2 = LB2 + (LZ2[i] * (1 - np.tanh(A2[i])**2))\n",
    "print(LB2.shape)\n",
    "\n",
    "LW2 = np.dot(Z1.T, LA2)\n",
    "print(LW2.shape)\n",
    "\n",
    "LZ1 = np.dot(LA2, W2.T)\n",
    "print(LZ1.shape)\n"
   ]
  },
  {
   "cell_type": "code",
   "execution_count": 71,
   "metadata": {},
   "outputs": [
    {
     "name": "stdout",
     "output_type": "stream",
     "text": [
      "(48000, 400)\n",
      "(400,)\n",
      "(784, 400)\n"
     ]
    }
   ],
   "source": [
    "#１層目\n",
    "LA1 = LZ1 * (1- np.tanh(A1)**2)\n",
    "print(LA1.shape)\n",
    "\n",
    "LB1 = np.zeros((Z1.shape[1],),dtype=float)\n",
    "for i in range(b_size):\n",
    "    LB1 = LB1 + (LZ1[i] * (1 - np.tanh(A1[i])**2))\n",
    "print(LB1.shape)\n",
    "\n",
    "LW1 = np.dot(Xt_train.T, LA1)\n",
    "print(LW1.shape)\n"
   ]
  },
  {
   "cell_type": "markdown",
   "metadata": {},
   "source": [
    "### バッチなしクラス"
   ]
  },
  {
   "cell_type": "code",
   "execution_count": 128,
   "metadata": {
    "code_folding": []
   },
   "outputs": [],
   "source": [
    "class ScratchSimpleNeuralNetrowkClassifier():\n",
    "    \"\"\"\n",
    "    シンプルな三層ニューラルネットワーク分類器\n",
    "\n",
    "    Parameters\n",
    "    ----------\n",
    "\n",
    "    Attributes\n",
    "    ----------\n",
    "    \"\"\"\n",
    "\n",
    "    def __init__(self, n_nodes1, n_nodes2, n_nodes3, itr=50, verbose=True, alpha=0.00001, sigma=0.01, b_size=48000):\n",
    "        self.verbose = verbose\n",
    "        self.itr = itr\n",
    "        self.alpha = alpha\n",
    "        self.sigma = sigma\n",
    "        self.n_nodes1 = n_nodes1\n",
    "        self.n_nodes2 = n_nodes2\n",
    "        self.n_nodes3 = n_nodes3\n",
    "        self.b_size = b_size\n",
    "        self.L = []\n",
    "        \n",
    "        pass\n",
    "\n",
    "    def fit(self, X, y, X_val=None, y_val=None):\n",
    "        \"\"\"\n",
    "        ニューラルネットワーク分類器を学習する。\n",
    "\n",
    "        Parameters\n",
    "        ----------\n",
    "        X : 次の形のndarray, shape (n_samples, n_features)\n",
    "            訓練用データの特徴量\n",
    "        y : 次の形のndarray, shape (n_samples, )\n",
    "            訓練用データの正解値\n",
    "        X_val : 次の形のndarray, shape (n_samples, n_features)\n",
    "            検証用データの特徴量\n",
    "        y_val : 次の形のndarray, shape (n_samples, )\n",
    "            検証用データの正解値\n",
    "        \"\"\"\n",
    "        #初期化\n",
    "        n_features = X.shape[1]\n",
    "        W1 = sigma * np.random.randn(n_features, self.n_nodes1) \n",
    "        W2 = sigma * np.random.randn(self.n_nodes1, self.n_nodes2)\n",
    "        W3 = sigma * np.random.randn(self.n_nodes2, self.n_nodes3)\n",
    "        B1 = sigma * np.random.randn(1, self.n_nodes1) \n",
    "        B2 = sigma * np.random.randn(1, self.n_nodes2) \n",
    "        B3 = sigma * np.random.randn(1, self.n_nodes3) \n",
    "        Z3 = np.zeros((b_size, self.n_nodes3), dtype=float)\n",
    "        LB3 = np.zeros((self.n_nodes3,),dtype=float)\n",
    "        LB2 = np.zeros((self.n_nodes2,),dtype=float)\n",
    "        LB1 = np.zeros((self.n_nodes1,),dtype=float)\n",
    "        \n",
    "        for _ in range(self.itr):\n",
    "            #１層目\n",
    "            XW1 = np.dot(X, W1)\n",
    "            A1 = XW1+B1\n",
    "            Z1 = np.tanh(A1)\n",
    "            #print(\"Z1:\\n\", Z1[0][0:20])\n",
    "            #print(Z1[0].sum())\n",
    "\n",
    "            #２層目\n",
    "            XW2 = np.dot(Z1, W2)\n",
    "            A2 = XW2+B2\n",
    "            Z2 = np.tanh(A2)\n",
    "            #print(\"Z2:\\n\", Z2[0][0:20])\n",
    "            #print(Z2[0].sum())\n",
    "\n",
    "            #３層目\n",
    "            XW3 = np.dot(Z2, W3)\n",
    "            A3 = XW3+B3\n",
    "            for i in range(b_size):\n",
    "                    Z3[i] = np.exp(A3[i]) / np.exp(A3[i]).sum()   #ソフトマックス関数\n",
    "\n",
    "            \"\"\"バックプロパゲーション\n",
    "            \"\"\"\n",
    "            #３層目\n",
    "            LA3 = Z3 - y\n",
    "            for i in range(b_size):\n",
    "                LB3 = LB3 + (Z3[i] - y[i])\n",
    "            LW3 = np.dot(Z2.T, LA3)\n",
    "            LZ2 = np.dot(LA3, W3.T)\n",
    "\n",
    "            #２層目\n",
    "            LA2 = LZ2 * (1-np.tanh(A2)**2) \n",
    "            for i in range(b_size):\n",
    "                LB2 = LB2 + (LZ2[i] * (1 - np.tanh(A2[i])**2))\n",
    "            LW2 = np.dot(Z1.T, LA2)\n",
    "            LZ1 = np.dot(LA2, W2.T)\n",
    "\n",
    "            #１層目\n",
    "            LA1 = LZ1 * (1- np.tanh(A1)**2)\n",
    "            for i in range(b_size):\n",
    "                LB1 = LB1 + (LZ1[i] * (1 - np.tanh(A1[i])**2))\n",
    "            LW1 = np.dot(X.T, LA1)\n",
    "\n",
    "            \"\"\"更新式\n",
    "            \"\"\"\n",
    "            W1 -= self.alpha*LW1\n",
    "            W2 -= self.alpha*LW2\n",
    "            W3 -= self.alpha*LW3\n",
    "            B1 -= self.alpha*LB1\n",
    "            B2 -= self.alpha*LB2\n",
    "            B3 -= self.alpha*LB3\n",
    "            print(\"Z3:\", Z3[0])\n",
    "            print(Z3[0].sum())\n",
    "\n",
    "            Ltmp = 0\n",
    "            for i in range(b_size):\n",
    "                Ltmp += np.sum(yt_train[i] * np.log(Z3[i]))\n",
    "            self.L.append((Ltmp/ b_size) * -1)\n",
    "            print(\"L:\", self.L[-1])\n",
    "            \n",
    "        self.w1 = W1\n",
    "        self.w2 = W2\n",
    "        self.w3 = W3\n",
    "        self.b1 = B1\n",
    "        self.b2 = B2\n",
    "        self.b3 = B3\n",
    "        self.z3 = Z3\n",
    "\n",
    "        \n",
    "        if self.verbose:\n",
    "            #verboseをTrueにした際は学習過程などを出力する\n",
    "            print()\n",
    "        pass\n",
    "\n",
    "    def predict(self, X):\n",
    "        \"\"\"\n",
    "        ニューラルネットワーク分類器を使い推定する。\n",
    "\n",
    "        Parameters\n",
    "        ----------\n",
    "        X : 次の形のndarray, shape (n_samples, n_features)\n",
    "            サンプル\n",
    "\n",
    "        Returns\n",
    "        -------\n",
    "            次の形のndarray, shape (n_samples, 1)\n",
    "            推定結果\n",
    "        \"\"\"\n",
    "\n",
    "        pass\n",
    "        return"
   ]
  },
  {
   "cell_type": "code",
   "execution_count": 129,
   "metadata": {},
   "outputs": [
    {
     "name": "stdout",
     "output_type": "stream",
     "text": [
      "Z3: [0.09924199 0.10012101 0.10103037 0.09977448 0.1017844  0.09938547\n",
      " 0.09959967 0.10079152 0.09809558 0.10017552]\n",
      "1.0\n",
      "L: 2.3028554270630344\n",
      "Z3: [0.09929006 0.10067898 0.10098551 0.09979716 0.10154271 0.09886975\n",
      " 0.09960994 0.10101705 0.09803942 0.10016943]\n",
      "1.0\n",
      "L: 2.3014693128013355\n",
      "Z3: [0.09929364 0.10188565 0.10085055 0.09981919 0.101077   0.0979547\n",
      " 0.09959822 0.10143639 0.09792576 0.10015889]\n",
      "0.9999999999999999\n",
      "L: 2.2999539250329164\n",
      "Z3: [0.09925357 0.10369067 0.10063165 0.09983375 0.10041317 0.09669053\n",
      " 0.09956298 0.10203021 0.09775284 0.10014061]\n",
      "1.0000000000000002\n",
      "L: 2.29833253052643\n",
      "Z3: [0.09917229 0.10601781 0.10033844 0.09983349 0.09958695 0.09514486\n",
      " 0.09950328 0.10277074 0.09752094 0.10011119]\n",
      "1.0\n",
      "L: 2.296640277159997\n",
      "Z3: [0.09905532 0.10876197 0.09998458 0.09981202 0.09864249 0.09339776\n",
      " 0.09942011 0.10362377 0.0972334  0.10006858]\n",
      "0.9999999999999999\n",
      "L: 2.294909992641211\n",
      "Z3: [0.09891268 0.11178712 0.09958814 0.09976535 0.09763063 0.09153635\n",
      " 0.09931767 0.10455116 0.09689749 0.10001342]\n",
      "1.0\n",
      "L: 2.293157101234015\n",
      "Z3: [0.09875999 0.11492652 0.0991715  0.09969299 0.09660678 0.08964953\n",
      " 0.09920438 0.10551341 0.09652482 0.09995009]\n",
      "1.0\n",
      "L: 2.2913658853284637\n",
      "Z3: [0.09861904 0.11798655 0.0987606  0.09959843 0.09562847 0.08782332\n",
      " 0.09909312 0.10647226 0.09613105 0.09988716]\n",
      "1.0\n",
      "L: 2.289479252137899\n",
      "Z3: [0.09851768 0.12075503 0.09838354 0.09948871 0.09475269 0.08613701\n",
      " 0.09900081 0.10739274 0.09573484 0.09983696]\n",
      "1.0\n",
      "L: 2.287393607832945\n",
      "Z3: [0.09848917 0.12301418 0.09806836 0.0993731  0.09403313 0.08466021\n",
      " 0.09894711 0.10824454 0.09535587 0.09981433]\n",
      "1.0\n",
      "L: 2.284959300286587\n",
      "Z3: [0.09857117 0.12455698 0.09784047 0.09926095 0.09351753 0.08345091\n",
      " 0.0989525  0.10900256 0.09501231 0.09983462]\n",
      "1.0\n",
      "L: 2.2819854283794934\n",
      "Z3: [0.09880492 0.12520456 0.09771983 0.09915912 0.09324533 0.08255428\n",
      " 0.09903611 0.10964663 0.09471792 0.0999113 ]\n",
      "1.0\n",
      "L: 2.278245928625898\n",
      "Z3: [0.09923508 0.12482156 0.09771835 0.09906937 0.09324577 0.08200224\n",
      " 0.09921369 0.11016105 0.09447926 0.10005363]\n",
      "1.0\n",
      "L: 2.2734822437284654\n",
      "Z3: [0.09991076 0.12332623 0.09783786 0.09898604 0.09353687 0.0818135\n",
      " 0.09949637 0.11053416 0.09429329 0.10026493]\n",
      "1.0000000000000002\n",
      "L: 2.2673970775720638\n",
      "Z3: [0.10088804 0.1206933  0.09806887 0.0988944  0.09412513 0.08199377\n",
      " 0.09989031 0.11075867 0.09414566 0.10054186]\n",
      "1.0000000000000002\n",
      "L: 2.2596340217867845\n",
      "Z3: [0.10223326 0.11694935 0.09839019 0.09876937 0.09500648 0.08253586\n",
      " 0.1003976  0.11083326 0.09400958 0.10087505]\n",
      "1.0\n",
      "L: 2.249739042271453\n",
      "Z3: [0.10402525 0.11216305 0.09876915 0.09857406 0.09616872 0.08341877\n",
      " 0.10101818 0.11076609 0.09384511 0.10125163]\n",
      "1.0000000000000002\n",
      "L: 2.2371014034983814\n",
      "Z3: [0.10635155 0.10643456 0.09916225 0.09825701 0.09759666 0.08460491\n",
      " 0.10175245 0.11058159 0.09359843 0.1016606 ]\n",
      "1.0\n",
      "L: 2.2208729750790934\n",
      "Z3: [0.10928838 0.09988997 0.09951612 0.0977467  0.09928275 0.08603407\n",
      " 0.10260441 0.11033325 0.09320105 0.10210329]\n",
      "1.0\n",
      "L: 2.199865949443868\n",
      "Z3: [0.1128475  0.09268471 0.09976888 0.0969419  0.10124853 0.0876128\n",
      " 0.10358564 0.11012738 0.09256932 0.10261333]\n",
      "0.9999999999999999\n",
      "L: 2.1724324262135615\n",
      "Z3: [0.11687038 0.08501185 0.0998523  0.09569791 0.10358491 0.08920023\n",
      " 0.1047216  0.11016347 0.0916055  0.10329185]\n",
      "1.0000000000000002\n",
      "L: 2.1363491254913862\n",
      "Z3: [0.12087967 0.07709202 0.09969194 0.09381182 0.10651687 0.0905958\n",
      " 0.10606216 0.11079073 0.0901996  0.1043594 ]\n",
      "1.0\n",
      "L: 2.08881643952078\n",
      "Z3: [0.12400839 0.0690932  0.09919179 0.09101348 0.11047648 0.09154167\n",
      " 0.10769532 0.11255422 0.08822193 0.10620352]\n",
      "0.9999999999999999\n",
      "L: 2.0269332895333605\n",
      "Z3: [0.1253138  0.06092757 0.09817554 0.08697336 0.11611703 0.09175474\n",
      " 0.10975674 0.11614893 0.08548041 0.10935188]\n",
      "1.0\n",
      "L: 1.9493572422016074\n",
      "Z3: [0.12466267 0.05204885 0.09629009 0.08135457 0.12415233 0.09100004\n",
      " 0.1124406  0.12214477 0.08164279 0.11426329]\n",
      "1.0\n",
      "L: 1.8591478394815852\n",
      "Z3: [0.12305821 0.04196065 0.09308366 0.07399198 0.13496798 0.08918602\n",
      " 0.11604006 0.13043116 0.07632753 0.12095276]\n",
      "1.0\n",
      "L: 1.764209728362312\n",
      "Z3: [0.12014285 0.03183352 0.08875761 0.06537281 0.14810019 0.08645284\n",
      " 0.12102378 0.13965668 0.06984535 0.12881437]\n",
      "1.0\n",
      "L: 1.6718821034209301\n",
      "Z3: [0.11367757 0.02381527 0.08498653 0.05700284 0.16159014 0.0834747\n",
      " 0.1283923  0.14678487 0.06377    0.13650577]\n",
      "0.9999999999999999\n",
      "L: 1.5846218738670992\n",
      "Z3: [0.10551239 0.01793468 0.08328005 0.04987081 0.17291572 0.08111071\n",
      " 0.14000961 0.14829419 0.05906244 0.1420094 ]\n",
      "1.0\n",
      "L: 1.5018610775553707\n",
      "Z3: [0.09614601 0.01339556 0.08316343 0.04301296 0.18295894 0.07846828\n",
      " 0.15681762 0.14521097 0.05510102 0.14572522]\n",
      "0.9999999999999999\n",
      "L: 1.4240762996525618\n",
      "Z3: [0.08684346 0.00976821 0.08393301 0.03625812 0.19178049 0.075256\n",
      " 0.17847828 0.13856158 0.05154778 0.14757308]\n",
      "1.0\n",
      "L: 1.3519338131229695\n",
      "Z3: [0.07842194 0.00701519 0.08503779 0.03024955 0.19891388 0.07221654\n",
      " 0.20204494 0.12970114 0.04875157 0.14764746]\n",
      "1.0\n",
      "L: 1.285266946523173\n",
      "Z3: [0.07145919 0.00500429 0.08565693 0.02530649 0.20528063 0.07013085\n",
      " 0.22321181 0.120307   0.04686342 0.14677938]\n",
      "1.0\n",
      "L: 1.2234055577614988\n",
      "Z3: [0.06540507 0.0035799  0.08571519 0.02128015 0.21244281 0.06897194\n",
      " 0.24070595 0.11069371 0.04580059 0.14540469]\n",
      "1.0000000000000002\n",
      "L: 1.1661598887182414\n",
      "Z3: [0.06014234 0.00256162 0.08549219 0.01790124 0.22094533 0.06841503\n",
      " 0.25600299 0.10023012 0.04529089 0.14301824]\n",
      "1.0\n",
      "L: 1.1137217207729082\n",
      "Z3: [0.05507834 0.00184662 0.08496721 0.01503671 0.23120074 0.06817003\n",
      " 0.26858847 0.08967155 0.04526438 0.14017595]\n",
      "0.9999999999999998\n",
      "L: 1.0662735303120372\n",
      "Z3: [0.05070844 0.00133165 0.08406365 0.01259908 0.2425552  0.06827005\n",
      " 0.27907533 0.07914929 0.04554512 0.13670219]\n",
      "1.0\n",
      "L: 1.0236817988828277\n",
      "Z3: [0.04632383 0.0009732  0.08281731 0.01054448 0.25492047 0.06850326\n",
      " 0.28681192 0.06949325 0.04618878 0.13342349]\n",
      "1.0000000000000002\n",
      "L: 0.985654855334172\n",
      "Z3: [0.04279251 0.0007106  0.08124841 0.00880962 0.26676934 0.06906821\n",
      " 0.29368169 0.06033908 0.04694309 0.12963744]\n",
      "1.0000000000000002\n",
      "L: 0.9516095748215134\n",
      "Z3: [0.03903862 0.00053184 0.07954246 0.00739867 0.27837302 0.06983111\n",
      " 0.29782171 0.05263374 0.04809888 0.12672995]\n",
      "0.9999999999999999\n",
      "L: 0.9210532153800988\n",
      "Z3: [0.03638202 0.00039464 0.07770101 0.00619369 0.28789146 0.0708777\n",
      " 0.30328429 0.04531066 0.04902507 0.12293945]\n",
      "1.0\n",
      "L: 0.8933414848414855\n",
      "Z3: [0.03319153 0.00030659 0.07604628 0.00529149 0.29668809 0.07254316\n",
      " 0.30414887 0.03991487 0.05072127 0.12114785]\n",
      "1.0000000000000002\n",
      "L: 0.8681133387409006\n",
      "Z3: [3.13912863e-02 2.29414609e-04 7.42906423e-02 4.42107379e-03\n",
      " 3.02835769e-01 7.37338748e-02 3.10987008e-01 3.40593782e-02\n",
      " 5.12180578e-02 1.16833495e-01]\n",
      "0.9999999999999998\n",
      "L: 0.844828448118781\n",
      "Z3: [2.86683229e-02 1.89577220e-04 7.31450064e-02 3.94908398e-03\n",
      " 3.08305793e-01 7.74372129e-02 3.05527822e-01 3.12213697e-02\n",
      " 5.40392566e-02 1.17516554e-01]\n",
      "1.0\n",
      "L: 0.8233797186444832\n",
      "Z3: [2.75679211e-02 1.37226030e-04 7.14806337e-02 3.16194995e-03\n",
      " 3.12122410e-01 7.66317234e-02 3.21051533e-01 2.55452982e-02\n",
      " 5.23110464e-02 1.09990258e-01]\n",
      "0.9999999999999999\n",
      "L: 0.8033539760203936\n",
      "Z3: [2.54335639e-02 1.30667035e-04 7.14136100e-02 3.24355556e-03\n",
      " 3.12943239e-01 8.72966303e-02 2.95361527e-01 2.67035055e-02\n",
      " 5.92697898e-02 1.18203912e-01]\n",
      "1.0000000000000002\n",
      "L: 0.7853594385387849\n",
      "Z3: [2.41876181e-02 7.75791860e-05 6.88642198e-02 2.05790756e-03\n",
      " 3.18423902e-01 7.42665731e-02 3.48744651e-01 1.76424128e-02\n",
      " 4.87335531e-02 9.70015828e-02]\n",
      "1.0\n",
      "L: 0.7702637149842418\n",
      "Z3: [2.39970117e-02 1.17806156e-04 7.08981168e-02 3.63096525e-03\n",
      " 3.00802969e-01 1.17128310e-01 2.43741819e-01 3.06297250e-02\n",
      " 7.40142470e-02 1.35039029e-01]\n",
      "0.9999999999999999\n",
      "L: 0.7663983514679069\n",
      "Z3: [1.80253582e-02 2.86664082e-05 6.06864305e-02 7.80241001e-04\n",
      " 3.13734876e-01 4.83836839e-02 4.59611658e-01 7.35812498e-03\n",
      " 3.04364883e-02 6.09544724e-02]\n",
      "1.0000000000000002\n",
      "L: 0.8008397519226343\n",
      "\n"
     ]
    }
   ],
   "source": [
    "\n",
    "NN = ScratchSimpleNeuralNetrowkClassifier(n_nodes1=400, n_nodes2=200, n_nodes3=10)\n",
    "\n",
    "NN.fit(Xt_train, yt_train)"
   ]
  },
  {
   "cell_type": "code",
   "execution_count": 125,
   "metadata": {},
   "outputs": [
    {
     "data": {
      "text/plain": [
       "array([0., 0., 0., 0., 1., 0., 0., 0., 0., 0.])"
      ]
     },
     "execution_count": 125,
     "metadata": {},
     "output_type": "execute_result"
    }
   ],
   "source": [
    "yt_train[0]"
   ]
  },
  {
   "cell_type": "code",
   "execution_count": 130,
   "metadata": {},
   "outputs": [
    {
     "data": {
      "text/plain": [
       "[<matplotlib.lines.Line2D at 0x1a69074d30>]"
      ]
     },
     "execution_count": 130,
     "metadata": {},
     "output_type": "execute_result"
    },
    {
     "data": {
      "image/png": "[encoded data removed]",
      "text/plain": [
       "<Figure size 432x288 with 1 Axes>"
      ]
     },
     "metadata": {
      "needs_background": "light"
     },
     "output_type": "display_data"
    }
   ],
   "source": [
    "plt.plot(NN.L)"
   ]
  },
  {
   "cell_type": "markdown",
   "metadata": {},
   "source": [
    "### バッチありクラス"
   ]
  },
  {
   "cell_type": "code",
   "execution_count": 224,
   "metadata": {
    "code_folding": []
   },
   "outputs": [],
   "source": [
    "class ScratchSimpleNeuralNetrowkClassifier():\n",
    "    \"\"\"\n",
    "    シンプルな三層ニューラルネットワーク分類器\n",
    "\n",
    "    Parameters\n",
    "    ----------\n",
    "\n",
    "    Attributes\n",
    "    ----------\n",
    "    \"\"\"\n",
    "\n",
    "    def __init__(self, n_nodes1, n_nodes2, n_nodes3, itr=1000, verbose=True, alpha=0.00001, sigma=0.01, b_size=20):\n",
    "        self.verbose = verbose\n",
    "        self.itr = itr\n",
    "        self.alpha = alpha\n",
    "        self.sigma = sigma\n",
    "        self.n_nodes1 = n_nodes1\n",
    "        self.n_nodes2 = n_nodes2\n",
    "        self.n_nodes3 = n_nodes3\n",
    "        self.b_size = b_size\n",
    "        self.L = []\n",
    "        \n",
    "        pass\n",
    "\n",
    "    def fit(self, X, y, X_val=None, y_val=None):\n",
    "        \"\"\"\n",
    "        ニューラルネットワーク分類器を学習する。\n",
    "\n",
    "        Parameters\n",
    "        ----------\n",
    "        X : 次の形のndarray, shape (n_samples, n_features)\n",
    "            訓練用データの特徴量\n",
    "        y : 次の形のndarray, shape (n_samples, )\n",
    "            訓練用データの正解値\n",
    "        X_val : 次の形のndarray, shape (n_samples, n_features)\n",
    "            検証用データの特徴量\n",
    "        y_val : 次の形のndarray, shape (n_samples, )\n",
    "            検証用データの正解値\n",
    "        \"\"\"\n",
    "        #初期化\n",
    "        n_features = X.shape[1]\n",
    "        W1 = sigma * np.random.randn(n_features, self.n_nodes1) \n",
    "        W2 = sigma * np.random.randn(self.n_nodes1, self.n_nodes2)\n",
    "        W3 = sigma * np.random.randn(self.n_nodes2, self.n_nodes3)\n",
    "        B1 = sigma * np.random.randn(1, self.n_nodes1) \n",
    "        B2 = sigma * np.random.randn(1, self.n_nodes2) \n",
    "        B3 = sigma * np.random.randn(1, self.n_nodes3) \n",
    "        Z3 = np.zeros((self.b_size, self.n_nodes3), dtype=float)\n",
    "        LB3 = np.zeros((self.n_nodes3,),dtype=float)\n",
    "        LB2 = np.zeros((self.n_nodes2,),dtype=float)\n",
    "        LB1 = np.zeros((self.n_nodes1,),dtype=float)\n",
    "        \n",
    "        #ミニバッチ\n",
    "        \n",
    "        itr_count = 0\n",
    "        for _ in range(self.itr):\n",
    "            if itr_count%10==0:\n",
    "                print(itr_count,\">\", end=\"\")\n",
    "            Lbatch = np.array([])\n",
    "            \n",
    "            get_mini_batch = GetMiniBatch(X, y, batch_size=self.b_size)\n",
    "            for mini_X_train, mini_y_train in get_mini_batch:\n",
    "            \n",
    "                #１層目\n",
    "                XW1 = np.dot(mini_X_train, W1)\n",
    "                A1 = XW1+B1\n",
    "                Z1 = np.tanh(A1)                                                 #ハイパボリックタンジェント関数\n",
    "\n",
    "                #２層目\n",
    "                XW2 = np.dot(Z1, W2)\n",
    "                A2 = XW2+B2\n",
    "                Z2 = np.tanh(A2)                                                 #ハイパボリックタンジェント関数\n",
    "\n",
    "                #３層目\n",
    "                XW3 = np.dot(Z2, W3)\n",
    "                A3 = XW3+B3\n",
    "                for i in range(self.b_size):\n",
    "                        Z3[i] = np.exp(A3[i]) / np.exp(A3[i]).sum()   #ソフトマックス関数\n",
    "\n",
    "                \"\"\"バックプロパゲーション\n",
    "                \"\"\"\n",
    "                #３層目\n",
    "                LA3 = Z3 - mini_y_train\n",
    "                LB3 = np.sum(LA3, axis=0)\n",
    "                LW3 = np.dot(Z2.T, LA3)\n",
    "                LZ2 = np.dot(LA3, W3.T)\n",
    "\n",
    "                #２層目\n",
    "                LA2 = LZ2 * (1-np.tanh(A2)**2) \n",
    "                LB2 = np.sum(LA2, axis=0)\n",
    "                LW2 = np.dot(Z1.T, LA2)\n",
    "                LZ1 = np.dot(LA2, W2.T)\n",
    "\n",
    "                #１層目\n",
    "                LA1 = LZ1 * (1- np.tanh(A1)**2)\n",
    "                LB1 = np.sum(LA1, axis=0)\n",
    "                LW1 = np.dot(mini_X_train.T, LA1)\n",
    "\n",
    "                \"\"\"更新式\n",
    "                \"\"\"\n",
    "                W1 = W1 - self.alpha*LW1\n",
    "                W2 = W2 - self.alpha*LW2\n",
    "                W3 = W3 - self.alpha*LW3\n",
    "                B1 = B1 - self.alpha*LB1\n",
    "                B2 = B2 - self.alpha*LB2\n",
    "                B3 = B3 - self.alpha*LB3\n",
    "\n",
    "                Ltmp = 0\n",
    "                for i in range(self.b_size):\n",
    "                    Ltmp += np.sum(mini_y_train[i] * np.log(Z3[i]))\n",
    "                Lbatch = np.append(Lbatch, (Ltmp/ self.b_size) * -1)\n",
    "                #print(\"L:\", self.L[-1])\n",
    "                \n",
    "            self.L.append(Lbatch.mean())    \n",
    "            itr_count += 1\n",
    "            \n",
    "        self.w1 = W1\n",
    "        self.w2 = W2\n",
    "        self.w3 = W3\n",
    "        self.b1 = B1\n",
    "        self.b2 = B2\n",
    "        self.b3 = B3\n",
    "        self.z3 = Z3\n",
    "\n",
    "        \n",
    "        if self.verbose:\n",
    "            #verboseをTrueにした際は学習過程などを出力する\n",
    "            print()\n",
    "        pass\n",
    "\n",
    "    def predict(self, Xt):\n",
    "        \"\"\"\n",
    "        ニューラルネットワーク分類器を使い推定する。\n",
    "\n",
    "        Parameters\n",
    "        ----------\n",
    "        X : 次の形のndarray, shape (n_samples, n_features)\n",
    "            サンプル\n",
    "\n",
    "        Returns\n",
    "        -------\n",
    "            次の形のndarray, shape (n_samples, 1)\n",
    "            推定結果\n",
    "        \"\"\"\n",
    "        Z3 = np.zeros((Xt.shape[0], self.n_nodes3), dtype=float)\n",
    "        \n",
    "        #１層目\n",
    "        XW1 = np.dot(Xt, self.w1)\n",
    "        A1 = XW1+ self.b1\n",
    "        Z1 = np.tanh(A1)\n",
    "\n",
    "        #２層目\n",
    "        XW2 = np.dot(Z1, self.w2)\n",
    "        A2 = XW2 + self.b2\n",
    "        Z2 = np.tanh(A2)\n",
    "\n",
    "        #３層目\n",
    "        XW3 = np.dot(Z2, self.w3)\n",
    "        A3 = XW3 + self.b3\n",
    "        for i in range(Xt.shape[0]):\n",
    "                Z3[i] = np.exp(A3[i]) / np.exp(A3[i]).sum()   #ソフトマックス関数\n",
    "        \n",
    "        return Z3"
   ]
  },
  {
   "cell_type": "markdown",
   "metadata": {},
   "source": [
    "#### クラスのデバッグ"
   ]
  },
  {
   "cell_type": "code",
   "execution_count": 158,
   "metadata": {},
   "outputs": [
    {
     "name": "stdout",
     "output_type": "stream",
     "text": [
      "0 >100 >200 >300 >400 >500 >600 >700 >800 >900 >1000 >1100 >1200 >1300 >1400 >1500 >1600 >1700 >1800 >1900 >2000 >2100 >2200 >2300 >\n"
     ]
    }
   ],
   "source": [
    "NN = ScratchSimpleNeuralNetrowkClassifier(n_nodes1=400, n_nodes2=200, n_nodes3=10)\n",
    "\n",
    "NN.fit(Xt_train, yt_train)"
   ]
  },
  {
   "cell_type": "code",
   "execution_count": 139,
   "metadata": {},
   "outputs": [
    {
     "data": {
      "text/plain": [
       "[<matplotlib.lines.Line2D at 0x1a6a3cf470>]"
      ]
     },
     "execution_count": 139,
     "metadata": {},
     "output_type": "execute_result"
    },
    {
     "data": {
      "image/png": "[encoded data removed]",
      "text/plain": [
       "<Figure size 432x288 with 1 Axes>"
      ]
     },
     "metadata": {
      "needs_background": "light"
     },
     "output_type": "display_data"
    }
   ],
   "source": [
    "#itr=50 batchsize=1000\n",
    "plt.plot(NN.L)"
   ]
  },
  {
   "cell_type": "code",
   "execution_count": 140,
   "metadata": {},
   "outputs": [
    {
     "name": "stdout",
     "output_type": "stream",
     "text": [
      "[2.302609159548342, 2.302609105492969, 2.302608092215036, 2.3026061833465397, 2.3026034736163083, 2.302600088390919, 2.3025961830705977, 2.3025919423423056, 2.302587579292658, 2.302583334383883, 2.3025794742964725, 2.3025762906425893, 2.3025740985550245, 2.3025732351565904, 2.3025740579156433, 2.302576942893597, 2.302582282890899, 2.3025904854983104, 2.302601971060603, 2.3026171705603655]\n"
     ]
    }
   ],
   "source": [
    "print(NN.L[0:20])"
   ]
  },
  {
   "cell_type": "code",
   "execution_count": 153,
   "metadata": {},
   "outputs": [
    {
     "data": {
      "text/plain": [
       "[<matplotlib.lines.Line2D at 0x1a389ae860>]"
      ]
     },
     "execution_count": 153,
     "metadata": {},
     "output_type": "execute_result"
    },
    {
     "data": {
      "image/png": "[encoded data removed]",
      "text/plain": [
       "<Figure size 432x288 with 1 Axes>"
      ]
     },
     "metadata": {
      "needs_background": "light"
     },
     "output_type": "display_data"
    }
   ],
   "source": [
    "#itr=100 batchsize=100\n",
    "plt.plot(NN.L)"
   ]
  },
  {
   "cell_type": "code",
   "execution_count": 156,
   "metadata": {},
   "outputs": [
    {
     "data": {
      "text/plain": [
       "[<matplotlib.lines.Line2D at 0x1a585f94e0>]"
      ]
     },
     "execution_count": 156,
     "metadata": {},
     "output_type": "execute_result"
    },
    {
     "data": {
      "image/png": "[encoded data removed]",
      "text/plain": [
       "<Figure size 432x288 with 1 Axes>"
      ]
     },
     "metadata": {
      "needs_background": "light"
     },
     "output_type": "display_data"
    }
   ],
   "source": [
    "#itr=100 batchsize=20\n",
    "plt.plot(NN.L)"
   ]
  },
  {
   "cell_type": "code",
   "execution_count": 161,
   "metadata": {},
   "outputs": [
    {
     "data": {
      "text/plain": [
       "[<matplotlib.lines.Line2D at 0x1a57c5c080>]"
      ]
     },
     "execution_count": 161,
     "metadata": {},
     "output_type": "execute_result"
    },
    {
     "data": {
      "image/png": "[encoded data removed]",
      "text/plain": [
       "<Figure size 1440x720 with 1 Axes>"
      ]
     },
     "metadata": {
      "needs_background": "light"
     },
     "output_type": "display_data"
    }
   ],
   "source": [
    "#itr=1000 batchsize=20\n",
    "plt.figure(figsize=(20,10))\n",
    "plt.plot(NN.L)"
   ]
  },
  {
   "cell_type": "code",
   "execution_count": 167,
   "metadata": {},
   "outputs": [
    {
     "name": "stdout",
     "output_type": "stream",
     "text": [
      "0 >100 >200 >300 >400 >500 >600 >700 >800 >900 >1000 >1100 >1200 >1300 >1400 >1500 >1600 >1700 >1800 >1900 >2000 >2100 >2200 >2300 >\n"
     ]
    }
   ],
   "source": [
    "NN2 = ScratchSimpleNeuralNetrowkClassifier(\n",
    "    n_nodes1=400, n_nodes2=200, n_nodes3=10, itr=50, b_size=20, alpha=0.0000001)\n",
    "\n",
    "NN2.fit(Xt_train, yt_train)"
   ]
  },
  {
   "cell_type": "code",
   "execution_count": 164,
   "metadata": {},
   "outputs": [
    {
     "data": {
      "text/plain": [
       "[<matplotlib.lines.Line2D at 0x1a584b5a58>]"
      ]
     },
     "execution_count": 164,
     "metadata": {},
     "output_type": "execute_result"
    },
    {
     "data": {
      "image/png": "[encoded data removed]",
      "text/plain": [
       "<Figure size 432x288 with 1 Axes>"
      ]
     },
     "metadata": {
      "needs_background": "light"
     },
     "output_type": "display_data"
    }
   ],
   "source": [
    "plt.plot(NN2.L)"
   ]
  },
  {
   "cell_type": "code",
   "execution_count": 166,
   "metadata": {},
   "outputs": [
    {
     "data": {
      "text/plain": [
       "[<matplotlib.lines.Line2D at 0x1a77552828>]"
      ]
     },
     "execution_count": 166,
     "metadata": {},
     "output_type": "execute_result"
    },
    {
     "data": {
      "image/png": "[encoded data removed]",
      "text/plain": [
       "<Figure size 432x288 with 1 Axes>"
      ]
     },
     "metadata": {
      "needs_background": "light"
     },
     "output_type": "display_data"
    }
   ],
   "source": [
    "#itr=200, b_size=20, alpha=0.0000001\n",
    "plt.plot(NN2.L)"
   ]
  },
  {
   "cell_type": "code",
   "execution_count": 168,
   "metadata": {},
   "outputs": [
    {
     "data": {
      "text/plain": [
       "[<matplotlib.lines.Line2D at 0x1a5d644cf8>]"
      ]
     },
     "execution_count": 168,
     "metadata": {},
     "output_type": "execute_result"
    },
    {
     "data": {
      "image/png": "[encoded data removed]",
      "text/plain": [
       "<Figure size 432x288 with 1 Axes>"
      ]
     },
     "metadata": {
      "needs_background": "light"
     },
     "output_type": "display_data"
    }
   ],
   "source": [
    "#itr=50, b_size=20, alpha=0.0000001\n",
    "plt.plot(NN2.L)"
   ]
  },
  {
   "cell_type": "code",
   "execution_count": 172,
   "metadata": {},
   "outputs": [
    {
     "name": "stdout",
     "output_type": "stream",
     "text": [
      "0 >\n"
     ]
    }
   ],
   "source": [
    "NN3 = ScratchSimpleNeuralNetrowkClassifier(\n",
    "    n_nodes1=400, n_nodes2=200, n_nodes3=10, itr=100, b_size=48000, alpha=0.0000001)\n",
    "\n",
    "NN3.fit(Xt_train, yt_train)"
   ]
  },
  {
   "cell_type": "code",
   "execution_count": 171,
   "metadata": {},
   "outputs": [
    {
     "data": {
      "text/plain": [
       "[<matplotlib.lines.Line2D at 0x1a579c45f8>]"
      ]
     },
     "execution_count": 171,
     "metadata": {},
     "output_type": "execute_result"
    },
    {
     "data": {
      "image/png": "[encoded data removed]",
      "text/plain": [
       "<Figure size 432x288 with 1 Axes>"
      ]
     },
     "metadata": {
      "needs_background": "light"
     },
     "output_type": "display_data"
    }
   ],
   "source": [
    "#itr=50\n",
    "plt.plot(NN3.L)"
   ]
  },
  {
   "cell_type": "code",
   "execution_count": 173,
   "metadata": {},
   "outputs": [
    {
     "data": {
      "text/plain": [
       "[<matplotlib.lines.Line2D at 0x1a5989dda0>]"
      ]
     },
     "execution_count": 173,
     "metadata": {},
     "output_type": "execute_result"
    },
    {
     "data": {
      "image/png": "[encoded data removed]",
      "text/plain": [
       "<Figure size 432x288 with 1 Axes>"
      ]
     },
     "metadata": {
      "needs_background": "light"
     },
     "output_type": "display_data"
    }
   ],
   "source": [
    "#itr=100\n",
    "plt.plot(NN3.L)"
   ]
  },
  {
   "cell_type": "code",
   "execution_count": 175,
   "metadata": {},
   "outputs": [
    {
     "name": "stdout",
     "output_type": "stream",
     "text": [
      "0 >10 >20 >30 >40 >\n"
     ]
    },
    {
     "data": {
      "text/plain": [
       "[<matplotlib.lines.Line2D at 0x1a771b1470>]"
      ]
     },
     "execution_count": 175,
     "metadata": {},
     "output_type": "execute_result"
    },
    {
     "data": {
      "image/png": "[encoded data removed]",
      "text/plain": [
       "<Figure size 432x288 with 1 Axes>"
      ]
     },
     "metadata": {
      "needs_background": "light"
     },
     "output_type": "display_data"
    }
   ],
   "source": [
    "NN4 = ScratchSimpleNeuralNetrowkClassifier(\n",
    "    n_nodes1=400, n_nodes2=200, n_nodes3=10, itr=50, b_size=20, alpha=0.0000001)\n",
    "\n",
    "NN4.fit(Xt_train, yt_train)\n",
    "plt.plot(NN4.L)"
   ]
  },
  {
   "cell_type": "markdown",
   "metadata": {},
   "source": [
    "#### ようやく収束\n",
    "\n",
    "収束しなかった原因\n",
    "- 学習率が高かった\n",
    "- 損失関数のYラベルをバッチのYラベルと別のものを参照していた"
   ]
  },
  {
   "cell_type": "code",
   "execution_count": 192,
   "metadata": {},
   "outputs": [
    {
     "name": "stdout",
     "output_type": "stream",
     "text": [
      "0 >10 >20 >\n"
     ]
    },
    {
     "data": {
      "text/plain": [
       "[<matplotlib.lines.Line2D at 0x1a6dba4a58>]"
      ]
     },
     "execution_count": 192,
     "metadata": {},
     "output_type": "execute_result"
    },
    {
     "data": {
      "image/png": "[encoded data removed]",
      "text/plain": [
       "<Figure size 432x288 with 1 Axes>"
      ]
     },
     "metadata": {
      "needs_background": "light"
     },
     "output_type": "display_data"
    }
   ],
   "source": [
    "NN5 = ScratchSimpleNeuralNetrowkClassifier(\n",
    "    n_nodes1=400, n_nodes2=200, n_nodes3=10, itr=30, b_size=20, alpha=0.00001)\n",
    "\n",
    "NN5.fit(Xt_train, yt_train)\n",
    "plt.plot(NN5.L)"
   ]
  },
  {
   "cell_type": "markdown",
   "metadata": {},
   "source": [
    "## 【問題６】学習と推定"
   ]
  },
  {
   "cell_type": "code",
   "execution_count": 225,
   "metadata": {},
   "outputs": [
    {
     "name": "stdout",
     "output_type": "stream",
     "text": [
      "0 >10 >20 >30 >40 >50 >\n"
     ]
    },
    {
     "data": {
      "text/plain": [
       "[<matplotlib.lines.Line2D at 0x1a6b996ef0>]"
      ]
     },
     "execution_count": 225,
     "metadata": {},
     "output_type": "execute_result"
    },
    {
     "data": {
      "image/png": "[encoded data removed]",
      "text/plain": [
       "<Figure size 432x288 with 1 Axes>"
      ]
     },
     "metadata": {
      "needs_background": "light"
     },
     "output_type": "display_data"
    }
   ],
   "source": [
    "NN5 = ScratchSimpleNeuralNetrowkClassifier(\n",
    "    n_nodes1=400, n_nodes2=200, n_nodes3=10, itr=60, b_size=20, alpha=0.00001)\n",
    "\n",
    "NN5.fit(Xt_train, yt_train)\n",
    "plt.plot(NN5.L)"
   ]
  },
  {
   "cell_type": "code",
   "execution_count": 226,
   "metadata": {},
   "outputs": [
    {
     "name": "stdout",
     "output_type": "stream",
     "text": [
      "(12000, 784)\n",
      "(12000, 10)\n",
      "[[4.82904502e-02 7.16857940e-06 5.87616635e-05 1.20024512e-01\n",
      "  1.46808730e-04 7.81515167e-01 1.55096268e-05 1.14826096e-04\n",
      "  4.84227017e-02 1.40409465e-03]\n",
      " [2.95700049e-05 5.32289684e-04 4.43512762e-05 9.15388201e-05\n",
      "  9.75539728e-02 3.65258991e-04 8.05255145e-05 4.24312114e-01\n",
      "  2.14902476e-03 4.74841354e-01]\n",
      " [7.63753010e-06 2.05930434e-01 5.82474623e-04 3.42495913e-02\n",
      "  2.32018819e-03 1.48444153e-03 1.55629428e-05 6.15917425e-01\n",
      "  2.59131574e-02 1.13579087e-01]\n",
      " [3.80208223e-04 7.03156075e-05 5.01768974e-05 1.25725970e-03\n",
      "  1.25534843e-01 2.37753694e-02 8.78924340e-05 4.64689770e-02\n",
      "  5.88515024e-02 7.43523455e-01]\n",
      " [2.27681450e-04 4.15190684e-02 4.04544229e-03 7.82103807e-03\n",
      "  3.20188569e-02 2.36145219e-03 4.70870790e-04 6.82670730e-01\n",
      "  2.06979251e-02 2.08166935e-01]]\n",
      "5\n"
     ]
    }
   ],
   "source": [
    "print(Xt_val.shape)\n",
    "y_pred_raw = NN5.predict(Xt_val)\n",
    "print(y_pred_raw.shape)\n",
    "print(y_pred_raw[0:5])\n",
    "print(np.argmax(y_pred_raw[0]))"
   ]
  },
  {
   "cell_type": "code",
   "execution_count": 227,
   "metadata": {},
   "outputs": [
    {
     "name": "stdout",
     "output_type": "stream",
     "text": [
      "(12000,)\n",
      "[5. 9. 7. 9. 7.]\n"
     ]
    }
   ],
   "source": [
    "y_pred = np.array([])\n",
    "for i in y_pred_raw:\n",
    "    y_pred = np.append(y_pred, np.argmax(i))\n",
    "\n",
    "print(y_pred.shape)\n",
    "print(y_pred[0:5])"
   ]
  },
  {
   "cell_type": "code",
   "execution_count": 228,
   "metadata": {},
   "outputs": [
    {
     "name": "stdout",
     "output_type": "stream",
     "text": [
      "(12000,)\n"
     ]
    },
    {
     "data": {
      "text/plain": [
       "0.8309166666666666"
      ]
     },
     "execution_count": 228,
     "metadata": {},
     "output_type": "execute_result"
    }
   ],
   "source": [
    "yt_val_ = np.array([])\n",
    "for i in yt_val:\n",
    "    yt_val_ = np.append(yt_val_, np.argmax(i))\n",
    "print(yt_val_.shape)\n",
    "metrics.accuracy_score(yt_val_, y_pred)"
   ]
  },
  {
   "cell_type": "code",
   "execution_count": null,
   "metadata": {},
   "outputs": [],
   "source": []
  }
 ],
 "metadata": {
  "kernelspec": {
   "display_name": "Python 3",
   "language": "python",
   "name": "python3"
  },
  "language_info": {
   "codemirror_mode": {
    "name": "ipython",
    "version": 3
   },
   "file_extension": ".py",
   "mimetype": "text/x-python",
   "name": "python",
   "nbconvert_exporter": "python",
   "pygments_lexer": "ipython3",
   "version": "3.7.2"
  },
  "toc": {
   "base_numbering": 1,
   "nav_menu": {},
   "number_sections": true,
   "sideBar": true,
   "skip_h1_title": false,
   "title_cell": "Table of Contents",
   "title_sidebar": "Contents",
   "toc_cell": false,
   "toc_position": {
    "height": "calc(100% - 180px)",
    "left": "10px",
    "top": "150px",
    "width": "260px"
   },
   "toc_section_display": true,
   "toc_window_display": true
  },
  "varInspector": {
   "cols": {
    "lenName": 16,
    "lenType": 16,
    "lenVar": 40
   },
   "kernels_config": {
    "python": {
     "delete_cmd_postfix": "",
     "delete_cmd_prefix": "del ",
     "library": "var_list.py",
     "varRefreshCmd": "print(var_dic_list())"
    },
    "r": {
     "delete_cmd_postfix": ") ",
     "delete_cmd_prefix": "rm(",
     "library": "var_list.r",
     "varRefreshCmd": "cat(var_dic_list()) "
    }
   },
   "types_to_exclude": [
    "module",
    "function",
    "builtin_function_or_method",
    "instance",
    "_Feature"
   ],
   "window_display": false
  }
 },
 "nbformat": 4,
 "nbformat_minor": 2
}
