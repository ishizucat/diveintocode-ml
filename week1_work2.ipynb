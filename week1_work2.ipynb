{
 "cells": [
  {
   "cell_type": "markdown",
   "metadata": {},
   "source": [
    "# Week1 授業課題２\n",
    "## 【問題1】富士山を超える最小の折る回数\n"
   ]
  },
  {
   "cell_type": "code",
   "execution_count": 3,
   "metadata": {},
   "outputs": [
    {
     "name": "stdout",
     "output_type": "stream",
     "text": [
      "折り返す回数＝26\n"
     ]
    }
   ],
   "source": [
    "#厚さが「富士山(3776m)」を超えるのは何回紙を折った時か計算\n",
    "\n",
    "P_THICK = 0.00008\n",
    "fold_times = 0\n",
    "total_thickness = P_THICK\n",
    "\n",
    "while True:\n",
    "    if total_thickness >= 3776:\n",
    "        break\n",
    "    \n",
    "    fold_times += 1\n",
    "    total_thickness *= 2\n",
    "\n",
    "print(\"折り返す回数＝\"+str(fold_times))      "
   ]
  },
  {
   "cell_type": "markdown",
   "metadata": {},
   "source": [
    "## 【問題2】任意の厚さに対応した関数を作成"
   ]
  },
  {
   "cell_type": "code",
   "execution_count": 1,
   "metadata": {},
   "outputs": [
    {
     "name": "stdout",
     "output_type": "stream",
     "text": [
      "「最も近い太陽以外の恒星」に到達するためにおる回数: 67回\n"
     ]
    }
   ],
   "source": [
    "def folding_times(thickness, distance):\n",
    "    folding_time = 0\n",
    "    while True:\n",
    "        if thickness > distance:\n",
    "            break\n",
    "        folding_time += 1\n",
    "        thickness *= 2\n",
    "        #print(\"folding_times{},thickness{}\".format(folding_time, thickness))\n",
    "        \n",
    "    return folding_time\n",
    "\n",
    "THICKNESS = 0.00008\n",
    "NEAREST_STAR_DIS = 9500000000000000\n",
    "\n",
    "\n",
    "print(\"「最も近い太陽以外の恒星」に到達するためにおる回数: {}回\".format(folding_times(THICKNESS, NEAREST_STAR_DIS)))\n",
    "\n"
   ]
  },
  {
   "cell_type": "markdown",
   "metadata": {},
   "source": [
    "## 【問題３】必要な紙の長さ\n",
    "長い紙を一方向に折ることを考えた時の折れる回数を求める公式を使用して、実際に折るのに必要な紙の長さを求める\n",
    "$$\n",
    "L = \\frac{\\pi t_0}{6}(2^n + 4)(2^n - 1)\n",
    "$$\n"
   ]
  },
  {
   "cell_type": "code",
   "execution_count": 27,
   "metadata": {},
   "outputs": [
    {
     "name": "stdout",
     "output_type": "stream",
     "text": [
      "384,400,000ｍに届くためには紙を43回折り、紙の長さは3.239276436131184e+21ｍ必要\n",
      "3,776ｍに届くためには紙を26回折り、紙の長さは188,550,712,828.11795ｍ必要\n",
      "9,500,000,000,000,000ｍに届くためには紙を67回折り、紙の長さは9.117752594190907e+35ｍ必要\n"
     ]
    }
   ],
   "source": [
    "def folding_length(thickness, distance):\n",
    "    first_thickness = thickness\n",
    "    folding_time = 0\n",
    "    total_length = 0\n",
    "    while True:\n",
    "        if thickness > distance:\n",
    "            break\n",
    "        folding_time += 1\n",
    "        thickness *= 2\n",
    "        #print(\"folding_times{},thickness{}\".format(folding_time, thickness))\n",
    "    \n",
    "    total_length = 1/6 * 3.14*first_thickness * (2**folding_time + 4)*(2**folding_time - 1)\n",
    "    \n",
    "    return distance, folding_time, total_length\n",
    "\n",
    "THICKNESS = 0.00008\n",
    "\n",
    "MOON = 384400000\n",
    "distance, folding_time, total_length = folding_length(THICKNESS, MOON)\n",
    "print(\"{:,}ｍに届くためには紙を{}回折り、紙の長さは{:,}ｍ必要\" .format(distance, folding_time, total_length))\n",
    "\n",
    "FUJI = 3776\n",
    "distance, folding_time, total_length = folding_length(THICKNESS, FUJI)\n",
    "print(\"{:,}ｍに届くためには紙を{}回折り、紙の長さは{:,}ｍ必要\" .format(distance, folding_time, total_length))\n",
    "\n",
    "KOUSEI = 9500000000000000\n",
    "distance, folding_time, total_length = folding_length(THICKNESS, KOUSEI)\n",
    "print(\"{:,}ｍに届くためには紙を{}回折り、紙の長さは{:,}ｍ必要\" .format(distance, folding_time, total_length))\n",
    "\n"
   ]
  },
  {
   "cell_type": "code",
   "execution_count": null,
   "metadata": {},
   "outputs": [],
   "source": []
  }
 ],
 "metadata": {
  "kernelspec": {
   "display_name": "Python 3",
   "language": "python",
   "name": "python3"
  },
  "language_info": {
   "codemirror_mode": {
    "name": "ipython",
    "version": 3
   },
   "file_extension": ".py",
   "mimetype": "text/x-python",
   "name": "python",
   "nbconvert_exporter": "python",
   "pygments_lexer": "ipython3",
   "version": "3.7.2"
  }
 },
 "nbformat": 4,
 "nbformat_minor": 2
}
