{
 "cells": [
  {
   "cell_type": "markdown",
   "metadata": {},
   "source": [
    "# Week1 授業課題３\n",
    "## 【問題】栗まんじゅうが太陽系を覆う日\n",
    "\n",
    "ふりかけると5分で２倍になる「バイバイン」をまんじゅうにふりかけると、何分で太陽系を覆うか計算する\n",
    "\n",
    "\n",
    "なお、「5分で２倍」の解釈について、より連続的に捉え、1分ごと1.1486...倍になると想定した。"
   ]
  },
  {
   "cell_type": "code",
   "execution_count": 2,
   "metadata": {},
   "outputs": [
    {
     "name": "stdout",
     "output_type": "stream",
     "text": [
      "太陽系の体積＝3.812590971970916e+29 立方キロメートル\n",
      "太陽系を覆う分数＝459分\n"
     ]
    }
   ],
   "source": [
    "import math\n",
    "\n",
    "r_km = 4498252900 #太陽系の半径\n",
    "vol_km = 4/3*(math.pi)*(r_km**3) #太陽系の体積\n",
    "print(\"太陽系の体積＝{} 立方キロメートル\".format(vol_km))\n",
    "\n",
    "object_r_km = 0.00002 #対象物体の半径\n",
    "object_vol_km = 4/3*math.pi*object_r_km**3\n",
    "\n",
    "baibai_count = 0\n",
    "baibai_vol = 100 #object_vol_km\n",
    "baibai_vol_list = [baibai_vol,]\n",
    "\n",
    "while True:\n",
    "    if baibai_vol > vol_km:\n",
    "        break\n",
    "    baibai_count += 1\n",
    "    baibai_vol = baibai_vol * 1.148698354997035  #5分で２倍になる時の1分での増え方\n",
    "    #baibai_vol *= 2\n",
    "    baibai_vol_list.append(baibai_vol)\n",
    "\n",
    "print(\"太陽系を覆う分数＝{}分\".format(baibai_count))\n",
    "#print(baibai_vol_list)"
   ]
  },
  {
   "cell_type": "code",
   "execution_count": 9,
   "metadata": {},
   "outputs": [
    {
     "data": {
      "image/png": "[encoded data removed]",
      "text/plain": [
       "<Figure size 432x288 with 1 Axes>"
      ]
     },
     "metadata": {
      "needs_background": "light"
     },
     "output_type": "display_data"
    }
   ],
   "source": [
    "#関数化\n",
    "import matplotlib.pyplot as plt\n",
    "%matplotlib inline\n",
    "\n",
    "def calc_baibai(volume, radius):\n",
    "    \"\"\"\n",
    "    バイバインを使用した時に振りかけた対象が対象範囲をどれくらいで越えるか計算\n",
    "    引数として、volume=ふりかける対象の容積、radius=空間の半径を\n",
    "    メートル単位で入力する\n",
    "    \"\"\"\n",
    "    object_r_m = radius #対象物体の半径\n",
    "    object_vol_m = 4/3*math.pi*object_r_m**3\n",
    "\n",
    "    baibai_vol = volume #ふりかける対象の容積初期値\n",
    "    baibai_count = 0\n",
    "    baibai_vol_list = [baibai_vol,]\n",
    "\n",
    "    while True:\n",
    "        if baibai_vol > object_vol_m:\n",
    "            break\n",
    "        baibai_count += 1\n",
    "        baibai_vol = baibai_vol * 1.148698354997035  #5分で２倍になる時の1分での増え方\n",
    "        baibai_vol_list.append(baibai_vol)\n",
    "    \n",
    "    return baibai_count, baibai_vol_list\n",
    "\n",
    "manju, manjulist = calc_baibai(100, 4498252900)  #まんじゅうと太陽系の場合\n",
    "\n",
    "plt.title(\"increasing of volume\")\n",
    "plt.xlabel(\"minutes\")\n",
    "plt.ylabel(\"volume[m3]\")\n",
    "plt.plot(manjulist) # 「リスト名」のところにリストの変数名を入れる\n",
    "plt.show()"
   ]
  },
  {
   "cell_type": "code",
   "execution_count": null,
   "metadata": {},
   "outputs": [],
   "source": [
    "="
   ]
  }
 ],
 "metadata": {
  "kernelspec": {
   "display_name": "Python 3",
   "language": "python",
   "name": "python3"
  },
  "language_info": {
   "codemirror_mode": {
    "name": "ipython",
    "version": 3
   },
   "file_extension": ".py",
   "mimetype": "text/x-python",
   "name": "python",
   "nbconvert_exporter": "python",
   "pygments_lexer": "ipython3",
   "version": "3.7.2"
  }
 },
 "nbformat": 4,
 "nbformat_minor": 2
}
