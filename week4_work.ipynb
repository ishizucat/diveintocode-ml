{
 "cells": [
  {
   "cell_type": "markdown",
   "metadata": {},
   "source": [
    "## 信用情報の学習 "
   ]
  },
  {
   "cell_type": "code",
   "execution_count": 1,
   "metadata": {},
   "outputs": [],
   "source": [
    "import numpy as np\n",
    "import matplotlib.pyplot as plt\n",
    "%matplotlib inline\n",
    "import pandas as pd"
   ]
  },
  {
   "cell_type": "markdown",
   "metadata": {},
   "source": [
    "## 【問題1】コンペティション内容の確認\n"
   ]
  },
  {
   "cell_type": "markdown",
   "metadata": {},
   "source": [
    "**何を学習し、何を予測するのか**\n",
    "\n",
    "各特徴量がどう目標値に影響していくのかを学習し、融資を受ける信頼性に関わってくるかを予測する"
   ]
  },
  {
   "cell_type": "markdown",
   "metadata": {},
   "source": [
    "**どのようなファイルを作りKaggleに提出するか**\n",
    "\n",
    "各SK_ID_CURRのテストセットのTARGET変数の確率を予測するデータ"
   ]
  },
  {
   "cell_type": "markdown",
   "metadata": {},
   "source": [
    "**提出されたものはどういった指標値で評価されるのか**\n",
    "\n",
    "予測された確率と観測されたターゲットの間のROC曲線の下の領域で評価されます"
   ]
  },
  {
   "cell_type": "markdown",
   "metadata": {},
   "source": [
    "## 【問題2】学習と検証\n"
   ]
  },
  {
   "cell_type": "code",
   "execution_count": 88,
   "metadata": {},
   "outputs": [],
   "source": [
    "df = pd.read_csv(\"../home-credit-default-risk/application_train.csv\")"
   ]
  },
  {
   "cell_type": "code",
   "execution_count": 4,
   "metadata": {},
   "outputs": [
    {
     "data": {
      "text/plain": [
       "TARGET                         1.000000\n",
       "EXT_SOURCE_3                   0.178919\n",
       "EXT_SOURCE_2                   0.160472\n",
       "EXT_SOURCE_1                   0.155317\n",
       "DAYS_BIRTH                     0.078239\n",
       "REGION_RATING_CLIENT_W_CITY    0.060893\n",
       "REGION_RATING_CLIENT           0.058899\n",
       "DAYS_LAST_PHONE_CHANGE         0.055218\n",
       "DAYS_ID_PUBLISH                0.051457\n",
       "REG_CITY_NOT_WORK_CITY         0.050994\n",
       "FLAG_EMP_PHONE                 0.045982\n",
       "DAYS_EMPLOYED                  0.044932\n",
       "REG_CITY_NOT_LIVE_CITY         0.044395\n",
       "FLAG_DOCUMENT_3                0.044346\n",
       "FLOORSMAX_AVG                  0.044003\n",
       "Name: TARGET, dtype: float64"
      ]
     },
     "execution_count": 4,
     "metadata": {},
     "output_type": "execute_result"
    }
   ],
   "source": [
    "#ターゲットとの相関が高い特徴量を調べる\n",
    "df_s = np.abs(df.corr().iloc[: , 1])\n",
    "df_s.sort_values(ascending = False).head(15)"
   ]
  },
  {
   "cell_type": "code",
   "execution_count": 5,
   "metadata": {},
   "outputs": [
    {
     "data": {
      "text/html": [
       "<div>\n",
       "<style scoped>\n",
       "    .dataframe tbody tr th:only-of-type {\n",
       "        vertical-align: middle;\n",
       "    }\n",
       "\n",
       "    .dataframe tbody tr th {\n",
       "        vertical-align: top;\n",
       "    }\n",
       "\n",
       "    .dataframe thead th {\n",
       "        text-align: right;\n",
       "    }\n",
       "</style>\n",
       "<table border=\"1\" class=\"dataframe\">\n",
       "  <thead>\n",
       "    <tr style=\"text-align: right;\">\n",
       "      <th></th>\n",
       "      <th>DAYS_BIRTH</th>\n",
       "      <th>EXT_SOURCE_3</th>\n",
       "    </tr>\n",
       "  </thead>\n",
       "  <tbody>\n",
       "    <tr>\n",
       "      <th>DAYS_BIRTH</th>\n",
       "      <td>1.000000</td>\n",
       "      <td>-0.205478</td>\n",
       "    </tr>\n",
       "    <tr>\n",
       "      <th>EXT_SOURCE_3</th>\n",
       "      <td>-0.205478</td>\n",
       "      <td>1.000000</td>\n",
       "    </tr>\n",
       "  </tbody>\n",
       "</table>\n",
       "</div>"
      ],
      "text/plain": [
       "              DAYS_BIRTH  EXT_SOURCE_3\n",
       "DAYS_BIRTH      1.000000     -0.205478\n",
       "EXT_SOURCE_3   -0.205478      1.000000"
      ]
     },
     "execution_count": 5,
     "metadata": {},
     "output_type": "execute_result"
    }
   ],
   "source": [
    "#特徴量同士の相関を確認\n",
    "df[[\"DAYS_BIRTH\" , \"EXT_SOURCE_3\"]].corr()"
   ]
  },
  {
   "cell_type": "code",
   "execution_count": 6,
   "metadata": {},
   "outputs": [
    {
     "data": {
      "text/html": [
       "<div>\n",
       "<style scoped>\n",
       "    .dataframe tbody tr th:only-of-type {\n",
       "        vertical-align: middle;\n",
       "    }\n",
       "\n",
       "    .dataframe tbody tr th {\n",
       "        vertical-align: top;\n",
       "    }\n",
       "\n",
       "    .dataframe thead th {\n",
       "        text-align: right;\n",
       "    }\n",
       "</style>\n",
       "<table border=\"1\" class=\"dataframe\">\n",
       "  <thead>\n",
       "    <tr style=\"text-align: right;\">\n",
       "      <th></th>\n",
       "      <th>EXT_SOURCE_3</th>\n",
       "      <th>DAYS_BIRTH</th>\n",
       "      <th>TARGET</th>\n",
       "    </tr>\n",
       "  </thead>\n",
       "  <tbody>\n",
       "    <tr>\n",
       "      <th>0</th>\n",
       "      <td>0.139376</td>\n",
       "      <td>-9461</td>\n",
       "      <td>1</td>\n",
       "    </tr>\n",
       "    <tr>\n",
       "      <th>2</th>\n",
       "      <td>0.729567</td>\n",
       "      <td>-19046</td>\n",
       "      <td>0</td>\n",
       "    </tr>\n",
       "    <tr>\n",
       "      <th>5</th>\n",
       "      <td>0.621226</td>\n",
       "      <td>-16941</td>\n",
       "      <td>0</td>\n",
       "    </tr>\n",
       "    <tr>\n",
       "      <th>6</th>\n",
       "      <td>0.492060</td>\n",
       "      <td>-13778</td>\n",
       "      <td>0</td>\n",
       "    </tr>\n",
       "    <tr>\n",
       "      <th>7</th>\n",
       "      <td>0.540654</td>\n",
       "      <td>-18850</td>\n",
       "      <td>0</td>\n",
       "    </tr>\n",
       "  </tbody>\n",
       "</table>\n",
       "</div>"
      ],
      "text/plain": [
       "   EXT_SOURCE_3  DAYS_BIRTH  TARGET\n",
       "0      0.139376       -9461       1\n",
       "2      0.729567      -19046       0\n",
       "5      0.621226      -16941       0\n",
       "6      0.492060      -13778       0\n",
       "7      0.540654      -18850       0"
      ]
     },
     "execution_count": 6,
     "metadata": {},
     "output_type": "execute_result"
    }
   ],
   "source": [
    "#TARGET及びTARGETと相関の高い特徴量２つを抜き出して欠損値を処理\n",
    "rawdata = df.loc[: , [\"EXT_SOURCE_3\", \"DAYS_BIRTH\", \"TARGET\"]]\n",
    "Xa = rawdata.dropna(how = \"any\")\n",
    "Xa.head()"
   ]
  },
  {
   "cell_type": "code",
   "execution_count": 7,
   "metadata": {},
   "outputs": [],
   "source": [
    "#後のデータ処理のためにターゲット変数を分ける\n",
    "X = Xa.iloc[: , :2]\n",
    "y = Xa.iloc[: , 2]"
   ]
  },
  {
   "cell_type": "code",
   "execution_count": 8,
   "metadata": {},
   "outputs": [],
   "source": [
    "#データセットを分割\n",
    "from sklearn.model_selection import train_test_split\n",
    "\n",
    "X_train , X_test , y_train , y_test = train_test_split(\n",
    "              X , y , test_size = 0.25 , random_state = 0)"
   ]
  },
  {
   "cell_type": "code",
   "execution_count": 9,
   "metadata": {},
   "outputs": [],
   "source": [
    "#標準化処理\n",
    "from sklearn.preprocessing import StandardScaler\n",
    "sc = StandardScaler()\n",
    "sc.fit(X_train)\n",
    "X_train = sc.transform(X_train)\n",
    "X_test = sc.transform(X_test)"
   ]
  },
  {
   "cell_type": "code",
   "execution_count": 10,
   "metadata": {},
   "outputs": [
    {
     "data": {
      "text/plain": [
       "LinearRegression(copy_X=True, fit_intercept=True, n_jobs=1, normalize=False)"
      ]
     },
     "execution_count": 10,
     "metadata": {},
     "output_type": "execute_result"
    }
   ],
   "source": [
    "#線形回帰で学習\n",
    "from sklearn.linear_model import LinearRegression\n",
    "\n",
    "lr = LinearRegression()\n",
    "lr.fit(X_train , y_train)"
   ]
  },
  {
   "cell_type": "code",
   "execution_count": 11,
   "metadata": {},
   "outputs": [],
   "source": [
    "#推測\n",
    "y_test_pred = lr.predict(X_test)\n",
    "y_train_pred = lr.predict(X_train)"
   ]
  },
  {
   "cell_type": "code",
   "execution_count": 12,
   "metadata": {},
   "outputs": [
    {
     "data": {
      "image/png": "[encoded data removed]",
      "text/plain": [
       "<Figure size 432x288 with 1 Axes>"
      ]
     },
     "metadata": {
      "needs_background": "light"
     },
     "output_type": "display_data"
    }
   ],
   "source": [
    "#ROC曲線とAUCによる評価\n",
    "from sklearn import metrics\n",
    "\n",
    "fpr , tpr , thresholds = metrics.roc_curve(y_test , y_test_pred)\n",
    "auc = metrics.auc(fpr, tpr)\n",
    "\n",
    "\n",
    "plt.plot(fpr, tpr, label='ROC curve (area = %.2f)'%auc)\n",
    "plt.legend()\n",
    "plt.title('ROC curve')\n",
    "plt.xlabel('False Positive Rate')\n",
    "plt.ylabel('True Positive Rate')\n",
    "plt.grid(True)"
   ]
  },
  {
   "cell_type": "code",
   "execution_count": 13,
   "metadata": {},
   "outputs": [
    {
     "name": "stdout",
     "output_type": "stream",
     "text": [
      "AUC= 0.6876494011052172\n"
     ]
    }
   ],
   "source": [
    "print(\"AUC=\", auc)"
   ]
  },
  {
   "cell_type": "markdown",
   "metadata": {},
   "source": [
    "## 【問題3】テストデータに対する推定"
   ]
  },
  {
   "cell_type": "code",
   "execution_count": 14,
   "metadata": {},
   "outputs": [],
   "source": [
    "df_test = pd.read_csv(\"../home-credit-default-risk/application_test.csv\")"
   ]
  },
  {
   "cell_type": "code",
   "execution_count": 15,
   "metadata": {},
   "outputs": [
    {
     "data": {
      "text/plain": [
       "(48744, 121)"
      ]
     },
     "execution_count": 15,
     "metadata": {},
     "output_type": "execute_result"
    }
   ],
   "source": [
    "df_test.shape"
   ]
  },
  {
   "cell_type": "code",
   "execution_count": 16,
   "metadata": {},
   "outputs": [
    {
     "data": {
      "text/html": [
       "<div>\n",
       "<style scoped>\n",
       "    .dataframe tbody tr th:only-of-type {\n",
       "        vertical-align: middle;\n",
       "    }\n",
       "\n",
       "    .dataframe tbody tr th {\n",
       "        vertical-align: top;\n",
       "    }\n",
       "\n",
       "    .dataframe thead th {\n",
       "        text-align: right;\n",
       "    }\n",
       "</style>\n",
       "<table border=\"1\" class=\"dataframe\">\n",
       "  <thead>\n",
       "    <tr style=\"text-align: right;\">\n",
       "      <th></th>\n",
       "      <th>SK_ID_CURR</th>\n",
       "      <th>NAME_CONTRACT_TYPE</th>\n",
       "      <th>CODE_GENDER</th>\n",
       "      <th>FLAG_OWN_CAR</th>\n",
       "      <th>FLAG_OWN_REALTY</th>\n",
       "      <th>CNT_CHILDREN</th>\n",
       "      <th>AMT_INCOME_TOTAL</th>\n",
       "      <th>AMT_CREDIT</th>\n",
       "      <th>AMT_ANNUITY</th>\n",
       "      <th>AMT_GOODS_PRICE</th>\n",
       "      <th>...</th>\n",
       "      <th>FLAG_DOCUMENT_18</th>\n",
       "      <th>FLAG_DOCUMENT_19</th>\n",
       "      <th>FLAG_DOCUMENT_20</th>\n",
       "      <th>FLAG_DOCUMENT_21</th>\n",
       "      <th>AMT_REQ_CREDIT_BUREAU_HOUR</th>\n",
       "      <th>AMT_REQ_CREDIT_BUREAU_DAY</th>\n",
       "      <th>AMT_REQ_CREDIT_BUREAU_WEEK</th>\n",
       "      <th>AMT_REQ_CREDIT_BUREAU_MON</th>\n",
       "      <th>AMT_REQ_CREDIT_BUREAU_QRT</th>\n",
       "      <th>AMT_REQ_CREDIT_BUREAU_YEAR</th>\n",
       "    </tr>\n",
       "  </thead>\n",
       "  <tbody>\n",
       "    <tr>\n",
       "      <th>0</th>\n",
       "      <td>100001</td>\n",
       "      <td>Cash loans</td>\n",
       "      <td>F</td>\n",
       "      <td>N</td>\n",
       "      <td>Y</td>\n",
       "      <td>0</td>\n",
       "      <td>135000.0</td>\n",
       "      <td>568800.0</td>\n",
       "      <td>20560.5</td>\n",
       "      <td>450000.0</td>\n",
       "      <td>...</td>\n",
       "      <td>0</td>\n",
       "      <td>0</td>\n",
       "      <td>0</td>\n",
       "      <td>0</td>\n",
       "      <td>0.0</td>\n",
       "      <td>0.0</td>\n",
       "      <td>0.0</td>\n",
       "      <td>0.0</td>\n",
       "      <td>0.0</td>\n",
       "      <td>0.0</td>\n",
       "    </tr>\n",
       "    <tr>\n",
       "      <th>1</th>\n",
       "      <td>100005</td>\n",
       "      <td>Cash loans</td>\n",
       "      <td>M</td>\n",
       "      <td>N</td>\n",
       "      <td>Y</td>\n",
       "      <td>0</td>\n",
       "      <td>99000.0</td>\n",
       "      <td>222768.0</td>\n",
       "      <td>17370.0</td>\n",
       "      <td>180000.0</td>\n",
       "      <td>...</td>\n",
       "      <td>0</td>\n",
       "      <td>0</td>\n",
       "      <td>0</td>\n",
       "      <td>0</td>\n",
       "      <td>0.0</td>\n",
       "      <td>0.0</td>\n",
       "      <td>0.0</td>\n",
       "      <td>0.0</td>\n",
       "      <td>0.0</td>\n",
       "      <td>3.0</td>\n",
       "    </tr>\n",
       "    <tr>\n",
       "      <th>2</th>\n",
       "      <td>100013</td>\n",
       "      <td>Cash loans</td>\n",
       "      <td>M</td>\n",
       "      <td>Y</td>\n",
       "      <td>Y</td>\n",
       "      <td>0</td>\n",
       "      <td>202500.0</td>\n",
       "      <td>663264.0</td>\n",
       "      <td>69777.0</td>\n",
       "      <td>630000.0</td>\n",
       "      <td>...</td>\n",
       "      <td>0</td>\n",
       "      <td>0</td>\n",
       "      <td>0</td>\n",
       "      <td>0</td>\n",
       "      <td>0.0</td>\n",
       "      <td>0.0</td>\n",
       "      <td>0.0</td>\n",
       "      <td>0.0</td>\n",
       "      <td>1.0</td>\n",
       "      <td>4.0</td>\n",
       "    </tr>\n",
       "    <tr>\n",
       "      <th>3</th>\n",
       "      <td>100028</td>\n",
       "      <td>Cash loans</td>\n",
       "      <td>F</td>\n",
       "      <td>N</td>\n",
       "      <td>Y</td>\n",
       "      <td>2</td>\n",
       "      <td>315000.0</td>\n",
       "      <td>1575000.0</td>\n",
       "      <td>49018.5</td>\n",
       "      <td>1575000.0</td>\n",
       "      <td>...</td>\n",
       "      <td>0</td>\n",
       "      <td>0</td>\n",
       "      <td>0</td>\n",
       "      <td>0</td>\n",
       "      <td>0.0</td>\n",
       "      <td>0.0</td>\n",
       "      <td>0.0</td>\n",
       "      <td>0.0</td>\n",
       "      <td>0.0</td>\n",
       "      <td>3.0</td>\n",
       "    </tr>\n",
       "    <tr>\n",
       "      <th>4</th>\n",
       "      <td>100038</td>\n",
       "      <td>Cash loans</td>\n",
       "      <td>M</td>\n",
       "      <td>Y</td>\n",
       "      <td>N</td>\n",
       "      <td>1</td>\n",
       "      <td>180000.0</td>\n",
       "      <td>625500.0</td>\n",
       "      <td>32067.0</td>\n",
       "      <td>625500.0</td>\n",
       "      <td>...</td>\n",
       "      <td>0</td>\n",
       "      <td>0</td>\n",
       "      <td>0</td>\n",
       "      <td>0</td>\n",
       "      <td>NaN</td>\n",
       "      <td>NaN</td>\n",
       "      <td>NaN</td>\n",
       "      <td>NaN</td>\n",
       "      <td>NaN</td>\n",
       "      <td>NaN</td>\n",
       "    </tr>\n",
       "  </tbody>\n",
       "</table>\n",
       "<p>5 rows × 121 columns</p>\n",
       "</div>"
      ],
      "text/plain": [
       "   SK_ID_CURR NAME_CONTRACT_TYPE CODE_GENDER FLAG_OWN_CAR FLAG_OWN_REALTY  \\\n",
       "0      100001         Cash loans           F            N               Y   \n",
       "1      100005         Cash loans           M            N               Y   \n",
       "2      100013         Cash loans           M            Y               Y   \n",
       "3      100028         Cash loans           F            N               Y   \n",
       "4      100038         Cash loans           M            Y               N   \n",
       "\n",
       "   CNT_CHILDREN  AMT_INCOME_TOTAL  AMT_CREDIT  AMT_ANNUITY  AMT_GOODS_PRICE  \\\n",
       "0             0          135000.0    568800.0      20560.5         450000.0   \n",
       "1             0           99000.0    222768.0      17370.0         180000.0   \n",
       "2             0          202500.0    663264.0      69777.0         630000.0   \n",
       "3             2          315000.0   1575000.0      49018.5        1575000.0   \n",
       "4             1          180000.0    625500.0      32067.0         625500.0   \n",
       "\n",
       "              ...             FLAG_DOCUMENT_18 FLAG_DOCUMENT_19  \\\n",
       "0             ...                            0                0   \n",
       "1             ...                            0                0   \n",
       "2             ...                            0                0   \n",
       "3             ...                            0                0   \n",
       "4             ...                            0                0   \n",
       "\n",
       "  FLAG_DOCUMENT_20 FLAG_DOCUMENT_21 AMT_REQ_CREDIT_BUREAU_HOUR  \\\n",
       "0                0                0                        0.0   \n",
       "1                0                0                        0.0   \n",
       "2                0                0                        0.0   \n",
       "3                0                0                        0.0   \n",
       "4                0                0                        NaN   \n",
       "\n",
       "   AMT_REQ_CREDIT_BUREAU_DAY  AMT_REQ_CREDIT_BUREAU_WEEK  \\\n",
       "0                        0.0                         0.0   \n",
       "1                        0.0                         0.0   \n",
       "2                        0.0                         0.0   \n",
       "3                        0.0                         0.0   \n",
       "4                        NaN                         NaN   \n",
       "\n",
       "   AMT_REQ_CREDIT_BUREAU_MON  AMT_REQ_CREDIT_BUREAU_QRT  \\\n",
       "0                        0.0                        0.0   \n",
       "1                        0.0                        0.0   \n",
       "2                        0.0                        1.0   \n",
       "3                        0.0                        0.0   \n",
       "4                        NaN                        NaN   \n",
       "\n",
       "   AMT_REQ_CREDIT_BUREAU_YEAR  \n",
       "0                         0.0  \n",
       "1                         3.0  \n",
       "2                         4.0  \n",
       "3                         3.0  \n",
       "4                         NaN  \n",
       "\n",
       "[5 rows x 121 columns]"
      ]
     },
     "execution_count": 16,
     "metadata": {},
     "output_type": "execute_result"
    }
   ],
   "source": [
    "df_test.head()"
   ]
  },
  {
   "cell_type": "code",
   "execution_count": 17,
   "metadata": {},
   "outputs": [
    {
     "name": "stdout",
     "output_type": "stream",
     "text": [
      "<class 'pandas.core.frame.DataFrame'>\n",
      "Int64Index: 40076 entries, 0 to 48743\n",
      "Data columns (total 3 columns):\n",
      "SK_ID_CURR      40076 non-null int64\n",
      "EXT_SOURCE_3    40076 non-null float64\n",
      "DAYS_BIRTH      40076 non-null int64\n",
      "dtypes: float64(1), int64(2)\n",
      "memory usage: 1.2 MB\n"
     ]
    }
   ],
   "source": [
    "rawdata = df_test.loc[: ,[\"SK_ID_CURR\", \"EXT_SOURCE_3\", \"DAYS_BIRTH\"]]\n",
    "Xa_test_origin = rawdata.dropna(how = \"any\")\n",
    "Xa_test_origin.info()"
   ]
  },
  {
   "cell_type": "code",
   "execution_count": 18,
   "metadata": {},
   "outputs": [],
   "source": [
    "SK_ID_CURR_Dropped = Xa_test_origin[\"SK_ID_CURR\"]"
   ]
  },
  {
   "cell_type": "code",
   "execution_count": 19,
   "metadata": {},
   "outputs": [],
   "source": [
    "Xa_test = Xa_test_origin.drop(\"SK_ID_CURR\" , axis = 1)"
   ]
  },
  {
   "cell_type": "code",
   "execution_count": 20,
   "metadata": {},
   "outputs": [
    {
     "data": {
      "text/plain": [
       "0    100001\n",
       "1    100005\n",
       "2    100013\n",
       "3    100028\n",
       "5    100042\n",
       "Name: SK_ID_CURR, dtype: int64"
      ]
     },
     "execution_count": 20,
     "metadata": {},
     "output_type": "execute_result"
    }
   ],
   "source": [
    "SK_ID_CURR_Dropped.head()"
   ]
  },
  {
   "cell_type": "code",
   "execution_count": 21,
   "metadata": {},
   "outputs": [
    {
     "data": {
      "text/html": [
       "<div>\n",
       "<style scoped>\n",
       "    .dataframe tbody tr th:only-of-type {\n",
       "        vertical-align: middle;\n",
       "    }\n",
       "\n",
       "    .dataframe tbody tr th {\n",
       "        vertical-align: top;\n",
       "    }\n",
       "\n",
       "    .dataframe thead th {\n",
       "        text-align: right;\n",
       "    }\n",
       "</style>\n",
       "<table border=\"1\" class=\"dataframe\">\n",
       "  <thead>\n",
       "    <tr style=\"text-align: right;\">\n",
       "      <th></th>\n",
       "      <th>EXT_SOURCE_3</th>\n",
       "      <th>DAYS_BIRTH</th>\n",
       "    </tr>\n",
       "  </thead>\n",
       "  <tbody>\n",
       "    <tr>\n",
       "      <th>0</th>\n",
       "      <td>0.159520</td>\n",
       "      <td>-19241</td>\n",
       "    </tr>\n",
       "    <tr>\n",
       "      <th>1</th>\n",
       "      <td>0.432962</td>\n",
       "      <td>-18064</td>\n",
       "    </tr>\n",
       "    <tr>\n",
       "      <th>2</th>\n",
       "      <td>0.610991</td>\n",
       "      <td>-20038</td>\n",
       "    </tr>\n",
       "    <tr>\n",
       "      <th>3</th>\n",
       "      <td>0.612704</td>\n",
       "      <td>-13976</td>\n",
       "    </tr>\n",
       "    <tr>\n",
       "      <th>5</th>\n",
       "      <td>0.392774</td>\n",
       "      <td>-18604</td>\n",
       "    </tr>\n",
       "  </tbody>\n",
       "</table>\n",
       "</div>"
      ],
      "text/plain": [
       "   EXT_SOURCE_3  DAYS_BIRTH\n",
       "0      0.159520      -19241\n",
       "1      0.432962      -18064\n",
       "2      0.610991      -20038\n",
       "3      0.612704      -13976\n",
       "5      0.392774      -18604"
      ]
     },
     "execution_count": 21,
     "metadata": {},
     "output_type": "execute_result"
    }
   ],
   "source": [
    "Xa_test.head()"
   ]
  },
  {
   "cell_type": "code",
   "execution_count": 22,
   "metadata": {},
   "outputs": [],
   "source": [
    "#標準化処理\n",
    "\n",
    "from sklearn.preprocessing import StandardScaler\n",
    "sc_test = StandardScaler()\n",
    "sc_test.fit(Xa_test)\n",
    "Xa_test_std = sc_test.transform(Xa_test)"
   ]
  },
  {
   "cell_type": "code",
   "execution_count": 23,
   "metadata": {},
   "outputs": [
    {
     "data": {
      "text/plain": [
       "(40076,)"
      ]
     },
     "execution_count": 23,
     "metadata": {},
     "output_type": "execute_result"
    }
   ],
   "source": [
    "#【問題２】で学習したモデルをテストデータに適用\n",
    "y_test_pred = lr.predict(Xa_test_std)\n",
    "y_test_pred.shape"
   ]
  },
  {
   "cell_type": "code",
   "execution_count": 24,
   "metadata": {},
   "outputs": [],
   "source": [
    "#提出データ作成のために一度DF化\n",
    "SK_ID_CURR_Dropped = pd.DataFrame(data = SK_ID_CURR_Dropped)\n",
    "y_test_pred = pd.DataFrame(data = y_test_pred)\n",
    "\n",
    "subfile = SK_ID_CURR_Dropped.join( y_test_pred)"
   ]
  },
  {
   "cell_type": "markdown",
   "metadata": {},
   "source": [
    "＜不明現象＞\n",
    "\n",
    "DataFrameの結合のところで、下記のようにconcatを使用すると、IDカラムの所々に謎の空行が挿入されてしまう。\n",
    "\n",
    "#sample = pd.concat([SK_ID_CURR_Dropped , y_test_pred] , axis = 1)\n",
    "\n",
    "concatの独自処理なのか、軽く調べてみたところ同様の現象は発見できなかった"
   ]
  },
  {
   "cell_type": "code",
   "execution_count": 25,
   "metadata": {},
   "outputs": [],
   "source": [
    "subfile.to_csv(\"subfile.csv\" )"
   ]
  },
  {
   "cell_type": "markdown",
   "metadata": {},
   "source": [
    "## 【問題4】特徴量エンジニアリング\n"
   ]
  },
  {
   "cell_type": "markdown",
   "metadata": {},
   "source": [
    "【問題２】である程度精度が出たと判断し、試しに特徴量を加えて同様の処理をしてAUCがどう変わるか見てみる。\n",
    "加える特徴量は、相関が比較的高い「EXT_SOURCE_1」と「EXT_SOURCE_2」である。"
   ]
  },
  {
   "cell_type": "code",
   "execution_count": 74,
   "metadata": {},
   "outputs": [
    {
     "data": {
      "text/html": [
       "<div>\n",
       "<style scoped>\n",
       "    .dataframe tbody tr th:only-of-type {\n",
       "        vertical-align: middle;\n",
       "    }\n",
       "\n",
       "    .dataframe tbody tr th {\n",
       "        vertical-align: top;\n",
       "    }\n",
       "\n",
       "    .dataframe thead th {\n",
       "        text-align: right;\n",
       "    }\n",
       "</style>\n",
       "<table border=\"1\" class=\"dataframe\">\n",
       "  <thead>\n",
       "    <tr style=\"text-align: right;\">\n",
       "      <th></th>\n",
       "      <th>EXT_SOURCE_1</th>\n",
       "      <th>EXT_SOURCE_2</th>\n",
       "      <th>EXT_SOURCE_3</th>\n",
       "      <th>DAYS_BIRTH</th>\n",
       "      <th>TARGET</th>\n",
       "    </tr>\n",
       "  </thead>\n",
       "  <tbody>\n",
       "    <tr>\n",
       "      <th>0</th>\n",
       "      <td>0.083037</td>\n",
       "      <td>0.262949</td>\n",
       "      <td>0.139376</td>\n",
       "      <td>-9461</td>\n",
       "      <td>1</td>\n",
       "    </tr>\n",
       "    <tr>\n",
       "      <th>1</th>\n",
       "      <td>0.311267</td>\n",
       "      <td>0.622246</td>\n",
       "      <td>NaN</td>\n",
       "      <td>-16765</td>\n",
       "      <td>0</td>\n",
       "    </tr>\n",
       "    <tr>\n",
       "      <th>2</th>\n",
       "      <td>NaN</td>\n",
       "      <td>0.555912</td>\n",
       "      <td>0.729567</td>\n",
       "      <td>-19046</td>\n",
       "      <td>0</td>\n",
       "    </tr>\n",
       "    <tr>\n",
       "      <th>3</th>\n",
       "      <td>NaN</td>\n",
       "      <td>0.650442</td>\n",
       "      <td>NaN</td>\n",
       "      <td>-19005</td>\n",
       "      <td>0</td>\n",
       "    </tr>\n",
       "    <tr>\n",
       "      <th>4</th>\n",
       "      <td>NaN</td>\n",
       "      <td>0.322738</td>\n",
       "      <td>NaN</td>\n",
       "      <td>-19932</td>\n",
       "      <td>0</td>\n",
       "    </tr>\n",
       "  </tbody>\n",
       "</table>\n",
       "</div>"
      ],
      "text/plain": [
       "   EXT_SOURCE_1  EXT_SOURCE_2  EXT_SOURCE_3  DAYS_BIRTH  TARGET\n",
       "0      0.083037      0.262949      0.139376       -9461       1\n",
       "1      0.311267      0.622246           NaN      -16765       0\n",
       "2           NaN      0.555912      0.729567      -19046       0\n",
       "3           NaN      0.650442           NaN      -19005       0\n",
       "4           NaN      0.322738           NaN      -19932       0"
      ]
     },
     "execution_count": 74,
     "metadata": {},
     "output_type": "execute_result"
    }
   ],
   "source": [
    "rawdata_b = df.loc[: , [\"EXT_SOURCE_1\",\"EXT_SOURCE_2\",\"EXT_SOURCE_3\",\n",
    "                        \"DAYS_BIRTH\", \"TARGET\"]]\n",
    "rawdata_b.head()"
   ]
  },
  {
   "cell_type": "code",
   "execution_count": 75,
   "metadata": {},
   "outputs": [
    {
     "data": {
      "text/plain": [
       "(109589, 5)"
      ]
     },
     "execution_count": 75,
     "metadata": {},
     "output_type": "execute_result"
    }
   ],
   "source": [
    "#欠損値処理\n",
    "Xb = rawdata_b.dropna(how = \"any\")\n",
    "Xb.shape"
   ]
  },
  {
   "cell_type": "code",
   "execution_count": 76,
   "metadata": {},
   "outputs": [],
   "source": [
    "#分割\n",
    "y = Xb.loc[: , \"TARGET\"]\n",
    "Xb = Xb.iloc[: , :4]"
   ]
  },
  {
   "cell_type": "code",
   "execution_count": 77,
   "metadata": {},
   "outputs": [],
   "source": [
    "#前処理\n",
    "X_train , X_test , y_train , y_test = train_test_split(\n",
    "              Xb , y , test_size = 0.25 , random_state = 0)"
   ]
  },
  {
   "cell_type": "code",
   "execution_count": 78,
   "metadata": {},
   "outputs": [],
   "source": [
    "#標準化\n",
    "sc_b = StandardScaler()\n",
    "sc_b.fit(X_train)\n",
    "X_b_std = sc_b.transform(X_train)\n",
    "X_test = sc_b.transform(X_test)"
   ]
  },
  {
   "cell_type": "code",
   "execution_count": 79,
   "metadata": {},
   "outputs": [
    {
     "data": {
      "text/plain": [
       "LinearRegression(copy_X=True, fit_intercept=True, n_jobs=1, normalize=False)"
      ]
     },
     "execution_count": 79,
     "metadata": {},
     "output_type": "execute_result"
    }
   ],
   "source": [
    "#学習\n",
    "\n",
    "lr_b = LinearRegression()\n",
    "lr_b.fit(X_train , y_train)"
   ]
  },
  {
   "cell_type": "code",
   "execution_count": 80,
   "metadata": {},
   "outputs": [],
   "source": [
    "#推定\n",
    "y_test_pred = lr_b.predict(X_test)\n",
    "y_train_pred = lr_b.predict(X_train)"
   ]
  },
  {
   "cell_type": "code",
   "execution_count": 81,
   "metadata": {},
   "outputs": [
    {
     "name": "stdout",
     "output_type": "stream",
     "text": [
      "AUC= 0.7396674850107428\n"
     ]
    },
    {
     "data": {
      "image/png": "[encoded data removed]",
      "text/plain": [
       "<Figure size 432x288 with 1 Axes>"
      ]
     },
     "metadata": {
      "needs_background": "light"
     },
     "output_type": "display_data"
    }
   ],
   "source": [
    "#評価\n",
    "fpr , tpr , thresholds = metrics.roc_curve(y_test , y_test_pred)\n",
    "auc = metrics.auc(fpr, tpr)\n",
    "\n",
    "\n",
    "plt.plot(fpr, tpr, label='ROC curve (area = %.2f)'%auc)\n",
    "plt.legend()\n",
    "plt.title('ROC curve')\n",
    "plt.xlabel('False Positive Rate')\n",
    "plt.ylabel('True Positive Rate')\n",
    "plt.grid(True)\n",
    "print(\"AUC=\", auc)"
   ]
  },
  {
   "cell_type": "markdown",
   "metadata": {},
   "source": [
    "特徴量を加えたことで、AUCの値が上がったことが分かる。では、さらに特徴量を増やすとどうなるか。\n",
    "\n",
    "REGION_RATING_CLIENT_W_CITYとREGION_RATING_CLIENTを加えてみる。"
   ]
  },
  {
   "cell_type": "code",
   "execution_count": 82,
   "metadata": {},
   "outputs": [
    {
     "data": {
      "text/html": [
       "<div>\n",
       "<style scoped>\n",
       "    .dataframe tbody tr th:only-of-type {\n",
       "        vertical-align: middle;\n",
       "    }\n",
       "\n",
       "    .dataframe tbody tr th {\n",
       "        vertical-align: top;\n",
       "    }\n",
       "\n",
       "    .dataframe thead th {\n",
       "        text-align: right;\n",
       "    }\n",
       "</style>\n",
       "<table border=\"1\" class=\"dataframe\">\n",
       "  <thead>\n",
       "    <tr style=\"text-align: right;\">\n",
       "      <th></th>\n",
       "      <th>EXT_SOURCE_1</th>\n",
       "      <th>EXT_SOURCE_2</th>\n",
       "      <th>EXT_SOURCE_3</th>\n",
       "      <th>DAYS_BIRTH</th>\n",
       "      <th>REGION_RATING_CLIENT_W_CITY</th>\n",
       "      <th>REGION_RATING_CLIENT</th>\n",
       "      <th>TARGET</th>\n",
       "    </tr>\n",
       "  </thead>\n",
       "  <tbody>\n",
       "    <tr>\n",
       "      <th>0</th>\n",
       "      <td>0.083037</td>\n",
       "      <td>0.262949</td>\n",
       "      <td>0.139376</td>\n",
       "      <td>-9461</td>\n",
       "      <td>2</td>\n",
       "      <td>2</td>\n",
       "      <td>1</td>\n",
       "    </tr>\n",
       "    <tr>\n",
       "      <th>1</th>\n",
       "      <td>0.311267</td>\n",
       "      <td>0.622246</td>\n",
       "      <td>NaN</td>\n",
       "      <td>-16765</td>\n",
       "      <td>1</td>\n",
       "      <td>1</td>\n",
       "      <td>0</td>\n",
       "    </tr>\n",
       "    <tr>\n",
       "      <th>2</th>\n",
       "      <td>NaN</td>\n",
       "      <td>0.555912</td>\n",
       "      <td>0.729567</td>\n",
       "      <td>-19046</td>\n",
       "      <td>2</td>\n",
       "      <td>2</td>\n",
       "      <td>0</td>\n",
       "    </tr>\n",
       "    <tr>\n",
       "      <th>3</th>\n",
       "      <td>NaN</td>\n",
       "      <td>0.650442</td>\n",
       "      <td>NaN</td>\n",
       "      <td>-19005</td>\n",
       "      <td>2</td>\n",
       "      <td>2</td>\n",
       "      <td>0</td>\n",
       "    </tr>\n",
       "    <tr>\n",
       "      <th>4</th>\n",
       "      <td>NaN</td>\n",
       "      <td>0.322738</td>\n",
       "      <td>NaN</td>\n",
       "      <td>-19932</td>\n",
       "      <td>2</td>\n",
       "      <td>2</td>\n",
       "      <td>0</td>\n",
       "    </tr>\n",
       "  </tbody>\n",
       "</table>\n",
       "</div>"
      ],
      "text/plain": [
       "   EXT_SOURCE_1  EXT_SOURCE_2  EXT_SOURCE_3  DAYS_BIRTH  \\\n",
       "0      0.083037      0.262949      0.139376       -9461   \n",
       "1      0.311267      0.622246           NaN      -16765   \n",
       "2           NaN      0.555912      0.729567      -19046   \n",
       "3           NaN      0.650442           NaN      -19005   \n",
       "4           NaN      0.322738           NaN      -19932   \n",
       "\n",
       "   REGION_RATING_CLIENT_W_CITY  REGION_RATING_CLIENT  TARGET  \n",
       "0                            2                     2       1  \n",
       "1                            1                     1       0  \n",
       "2                            2                     2       0  \n",
       "3                            2                     2       0  \n",
       "4                            2                     2       0  "
      ]
     },
     "execution_count": 82,
     "metadata": {},
     "output_type": "execute_result"
    }
   ],
   "source": [
    "rawdata_c = df.loc[: , [\"EXT_SOURCE_1\",\"EXT_SOURCE_2\",\"EXT_SOURCE_3\",\n",
    "                        \"DAYS_BIRTH\", \"REGION_RATING_CLIENT_W_CITY\", \"REGION_RATING_CLIENT\", \"TARGET\"]]\n",
    "rawdata_c.head()"
   ]
  },
  {
   "cell_type": "code",
   "execution_count": 83,
   "metadata": {},
   "outputs": [
    {
     "data": {
      "text/plain": [
       "(109589, 7)"
      ]
     },
     "execution_count": 83,
     "metadata": {},
     "output_type": "execute_result"
    }
   ],
   "source": [
    "#欠損値処理\n",
    "Xc = rawdata_c.dropna(how = \"any\")\n",
    "Xc.shape"
   ]
  },
  {
   "cell_type": "code",
   "execution_count": 84,
   "metadata": {},
   "outputs": [
    {
     "name": "stdout",
     "output_type": "stream",
     "text": [
      "AUC= 0.7401943332024297\n"
     ]
    },
    {
     "data": {
      "image/png": "[encoded data removed]",
      "text/plain": [
       "<Figure size 432x288 with 1 Axes>"
      ]
     },
     "metadata": {
      "needs_background": "light"
     },
     "output_type": "display_data"
    }
   ],
   "source": [
    "#分割\n",
    "y = Xc.loc[: , \"TARGET\"]\n",
    "Xc = Xc.iloc[: , :6]\n",
    "\n",
    "#前処理\n",
    "X_train , X_test , y_train , y_test = train_test_split(\n",
    "              Xc , y , test_size = 0.25 , random_state = 0)\n",
    "\n",
    "#標準化\n",
    "sc_c = StandardScaler()\n",
    "sc_c.fit(X_train)\n",
    "X_c_std = sc_c.transform(X_train)\n",
    "X_test = sc_c.transform(X_test)\n",
    "\n",
    "#学習\n",
    "lr_c = LinearRegression()\n",
    "lr_c.fit(X_train , y_train)\n",
    "\n",
    "#推定\n",
    "y_test_pred = lr_c.predict(X_test)\n",
    "y_train_pred = lr_c.predict(X_train)\n",
    "\n",
    "#評価\n",
    "fpr , tpr , thresholds = metrics.roc_curve(y_test , y_test_pred)\n",
    "auc = metrics.auc(fpr, tpr)\n",
    "\n",
    "#可視化\n",
    "plt.plot(fpr, tpr, label='ROC curve (area = %.2f)'%auc)\n",
    "plt.legend()\n",
    "plt.title('ROC curve')\n",
    "plt.xlabel('False Positive Rate')\n",
    "plt.ylabel('True Positive Rate')\n",
    "plt.grid(True)\n",
    "print(\"AUC=\", auc)"
   ]
  },
  {
   "cell_type": "markdown",
   "metadata": {},
   "source": [
    "AUC値はさらに上がったが、上がり方が鈍くなってきたことが分かる。"
   ]
  },
  {
   "cell_type": "markdown",
   "metadata": {},
   "source": [
    "### ◇属性の組み合わせを試してみる（特徴量の創出）\n",
    "\n",
    "ここで、いくつか属性を結合してみて、より相関の高い新しい特徴量を創出してみたい。\n",
    "\n",
    "注目は、TARGETと相関の高かったREG_CITY_NOT_WORK_CITYとREG_CITY_NOT_LIVE_CITYである。\n",
    "\n",
    "それぞれ、\n",
    " - REG_CITY_NOT_WORK_CITY：居住地と勤務地が地域レベルで異なる住所の場合、フラグ１\n",
    " - REG_CITY_NOT_LIVE_CITY：居住地と連絡先住所が地域レベルで異なる場合、フラグ１\n",
    " \n",
    " というデータであり、これを単純に足し合わせてREG_CITY_LEVEL（value = [0,1,2]）という特徴量を作る。\n"
   ]
  },
  {
   "cell_type": "code",
   "execution_count": 89,
   "metadata": {
    "scrolled": true
   },
   "outputs": [
    {
     "data": {
      "text/plain": [
       "TARGET                         1.000000\n",
       "EXT_SOURCE_3                   0.178919\n",
       "EXT_SOURCE_2                   0.160472\n",
       "EXT_SOURCE_1                   0.155317\n",
       "DAYS_BIRTH                     0.078239\n",
       "REGION_RATING_CLIENT_W_CITY    0.060893\n",
       "REGION_RATING_CLIENT           0.058899\n",
       "REG_CITY_LEVEL                 0.056526\n",
       "DAYS_LAST_PHONE_CHANGE         0.055218\n",
       "DAYS_ID_PUBLISH                0.051457\n",
       "REG_CITY_NOT_WORK_CITY         0.050994\n",
       "FLAG_EMP_PHONE                 0.045982\n",
       "DAYS_EMPLOYED                  0.044932\n",
       "REG_CITY_NOT_LIVE_CITY         0.044395\n",
       "FLAG_DOCUMENT_3                0.044346\n",
       "Name: TARGET, dtype: float64"
      ]
     },
     "execution_count": 89,
     "metadata": {},
     "output_type": "execute_result"
    }
   ],
   "source": [
    "df[\"REG_CITY_LEVEL\"] = df[\"REG_CITY_NOT_WORK_CITY\"] + df[\"REG_CITY_NOT_LIVE_CITY\"]\n",
    "\n",
    "#改めてターゲットとの相関が高い特徴量を調べる\n",
    "df_s = np.abs(df.corr().iloc[: , 1])\n",
    "df_s.sort_values(ascending = False).head(15)"
   ]
  },
  {
   "cell_type": "markdown",
   "metadata": {},
   "source": [
    "「REG_CITY_NOT_WORK_CITY」と「REG_CITY_NOT_LIVE_CITY」より相関が高い**「REG_CITY_LEVEL」**が新たに作成されたことが分かる。\n",
    "\n",
    "同じ考え方で、「REGION_RATING_CLIENT_W_CITY」と「REGION_RATING_CLIENT」を足し合わせた「SUM_REGION_RATING」も作成する。"
   ]
  },
  {
   "cell_type": "code",
   "execution_count": 90,
   "metadata": {},
   "outputs": [
    {
     "data": {
      "text/plain": [
       "TARGET                         1.000000\n",
       "EXT_SOURCE_3                   0.178919\n",
       "EXT_SOURCE_2                   0.160472\n",
       "EXT_SOURCE_1                   0.155317\n",
       "DAYS_BIRTH                     0.078239\n",
       "REGION_RATING_CLIENT_W_CITY    0.060893\n",
       "SUM_REGION_RATING              0.060639\n",
       "REGION_RATING_CLIENT           0.058899\n",
       "REG_CITY_LEVEL                 0.056526\n",
       "DAYS_LAST_PHONE_CHANGE         0.055218\n",
       "DAYS_ID_PUBLISH                0.051457\n",
       "REG_CITY_NOT_WORK_CITY         0.050994\n",
       "FLAG_EMP_PHONE                 0.045982\n",
       "DAYS_EMPLOYED                  0.044932\n",
       "REG_CITY_NOT_LIVE_CITY         0.044395\n",
       "Name: TARGET, dtype: float64"
      ]
     },
     "execution_count": 90,
     "metadata": {},
     "output_type": "execute_result"
    }
   ],
   "source": [
    "df[\"SUM_REGION_RATING\"] = df[\"REGION_RATING_CLIENT_W_CITY\"] + df[\"REGION_RATING_CLIENT\"]\n",
    "\n",
    "#改めてターゲットとの相関が高い特徴量を調べる\n",
    "df_s = np.abs(df.corr().iloc[: , 1])\n",
    "df_s.sort_values(ascending = False).head(15)"
   ]
  },
  {
   "cell_type": "markdown",
   "metadata": {},
   "source": [
    "おや、今度は新特徴量が生成前の２特徴量より高くならなかった。なぜだろう。単純に足し合わせただけではREGION_RATING_CLIENT_W_CITYの方がTARGETと相関が高い。つまり、より相関の低いREGION_RATING_CLIENT側に新特徴量が引っ張られてしまったからであろう。\n",
    "\n",
    "では、「足す」のではなく、「掛け」てみたらどうなるだろう。"
   ]
  },
  {
   "cell_type": "code",
   "execution_count": 91,
   "metadata": {},
   "outputs": [
    {
     "data": {
      "text/plain": [
       "TARGET                         1.000000\n",
       "EXT_SOURCE_3                   0.178919\n",
       "EXT_SOURCE_2                   0.160472\n",
       "EXT_SOURCE_1                   0.155317\n",
       "DAYS_BIRTH                     0.078239\n",
       "REGION_RATING_CLIENT_W_CITY    0.060893\n",
       "SUM_REGION_RATING              0.060179\n",
       "REGION_RATING_CLIENT           0.058899\n",
       "REG_CITY_LEVEL                 0.056526\n",
       "DAYS_LAST_PHONE_CHANGE         0.055218\n",
       "DAYS_ID_PUBLISH                0.051457\n",
       "REG_CITY_NOT_WORK_CITY         0.050994\n",
       "FLAG_EMP_PHONE                 0.045982\n",
       "DAYS_EMPLOYED                  0.044932\n",
       "REG_CITY_NOT_LIVE_CITY         0.044395\n",
       "Name: TARGET, dtype: float64"
      ]
     },
     "execution_count": 91,
     "metadata": {},
     "output_type": "execute_result"
    }
   ],
   "source": [
    "df[\"SUM_REGION_RATING\"] = df[\"REGION_RATING_CLIENT_W_CITY\"] * df[\"REGION_RATING_CLIENT\"]\n",
    "\n",
    "#改めてターゲットとの相関が高い特徴量を調べる\n",
    "df_s = np.abs(df.corr().iloc[: , 1])\n",
    "df_s.sort_values(ascending = False).head(15)"
   ]
  },
  {
   "cell_type": "markdown",
   "metadata": {},
   "source": [
    "やや、足し合わせた時よりも、さらに相関が低くなってしまった。より負の傾向が増幅されてしまった形となる。\n",
    "\n",
    "そこで、先ほどの**REG_CITY_LEVEL**と**REGION_RATING_CLIENT_W_CITY**を掛け合わせた**「CITY_RATING_LEVEL」**を作ってみよう。"
   ]
  },
  {
   "cell_type": "code",
   "execution_count": 92,
   "metadata": {},
   "outputs": [
    {
     "data": {
      "text/plain": [
       "TARGET                         1.000000\n",
       "EXT_SOURCE_3                   0.178919\n",
       "EXT_SOURCE_2                   0.160472\n",
       "EXT_SOURCE_1                   0.155317\n",
       "DAYS_BIRTH                     0.078239\n",
       "CITY_RATING_LEVEL              0.064078\n",
       "REGION_RATING_CLIENT_W_CITY    0.060893\n",
       "SUM_REGION_RATING              0.060179\n",
       "REGION_RATING_CLIENT           0.058899\n",
       "REG_CITY_LEVEL                 0.056526\n",
       "DAYS_LAST_PHONE_CHANGE         0.055218\n",
       "DAYS_ID_PUBLISH                0.051457\n",
       "REG_CITY_NOT_WORK_CITY         0.050994\n",
       "FLAG_EMP_PHONE                 0.045982\n",
       "DAYS_EMPLOYED                  0.044932\n",
       "Name: TARGET, dtype: float64"
      ]
     },
     "execution_count": 92,
     "metadata": {},
     "output_type": "execute_result"
    }
   ],
   "source": [
    "df[\"CITY_RATING_LEVEL\"] = df[\"REGION_RATING_CLIENT_W_CITY\"] * df[\"REG_CITY_LEVEL\"]\n",
    "\n",
    "#改めてターゲットとの相関が高い特徴量を調べる\n",
    "df_s = np.abs(df.corr().iloc[: , 1])\n",
    "df_s.sort_values(ascending = False).head(15)"
   ]
  },
  {
   "cell_type": "markdown",
   "metadata": {},
   "source": [
    "めでたく、DAYS_BIRTHの次に相関の高い**CITY_RATING_LEVEL**が誕生した。\n",
    "\n",
    "この値を使ってもう一度モデルを検証してみよう。\n",
    "\n",
    "なお、「REGION_RATING_CLIENT」は「CITY_RATING_LEVEL」の創出には使われていないので、この値も使用してOKのはずだ。"
   ]
  },
  {
   "cell_type": "code",
   "execution_count": 93,
   "metadata": {},
   "outputs": [
    {
     "data": {
      "text/html": [
       "<div>\n",
       "<style scoped>\n",
       "    .dataframe tbody tr th:only-of-type {\n",
       "        vertical-align: middle;\n",
       "    }\n",
       "\n",
       "    .dataframe tbody tr th {\n",
       "        vertical-align: top;\n",
       "    }\n",
       "\n",
       "    .dataframe thead th {\n",
       "        text-align: right;\n",
       "    }\n",
       "</style>\n",
       "<table border=\"1\" class=\"dataframe\">\n",
       "  <thead>\n",
       "    <tr style=\"text-align: right;\">\n",
       "      <th></th>\n",
       "      <th>EXT_SOURCE_1</th>\n",
       "      <th>EXT_SOURCE_2</th>\n",
       "      <th>EXT_SOURCE_3</th>\n",
       "      <th>DAYS_BIRTH</th>\n",
       "      <th>CITY_RATING_LEVEL</th>\n",
       "      <th>REGION_RATING_CLIENT</th>\n",
       "      <th>TARGET</th>\n",
       "    </tr>\n",
       "  </thead>\n",
       "  <tbody>\n",
       "    <tr>\n",
       "      <th>0</th>\n",
       "      <td>0.083037</td>\n",
       "      <td>0.262949</td>\n",
       "      <td>0.139376</td>\n",
       "      <td>-9461</td>\n",
       "      <td>0</td>\n",
       "      <td>2</td>\n",
       "      <td>1</td>\n",
       "    </tr>\n",
       "    <tr>\n",
       "      <th>1</th>\n",
       "      <td>0.311267</td>\n",
       "      <td>0.622246</td>\n",
       "      <td>NaN</td>\n",
       "      <td>-16765</td>\n",
       "      <td>0</td>\n",
       "      <td>1</td>\n",
       "      <td>0</td>\n",
       "    </tr>\n",
       "    <tr>\n",
       "      <th>2</th>\n",
       "      <td>NaN</td>\n",
       "      <td>0.555912</td>\n",
       "      <td>0.729567</td>\n",
       "      <td>-19046</td>\n",
       "      <td>0</td>\n",
       "      <td>2</td>\n",
       "      <td>0</td>\n",
       "    </tr>\n",
       "    <tr>\n",
       "      <th>3</th>\n",
       "      <td>NaN</td>\n",
       "      <td>0.650442</td>\n",
       "      <td>NaN</td>\n",
       "      <td>-19005</td>\n",
       "      <td>0</td>\n",
       "      <td>2</td>\n",
       "      <td>0</td>\n",
       "    </tr>\n",
       "    <tr>\n",
       "      <th>4</th>\n",
       "      <td>NaN</td>\n",
       "      <td>0.322738</td>\n",
       "      <td>NaN</td>\n",
       "      <td>-19932</td>\n",
       "      <td>2</td>\n",
       "      <td>2</td>\n",
       "      <td>0</td>\n",
       "    </tr>\n",
       "  </tbody>\n",
       "</table>\n",
       "</div>"
      ],
      "text/plain": [
       "   EXT_SOURCE_1  EXT_SOURCE_2  EXT_SOURCE_3  DAYS_BIRTH  CITY_RATING_LEVEL  \\\n",
       "0      0.083037      0.262949      0.139376       -9461                  0   \n",
       "1      0.311267      0.622246           NaN      -16765                  0   \n",
       "2           NaN      0.555912      0.729567      -19046                  0   \n",
       "3           NaN      0.650442           NaN      -19005                  0   \n",
       "4           NaN      0.322738           NaN      -19932                  2   \n",
       "\n",
       "   REGION_RATING_CLIENT  TARGET  \n",
       "0                     2       1  \n",
       "1                     1       0  \n",
       "2                     2       0  \n",
       "3                     2       0  \n",
       "4                     2       0  "
      ]
     },
     "execution_count": 93,
     "metadata": {},
     "output_type": "execute_result"
    }
   ],
   "source": [
    "rawdata_d = df.loc[: , [\"EXT_SOURCE_1\",\"EXT_SOURCE_2\",\"EXT_SOURCE_3\",\n",
    "                        \"DAYS_BIRTH\", \"CITY_RATING_LEVEL\", \"REGION_RATING_CLIENT\", \"TARGET\"]]\n",
    "rawdata_d.head()"
   ]
  },
  {
   "cell_type": "code",
   "execution_count": 94,
   "metadata": {},
   "outputs": [
    {
     "data": {
      "text/plain": [
       "(109589, 7)"
      ]
     },
     "execution_count": 94,
     "metadata": {},
     "output_type": "execute_result"
    }
   ],
   "source": [
    "#欠損値処理\n",
    "Xd = rawdata_d.dropna(how = \"any\")\n",
    "Xd.shape"
   ]
  },
  {
   "cell_type": "code",
   "execution_count": 95,
   "metadata": {},
   "outputs": [
    {
     "name": "stdout",
     "output_type": "stream",
     "text": [
      "AUC= 0.7399542189791549\n"
     ]
    },
    {
     "data": {
      "image/png": "[encoded data removed]",
      "text/plain": [
       "<Figure size 432x288 with 1 Axes>"
      ]
     },
     "metadata": {
      "needs_background": "light"
     },
     "output_type": "display_data"
    }
   ],
   "source": [
    "#分割\n",
    "y = Xd.loc[: , \"TARGET\"]\n",
    "Xd = Xd.iloc[: , :6]\n",
    "\n",
    "#前処理\n",
    "X_train , X_test , y_train , y_test = train_test_split(\n",
    "              Xd , y , test_size = 0.25 , random_state = 0)\n",
    "\n",
    "#標準化\n",
    "sc_d = StandardScaler()\n",
    "sc_d.fit(X_train)\n",
    "X_d_std = sc_d.transform(X_train)\n",
    "X_test = sc_d.transform(X_test)\n",
    "\n",
    "#学習\n",
    "lr_d = LinearRegression()\n",
    "lr_d.fit(X_train , y_train)\n",
    "\n",
    "#推定\n",
    "y_test_pred = lr_d.predict(X_test)\n",
    "y_train_pred = lr_d.predict(X_train)\n",
    "\n",
    "#評価\n",
    "fpr , tpr , thresholds = metrics.roc_curve(y_test , y_test_pred)\n",
    "auc = metrics.auc(fpr, tpr)\n",
    "\n",
    "#可視化\n",
    "plt.plot(fpr, tpr, label='ROC curve (area = %.2f)'%auc)\n",
    "plt.legend()\n",
    "plt.title('ROC curve')\n",
    "plt.xlabel('False Positive Rate')\n",
    "plt.ylabel('True Positive Rate')\n",
    "plt.grid(True)\n",
    "print(\"AUC=\", auc)"
   ]
  },
  {
   "cell_type": "markdown",
   "metadata": {},
   "source": [
    "逆にスコアが低くなってしまった。\n",
    "\n",
    "REGION_RATING_CLIENT_W_CITYを抜いてしまったからだろうか。\n",
    "\n",
    "REGION_RATING_CLIENT_W_CITYを加えてもう一度試してみる。"
   ]
  },
  {
   "cell_type": "code",
   "execution_count": 96,
   "metadata": {},
   "outputs": [
    {
     "data": {
      "text/html": [
       "<div>\n",
       "<style scoped>\n",
       "    .dataframe tbody tr th:only-of-type {\n",
       "        vertical-align: middle;\n",
       "    }\n",
       "\n",
       "    .dataframe tbody tr th {\n",
       "        vertical-align: top;\n",
       "    }\n",
       "\n",
       "    .dataframe thead th {\n",
       "        text-align: right;\n",
       "    }\n",
       "</style>\n",
       "<table border=\"1\" class=\"dataframe\">\n",
       "  <thead>\n",
       "    <tr style=\"text-align: right;\">\n",
       "      <th></th>\n",
       "      <th>EXT_SOURCE_1</th>\n",
       "      <th>EXT_SOURCE_2</th>\n",
       "      <th>EXT_SOURCE_3</th>\n",
       "      <th>DAYS_BIRTH</th>\n",
       "      <th>CITY_RATING_LEVEL</th>\n",
       "      <th>REGION_RATING_CLIENT_W_CITY</th>\n",
       "      <th>REGION_RATING_CLIENT</th>\n",
       "      <th>TARGET</th>\n",
       "    </tr>\n",
       "  </thead>\n",
       "  <tbody>\n",
       "    <tr>\n",
       "      <th>0</th>\n",
       "      <td>0.083037</td>\n",
       "      <td>0.262949</td>\n",
       "      <td>0.139376</td>\n",
       "      <td>-9461</td>\n",
       "      <td>0</td>\n",
       "      <td>2</td>\n",
       "      <td>2</td>\n",
       "      <td>1</td>\n",
       "    </tr>\n",
       "    <tr>\n",
       "      <th>1</th>\n",
       "      <td>0.311267</td>\n",
       "      <td>0.622246</td>\n",
       "      <td>NaN</td>\n",
       "      <td>-16765</td>\n",
       "      <td>0</td>\n",
       "      <td>1</td>\n",
       "      <td>1</td>\n",
       "      <td>0</td>\n",
       "    </tr>\n",
       "    <tr>\n",
       "      <th>2</th>\n",
       "      <td>NaN</td>\n",
       "      <td>0.555912</td>\n",
       "      <td>0.729567</td>\n",
       "      <td>-19046</td>\n",
       "      <td>0</td>\n",
       "      <td>2</td>\n",
       "      <td>2</td>\n",
       "      <td>0</td>\n",
       "    </tr>\n",
       "    <tr>\n",
       "      <th>3</th>\n",
       "      <td>NaN</td>\n",
       "      <td>0.650442</td>\n",
       "      <td>NaN</td>\n",
       "      <td>-19005</td>\n",
       "      <td>0</td>\n",
       "      <td>2</td>\n",
       "      <td>2</td>\n",
       "      <td>0</td>\n",
       "    </tr>\n",
       "    <tr>\n",
       "      <th>4</th>\n",
       "      <td>NaN</td>\n",
       "      <td>0.322738</td>\n",
       "      <td>NaN</td>\n",
       "      <td>-19932</td>\n",
       "      <td>2</td>\n",
       "      <td>2</td>\n",
       "      <td>2</td>\n",
       "      <td>0</td>\n",
       "    </tr>\n",
       "  </tbody>\n",
       "</table>\n",
       "</div>"
      ],
      "text/plain": [
       "   EXT_SOURCE_1  EXT_SOURCE_2  EXT_SOURCE_3  DAYS_BIRTH  CITY_RATING_LEVEL  \\\n",
       "0      0.083037      0.262949      0.139376       -9461                  0   \n",
       "1      0.311267      0.622246           NaN      -16765                  0   \n",
       "2           NaN      0.555912      0.729567      -19046                  0   \n",
       "3           NaN      0.650442           NaN      -19005                  0   \n",
       "4           NaN      0.322738           NaN      -19932                  2   \n",
       "\n",
       "   REGION_RATING_CLIENT_W_CITY  REGION_RATING_CLIENT  TARGET  \n",
       "0                            2                     2       1  \n",
       "1                            1                     1       0  \n",
       "2                            2                     2       0  \n",
       "3                            2                     2       0  \n",
       "4                            2                     2       0  "
      ]
     },
     "execution_count": 96,
     "metadata": {},
     "output_type": "execute_result"
    }
   ],
   "source": [
    "rawdata_e = df.loc[: , [\"EXT_SOURCE_1\",\"EXT_SOURCE_2\",\"EXT_SOURCE_3\",\n",
    "                        \"DAYS_BIRTH\", \"CITY_RATING_LEVEL\", \"REGION_RATING_CLIENT_W_CITY\",\n",
    "                        \"REGION_RATING_CLIENT\", \"TARGET\"]]\n",
    "rawdata_e.head()"
   ]
  },
  {
   "cell_type": "code",
   "execution_count": 98,
   "metadata": {},
   "outputs": [
    {
     "data": {
      "text/plain": [
       "(109589, 8)"
      ]
     },
     "execution_count": 98,
     "metadata": {},
     "output_type": "execute_result"
    }
   ],
   "source": [
    "#欠損値処理\n",
    "Xe = rawdata_e.dropna(how = \"any\")\n",
    "Xe.shape"
   ]
  },
  {
   "cell_type": "code",
   "execution_count": 99,
   "metadata": {},
   "outputs": [
    {
     "name": "stdout",
     "output_type": "stream",
     "text": [
      "AUC= 0.7401872589157568\n"
     ]
    },
    {
     "data": {
      "image/png": "[encoded data removed]",
      "text/plain": [
       "<Figure size 432x288 with 1 Axes>"
      ]
     },
     "metadata": {
      "needs_background": "light"
     },
     "output_type": "display_data"
    }
   ],
   "source": [
    "#分割\n",
    "y = Xe.loc[: , \"TARGET\"]\n",
    "Xe = Xe.iloc[: , :7]\n",
    "\n",
    "#前処理\n",
    "X_train , X_test , y_train , y_test = train_test_split(\n",
    "              Xe , y , test_size = 0.25 , random_state = 0)\n",
    "\n",
    "#標準化\n",
    "sc_e = StandardScaler()\n",
    "sc_e.fit(X_train)\n",
    "X_e_std = sc_e.transform(X_train)\n",
    "X_test = sc_e.transform(X_test)\n",
    "\n",
    "#学習\n",
    "lr_e = LinearRegression()\n",
    "lr_e.fit(X_train , y_train)\n",
    "\n",
    "#推定\n",
    "y_test_pred = lr_e.predict(X_test)\n",
    "y_train_pred = lr_e.predict(X_train)\n",
    "\n",
    "#評価\n",
    "fpr , tpr , thresholds = metrics.roc_curve(y_test , y_test_pred)\n",
    "auc = metrics.auc(fpr, tpr)\n",
    "\n",
    "#可視化\n",
    "plt.plot(fpr, tpr, label='ROC curve (area = %.2f)'%auc)\n",
    "plt.legend()\n",
    "plt.title('ROC curve')\n",
    "plt.xlabel('False Positive Rate')\n",
    "plt.ylabel('True Positive Rate')\n",
    "plt.grid(True)\n",
    "print(\"AUC=\", auc)"
   ]
  },
  {
   "cell_type": "markdown",
   "metadata": {},
   "source": [
    "残念ながら、新しい特徴量は役に立たなかったようだ。（なぜだ？！）"
   ]
  },
  {
   "cell_type": "markdown",
   "metadata": {},
   "source": [
    "#### ◇欠損値補完\n",
    "\n",
    "ここで、視点を変えてみよう。\n",
    "\n",
    "これまで、データセットに対して欠損値のあるサンプルを削除するという方法でモデルを検証してきた。\n",
    "\n",
    "これを、欠損値を補完することで精度が上がらないか試してみる。"
   ]
  },
  {
   "cell_type": "code",
   "execution_count": 100,
   "metadata": {},
   "outputs": [
    {
     "name": "stdout",
     "output_type": "stream",
     "text": [
      "<class 'pandas.core.frame.DataFrame'>\n",
      "RangeIndex: 307511 entries, 0 to 307510\n",
      "Data columns (total 8 columns):\n",
      "EXT_SOURCE_1                   134133 non-null float64\n",
      "EXT_SOURCE_2                   306851 non-null float64\n",
      "EXT_SOURCE_3                   246546 non-null float64\n",
      "DAYS_BIRTH                     307511 non-null int64\n",
      "CITY_RATING_LEVEL              307511 non-null int64\n",
      "REGION_RATING_CLIENT_W_CITY    307511 non-null int64\n",
      "REGION_RATING_CLIENT           307511 non-null int64\n",
      "TARGET                         307511 non-null int64\n",
      "dtypes: float64(3), int64(5)\n",
      "memory usage: 18.8 MB\n"
     ]
    }
   ],
   "source": [
    "rawdata_e.info()"
   ]
  },
  {
   "cell_type": "markdown",
   "metadata": {},
   "source": [
    "EXT_SOURCE_1〜3のデータに欠損値が確認できるので、これらの欠損値を中央値で補完する。"
   ]
  },
  {
   "cell_type": "code",
   "execution_count": 105,
   "metadata": {},
   "outputs": [
    {
     "name": "stdout",
     "output_type": "stream",
     "text": [
      "EXT_SOURCE_1の中央値：0.5059979305057544\n",
      "EXT_SOURCE_2の中央値：0.5659614260608526\n",
      "EXT_SOURCE_3の中央値：0.5352762504724826\n",
      "---------------------------------------------------------------\n",
      "<class 'pandas.core.frame.DataFrame'>\n",
      "RangeIndex: 307511 entries, 0 to 307510\n",
      "Data columns (total 8 columns):\n",
      "EXT_SOURCE_1                   307511 non-null float64\n",
      "EXT_SOURCE_2                   307511 non-null float64\n",
      "EXT_SOURCE_3                   307511 non-null float64\n",
      "DAYS_BIRTH                     307511 non-null int64\n",
      "CITY_RATING_LEVEL              307511 non-null int64\n",
      "REGION_RATING_CLIENT_W_CITY    307511 non-null int64\n",
      "REGION_RATING_CLIENT           307511 non-null int64\n",
      "TARGET                         307511 non-null int64\n",
      "dtypes: float64(3), int64(5)\n",
      "memory usage: 18.8 MB\n",
      "None\n",
      "---------------------------------------------------------------\n",
      "    EXT_SOURCE_1  EXT_SOURCE_2  EXT_SOURCE_3  DAYS_BIRTH  CITY_RATING_LEVEL  \\\n",
      "0       0.083037      0.262949      0.139376       -9461                  0   \n",
      "1       0.311267      0.622246      0.535276      -16765                  0   \n",
      "2       0.505998      0.555912      0.729567      -19046                  0   \n",
      "3       0.505998      0.650442      0.535276      -19005                  0   \n",
      "4       0.505998      0.322738      0.535276      -19932                  2   \n",
      "5       0.505998      0.354225      0.621226      -16941                  0   \n",
      "6       0.774761      0.724000      0.492060      -13778                  0   \n",
      "7       0.505998      0.714279      0.540654      -18850                  3   \n",
      "8       0.587334      0.205747      0.751724      -20099                  0   \n",
      "9       0.505998      0.746644      0.535276      -14469                  0   \n",
      "10      0.319760      0.651862      0.363945      -10197                  0   \n",
      "11      0.722044      0.555183      0.652897      -20417                  0   \n",
      "12      0.464831      0.715042      0.176653      -13439                  0   \n",
      "13      0.505998      0.566907      0.770087      -14086                  0   \n",
      "14      0.721940      0.642656      0.535276      -14583                  0   \n",
      "\n",
      "    REGION_RATING_CLIENT_W_CITY  REGION_RATING_CLIENT  TARGET  \n",
      "0                             2                     2       1  \n",
      "1                             1                     1       0  \n",
      "2                             2                     2       0  \n",
      "3                             2                     2       0  \n",
      "4                             2                     2       0  \n",
      "5                             2                     2       0  \n",
      "6                             2                     2       0  \n",
      "7                             3                     3       0  \n",
      "8                             2                     2       0  \n",
      "9                             2                     2       0  \n",
      "10                            2                     2       0  \n",
      "11                            2                     2       0  \n",
      "12                            2                     2       0  \n",
      "13                            2                     2       0  \n",
      "14                            1                     2       0  \n"
     ]
    }
   ],
   "source": [
    "#中央値の生成\n",
    "median1 = rawdata_e[\"EXT_SOURCE_1\"].median()\n",
    "median2 = rawdata_e[\"EXT_SOURCE_2\"].median()\n",
    "median3 = rawdata_e[\"EXT_SOURCE_3\"].median()\n",
    "\n",
    "print(\"EXT_SOURCE_1の中央値：{}\".format(median1))\n",
    "print(\"EXT_SOURCE_2の中央値：{}\".format(median2))\n",
    "print(\"EXT_SOURCE_3の中央値：{}\".format(median3))\n",
    "print(\"---------------------------------------------------------------\")\n",
    "\n",
    "#DataFrameのコピー\n",
    "rawdata_f = rawdata_e.copy()\n",
    "\n",
    "#中央値で補完\n",
    "rawdata_f[\"EXT_SOURCE_1\"].fillna(median1, inplace=True)\n",
    "rawdata_f[\"EXT_SOURCE_2\"].fillna(median2, inplace=True)\n",
    "rawdata_f[\"EXT_SOURCE_3\"].fillna(median3, inplace=True)\n",
    "\n",
    "###なお、scikit-learnのImputerクラスでも同様のことが可能\n",
    "\n",
    "print(rawdata_f.info())\n",
    "print(\"---------------------------------------------------------------\")\n",
    "print(rawdata_f.head(15))"
   ]
  },
  {
   "cell_type": "markdown",
   "metadata": {},
   "source": [
    "無事、欠損値を埋められたので、このDFで検証を行ってみる。"
   ]
  },
  {
   "cell_type": "code",
   "execution_count": 107,
   "metadata": {},
   "outputs": [
    {
     "data": {
      "text/html": [
       "<div>\n",
       "<style scoped>\n",
       "    .dataframe tbody tr th:only-of-type {\n",
       "        vertical-align: middle;\n",
       "    }\n",
       "\n",
       "    .dataframe tbody tr th {\n",
       "        vertical-align: top;\n",
       "    }\n",
       "\n",
       "    .dataframe thead th {\n",
       "        text-align: right;\n",
       "    }\n",
       "</style>\n",
       "<table border=\"1\" class=\"dataframe\">\n",
       "  <thead>\n",
       "    <tr style=\"text-align: right;\">\n",
       "      <th></th>\n",
       "      <th>EXT_SOURCE_1</th>\n",
       "      <th>EXT_SOURCE_2</th>\n",
       "      <th>EXT_SOURCE_3</th>\n",
       "      <th>DAYS_BIRTH</th>\n",
       "      <th>CITY_RATING_LEVEL</th>\n",
       "      <th>REGION_RATING_CLIENT_W_CITY</th>\n",
       "      <th>REGION_RATING_CLIENT</th>\n",
       "      <th>TARGET</th>\n",
       "    </tr>\n",
       "  </thead>\n",
       "  <tbody>\n",
       "    <tr>\n",
       "      <th>0</th>\n",
       "      <td>0.083037</td>\n",
       "      <td>0.262949</td>\n",
       "      <td>0.139376</td>\n",
       "      <td>-9461</td>\n",
       "      <td>0</td>\n",
       "      <td>2</td>\n",
       "      <td>2</td>\n",
       "      <td>1</td>\n",
       "    </tr>\n",
       "    <tr>\n",
       "      <th>1</th>\n",
       "      <td>0.311267</td>\n",
       "      <td>0.622246</td>\n",
       "      <td>0.535276</td>\n",
       "      <td>-16765</td>\n",
       "      <td>0</td>\n",
       "      <td>1</td>\n",
       "      <td>1</td>\n",
       "      <td>0</td>\n",
       "    </tr>\n",
       "    <tr>\n",
       "      <th>2</th>\n",
       "      <td>0.505998</td>\n",
       "      <td>0.555912</td>\n",
       "      <td>0.729567</td>\n",
       "      <td>-19046</td>\n",
       "      <td>0</td>\n",
       "      <td>2</td>\n",
       "      <td>2</td>\n",
       "      <td>0</td>\n",
       "    </tr>\n",
       "    <tr>\n",
       "      <th>3</th>\n",
       "      <td>0.505998</td>\n",
       "      <td>0.650442</td>\n",
       "      <td>0.535276</td>\n",
       "      <td>-19005</td>\n",
       "      <td>0</td>\n",
       "      <td>2</td>\n",
       "      <td>2</td>\n",
       "      <td>0</td>\n",
       "    </tr>\n",
       "    <tr>\n",
       "      <th>4</th>\n",
       "      <td>0.505998</td>\n",
       "      <td>0.322738</td>\n",
       "      <td>0.535276</td>\n",
       "      <td>-19932</td>\n",
       "      <td>2</td>\n",
       "      <td>2</td>\n",
       "      <td>2</td>\n",
       "      <td>0</td>\n",
       "    </tr>\n",
       "  </tbody>\n",
       "</table>\n",
       "</div>"
      ],
      "text/plain": [
       "   EXT_SOURCE_1  EXT_SOURCE_2  EXT_SOURCE_3  DAYS_BIRTH  CITY_RATING_LEVEL  \\\n",
       "0      0.083037      0.262949      0.139376       -9461                  0   \n",
       "1      0.311267      0.622246      0.535276      -16765                  0   \n",
       "2      0.505998      0.555912      0.729567      -19046                  0   \n",
       "3      0.505998      0.650442      0.535276      -19005                  0   \n",
       "4      0.505998      0.322738      0.535276      -19932                  2   \n",
       "\n",
       "   REGION_RATING_CLIENT_W_CITY  REGION_RATING_CLIENT  TARGET  \n",
       "0                            2                     2       1  \n",
       "1                            1                     1       0  \n",
       "2                            2                     2       0  \n",
       "3                            2                     2       0  \n",
       "4                            2                     2       0  "
      ]
     },
     "execution_count": 107,
     "metadata": {},
     "output_type": "execute_result"
    }
   ],
   "source": [
    "#DFの参照\n",
    "Xf = rawdata_f\n",
    "Xf.head()"
   ]
  },
  {
   "cell_type": "code",
   "execution_count": 108,
   "metadata": {},
   "outputs": [
    {
     "name": "stdout",
     "output_type": "stream",
     "text": [
      "AUC= 0.7171520852140917\n"
     ]
    },
    {
     "data": {
      "image/png": "[encoded data removed]",
      "text/plain": [
       "<Figure size 432x288 with 1 Axes>"
      ]
     },
     "metadata": {
      "needs_background": "light"
     },
     "output_type": "display_data"
    }
   ],
   "source": [
    "#分割\n",
    "y = Xf.loc[: , \"TARGET\"]\n",
    "Xf = Xf.iloc[: , :7]\n",
    "\n",
    "#前処理\n",
    "X_train , X_test , y_train , y_test = train_test_split(\n",
    "              Xf , y , test_size = 0.25 , random_state = 0)\n",
    "\n",
    "#標準化\n",
    "sc_f = StandardScaler()\n",
    "sc_f.fit(X_train)\n",
    "X_f_std = sc_f.transform(X_train)\n",
    "X_test = sc_f.transform(X_test)\n",
    "\n",
    "#学習\n",
    "lr_f = LinearRegression()\n",
    "lr_f.fit(X_train , y_train)\n",
    "\n",
    "#推定\n",
    "y_test_pred = lr_f.predict(X_test)\n",
    "y_train_pred = lr_f.predict(X_train)\n",
    "\n",
    "#評価\n",
    "fpr , tpr , thresholds = metrics.roc_curve(y_test , y_test_pred)\n",
    "auc = metrics.auc(fpr, tpr)\n",
    "\n",
    "#可視化\n",
    "plt.plot(fpr, tpr, label='ROC curve (area = %.2f)'%auc)\n",
    "plt.legend()\n",
    "plt.title('ROC curve')\n",
    "plt.xlabel('False Positive Rate')\n",
    "plt.ylabel('True Positive Rate')\n",
    "plt.grid(True)\n",
    "print(\"AUC=\", auc)"
   ]
  },
  {
   "cell_type": "markdown",
   "metadata": {},
   "source": [
    "サンプル数が増えた分、スコアが下がってしまった！！\n",
    "\n",
    "が、信頼性は上がっていると考えられるので、実際にはこちらの方が望ましいと考えられる。"
   ]
  },
  {
   "cell_type": "markdown",
   "metadata": {},
   "source": [
    "### モデルの可視化\n",
    "\n",
    "最後に、今まで作成したモデルの可視化を行ってみる。\n",
    "\n",
    "今回は、LinearRegressionを使用したので、直線として表現できる。"
   ]
  },
  {
   "cell_type": "code",
   "execution_count": 119,
   "metadata": {},
   "outputs": [
    {
     "data": {
      "text/html": [
       "<div>\n",
       "<style scoped>\n",
       "    .dataframe tbody tr th:only-of-type {\n",
       "        vertical-align: middle;\n",
       "    }\n",
       "\n",
       "    .dataframe tbody tr th {\n",
       "        vertical-align: top;\n",
       "    }\n",
       "\n",
       "    .dataframe thead th {\n",
       "        text-align: right;\n",
       "    }\n",
       "</style>\n",
       "<table border=\"1\" class=\"dataframe\">\n",
       "  <thead>\n",
       "    <tr style=\"text-align: right;\">\n",
       "      <th></th>\n",
       "      <th>lr</th>\n",
       "      <th>lr_b</th>\n",
       "      <th>lr_c</th>\n",
       "      <th>lr_d</th>\n",
       "      <th>lr_e</th>\n",
       "      <th>lr_f</th>\n",
       "    </tr>\n",
       "  </thead>\n",
       "  <tbody>\n",
       "    <tr>\n",
       "      <th>coef</th>\n",
       "      <td>-0.045663</td>\n",
       "      <td>-0.194160</td>\n",
       "      <td>-0.194534</td>\n",
       "      <td>-0.193893</td>\n",
       "      <td>-0.193969</td>\n",
       "      <td>-0.207790</td>\n",
       "    </tr>\n",
       "    <tr>\n",
       "      <th>intercept</th>\n",
       "      <td>0.077919</td>\n",
       "      <td>0.280112</td>\n",
       "      <td>0.267559</td>\n",
       "      <td>0.265715</td>\n",
       "      <td>0.263829</td>\n",
       "      <td>0.343641</td>\n",
       "    </tr>\n",
       "  </tbody>\n",
       "</table>\n",
       "</div>"
      ],
      "text/plain": [
       "                 lr      lr_b      lr_c      lr_d      lr_e      lr_f\n",
       "coef      -0.045663 -0.194160 -0.194534 -0.193893 -0.193969 -0.207790\n",
       "intercept  0.077919  0.280112  0.267559  0.265715  0.263829  0.343641"
      ]
     },
     "execution_count": 119,
     "metadata": {},
     "output_type": "execute_result"
    }
   ],
   "source": [
    "#線形回帰の係数（coef）と切片（intercept）を比較\n",
    "#係数はEXT_SOURCE_3\n",
    "\n",
    "models = {\"lr\": [lr.coef_[0], lr.intercept_], \"lr_b\": [lr_b.coef_[2], lr_b.intercept_],\n",
    "          \"lr_c\": [lr_c.coef_[2], lr_c.intercept_], \"lr_d\": [lr_d.coef_[2], lr_d.intercept_],\n",
    "          \"lr_e\": [lr_e.coef_[2], lr_e.intercept_], \"lr_f\": [lr_f.coef_[2], lr_f.intercept_]\n",
    "         }\n",
    "df_models = pd.DataFrame(models, index=[\"coef\", \"intercept\"])\n",
    "df_models.head()"
   ]
  },
  {
   "cell_type": "code",
   "execution_count": 124,
   "metadata": {},
   "outputs": [
    {
     "data": {
      "text/plain": [
       "<matplotlib.legend.Legend at 0x11c8a1da0>"
      ]
     },
     "execution_count": 124,
     "metadata": {},
     "output_type": "execute_result"
    },
    {
     "data": {
      "image/png": "[encoded data removed]",
      "text/plain": [
       "<Figure size 864x648 with 1 Axes>"
      ]
     },
     "metadata": {
      "needs_background": "light"
     },
     "output_type": "display_data"
    }
   ],
   "source": [
    "#EXT_SOURCE_3の特徴量に関してプロット\n",
    "\n",
    "plt.figure(figsize=(12,9))\n",
    "plt.plot(Xf[\"EXT_SOURCE_3\"], Xf[\"EXT_SOURCE_3\"]*lr.coef_[0] + lr.intercept_ , color=\"r\", label = \"lr\")\n",
    "plt.plot(Xf[\"EXT_SOURCE_3\"], Xf[\"EXT_SOURCE_3\"]*lr_b.coef_[2] + lr_b.intercept_, color=\"b\", label = \"lr_b\")\n",
    "plt.plot(Xf[\"EXT_SOURCE_3\"], Xf[\"EXT_SOURCE_3\"]*lr_c.coef_[2] + lr_c.intercept_ , color=\"y\", label = \"lr_c\")\n",
    "plt.plot(Xf[\"EXT_SOURCE_3\"], Xf[\"EXT_SOURCE_3\"]*lr_d.coef_[2] + lr_d.intercept_, color=\"g\", label = \"lr_d\")\n",
    "plt.plot(Xf[\"EXT_SOURCE_3\"], Xf[\"EXT_SOURCE_3\"]*lr_e.coef_[2] + lr_e.intercept_, color=\"m\", label = \"lr_e\")\n",
    "plt.plot(Xf[\"EXT_SOURCE_3\"], Xf[\"EXT_SOURCE_3\"]*lr_f.coef_[2] + lr_f.intercept_, color=\"c\", label = \"lr_f\")\n",
    "plt.legend()\n"
   ]
  },
  {
   "cell_type": "markdown",
   "metadata": {},
   "source": [
    "以上"
   ]
  }
 ],
 "metadata": {
  "kernelspec": {
   "display_name": "Python 3",
   "language": "python",
   "name": "python3"
  },
  "language_info": {
   "codemirror_mode": {
    "name": "ipython",
    "version": 3
   },
   "file_extension": ".py",
   "mimetype": "text/x-python",
   "name": "python",
   "nbconvert_exporter": "python",
   "pygments_lexer": "ipython3",
   "version": "3.7.2"
  },
  "toc": {
   "base_numbering": 1,
   "nav_menu": {},
   "number_sections": true,
   "sideBar": true,
   "skip_h1_title": false,
   "title_cell": "Table of Contents",
   "title_sidebar": "Contents",
   "toc_cell": false,
   "toc_position": {},
   "toc_section_display": true,
   "toc_window_display": false
  }
 },
 "nbformat": 4,
 "nbformat_minor": 2
}
