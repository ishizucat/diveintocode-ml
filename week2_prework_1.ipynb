{
  "nbformat": 4,
  "nbformat_minor": 0,
  "metadata": {
    "colab": {
      "name": "week2_prework_1.ipynb",
      "provenance": [],
      "collapsed_sections": []
    },
    "kernelspec": {
      "name": "python3",
      "display_name": "Python 3"
    }
  },
  "cells": [
    {
      "cell_type": "markdown",
      "metadata": {
        "id": "CCGqZE0ybGMj",
        "colab_type": "text"
      },
      "source": [
        "#WEEK2 事前課題\n",
        "##課題１　小麦とチェス盤問題\n",
        "###【問題1】2×2マスのチェス盤の小麦の数"
      ]
    },
    {
      "cell_type": "code",
      "metadata": {
        "id": "8-mm8jwcbDKR",
        "colab_type": "code",
        "colab": {
          "base_uri": "https://localhost:8080/",
          "height": 110
        },
        "outputId": "c91656de-0a5f-4696-ce1b-0886b4e253b1"
      },
      "source": [
        "import numpy as np\n",
        "\n",
        "\n",
        "#4データの配列の作成\n",
        "n_squares = 4\n",
        "small_board_list = [1]\n",
        "for _ in range(n_squares -1):\n",
        "  small_board_list.append( 2*small_board_list[-1])\n",
        "\n",
        "#ndarrayを作成して変形\n",
        "small_board_ndarray = np.array(small_board_list)\n",
        "small_board_ndarray.shape = (2,2)\n",
        "\n",
        "print(small_board_ndarray)\n"
      ],
      "execution_count": 48,
      "outputs": [
        {
          "output_type": "stream",
          "text": [
            "[[1 2]\n",
            " [4 8]]\n",
            "int64\n"
          ],
          "name": "stdout"
        }
      ]
    },
    {
      "cell_type": "markdown",
      "metadata": {
        "id": "QsH0O5HieYbr",
        "colab_type": "text"
      },
      "source": [
        "###【問題２】n×mマスへの拡張"
      ]
    },
    {
      "cell_type": "code",
      "metadata": {
        "id": "BVCbI1WAeCLU",
        "colab_type": "code",
        "colab": {
          "base_uri": "https://localhost:8080/",
          "height": 492
        },
        "outputId": "2b7d713a-a1cc-419c-d6c9-9a2dc3257eb4"
      },
      "source": [
        "#関数の定義\n",
        "\n",
        "def chess_wheat(raw,col):\n",
        "  \n",
        "  #データの配列の作成\n",
        "  n_squares = raw * col\n",
        "  small_board_list = [1]\n",
        "  for _ in range(n_squares -1):\n",
        "    small_board_list.append( 2*small_board_list[-1])\n",
        "  \n",
        "  #ndarrayを作成して変形\n",
        "  small_board_ndarray = np.array(small_board_list)\n",
        "  small_board_ndarray.shape = (raw,col)\n",
        "  \n",
        "  return small_board_ndarray\n",
        "\n",
        "#8x8マスのチェス盤の小麦の数\n",
        "wheat_8b8 = chess_wheat(8,8)\n",
        "print(wheat_8b8)\n",
        "print(wheat_8b8.dtype) #型の確認"
      ],
      "execution_count": 50,
      "outputs": [
        {
          "output_type": "stream",
          "text": [
            "[[1.0000000000000000e+00 2.0000000000000000e+00 4.0000000000000000e+00\n",
            "  8.0000000000000000e+00 1.6000000000000000e+01 3.2000000000000000e+01\n",
            "  6.4000000000000000e+01 1.2800000000000000e+02]\n",
            " [2.5600000000000000e+02 5.1200000000000000e+02 1.0240000000000000e+03\n",
            "  2.0480000000000000e+03 4.0960000000000000e+03 8.1920000000000000e+03\n",
            "  1.6384000000000000e+04 3.2768000000000000e+04]\n",
            " [6.5536000000000000e+04 1.3107200000000000e+05 2.6214400000000000e+05\n",
            "  5.2428800000000000e+05 1.0485760000000000e+06 2.0971520000000000e+06\n",
            "  4.1943040000000000e+06 8.3886080000000000e+06]\n",
            " [1.6777216000000000e+07 3.3554432000000000e+07 6.7108864000000000e+07\n",
            "  1.3421772800000000e+08 2.6843545600000000e+08 5.3687091200000000e+08\n",
            "  1.0737418240000000e+09 2.1474836480000000e+09]\n",
            " [4.2949672960000000e+09 8.5899345920000000e+09 1.7179869184000000e+10\n",
            "  3.4359738368000000e+10 6.8719476736000000e+10 1.3743895347200000e+11\n",
            "  2.7487790694400000e+11 5.4975581388800000e+11]\n",
            " [1.0995116277760000e+12 2.1990232555520000e+12 4.3980465111040000e+12\n",
            "  8.7960930222080000e+12 1.7592186044416000e+13 3.5184372088832000e+13\n",
            "  7.0368744177664000e+13 1.4073748835532800e+14]\n",
            " [2.8147497671065600e+14 5.6294995342131200e+14 1.1258999068426240e+15\n",
            "  2.2517998136852480e+15 4.5035996273704960e+15 9.0071992547409920e+15\n",
            "  1.8014398509481984e+16 3.6028797018963968e+16]\n",
            " [7.2057594037927936e+16 1.4411518807585587e+17 2.8823037615171174e+17\n",
            "  5.7646075230342349e+17 1.1529215046068470e+18 2.3058430092136940e+18\n",
            "  4.6116860184273879e+18 9.2233720368547758e+18]]\n",
            "float64\n"
          ],
          "name": "stdout"
        }
      ]
    },
    {
      "cell_type": "markdown",
      "metadata": {
        "id": "l-DU1qAQlcag",
        "colab_type": "text"
      },
      "source": [
        "＜残課題＞ndarrayのprint表示形式を以下のコードで変更できるようだが、うまくいかない\n",
        "np.set_printoptions(suppress=True, floatmode='unique')\n",
        "\n",
        "指数表記をなんとかしたいんだが...\n",
        "　→型を調べると、float64と判明。\n",
        "\n",
        "###【問題３】小麦の数の合計"
      ]
    },
    {
      "cell_type": "code",
      "metadata": {
        "id": "1XiJu88NgrWu",
        "colab_type": "code",
        "colab": {
          "base_uri": "https://localhost:8080/",
          "height": 56
        },
        "outputId": "f0aa860e-ade5-4469-c040-7e23950f8473"
      },
      "source": [
        "#8x8マスの小麦の合計\n",
        "\n",
        "print(np.sum(wheat_8b8))"
      ],
      "execution_count": 24,
      "outputs": [
        {
          "output_type": "stream",
          "text": [
            "1.8446744073709552e+19\n"
          ],
          "name": "stdout"
        }
      ]
    },
    {
      "cell_type": "code",
      "metadata": {
        "id": "sKpvR6UNmab6",
        "colab_type": "code",
        "colab": {
          "base_uri": "https://localhost:8080/",
          "height": 130
        },
        "outputId": "ed7c779a-d2bb-4654-ee83-24c2880cadc9"
      },
      "source": [
        "#列ごとの平均\n",
        "wheat_8b8_mean = np.mean(wheat_8b8, axis=0)\n",
        "print(wheat_8b8_mean)"
      ],
      "execution_count": 27,
      "outputs": [
        {
          "output_type": "stream",
          "text": [
            "[9.0425216047595840e+15 1.8085043209519168e+16 3.6170086419038336e+16\n",
            " 7.2340172838076672e+16 1.4468034567615334e+17 2.8936069135230669e+17\n",
            " 5.7872138270461338e+17 1.1574427654092268e+18]\n"
          ],
          "name": "stdout"
        }
      ]
    },
    {
      "cell_type": "code",
      "metadata": {
        "id": "KNP8aCj1niA0",
        "colab_type": "code",
        "colab": {
          "base_uri": "https://localhost:8080/",
          "height": 316
        },
        "outputId": "a9d840ee-e825-4e03-96a1-c3198e164bac"
      },
      "source": [
        "#列ごとの平均を棒グラフとして表示\n",
        "import matplotlib.pyplot as plt\n",
        "%matplotlib inline\n",
        "\n",
        "plt.xlabel(\"column\")\n",
        "plt.ylabel(\"the number of wheat\")\n",
        "plt.title(\"The Average Number in Each Column\")\n",
        "plt.bar(np.arange(8),wheat_8b8_mean)\n",
        "plt.show()"
      ],
      "execution_count": 31,
      "outputs": [
        {
          "output_type": "display_data",
          "data": {
            "image/png": "[encoded data removed]",
            "text/plain": [
              "<Figure size 432x288 with 1 Axes>"
            ]
          },
          "metadata": {
            "tags": []
          }
        }
      ]
    },
    {
      "cell_type": "markdown",
      "metadata": {
        "id": "wci8yMS7ruA0",
        "colab_type": "text"
      },
      "source": [
        "###【問題４】小麦の数のヒートマップ"
      ]
    },
    {
      "cell_type": "code",
      "metadata": {
        "id": "4M9KzZuAohCG",
        "colab_type": "code",
        "colab": {
          "base_uri": "https://localhost:8080/",
          "height": 316
        },
        "outputId": "e0f00208-7cbb-432a-8518-939bbed483b3"
      },
      "source": [
        "#8x8マスの小麦の数をヒートマップとして可視化\n",
        "\n",
        "plt.xlabel(\"column\")\n",
        "plt.ylabel(\"row\")\n",
        "plt.title(\"heatmap\")\n",
        "plt.pcolor(wheat_8b8)\n",
        "plt.show()"
      ],
      "execution_count": 32,
      "outputs": [
        {
          "output_type": "display_data",
          "data": {
            "image/png": "[encoded data removed]",
            "text/plain": [
              "<Figure size 432x288 with 1 Axes>"
            ]
          },
          "metadata": {
            "tags": []
          }
        }
      ]
    },
    {
      "cell_type": "markdown",
      "metadata": {
        "id": "PPPnZ2apskxA",
        "colab_type": "text"
      },
      "source": [
        "###【問題５】後半は前半の何倍か"
      ]
    },
    {
      "cell_type": "code",
      "metadata": {
        "id": "cDbAbJ7VsJ9J",
        "colab_type": "code",
        "colab": {
          "base_uri": "https://localhost:8080/",
          "height": 56
        },
        "outputId": "8b6253de-393f-47fd-db94-2133df0c3be7"
      },
      "source": [
        "\n",
        "print(\n",
        "    np.sum(wheat_8b8[4:, :]) #後半の小麦数\n",
        "  / np.sum(wheat_8b8[:4, :]) #前半の小麦数\n",
        "  )"
      ],
      "execution_count": 39,
      "outputs": [
        {
          "output_type": "stream",
          "text": [
            "4294967296.0\n"
          ],
          "name": "stdout"
        }
      ]
    },
    {
      "cell_type": "markdown",
      "metadata": {
        "id": "myy9KkfvNEbS",
        "colab_type": "text"
      },
      "source": [
        "###【問題６】他の計算方法によるn×mマスへの拡張\n"
      ]
    },
    {
      "cell_type": "code",
      "metadata": {
        "id": "ZmIlzo4juono",
        "colab_type": "code",
        "colab": {
          "base_uri": "https://localhost:8080/",
          "height": 474
        },
        "outputId": "946b8253-92f9-48ec-f5fa-383706b10df7"
      },
      "source": [
        "\"\"\"\n",
        "np.append を使用した関数定義\n",
        "\"\"\"\n",
        "def chess_wheat_ap(raw,col):\n",
        "  n_squares = raw * col\n",
        "  board_ndarray = np.array([1]).astype(np.uint64)\n",
        "  for _ in range(n_squares - 1):\n",
        "    board_ndarray = np.append(board_ndarray, \n",
        "                                                2*board_ndarray[-1])\n",
        "  #二次元配列に変換\n",
        "  board_ndarray.shape = (raw,col)\n",
        "  \n",
        "  return board_ndarray\n",
        "\n",
        "#8x8マスのチェス盤の小麦の数\n",
        "wheat_8b8_ap = chess_wheat_ap(8,8)\n",
        "print(wheat_8b8_ap)"
      ],
      "execution_count": 47,
      "outputs": [
        {
          "output_type": "stream",
          "text": [
            "[[1.0000000000000000e+00 2.0000000000000000e+00 4.0000000000000000e+00\n",
            "  8.0000000000000000e+00 1.6000000000000000e+01 3.2000000000000000e+01\n",
            "  6.4000000000000000e+01 1.2800000000000000e+02]\n",
            " [2.5600000000000000e+02 5.1200000000000000e+02 1.0240000000000000e+03\n",
            "  2.0480000000000000e+03 4.0960000000000000e+03 8.1920000000000000e+03\n",
            "  1.6384000000000000e+04 3.2768000000000000e+04]\n",
            " [6.5536000000000000e+04 1.3107200000000000e+05 2.6214400000000000e+05\n",
            "  5.2428800000000000e+05 1.0485760000000000e+06 2.0971520000000000e+06\n",
            "  4.1943040000000000e+06 8.3886080000000000e+06]\n",
            " [1.6777216000000000e+07 3.3554432000000000e+07 6.7108864000000000e+07\n",
            "  1.3421772800000000e+08 2.6843545600000000e+08 5.3687091200000000e+08\n",
            "  1.0737418240000000e+09 2.1474836480000000e+09]\n",
            " [4.2949672960000000e+09 8.5899345920000000e+09 1.7179869184000000e+10\n",
            "  3.4359738368000000e+10 6.8719476736000000e+10 1.3743895347200000e+11\n",
            "  2.7487790694400000e+11 5.4975581388800000e+11]\n",
            " [1.0995116277760000e+12 2.1990232555520000e+12 4.3980465111040000e+12\n",
            "  8.7960930222080000e+12 1.7592186044416000e+13 3.5184372088832000e+13\n",
            "  7.0368744177664000e+13 1.4073748835532800e+14]\n",
            " [2.8147497671065600e+14 5.6294995342131200e+14 1.1258999068426240e+15\n",
            "  2.2517998136852480e+15 4.5035996273704960e+15 9.0071992547409920e+15\n",
            "  1.8014398509481984e+16 3.6028797018963968e+16]\n",
            " [7.2057594037927936e+16 1.4411518807585587e+17 2.8823037615171174e+17\n",
            "  5.7646075230342349e+17 1.1529215046068470e+18 2.3058430092136940e+18\n",
            "  4.6116860184273879e+18 9.2233720368547758e+18]]\n"
          ],
          "name": "stdout"
        }
      ]
    },
    {
      "cell_type": "code",
      "metadata": {
        "id": "ioDQJ7SkLryN",
        "colab_type": "code",
        "colab": {
          "base_uri": "https://localhost:8080/",
          "height": 454
        },
        "outputId": "21b093ad-b9c2-4c40-824c-6ab1031cdfd7"
      },
      "source": [
        "\"\"\"\n",
        "ブロードキャスト を使用した関数定義\n",
        "\"\"\"\n",
        "def chess_wheat_bc(raw,col):\n",
        "  n_squares = raw * col\n",
        "  indices_of_squares = np.arange(n_squares).astype(np.uint64)\n",
        "  board_ndarray = 2**indices_of_squares\n",
        " \n",
        "  #二次元配列に変換\n",
        "  board_ndarray.shape = (raw,col)\n",
        "  \n",
        "  return board_ndarray\n",
        "\n",
        "#8x8マスのチェス盤の小麦の数\n",
        "wheat_8b8_bc = chess_wheat_bc(8,8)\n",
        "print(wheat_8b8_ap)"
      ],
      "execution_count": 45,
      "outputs": [
        {
          "output_type": "stream",
          "text": [
            "[[1.0000000000000000e+00 2.0000000000000000e+00 4.0000000000000000e+00\n",
            "  8.0000000000000000e+00 1.6000000000000000e+01 3.2000000000000000e+01\n",
            "  6.4000000000000000e+01 1.2800000000000000e+02]\n",
            " [2.5600000000000000e+02 5.1200000000000000e+02 1.0240000000000000e+03\n",
            "  2.0480000000000000e+03 4.0960000000000000e+03 8.1920000000000000e+03\n",
            "  1.6384000000000000e+04 3.2768000000000000e+04]\n",
            " [6.5536000000000000e+04 1.3107200000000000e+05 2.6214400000000000e+05\n",
            "  5.2428800000000000e+05 1.0485760000000000e+06 2.0971520000000000e+06\n",
            "  4.1943040000000000e+06 8.3886080000000000e+06]\n",
            " [1.6777216000000000e+07 3.3554432000000000e+07 6.7108864000000000e+07\n",
            "  1.3421772800000000e+08 2.6843545600000000e+08 5.3687091200000000e+08\n",
            "  1.0737418240000000e+09 2.1474836480000000e+09]\n",
            " [4.2949672960000000e+09 8.5899345920000000e+09 1.7179869184000000e+10\n",
            "  3.4359738368000000e+10 6.8719476736000000e+10 1.3743895347200000e+11\n",
            "  2.7487790694400000e+11 5.4975581388800000e+11]\n",
            " [1.0995116277760000e+12 2.1990232555520000e+12 4.3980465111040000e+12\n",
            "  8.7960930222080000e+12 1.7592186044416000e+13 3.5184372088832000e+13\n",
            "  7.0368744177664000e+13 1.4073748835532800e+14]\n",
            " [2.8147497671065600e+14 5.6294995342131200e+14 1.1258999068426240e+15\n",
            "  2.2517998136852480e+15 4.5035996273704960e+15 9.0071992547409920e+15\n",
            "  1.8014398509481984e+16 3.6028797018963968e+16]\n",
            " [7.2057594037927936e+16 1.4411518807585587e+17 2.8823037615171174e+17\n",
            "  5.7646075230342349e+17 1.1529215046068470e+18 2.3058430092136940e+18\n",
            "  4.6116860184273879e+18 9.2233720368547758e+18]]\n"
          ],
          "name": "stdout"
        }
      ]
    },
    {
      "cell_type": "markdown",
      "metadata": {
        "id": "8GeU17kXRYvx",
        "colab_type": "text"
      },
      "source": [
        "###【問題7】計算時間の比較"
      ]
    },
    {
      "cell_type": "code",
      "metadata": {
        "id": "3mO0yOa5QOmC",
        "colab_type": "code",
        "colab": {
          "base_uri": "https://localhost:8080/",
          "height": 112
        },
        "outputId": "71dedaac-79f6-45db-811b-11d789d46f80"
      },
      "source": [
        "#ベーシック\n",
        "%%timeit\n",
        "t = chess_wheat(8,8)"
      ],
      "execution_count": 52,
      "outputs": [
        {
          "output_type": "stream",
          "text": [
            "The slowest run took 8.45 times longer than the fastest. This could mean that an intermediate result is being cached.\n",
            "100000 loops, best of 3: 14.1 µs per loop\n"
          ],
          "name": "stdout"
        }
      ]
    },
    {
      "cell_type": "code",
      "metadata": {
        "id": "sHp2sB7JR36x",
        "colab_type": "code",
        "colab": {
          "base_uri": "https://localhost:8080/",
          "height": 92
        },
        "outputId": "8e4b5cc1-8166-42da-f114-8f9eefd7f827"
      },
      "source": [
        "#append\n",
        "%%timeit\n",
        "t2 = chess_wheat_ap(8,8)"
      ],
      "execution_count": 53,
      "outputs": [
        {
          "output_type": "stream",
          "text": [
            "The slowest run took 14.47 times longer than the fastest. This could mean that an intermediate result is being cached.\n",
            "1000 loops, best of 3: 236 µs per loop\n"
          ],
          "name": "stdout"
        }
      ]
    },
    {
      "cell_type": "code",
      "metadata": {
        "id": "gFL4uSYZSTnj",
        "colab_type": "code",
        "colab": {
          "base_uri": "https://localhost:8080/",
          "height": 92
        },
        "outputId": "09656653-dab2-401f-c766-3d6b7120051f"
      },
      "source": [
        "#bloadcast\n",
        "%%timeit\n",
        "t3 = chess_wheat_bc(8,8)"
      ],
      "execution_count": 55,
      "outputs": [
        {
          "output_type": "stream",
          "text": [
            "The slowest run took 248.00 times longer than the fastest. This could mean that an intermediate result is being cached.\n",
            "100000 loops, best of 3: 3.36 µs per loop\n"
          ],
          "name": "stdout"
        }
      ]
    },
    {
      "cell_type": "markdown",
      "metadata": {
        "id": "cMihWvyZTmcI",
        "colab_type": "text"
      },
      "source": [
        "【結果】\n",
        "もっとも処理速度が速かったのはブロードキャスト\n",
        "その次がベーシック\n",
        "もっとも遅かったのがnp.append"
      ]
    }
  ]
}