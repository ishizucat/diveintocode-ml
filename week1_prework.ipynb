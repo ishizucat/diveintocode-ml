{
  "nbformat": 4,
  "nbformat_minor": 0,
  "metadata": {
    "colab": {
      "name": "week1_prework.ipynb",
      "provenance": [],
      "collapsed_sections": []
    },
    "kernelspec": {
      "name": "python3",
      "display_name": "Python 3"
    }
  },
  "cells": [
    {
      "cell_type": "markdown",
      "metadata": {
        "id": "R0aGRVSdpQYc",
        "colab_type": "text"
      },
      "source": [
        "#DIC ML course week1 prework\n",
        "\n",
        "機械学習コースWeek1事前課題「Pythonを使ってみよう」について、以下回答の記述。\n",
        "\n",
        "【概要】\n",
        "\n",
        "\"紙を折り続けると厚さが増していき、43回で月に届くという話\"をテーマに、python言語やmatplotlibについて基礎的な理解ができるようになっている。\n",
        "\n",
        "##【問題1】べき乗の算術演算子を使用して計算プログラムを作成\n",
        "\n",
        "厚さ0.08mmの紙を43回折った時、紙の厚さはどれくらいになるかをべき乗を使って計算"
      ]
    },
    {
      "cell_type": "code",
      "metadata": {
        "id": "9qahtYNipDZk",
        "colab_type": "code",
        "outputId": "323c56a6-84e6-4351-9164-eb054182852f",
        "colab": {
          "base_uri": "https://localhost:8080/",
          "height": 34
        }
      },
      "source": [
        "\"\"\"\n",
        "紙（0.08mm = 0.00008m)を４３回折った時の厚さを計算するコード\n",
        "\"\"\"\n",
        "\n",
        "THICKNESS = 0.00008 #定数を定義\n",
        "folded_thickness = THICKNESS*(2**43)\n",
        "print(\"厚さ： {}メートル\".format(folded_thickness))"
      ],
      "execution_count": 1,
      "outputs": [
        {
          "output_type": "stream",
          "text": [
            "厚さ： 703687441.77664メートル\n"
          ],
          "name": "stdout"
        }
      ]
    },
    {
      "cell_type": "markdown",
      "metadata": {
        "id": "4F2lzITnq-8E",
        "colab_type": "text"
      },
      "source": [
        "## 【問題２】単位の変換\n",
        "メートル単位を10000キロメートル単位に変換するプログラム"
      ]
    },
    {
      "cell_type": "code",
      "metadata": {
        "id": "uxOhU1rqsKm3",
        "colab_type": "code",
        "outputId": "f69da1e3-5950-4393-83f7-e54298f88110",
        "colab": {
          "base_uri": "https://localhost:8080/",
          "height": 34
        }
      },
      "source": [
        "# メートルを10000キロメートルに変換して小数点以下2桁で表示する\n",
        "print(\"厚さ： {:.2f}万キロメートル\".format(folded_thickness/10000000))"
      ],
      "execution_count": 2,
      "outputs": [
        {
          "output_type": "stream",
          "text": [
            "厚さ： 70.37万キロメートル\n"
          ],
          "name": "stdout"
        }
      ]
    },
    {
      "cell_type": "markdown",
      "metadata": {
        "id": "wyojaJZ5tHFa",
        "colab_type": "text"
      },
      "source": [
        "## 【問題３】for文を使用して作成"
      ]
    },
    {
      "cell_type": "code",
      "metadata": {
        "id": "AP-nIQiMs_JS",
        "colab_type": "code",
        "outputId": "7c84b9b4-d259-409d-bd76-75a9b23dcae8",
        "colab": {
          "base_uri": "https://localhost:8080/",
          "height": 34
        }
      },
      "source": [
        "\n",
        "folded_thickness = THICKNESS\n",
        "for i in range(43):\n",
        "  folded_thickness *= 2 \n",
        "print(\"厚さ： {:.2f}万キロメートル\".format(folded_thickness/10000000))"
      ],
      "execution_count": 3,
      "outputs": [
        {
          "output_type": "stream",
          "text": [
            "厚さ： 70.37万キロメートル\n"
          ],
          "name": "stdout"
        }
      ]
    },
    {
      "cell_type": "markdown",
      "metadata": {
        "id": "X3IKCbDwu-BP",
        "colab_type": "text"
      },
      "source": [
        "## 【問題４】計算時間の比較\n",
        "べき乗を使ったコードと、for文を使用したコードのどちらが処理速度が早いか比べてみる\n",
        "\n",
        "\n",
        "<べき乗を使ったコードの処理速度>"
      ]
    },
    {
      "cell_type": "code",
      "metadata": {
        "id": "hM1DZJI9u9RR",
        "colab_type": "code",
        "outputId": "c81656b3-3eb8-4243-e2d5-344e9d23fdf0",
        "colab": {
          "base_uri": "https://localhost:8080/",
          "height": 34
        }
      },
      "source": [
        "folded_thickness = 0\n",
        "import time\n",
        "start = time.time()\n",
        "#####100回同じ処理をした時の時間を取得\n",
        "for i in range(100):\n",
        "  THICKNESS = 0.00008\n",
        "  folded_thickness = THICKNESS*(2**43)\n",
        "#  print(\"厚さ： {:.2f}万キロメートル\".format(folded_thickness/10000000))\n",
        "#####\n",
        "elapsed_time = time.time() - start\n",
        "print(\"平均処理時間 : {}[s]\".format(elapsed_time / 100))"
      ],
      "execution_count": 20,
      "outputs": [
        {
          "output_type": "stream",
          "text": [
            "平均処理時間 : 1.1110305786132813e-06[s]\n"
          ],
          "name": "stdout"
        }
      ]
    },
    {
      "cell_type": "markdown",
      "metadata": {
        "id": "TGFF5ZsavyLq",
        "colab_type": "text"
      },
      "source": [
        "<for文を使ったコードの処理速度>"
      ]
    },
    {
      "cell_type": "code",
      "metadata": {
        "id": "uOu2dtXrvprb",
        "colab_type": "code",
        "outputId": "5a685746-908a-40aa-bcd0-9dba516bb693",
        "colab": {
          "base_uri": "https://localhost:8080/",
          "height": 34
        }
      },
      "source": [
        "folded_thickness = 0\n",
        "import time\n",
        "start = time.time()\n",
        "#####100回同じ処理をした時の時間を取得\n",
        "for j in range(100):\n",
        "  folded_thickness = THICKNESS\n",
        "  for i in range(43):\n",
        "    folded_thickness *= 2 \n",
        "  #print(\"厚さ： {:.2f}万キロメートル\".format(folded_thickness/10000000))\n",
        "#####\n",
        "elapsed_time_for = time.time() - start\n",
        "print(\"平均処理時間 : {}[s]\".format(elapsed_time_for / 100))"
      ],
      "execution_count": 17,
      "outputs": [
        {
          "output_type": "stream",
          "text": [
            "平均処理時間 : 3.859996795654297e-06[s]\n"
          ],
          "name": "stdout"
        }
      ]
    },
    {
      "cell_type": "code",
      "metadata": {
        "id": "0Q2QPFRgwTCu",
        "colab_type": "code",
        "outputId": "af499d5c-6225-47be-cb87-847dffed67fb",
        "colab": {
          "base_uri": "https://localhost:8080/",
          "height": 34
        }
      },
      "source": [
        "#結果の比較\n",
        "if elapsed_time > elapsed_time_for:\n",
        "  print(\"結果：for文を使ったほうが早い\")\n",
        "elif elapsed_time == elapsed_time_for:\n",
        "  print(\"結果：処理速度は同じです\")\n",
        "else:\n",
        "  print(\"結果：べき乗計算の方が早い\")"
      ],
      "execution_count": 21,
      "outputs": [
        {
          "output_type": "stream",
          "text": [
            "結果：べき乗計算の方が早い\n"
          ],
          "name": "stdout"
        }
      ]
    },
    {
      "cell_type": "markdown",
      "metadata": {
        "id": "i4rFJNysySkS",
        "colab_type": "text"
      },
      "source": [
        "## 【問題５】過程の可視化\n",
        "\n",
        "折った紙の厚さがどのように変化しているか、過程を数値として取得する"
      ]
    },
    {
      "cell_type": "code",
      "metadata": {
        "id": "0_EjXtqWyRXE",
        "colab_type": "code",
        "outputId": "5a1f2a86-1e9b-439b-e67b-691ca87de328",
        "colab": {
          "base_uri": "https://localhost:8080/",
          "height": 51
        }
      },
      "source": [
        "folded_thick_list = [0.00008]\n",
        "folded_thickness = folded_thick_list[0]\n",
        "for i in range(43):\n",
        "  folded_thickness *= 2 \n",
        "  folded_thick_list.append(folded_thickness)\n",
        "print(len(folded_thick_list))\n",
        "\n",
        "\"\"\"\n",
        "#リスト中身の確認\n",
        "for j in folded_thick_list:\n",
        "  print(j)\n",
        "\"\"\""
      ],
      "execution_count": 22,
      "outputs": [
        {
          "output_type": "stream",
          "text": [
            "44\n"
          ],
          "name": "stdout"
        },
        {
          "output_type": "execute_result",
          "data": {
            "text/plain": [
              "'\\n#リスト中身の確認\\nfor j in folded_thick_list:\\n  print(j)\\n'"
            ]
          },
          "metadata": {
            "tags": []
          },
          "execution_count": 22
        }
      ]
    },
    {
      "cell_type": "markdown",
      "metadata": {
        "id": "nECphF7u0XUL",
        "colab_type": "text"
      },
      "source": [
        "##【問題６】折れ線グラフの表示\n",
        "問題５で作成したリストをグラフ表示させるプログラム"
      ]
    },
    {
      "cell_type": "code",
      "metadata": {
        "id": "ZOzzPMV71TGa",
        "colab_type": "code",
        "outputId": "36566190-a009-4e50-af35-9cb287c7dc84",
        "colab": {
          "base_uri": "https://localhost:8080/",
          "height": 295
        }
      },
      "source": [
        "\"\"\"\n",
        "グラフを表示する。タイトルと軸ラベル名付き。\n",
        "\"\"\"\n",
        "import matplotlib.pyplot as plt\n",
        "%matplotlib inline\n",
        "\n",
        "plt.title(\"thickness of folded paper\")\n",
        "plt.xlabel(\"number of folds\")\n",
        "plt.ylabel(\"thickness[m]\")\n",
        "plt.plot(folded_thick_list) # 「リスト名」のところにリストの変数名を入れる\n",
        "plt.show()"
      ],
      "execution_count": 0,
      "outputs": [
        {
          "output_type": "display_data",
          "data": {
            "image/png": "[encoded data removed]",
            "text/plain": [
              "<Figure size 432x288 with 1 Axes>"
            ]
          },
          "metadata": {
            "tags": []
          }
        }
      ]
    },
    {
      "cell_type": "markdown",
      "metadata": {
        "id": "xRazPPyy1g7O",
        "colab_type": "text"
      },
      "source": [
        "結果、べき乗を計算した上記グラフから、紙の厚さと折りたたみ回数の関係は、「単調に増加」していることがわかる\n",
        "\n",
        "\n",
        "## 【問題7】グラフのカスタマイズ\n",
        "\n",
        "以下、グラフの表示形式をテスト的にいくつか作成してみた\n",
        "\n"
      ]
    },
    {
      "cell_type": "code",
      "metadata": {
        "id": "Vj3sydkB2wWS",
        "colab_type": "code",
        "outputId": "70da9509-8407-4374-dc41-b5d35c41e8b5",
        "colab": {
          "base_uri": "https://localhost:8080/",
          "height": 300
        }
      },
      "source": [
        "\"\"\"\n",
        "パターン１：点線\n",
        "\"\"\"\n",
        "plt.title(\"thickness of folded paper\")\n",
        "plt.xlabel(\"number of folds\")\n",
        "plt.ylabel(\"thickness[m]\")\n",
        "plt.tick_params(labelsize=15) # 軸の値に関する設定を行う\n",
        "plt.plot(folded_thick_list, color = '#aacf53' , linewidth = 5, linestyle = '--') # linestyleにて点線を指定\n",
        "plt.show()"
      ],
      "execution_count": 0,
      "outputs": [
        {
          "output_type": "display_data",
          "data": {
            "image/png": "[encoded data removed]",
            "text/plain": [
              "<Figure size 432x288 with 1 Axes>"
            ]
          },
          "metadata": {
            "tags": []
          }
        }
      ]
    },
    {
      "cell_type": "code",
      "metadata": {
        "id": "5D1VIWy39a-Q",
        "colab_type": "code",
        "outputId": "8ba165da-4492-4b00-d62d-ceaff506f4cb",
        "colab": {
          "base_uri": "https://localhost:8080/",
          "height": 301
        }
      },
      "source": [
        "\"\"\"\n",
        "パターン２：タイトルの強調\n",
        "\"\"\"\n",
        "plt.title(\"thickness of folded paper\", loc='right', fontsize=16, color = 'red') # タイトルもオプションで色々指定できる\n",
        "plt.xlabel(\"number of folds\", fontsize=14)\n",
        "plt.ylabel(\"thickness[m]\", fontsize=14)\n",
        "plt.plot(folded_thick_list)\n",
        "plt.show()"
      ],
      "execution_count": 0,
      "outputs": [
        {
          "output_type": "display_data",
          "data": {
            "image/png": "[encoded data removed]",
            "text/plain": [
              "<Figure size 432x288 with 1 Axes>"
            ]
          },
          "metadata": {
            "tags": []
          }
        }
      ]
    },
    {
      "cell_type": "code",
      "metadata": {
        "id": "78PFJNJWAgBk",
        "colab_type": "code",
        "outputId": "a26f3e50-475e-410a-ea8b-cceb61b8a27c",
        "colab": {
          "base_uri": "https://localhost:8080/",
          "height": 301
        }
      },
      "source": [
        "\"\"\"\n",
        "パターン３：背景色の変更\n",
        "\"\"\"\n",
        "\n",
        "fig = plt.figure()  # Figureを設定\n",
        "ax = fig.add_subplot(111) #Axesを追加\n",
        "\n",
        "plt.title(\"thickness of folded paper\", fontsize=16)\n",
        "plt.xlabel(\"number of folds\", fontsize=14)\n",
        "plt.ylabel(\"thickness[m]\", fontsize=14)\n",
        "fig.patch.set_facecolor('#bce2e8') #全体背景色\n",
        "ax.patch.set_facecolor('#d1e5e8') #グラフ領域背景色\n",
        "plt.plot(folded_thick_list , linewidth = 5, linestyle = '-')\n",
        "\n",
        "plt.show()"
      ],
      "execution_count": 0,
      "outputs": [
        {
          "output_type": "display_data",
          "data": {
            "image/png": "[encoded data removed]",
            "text/plain": [
              "<Figure size 432x288 with 1 Axes>"
            ]
          },
          "metadata": {
            "tags": []
          }
        }
      ]
    },
    {
      "cell_type": "markdown",
      "metadata": {
        "id": "11DvBEK6E6Yy",
        "colab_type": "text"
      },
      "source": [
        "\n",
        "＜add_subplotの後ろの数字について＞\n",
        "\n",
        ">単一の整数としてコード化されたサブプロットグリッドパラメータ。例えば、「111」は「1×1グリッド、第1のサブプロット」を意味し、「234」は「2×3グリッド、第4サブプロット」を意味する。\n",
        "add_subplot（111）の代替形式はadd_subplot（1,1,1）\n",
        "\n",
        "https://codeday.me/jp/qa/20181222/13410.html\n",
        "\n",
        "・figureとaxesについては以下のページが参考になる\n",
        "\n",
        "http://ailaby.com/matplotlib_fig/\n"
      ]
    },
    {
      "cell_type": "code",
      "metadata": {
        "id": "x6Hc3igIDJTT",
        "colab_type": "code",
        "outputId": "cdf0ea4d-c9ca-4fd0-bb1a-3fd8a03742ac",
        "colab": {
          "base_uri": "https://localhost:8080/",
          "height": 299
        }
      },
      "source": [
        "\"\"\"\n",
        "パターン4：目盛りの書式等\n",
        "\"\"\"\n",
        "fig = plt.figure()\n",
        "ax = fig.add_subplot(111) \n",
        "plt.title(\"thickness of folded paper\")\n",
        "\n",
        "#ラベルの書式\n",
        "ax.set_xlabel(\"number of folds\", size = 14, weight = \"bold\")\n",
        "ax.set_ylabel(\"thickness[m]\", size = 14, weight = \"light\")\n",
        "\n",
        "#目盛りの書式\n",
        "ax.tick_params(axis = 'y' , labelsize = 12 ,pad = 10.0, direction = \"inout\", length = 10, colors = \"blue\")\n",
        "\n",
        "# y軸の目盛設定\n",
        "ax.set_yticks([0,100000000,200000000,300000000,400000000,700000000,800000000])\n",
        "#y軸目盛りの単位\n",
        "plt.gca().ticklabel_format(style='plain', axis='y')\n",
        "\n",
        "plt.plot(folded_thick_list, marker='D' ) #マーカーのオプションを設定\n",
        "plt.show()"
      ],
      "execution_count": 0,
      "outputs": [
        {
          "output_type": "display_data",
          "data": {
            "image/png": "[encoded data removed]",
            "text/plain": [
              "<Figure size 432x288 with 1 Axes>"
            ]
          },
          "metadata": {
            "tags": []
          }
        }
      ]
    },
    {
      "cell_type": "markdown",
      "metadata": {
        "id": "vH_ExOfCKp1Z",
        "colab_type": "text"
      },
      "source": [
        "【参考】https://python.atelierkobato.com/tick/\n",
        "\n",
        "　　　　https://teratail.com/questions/156739\n",
        "\n",
        "\n",
        "\n",
        "以上"
      ]
    }
  ]
}