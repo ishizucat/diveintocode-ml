{
 "cells": [
  {
   "cell_type": "markdown",
   "metadata": {},
   "source": [
    "# 深層学習スクラッチ　畳み込みNN２\n",
    "\n",
    "スクラッチで2次元用畳み込みニューラルネットワークを実装した後、学習と検証を行なっていく。"
   ]
  },
  {
   "cell_type": "code",
   "execution_count": 1,
   "metadata": {
    "cell_style": "split"
   },
   "outputs": [],
   "source": [
    "#基本ライブラリ\n",
    "import time\n",
    "import pickle\n",
    "import numpy as np\n",
    "import matplotlib.pyplot as plt\n",
    "import pandas as pd\n",
    "import seaborn as sns\n",
    "%matplotlib inline"
   ]
  },
  {
   "cell_type": "code",
   "execution_count": 2,
   "metadata": {
    "cell_style": "split"
   },
   "outputs": [],
   "source": [
    "#scikit-learnライブラリ\n",
    "from sklearn.preprocessing import StandardScaler\n",
    "from sklearn import metrics\n",
    "from sklearn.model_selection import train_test_split\n",
    "\n",
    "#データセット\n",
    "#from sklearn.datasets import load_iris"
   ]
  },
  {
   "cell_type": "code",
   "execution_count": 3,
   "metadata": {},
   "outputs": [
    {
     "name": "stderr",
     "output_type": "stream",
     "text": [
      "Using TensorFlow backend.\n"
     ]
    },
    {
     "name": "stdout",
     "output_type": "stream",
     "text": [
      "(48000, 28, 28)\n",
      "(12000, 28, 28)\n",
      "(48000, 10)\n",
      "(12000, 10)\n"
     ]
    }
   ],
   "source": [
    "#MNISTデータセット\n",
    "from keras.datasets import mnist\n",
    "(X_train, y_train), (X_test, y_test) = mnist.load_data()\n",
    "\n",
    "#平滑化\n",
    "#X_train_f = X_train.reshape(-1, 784)\n",
    "#X_test_f = X_test.reshape(-1, 784)\n",
    "\n",
    "#前処理\n",
    "X_train_ff = X_train.astype(np.float)\n",
    "X_test_ff = X_test.astype(np.float)\n",
    "X_train_ff /= 255\n",
    "X_test_ff /= 255\n",
    "\n",
    "from sklearn.preprocessing import OneHotEncoder\n",
    "enc = OneHotEncoder(handle_unknown='ignore', sparse=False)\n",
    "y_train_one_hot = enc.fit_transform(y_train[:, np.newaxis])\n",
    "y_test_one_hot = enc.transform(y_test[:, np.newaxis])\n",
    "\n",
    "Xt_train, Xt_val, yt_train, yt_val = train_test_split(X_train_ff, y_train_one_hot, test_size=0.2)\n",
    "print(Xt_train.shape) # (48000, 784)\n",
    "print(Xt_val.shape) # (12000, 784)\n",
    "print(yt_train.shape)\n",
    "print(yt_val.shape)"
   ]
  },
  {
   "cell_type": "markdown",
   "metadata": {},
   "source": [
    "### データセットにチャネル次元を増やす\n",
    "\n",
    "**reshapeとnewaxisの違い**\n",
    "\n",
    "- newaxisを使って次元を追加すると、元の配列の各次元における要素数がわからなくても実行可能\n",
    "- reshapeは１つだけわからないときは-1を使って自動調整できるが、-1を2回以上使うとエラーになる\n",
    "- reshapeは次元追加に合わせて形状変更が可能"
   ]
  },
  {
   "cell_type": "code",
   "execution_count": 4,
   "metadata": {},
   "outputs": [
    {
     "name": "stdout",
     "output_type": "stream",
     "text": [
      "(48000, 1, 28, 28)\n",
      "(12000, 1, 28, 28)\n",
      "(48000, 1, 10)\n",
      "(12000, 1, 10)\n"
     ]
    }
   ],
   "source": [
    "#チャネルの次元を増やす\n",
    "Xt_train = Xt_train[:, np.newaxis, :, :]\n",
    "Xt_val = Xt_val[:, np.newaxis, :, :]\n",
    "yt_train = yt_train[:, np.newaxis, :]\n",
    "yt_val  = yt_val[:, np.newaxis, :]\n",
    "\n",
    "print(Xt_train.shape)\n",
    "print(Xt_val.shape)\n",
    "print(yt_train.shape)\n",
    "print(yt_val.shape)"
   ]
  },
  {
   "cell_type": "markdown",
   "metadata": {},
   "source": [
    "## 実装に必要な関数\n",
    "\n",
    "### ２次元畳み込み後の出力サイズ"
   ]
  },
  {
   "cell_type": "code",
   "execution_count": 5,
   "metadata": {},
   "outputs": [],
   "source": [
    "def Nw_out(Nw_in, P, F, S):\n",
    "    return (Nw_in + 2*P - F) / S + 1\n",
    "\n",
    "def Nh_out(Nh_in, P, F, S):\n",
    "    return (Nh_in + 2*P - F) / S + 1"
   ]
  },
  {
   "cell_type": "code",
   "execution_count": 6,
   "metadata": {},
   "outputs": [
    {
     "name": "stdout",
     "output_type": "stream",
     "text": [
      "2.0 2.0\n"
     ]
    }
   ],
   "source": [
    "x = (4,4)\n",
    "P = 0\n",
    "S = 1\n",
    "F = (3,3)\n",
    "\n",
    "h = Nh_out(x[0], P, F[0], S)\n",
    "w = Nw_out(x[1], P, F[1], S)\n",
    "print(h, w)"
   ]
  },
  {
   "cell_type": "markdown",
   "metadata": {},
   "source": [
    "### SGD、Initiarizer"
   ]
  },
  {
   "cell_type": "code",
   "execution_count": 7,
   "metadata": {},
   "outputs": [],
   "source": [
    "#SGD for Conv\n",
    "class SGD:\n",
    "    \"\"\"\n",
    "    確率的勾配降下法\n",
    "    Parameters\n",
    "    ----------\n",
    "    lr : 学習率\n",
    "    \"\"\"\n",
    "    def __init__(self, lr=0.01):\n",
    "        self.lr = lr\n",
    "        \n",
    "    def update(self, layer):\n",
    "        \"\"\"\n",
    "        ある層の重みやバイアスの更新\n",
    "        Parameters\n",
    "        ----------\n",
    "        layer : 更新前の層のインスタンス\n",
    "        \"\"\"\n",
    "        layer.W -= self.lr*layer.LW\n",
    "        layer.B -= self.lr*layer.LB\n"
   ]
  },
  {
   "cell_type": "code",
   "execution_count": 8,
   "metadata": {
    "code_folding": []
   },
   "outputs": [],
   "source": [
    "class OneInit():\n",
    "    def __init__(self, sigma=0.01):\n",
    "        self.sigma = sigma\n",
    "        \n",
    "    def W(self, hw, input_channel=1, output_channel=1 ):\n",
    "        \"\"\"\n",
    "        重みの初期化\n",
    "        Parameters\n",
    "        ----------\n",
    "        hw: フィルタの縦横サイズ（タプル）\n",
    "        input_channel： チャネルの入力サイズ\n",
    "        output_channel：チャネルの出力サイズ\n",
    "        \"\"\"\n",
    "        W = np.ones((output_channel, input_channel, hw[0], hw[1]))\n",
    "\n",
    "        return W\n",
    "    \n",
    "    def B(self, output_channel):\n",
    "        \"\"\"\n",
    "        バイアスの初期化\n",
    "        -------------\n",
    "        output_channel：アウトプットチャネル数\n",
    "        \"\"\"\n",
    "        B = np.ones((output_channel)).astype(float)\n",
    "        \n",
    "        return B"
   ]
  },
  {
   "cell_type": "code",
   "execution_count": 9,
   "metadata": {
    "code_folding": [
     0
    ]
   },
   "outputs": [],
   "source": [
    "#ザビエル for Conv\n",
    "class XavierlInit():\n",
    "    def __init__(self, sigma=0.01):\n",
    "        self.sigma = sigma\n",
    "        \n",
    "    def W(self, w, input_channel=1, output_channel=1 ):\n",
    "        \"\"\"\n",
    "        重みの初期化\n",
    "        Parameters\n",
    "        ----------\n",
    "        n_nodes1 : int\n",
    "          前の層のノード数\n",
    "        n_nodes2 : int\n",
    "          後の層のノード数\n",
    "\n",
    "        Returns\n",
    "        ----------\n",
    "        W :\n",
    "        \"\"\"\n",
    "        xavier = 1 / np.sqrt(w)\n",
    "        W = xavier * np.random.randn((output_channel, input_channel, w))\n",
    "\n",
    "        return W\n",
    "    \n",
    "    def B(self, output_channel, output_h, output_w):\n",
    "        \"\"\"\n",
    "        バイアスの初期化\n",
    "        Parameters\n",
    "        ----------\n",
    "        n_nodes2 : int\n",
    "          後の層のノード数\n",
    "\n",
    "        Returns\n",
    "        ----------\n",
    "        B :\n",
    "        \"\"\"\n",
    "        B = self.sigma * np.random.randn(output_channel, output_h, output_w) \n",
    "        \n",
    "        return B\n"
   ]
  },
  {
   "cell_type": "markdown",
   "metadata": {},
   "source": [
    "## for文を使った実装"
   ]
  },
  {
   "cell_type": "code",
   "execution_count": 10,
   "metadata": {},
   "outputs": [],
   "source": [
    "class Conv2dFor():\n",
    "   \n",
    "    def __init__(self, initializer, optimizer, fsize, in_channel=1, out_channel=1, pad=0, stride=1, mode='constant'):\n",
    "        self.optimizer = optimizer\n",
    "        self.initializer = initializer\n",
    "        self.in_channel = in_channel\n",
    "        self.out_channel = out_channel\n",
    "        self.pad = pad\n",
    "        self.fsize = fsize   #1次元\n",
    "        self.stride = stride\n",
    "        self.B = 0\n",
    "        self.mode = mode\n",
    "    \n",
    "    def forward(self, X, init=False):\n",
    "\n",
    "        if init:\n",
    "            self.X = self.pad_init(X, self.pad, self.mode)\n",
    "            self.W =  self.initializer.W(self.fsize, self.in_channel, self.out_channel)\n",
    "            outputsize = (int(self.Nh_out(X.shape[1], self.pad, self.fsize[0], self.stride)),\n",
    "                               int(self.Nw_out(X.shape[2], self.pad, self.fsize[1], self.stride)))\n",
    "            self.B = self.initializer.B(self.out_channel)\n",
    "            self.LW = np.zeros(self.W.shape)\n",
    "            self.LZ = np.zeros(self.X.shape)\n",
    "            self.A = np.zeros((self.out_channel, outputsize[0], outputsize[1]))\n",
    "        \n",
    "        for k in range(self.out_channel):    #フィルター数イテレーション\n",
    "            for j in range(self.X.shape[0]):   #入力チャネルイテレーション\n",
    "                for h in range(0, self.X.shape[1] - self.W.shape[2] + 1):       #フィルタ縦移動\n",
    "                    for w in range(0, self.X.shape[2] - self.W.shape[3] + 1):  #フィルタ横移動\n",
    "                        self.A[k, h, w] += np.sum(self.X[j, h: h+self.W.shape[2], w: w+self.W.shape[3]] * self.W[k, j])\n",
    "            self.A[k] += self.B[k]\n",
    "        \n",
    "        return self.A\n",
    "    \n",
    "    def backward(self, LA):\n",
    "\n",
    "        self.LB = np.sum(np.sum(LA, axis=1), axis=1)   #チャネルごと傾きをSum\n",
    "        \n",
    "        for k in range(self.out_channel): \n",
    "            for j in range(self.W.shape[1]):\n",
    "                for h in range(LA.shape[1]):\n",
    "                    for w in range(LA.shape[2]):\n",
    "                        self.LW[k, j] += (self.X[j, h: h+self.W.shape[2], w: w+self.W.shape[3]] * LA[k, h, w])\n",
    "\n",
    "        for k in range(self.out_channel):\n",
    "            for j in range(self.X.shape[0]):\n",
    "                for h in range(LA.shape[1]):\n",
    "                    for w in range(LA.shape[2]):\n",
    "                        self.LZ[j, h: h+self.W.shape[2], w: w+self.W.shape[3]] += LA[k, h, w]*self.W[k, j]\n",
    "                    \n",
    "        LZ = self.LZ\n",
    "        \n",
    "        # 更新\n",
    "        self.optimizer.update(self)\n",
    "        \n",
    "        return LZ\n",
    "\n",
    "    def Nw_out(self, Nw_in, P, F, S):\n",
    "        return (Nw_in + 2*P - F) / S + 1\n",
    "\n",
    "    def Nh_out(self, Nh_in, P, F, S):\n",
    "        return (Nh_in + 2*P - F) / S + 1\n",
    "    \n",
    "    def pad_init(self, X, pad, mode='constant'):\n",
    "        \"\"\"\n",
    "        パディングを追加する関数\n",
    "        ----\n",
    "        pad: スカラーもしくは配列\n",
    "        mode: 補完する値\n",
    "        \"\"\"\n",
    "        return np.pad(X, pad, mode)\n"
   ]
  },
  {
   "cell_type": "code",
   "execution_count": 11,
   "metadata": {},
   "outputs": [
    {
     "name": "stdout",
     "output_type": "stream",
     "text": [
      "A: [[[ 46.  55.  64.]\n",
      "  [ 64.  73.  82.]\n",
      "  [ 82.  91. 100.]]\n",
      "\n",
      " [[ 46.  55.  64.]\n",
      "  [ 64.  73.  82.]\n",
      "  [ 82.  91. 100.]]\n",
      "\n",
      " [[ 46.  55.  64.]\n",
      "  [ 64.  73.  82.]\n",
      "  [ 82.  91. 100.]]]\n",
      "W [[[[1. 1. 1.]\n",
      "   [1. 1. 1.]\n",
      "   [1. 1. 1.]]\n",
      "\n",
      "  [[1. 1. 1.]\n",
      "   [1. 1. 1.]\n",
      "   [1. 1. 1.]]]\n",
      "\n",
      "\n",
      " [[[1. 1. 1.]\n",
      "   [1. 1. 1.]\n",
      "   [1. 1. 1.]]\n",
      "\n",
      "  [[1. 1. 1.]\n",
      "   [1. 1. 1.]\n",
      "   [1. 1. 1.]]]\n",
      "\n",
      "\n",
      " [[[1. 1. 1.]\n",
      "   [1. 1. 1.]\n",
      "   [1. 1. 1.]]\n",
      "\n",
      "  [[1. 1. 1.]\n",
      "   [1. 1. 1.]\n",
      "   [1. 1. 1.]]]]\n"
     ]
    }
   ],
   "source": [
    "test = Conv2dFor(OneInit(), SGD(), fsize=(3,3), in_channel=2, out_channel=3, pad=0, stride=1)\n",
    "\n",
    "x = np.array([[[1, 2, 3, 4, 5], [2, 3, 4, 5, 6],[3, 4, 5, 6, 7],[4, 5, 6, 7, 8],[5, 6, 7, 8, 9]],\n",
    "                     [[1, 1, 1, 1, 1], [2, 2, 2, 2, 2],[3, 3, 3, 3, 3],[4, 4, 4, 4, 4],[5, 5, 5, 5, 5]]])\n",
    "\n",
    "\n",
    "A = test.forward(x, init=True)\n",
    "print(\"A:\", A)\n",
    "print(\"W\", test.W)"
   ]
  },
  {
   "cell_type": "code",
   "execution_count": 12,
   "metadata": {},
   "outputs": [
    {
     "name": "stdout",
     "output_type": "stream",
     "text": [
      "[[[ 14.   5.  -4.]\n",
      "  [ -4. -13. -22.]\n",
      "  [-22. -31. -40.]]\n",
      "\n",
      " [[ 14.   5.  -4.]\n",
      "  [ -4. -13. -22.]\n",
      "  [-22. -31. -40.]]\n",
      "\n",
      " [[ 14.   5.  -4.]\n",
      "  [ -4. -13. -22.]\n",
      "  [-22. -31. -40.]]]\n"
     ]
    }
   ],
   "source": [
    "y = np.array([60])\n",
    "LA = y - A\n",
    "print(LA)"
   ]
  },
  {
   "cell_type": "code",
   "execution_count": 13,
   "metadata": {},
   "outputs": [
    {
     "name": "stdout",
     "output_type": "stream",
     "text": [
      "-------\n",
      "LZ: [[[  42.   57.   45.    3.  -12.]\n",
      "  [  30.    6.  -72. -102.  -78.]\n",
      "  [ -36. -153. -351. -315. -198.]\n",
      "  [ -78. -210. -396. -318. -186.]\n",
      "  [ -66. -159. -279. -213. -120.]]\n",
      "\n",
      " [[  42.   57.   45.    3.  -12.]\n",
      "  [  30.    6.  -72. -102.  -78.]\n",
      "  [ -36. -153. -351. -315. -198.]\n",
      "  [ -78. -210. -396. -318. -186.]\n",
      "  [ -66. -159. -279. -213. -120.]]]\n",
      "dW: [[[[-513. -630. -747.]\n",
      "   [-630. -747. -864.]\n",
      "   [-747. -864. -981.]]\n",
      "\n",
      "  [[-342. -342. -342.]\n",
      "   [-459. -459. -459.]\n",
      "   [-576. -576. -576.]]]\n",
      "\n",
      "\n",
      " [[[-513. -630. -747.]\n",
      "   [-630. -747. -864.]\n",
      "   [-747. -864. -981.]]\n",
      "\n",
      "  [[-342. -342. -342.]\n",
      "   [-459. -459. -459.]\n",
      "   [-576. -576. -576.]]]\n",
      "\n",
      "\n",
      " [[[-513. -630. -747.]\n",
      "   [-630. -747. -864.]\n",
      "   [-747. -864. -981.]]\n",
      "\n",
      "  [[-342. -342. -342.]\n",
      "   [-459. -459. -459.]\n",
      "   [-576. -576. -576.]]]]\n",
      "dB: [-117. -117. -117.]\n",
      "NewB: [2.17 2.17 2.17]\n",
      "NewW: [[[[ 6.13  7.3   8.47]\n",
      "   [ 7.3   8.47  9.64]\n",
      "   [ 8.47  9.64 10.81]]\n",
      "\n",
      "  [[ 4.42  4.42  4.42]\n",
      "   [ 5.59  5.59  5.59]\n",
      "   [ 6.76  6.76  6.76]]]\n",
      "\n",
      "\n",
      " [[[ 6.13  7.3   8.47]\n",
      "   [ 7.3   8.47  9.64]\n",
      "   [ 8.47  9.64 10.81]]\n",
      "\n",
      "  [[ 4.42  4.42  4.42]\n",
      "   [ 5.59  5.59  5.59]\n",
      "   [ 6.76  6.76  6.76]]]\n",
      "\n",
      "\n",
      " [[[ 6.13  7.3   8.47]\n",
      "   [ 7.3   8.47  9.64]\n",
      "   [ 8.47  9.64 10.81]]\n",
      "\n",
      "  [[ 4.42  4.42  4.42]\n",
      "   [ 5.59  5.59  5.59]\n",
      "   [ 6.76  6.76  6.76]]]]\n"
     ]
    }
   ],
   "source": [
    "LZ = test.backward(LA)\n",
    "print(\"-------\")\n",
    "print(\"LZ:\", LZ)\n",
    "print(\"dW:\", test.LW)\n",
    "print(\"dB:\",  test.LB)\n",
    "print(\"NewB:\", test.B)\n",
    "print(\"NewW:\", test.W)"
   ]
  },
  {
   "cell_type": "markdown",
   "metadata": {},
   "source": [
    "## im2colを使った実装"
   ]
  },
  {
   "cell_type": "markdown",
   "metadata": {},
   "source": [
    "### 処理の流れ"
   ]
  },
  {
   "cell_type": "code",
   "execution_count": 14,
   "metadata": {},
   "outputs": [
    {
     "name": "stdout",
     "output_type": "stream",
     "text": [
      "out_H= 3\n",
      "out_W= 3\n"
     ]
    },
    {
     "data": {
      "text/plain": [
       "array([[0., 0., 0., 0., 0., 0., 0., 0., 0., 0., 0., 0., 0., 0., 0., 0.,\n",
       "        0., 0.],\n",
       "       [0., 0., 0., 0., 0., 0., 0., 0., 0., 0., 0., 0., 0., 0., 0., 0.,\n",
       "        0., 0.],\n",
       "       [0., 0., 0., 0., 0., 0., 0., 0., 0., 0., 0., 0., 0., 0., 0., 0.,\n",
       "        0., 0.],\n",
       "       [0., 0., 0., 0., 0., 0., 0., 0., 0., 0., 0., 0., 0., 0., 0., 0.,\n",
       "        0., 0.],\n",
       "       [0., 0., 0., 0., 0., 0., 0., 0., 0., 0., 0., 0., 0., 0., 0., 0.,\n",
       "        0., 0.],\n",
       "       [0., 0., 0., 0., 0., 0., 0., 0., 0., 0., 0., 0., 0., 0., 0., 0.,\n",
       "        0., 0.],\n",
       "       [0., 0., 0., 0., 0., 0., 0., 0., 0., 0., 0., 0., 0., 0., 0., 0.,\n",
       "        0., 0.],\n",
       "       [0., 0., 0., 0., 0., 0., 0., 0., 0., 0., 0., 0., 0., 0., 0., 0.,\n",
       "        0., 0.],\n",
       "       [0., 0., 0., 0., 0., 0., 0., 0., 0., 0., 0., 0., 0., 0., 0., 0.,\n",
       "        0., 0.]])"
      ]
     },
     "execution_count": 14,
     "metadata": {},
     "output_type": "execute_result"
    }
   ],
   "source": [
    "x = np.array([[[1, 2, 3, 4, 5], [2, 3, 4, 5, 6],[3, 4, 5, 6, 7],[4, 5, 6, 7, 8],[5, 6, 7, 8, 9]],\n",
    "                     [[1, 1, 1, 1, 1], [2, 2, 2, 2, 2],[3, 3, 3, 3, 3],[4, 4, 4, 4, 4],[5, 5, 5, 5, 5]]])\n",
    "\n",
    "FH = FW = 3\n",
    "stride = 1\n",
    "C, H, W = x.shape\n",
    "N = 1\n",
    "\n",
    "out_H = ((H - FH) // stride) + 1\n",
    "out_W = ((W - FW) // stride) + 1\n",
    "print(\"out_H=\", out_H)\n",
    "print(\"out_W=\", out_W)\n",
    "\n",
    "col = np.zeros([out_H * out_W * N, C * FH * FW])  \n",
    "\n",
    "#colの縦は、AをFlattenしたサイズをサンプル数分用意したもの\n",
    "#colの横は、フィルタをinputチャネルごとFlattenしたもの\n",
    "col"
   ]
  },
  {
   "cell_type": "code",
   "execution_count": 15,
   "metadata": {},
   "outputs": [
    {
     "name": "stdout",
     "output_type": "stream",
     "text": [
      "[[[1 2 3]\n",
      "  [2 3 4]\n",
      "  [3 4 5]]\n",
      "\n",
      " [[1 1 1]\n",
      "  [2 2 2]\n",
      "  [3 3 3]]]\n",
      "(2, 3, 3)\n",
      "[1 2 3 2 3 4 3 4 5 1 1 1 2 2 2 3 3 3]\n",
      "[[[2 3 4]\n",
      "  [3 4 5]\n",
      "  [4 5 6]]\n",
      "\n",
      " [[1 1 1]\n",
      "  [2 2 2]\n",
      "  [3 3 3]]]\n",
      "(2, 3, 3)\n",
      "[2 3 4 3 4 5 4 5 6 1 1 1 2 2 2 3 3 3]\n",
      "[[[3 4 5]\n",
      "  [4 5 6]\n",
      "  [5 6 7]]\n",
      "\n",
      " [[1 1 1]\n",
      "  [2 2 2]\n",
      "  [3 3 3]]]\n",
      "(2, 3, 3)\n",
      "[3 4 5 4 5 6 5 6 7 1 1 1 2 2 2 3 3 3]\n",
      "[[[2 3 4]\n",
      "  [3 4 5]\n",
      "  [4 5 6]]\n",
      "\n",
      " [[2 2 2]\n",
      "  [3 3 3]\n",
      "  [4 4 4]]]\n",
      "(2, 3, 3)\n",
      "[2 3 4 3 4 5 4 5 6 2 2 2 3 3 3 4 4 4]\n",
      "[[[3 4 5]\n",
      "  [4 5 6]\n",
      "  [5 6 7]]\n",
      "\n",
      " [[2 2 2]\n",
      "  [3 3 3]\n",
      "  [4 4 4]]]\n",
      "(2, 3, 3)\n",
      "[3 4 5 4 5 6 5 6 7 2 2 2 3 3 3 4 4 4]\n",
      "[[[4 5 6]\n",
      "  [5 6 7]\n",
      "  [6 7 8]]\n",
      "\n",
      " [[2 2 2]\n",
      "  [3 3 3]\n",
      "  [4 4 4]]]\n",
      "(2, 3, 3)\n",
      "[4 5 6 5 6 7 6 7 8 2 2 2 3 3 3 4 4 4]\n",
      "[[[3 4 5]\n",
      "  [4 5 6]\n",
      "  [5 6 7]]\n",
      "\n",
      " [[3 3 3]\n",
      "  [4 4 4]\n",
      "  [5 5 5]]]\n",
      "(2, 3, 3)\n",
      "[3 4 5 4 5 6 5 6 7 3 3 3 4 4 4 5 5 5]\n",
      "[[[4 5 6]\n",
      "  [5 6 7]\n",
      "  [6 7 8]]\n",
      "\n",
      " [[3 3 3]\n",
      "  [4 4 4]\n",
      "  [5 5 5]]]\n",
      "(2, 3, 3)\n",
      "[4 5 6 5 6 7 6 7 8 3 3 3 4 4 4 5 5 5]\n",
      "[[[5 6 7]\n",
      "  [6 7 8]\n",
      "  [7 8 9]]\n",
      "\n",
      " [[3 3 3]\n",
      "  [4 4 4]\n",
      "  [5 5 5]]]\n",
      "(2, 3, 3)\n",
      "[5 6 7 6 7 8 7 8 9 3 3 3 4 4 4 5 5 5]\n"
     ]
    },
    {
     "data": {
      "text/plain": [
       "array([[1., 2., 3., 2., 3., 4., 3., 4., 5., 1., 1., 1., 2., 2., 2., 3.,\n",
       "        3., 3.],\n",
       "       [2., 3., 4., 3., 4., 5., 4., 5., 6., 1., 1., 1., 2., 2., 2., 3.,\n",
       "        3., 3.],\n",
       "       [3., 4., 5., 4., 5., 6., 5., 6., 7., 1., 1., 1., 2., 2., 2., 3.,\n",
       "        3., 3.],\n",
       "       [2., 3., 4., 3., 4., 5., 4., 5., 6., 2., 2., 2., 3., 3., 3., 4.,\n",
       "        4., 4.],\n",
       "       [3., 4., 5., 4., 5., 6., 5., 6., 7., 2., 2., 2., 3., 3., 3., 4.,\n",
       "        4., 4.],\n",
       "       [4., 5., 6., 5., 6., 7., 6., 7., 8., 2., 2., 2., 3., 3., 3., 4.,\n",
       "        4., 4.],\n",
       "       [3., 4., 5., 4., 5., 6., 5., 6., 7., 3., 3., 3., 4., 4., 4., 5.,\n",
       "        5., 5.],\n",
       "       [4., 5., 6., 5., 6., 7., 6., 7., 8., 3., 3., 3., 4., 4., 4., 5.,\n",
       "        5., 5.],\n",
       "       [5., 6., 7., 6., 7., 8., 7., 8., 9., 3., 3., 3., 4., 4., 4., 5.,\n",
       "        5., 5.]])"
      ]
     },
     "execution_count": 15,
     "metadata": {},
     "output_type": "execute_result"
    }
   ],
   "source": [
    "for i in range(out_H):\n",
    "    for j in range(out_W):\n",
    "        patch = x[ : , i*stride : i*stride+FH, j*stride : j*stride+FW]    #横→縦の順にストライドしていく\n",
    "        print(patch)\n",
    "        print(patch.shape)\n",
    "        print(np.reshape(patch, -1))\n",
    "        col[i*out_W + j, : ] = np.reshape(patch, -1)   #0→１→２\n",
    "col"
   ]
  },
  {
   "cell_type": "code",
   "execution_count": 16,
   "metadata": {},
   "outputs": [
    {
     "name": "stdout",
     "output_type": "stream",
     "text": [
      "(2, 3, 3)\n",
      "(18,)\n",
      "[ 46.  55.  64.  64.  73.  82.  82.  91. 100.]\n"
     ]
    }
   ],
   "source": [
    "weight = np.array( [[[1, 1, 1],[1, 1, 1],[1, 1, 1]],[[1, 1, 1],[1, 1, 1],[1, 1, 1]]])\n",
    "print(weight.shape)\n",
    "weight_f = np.reshape(weight, -1)\n",
    "print(weight_f.shape)\n",
    "a = np.dot(col,weight_f)+1\n",
    "print(a)"
   ]
  },
  {
   "cell_type": "markdown",
   "metadata": {},
   "source": [
    "### im2col\n"
   ]
  },
  {
   "cell_type": "code",
   "execution_count": null,
   "metadata": {},
   "outputs": [],
   "source": []
  },
  {
   "cell_type": "markdown",
   "metadata": {},
   "source": [
    "### conv2d"
   ]
  },
  {
   "cell_type": "code",
   "execution_count": 21,
   "metadata": {},
   "outputs": [],
   "source": [
    "class Conv2d():\n",
    "   \n",
    "    def __init__(self, initializer, optimizer, fsize, in_channel=1, out_channel=1, pad=0, mode='constant', stride=1):\n",
    "        self.optimizer = optimizer\n",
    "        self.initializer = initializer\n",
    "        self.in_channel = in_channel\n",
    "        self.out_channel = out_channel\n",
    "        self.pad = pad\n",
    "        self.fsize = fsize   #1次元\n",
    "        self.stride = stride\n",
    "        self.B = 0\n",
    "        self.mode = mode\n",
    "    \n",
    "    def forward(self, X, init=False):\n",
    "        \"\"\"\n",
    "        X: (n_sumple, in_channel, height, width)の４次元配列\n",
    "        \"\"\"\n",
    "\n",
    "        if init:\n",
    "            self.X = self.pad_init(X, self.pad, self.mode)\n",
    "            self.col = self.im2col(self.X, self.fsize[0], self.fsize[1], self.stride)\n",
    "            self.W =  self.initializer.W(self.fsize, self.in_channel, self.out_channel).flatten().reshape(self.out_channel, -1)\n",
    "            self.outputsize = (int(self.Nh_out(X.shape[2], self.pad, self.fsize[0], self.stride)),\n",
    "                               int(self.Nw_out(X.shape[3], self.pad, self.fsize[1], self.stride)))\n",
    "            self.B = self.initializer.B(self.out_channel)\n",
    "            self.LW = np.zeros(self.W.shape)\n",
    "            self.LZ = np.zeros(self.col.shape)\n",
    "            self.A = np.zeros((self.out_channel, self.X.shape[0] * self.outputsize[0] * self.outputsize[1]))\n",
    "        \n",
    "        for c in range(self.out_channel):    #フィルター数イテレーション\n",
    "            self.A[c] = np.dot(self.col, self.W[c]) + self.B[c]\n",
    "        \n",
    "        return self.A.reshape(self.X.shape[0], self.out_channel, self.outputsize[0], self.outputsize[1])\n",
    "    \n",
    "    def backward(self, LA):\n",
    "\n",
    "        self.LB = np.sum(LA, axis=1)   #チャネルごと傾きをSum\n",
    "        \n",
    "        for c in range(self.out_channel): \n",
    "            self.LW[c] = np.sum(self.col * LA[c].reshape(-1,1), axis=0)\n",
    "\n",
    "        for c in range(self.out_channel):\n",
    "            self.LZ += np.tile(self.W[c],(9, 1)) * LA[c].reshape(-1,1)\n",
    "                    \n",
    "        LZ = self.LZ\n",
    "        \n",
    "        # 更新\n",
    "        self.optimizer.update(self)\n",
    "        \n",
    "        return LZ\n",
    "\n",
    "    def Nw_out(self, Nw_in, P, F, S):\n",
    "        return (Nw_in + 2*P - F) / S + 1\n",
    "\n",
    "    def Nh_out(self, Nh_in, P, F, S):\n",
    "        return (Nh_in + 2*P - F) / S + 1\n",
    "    \n",
    "    def pad_init(self, X, pad, mode='constant'):\n",
    "        \"\"\"\n",
    "        パディングを追加する関数\n",
    "        ----\n",
    "        pad: スカラーもしくは配列\n",
    "        mode: 補完する値\n",
    "        \"\"\"\n",
    "        return np.pad(X, pad, mode)\n",
    "    \n",
    "    def im2col(self, X, FH, FW, stride):\n",
    "        \"\"\"\n",
    "        コンボリュージョンマップを作成する\n",
    "        \"\"\"\n",
    "        N, C, H, W = X.shape\n",
    "        out_H = ((H - FH) // stride) + 1\n",
    "        out_W = ((W - FW) // stride) + 1\n",
    "        col = np.zeros([out_H * out_W * N, C * FH * FW]) \n",
    "        \n",
    "        for n in range(N):\n",
    "            for i in range(out_H):\n",
    "                for j in range(out_W):\n",
    "                    patch = X[n, : , i*stride : i*stride+FH, j*stride : j*stride+FW]\n",
    "                    col[i*out_W + j, : ] = np.reshape(patch, -1)\n",
    "                    \n",
    "        return col\n"
   ]
  },
  {
   "cell_type": "code",
   "execution_count": 22,
   "metadata": {},
   "outputs": [
    {
     "name": "stdout",
     "output_type": "stream",
     "text": [
      "A: [[[[ 46.  55.  64.]\n",
      "   [ 64.  73.  82.]\n",
      "   [ 82.  91. 100.]]\n",
      "\n",
      "  [[ 46.  55.  64.]\n",
      "   [ 64.  73.  82.]\n",
      "   [ 82.  91. 100.]]\n",
      "\n",
      "  [[ 46.  55.  64.]\n",
      "   [ 64.  73.  82.]\n",
      "   [ 82.  91. 100.]]]]\n",
      "W [[1. 1. 1. 1. 1. 1. 1. 1. 1. 1. 1. 1. 1. 1. 1. 1. 1. 1.]\n",
      " [1. 1. 1. 1. 1. 1. 1. 1. 1. 1. 1. 1. 1. 1. 1. 1. 1. 1.]\n",
      " [1. 1. 1. 1. 1. 1. 1. 1. 1. 1. 1. 1. 1. 1. 1. 1. 1. 1.]]\n"
     ]
    }
   ],
   "source": [
    "test0 = Conv2d(OneInit(), SGD(), fsize=(3,3), in_channel=2, out_channel=3, pad=0, stride=1)\n",
    "\n",
    "x = np.array([[[[1, 2, 3, 4, 5], [2, 3, 4, 5, 6],[3, 4, 5, 6, 7],[4, 5, 6, 7, 8],[5, 6, 7, 8, 9]],\n",
    "                     [[1, 1, 1, 1, 1], [2, 2, 2, 2, 2],[3, 3, 3, 3, 3],[4, 4, 4, 4, 4],[5, 5, 5, 5, 5]]]])\n",
    "\n",
    "\n",
    "A0 = test0.forward(x, init=True)\n",
    "print(\"A:\", A0)\n",
    "print(\"W\", test0.W)"
   ]
  },
  {
   "cell_type": "code",
   "execution_count": 23,
   "metadata": {},
   "outputs": [
    {
     "name": "stdout",
     "output_type": "stream",
     "text": [
      "[[[[ 14.   5.  -4.]\n",
      "   [ -4. -13. -22.]\n",
      "   [-22. -31. -40.]]\n",
      "\n",
      "  [[ 14.   5.  -4.]\n",
      "   [ -4. -13. -22.]\n",
      "   [-22. -31. -40.]]\n",
      "\n",
      "  [[ 14.   5.  -4.]\n",
      "   [ -4. -13. -22.]\n",
      "   [-22. -31. -40.]]]]\n"
     ]
    }
   ],
   "source": [
    "y = np.array([60])\n",
    "LA0 = y - A0\n",
    "print(LA0)"
   ]
  },
  {
   "cell_type": "code",
   "execution_count": 24,
   "metadata": {},
   "outputs": [
    {
     "ename": "ValueError",
     "evalue": "operands could not be broadcast together with shapes (9,18) (27,1) ",
     "output_type": "error",
     "traceback": [
      "\u001b[0;31m---------------------------------------------------------------------------\u001b[0m",
      "\u001b[0;31mValueError\u001b[0m                                Traceback (most recent call last)",
      "\u001b[0;32m<ipython-input-24-c911a061567d>\u001b[0m in \u001b[0;36m<module>\u001b[0;34m()\u001b[0m\n\u001b[0;32m----> 1\u001b[0;31m \u001b[0mLZ0\u001b[0m \u001b[0;34m=\u001b[0m \u001b[0mtest0\u001b[0m\u001b[0;34m.\u001b[0m\u001b[0mbackward\u001b[0m\u001b[0;34m(\u001b[0m\u001b[0mLA0\u001b[0m\u001b[0;34m)\u001b[0m\u001b[0;34m\u001b[0m\u001b[0;34m\u001b[0m\u001b[0m\n\u001b[0m\u001b[1;32m      2\u001b[0m \u001b[0mprint\u001b[0m\u001b[0;34m(\u001b[0m\u001b[0;34m\"-------\"\u001b[0m\u001b[0;34m)\u001b[0m\u001b[0;34m\u001b[0m\u001b[0;34m\u001b[0m\u001b[0m\n\u001b[1;32m      3\u001b[0m \u001b[0mprint\u001b[0m\u001b[0;34m(\u001b[0m\u001b[0;34m\"LZ:\"\u001b[0m\u001b[0;34m,\u001b[0m \u001b[0mLZ0\u001b[0m\u001b[0;34m)\u001b[0m\u001b[0;34m\u001b[0m\u001b[0;34m\u001b[0m\u001b[0m\n\u001b[1;32m      4\u001b[0m \u001b[0mprint\u001b[0m\u001b[0;34m(\u001b[0m\u001b[0;34m\"dW:\"\u001b[0m\u001b[0;34m,\u001b[0m \u001b[0mtest0\u001b[0m\u001b[0;34m.\u001b[0m\u001b[0mLW\u001b[0m\u001b[0;34m)\u001b[0m\u001b[0;34m\u001b[0m\u001b[0;34m\u001b[0m\u001b[0m\n\u001b[1;32m      5\u001b[0m \u001b[0mprint\u001b[0m\u001b[0;34m(\u001b[0m\u001b[0;34m\"dB:\"\u001b[0m\u001b[0;34m,\u001b[0m  \u001b[0mtest0\u001b[0m\u001b[0;34m.\u001b[0m\u001b[0mLB\u001b[0m\u001b[0;34m)\u001b[0m\u001b[0;34m\u001b[0m\u001b[0;34m\u001b[0m\u001b[0m\n",
      "\u001b[0;32m<ipython-input-21-6ece322c2d2d>\u001b[0m in \u001b[0;36mbackward\u001b[0;34m(self, LA)\u001b[0m\n\u001b[1;32m     38\u001b[0m \u001b[0;34m\u001b[0m\u001b[0m\n\u001b[1;32m     39\u001b[0m         \u001b[0;32mfor\u001b[0m \u001b[0mc\u001b[0m \u001b[0;32min\u001b[0m \u001b[0mrange\u001b[0m\u001b[0;34m(\u001b[0m\u001b[0mself\u001b[0m\u001b[0;34m.\u001b[0m\u001b[0mout_channel\u001b[0m\u001b[0;34m)\u001b[0m\u001b[0;34m:\u001b[0m\u001b[0;34m\u001b[0m\u001b[0;34m\u001b[0m\u001b[0m\n\u001b[0;32m---> 40\u001b[0;31m             \u001b[0mself\u001b[0m\u001b[0;34m.\u001b[0m\u001b[0mLW\u001b[0m\u001b[0;34m[\u001b[0m\u001b[0mc\u001b[0m\u001b[0;34m]\u001b[0m \u001b[0;34m=\u001b[0m \u001b[0mnp\u001b[0m\u001b[0;34m.\u001b[0m\u001b[0msum\u001b[0m\u001b[0;34m(\u001b[0m\u001b[0mself\u001b[0m\u001b[0;34m.\u001b[0m\u001b[0mcol\u001b[0m \u001b[0;34m*\u001b[0m \u001b[0mLA\u001b[0m\u001b[0;34m[\u001b[0m\u001b[0mc\u001b[0m\u001b[0;34m]\u001b[0m\u001b[0;34m.\u001b[0m\u001b[0mreshape\u001b[0m\u001b[0;34m(\u001b[0m\u001b[0;34m-\u001b[0m\u001b[0;36m1\u001b[0m\u001b[0;34m,\u001b[0m\u001b[0;36m1\u001b[0m\u001b[0;34m)\u001b[0m\u001b[0;34m,\u001b[0m \u001b[0maxis\u001b[0m\u001b[0;34m=\u001b[0m\u001b[0;36m0\u001b[0m\u001b[0;34m)\u001b[0m\u001b[0;34m\u001b[0m\u001b[0;34m\u001b[0m\u001b[0m\n\u001b[0m\u001b[1;32m     41\u001b[0m \u001b[0;34m\u001b[0m\u001b[0m\n\u001b[1;32m     42\u001b[0m         \u001b[0;32mfor\u001b[0m \u001b[0mc\u001b[0m \u001b[0;32min\u001b[0m \u001b[0mrange\u001b[0m\u001b[0;34m(\u001b[0m\u001b[0mself\u001b[0m\u001b[0;34m.\u001b[0m\u001b[0mout_channel\u001b[0m\u001b[0;34m)\u001b[0m\u001b[0;34m:\u001b[0m\u001b[0;34m\u001b[0m\u001b[0;34m\u001b[0m\u001b[0m\n",
      "\u001b[0;31mValueError\u001b[0m: operands could not be broadcast together with shapes (9,18) (27,1) "
     ]
    }
   ],
   "source": [
    "LZ0 = test0.backward(LA0)\n",
    "print(\"-------\")\n",
    "print(\"LZ:\", LZ0)\n",
    "print(\"dW:\", test0.LW)\n",
    "print(\"dB:\",  test0.LB)\n",
    "print(\"NewB:\", test0.B)\n",
    "print(\"NewW:\", test0.W)"
   ]
  },
  {
   "cell_type": "markdown",
   "metadata": {},
   "source": [
    "## MaxPool\n",
    "\n",
    "### for文"
   ]
  },
  {
   "cell_type": "code",
   "execution_count": 25,
   "metadata": {},
   "outputs": [],
   "source": [
    "class MaxPool2D_for:\n",
    "    def __init__(self, fsize, stride=1):\n",
    "        self.fsize = fsize\n",
    "        self.stride = stride\n",
    "        pass\n",
    "    \n",
    "    def fit(self, X):\n",
    "        \"\"\"\n",
    "        X: (チャネル数, hight, width)\n",
    "        \"\"\"\n",
    "        self.A = np.zeros((X.shape[0],\n",
    "            X.shape[1] - self.fsize[0] + 1,\n",
    "            X.shape[2] - self.fsize[1] + 1))\n",
    "        self.Aindex = np.copy(self.A)\n",
    "\n",
    "        for i in range(X.shape[0]):\n",
    "            for h in range(self.A.shape[0]):\n",
    "                for w in range(self.A.shape[1]):\n",
    "                    self.A[h, w] = np.max(X[i, h:h+self.fsize[0], w:w+self.fsize[1]])\n",
    "                    self.Aindex[h, w] = np.argmax(X[i, h:h+self.fsize[0], w:w+self.fsize[1]])\n",
    "        \n",
    "        return self.A"
   ]
  },
  {
   "cell_type": "markdown",
   "metadata": {},
   "source": [
    "### im2col"
   ]
  },
  {
   "cell_type": "code",
   "execution_count": 126,
   "metadata": {},
   "outputs": [],
   "source": [
    "class MaxPool2D:\n",
    "    def __init__(self, fsize, stride=1):\n",
    "        self.fsize = fsize\n",
    "        self.stride = stride\n",
    "        self.mask = None\n",
    "        pass\n",
    "    \n",
    "    def fit(self, X):\n",
    "        \"\"\"\n",
    "        X: (サンプル数, チャネル数, hight, width)\n",
    "        \"\"\"\n",
    "        self.col = self.im2col(X, 2, 2, 1)\n",
    "        self.A = np.max(self.col, axis=2)\n",
    "        self.Aindex = np.argmax(self.col, axis=2)\n",
    "        \n",
    "        self.A = self.A.reshape(X.shape[1], -1, self.out_H, self.out_W).transpose(1,0,2,3)\n",
    "         \n",
    "        return self.A\n",
    "    \n",
    "    def backward(self, X):\n",
    "        \"\"\"\n",
    "        X: (サンプル数, チャネル数, hight, width)\n",
    "        \"\"\"\n",
    "        X = X.transpose(1,0,2,3) #Aindexと同じ形に\n",
    "        X = X.reshape(X.shape[0], -1)\n",
    "        \n",
    "        index = np.ndarray.flatten(self.Aindex)\n",
    "        X = np.ndarray.flatten(X)\n",
    "        LZ = np.zeros(self.col.shape)\n",
    "        LZ = LZ.reshape(-1, LZ.shape[2])\n",
    "        LZ[np.arange(index.size), index] = X\n",
    "        \n",
    "        return LZ\n",
    "\n",
    "\n",
    "    def im2col(self, X, FH, FW, stride):\n",
    "        \"\"\"\n",
    "        コンボリュージョンマップを作成する\n",
    "        \"\"\"\n",
    "        N, C, H, W = X.shape\n",
    "        self.out_H = ((H - FH) // stride) + 1\n",
    "        self.out_W = ((W - FW) // stride) + 1\n",
    "        col = np.zeros([C, self.out_H * self.out_W * N, FH * FW]) \n",
    "        \n",
    "        for c in range(C):\n",
    "            for n in range(N):\n",
    "                for i in range(self.out_H):\n",
    "                    for j in range(self.out_W):\n",
    "                        patch = X[n, c , i*stride : i*stride+FH, j*stride : j*stride+FW]\n",
    "                        col[c, i*self.out_W + j, : ] = np.reshape(patch, -1)\n",
    "                    \n",
    "        return col"
   ]
  },
  {
   "cell_type": "code",
   "execution_count": 127,
   "metadata": {},
   "outputs": [
    {
     "name": "stdout",
     "output_type": "stream",
     "text": [
      "[[[[ 73.  82.]\n",
      "   [ 91. 100.]]\n",
      "\n",
      "  [[ 73.  82.]\n",
      "   [ 91. 100.]]\n",
      "\n",
      "  [[ 73.  82.]\n",
      "   [ 91. 100.]]]]\n",
      "[[3 3 3 3]\n",
      " [3 3 3 3]\n",
      " [3 3 3 3]]\n"
     ]
    }
   ],
   "source": [
    "maxpool = MaxPool2D(fsize=(2,2))\n",
    "test2 = maxpool.fit(A0)\n",
    "print(test2)\n",
    "print(maxpool.Aindex)"
   ]
  },
  {
   "cell_type": "markdown",
   "metadata": {},
   "source": [
    "## 平滑化\n",
    "\n",
    "flattenと同様の動作をする関数にnp.ravel関数があります。この関数は、flatten関数とは違い、コピーを作成しません。大きなデータで破壊的な変更をしても問題ない場合は、こちらの関数を使用することでパフォーマンスの向上が見込めます。"
   ]
  },
  {
   "cell_type": "code",
   "execution_count": 128,
   "metadata": {},
   "outputs": [],
   "source": [
    "class Flatten():\n",
    "    def __init__(self):\n",
    "        pass\n",
    "    \n",
    "    def fit(self, X):\n",
    "        \"\"\"\n",
    "        X: ３次元データを想定 (チャネル数, height, width)\n",
    "        \"\"\"\n",
    "        self.form = X.shape\n",
    "        flattend = X.reshape(X.shape[0], -1)\n",
    "        \n",
    "        return flattend\n",
    "    \n",
    "    def backward(self, X):\n",
    "        reform = X.reshape(self.form)\n",
    "        \n",
    "        return reform\n",
    "        \n",
    "        "
   ]
  },
  {
   "cell_type": "code",
   "execution_count": 129,
   "metadata": {},
   "outputs": [
    {
     "name": "stdout",
     "output_type": "stream",
     "text": [
      "[[ 73.  82.  91. 100.  73.  82.  91. 100.  73.  82.  91. 100.]]\n",
      "(1, 3, 2, 2)\n",
      "[[[[ 73.  82.]\n",
      "   [ 91. 100.]]\n",
      "\n",
      "  [[ 73.  82.]\n",
      "   [ 91. 100.]]\n",
      "\n",
      "  [[ 73.  82.]\n",
      "   [ 91. 100.]]]]\n"
     ]
    }
   ],
   "source": [
    "flat = Flatten()\n",
    "test2_flat = flat.fit(test2)\n",
    "print(test2_flat)\n",
    "print(flat.form)\n",
    "print(test2_flat.reshape(flat.form))"
   ]
  },
  {
   "cell_type": "markdown",
   "metadata": {},
   "source": [
    "## 複数サンプルテスト\n"
   ]
  },
  {
   "cell_type": "code",
   "execution_count": 130,
   "metadata": {},
   "outputs": [
    {
     "name": "stdout",
     "output_type": "stream",
     "text": [
      "(100, 3, 26, 26)\n"
     ]
    }
   ],
   "source": [
    "x = Xt_train[0:100]\n",
    "\n",
    "tests = Conv2d(OneInit(), SGD(), fsize=(3,3), in_channel=1, out_channel=3, pad=0, stride=1)\n",
    "As = tests.forward(x, init=True)\n",
    "print(As.shape)"
   ]
  },
  {
   "cell_type": "code",
   "execution_count": 131,
   "metadata": {},
   "outputs": [
    {
     "name": "stdout",
     "output_type": "stream",
     "text": [
      "(100, 3, 25, 25)\n",
      "(3, 62500)\n"
     ]
    }
   ],
   "source": [
    "maxpools = MaxPool2D(fsize=(2,2))\n",
    "tests_m = maxpools.fit(As)\n",
    "print(tests_m.shape)\n",
    "print(maxpools.Aindex.shape)"
   ]
  },
  {
   "cell_type": "code",
   "execution_count": 132,
   "metadata": {},
   "outputs": [
    {
     "name": "stdout",
     "output_type": "stream",
     "text": [
      "(100, 1875)\n"
     ]
    }
   ],
   "source": [
    "flat = Flatten()\n",
    "tests_flat = flat.fit(tests_m)\n",
    "print(tests_flat.shape)"
   ]
  },
  {
   "cell_type": "code",
   "execution_count": 133,
   "metadata": {},
   "outputs": [
    {
     "name": "stdout",
     "output_type": "stream",
     "text": [
      "(100, 3, 25, 25)\n"
     ]
    }
   ],
   "source": [
    "#バックワード\n",
    "back1 = flat.backward(tests_flat)\n",
    "print(back1.shape)"
   ]
  },
  {
   "cell_type": "code",
   "execution_count": 135,
   "metadata": {},
   "outputs": [
    {
     "data": {
      "text/plain": [
       "array([[1., 0., 0., 0.],\n",
       "       [1., 0., 0., 0.],\n",
       "       [1., 0., 0., 0.],\n",
       "       ...,\n",
       "       [0., 0., 0., 0.],\n",
       "       [0., 0., 0., 0.],\n",
       "       [0., 0., 0., 0.]])"
      ]
     },
     "execution_count": 135,
     "metadata": {},
     "output_type": "execute_result"
    }
   ],
   "source": [
    "LZ = maxpools.backward(back1)\n"
   ]
  },
  {
   "cell_type": "code",
   "execution_count": 53,
   "metadata": {},
   "outputs": [
    {
     "data": {
      "text/plain": [
       "187500"
      ]
     },
     "execution_count": 53,
     "metadata": {},
     "output_type": "execute_result"
    }
   ],
   "source": [
    "maxpools.Aindex.size"
   ]
  },
  {
   "cell_type": "code",
   "execution_count": 36,
   "metadata": {},
   "outputs": [],
   "source": [
    "for i in range(3):\n",
    "    for j in range(62500):\n",
    "        maxpools.LZ[i, j, maxpools.Aindex[i, j]] = atai[i, j]"
   ]
  },
  {
   "cell_type": "code",
   "execution_count": 37,
   "metadata": {},
   "outputs": [
    {
     "data": {
      "text/plain": [
       "array([[1., 0., 0., 0.],\n",
       "       [1., 0., 0., 0.],\n",
       "       [1., 0., 0., 0.],\n",
       "       [1., 0., 0., 0.],\n",
       "       [1., 0., 0., 0.],\n",
       "       [1., 0., 0., 0.],\n",
       "       [1., 0., 0., 0.],\n",
       "       [1., 0., 0., 0.],\n",
       "       [1., 0., 0., 0.],\n",
       "       [1., 0., 0., 0.]])"
      ]
     },
     "execution_count": 37,
     "metadata": {},
     "output_type": "execute_result"
    }
   ],
   "source": [
    "maxpools.LZ[0,0:10]"
   ]
  },
  {
   "cell_type": "code",
   "execution_count": null,
   "metadata": {},
   "outputs": [],
   "source": []
  }
 ],
 "metadata": {
  "kernelspec": {
   "display_name": "Python 3",
   "language": "python",
   "name": "python3"
  },
  "language_info": {
   "codemirror_mode": {
    "name": "ipython",
    "version": 3
   },
   "file_extension": ".py",
   "mimetype": "text/x-python",
   "name": "python",
   "nbconvert_exporter": "python",
   "pygments_lexer": "ipython3",
   "version": "3.7.2"
  },
  "toc": {
   "base_numbering": 1,
   "nav_menu": {},
   "number_sections": true,
   "sideBar": true,
   "skip_h1_title": false,
   "title_cell": "Table of Contents",
   "title_sidebar": "Contents",
   "toc_cell": false,
   "toc_position": {
    "height": "634px",
    "left": "904px",
    "top": "149px",
    "width": "244px"
   },
   "toc_section_display": true,
   "toc_window_display": true
  },
  "varInspector": {
   "cols": {
    "lenName": 16,
    "lenType": 16,
    "lenVar": 40
   },
   "kernels_config": {
    "python": {
     "delete_cmd_postfix": "",
     "delete_cmd_prefix": "del ",
     "library": "var_list.py",
     "varRefreshCmd": "print(var_dic_list())"
    },
    "r": {
     "delete_cmd_postfix": ") ",
     "delete_cmd_prefix": "rm(",
     "library": "var_list.r",
     "varRefreshCmd": "cat(var_dic_list()) "
    }
   },
   "oldHeight": 381,
   "position": {
    "height": "403px",
    "left": "838px",
    "right": "20px",
    "top": "77px",
    "width": "452px"
   },
   "types_to_exclude": [
    "module",
    "function",
    "builtin_function_or_method",
    "instance",
    "_Feature"
   ],
   "varInspector_section_display": "block",
   "window_display": false
  }
 },
 "nbformat": 4,
 "nbformat_minor": 2
}
